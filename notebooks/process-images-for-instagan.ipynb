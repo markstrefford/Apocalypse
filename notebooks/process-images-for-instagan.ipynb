{
 "cells": [
  {
   "cell_type": "markdown",
   "metadata": {},
   "source": [
    "# Process images ready for InstaGAN training\n",
    "\n",
    "* This notebook takes input in the following format:\n",
    "\n",
    "1) Cityscapes dataset\n",
    "\n",
    "`cityscapes-dataset/gtFine_trainvaltest/gtFine/train/train/<city>/<mask>` - containing the fine grain masks of cities in Germany\n",
    "`cityscapes-dataset/leftImg8bit_trainvaltest/leftImg8bit/train/<city>/<image>` - containing the correspondongimages of the city\n",
    "    \n",
    "1) Detroit video frames (target dataset)\n",
    "\n",
    "`cityscapes/sampleB/<image>` - containing the frames from the video\n",
    "`cityscapes/sampleB_seg/<mask>` - segmented masks for each of the buildings (generated from Mask_RCNN)\n",
    "    \n",
    "* It will process images in the following way:\n",
    "\n",
    "Move into the correct folder structure for InstaGan (see below)\n",
    "For the target dataset, remove any images where there is no identified buildings (and hence a blank mask)\n",
    "Rename images to be of the format ```nnnn.jpg``` and `nnnn_m.jpg` (where n is 0-9 representing the image ID, m is 0-9 representing the mask ID)\n",
    "\n",
    "* Output structure\n",
    "\n",
    "Training data will be stored in the following directory structure:\n",
    "\n",
    "`cityscapes/instagan/train/sampleA/<image>`\n",
    "`cityscapes/instagan/train/sampleA_seg/<mask>`\n",
    "`cityscapes/instagan/train/sampleB/<image>`\n",
    "`cityscapes/instagan/train/sampleB_seg/<mask>`\n",
    "\n",
    "Images that have no mask in the target dataset will be stored in:\n",
    "\n",
    "`cityscapes/instagan/no_mask/sampleB/<image>`\n"
   ]
  },
  {
   "cell_type": "code",
   "execution_count": 54,
   "metadata": {},
   "outputs": [],
   "source": [
    "import os\n",
    "from pathlib import Path\n",
    "import numpy as np\n",
    "import json\n",
    "import skimage"
   ]
  },
  {
   "cell_type": "code",
   "execution_count": 55,
   "metadata": {},
   "outputs": [],
   "source": [
    "BASE_DIR = '../../datasets'\n",
    "CITYSCAPES_DATASET_BASE = os.path.join(BASE_DIR, 'cityscapes-dataset')\n",
    "CITYSCAPES_IMAGES = os.path.join(CITYSCAPES_DATASET_BASE, 'leftImg8bit_trainvaltest/leftImg8bit/train')\n",
    "CITYSCAPES_MASKS = os.path.join(CITYSCAPES_DATASET_BASE, 'gtFine_trainvaltest/gtFine/train')\n",
    "\n",
    "DERELICT_DATASET_BASE = os.path.join(BASE_DIR, 'cityscapes')\n",
    "DERELICT_IMAGES = os.path.join(DERELICT_DATASET_BASE, 'sampleB')\n",
    "DERELICT_MASKS = os.path.join(DERELICT_DATASET_BASE, 'sampleB_seg')\n",
    "\n",
    "TRAIN_DATASET_BASE = os.path.join(BASE_DIR, 'aurora/instagan')\n",
    "TRAIN_IMAGES_A = os.path.join(TRAIN_DATASET_BASE, 'train/sampleA')\n",
    "TRAIN_MASKS_A = os.path.join(TRAIN_DATASET_BASE, 'train/sampleA_seg')\n",
    "TRAIN_IMAGES_B = os.path.join(TRAIN_DATASET_BASE, 'train/sampleB')\n",
    "TRAIN_MASKS_B = os.path.join(TRAIN_DATASET_BASE, 'train/sampleB_seg')\n",
    "\n",
    "NO_MASK_A_DATASET = os.path.join(TRAIN_DATASET_BASE, 'no_mask/sampleA')\n",
    "NO_MASK_B_DATASET = os.path.join(TRAIN_DATASET_BASE, 'no_mask/sampleB')\n"
   ]
  },
  {
   "cell_type": "markdown",
   "metadata": {},
   "source": [
    "* Check target directories exist, if not create them"
   ]
  },
  {
   "cell_type": "code",
   "execution_count": 56,
   "metadata": {},
   "outputs": [
    {
     "name": "stdout",
     "output_type": "stream",
     "text": [
      "Checking directory ../../datasets/aurora/instagan/train/sampleA exists...\n",
      "Checking directory ../../datasets/aurora/instagan/train/sampleA_seg exists...\n",
      "Checking directory ../../datasets/aurora/instagan/train/sampleB exists...\n",
      "Checking directory ../../datasets/aurora/instagan/train/sampleB_seg exists...\n",
      "Checking directory ../../datasets/aurora/instagan/no_mask/sampleA exists...\n",
      "Checking directory ../../datasets/aurora/instagan/no_mask/sampleB exists...\n"
     ]
    }
   ],
   "source": [
    "for directory in [TRAIN_IMAGES_A, TRAIN_MASKS_A, TRAIN_IMAGES_B, TRAIN_MASKS_B, NO_MASK_A_DATASET, NO_MASK_B_DATASET]:\n",
    "    print('Checking directory {} exists...'.format(directory))\n",
    "    if not Path(directory).is_dir():\n",
    "        try:\n",
    "            os.makedirs(directory)\n",
    "        except OSError:\n",
    "            print (\"...Failed to create directory!!\")\n",
    "        else:\n",
    "            print ('...Created OK!')"
   ]
  },
  {
   "cell_type": "markdown",
   "metadata": {},
   "source": [
    "* Start with Cityscapes Dataset\n",
    "\n",
    "Move from subdirectory per city to one image and one mask directory with files numbering 0000.jpg, etc"
   ]
  },
  {
   "cell_type": "code",
   "execution_count": 57,
   "metadata": {},
   "outputs": [],
   "source": [
    "import matplotlib.pyplot as plt\n",
    "from matplotlib import patches,  lines\n",
    "from matplotlib.patches import Polygon\n",
    "\n",
    "def display_images(images, titles=None, cols=4, cmap=None, norm=None,\n",
    "                   interpolation=None):\n",
    "    \"\"\"Display the given set of images, optionally with titles.\n",
    "    images: list or array of image tensors in HWC format.\n",
    "    titles: optional. A list of titles to display with each image.\n",
    "    cols: number of images per row\n",
    "    cmap: Optional. Color map to use. For example, \"Blues\".\n",
    "    norm: Optional. A Normalize instance to map values to colors.\n",
    "    interpolation: Optional. Image interpolation to use for display.\n",
    "    \"\"\"\n",
    "    titles = titles if titles is not None else [\"\"] * len(images)\n",
    "    rows = len(images) // cols + 1\n",
    "    plt.figure(figsize=(14, 14 * rows // cols))\n",
    "    i = 1\n",
    "    for image, title in zip(images, titles):\n",
    "        plt.subplot(rows, cols, i)\n",
    "        plt.title(title, fontsize=9)\n",
    "        plt.axis('off')\n",
    "        plt.imshow(image.astype(np.uint8), cmap=cmap,\n",
    "                   norm=norm, interpolation=interpolation)\n",
    "        i += 1\n",
    "    plt.show()\n",
    "\n",
    "def display_top_masks(image, mask, class_ids, class_names=['bg', 'building'], limit=4):\n",
    "    \"\"\"Display the given image and the top few class masks.\"\"\"\n",
    "    to_display = []\n",
    "    titles = []\n",
    "    to_display.append(image)\n",
    "    titles.append(\"H x W={}x{}\".format(image.shape[0], image.shape[1]))\n",
    "    # Pick top prominent classes in this image\n",
    "    unique_class_ids = np.unique(class_ids)\n",
    "    mask_area = [np.sum(mask[:, :, np.where(class_ids == i)[0]])\n",
    "                 for i in unique_class_ids]\n",
    "    top_ids = [v[0] for v in sorted(zip(unique_class_ids, mask_area),\n",
    "                                    key=lambda r: r[1], reverse=True) if v[1] > 0]\n",
    "    # Generate images and titles\n",
    "    for i in range(limit):\n",
    "        class_id = top_ids[i] if i < len(top_ids) else -1\n",
    "        # Pull masks of instances belonging to the same class.\n",
    "        m = mask[:, :, np.where(class_ids == class_id)[0]]\n",
    "        m = np.sum(m * np.arange(1, m.shape[-1] + 1), -1)\n",
    "        to_display.append(m)\n",
    "        titles.append(class_names[class_id] if class_id != -1 else \"-\")\n",
    "    display_images(to_display, titles=titles, cols=limit + 1, cmap=\"Blues_r\")"
   ]
  },
  {
   "cell_type": "code",
   "execution_count": 58,
   "metadata": {},
   "outputs": [],
   "source": [
    "def load_image(image_path):\n",
    "    \"\"\"Load the specified image and return a [H,W,3] Numpy array.\n",
    "    \"\"\"\n",
    "    # Load image\n",
    "    image = skimage.io.imread(image_path)\n",
    "    # If grayscale. Convert to RGB for consistency.\n",
    "    if image.ndim != 3:\n",
    "        image = skimage.color.gray2rgb(image)\n",
    "    # If has an alpha channel, remove it for consistency\n",
    "    if image.shape[-1] == 4:\n",
    "        image = image[..., :3]\n",
    "    return image\n",
    "    \n",
    "def load_masks(mask_dir, city, image_file):\n",
    "    \"\"\"\n",
    "    Load mask for a specified image in the cityscapes dataset\n",
    "    Code from Mask_RCNN/samples/cityscapes/cityscapes.py\n",
    "    \n",
    "    mask_dir: Top level directory containing cityscape masks (String)\n",
    "    city: Name of city for this mask (String)\n",
    "    image_file: Image name being processed (String)\n",
    "    \n",
    "    Returns np.array containing mask image\n",
    "    \"\"\"\n",
    "    \n",
    "    json_file = image_file.replace('_leftImg8bit.png', '_gtFine_polygons.json')\n",
    "    json_filepath = os.path.join(mask_dir, city, json_file)\n",
    "\n",
    "    # Load mask polygons json\n",
    "    # From https://stackoverflow.com/a/55016816/1378071 as cityscapes json wouldn't load without this!\n",
    "    with open(json_filepath, encoding='utf-8', errors='ignore') as json_data:\n",
    "        mask_json = json.load(json_data, strict=False)\n",
    "\n",
    "    h, w = mask_json['imgHeight'], mask_json['imgWidth']\n",
    "\n",
    "    # Get masks for each object\n",
    "    objects = list(mask_json['objects'])\n",
    "\n",
    "    polygons = []\n",
    "    for object in objects:\n",
    "        obj_class = object['label']\n",
    "        obj_polygons = object['polygon']\n",
    "        if obj_class == 'building' and obj_polygons != []:\n",
    "            polygon = dict()\n",
    "            all_points_y, all_points_x = [], []\n",
    "            for x, y in obj_polygons:\n",
    "                # Handle polygons outside of image area\n",
    "                x = x if x < w else w - 1\n",
    "                y = y if y < h else h - 1\n",
    "                all_points_x.append(x)\n",
    "                all_points_y.append(y)\n",
    "                polygon['all_points_y'] = all_points_y\n",
    "                polygon['all_points_x'] = all_points_x\n",
    "            polygons.append(polygon)\n",
    "            \n",
    "    mask = np.zeros((h, w, len(polygons)),\n",
    "                        dtype=np.uint8)\n",
    "    for i, p in enumerate(polygons):\n",
    "        # Get indexes of pixels inside the polygon and set them to 1\n",
    "        rr, cc = skimage.draw.polygon(p['all_points_y'], p['all_points_x'])\n",
    "        mask[rr, cc, i] = 1\n",
    "\n",
    "    # Return mask, and array of class IDs of each instance. Since we have\n",
    "    # one class ID only, we return an array of 1s\n",
    "    return mask.astype(np.bool), np.ones([mask.shape[-1]], dtype=np.int32)"
   ]
  },
  {
   "cell_type": "code",
   "execution_count": null,
   "metadata": {
    "scrolled": true
   },
   "outputs": [
    {
     "name": "stdout",
     "output_type": "stream",
     "text": [
      "Processing image ../../datasets/cityscapes-dataset/leftImg8bit_trainvaltest/leftImg8bit/train/zurich/zurich_000069_000019_leftImg8bit.png\n",
      "Processing image ../../datasets/cityscapes-dataset/leftImg8bit_trainvaltest/leftImg8bit/train/zurich/zurich_000063_000019_leftImg8bit.png\n",
      "Processing image ../../datasets/cityscapes-dataset/leftImg8bit_trainvaltest/leftImg8bit/train/zurich/zurich_000110_000019_leftImg8bit.png\n",
      "Processing image ../../datasets/cityscapes-dataset/leftImg8bit_trainvaltest/leftImg8bit/train/zurich/zurich_000016_000019_leftImg8bit.png\n",
      "Processing image ../../datasets/cityscapes-dataset/leftImg8bit_trainvaltest/leftImg8bit/train/zurich/zurich_000027_000019_leftImg8bit.png\n",
      "Processing image ../../datasets/cityscapes-dataset/leftImg8bit_trainvaltest/leftImg8bit/train/zurich/zurich_000052_000019_leftImg8bit.png\n",
      "Processing image ../../datasets/cityscapes-dataset/leftImg8bit_trainvaltest/leftImg8bit/train/zurich/zurich_000121_000019_leftImg8bit.png\n",
      "Processing image ../../datasets/cityscapes-dataset/leftImg8bit_trainvaltest/leftImg8bit/train/zurich/zurich_000093_000019_leftImg8bit.png\n",
      "Processing image ../../datasets/cityscapes-dataset/leftImg8bit_trainvaltest/leftImg8bit/train/zurich/zurich_000058_000019_leftImg8bit.png\n",
      "Processing image ../../datasets/cityscapes-dataset/leftImg8bit_trainvaltest/leftImg8bit/train/zurich/zurich_000099_000019_leftImg8bit.png\n",
      "Processing image ../../datasets/cityscapes-dataset/leftImg8bit_trainvaltest/leftImg8bit/train/zurich/zurich_000064_000019_leftImg8bit.png\n"
     ]
    },
    {
     "name": "stderr",
     "output_type": "stream",
     "text": [
      "/usr/local/lib/python3.7/site-packages/skimage/io/_io.py:142: UserWarning: ../../datasets/aurora/instagan/train/sampleA_seg/10_0.png is a boolean image: setting True to 1 and False to 0\n",
      "  warn('%s is a boolean image: setting True to 1 and False to 0' % fname)\n",
      "/usr/local/lib/python3.7/site-packages/skimage/io/_io.py:142: UserWarning: ../../datasets/aurora/instagan/train/sampleA_seg/10_1.png is a boolean image: setting True to 1 and False to 0\n",
      "  warn('%s is a boolean image: setting True to 1 and False to 0' % fname)\n",
      "/usr/local/lib/python3.7/site-packages/skimage/io/_io.py:142: UserWarning: ../../datasets/aurora/instagan/train/sampleA_seg/10_2.png is a boolean image: setting True to 1 and False to 0\n",
      "  warn('%s is a boolean image: setting True to 1 and False to 0' % fname)\n",
      "/usr/local/lib/python3.7/site-packages/skimage/io/_io.py:142: UserWarning: ../../datasets/aurora/instagan/train/sampleA_seg/10_3.png is a boolean image: setting True to 1 and False to 0\n",
      "  warn('%s is a boolean image: setting True to 1 and False to 0' % fname)\n"
     ]
    },
    {
     "name": "stdout",
     "output_type": "stream",
     "text": [
      "Processing image ../../datasets/cityscapes-dataset/leftImg8bit_trainvaltest/leftImg8bit/train/zurich/zurich_000117_000019_leftImg8bit.png\n"
     ]
    },
    {
     "name": "stderr",
     "output_type": "stream",
     "text": [
      "/usr/local/lib/python3.7/site-packages/skimage/io/_io.py:140: UserWarning: ../../datasets/aurora/instagan/train/sampleA_seg/11_0.png is a low contrast image\n",
      "  warn('%s is a low contrast image' % fname)\n",
      "/usr/local/lib/python3.7/site-packages/skimage/io/_io.py:142: UserWarning: ../../datasets/aurora/instagan/train/sampleA_seg/11_0.png is a boolean image: setting True to 1 and False to 0\n",
      "  warn('%s is a boolean image: setting True to 1 and False to 0' % fname)\n",
      "/usr/local/lib/python3.7/site-packages/skimage/io/_io.py:140: UserWarning: ../../datasets/aurora/instagan/train/sampleA_seg/11_1.png is a low contrast image\n",
      "  warn('%s is a low contrast image' % fname)\n",
      "/usr/local/lib/python3.7/site-packages/skimage/io/_io.py:142: UserWarning: ../../datasets/aurora/instagan/train/sampleA_seg/11_1.png is a boolean image: setting True to 1 and False to 0\n",
      "  warn('%s is a boolean image: setting True to 1 and False to 0' % fname)\n",
      "/usr/local/lib/python3.7/site-packages/skimage/io/_io.py:142: UserWarning: ../../datasets/aurora/instagan/train/sampleA_seg/11_2.png is a boolean image: setting True to 1 and False to 0\n",
      "  warn('%s is a boolean image: setting True to 1 and False to 0' % fname)\n"
     ]
    },
    {
     "name": "stdout",
     "output_type": "stream",
     "text": [
      "Processing image ../../datasets/cityscapes-dataset/leftImg8bit_trainvaltest/leftImg8bit/train/zurich/zurich_000011_000019_leftImg8bit.png\n"
     ]
    },
    {
     "name": "stderr",
     "output_type": "stream",
     "text": [
      "/usr/local/lib/python3.7/site-packages/skimage/io/_io.py:142: UserWarning: ../../datasets/aurora/instagan/train/sampleA_seg/12_0.png is a boolean image: setting True to 1 and False to 0\n",
      "  warn('%s is a boolean image: setting True to 1 and False to 0' % fname)\n",
      "/usr/local/lib/python3.7/site-packages/skimage/io/_io.py:142: UserWarning: ../../datasets/aurora/instagan/train/sampleA_seg/12_1.png is a boolean image: setting True to 1 and False to 0\n",
      "  warn('%s is a boolean image: setting True to 1 and False to 0' % fname)\n"
     ]
    },
    {
     "name": "stdout",
     "output_type": "stream",
     "text": [
      "Processing image ../../datasets/cityscapes-dataset/leftImg8bit_trainvaltest/leftImg8bit/train/zurich/zurich_000020_000019_leftImg8bit.png\n"
     ]
    },
    {
     "name": "stderr",
     "output_type": "stream",
     "text": [
      "/usr/local/lib/python3.7/site-packages/skimage/io/_io.py:142: UserWarning: ../../datasets/aurora/instagan/train/sampleA_seg/13_0.png is a boolean image: setting True to 1 and False to 0\n",
      "  warn('%s is a boolean image: setting True to 1 and False to 0' % fname)\n"
     ]
    },
    {
     "name": "stdout",
     "output_type": "stream",
     "text": [
      "Processing image ../../datasets/cityscapes-dataset/leftImg8bit_trainvaltest/leftImg8bit/train/zurich/zurich_000055_000019_leftImg8bit.png\n"
     ]
    },
    {
     "name": "stderr",
     "output_type": "stream",
     "text": [
      "/usr/local/lib/python3.7/site-packages/skimage/io/_io.py:142: UserWarning: ../../datasets/aurora/instagan/train/sampleA_seg/14_0.png is a boolean image: setting True to 1 and False to 0\n",
      "  warn('%s is a boolean image: setting True to 1 and False to 0' % fname)\n",
      "/usr/local/lib/python3.7/site-packages/skimage/io/_io.py:142: UserWarning: ../../datasets/aurora/instagan/train/sampleA_seg/14_1.png is a boolean image: setting True to 1 and False to 0\n",
      "  warn('%s is a boolean image: setting True to 1 and False to 0' % fname)\n",
      "/usr/local/lib/python3.7/site-packages/skimage/io/_io.py:142: UserWarning: ../../datasets/aurora/instagan/train/sampleA_seg/14_2.png is a boolean image: setting True to 1 and False to 0\n",
      "  warn('%s is a boolean image: setting True to 1 and False to 0' % fname)\n",
      "/usr/local/lib/python3.7/site-packages/skimage/io/_io.py:142: UserWarning: ../../datasets/aurora/instagan/train/sampleA_seg/14_3.png is a boolean image: setting True to 1 and False to 0\n",
      "  warn('%s is a boolean image: setting True to 1 and False to 0' % fname)\n"
     ]
    },
    {
     "name": "stdout",
     "output_type": "stream",
     "text": [
      "Processing image ../../datasets/cityscapes-dataset/leftImg8bit_trainvaltest/leftImg8bit/train/zurich/zurich_000094_000019_leftImg8bit.png\n"
     ]
    },
    {
     "name": "stderr",
     "output_type": "stream",
     "text": [
      "/usr/local/lib/python3.7/site-packages/skimage/io/_io.py:142: UserWarning: ../../datasets/aurora/instagan/train/sampleA_seg/15_0.png is a boolean image: setting True to 1 and False to 0\n",
      "  warn('%s is a boolean image: setting True to 1 and False to 0' % fname)\n",
      "/usr/local/lib/python3.7/site-packages/skimage/io/_io.py:142: UserWarning: ../../datasets/aurora/instagan/train/sampleA_seg/15_1.png is a boolean image: setting True to 1 and False to 0\n",
      "  warn('%s is a boolean image: setting True to 1 and False to 0' % fname)\n"
     ]
    },
    {
     "name": "stdout",
     "output_type": "stream",
     "text": [
      "Processing image ../../datasets/cityscapes-dataset/leftImg8bit_trainvaltest/leftImg8bit/train/zurich/zurich_000012_000019_leftImg8bit.png\n"
     ]
    },
    {
     "name": "stderr",
     "output_type": "stream",
     "text": [
      "/usr/local/lib/python3.7/site-packages/skimage/io/_io.py:142: UserWarning: ../../datasets/aurora/instagan/train/sampleA_seg/16_0.png is a boolean image: setting True to 1 and False to 0\n",
      "  warn('%s is a boolean image: setting True to 1 and False to 0' % fname)\n",
      "/usr/local/lib/python3.7/site-packages/skimage/io/_io.py:142: UserWarning: ../../datasets/aurora/instagan/train/sampleA_seg/16_1.png is a boolean image: setting True to 1 and False to 0\n",
      "  warn('%s is a boolean image: setting True to 1 and False to 0' % fname)\n"
     ]
    },
    {
     "name": "stdout",
     "output_type": "stream",
     "text": [
      "Processing image ../../datasets/cityscapes-dataset/leftImg8bit_trainvaltest/leftImg8bit/train/zurich/zurich_000114_000019_leftImg8bit.png\n"
     ]
    },
    {
     "name": "stderr",
     "output_type": "stream",
     "text": [
      "/usr/local/lib/python3.7/site-packages/skimage/io/_io.py:142: UserWarning: ../../datasets/aurora/instagan/train/sampleA_seg/17_0.png is a boolean image: setting True to 1 and False to 0\n",
      "  warn('%s is a boolean image: setting True to 1 and False to 0' % fname)\n",
      "/usr/local/lib/python3.7/site-packages/skimage/io/_io.py:140: UserWarning: ../../datasets/aurora/instagan/train/sampleA_seg/17_1.png is a low contrast image\n",
      "  warn('%s is a low contrast image' % fname)\n",
      "/usr/local/lib/python3.7/site-packages/skimage/io/_io.py:142: UserWarning: ../../datasets/aurora/instagan/train/sampleA_seg/17_1.png is a boolean image: setting True to 1 and False to 0\n",
      "  warn('%s is a boolean image: setting True to 1 and False to 0' % fname)\n",
      "/usr/local/lib/python3.7/site-packages/skimage/io/_io.py:140: UserWarning: ../../datasets/aurora/instagan/train/sampleA_seg/17_2.png is a low contrast image\n",
      "  warn('%s is a low contrast image' % fname)\n",
      "/usr/local/lib/python3.7/site-packages/skimage/io/_io.py:142: UserWarning: ../../datasets/aurora/instagan/train/sampleA_seg/17_2.png is a boolean image: setting True to 1 and False to 0\n",
      "  warn('%s is a boolean image: setting True to 1 and False to 0' % fname)\n"
     ]
    },
    {
     "name": "stdout",
     "output_type": "stream",
     "text": [
      "Processing image ../../datasets/cityscapes-dataset/leftImg8bit_trainvaltest/leftImg8bit/train/zurich/zurich_000067_000019_leftImg8bit.png\n"
     ]
    },
    {
     "name": "stderr",
     "output_type": "stream",
     "text": [
      "/usr/local/lib/python3.7/site-packages/skimage/io/_io.py:142: UserWarning: ../../datasets/aurora/instagan/train/sampleA_seg/18_0.png is a boolean image: setting True to 1 and False to 0\n",
      "  warn('%s is a boolean image: setting True to 1 and False to 0' % fname)\n"
     ]
    },
    {
     "name": "stdout",
     "output_type": "stream",
     "text": [
      "Processing image ../../datasets/cityscapes-dataset/leftImg8bit_trainvaltest/leftImg8bit/train/zurich/zurich_000018_000019_leftImg8bit.png\n"
     ]
    },
    {
     "name": "stderr",
     "output_type": "stream",
     "text": [
      "/usr/local/lib/python3.7/site-packages/skimage/io/_io.py:142: UserWarning: ../../datasets/aurora/instagan/train/sampleA_seg/19_0.png is a boolean image: setting True to 1 and False to 0\n",
      "  warn('%s is a boolean image: setting True to 1 and False to 0' % fname)\n"
     ]
    },
    {
     "name": "stdout",
     "output_type": "stream",
     "text": [
      "Processing image ../../datasets/cityscapes-dataset/leftImg8bit_trainvaltest/leftImg8bit/train/zurich/zurich_000029_000019_leftImg8bit.png\n"
     ]
    },
    {
     "name": "stderr",
     "output_type": "stream",
     "text": [
      "/usr/local/lib/python3.7/site-packages/skimage/io/_io.py:142: UserWarning: ../../datasets/aurora/instagan/train/sampleA_seg/20_0.png is a boolean image: setting True to 1 and False to 0\n",
      "  warn('%s is a boolean image: setting True to 1 and False to 0' % fname)\n"
     ]
    },
    {
     "name": "stdout",
     "output_type": "stream",
     "text": [
      "Processing image ../../datasets/cityscapes-dataset/leftImg8bit_trainvaltest/leftImg8bit/train/zurich/zurich_000056_000019_leftImg8bit.png\n"
     ]
    },
    {
     "name": "stderr",
     "output_type": "stream",
     "text": [
      "/usr/local/lib/python3.7/site-packages/skimage/io/_io.py:140: UserWarning: ../../datasets/aurora/instagan/train/sampleA_seg/21_0.png is a low contrast image\n",
      "  warn('%s is a low contrast image' % fname)\n",
      "/usr/local/lib/python3.7/site-packages/skimage/io/_io.py:142: UserWarning: ../../datasets/aurora/instagan/train/sampleA_seg/21_0.png is a boolean image: setting True to 1 and False to 0\n",
      "  warn('%s is a boolean image: setting True to 1 and False to 0' % fname)\n",
      "/usr/local/lib/python3.7/site-packages/skimage/io/_io.py:142: UserWarning: ../../datasets/aurora/instagan/train/sampleA_seg/21_1.png is a boolean image: setting True to 1 and False to 0\n",
      "  warn('%s is a boolean image: setting True to 1 and False to 0' % fname)\n",
      "/usr/local/lib/python3.7/site-packages/skimage/io/_io.py:142: UserWarning: ../../datasets/aurora/instagan/train/sampleA_seg/21_2.png is a boolean image: setting True to 1 and False to 0\n",
      "  warn('%s is a boolean image: setting True to 1 and False to 0' % fname)\n",
      "/usr/local/lib/python3.7/site-packages/skimage/io/_io.py:142: UserWarning: ../../datasets/aurora/instagan/train/sampleA_seg/21_3.png is a boolean image: setting True to 1 and False to 0\n",
      "  warn('%s is a boolean image: setting True to 1 and False to 0' % fname)\n"
     ]
    },
    {
     "name": "stdout",
     "output_type": "stream",
     "text": [
      "Processing image ../../datasets/cityscapes-dataset/leftImg8bit_trainvaltest/leftImg8bit/train/zurich/zurich_000097_000019_leftImg8bit.png\n"
     ]
    },
    {
     "name": "stderr",
     "output_type": "stream",
     "text": [
      "/usr/local/lib/python3.7/site-packages/skimage/io/_io.py:140: UserWarning: ../../datasets/aurora/instagan/train/sampleA_seg/22_0.png is a low contrast image\n",
      "  warn('%s is a low contrast image' % fname)\n",
      "/usr/local/lib/python3.7/site-packages/skimage/io/_io.py:142: UserWarning: ../../datasets/aurora/instagan/train/sampleA_seg/22_0.png is a boolean image: setting True to 1 and False to 0\n",
      "  warn('%s is a boolean image: setting True to 1 and False to 0' % fname)\n",
      "/usr/local/lib/python3.7/site-packages/skimage/io/_io.py:142: UserWarning: ../../datasets/aurora/instagan/train/sampleA_seg/22_1.png is a boolean image: setting True to 1 and False to 0\n",
      "  warn('%s is a boolean image: setting True to 1 and False to 0' % fname)\n",
      "/usr/local/lib/python3.7/site-packages/skimage/io/_io.py:142: UserWarning: ../../datasets/aurora/instagan/train/sampleA_seg/22_2.png is a boolean image: setting True to 1 and False to 0\n",
      "  warn('%s is a boolean image: setting True to 1 and False to 0' % fname)\n",
      "/usr/local/lib/python3.7/site-packages/skimage/io/_io.py:140: UserWarning: ../../datasets/aurora/instagan/train/sampleA_seg/22_3.png is a low contrast image\n",
      "  warn('%s is a low contrast image' % fname)\n",
      "/usr/local/lib/python3.7/site-packages/skimage/io/_io.py:142: UserWarning: ../../datasets/aurora/instagan/train/sampleA_seg/22_3.png is a boolean image: setting True to 1 and False to 0\n",
      "  warn('%s is a boolean image: setting True to 1 and False to 0' % fname)\n"
     ]
    },
    {
     "name": "stdout",
     "output_type": "stream",
     "text": [
      "Processing image ../../datasets/cityscapes-dataset/leftImg8bit_trainvaltest/leftImg8bit/train/zurich/zurich_000023_000019_leftImg8bit.png\n"
     ]
    },
    {
     "name": "stderr",
     "output_type": "stream",
     "text": [
      "/usr/local/lib/python3.7/site-packages/skimage/io/_io.py:142: UserWarning: ../../datasets/aurora/instagan/train/sampleA_seg/23_0.png is a boolean image: setting True to 1 and False to 0\n",
      "  warn('%s is a boolean image: setting True to 1 and False to 0' % fname)\n",
      "/usr/local/lib/python3.7/site-packages/skimage/io/_io.py:142: UserWarning: ../../datasets/aurora/instagan/train/sampleA_seg/23_1.png is a boolean image: setting True to 1 and False to 0\n",
      "  warn('%s is a boolean image: setting True to 1 and False to 0' % fname)\n",
      "/usr/local/lib/python3.7/site-packages/skimage/io/_io.py:140: UserWarning: ../../datasets/aurora/instagan/train/sampleA_seg/23_2.png is a low contrast image\n",
      "  warn('%s is a low contrast image' % fname)\n",
      "/usr/local/lib/python3.7/site-packages/skimage/io/_io.py:142: UserWarning: ../../datasets/aurora/instagan/train/sampleA_seg/23_2.png is a boolean image: setting True to 1 and False to 0\n",
      "  warn('%s is a boolean image: setting True to 1 and False to 0' % fname)\n"
     ]
    },
    {
     "name": "stdout",
     "output_type": "stream",
     "text": [
      "Processing image ../../datasets/cityscapes-dataset/leftImg8bit_trainvaltest/leftImg8bit/train/zurich/zurich_000015_000019_leftImg8bit.png\n"
     ]
    },
    {
     "name": "stderr",
     "output_type": "stream",
     "text": [
      "/usr/local/lib/python3.7/site-packages/skimage/io/_io.py:142: UserWarning: ../../datasets/aurora/instagan/train/sampleA_seg/24_0.png is a boolean image: setting True to 1 and False to 0\n",
      "  warn('%s is a boolean image: setting True to 1 and False to 0' % fname)\n",
      "/usr/local/lib/python3.7/site-packages/skimage/io/_io.py:142: UserWarning: ../../datasets/aurora/instagan/train/sampleA_seg/24_1.png is a boolean image: setting True to 1 and False to 0\n",
      "  warn('%s is a boolean image: setting True to 1 and False to 0' % fname)\n"
     ]
    },
    {
     "name": "stdout",
     "output_type": "stream",
     "text": [
      "Processing image ../../datasets/cityscapes-dataset/leftImg8bit_trainvaltest/leftImg8bit/train/zurich/zurich_000113_000019_leftImg8bit.png\n"
     ]
    },
    {
     "name": "stderr",
     "output_type": "stream",
     "text": [
      "/usr/local/lib/python3.7/site-packages/skimage/io/_io.py:142: UserWarning: ../../datasets/aurora/instagan/train/sampleA_seg/25_0.png is a boolean image: setting True to 1 and False to 0\n",
      "  warn('%s is a boolean image: setting True to 1 and False to 0' % fname)\n"
     ]
    },
    {
     "name": "stdout",
     "output_type": "stream",
     "text": [
      "Processing image ../../datasets/cityscapes-dataset/leftImg8bit_trainvaltest/leftImg8bit/train/zurich/zurich_000060_000019_leftImg8bit.png\n"
     ]
    },
    {
     "name": "stderr",
     "output_type": "stream",
     "text": [
      "/usr/local/lib/python3.7/site-packages/skimage/io/_io.py:142: UserWarning: ../../datasets/aurora/instagan/train/sampleA_seg/26_0.png is a boolean image: setting True to 1 and False to 0\n",
      "  warn('%s is a boolean image: setting True to 1 and False to 0' % fname)\n",
      "/usr/local/lib/python3.7/site-packages/skimage/io/_io.py:142: UserWarning: ../../datasets/aurora/instagan/train/sampleA_seg/26_1.png is a boolean image: setting True to 1 and False to 0\n",
      "  warn('%s is a boolean image: setting True to 1 and False to 0' % fname)\n",
      "/usr/local/lib/python3.7/site-packages/skimage/io/_io.py:142: UserWarning: ../../datasets/aurora/instagan/train/sampleA_seg/26_2.png is a boolean image: setting True to 1 and False to 0\n",
      "  warn('%s is a boolean image: setting True to 1 and False to 0' % fname)\n"
     ]
    },
    {
     "name": "stdout",
     "output_type": "stream",
     "text": [
      "Processing image ../../datasets/cityscapes-dataset/leftImg8bit_trainvaltest/leftImg8bit/train/zurich/zurich_000119_000019_leftImg8bit.png\n"
     ]
    },
    {
     "name": "stderr",
     "output_type": "stream",
     "text": [
      "/usr/local/lib/python3.7/site-packages/skimage/io/_io.py:142: UserWarning: ../../datasets/aurora/instagan/train/sampleA_seg/27_0.png is a boolean image: setting True to 1 and False to 0\n",
      "  warn('%s is a boolean image: setting True to 1 and False to 0' % fname)\n",
      "/usr/local/lib/python3.7/site-packages/skimage/io/_io.py:140: UserWarning: ../../datasets/aurora/instagan/train/sampleA_seg/27_1.png is a low contrast image\n",
      "  warn('%s is a low contrast image' % fname)\n",
      "/usr/local/lib/python3.7/site-packages/skimage/io/_io.py:142: UserWarning: ../../datasets/aurora/instagan/train/sampleA_seg/27_1.png is a boolean image: setting True to 1 and False to 0\n",
      "  warn('%s is a boolean image: setting True to 1 and False to 0' % fname)\n",
      "/usr/local/lib/python3.7/site-packages/skimage/io/_io.py:140: UserWarning: ../../datasets/aurora/instagan/train/sampleA_seg/27_2.png is a low contrast image\n",
      "  warn('%s is a low contrast image' % fname)\n",
      "/usr/local/lib/python3.7/site-packages/skimage/io/_io.py:142: UserWarning: ../../datasets/aurora/instagan/train/sampleA_seg/27_2.png is a boolean image: setting True to 1 and False to 0\n",
      "  warn('%s is a boolean image: setting True to 1 and False to 0' % fname)\n",
      "/usr/local/lib/python3.7/site-packages/skimage/io/_io.py:142: UserWarning: ../../datasets/aurora/instagan/train/sampleA_seg/27_3.png is a boolean image: setting True to 1 and False to 0\n",
      "  warn('%s is a boolean image: setting True to 1 and False to 0' % fname)\n",
      "/usr/local/lib/python3.7/site-packages/skimage/io/_io.py:142: UserWarning: ../../datasets/aurora/instagan/train/sampleA_seg/27_4.png is a boolean image: setting True to 1 and False to 0\n",
      "  warn('%s is a boolean image: setting True to 1 and False to 0' % fname)\n"
     ]
    },
    {
     "name": "stdout",
     "output_type": "stream",
     "text": [
      "Processing image ../../datasets/cityscapes-dataset/leftImg8bit_trainvaltest/leftImg8bit/train/zurich/zurich_000051_000019_leftImg8bit.png\n"
     ]
    },
    {
     "name": "stderr",
     "output_type": "stream",
     "text": [
      "/usr/local/lib/python3.7/site-packages/skimage/io/_io.py:142: UserWarning: ../../datasets/aurora/instagan/train/sampleA_seg/28_0.png is a boolean image: setting True to 1 and False to 0\n",
      "  warn('%s is a boolean image: setting True to 1 and False to 0' % fname)\n",
      "/usr/local/lib/python3.7/site-packages/skimage/io/_io.py:142: UserWarning: ../../datasets/aurora/instagan/train/sampleA_seg/28_1.png is a boolean image: setting True to 1 and False to 0\n",
      "  warn('%s is a boolean image: setting True to 1 and False to 0' % fname)\n",
      "/usr/local/lib/python3.7/site-packages/skimage/io/_io.py:142: UserWarning: ../../datasets/aurora/instagan/train/sampleA_seg/28_2.png is a boolean image: setting True to 1 and False to 0\n",
      "  warn('%s is a boolean image: setting True to 1 and False to 0' % fname)\n",
      "/usr/local/lib/python3.7/site-packages/skimage/io/_io.py:140: UserWarning: ../../datasets/aurora/instagan/train/sampleA_seg/28_3.png is a low contrast image\n",
      "  warn('%s is a low contrast image' % fname)\n",
      "/usr/local/lib/python3.7/site-packages/skimage/io/_io.py:142: UserWarning: ../../datasets/aurora/instagan/train/sampleA_seg/28_3.png is a boolean image: setting True to 1 and False to 0\n",
      "  warn('%s is a boolean image: setting True to 1 and False to 0' % fname)\n",
      "/usr/local/lib/python3.7/site-packages/skimage/io/_io.py:142: UserWarning: ../../datasets/aurora/instagan/train/sampleA_seg/28_4.png is a boolean image: setting True to 1 and False to 0\n",
      "  warn('%s is a boolean image: setting True to 1 and False to 0' % fname)\n",
      "/usr/local/lib/python3.7/site-packages/skimage/io/_io.py:142: UserWarning: ../../datasets/aurora/instagan/train/sampleA_seg/28_5.png is a boolean image: setting True to 1 and False to 0\n",
      "  warn('%s is a boolean image: setting True to 1 and False to 0' % fname)\n"
     ]
    },
    {
     "name": "stdout",
     "output_type": "stream",
     "text": [
      "Processing image ../../datasets/cityscapes-dataset/leftImg8bit_trainvaltest/leftImg8bit/train/zurich/zurich_000090_000019_leftImg8bit.png\n"
     ]
    },
    {
     "name": "stderr",
     "output_type": "stream",
     "text": [
      "/usr/local/lib/python3.7/site-packages/skimage/io/_io.py:142: UserWarning: ../../datasets/aurora/instagan/train/sampleA_seg/29_0.png is a boolean image: setting True to 1 and False to 0\n",
      "  warn('%s is a boolean image: setting True to 1 and False to 0' % fname)\n",
      "/usr/local/lib/python3.7/site-packages/skimage/io/_io.py:142: UserWarning: ../../datasets/aurora/instagan/train/sampleA_seg/29_1.png is a boolean image: setting True to 1 and False to 0\n",
      "  warn('%s is a boolean image: setting True to 1 and False to 0' % fname)\n",
      "/usr/local/lib/python3.7/site-packages/skimage/io/_io.py:142: UserWarning: ../../datasets/aurora/instagan/train/sampleA_seg/29_2.png is a boolean image: setting True to 1 and False to 0\n",
      "  warn('%s is a boolean image: setting True to 1 and False to 0' % fname)\n",
      "/usr/local/lib/python3.7/site-packages/skimage/io/_io.py:142: UserWarning: ../../datasets/aurora/instagan/train/sampleA_seg/29_3.png is a boolean image: setting True to 1 and False to 0\n",
      "  warn('%s is a boolean image: setting True to 1 and False to 0' % fname)\n"
     ]
    },
    {
     "name": "stdout",
     "output_type": "stream",
     "text": [
      "Processing image ../../datasets/cityscapes-dataset/leftImg8bit_trainvaltest/leftImg8bit/train/zurich/zurich_000024_000019_leftImg8bit.png\n"
     ]
    },
    {
     "name": "stderr",
     "output_type": "stream",
     "text": [
      "/usr/local/lib/python3.7/site-packages/skimage/io/_io.py:142: UserWarning: ../../datasets/aurora/instagan/train/sampleA_seg/30_0.png is a boolean image: setting True to 1 and False to 0\n",
      "  warn('%s is a boolean image: setting True to 1 and False to 0' % fname)\n"
     ]
    },
    {
     "name": "stdout",
     "output_type": "stream",
     "text": [
      "Processing image ../../datasets/cityscapes-dataset/leftImg8bit_trainvaltest/leftImg8bit/train/zurich/zurich_000091_000019_leftImg8bit.png\n"
     ]
    },
    {
     "name": "stderr",
     "output_type": "stream",
     "text": [
      "/usr/local/lib/python3.7/site-packages/skimage/io/_io.py:142: UserWarning: ../../datasets/aurora/instagan/train/sampleA_seg/31_0.png is a boolean image: setting True to 1 and False to 0\n",
      "  warn('%s is a boolean image: setting True to 1 and False to 0' % fname)\n",
      "/usr/local/lib/python3.7/site-packages/skimage/io/_io.py:142: UserWarning: ../../datasets/aurora/instagan/train/sampleA_seg/31_1.png is a boolean image: setting True to 1 and False to 0\n",
      "  warn('%s is a boolean image: setting True to 1 and False to 0' % fname)\n",
      "/usr/local/lib/python3.7/site-packages/skimage/io/_io.py:142: UserWarning: ../../datasets/aurora/instagan/train/sampleA_seg/31_2.png is a boolean image: setting True to 1 and False to 0\n",
      "  warn('%s is a boolean image: setting True to 1 and False to 0' % fname)\n"
     ]
    },
    {
     "name": "stdout",
     "output_type": "stream",
     "text": [
      "Processing image ../../datasets/cityscapes-dataset/leftImg8bit_trainvaltest/leftImg8bit/train/zurich/zurich_000050_000019_leftImg8bit.png\n"
     ]
    },
    {
     "name": "stderr",
     "output_type": "stream",
     "text": [
      "/usr/local/lib/python3.7/site-packages/skimage/io/_io.py:142: UserWarning: ../../datasets/aurora/instagan/train/sampleA_seg/32_0.png is a boolean image: setting True to 1 and False to 0\n",
      "  warn('%s is a boolean image: setting True to 1 and False to 0' % fname)\n",
      "/usr/local/lib/python3.7/site-packages/skimage/io/_io.py:142: UserWarning: ../../datasets/aurora/instagan/train/sampleA_seg/32_1.png is a boolean image: setting True to 1 and False to 0\n",
      "  warn('%s is a boolean image: setting True to 1 and False to 0' % fname)\n"
     ]
    },
    {
     "name": "stdout",
     "output_type": "stream",
     "text": [
      "Processing image ../../datasets/cityscapes-dataset/leftImg8bit_trainvaltest/leftImg8bit/train/zurich/zurich_000025_000019_leftImg8bit.png\n"
     ]
    },
    {
     "name": "stderr",
     "output_type": "stream",
     "text": [
      "/usr/local/lib/python3.7/site-packages/skimage/io/_io.py:142: UserWarning: ../../datasets/aurora/instagan/train/sampleA_seg/33_0.png is a boolean image: setting True to 1 and False to 0\n",
      "  warn('%s is a boolean image: setting True to 1 and False to 0' % fname)\n"
     ]
    },
    {
     "name": "stdout",
     "output_type": "stream",
     "text": [
      "Processing image ../../datasets/cityscapes-dataset/leftImg8bit_trainvaltest/leftImg8bit/train/zurich/zurich_000118_000019_leftImg8bit.png\n"
     ]
    },
    {
     "name": "stderr",
     "output_type": "stream",
     "text": [
      "/usr/local/lib/python3.7/site-packages/skimage/io/_io.py:140: UserWarning: ../../datasets/aurora/instagan/train/sampleA_seg/34_0.png is a low contrast image\n",
      "  warn('%s is a low contrast image' % fname)\n",
      "/usr/local/lib/python3.7/site-packages/skimage/io/_io.py:142: UserWarning: ../../datasets/aurora/instagan/train/sampleA_seg/34_0.png is a boolean image: setting True to 1 and False to 0\n",
      "  warn('%s is a boolean image: setting True to 1 and False to 0' % fname)\n",
      "/usr/local/lib/python3.7/site-packages/skimage/io/_io.py:142: UserWarning: ../../datasets/aurora/instagan/train/sampleA_seg/34_1.png is a boolean image: setting True to 1 and False to 0\n",
      "  warn('%s is a boolean image: setting True to 1 and False to 0' % fname)\n",
      "/usr/local/lib/python3.7/site-packages/skimage/io/_io.py:142: UserWarning: ../../datasets/aurora/instagan/train/sampleA_seg/34_2.png is a boolean image: setting True to 1 and False to 0\n",
      "  warn('%s is a boolean image: setting True to 1 and False to 0' % fname)\n",
      "/usr/local/lib/python3.7/site-packages/skimage/io/_io.py:142: UserWarning: ../../datasets/aurora/instagan/train/sampleA_seg/34_3.png is a boolean image: setting True to 1 and False to 0\n",
      "  warn('%s is a boolean image: setting True to 1 and False to 0' % fname)\n"
     ]
    },
    {
     "name": "stdout",
     "output_type": "stream",
     "text": [
      "Processing image ../../datasets/cityscapes-dataset/leftImg8bit_trainvaltest/leftImg8bit/train/zurich/zurich_000014_000019_leftImg8bit.png\n"
     ]
    },
    {
     "name": "stderr",
     "output_type": "stream",
     "text": [
      "/usr/local/lib/python3.7/site-packages/skimage/io/_io.py:142: UserWarning: ../../datasets/aurora/instagan/train/sampleA_seg/35_0.png is a boolean image: setting True to 1 and False to 0\n",
      "  warn('%s is a boolean image: setting True to 1 and False to 0' % fname)\n"
     ]
    },
    {
     "name": "stdout",
     "output_type": "stream",
     "text": [
      "Processing image ../../datasets/cityscapes-dataset/leftImg8bit_trainvaltest/leftImg8bit/train/zurich/zurich_000061_000019_leftImg8bit.png\n"
     ]
    },
    {
     "name": "stderr",
     "output_type": "stream",
     "text": [
      "/usr/local/lib/python3.7/site-packages/skimage/io/_io.py:142: UserWarning: ../../datasets/aurora/instagan/train/sampleA_seg/36_0.png is a boolean image: setting True to 1 and False to 0\n",
      "  warn('%s is a boolean image: setting True to 1 and False to 0' % fname)\n",
      "/usr/local/lib/python3.7/site-packages/skimage/io/_io.py:140: UserWarning: ../../datasets/aurora/instagan/train/sampleA_seg/36_1.png is a low contrast image\n",
      "  warn('%s is a low contrast image' % fname)\n",
      "/usr/local/lib/python3.7/site-packages/skimage/io/_io.py:142: UserWarning: ../../datasets/aurora/instagan/train/sampleA_seg/36_1.png is a boolean image: setting True to 1 and False to 0\n",
      "  warn('%s is a boolean image: setting True to 1 and False to 0' % fname)\n",
      "/usr/local/lib/python3.7/site-packages/skimage/io/_io.py:142: UserWarning: ../../datasets/aurora/instagan/train/sampleA_seg/36_2.png is a boolean image: setting True to 1 and False to 0\n",
      "  warn('%s is a boolean image: setting True to 1 and False to 0' % fname)\n"
     ]
    },
    {
     "name": "stdout",
     "output_type": "stream",
     "text": [
      "Processing image ../../datasets/cityscapes-dataset/leftImg8bit_trainvaltest/leftImg8bit/train/zurich/zurich_000112_000019_leftImg8bit.png\n"
     ]
    },
    {
     "name": "stderr",
     "output_type": "stream",
     "text": [
      "/usr/local/lib/python3.7/site-packages/skimage/io/_io.py:142: UserWarning: ../../datasets/aurora/instagan/train/sampleA_seg/37_0.png is a boolean image: setting True to 1 and False to 0\n",
      "  warn('%s is a boolean image: setting True to 1 and False to 0' % fname)\n",
      "/usr/local/lib/python3.7/site-packages/skimage/io/_io.py:142: UserWarning: ../../datasets/aurora/instagan/train/sampleA_seg/37_1.png is a boolean image: setting True to 1 and False to 0\n",
      "  warn('%s is a boolean image: setting True to 1 and False to 0' % fname)\n"
     ]
    },
    {
     "name": "stdout",
     "output_type": "stream",
     "text": [
      "Processing image ../../datasets/cityscapes-dataset/leftImg8bit_trainvaltest/leftImg8bit/train/zurich/zurich_000096_000019_leftImg8bit.png\n"
     ]
    },
    {
     "name": "stderr",
     "output_type": "stream",
     "text": [
      "/usr/local/lib/python3.7/site-packages/skimage/io/_io.py:142: UserWarning: ../../datasets/aurora/instagan/train/sampleA_seg/38_0.png is a boolean image: setting True to 1 and False to 0\n",
      "  warn('%s is a boolean image: setting True to 1 and False to 0' % fname)\n",
      "/usr/local/lib/python3.7/site-packages/skimage/io/_io.py:142: UserWarning: ../../datasets/aurora/instagan/train/sampleA_seg/38_1.png is a boolean image: setting True to 1 and False to 0\n",
      "  warn('%s is a boolean image: setting True to 1 and False to 0' % fname)\n"
     ]
    },
    {
     "name": "stdout",
     "output_type": "stream",
     "text": [
      "Processing image ../../datasets/cityscapes-dataset/leftImg8bit_trainvaltest/leftImg8bit/train/zurich/zurich_000057_000019_leftImg8bit.png\n"
     ]
    },
    {
     "name": "stderr",
     "output_type": "stream",
     "text": [
      "/usr/local/lib/python3.7/site-packages/skimage/io/_io.py:140: UserWarning: ../../datasets/aurora/instagan/train/sampleA_seg/39_0.png is a low contrast image\n",
      "  warn('%s is a low contrast image' % fname)\n",
      "/usr/local/lib/python3.7/site-packages/skimage/io/_io.py:142: UserWarning: ../../datasets/aurora/instagan/train/sampleA_seg/39_0.png is a boolean image: setting True to 1 and False to 0\n",
      "  warn('%s is a boolean image: setting True to 1 and False to 0' % fname)\n",
      "/usr/local/lib/python3.7/site-packages/skimage/io/_io.py:142: UserWarning: ../../datasets/aurora/instagan/train/sampleA_seg/39_1.png is a boolean image: setting True to 1 and False to 0\n",
      "  warn('%s is a boolean image: setting True to 1 and False to 0' % fname)\n",
      "/usr/local/lib/python3.7/site-packages/skimage/io/_io.py:142: UserWarning: ../../datasets/aurora/instagan/train/sampleA_seg/39_2.png is a boolean image: setting True to 1 and False to 0\n",
      "  warn('%s is a boolean image: setting True to 1 and False to 0' % fname)\n"
     ]
    },
    {
     "name": "stdout",
     "output_type": "stream",
     "text": [
      "Processing image ../../datasets/cityscapes-dataset/leftImg8bit_trainvaltest/leftImg8bit/train/zurich/zurich_000022_000019_leftImg8bit.png\n"
     ]
    },
    {
     "name": "stderr",
     "output_type": "stream",
     "text": [
      "/usr/local/lib/python3.7/site-packages/skimage/io/_io.py:140: UserWarning: ../../datasets/aurora/instagan/train/sampleA_seg/40_0.png is a low contrast image\n",
      "  warn('%s is a low contrast image' % fname)\n",
      "/usr/local/lib/python3.7/site-packages/skimage/io/_io.py:142: UserWarning: ../../datasets/aurora/instagan/train/sampleA_seg/40_0.png is a boolean image: setting True to 1 and False to 0\n",
      "  warn('%s is a boolean image: setting True to 1 and False to 0' % fname)\n",
      "/usr/local/lib/python3.7/site-packages/skimage/io/_io.py:142: UserWarning: ../../datasets/aurora/instagan/train/sampleA_seg/40_1.png is a boolean image: setting True to 1 and False to 0\n",
      "  warn('%s is a boolean image: setting True to 1 and False to 0' % fname)\n"
     ]
    },
    {
     "name": "stdout",
     "output_type": "stream",
     "text": [
      "Processing image ../../datasets/cityscapes-dataset/leftImg8bit_trainvaltest/leftImg8bit/train/zurich/zurich_000028_000019_leftImg8bit.png\n"
     ]
    },
    {
     "name": "stderr",
     "output_type": "stream",
     "text": [
      "/usr/local/lib/python3.7/site-packages/skimage/io/_io.py:142: UserWarning: ../../datasets/aurora/instagan/train/sampleA_seg/41_0.png is a boolean image: setting True to 1 and False to 0\n",
      "  warn('%s is a boolean image: setting True to 1 and False to 0' % fname)\n"
     ]
    },
    {
     "name": "stdout",
     "output_type": "stream",
     "text": [
      "Processing image ../../datasets/cityscapes-dataset/leftImg8bit_trainvaltest/leftImg8bit/train/zurich/zurich_000019_000019_leftImg8bit.png\n"
     ]
    },
    {
     "name": "stderr",
     "output_type": "stream",
     "text": [
      "/usr/local/lib/python3.7/site-packages/skimage/io/_io.py:142: UserWarning: ../../datasets/aurora/instagan/train/sampleA_seg/42_0.png is a boolean image: setting True to 1 and False to 0\n",
      "  warn('%s is a boolean image: setting True to 1 and False to 0' % fname)\n"
     ]
    },
    {
     "name": "stdout",
     "output_type": "stream",
     "text": [
      "Processing image ../../datasets/cityscapes-dataset/leftImg8bit_trainvaltest/leftImg8bit/train/zurich/zurich_000013_000019_leftImg8bit.png\n"
     ]
    },
    {
     "name": "stderr",
     "output_type": "stream",
     "text": [
      "/usr/local/lib/python3.7/site-packages/skimage/io/_io.py:142: UserWarning: ../../datasets/aurora/instagan/train/sampleA_seg/43_0.png is a boolean image: setting True to 1 and False to 0\n",
      "  warn('%s is a boolean image: setting True to 1 and False to 0' % fname)\n"
     ]
    },
    {
     "name": "stdout",
     "output_type": "stream",
     "text": [
      "Processing image ../../datasets/cityscapes-dataset/leftImg8bit_trainvaltest/leftImg8bit/train/zurich/zurich_000066_000019_leftImg8bit.png\n"
     ]
    },
    {
     "name": "stderr",
     "output_type": "stream",
     "text": [
      "/usr/local/lib/python3.7/site-packages/skimage/io/_io.py:142: UserWarning: ../../datasets/aurora/instagan/train/sampleA_seg/44_0.png is a boolean image: setting True to 1 and False to 0\n",
      "  warn('%s is a boolean image: setting True to 1 and False to 0' % fname)\n",
      "/usr/local/lib/python3.7/site-packages/skimage/io/_io.py:142: UserWarning: ../../datasets/aurora/instagan/train/sampleA_seg/44_1.png is a boolean image: setting True to 1 and False to 0\n",
      "  warn('%s is a boolean image: setting True to 1 and False to 0' % fname)\n"
     ]
    },
    {
     "name": "stdout",
     "output_type": "stream",
     "text": [
      "Processing image ../../datasets/cityscapes-dataset/leftImg8bit_trainvaltest/leftImg8bit/train/zurich/zurich_000115_000019_leftImg8bit.png\n"
     ]
    },
    {
     "name": "stderr",
     "output_type": "stream",
     "text": [
      "/usr/local/lib/python3.7/site-packages/skimage/io/_io.py:140: UserWarning: ../../datasets/aurora/instagan/train/sampleA_seg/45_0.png is a low contrast image\n",
      "  warn('%s is a low contrast image' % fname)\n",
      "/usr/local/lib/python3.7/site-packages/skimage/io/_io.py:142: UserWarning: ../../datasets/aurora/instagan/train/sampleA_seg/45_0.png is a boolean image: setting True to 1 and False to 0\n",
      "  warn('%s is a boolean image: setting True to 1 and False to 0' % fname)\n",
      "/usr/local/lib/python3.7/site-packages/skimage/io/_io.py:142: UserWarning: ../../datasets/aurora/instagan/train/sampleA_seg/45_1.png is a boolean image: setting True to 1 and False to 0\n",
      "  warn('%s is a boolean image: setting True to 1 and False to 0' % fname)\n"
     ]
    },
    {
     "name": "stdout",
     "output_type": "stream",
     "text": [
      "Processing image ../../datasets/cityscapes-dataset/leftImg8bit_trainvaltest/leftImg8bit/train/zurich/zurich_000021_000019_leftImg8bit.png\n"
     ]
    },
    {
     "name": "stderr",
     "output_type": "stream",
     "text": [
      "/usr/local/lib/python3.7/site-packages/skimage/io/_io.py:142: UserWarning: ../../datasets/aurora/instagan/train/sampleA_seg/46_0.png is a boolean image: setting True to 1 and False to 0\n",
      "  warn('%s is a boolean image: setting True to 1 and False to 0' % fname)\n",
      "/usr/local/lib/python3.7/site-packages/skimage/io/_io.py:142: UserWarning: ../../datasets/aurora/instagan/train/sampleA_seg/46_1.png is a boolean image: setting True to 1 and False to 0\n",
      "  warn('%s is a boolean image: setting True to 1 and False to 0' % fname)\n"
     ]
    },
    {
     "name": "stdout",
     "output_type": "stream",
     "text": [
      "Processing image ../../datasets/cityscapes-dataset/leftImg8bit_trainvaltest/leftImg8bit/train/zurich/zurich_000095_000019_leftImg8bit.png\n"
     ]
    },
    {
     "name": "stderr",
     "output_type": "stream",
     "text": [
      "/usr/local/lib/python3.7/site-packages/skimage/io/_io.py:142: UserWarning: ../../datasets/aurora/instagan/train/sampleA_seg/47_0.png is a boolean image: setting True to 1 and False to 0\n",
      "  warn('%s is a boolean image: setting True to 1 and False to 0' % fname)\n"
     ]
    },
    {
     "name": "stdout",
     "output_type": "stream",
     "text": [
      "Processing image ../../datasets/cityscapes-dataset/leftImg8bit_trainvaltest/leftImg8bit/train/zurich/zurich_000054_000019_leftImg8bit.png\n"
     ]
    },
    {
     "name": "stderr",
     "output_type": "stream",
     "text": [
      "/usr/local/lib/python3.7/site-packages/skimage/io/_io.py:140: UserWarning: ../../datasets/aurora/instagan/train/sampleA_seg/48_0.png is a low contrast image\n",
      "  warn('%s is a low contrast image' % fname)\n",
      "/usr/local/lib/python3.7/site-packages/skimage/io/_io.py:142: UserWarning: ../../datasets/aurora/instagan/train/sampleA_seg/48_0.png is a boolean image: setting True to 1 and False to 0\n",
      "  warn('%s is a boolean image: setting True to 1 and False to 0' % fname)\n",
      "/usr/local/lib/python3.7/site-packages/skimage/io/_io.py:142: UserWarning: ../../datasets/aurora/instagan/train/sampleA_seg/48_1.png is a boolean image: setting True to 1 and False to 0\n",
      "  warn('%s is a boolean image: setting True to 1 and False to 0' % fname)\n",
      "/usr/local/lib/python3.7/site-packages/skimage/io/_io.py:142: UserWarning: ../../datasets/aurora/instagan/train/sampleA_seg/48_2.png is a boolean image: setting True to 1 and False to 0\n",
      "  warn('%s is a boolean image: setting True to 1 and False to 0' % fname)\n",
      "/usr/local/lib/python3.7/site-packages/skimage/io/_io.py:142: UserWarning: ../../datasets/aurora/instagan/train/sampleA_seg/48_3.png is a boolean image: setting True to 1 and False to 0\n",
      "  warn('%s is a boolean image: setting True to 1 and False to 0' % fname)\n",
      "/usr/local/lib/python3.7/site-packages/skimage/io/_io.py:142: UserWarning: ../../datasets/aurora/instagan/train/sampleA_seg/48_4.png is a boolean image: setting True to 1 and False to 0\n",
      "  warn('%s is a boolean image: setting True to 1 and False to 0' % fname)\n",
      "/usr/local/lib/python3.7/site-packages/skimage/io/_io.py:142: UserWarning: ../../datasets/aurora/instagan/train/sampleA_seg/48_5.png is a boolean image: setting True to 1 and False to 0\n",
      "  warn('%s is a boolean image: setting True to 1 and False to 0' % fname)\n"
     ]
    },
    {
     "name": "stdout",
     "output_type": "stream",
     "text": [
      "Processing image ../../datasets/cityscapes-dataset/leftImg8bit_trainvaltest/leftImg8bit/train/zurich/zurich_000116_000019_leftImg8bit.png\n"
     ]
    },
    {
     "name": "stderr",
     "output_type": "stream",
     "text": [
      "/usr/local/lib/python3.7/site-packages/skimage/io/_io.py:142: UserWarning: ../../datasets/aurora/instagan/train/sampleA_seg/49_0.png is a boolean image: setting True to 1 and False to 0\n",
      "  warn('%s is a boolean image: setting True to 1 and False to 0' % fname)\n",
      "/usr/local/lib/python3.7/site-packages/skimage/io/_io.py:140: UserWarning: ../../datasets/aurora/instagan/train/sampleA_seg/49_1.png is a low contrast image\n",
      "  warn('%s is a low contrast image' % fname)\n",
      "/usr/local/lib/python3.7/site-packages/skimage/io/_io.py:142: UserWarning: ../../datasets/aurora/instagan/train/sampleA_seg/49_1.png is a boolean image: setting True to 1 and False to 0\n",
      "  warn('%s is a boolean image: setting True to 1 and False to 0' % fname)\n",
      "/usr/local/lib/python3.7/site-packages/skimage/io/_io.py:142: UserWarning: ../../datasets/aurora/instagan/train/sampleA_seg/49_2.png is a boolean image: setting True to 1 and False to 0\n",
      "  warn('%s is a boolean image: setting True to 1 and False to 0' % fname)\n"
     ]
    },
    {
     "name": "stdout",
     "output_type": "stream",
     "text": [
      "Processing image ../../datasets/cityscapes-dataset/leftImg8bit_trainvaltest/leftImg8bit/train/zurich/zurich_000065_000019_leftImg8bit.png\n"
     ]
    },
    {
     "name": "stderr",
     "output_type": "stream",
     "text": [
      "/usr/local/lib/python3.7/site-packages/skimage/io/_io.py:140: UserWarning: ../../datasets/aurora/instagan/train/sampleA_seg/50_0.png is a low contrast image\n",
      "  warn('%s is a low contrast image' % fname)\n",
      "/usr/local/lib/python3.7/site-packages/skimage/io/_io.py:142: UserWarning: ../../datasets/aurora/instagan/train/sampleA_seg/50_0.png is a boolean image: setting True to 1 and False to 0\n",
      "  warn('%s is a boolean image: setting True to 1 and False to 0' % fname)\n",
      "/usr/local/lib/python3.7/site-packages/skimage/io/_io.py:142: UserWarning: ../../datasets/aurora/instagan/train/sampleA_seg/50_1.png is a boolean image: setting True to 1 and False to 0\n",
      "  warn('%s is a boolean image: setting True to 1 and False to 0' % fname)\n",
      "/usr/local/lib/python3.7/site-packages/skimage/io/_io.py:142: UserWarning: ../../datasets/aurora/instagan/train/sampleA_seg/50_2.png is a boolean image: setting True to 1 and False to 0\n",
      "  warn('%s is a boolean image: setting True to 1 and False to 0' % fname)\n",
      "/usr/local/lib/python3.7/site-packages/skimage/io/_io.py:142: UserWarning: ../../datasets/aurora/instagan/train/sampleA_seg/50_3.png is a boolean image: setting True to 1 and False to 0\n",
      "  warn('%s is a boolean image: setting True to 1 and False to 0' % fname)\n",
      "/usr/local/lib/python3.7/site-packages/skimage/io/_io.py:142: UserWarning: ../../datasets/aurora/instagan/train/sampleA_seg/50_4.png is a boolean image: setting True to 1 and False to 0\n",
      "  warn('%s is a boolean image: setting True to 1 and False to 0' % fname)\n"
     ]
    },
    {
     "name": "stdout",
     "output_type": "stream",
     "text": [
      "Processing image ../../datasets/cityscapes-dataset/leftImg8bit_trainvaltest/leftImg8bit/train/zurich/zurich_000010_000019_leftImg8bit.png\n"
     ]
    },
    {
     "name": "stderr",
     "output_type": "stream",
     "text": [
      "/usr/local/lib/python3.7/site-packages/skimage/io/_io.py:142: UserWarning: ../../datasets/aurora/instagan/train/sampleA_seg/51_0.png is a boolean image: setting True to 1 and False to 0\n",
      "  warn('%s is a boolean image: setting True to 1 and False to 0' % fname)\n"
     ]
    },
    {
     "name": "stdout",
     "output_type": "stream",
     "text": [
      "Processing image ../../datasets/cityscapes-dataset/leftImg8bit_trainvaltest/leftImg8bit/train/zurich/zurich_000098_000019_leftImg8bit.png\n"
     ]
    },
    {
     "name": "stderr",
     "output_type": "stream",
     "text": [
      "/usr/local/lib/python3.7/site-packages/skimage/io/_io.py:140: UserWarning: ../../datasets/aurora/instagan/train/sampleA_seg/52_0.png is a low contrast image\n",
      "  warn('%s is a low contrast image' % fname)\n",
      "/usr/local/lib/python3.7/site-packages/skimage/io/_io.py:142: UserWarning: ../../datasets/aurora/instagan/train/sampleA_seg/52_0.png is a boolean image: setting True to 1 and False to 0\n",
      "  warn('%s is a boolean image: setting True to 1 and False to 0' % fname)\n",
      "/usr/local/lib/python3.7/site-packages/skimage/io/_io.py:142: UserWarning: ../../datasets/aurora/instagan/train/sampleA_seg/52_1.png is a boolean image: setting True to 1 and False to 0\n",
      "  warn('%s is a boolean image: setting True to 1 and False to 0' % fname)\n",
      "/usr/local/lib/python3.7/site-packages/skimage/io/_io.py:142: UserWarning: ../../datasets/aurora/instagan/train/sampleA_seg/52_2.png is a boolean image: setting True to 1 and False to 0\n",
      "  warn('%s is a boolean image: setting True to 1 and False to 0' % fname)\n",
      "/usr/local/lib/python3.7/site-packages/skimage/io/_io.py:142: UserWarning: ../../datasets/aurora/instagan/train/sampleA_seg/52_3.png is a boolean image: setting True to 1 and False to 0\n",
      "  warn('%s is a boolean image: setting True to 1 and False to 0' % fname)\n",
      "/usr/local/lib/python3.7/site-packages/skimage/io/_io.py:142: UserWarning: ../../datasets/aurora/instagan/train/sampleA_seg/52_4.png is a boolean image: setting True to 1 and False to 0\n",
      "  warn('%s is a boolean image: setting True to 1 and False to 0' % fname)\n"
     ]
    },
    {
     "name": "stdout",
     "output_type": "stream",
     "text": [
      "Processing image ../../datasets/cityscapes-dataset/leftImg8bit_trainvaltest/leftImg8bit/train/zurich/zurich_000059_000019_leftImg8bit.png\n"
     ]
    },
    {
     "name": "stderr",
     "output_type": "stream",
     "text": [
      "/usr/local/lib/python3.7/site-packages/skimage/io/_io.py:142: UserWarning: ../../datasets/aurora/instagan/train/sampleA_seg/53_0.png is a boolean image: setting True to 1 and False to 0\n",
      "  warn('%s is a boolean image: setting True to 1 and False to 0' % fname)\n",
      "/usr/local/lib/python3.7/site-packages/skimage/io/_io.py:142: UserWarning: ../../datasets/aurora/instagan/train/sampleA_seg/53_1.png is a boolean image: setting True to 1 and False to 0\n",
      "  warn('%s is a boolean image: setting True to 1 and False to 0' % fname)\n",
      "/usr/local/lib/python3.7/site-packages/skimage/io/_io.py:140: UserWarning: ../../datasets/aurora/instagan/train/sampleA_seg/53_2.png is a low contrast image\n",
      "  warn('%s is a low contrast image' % fname)\n",
      "/usr/local/lib/python3.7/site-packages/skimage/io/_io.py:142: UserWarning: ../../datasets/aurora/instagan/train/sampleA_seg/53_2.png is a boolean image: setting True to 1 and False to 0\n",
      "  warn('%s is a boolean image: setting True to 1 and False to 0' % fname)\n",
      "/usr/local/lib/python3.7/site-packages/skimage/io/_io.py:142: UserWarning: ../../datasets/aurora/instagan/train/sampleA_seg/53_3.png is a boolean image: setting True to 1 and False to 0\n",
      "  warn('%s is a boolean image: setting True to 1 and False to 0' % fname)\n"
     ]
    },
    {
     "name": "stdout",
     "output_type": "stream",
     "text": [
      "Processing image ../../datasets/cityscapes-dataset/leftImg8bit_trainvaltest/leftImg8bit/train/zurich/zurich_000026_000019_leftImg8bit.png\n"
     ]
    },
    {
     "name": "stderr",
     "output_type": "stream",
     "text": [
      "/usr/local/lib/python3.7/site-packages/skimage/io/_io.py:142: UserWarning: ../../datasets/aurora/instagan/train/sampleA_seg/54_0.png is a boolean image: setting True to 1 and False to 0\n",
      "  warn('%s is a boolean image: setting True to 1 and False to 0' % fname)\n",
      "/usr/local/lib/python3.7/site-packages/skimage/io/_io.py:142: UserWarning: ../../datasets/aurora/instagan/train/sampleA_seg/54_1.png is a boolean image: setting True to 1 and False to 0\n",
      "  warn('%s is a boolean image: setting True to 1 and False to 0' % fname)\n"
     ]
    },
    {
     "name": "stdout",
     "output_type": "stream",
     "text": [
      "Processing image ../../datasets/cityscapes-dataset/leftImg8bit_trainvaltest/leftImg8bit/train/zurich/zurich_000092_000019_leftImg8bit.png\n"
     ]
    },
    {
     "name": "stderr",
     "output_type": "stream",
     "text": [
      "/usr/local/lib/python3.7/site-packages/skimage/io/_io.py:142: UserWarning: ../../datasets/aurora/instagan/train/sampleA_seg/55_0.png is a boolean image: setting True to 1 and False to 0\n",
      "  warn('%s is a boolean image: setting True to 1 and False to 0' % fname)\n",
      "/usr/local/lib/python3.7/site-packages/skimage/io/_io.py:142: UserWarning: ../../datasets/aurora/instagan/train/sampleA_seg/55_1.png is a boolean image: setting True to 1 and False to 0\n",
      "  warn('%s is a boolean image: setting True to 1 and False to 0' % fname)\n"
     ]
    },
    {
     "name": "stdout",
     "output_type": "stream",
     "text": [
      "Processing image ../../datasets/cityscapes-dataset/leftImg8bit_trainvaltest/leftImg8bit/train/zurich/zurich_000120_000019_leftImg8bit.png\n"
     ]
    },
    {
     "name": "stderr",
     "output_type": "stream",
     "text": [
      "/usr/local/lib/python3.7/site-packages/skimage/io/_io.py:140: UserWarning: ../../datasets/aurora/instagan/train/sampleA_seg/56_0.png is a low contrast image\n",
      "  warn('%s is a low contrast image' % fname)\n",
      "/usr/local/lib/python3.7/site-packages/skimage/io/_io.py:142: UserWarning: ../../datasets/aurora/instagan/train/sampleA_seg/56_0.png is a boolean image: setting True to 1 and False to 0\n",
      "  warn('%s is a boolean image: setting True to 1 and False to 0' % fname)\n",
      "/usr/local/lib/python3.7/site-packages/skimage/io/_io.py:140: UserWarning: ../../datasets/aurora/instagan/train/sampleA_seg/56_1.png is a low contrast image\n",
      "  warn('%s is a low contrast image' % fname)\n",
      "/usr/local/lib/python3.7/site-packages/skimage/io/_io.py:142: UserWarning: ../../datasets/aurora/instagan/train/sampleA_seg/56_1.png is a boolean image: setting True to 1 and False to 0\n",
      "  warn('%s is a boolean image: setting True to 1 and False to 0' % fname)\n",
      "/usr/local/lib/python3.7/site-packages/skimage/io/_io.py:142: UserWarning: ../../datasets/aurora/instagan/train/sampleA_seg/56_2.png is a boolean image: setting True to 1 and False to 0\n",
      "  warn('%s is a boolean image: setting True to 1 and False to 0' % fname)\n",
      "/usr/local/lib/python3.7/site-packages/skimage/io/_io.py:140: UserWarning: ../../datasets/aurora/instagan/train/sampleA_seg/56_3.png is a low contrast image\n",
      "  warn('%s is a low contrast image' % fname)\n",
      "/usr/local/lib/python3.7/site-packages/skimage/io/_io.py:142: UserWarning: ../../datasets/aurora/instagan/train/sampleA_seg/56_3.png is a boolean image: setting True to 1 and False to 0\n",
      "  warn('%s is a boolean image: setting True to 1 and False to 0' % fname)\n",
      "/usr/local/lib/python3.7/site-packages/skimage/io/_io.py:140: UserWarning: ../../datasets/aurora/instagan/train/sampleA_seg/56_4.png is a low contrast image\n",
      "  warn('%s is a low contrast image' % fname)\n",
      "/usr/local/lib/python3.7/site-packages/skimage/io/_io.py:142: UserWarning: ../../datasets/aurora/instagan/train/sampleA_seg/56_4.png is a boolean image: setting True to 1 and False to 0\n",
      "  warn('%s is a boolean image: setting True to 1 and False to 0' % fname)\n",
      "/usr/local/lib/python3.7/site-packages/skimage/io/_io.py:142: UserWarning: ../../datasets/aurora/instagan/train/sampleA_seg/56_5.png is a boolean image: setting True to 1 and False to 0\n",
      "  warn('%s is a boolean image: setting True to 1 and False to 0' % fname)\n",
      "/usr/local/lib/python3.7/site-packages/skimage/io/_io.py:140: UserWarning: ../../datasets/aurora/instagan/train/sampleA_seg/56_6.png is a low contrast image\n",
      "  warn('%s is a low contrast image' % fname)\n",
      "/usr/local/lib/python3.7/site-packages/skimage/io/_io.py:142: UserWarning: ../../datasets/aurora/instagan/train/sampleA_seg/56_6.png is a boolean image: setting True to 1 and False to 0\n",
      "  warn('%s is a boolean image: setting True to 1 and False to 0' % fname)\n"
     ]
    },
    {
     "name": "stdout",
     "output_type": "stream",
     "text": [
      "Processing image ../../datasets/cityscapes-dataset/leftImg8bit_trainvaltest/leftImg8bit/train/zurich/zurich_000053_000019_leftImg8bit.png\n"
     ]
    },
    {
     "name": "stderr",
     "output_type": "stream",
     "text": [
      "/usr/local/lib/python3.7/site-packages/skimage/io/_io.py:142: UserWarning: ../../datasets/aurora/instagan/train/sampleA_seg/57_0.png is a boolean image: setting True to 1 and False to 0\n",
      "  warn('%s is a boolean image: setting True to 1 and False to 0' % fname)\n",
      "/usr/local/lib/python3.7/site-packages/skimage/io/_io.py:142: UserWarning: ../../datasets/aurora/instagan/train/sampleA_seg/57_1.png is a boolean image: setting True to 1 and False to 0\n",
      "  warn('%s is a boolean image: setting True to 1 and False to 0' % fname)\n",
      "/usr/local/lib/python3.7/site-packages/skimage/io/_io.py:142: UserWarning: ../../datasets/aurora/instagan/train/sampleA_seg/57_2.png is a boolean image: setting True to 1 and False to 0\n",
      "  warn('%s is a boolean image: setting True to 1 and False to 0' % fname)\n"
     ]
    },
    {
     "name": "stdout",
     "output_type": "stream",
     "text": [
      "Processing image ../../datasets/cityscapes-dataset/leftImg8bit_trainvaltest/leftImg8bit/train/zurich/zurich_000111_000019_leftImg8bit.png\n"
     ]
    },
    {
     "name": "stderr",
     "output_type": "stream",
     "text": [
      "/usr/local/lib/python3.7/site-packages/skimage/io/_io.py:142: UserWarning: ../../datasets/aurora/instagan/train/sampleA_seg/58_0.png is a boolean image: setting True to 1 and False to 0\n",
      "  warn('%s is a boolean image: setting True to 1 and False to 0' % fname)\n",
      "/usr/local/lib/python3.7/site-packages/skimage/io/_io.py:142: UserWarning: ../../datasets/aurora/instagan/train/sampleA_seg/58_1.png is a boolean image: setting True to 1 and False to 0\n",
      "  warn('%s is a boolean image: setting True to 1 and False to 0' % fname)\n",
      "/usr/local/lib/python3.7/site-packages/skimage/io/_io.py:142: UserWarning: ../../datasets/aurora/instagan/train/sampleA_seg/58_2.png is a boolean image: setting True to 1 and False to 0\n",
      "  warn('%s is a boolean image: setting True to 1 and False to 0' % fname)\n"
     ]
    },
    {
     "name": "stdout",
     "output_type": "stream",
     "text": [
      "Processing image ../../datasets/cityscapes-dataset/leftImg8bit_trainvaltest/leftImg8bit/train/zurich/zurich_000062_000019_leftImg8bit.png\n"
     ]
    },
    {
     "name": "stderr",
     "output_type": "stream",
     "text": [
      "/usr/local/lib/python3.7/site-packages/skimage/io/_io.py:142: UserWarning: ../../datasets/aurora/instagan/train/sampleA_seg/59_0.png is a boolean image: setting True to 1 and False to 0\n",
      "  warn('%s is a boolean image: setting True to 1 and False to 0' % fname)\n",
      "/usr/local/lib/python3.7/site-packages/skimage/io/_io.py:142: UserWarning: ../../datasets/aurora/instagan/train/sampleA_seg/59_1.png is a boolean image: setting True to 1 and False to 0\n",
      "  warn('%s is a boolean image: setting True to 1 and False to 0' % fname)\n",
      "/usr/local/lib/python3.7/site-packages/skimage/io/_io.py:140: UserWarning: ../../datasets/aurora/instagan/train/sampleA_seg/59_2.png is a low contrast image\n",
      "  warn('%s is a low contrast image' % fname)\n",
      "/usr/local/lib/python3.7/site-packages/skimage/io/_io.py:142: UserWarning: ../../datasets/aurora/instagan/train/sampleA_seg/59_2.png is a boolean image: setting True to 1 and False to 0\n",
      "  warn('%s is a boolean image: setting True to 1 and False to 0' % fname)\n",
      "/usr/local/lib/python3.7/site-packages/skimage/io/_io.py:142: UserWarning: ../../datasets/aurora/instagan/train/sampleA_seg/59_3.png is a boolean image: setting True to 1 and False to 0\n",
      "  warn('%s is a boolean image: setting True to 1 and False to 0' % fname)\n"
     ]
    },
    {
     "name": "stdout",
     "output_type": "stream",
     "text": [
      "Processing image ../../datasets/cityscapes-dataset/leftImg8bit_trainvaltest/leftImg8bit/train/zurich/zurich_000017_000019_leftImg8bit.png\n"
     ]
    },
    {
     "name": "stderr",
     "output_type": "stream",
     "text": [
      "/usr/local/lib/python3.7/site-packages/skimage/io/_io.py:142: UserWarning: ../../datasets/aurora/instagan/train/sampleA_seg/60_0.png is a boolean image: setting True to 1 and False to 0\n",
      "  warn('%s is a boolean image: setting True to 1 and False to 0' % fname)\n"
     ]
    },
    {
     "name": "stdout",
     "output_type": "stream",
     "text": [
      "Processing image ../../datasets/cityscapes-dataset/leftImg8bit_trainvaltest/leftImg8bit/train/zurich/zurich_000068_000019_leftImg8bit.png\n"
     ]
    },
    {
     "name": "stderr",
     "output_type": "stream",
     "text": [
      "/usr/local/lib/python3.7/site-packages/skimage/io/_io.py:140: UserWarning: ../../datasets/aurora/instagan/train/sampleA_seg/61_0.png is a low contrast image\n",
      "  warn('%s is a low contrast image' % fname)\n",
      "/usr/local/lib/python3.7/site-packages/skimage/io/_io.py:142: UserWarning: ../../datasets/aurora/instagan/train/sampleA_seg/61_0.png is a boolean image: setting True to 1 and False to 0\n",
      "  warn('%s is a boolean image: setting True to 1 and False to 0' % fname)\n",
      "/usr/local/lib/python3.7/site-packages/skimage/io/_io.py:142: UserWarning: ../../datasets/aurora/instagan/train/sampleA_seg/61_1.png is a boolean image: setting True to 1 and False to 0\n",
      "  warn('%s is a boolean image: setting True to 1 and False to 0' % fname)\n",
      "/usr/local/lib/python3.7/site-packages/skimage/io/_io.py:142: UserWarning: ../../datasets/aurora/instagan/train/sampleA_seg/61_2.png is a boolean image: setting True to 1 and False to 0\n",
      "  warn('%s is a boolean image: setting True to 1 and False to 0' % fname)\n",
      "/usr/local/lib/python3.7/site-packages/skimage/io/_io.py:142: UserWarning: ../../datasets/aurora/instagan/train/sampleA_seg/61_3.png is a boolean image: setting True to 1 and False to 0\n",
      "  warn('%s is a boolean image: setting True to 1 and False to 0' % fname)\n"
     ]
    },
    {
     "name": "stdout",
     "output_type": "stream",
     "text": [
      "Processing image ../../datasets/cityscapes-dataset/leftImg8bit_trainvaltest/leftImg8bit/train/zurich/zurich_000034_000019_leftImg8bit.png\n"
     ]
    },
    {
     "name": "stderr",
     "output_type": "stream",
     "text": [
      "/usr/local/lib/python3.7/site-packages/skimage/io/_io.py:142: UserWarning: ../../datasets/aurora/instagan/train/sampleA_seg/62_0.png is a boolean image: setting True to 1 and False to 0\n",
      "  warn('%s is a boolean image: setting True to 1 and False to 0' % fname)\n",
      "/usr/local/lib/python3.7/site-packages/skimage/io/_io.py:140: UserWarning: ../../datasets/aurora/instagan/train/sampleA_seg/62_1.png is a low contrast image\n",
      "  warn('%s is a low contrast image' % fname)\n",
      "/usr/local/lib/python3.7/site-packages/skimage/io/_io.py:142: UserWarning: ../../datasets/aurora/instagan/train/sampleA_seg/62_1.png is a boolean image: setting True to 1 and False to 0\n",
      "  warn('%s is a boolean image: setting True to 1 and False to 0' % fname)\n",
      "/usr/local/lib/python3.7/site-packages/skimage/io/_io.py:140: UserWarning: ../../datasets/aurora/instagan/train/sampleA_seg/62_2.png is a low contrast image\n",
      "  warn('%s is a low contrast image' % fname)\n",
      "/usr/local/lib/python3.7/site-packages/skimage/io/_io.py:142: UserWarning: ../../datasets/aurora/instagan/train/sampleA_seg/62_2.png is a boolean image: setting True to 1 and False to 0\n",
      "  warn('%s is a boolean image: setting True to 1 and False to 0' % fname)\n",
      "/usr/local/lib/python3.7/site-packages/skimage/io/_io.py:140: UserWarning: ../../datasets/aurora/instagan/train/sampleA_seg/62_3.png is a low contrast image\n",
      "  warn('%s is a low contrast image' % fname)\n",
      "/usr/local/lib/python3.7/site-packages/skimage/io/_io.py:142: UserWarning: ../../datasets/aurora/instagan/train/sampleA_seg/62_3.png is a boolean image: setting True to 1 and False to 0\n",
      "  warn('%s is a boolean image: setting True to 1 and False to 0' % fname)\n",
      "/usr/local/lib/python3.7/site-packages/skimage/io/_io.py:140: UserWarning: ../../datasets/aurora/instagan/train/sampleA_seg/62_4.png is a low contrast image\n",
      "  warn('%s is a low contrast image' % fname)\n",
      "/usr/local/lib/python3.7/site-packages/skimage/io/_io.py:142: UserWarning: ../../datasets/aurora/instagan/train/sampleA_seg/62_4.png is a boolean image: setting True to 1 and False to 0\n",
      "  warn('%s is a boolean image: setting True to 1 and False to 0' % fname)\n"
     ]
    },
    {
     "name": "stdout",
     "output_type": "stream",
     "text": [
      "Processing image ../../datasets/cityscapes-dataset/leftImg8bit_trainvaltest/leftImg8bit/train/zurich/zurich_000041_000019_leftImg8bit.png\n"
     ]
    },
    {
     "name": "stderr",
     "output_type": "stream",
     "text": [
      "/usr/local/lib/python3.7/site-packages/skimage/io/_io.py:142: UserWarning: ../../datasets/aurora/instagan/train/sampleA_seg/63_0.png is a boolean image: setting True to 1 and False to 0\n",
      "  warn('%s is a boolean image: setting True to 1 and False to 0' % fname)\n"
     ]
    },
    {
     "name": "stdout",
     "output_type": "stream",
     "text": [
      "Processing image ../../datasets/cityscapes-dataset/leftImg8bit_trainvaltest/leftImg8bit/train/zurich/zurich_000080_000019_leftImg8bit.png\n"
     ]
    },
    {
     "name": "stderr",
     "output_type": "stream",
     "text": [
      "/usr/local/lib/python3.7/site-packages/skimage/io/_io.py:142: UserWarning: ../../datasets/aurora/instagan/train/sampleA_seg/64_0.png is a boolean image: setting True to 1 and False to 0\n",
      "  warn('%s is a boolean image: setting True to 1 and False to 0' % fname)\n",
      "/usr/local/lib/python3.7/site-packages/skimage/io/_io.py:142: UserWarning: ../../datasets/aurora/instagan/train/sampleA_seg/64_1.png is a boolean image: setting True to 1 and False to 0\n",
      "  warn('%s is a boolean image: setting True to 1 and False to 0' % fname)\n",
      "/usr/local/lib/python3.7/site-packages/skimage/io/_io.py:142: UserWarning: ../../datasets/aurora/instagan/train/sampleA_seg/64_2.png is a boolean image: setting True to 1 and False to 0\n",
      "  warn('%s is a boolean image: setting True to 1 and False to 0' % fname)\n",
      "/usr/local/lib/python3.7/site-packages/skimage/io/_io.py:142: UserWarning: ../../datasets/aurora/instagan/train/sampleA_seg/64_3.png is a boolean image: setting True to 1 and False to 0\n",
      "  warn('%s is a boolean image: setting True to 1 and False to 0' % fname)\n",
      "/usr/local/lib/python3.7/site-packages/skimage/io/_io.py:142: UserWarning: ../../datasets/aurora/instagan/train/sampleA_seg/64_4.png is a boolean image: setting True to 1 and False to 0\n",
      "  warn('%s is a boolean image: setting True to 1 and False to 0' % fname)\n",
      "/usr/local/lib/python3.7/site-packages/skimage/io/_io.py:142: UserWarning: ../../datasets/aurora/instagan/train/sampleA_seg/64_5.png is a boolean image: setting True to 1 and False to 0\n",
      "  warn('%s is a boolean image: setting True to 1 and False to 0' % fname)\n"
     ]
    },
    {
     "name": "stdout",
     "output_type": "stream",
     "text": [
      "Processing image ../../datasets/cityscapes-dataset/leftImg8bit_trainvaltest/leftImg8bit/train/zurich/zurich_000109_000019_leftImg8bit.png\n"
     ]
    },
    {
     "name": "stderr",
     "output_type": "stream",
     "text": [
      "/usr/local/lib/python3.7/site-packages/skimage/io/_io.py:142: UserWarning: ../../datasets/aurora/instagan/train/sampleA_seg/65_0.png is a boolean image: setting True to 1 and False to 0\n",
      "  warn('%s is a boolean image: setting True to 1 and False to 0' % fname)\n",
      "/usr/local/lib/python3.7/site-packages/skimage/io/_io.py:142: UserWarning: ../../datasets/aurora/instagan/train/sampleA_seg/65_1.png is a boolean image: setting True to 1 and False to 0\n",
      "  warn('%s is a boolean image: setting True to 1 and False to 0' % fname)\n",
      "/usr/local/lib/python3.7/site-packages/skimage/io/_io.py:142: UserWarning: ../../datasets/aurora/instagan/train/sampleA_seg/65_2.png is a boolean image: setting True to 1 and False to 0\n",
      "  warn('%s is a boolean image: setting True to 1 and False to 0' % fname)\n"
     ]
    },
    {
     "name": "stdout",
     "output_type": "stream",
     "text": [
      "Processing image ../../datasets/cityscapes-dataset/leftImg8bit_trainvaltest/leftImg8bit/train/zurich/zurich_000103_000019_leftImg8bit.png\n"
     ]
    },
    {
     "name": "stderr",
     "output_type": "stream",
     "text": [
      "/usr/local/lib/python3.7/site-packages/skimage/io/_io.py:142: UserWarning: ../../datasets/aurora/instagan/train/sampleA_seg/66_0.png is a boolean image: setting True to 1 and False to 0\n",
      "  warn('%s is a boolean image: setting True to 1 and False to 0' % fname)\n",
      "/usr/local/lib/python3.7/site-packages/skimage/io/_io.py:142: UserWarning: ../../datasets/aurora/instagan/train/sampleA_seg/66_1.png is a boolean image: setting True to 1 and False to 0\n",
      "  warn('%s is a boolean image: setting True to 1 and False to 0' % fname)\n",
      "/usr/local/lib/python3.7/site-packages/skimage/io/_io.py:142: UserWarning: ../../datasets/aurora/instagan/train/sampleA_seg/66_2.png is a boolean image: setting True to 1 and False to 0\n",
      "  warn('%s is a boolean image: setting True to 1 and False to 0' % fname)\n",
      "/usr/local/lib/python3.7/site-packages/skimage/io/_io.py:142: UserWarning: ../../datasets/aurora/instagan/train/sampleA_seg/66_3.png is a boolean image: setting True to 1 and False to 0\n",
      "  warn('%s is a boolean image: setting True to 1 and False to 0' % fname)\n"
     ]
    },
    {
     "name": "stdout",
     "output_type": "stream",
     "text": [
      "Processing image ../../datasets/cityscapes-dataset/leftImg8bit_trainvaltest/leftImg8bit/train/zurich/zurich_000070_000019_leftImg8bit.png\n"
     ]
    },
    {
     "name": "stderr",
     "output_type": "stream",
     "text": [
      "/usr/local/lib/python3.7/site-packages/skimage/io/_io.py:142: UserWarning: ../../datasets/aurora/instagan/train/sampleA_seg/67_0.png is a boolean image: setting True to 1 and False to 0\n",
      "  warn('%s is a boolean image: setting True to 1 and False to 0' % fname)\n",
      "/usr/local/lib/python3.7/site-packages/skimage/io/_io.py:142: UserWarning: ../../datasets/aurora/instagan/train/sampleA_seg/67_1.png is a boolean image: setting True to 1 and False to 0\n",
      "  warn('%s is a boolean image: setting True to 1 and False to 0' % fname)\n",
      "/usr/local/lib/python3.7/site-packages/skimage/io/_io.py:140: UserWarning: ../../datasets/aurora/instagan/train/sampleA_seg/67_2.png is a low contrast image\n",
      "  warn('%s is a low contrast image' % fname)\n",
      "/usr/local/lib/python3.7/site-packages/skimage/io/_io.py:142: UserWarning: ../../datasets/aurora/instagan/train/sampleA_seg/67_2.png is a boolean image: setting True to 1 and False to 0\n",
      "  warn('%s is a boolean image: setting True to 1 and False to 0' % fname)\n",
      "/usr/local/lib/python3.7/site-packages/skimage/io/_io.py:142: UserWarning: ../../datasets/aurora/instagan/train/sampleA_seg/67_3.png is a boolean image: setting True to 1 and False to 0\n",
      "  warn('%s is a boolean image: setting True to 1 and False to 0' % fname)\n",
      "/usr/local/lib/python3.7/site-packages/skimage/io/_io.py:142: UserWarning: ../../datasets/aurora/instagan/train/sampleA_seg/67_4.png is a boolean image: setting True to 1 and False to 0\n",
      "  warn('%s is a boolean image: setting True to 1 and False to 0' % fname)\n"
     ]
    },
    {
     "name": "stdout",
     "output_type": "stream",
     "text": [
      "Processing image ../../datasets/cityscapes-dataset/leftImg8bit_trainvaltest/leftImg8bit/train/zurich/zurich_000005_000019_leftImg8bit.png\n"
     ]
    },
    {
     "name": "stderr",
     "output_type": "stream",
     "text": [
      "/usr/local/lib/python3.7/site-packages/skimage/io/_io.py:142: UserWarning: ../../datasets/aurora/instagan/train/sampleA_seg/68_0.png is a boolean image: setting True to 1 and False to 0\n",
      "  warn('%s is a boolean image: setting True to 1 and False to 0' % fname)\n"
     ]
    },
    {
     "name": "stdout",
     "output_type": "stream",
     "text": [
      "Processing image ../../datasets/cityscapes-dataset/leftImg8bit_trainvaltest/leftImg8bit/train/zurich/zurich_000033_000019_leftImg8bit.png\n"
     ]
    },
    {
     "name": "stderr",
     "output_type": "stream",
     "text": [
      "/usr/local/lib/python3.7/site-packages/skimage/io/_io.py:142: UserWarning: ../../datasets/aurora/instagan/train/sampleA_seg/69_0.png is a boolean image: setting True to 1 and False to 0\n",
      "  warn('%s is a boolean image: setting True to 1 and False to 0' % fname)\n",
      "/usr/local/lib/python3.7/site-packages/skimage/io/_io.py:142: UserWarning: ../../datasets/aurora/instagan/train/sampleA_seg/69_1.png is a boolean image: setting True to 1 and False to 0\n",
      "  warn('%s is a boolean image: setting True to 1 and False to 0' % fname)\n"
     ]
    },
    {
     "name": "stdout",
     "output_type": "stream",
     "text": [
      "Processing image ../../datasets/cityscapes-dataset/leftImg8bit_trainvaltest/leftImg8bit/train/zurich/zurich_000046_000019_leftImg8bit.png\n"
     ]
    },
    {
     "name": "stderr",
     "output_type": "stream",
     "text": [
      "/usr/local/lib/python3.7/site-packages/skimage/io/_io.py:142: UserWarning: ../../datasets/aurora/instagan/train/sampleA_seg/70_0.png is a boolean image: setting True to 1 and False to 0\n",
      "  warn('%s is a boolean image: setting True to 1 and False to 0' % fname)\n",
      "/usr/local/lib/python3.7/site-packages/skimage/io/_io.py:140: UserWarning: ../../datasets/aurora/instagan/train/sampleA_seg/70_1.png is a low contrast image\n",
      "  warn('%s is a low contrast image' % fname)\n",
      "/usr/local/lib/python3.7/site-packages/skimage/io/_io.py:142: UserWarning: ../../datasets/aurora/instagan/train/sampleA_seg/70_1.png is a boolean image: setting True to 1 and False to 0\n",
      "  warn('%s is a boolean image: setting True to 1 and False to 0' % fname)\n",
      "/usr/local/lib/python3.7/site-packages/skimage/io/_io.py:142: UserWarning: ../../datasets/aurora/instagan/train/sampleA_seg/70_2.png is a boolean image: setting True to 1 and False to 0\n",
      "  warn('%s is a boolean image: setting True to 1 and False to 0' % fname)\n"
     ]
    },
    {
     "name": "stdout",
     "output_type": "stream",
     "text": [
      "Processing image ../../datasets/cityscapes-dataset/leftImg8bit_trainvaltest/leftImg8bit/train/zurich/zurich_000087_000019_leftImg8bit.png\n"
     ]
    },
    {
     "name": "stderr",
     "output_type": "stream",
     "text": [
      "/usr/local/lib/python3.7/site-packages/skimage/io/_io.py:142: UserWarning: ../../datasets/aurora/instagan/train/sampleA_seg/71_0.png is a boolean image: setting True to 1 and False to 0\n",
      "  warn('%s is a boolean image: setting True to 1 and False to 0' % fname)\n",
      "/usr/local/lib/python3.7/site-packages/skimage/io/_io.py:140: UserWarning: ../../datasets/aurora/instagan/train/sampleA_seg/71_1.png is a low contrast image\n",
      "  warn('%s is a low contrast image' % fname)\n",
      "/usr/local/lib/python3.7/site-packages/skimage/io/_io.py:142: UserWarning: ../../datasets/aurora/instagan/train/sampleA_seg/71_1.png is a boolean image: setting True to 1 and False to 0\n",
      "  warn('%s is a boolean image: setting True to 1 and False to 0' % fname)\n",
      "/usr/local/lib/python3.7/site-packages/skimage/io/_io.py:142: UserWarning: ../../datasets/aurora/instagan/train/sampleA_seg/71_2.png is a boolean image: setting True to 1 and False to 0\n",
      "  warn('%s is a boolean image: setting True to 1 and False to 0' % fname)\n",
      "/usr/local/lib/python3.7/site-packages/skimage/io/_io.py:142: UserWarning: ../../datasets/aurora/instagan/train/sampleA_seg/71_3.png is a boolean image: setting True to 1 and False to 0\n",
      "  warn('%s is a boolean image: setting True to 1 and False to 0' % fname)\n",
      "/usr/local/lib/python3.7/site-packages/skimage/io/_io.py:140: UserWarning: ../../datasets/aurora/instagan/train/sampleA_seg/71_4.png is a low contrast image\n",
      "  warn('%s is a low contrast image' % fname)\n",
      "/usr/local/lib/python3.7/site-packages/skimage/io/_io.py:142: UserWarning: ../../datasets/aurora/instagan/train/sampleA_seg/71_4.png is a boolean image: setting True to 1 and False to 0\n",
      "  warn('%s is a boolean image: setting True to 1 and False to 0' % fname)\n",
      "/usr/local/lib/python3.7/site-packages/skimage/io/_io.py:142: UserWarning: ../../datasets/aurora/instagan/train/sampleA_seg/71_5.png is a boolean image: setting True to 1 and False to 0\n",
      "  warn('%s is a boolean image: setting True to 1 and False to 0' % fname)\n"
     ]
    },
    {
     "name": "stdout",
     "output_type": "stream",
     "text": [
      "Processing image ../../datasets/cityscapes-dataset/leftImg8bit_trainvaltest/leftImg8bit/train/zurich/zurich_000039_000019_leftImg8bit.png\n"
     ]
    },
    {
     "name": "stderr",
     "output_type": "stream",
     "text": [
      "/usr/local/lib/python3.7/site-packages/skimage/io/_io.py:142: UserWarning: ../../datasets/aurora/instagan/train/sampleA_seg/72_0.png is a boolean image: setting True to 1 and False to 0\n",
      "  warn('%s is a boolean image: setting True to 1 and False to 0' % fname)\n",
      "/usr/local/lib/python3.7/site-packages/skimage/io/_io.py:140: UserWarning: ../../datasets/aurora/instagan/train/sampleA_seg/72_1.png is a low contrast image\n",
      "  warn('%s is a low contrast image' % fname)\n",
      "/usr/local/lib/python3.7/site-packages/skimage/io/_io.py:142: UserWarning: ../../datasets/aurora/instagan/train/sampleA_seg/72_1.png is a boolean image: setting True to 1 and False to 0\n",
      "  warn('%s is a boolean image: setting True to 1 and False to 0' % fname)\n",
      "/usr/local/lib/python3.7/site-packages/skimage/io/_io.py:140: UserWarning: ../../datasets/aurora/instagan/train/sampleA_seg/72_2.png is a low contrast image\n",
      "  warn('%s is a low contrast image' % fname)\n",
      "/usr/local/lib/python3.7/site-packages/skimage/io/_io.py:142: UserWarning: ../../datasets/aurora/instagan/train/sampleA_seg/72_2.png is a boolean image: setting True to 1 and False to 0\n",
      "  warn('%s is a boolean image: setting True to 1 and False to 0' % fname)\n",
      "/usr/local/lib/python3.7/site-packages/skimage/io/_io.py:140: UserWarning: ../../datasets/aurora/instagan/train/sampleA_seg/72_3.png is a low contrast image\n",
      "  warn('%s is a low contrast image' % fname)\n",
      "/usr/local/lib/python3.7/site-packages/skimage/io/_io.py:142: UserWarning: ../../datasets/aurora/instagan/train/sampleA_seg/72_3.png is a boolean image: setting True to 1 and False to 0\n",
      "  warn('%s is a boolean image: setting True to 1 and False to 0' % fname)\n"
     ]
    },
    {
     "name": "stdout",
     "output_type": "stream",
     "text": [
      "Processing image ../../datasets/cityscapes-dataset/leftImg8bit_trainvaltest/leftImg8bit/train/zurich/zurich_000008_000019_leftImg8bit.png\n"
     ]
    },
    {
     "name": "stderr",
     "output_type": "stream",
     "text": [
      "/usr/local/lib/python3.7/site-packages/skimage/io/_io.py:142: UserWarning: ../../datasets/aurora/instagan/train/sampleA_seg/73_0.png is a boolean image: setting True to 1 and False to 0\n",
      "  warn('%s is a boolean image: setting True to 1 and False to 0' % fname)\n",
      "/usr/local/lib/python3.7/site-packages/skimage/io/_io.py:142: UserWarning: ../../datasets/aurora/instagan/train/sampleA_seg/73_1.png is a boolean image: setting True to 1 and False to 0\n",
      "  warn('%s is a boolean image: setting True to 1 and False to 0' % fname)\n",
      "/usr/local/lib/python3.7/site-packages/skimage/io/_io.py:140: UserWarning: ../../datasets/aurora/instagan/train/sampleA_seg/73_2.png is a low contrast image\n",
      "  warn('%s is a low contrast image' % fname)\n",
      "/usr/local/lib/python3.7/site-packages/skimage/io/_io.py:142: UserWarning: ../../datasets/aurora/instagan/train/sampleA_seg/73_2.png is a boolean image: setting True to 1 and False to 0\n",
      "  warn('%s is a boolean image: setting True to 1 and False to 0' % fname)\n",
      "/usr/local/lib/python3.7/site-packages/skimage/io/_io.py:140: UserWarning: ../../datasets/aurora/instagan/train/sampleA_seg/73_3.png is a low contrast image\n",
      "  warn('%s is a low contrast image' % fname)\n",
      "/usr/local/lib/python3.7/site-packages/skimage/io/_io.py:142: UserWarning: ../../datasets/aurora/instagan/train/sampleA_seg/73_3.png is a boolean image: setting True to 1 and False to 0\n",
      "  warn('%s is a boolean image: setting True to 1 and False to 0' % fname)\n"
     ]
    },
    {
     "name": "stdout",
     "output_type": "stream",
     "text": [
      "Processing image ../../datasets/cityscapes-dataset/leftImg8bit_trainvaltest/leftImg8bit/train/zurich/zurich_000104_000019_leftImg8bit.png\n"
     ]
    },
    {
     "name": "stderr",
     "output_type": "stream",
     "text": [
      "/usr/local/lib/python3.7/site-packages/skimage/io/_io.py:142: UserWarning: ../../datasets/aurora/instagan/train/sampleA_seg/74_0.png is a boolean image: setting True to 1 and False to 0\n",
      "  warn('%s is a boolean image: setting True to 1 and False to 0' % fname)\n",
      "/usr/local/lib/python3.7/site-packages/skimage/io/_io.py:142: UserWarning: ../../datasets/aurora/instagan/train/sampleA_seg/74_1.png is a boolean image: setting True to 1 and False to 0\n",
      "  warn('%s is a boolean image: setting True to 1 and False to 0' % fname)\n",
      "/usr/local/lib/python3.7/site-packages/skimage/io/_io.py:142: UserWarning: ../../datasets/aurora/instagan/train/sampleA_seg/74_2.png is a boolean image: setting True to 1 and False to 0\n",
      "  warn('%s is a boolean image: setting True to 1 and False to 0' % fname)\n"
     ]
    },
    {
     "name": "stdout",
     "output_type": "stream",
     "text": [
      "Processing image ../../datasets/cityscapes-dataset/leftImg8bit_trainvaltest/leftImg8bit/train/zurich/zurich_000077_000019_leftImg8bit.png\n"
     ]
    },
    {
     "name": "stderr",
     "output_type": "stream",
     "text": [
      "/usr/local/lib/python3.7/site-packages/skimage/io/_io.py:142: UserWarning: ../../datasets/aurora/instagan/train/sampleA_seg/75_0.png is a boolean image: setting True to 1 and False to 0\n",
      "  warn('%s is a boolean image: setting True to 1 and False to 0' % fname)\n",
      "/usr/local/lib/python3.7/site-packages/skimage/io/_io.py:142: UserWarning: ../../datasets/aurora/instagan/train/sampleA_seg/75_1.png is a boolean image: setting True to 1 and False to 0\n",
      "  warn('%s is a boolean image: setting True to 1 and False to 0' % fname)\n",
      "/usr/local/lib/python3.7/site-packages/skimage/io/_io.py:142: UserWarning: ../../datasets/aurora/instagan/train/sampleA_seg/75_2.png is a boolean image: setting True to 1 and False to 0\n",
      "  warn('%s is a boolean image: setting True to 1 and False to 0' % fname)\n",
      "/usr/local/lib/python3.7/site-packages/skimage/io/_io.py:142: UserWarning: ../../datasets/aurora/instagan/train/sampleA_seg/75_3.png is a boolean image: setting True to 1 and False to 0\n",
      "  warn('%s is a boolean image: setting True to 1 and False to 0' % fname)\n",
      "/usr/local/lib/python3.7/site-packages/skimage/io/_io.py:142: UserWarning: ../../datasets/aurora/instagan/train/sampleA_seg/75_4.png is a boolean image: setting True to 1 and False to 0\n",
      "  warn('%s is a boolean image: setting True to 1 and False to 0' % fname)\n"
     ]
    },
    {
     "name": "stdout",
     "output_type": "stream",
     "text": [
      "Processing image ../../datasets/cityscapes-dataset/leftImg8bit_trainvaltest/leftImg8bit/train/zurich/zurich_000002_000019_leftImg8bit.png\n"
     ]
    },
    {
     "name": "stderr",
     "output_type": "stream",
     "text": [
      "/usr/local/lib/python3.7/site-packages/skimage/io/_io.py:142: UserWarning: ../../datasets/aurora/instagan/train/sampleA_seg/76_0.png is a boolean image: setting True to 1 and False to 0\n",
      "  warn('%s is a boolean image: setting True to 1 and False to 0' % fname)\n"
     ]
    },
    {
     "name": "stdout",
     "output_type": "stream",
     "text": [
      "Processing image ../../datasets/cityscapes-dataset/leftImg8bit_trainvaltest/leftImg8bit/train/zurich/zurich_000045_000019_leftImg8bit.png\n"
     ]
    },
    {
     "name": "stderr",
     "output_type": "stream",
     "text": [
      "/usr/local/lib/python3.7/site-packages/skimage/io/_io.py:142: UserWarning: ../../datasets/aurora/instagan/train/sampleA_seg/77_0.png is a boolean image: setting True to 1 and False to 0\n",
      "  warn('%s is a boolean image: setting True to 1 and False to 0' % fname)\n",
      "/usr/local/lib/python3.7/site-packages/skimage/io/_io.py:142: UserWarning: ../../datasets/aurora/instagan/train/sampleA_seg/77_1.png is a boolean image: setting True to 1 and False to 0\n",
      "  warn('%s is a boolean image: setting True to 1 and False to 0' % fname)\n"
     ]
    },
    {
     "name": "stdout",
     "output_type": "stream",
     "text": [
      "Processing image ../../datasets/cityscapes-dataset/leftImg8bit_trainvaltest/leftImg8bit/train/zurich/zurich_000084_000019_leftImg8bit.png\n"
     ]
    },
    {
     "name": "stderr",
     "output_type": "stream",
     "text": [
      "/usr/local/lib/python3.7/site-packages/skimage/io/_io.py:142: UserWarning: ../../datasets/aurora/instagan/train/sampleA_seg/78_0.png is a boolean image: setting True to 1 and False to 0\n",
      "  warn('%s is a boolean image: setting True to 1 and False to 0' % fname)\n",
      "/usr/local/lib/python3.7/site-packages/skimage/io/_io.py:140: UserWarning: ../../datasets/aurora/instagan/train/sampleA_seg/78_1.png is a low contrast image\n",
      "  warn('%s is a low contrast image' % fname)\n",
      "/usr/local/lib/python3.7/site-packages/skimage/io/_io.py:142: UserWarning: ../../datasets/aurora/instagan/train/sampleA_seg/78_1.png is a boolean image: setting True to 1 and False to 0\n",
      "  warn('%s is a boolean image: setting True to 1 and False to 0' % fname)\n",
      "/usr/local/lib/python3.7/site-packages/skimage/io/_io.py:140: UserWarning: ../../datasets/aurora/instagan/train/sampleA_seg/78_2.png is a low contrast image\n",
      "  warn('%s is a low contrast image' % fname)\n",
      "/usr/local/lib/python3.7/site-packages/skimage/io/_io.py:142: UserWarning: ../../datasets/aurora/instagan/train/sampleA_seg/78_2.png is a boolean image: setting True to 1 and False to 0\n",
      "  warn('%s is a boolean image: setting True to 1 and False to 0' % fname)\n",
      "/usr/local/lib/python3.7/site-packages/skimage/io/_io.py:142: UserWarning: ../../datasets/aurora/instagan/train/sampleA_seg/78_3.png is a boolean image: setting True to 1 and False to 0\n",
      "  warn('%s is a boolean image: setting True to 1 and False to 0' % fname)\n",
      "/usr/local/lib/python3.7/site-packages/skimage/io/_io.py:142: UserWarning: ../../datasets/aurora/instagan/train/sampleA_seg/78_4.png is a boolean image: setting True to 1 and False to 0\n",
      "  warn('%s is a boolean image: setting True to 1 and False to 0' % fname)\n",
      "/usr/local/lib/python3.7/site-packages/skimage/io/_io.py:142: UserWarning: ../../datasets/aurora/instagan/train/sampleA_seg/78_5.png is a boolean image: setting True to 1 and False to 0\n",
      "  warn('%s is a boolean image: setting True to 1 and False to 0' % fname)\n",
      "/usr/local/lib/python3.7/site-packages/skimage/io/_io.py:142: UserWarning: ../../datasets/aurora/instagan/train/sampleA_seg/78_6.png is a boolean image: setting True to 1 and False to 0\n",
      "  warn('%s is a boolean image: setting True to 1 and False to 0' % fname)\n"
     ]
    },
    {
     "name": "stdout",
     "output_type": "stream",
     "text": [
      "Processing image ../../datasets/cityscapes-dataset/leftImg8bit_trainvaltest/leftImg8bit/train/zurich/zurich_000030_000019_leftImg8bit.png\n"
     ]
    },
    {
     "name": "stderr",
     "output_type": "stream",
     "text": [
      "/usr/local/lib/python3.7/site-packages/skimage/io/_io.py:142: UserWarning: ../../datasets/aurora/instagan/train/sampleA_seg/79_0.png is a boolean image: setting True to 1 and False to 0\n",
      "  warn('%s is a boolean image: setting True to 1 and False to 0' % fname)\n",
      "/usr/local/lib/python3.7/site-packages/skimage/io/_io.py:140: UserWarning: ../../datasets/aurora/instagan/train/sampleA_seg/79_1.png is a low contrast image\n",
      "  warn('%s is a low contrast image' % fname)\n",
      "/usr/local/lib/python3.7/site-packages/skimage/io/_io.py:142: UserWarning: ../../datasets/aurora/instagan/train/sampleA_seg/79_1.png is a boolean image: setting True to 1 and False to 0\n",
      "  warn('%s is a boolean image: setting True to 1 and False to 0' % fname)\n"
     ]
    },
    {
     "name": "stdout",
     "output_type": "stream",
     "text": [
      "Processing image ../../datasets/cityscapes-dataset/leftImg8bit_trainvaltest/leftImg8bit/train/zurich/zurich_000001_000019_leftImg8bit.png\n"
     ]
    },
    {
     "name": "stderr",
     "output_type": "stream",
     "text": [
      "/usr/local/lib/python3.7/site-packages/skimage/io/_io.py:142: UserWarning: ../../datasets/aurora/instagan/train/sampleA_seg/80_0.png is a boolean image: setting True to 1 and False to 0\n",
      "  warn('%s is a boolean image: setting True to 1 and False to 0' % fname)\n",
      "/usr/local/lib/python3.7/site-packages/skimage/io/_io.py:142: UserWarning: ../../datasets/aurora/instagan/train/sampleA_seg/80_1.png is a boolean image: setting True to 1 and False to 0\n",
      "  warn('%s is a boolean image: setting True to 1 and False to 0' % fname)\n",
      "/usr/local/lib/python3.7/site-packages/skimage/io/_io.py:140: UserWarning: ../../datasets/aurora/instagan/train/sampleA_seg/80_2.png is a low contrast image\n",
      "  warn('%s is a low contrast image' % fname)\n",
      "/usr/local/lib/python3.7/site-packages/skimage/io/_io.py:142: UserWarning: ../../datasets/aurora/instagan/train/sampleA_seg/80_2.png is a boolean image: setting True to 1 and False to 0\n",
      "  warn('%s is a boolean image: setting True to 1 and False to 0' % fname)\n",
      "/usr/local/lib/python3.7/site-packages/skimage/io/_io.py:140: UserWarning: ../../datasets/aurora/instagan/train/sampleA_seg/80_3.png is a low contrast image\n",
      "  warn('%s is a low contrast image' % fname)\n",
      "/usr/local/lib/python3.7/site-packages/skimage/io/_io.py:142: UserWarning: ../../datasets/aurora/instagan/train/sampleA_seg/80_3.png is a boolean image: setting True to 1 and False to 0\n",
      "  warn('%s is a boolean image: setting True to 1 and False to 0' % fname)\n"
     ]
    },
    {
     "name": "stdout",
     "output_type": "stream",
     "text": [
      "Processing image ../../datasets/cityscapes-dataset/leftImg8bit_trainvaltest/leftImg8bit/train/zurich/zurich_000074_000019_leftImg8bit.png\n"
     ]
    },
    {
     "name": "stderr",
     "output_type": "stream",
     "text": [
      "/usr/local/lib/python3.7/site-packages/skimage/io/_io.py:140: UserWarning: ../../datasets/aurora/instagan/train/sampleA_seg/81_0.png is a low contrast image\n",
      "  warn('%s is a low contrast image' % fname)\n",
      "/usr/local/lib/python3.7/site-packages/skimage/io/_io.py:142: UserWarning: ../../datasets/aurora/instagan/train/sampleA_seg/81_0.png is a boolean image: setting True to 1 and False to 0\n",
      "  warn('%s is a boolean image: setting True to 1 and False to 0' % fname)\n",
      "/usr/local/lib/python3.7/site-packages/skimage/io/_io.py:142: UserWarning: ../../datasets/aurora/instagan/train/sampleA_seg/81_1.png is a boolean image: setting True to 1 and False to 0\n",
      "  warn('%s is a boolean image: setting True to 1 and False to 0' % fname)\n",
      "/usr/local/lib/python3.7/site-packages/skimage/io/_io.py:142: UserWarning: ../../datasets/aurora/instagan/train/sampleA_seg/81_2.png is a boolean image: setting True to 1 and False to 0\n",
      "  warn('%s is a boolean image: setting True to 1 and False to 0' % fname)\n",
      "/usr/local/lib/python3.7/site-packages/skimage/io/_io.py:142: UserWarning: ../../datasets/aurora/instagan/train/sampleA_seg/81_3.png is a boolean image: setting True to 1 and False to 0\n",
      "  warn('%s is a boolean image: setting True to 1 and False to 0' % fname)\n"
     ]
    },
    {
     "name": "stdout",
     "output_type": "stream",
     "text": [
      "Processing image ../../datasets/cityscapes-dataset/leftImg8bit_trainvaltest/leftImg8bit/train/zurich/zurich_000107_000019_leftImg8bit.png\n"
     ]
    },
    {
     "name": "stderr",
     "output_type": "stream",
     "text": [
      "/usr/local/lib/python3.7/site-packages/skimage/io/_io.py:142: UserWarning: ../../datasets/aurora/instagan/train/sampleA_seg/82_0.png is a boolean image: setting True to 1 and False to 0\n",
      "  warn('%s is a boolean image: setting True to 1 and False to 0' % fname)\n",
      "/usr/local/lib/python3.7/site-packages/skimage/io/_io.py:142: UserWarning: ../../datasets/aurora/instagan/train/sampleA_seg/82_1.png is a boolean image: setting True to 1 and False to 0\n",
      "  warn('%s is a boolean image: setting True to 1 and False to 0' % fname)\n",
      "/usr/local/lib/python3.7/site-packages/skimage/io/_io.py:142: UserWarning: ../../datasets/aurora/instagan/train/sampleA_seg/82_2.png is a boolean image: setting True to 1 and False to 0\n",
      "  warn('%s is a boolean image: setting True to 1 and False to 0' % fname)\n"
     ]
    },
    {
     "name": "stdout",
     "output_type": "stream",
     "text": [
      "Processing image ../../datasets/cityscapes-dataset/leftImg8bit_trainvaltest/leftImg8bit/train/zurich/zurich_000048_000019_leftImg8bit.png\n"
     ]
    },
    {
     "name": "stderr",
     "output_type": "stream",
     "text": [
      "/usr/local/lib/python3.7/site-packages/skimage/io/_io.py:142: UserWarning: ../../datasets/aurora/instagan/train/sampleA_seg/83_0.png is a boolean image: setting True to 1 and False to 0\n",
      "  warn('%s is a boolean image: setting True to 1 and False to 0' % fname)\n",
      "/usr/local/lib/python3.7/site-packages/skimage/io/_io.py:142: UserWarning: ../../datasets/aurora/instagan/train/sampleA_seg/83_1.png is a boolean image: setting True to 1 and False to 0\n",
      "  warn('%s is a boolean image: setting True to 1 and False to 0' % fname)\n"
     ]
    },
    {
     "name": "stdout",
     "output_type": "stream",
     "text": [
      "Processing image ../../datasets/cityscapes-dataset/leftImg8bit_trainvaltest/leftImg8bit/train/zurich/zurich_000089_000019_leftImg8bit.png\n"
     ]
    },
    {
     "name": "stderr",
     "output_type": "stream",
     "text": [
      "/usr/local/lib/python3.7/site-packages/skimage/io/_io.py:140: UserWarning: ../../datasets/aurora/instagan/train/sampleA_seg/84_0.png is a low contrast image\n",
      "  warn('%s is a low contrast image' % fname)\n",
      "/usr/local/lib/python3.7/site-packages/skimage/io/_io.py:142: UserWarning: ../../datasets/aurora/instagan/train/sampleA_seg/84_0.png is a boolean image: setting True to 1 and False to 0\n",
      "  warn('%s is a boolean image: setting True to 1 and False to 0' % fname)\n",
      "/usr/local/lib/python3.7/site-packages/skimage/io/_io.py:140: UserWarning: ../../datasets/aurora/instagan/train/sampleA_seg/84_1.png is a low contrast image\n",
      "  warn('%s is a low contrast image' % fname)\n",
      "/usr/local/lib/python3.7/site-packages/skimage/io/_io.py:142: UserWarning: ../../datasets/aurora/instagan/train/sampleA_seg/84_1.png is a boolean image: setting True to 1 and False to 0\n",
      "  warn('%s is a boolean image: setting True to 1 and False to 0' % fname)\n",
      "/usr/local/lib/python3.7/site-packages/skimage/io/_io.py:140: UserWarning: ../../datasets/aurora/instagan/train/sampleA_seg/84_2.png is a low contrast image\n",
      "  warn('%s is a low contrast image' % fname)\n",
      "/usr/local/lib/python3.7/site-packages/skimage/io/_io.py:142: UserWarning: ../../datasets/aurora/instagan/train/sampleA_seg/84_2.png is a boolean image: setting True to 1 and False to 0\n",
      "  warn('%s is a boolean image: setting True to 1 and False to 0' % fname)\n",
      "/usr/local/lib/python3.7/site-packages/skimage/io/_io.py:140: UserWarning: ../../datasets/aurora/instagan/train/sampleA_seg/84_3.png is a low contrast image\n",
      "  warn('%s is a low contrast image' % fname)\n",
      "/usr/local/lib/python3.7/site-packages/skimage/io/_io.py:142: UserWarning: ../../datasets/aurora/instagan/train/sampleA_seg/84_3.png is a boolean image: setting True to 1 and False to 0\n",
      "  warn('%s is a boolean image: setting True to 1 and False to 0' % fname)\n",
      "/usr/local/lib/python3.7/site-packages/skimage/io/_io.py:142: UserWarning: ../../datasets/aurora/instagan/train/sampleA_seg/84_4.png is a boolean image: setting True to 1 and False to 0\n",
      "  warn('%s is a boolean image: setting True to 1 and False to 0' % fname)\n",
      "/usr/local/lib/python3.7/site-packages/skimage/io/_io.py:142: UserWarning: ../../datasets/aurora/instagan/train/sampleA_seg/84_5.png is a boolean image: setting True to 1 and False to 0\n",
      "  warn('%s is a boolean image: setting True to 1 and False to 0' % fname)\n",
      "/usr/local/lib/python3.7/site-packages/skimage/io/_io.py:142: UserWarning: ../../datasets/aurora/instagan/train/sampleA_seg/84_6.png is a boolean image: setting True to 1 and False to 0\n",
      "  warn('%s is a boolean image: setting True to 1 and False to 0' % fname)\n",
      "/usr/local/lib/python3.7/site-packages/skimage/io/_io.py:140: UserWarning: ../../datasets/aurora/instagan/train/sampleA_seg/84_7.png is a low contrast image\n",
      "  warn('%s is a low contrast image' % fname)\n",
      "/usr/local/lib/python3.7/site-packages/skimage/io/_io.py:142: UserWarning: ../../datasets/aurora/instagan/train/sampleA_seg/84_7.png is a boolean image: setting True to 1 and False to 0\n",
      "  warn('%s is a boolean image: setting True to 1 and False to 0' % fname)\n"
     ]
    },
    {
     "name": "stdout",
     "output_type": "stream",
     "text": [
      "Processing image ../../datasets/cityscapes-dataset/leftImg8bit_trainvaltest/leftImg8bit/train/zurich/zurich_000042_000019_leftImg8bit.png\n"
     ]
    },
    {
     "name": "stderr",
     "output_type": "stream",
     "text": [
      "/usr/local/lib/python3.7/site-packages/skimage/io/_io.py:142: UserWarning: ../../datasets/aurora/instagan/train/sampleA_seg/85_0.png is a boolean image: setting True to 1 and False to 0\n",
      "  warn('%s is a boolean image: setting True to 1 and False to 0' % fname)\n"
     ]
    },
    {
     "name": "stdout",
     "output_type": "stream",
     "text": [
      "Processing image ../../datasets/cityscapes-dataset/leftImg8bit_trainvaltest/leftImg8bit/train/zurich/zurich_000083_000019_leftImg8bit.png\n"
     ]
    },
    {
     "name": "stderr",
     "output_type": "stream",
     "text": [
      "/usr/local/lib/python3.7/site-packages/skimage/io/_io.py:142: UserWarning: ../../datasets/aurora/instagan/train/sampleA_seg/86_0.png is a boolean image: setting True to 1 and False to 0\n",
      "  warn('%s is a boolean image: setting True to 1 and False to 0' % fname)\n",
      "/usr/local/lib/python3.7/site-packages/skimage/io/_io.py:140: UserWarning: ../../datasets/aurora/instagan/train/sampleA_seg/86_1.png is a low contrast image\n",
      "  warn('%s is a low contrast image' % fname)\n",
      "/usr/local/lib/python3.7/site-packages/skimage/io/_io.py:142: UserWarning: ../../datasets/aurora/instagan/train/sampleA_seg/86_1.png is a boolean image: setting True to 1 and False to 0\n",
      "  warn('%s is a boolean image: setting True to 1 and False to 0' % fname)\n",
      "/usr/local/lib/python3.7/site-packages/skimage/io/_io.py:142: UserWarning: ../../datasets/aurora/instagan/train/sampleA_seg/86_2.png is a boolean image: setting True to 1 and False to 0\n",
      "  warn('%s is a boolean image: setting True to 1 and False to 0' % fname)\n",
      "/usr/local/lib/python3.7/site-packages/skimage/io/_io.py:142: UserWarning: ../../datasets/aurora/instagan/train/sampleA_seg/86_3.png is a boolean image: setting True to 1 and False to 0\n",
      "  warn('%s is a boolean image: setting True to 1 and False to 0' % fname)\n",
      "/usr/local/lib/python3.7/site-packages/skimage/io/_io.py:142: UserWarning: ../../datasets/aurora/instagan/train/sampleA_seg/86_4.png is a boolean image: setting True to 1 and False to 0\n",
      "  warn('%s is a boolean image: setting True to 1 and False to 0' % fname)\n"
     ]
    },
    {
     "name": "stdout",
     "output_type": "stream",
     "text": [
      "Processing image ../../datasets/cityscapes-dataset/leftImg8bit_trainvaltest/leftImg8bit/train/zurich/zurich_000037_000019_leftImg8bit.png\n",
      "Processing image ../../datasets/cityscapes-dataset/leftImg8bit_trainvaltest/leftImg8bit/train/zurich/zurich_000006_000019_leftImg8bit.png\n"
     ]
    },
    {
     "name": "stderr",
     "output_type": "stream",
     "text": [
      "/usr/local/lib/python3.7/site-packages/skimage/io/_io.py:142: UserWarning: ../../datasets/aurora/instagan/train/sampleA_seg/88_0.png is a boolean image: setting True to 1 and False to 0\n",
      "  warn('%s is a boolean image: setting True to 1 and False to 0' % fname)\n"
     ]
    },
    {
     "name": "stdout",
     "output_type": "stream",
     "text": [
      "Processing image ../../datasets/cityscapes-dataset/leftImg8bit_trainvaltest/leftImg8bit/train/zurich/zurich_000073_000019_leftImg8bit.png\n"
     ]
    },
    {
     "name": "stderr",
     "output_type": "stream",
     "text": [
      "/usr/local/lib/python3.7/site-packages/skimage/io/_io.py:142: UserWarning: ../../datasets/aurora/instagan/train/sampleA_seg/89_0.png is a boolean image: setting True to 1 and False to 0\n",
      "  warn('%s is a boolean image: setting True to 1 and False to 0' % fname)\n",
      "/usr/local/lib/python3.7/site-packages/skimage/io/_io.py:142: UserWarning: ../../datasets/aurora/instagan/train/sampleA_seg/89_1.png is a boolean image: setting True to 1 and False to 0\n",
      "  warn('%s is a boolean image: setting True to 1 and False to 0' % fname)\n",
      "/usr/local/lib/python3.7/site-packages/skimage/io/_io.py:142: UserWarning: ../../datasets/aurora/instagan/train/sampleA_seg/89_2.png is a boolean image: setting True to 1 and False to 0\n",
      "  warn('%s is a boolean image: setting True to 1 and False to 0' % fname)\n",
      "/usr/local/lib/python3.7/site-packages/skimage/io/_io.py:142: UserWarning: ../../datasets/aurora/instagan/train/sampleA_seg/89_3.png is a boolean image: setting True to 1 and False to 0\n",
      "  warn('%s is a boolean image: setting True to 1 and False to 0' % fname)\n"
     ]
    },
    {
     "name": "stdout",
     "output_type": "stream",
     "text": [
      "Processing image ../../datasets/cityscapes-dataset/leftImg8bit_trainvaltest/leftImg8bit/train/zurich/zurich_000100_000019_leftImg8bit.png\n"
     ]
    },
    {
     "name": "stderr",
     "output_type": "stream",
     "text": [
      "/usr/local/lib/python3.7/site-packages/skimage/io/_io.py:142: UserWarning: ../../datasets/aurora/instagan/train/sampleA_seg/90_0.png is a boolean image: setting True to 1 and False to 0\n",
      "  warn('%s is a boolean image: setting True to 1 and False to 0' % fname)\n",
      "/usr/local/lib/python3.7/site-packages/skimage/io/_io.py:142: UserWarning: ../../datasets/aurora/instagan/train/sampleA_seg/90_1.png is a boolean image: setting True to 1 and False to 0\n",
      "  warn('%s is a boolean image: setting True to 1 and False to 0' % fname)\n",
      "/usr/local/lib/python3.7/site-packages/skimage/io/_io.py:142: UserWarning: ../../datasets/aurora/instagan/train/sampleA_seg/90_2.png is a boolean image: setting True to 1 and False to 0\n",
      "  warn('%s is a boolean image: setting True to 1 and False to 0' % fname)\n",
      "/usr/local/lib/python3.7/site-packages/skimage/io/_io.py:142: UserWarning: ../../datasets/aurora/instagan/train/sampleA_seg/90_3.png is a boolean image: setting True to 1 and False to 0\n",
      "  warn('%s is a boolean image: setting True to 1 and False to 0' % fname)\n"
     ]
    },
    {
     "name": "stdout",
     "output_type": "stream",
     "text": [
      "Processing image ../../datasets/cityscapes-dataset/leftImg8bit_trainvaltest/leftImg8bit/train/zurich/zurich_000079_000019_leftImg8bit.png\n"
     ]
    },
    {
     "name": "stderr",
     "output_type": "stream",
     "text": [
      "/usr/local/lib/python3.7/site-packages/skimage/io/_io.py:140: UserWarning: ../../datasets/aurora/instagan/train/sampleA_seg/91_0.png is a low contrast image\n",
      "  warn('%s is a low contrast image' % fname)\n",
      "/usr/local/lib/python3.7/site-packages/skimage/io/_io.py:142: UserWarning: ../../datasets/aurora/instagan/train/sampleA_seg/91_0.png is a boolean image: setting True to 1 and False to 0\n",
      "  warn('%s is a boolean image: setting True to 1 and False to 0' % fname)\n",
      "/usr/local/lib/python3.7/site-packages/skimage/io/_io.py:142: UserWarning: ../../datasets/aurora/instagan/train/sampleA_seg/91_1.png is a boolean image: setting True to 1 and False to 0\n",
      "  warn('%s is a boolean image: setting True to 1 and False to 0' % fname)\n",
      "/usr/local/lib/python3.7/site-packages/skimage/io/_io.py:140: UserWarning: ../../datasets/aurora/instagan/train/sampleA_seg/91_2.png is a low contrast image\n",
      "  warn('%s is a low contrast image' % fname)\n",
      "/usr/local/lib/python3.7/site-packages/skimage/io/_io.py:142: UserWarning: ../../datasets/aurora/instagan/train/sampleA_seg/91_2.png is a boolean image: setting True to 1 and False to 0\n",
      "  warn('%s is a boolean image: setting True to 1 and False to 0' % fname)\n",
      "/usr/local/lib/python3.7/site-packages/skimage/io/_io.py:142: UserWarning: ../../datasets/aurora/instagan/train/sampleA_seg/91_3.png is a boolean image: setting True to 1 and False to 0\n",
      "  warn('%s is a boolean image: setting True to 1 and False to 0' % fname)\n",
      "/usr/local/lib/python3.7/site-packages/skimage/io/_io.py:142: UserWarning: ../../datasets/aurora/instagan/train/sampleA_seg/91_4.png is a boolean image: setting True to 1 and False to 0\n",
      "  warn('%s is a boolean image: setting True to 1 and False to 0' % fname)\n",
      "/usr/local/lib/python3.7/site-packages/skimage/io/_io.py:142: UserWarning: ../../datasets/aurora/instagan/train/sampleA_seg/91_5.png is a boolean image: setting True to 1 and False to 0\n",
      "  warn('%s is a boolean image: setting True to 1 and False to 0' % fname)\n",
      "/usr/local/lib/python3.7/site-packages/skimage/io/_io.py:142: UserWarning: ../../datasets/aurora/instagan/train/sampleA_seg/91_6.png is a boolean image: setting True to 1 and False to 0\n",
      "  warn('%s is a boolean image: setting True to 1 and False to 0' % fname)\n",
      "/usr/local/lib/python3.7/site-packages/skimage/io/_io.py:142: UserWarning: ../../datasets/aurora/instagan/train/sampleA_seg/91_7.png is a boolean image: setting True to 1 and False to 0\n",
      "  warn('%s is a boolean image: setting True to 1 and False to 0' % fname)\n"
     ]
    },
    {
     "name": "stdout",
     "output_type": "stream",
     "text": [
      "Processing image ../../datasets/cityscapes-dataset/leftImg8bit_trainvaltest/leftImg8bit/train/zurich/zurich_000078_000019_leftImg8bit.png\n"
     ]
    },
    {
     "name": "stderr",
     "output_type": "stream",
     "text": [
      "/usr/local/lib/python3.7/site-packages/skimage/io/_io.py:142: UserWarning: ../../datasets/aurora/instagan/train/sampleA_seg/92_0.png is a boolean image: setting True to 1 and False to 0\n",
      "  warn('%s is a boolean image: setting True to 1 and False to 0' % fname)\n",
      "/usr/local/lib/python3.7/site-packages/skimage/io/_io.py:142: UserWarning: ../../datasets/aurora/instagan/train/sampleA_seg/92_1.png is a boolean image: setting True to 1 and False to 0\n",
      "  warn('%s is a boolean image: setting True to 1 and False to 0' % fname)\n",
      "/usr/local/lib/python3.7/site-packages/skimage/io/_io.py:142: UserWarning: ../../datasets/aurora/instagan/train/sampleA_seg/92_2.png is a boolean image: setting True to 1 and False to 0\n",
      "  warn('%s is a boolean image: setting True to 1 and False to 0' % fname)\n"
     ]
    },
    {
     "name": "stdout",
     "output_type": "stream",
     "text": [
      "Processing image ../../datasets/cityscapes-dataset/leftImg8bit_trainvaltest/leftImg8bit/train/zurich/zurich_000007_000019_leftImg8bit.png\n"
     ]
    },
    {
     "name": "stderr",
     "output_type": "stream",
     "text": [
      "/usr/local/lib/python3.7/site-packages/skimage/io/_io.py:142: UserWarning: ../../datasets/aurora/instagan/train/sampleA_seg/93_0.png is a boolean image: setting True to 1 and False to 0\n",
      "  warn('%s is a boolean image: setting True to 1 and False to 0' % fname)\n",
      "/usr/local/lib/python3.7/site-packages/skimage/io/_io.py:142: UserWarning: ../../datasets/aurora/instagan/train/sampleA_seg/93_1.png is a boolean image: setting True to 1 and False to 0\n",
      "  warn('%s is a boolean image: setting True to 1 and False to 0' % fname)\n"
     ]
    },
    {
     "name": "stdout",
     "output_type": "stream",
     "text": [
      "Processing image ../../datasets/cityscapes-dataset/leftImg8bit_trainvaltest/leftImg8bit/train/zurich/zurich_000101_000019_leftImg8bit.png\n"
     ]
    },
    {
     "name": "stderr",
     "output_type": "stream",
     "text": [
      "/usr/local/lib/python3.7/site-packages/skimage/io/_io.py:142: UserWarning: ../../datasets/aurora/instagan/train/sampleA_seg/94_0.png is a boolean image: setting True to 1 and False to 0\n",
      "  warn('%s is a boolean image: setting True to 1 and False to 0' % fname)\n",
      "/usr/local/lib/python3.7/site-packages/skimage/io/_io.py:140: UserWarning: ../../datasets/aurora/instagan/train/sampleA_seg/94_1.png is a low contrast image\n",
      "  warn('%s is a low contrast image' % fname)\n",
      "/usr/local/lib/python3.7/site-packages/skimage/io/_io.py:142: UserWarning: ../../datasets/aurora/instagan/train/sampleA_seg/94_1.png is a boolean image: setting True to 1 and False to 0\n",
      "  warn('%s is a boolean image: setting True to 1 and False to 0' % fname)\n",
      "/usr/local/lib/python3.7/site-packages/skimage/io/_io.py:142: UserWarning: ../../datasets/aurora/instagan/train/sampleA_seg/94_2.png is a boolean image: setting True to 1 and False to 0\n",
      "  warn('%s is a boolean image: setting True to 1 and False to 0' % fname)\n",
      "/usr/local/lib/python3.7/site-packages/skimage/io/_io.py:142: UserWarning: ../../datasets/aurora/instagan/train/sampleA_seg/94_3.png is a boolean image: setting True to 1 and False to 0\n",
      "  warn('%s is a boolean image: setting True to 1 and False to 0' % fname)\n"
     ]
    },
    {
     "name": "stdout",
     "output_type": "stream",
     "text": [
      "Processing image ../../datasets/cityscapes-dataset/leftImg8bit_trainvaltest/leftImg8bit/train/zurich/zurich_000072_000019_leftImg8bit.png\n"
     ]
    },
    {
     "name": "stderr",
     "output_type": "stream",
     "text": [
      "/usr/local/lib/python3.7/site-packages/skimage/io/_io.py:142: UserWarning: ../../datasets/aurora/instagan/train/sampleA_seg/95_0.png is a boolean image: setting True to 1 and False to 0\n",
      "  warn('%s is a boolean image: setting True to 1 and False to 0' % fname)\n",
      "/usr/local/lib/python3.7/site-packages/skimage/io/_io.py:142: UserWarning: ../../datasets/aurora/instagan/train/sampleA_seg/95_1.png is a boolean image: setting True to 1 and False to 0\n",
      "  warn('%s is a boolean image: setting True to 1 and False to 0' % fname)\n",
      "/usr/local/lib/python3.7/site-packages/skimage/io/_io.py:142: UserWarning: ../../datasets/aurora/instagan/train/sampleA_seg/95_2.png is a boolean image: setting True to 1 and False to 0\n",
      "  warn('%s is a boolean image: setting True to 1 and False to 0' % fname)\n",
      "/usr/local/lib/python3.7/site-packages/skimage/io/_io.py:142: UserWarning: ../../datasets/aurora/instagan/train/sampleA_seg/95_3.png is a boolean image: setting True to 1 and False to 0\n",
      "  warn('%s is a boolean image: setting True to 1 and False to 0' % fname)\n"
     ]
    },
    {
     "name": "stdout",
     "output_type": "stream",
     "text": [
      "Processing image ../../datasets/cityscapes-dataset/leftImg8bit_trainvaltest/leftImg8bit/train/zurich/zurich_000082_000019_leftImg8bit.png\n"
     ]
    },
    {
     "name": "stderr",
     "output_type": "stream",
     "text": [
      "/usr/local/lib/python3.7/site-packages/skimage/io/_io.py:142: UserWarning: ../../datasets/aurora/instagan/train/sampleA_seg/96_0.png is a boolean image: setting True to 1 and False to 0\n",
      "  warn('%s is a boolean image: setting True to 1 and False to 0' % fname)\n",
      "/usr/local/lib/python3.7/site-packages/skimage/io/_io.py:142: UserWarning: ../../datasets/aurora/instagan/train/sampleA_seg/96_1.png is a boolean image: setting True to 1 and False to 0\n",
      "  warn('%s is a boolean image: setting True to 1 and False to 0' % fname)\n",
      "/usr/local/lib/python3.7/site-packages/skimage/io/_io.py:142: UserWarning: ../../datasets/aurora/instagan/train/sampleA_seg/96_2.png is a boolean image: setting True to 1 and False to 0\n",
      "  warn('%s is a boolean image: setting True to 1 and False to 0' % fname)\n"
     ]
    },
    {
     "name": "stdout",
     "output_type": "stream",
     "text": [
      "Processing image ../../datasets/cityscapes-dataset/leftImg8bit_trainvaltest/leftImg8bit/train/zurich/zurich_000043_000019_leftImg8bit.png\n"
     ]
    },
    {
     "name": "stderr",
     "output_type": "stream",
     "text": [
      "/usr/local/lib/python3.7/site-packages/skimage/io/_io.py:142: UserWarning: ../../datasets/aurora/instagan/train/sampleA_seg/97_0.png is a boolean image: setting True to 1 and False to 0\n",
      "  warn('%s is a boolean image: setting True to 1 and False to 0' % fname)\n"
     ]
    },
    {
     "name": "stdout",
     "output_type": "stream",
     "text": [
      "Processing image ../../datasets/cityscapes-dataset/leftImg8bit_trainvaltest/leftImg8bit/train/zurich/zurich_000036_000019_leftImg8bit.png\n"
     ]
    },
    {
     "name": "stderr",
     "output_type": "stream",
     "text": [
      "/usr/local/lib/python3.7/site-packages/skimage/io/_io.py:142: UserWarning: ../../datasets/aurora/instagan/train/sampleA_seg/98_0.png is a boolean image: setting True to 1 and False to 0\n",
      "  warn('%s is a boolean image: setting True to 1 and False to 0' % fname)\n",
      "/usr/local/lib/python3.7/site-packages/skimage/io/_io.py:140: UserWarning: ../../datasets/aurora/instagan/train/sampleA_seg/98_1.png is a low contrast image\n",
      "  warn('%s is a low contrast image' % fname)\n",
      "/usr/local/lib/python3.7/site-packages/skimage/io/_io.py:142: UserWarning: ../../datasets/aurora/instagan/train/sampleA_seg/98_1.png is a boolean image: setting True to 1 and False to 0\n",
      "  warn('%s is a boolean image: setting True to 1 and False to 0' % fname)\n",
      "/usr/local/lib/python3.7/site-packages/skimage/io/_io.py:140: UserWarning: ../../datasets/aurora/instagan/train/sampleA_seg/98_2.png is a low contrast image\n",
      "  warn('%s is a low contrast image' % fname)\n",
      "/usr/local/lib/python3.7/site-packages/skimage/io/_io.py:142: UserWarning: ../../datasets/aurora/instagan/train/sampleA_seg/98_2.png is a boolean image: setting True to 1 and False to 0\n",
      "  warn('%s is a boolean image: setting True to 1 and False to 0' % fname)\n",
      "/usr/local/lib/python3.7/site-packages/skimage/io/_io.py:140: UserWarning: ../../datasets/aurora/instagan/train/sampleA_seg/98_3.png is a low contrast image\n",
      "  warn('%s is a low contrast image' % fname)\n",
      "/usr/local/lib/python3.7/site-packages/skimage/io/_io.py:142: UserWarning: ../../datasets/aurora/instagan/train/sampleA_seg/98_3.png is a boolean image: setting True to 1 and False to 0\n",
      "  warn('%s is a boolean image: setting True to 1 and False to 0' % fname)\n",
      "/usr/local/lib/python3.7/site-packages/skimage/io/_io.py:140: UserWarning: ../../datasets/aurora/instagan/train/sampleA_seg/98_4.png is a low contrast image\n",
      "  warn('%s is a low contrast image' % fname)\n",
      "/usr/local/lib/python3.7/site-packages/skimage/io/_io.py:142: UserWarning: ../../datasets/aurora/instagan/train/sampleA_seg/98_4.png is a boolean image: setting True to 1 and False to 0\n",
      "  warn('%s is a boolean image: setting True to 1 and False to 0' % fname)\n",
      "/usr/local/lib/python3.7/site-packages/skimage/io/_io.py:140: UserWarning: ../../datasets/aurora/instagan/train/sampleA_seg/98_5.png is a low contrast image\n",
      "  warn('%s is a low contrast image' % fname)\n",
      "/usr/local/lib/python3.7/site-packages/skimage/io/_io.py:142: UserWarning: ../../datasets/aurora/instagan/train/sampleA_seg/98_5.png is a boolean image: setting True to 1 and False to 0\n",
      "  warn('%s is a boolean image: setting True to 1 and False to 0' % fname)\n",
      "/usr/local/lib/python3.7/site-packages/skimage/io/_io.py:140: UserWarning: ../../datasets/aurora/instagan/train/sampleA_seg/98_6.png is a low contrast image\n",
      "  warn('%s is a low contrast image' % fname)\n",
      "/usr/local/lib/python3.7/site-packages/skimage/io/_io.py:142: UserWarning: ../../datasets/aurora/instagan/train/sampleA_seg/98_6.png is a boolean image: setting True to 1 and False to 0\n",
      "  warn('%s is a boolean image: setting True to 1 and False to 0' % fname)\n",
      "/usr/local/lib/python3.7/site-packages/skimage/io/_io.py:140: UserWarning: ../../datasets/aurora/instagan/train/sampleA_seg/98_7.png is a low contrast image\n",
      "  warn('%s is a low contrast image' % fname)\n",
      "/usr/local/lib/python3.7/site-packages/skimage/io/_io.py:142: UserWarning: ../../datasets/aurora/instagan/train/sampleA_seg/98_7.png is a boolean image: setting True to 1 and False to 0\n",
      "  warn('%s is a boolean image: setting True to 1 and False to 0' % fname)\n",
      "/usr/local/lib/python3.7/site-packages/skimage/io/_io.py:140: UserWarning: ../../datasets/aurora/instagan/train/sampleA_seg/98_8.png is a low contrast image\n",
      "  warn('%s is a low contrast image' % fname)\n",
      "/usr/local/lib/python3.7/site-packages/skimage/io/_io.py:142: UserWarning: ../../datasets/aurora/instagan/train/sampleA_seg/98_8.png is a boolean image: setting True to 1 and False to 0\n",
      "  warn('%s is a boolean image: setting True to 1 and False to 0' % fname)\n"
     ]
    },
    {
     "name": "stdout",
     "output_type": "stream",
     "text": [
      "Processing image ../../datasets/cityscapes-dataset/leftImg8bit_trainvaltest/leftImg8bit/train/zurich/zurich_000088_000019_leftImg8bit.png\n"
     ]
    },
    {
     "name": "stderr",
     "output_type": "stream",
     "text": [
      "/usr/local/lib/python3.7/site-packages/skimage/io/_io.py:142: UserWarning: ../../datasets/aurora/instagan/train/sampleA_seg/99_0.png is a boolean image: setting True to 1 and False to 0\n",
      "  warn('%s is a boolean image: setting True to 1 and False to 0' % fname)\n",
      "/usr/local/lib/python3.7/site-packages/skimage/io/_io.py:142: UserWarning: ../../datasets/aurora/instagan/train/sampleA_seg/99_1.png is a boolean image: setting True to 1 and False to 0\n",
      "  warn('%s is a boolean image: setting True to 1 and False to 0' % fname)\n",
      "/usr/local/lib/python3.7/site-packages/skimage/io/_io.py:140: UserWarning: ../../datasets/aurora/instagan/train/sampleA_seg/99_2.png is a low contrast image\n",
      "  warn('%s is a low contrast image' % fname)\n",
      "/usr/local/lib/python3.7/site-packages/skimage/io/_io.py:142: UserWarning: ../../datasets/aurora/instagan/train/sampleA_seg/99_2.png is a boolean image: setting True to 1 and False to 0\n",
      "  warn('%s is a boolean image: setting True to 1 and False to 0' % fname)\n",
      "/usr/local/lib/python3.7/site-packages/skimage/io/_io.py:142: UserWarning: ../../datasets/aurora/instagan/train/sampleA_seg/99_3.png is a boolean image: setting True to 1 and False to 0\n",
      "  warn('%s is a boolean image: setting True to 1 and False to 0' % fname)\n",
      "/usr/local/lib/python3.7/site-packages/skimage/io/_io.py:142: UserWarning: ../../datasets/aurora/instagan/train/sampleA_seg/99_4.png is a boolean image: setting True to 1 and False to 0\n",
      "  warn('%s is a boolean image: setting True to 1 and False to 0' % fname)\n",
      "/usr/local/lib/python3.7/site-packages/skimage/io/_io.py:140: UserWarning: ../../datasets/aurora/instagan/train/sampleA_seg/99_5.png is a low contrast image\n",
      "  warn('%s is a low contrast image' % fname)\n",
      "/usr/local/lib/python3.7/site-packages/skimage/io/_io.py:142: UserWarning: ../../datasets/aurora/instagan/train/sampleA_seg/99_5.png is a boolean image: setting True to 1 and False to 0\n",
      "  warn('%s is a boolean image: setting True to 1 and False to 0' % fname)\n"
     ]
    },
    {
     "name": "stdout",
     "output_type": "stream",
     "text": [
      "Processing image ../../datasets/cityscapes-dataset/leftImg8bit_trainvaltest/leftImg8bit/train/zurich/zurich_000049_000019_leftImg8bit.png\n"
     ]
    },
    {
     "name": "stderr",
     "output_type": "stream",
     "text": [
      "/usr/local/lib/python3.7/site-packages/skimage/io/_io.py:142: UserWarning: ../../datasets/aurora/instagan/train/sampleA_seg/100_0.png is a boolean image: setting True to 1 and False to 0\n",
      "  warn('%s is a boolean image: setting True to 1 and False to 0' % fname)\n",
      "/usr/local/lib/python3.7/site-packages/skimage/io/_io.py:142: UserWarning: ../../datasets/aurora/instagan/train/sampleA_seg/100_1.png is a boolean image: setting True to 1 and False to 0\n",
      "  warn('%s is a boolean image: setting True to 1 and False to 0' % fname)\n"
     ]
    },
    {
     "name": "stdout",
     "output_type": "stream",
     "text": [
      "Processing image ../../datasets/cityscapes-dataset/leftImg8bit_trainvaltest/leftImg8bit/train/zurich/zurich_000000_000019_leftImg8bit.png\n"
     ]
    },
    {
     "name": "stderr",
     "output_type": "stream",
     "text": [
      "/usr/local/lib/python3.7/site-packages/skimage/io/_io.py:140: UserWarning: ../../datasets/aurora/instagan/train/sampleA_seg/101_0.png is a low contrast image\n",
      "  warn('%s is a low contrast image' % fname)\n",
      "/usr/local/lib/python3.7/site-packages/skimage/io/_io.py:142: UserWarning: ../../datasets/aurora/instagan/train/sampleA_seg/101_0.png is a boolean image: setting True to 1 and False to 0\n",
      "  warn('%s is a boolean image: setting True to 1 and False to 0' % fname)\n",
      "/usr/local/lib/python3.7/site-packages/skimage/io/_io.py:142: UserWarning: ../../datasets/aurora/instagan/train/sampleA_seg/101_1.png is a boolean image: setting True to 1 and False to 0\n",
      "  warn('%s is a boolean image: setting True to 1 and False to 0' % fname)\n",
      "/usr/local/lib/python3.7/site-packages/skimage/io/_io.py:142: UserWarning: ../../datasets/aurora/instagan/train/sampleA_seg/101_2.png is a boolean image: setting True to 1 and False to 0\n",
      "  warn('%s is a boolean image: setting True to 1 and False to 0' % fname)\n"
     ]
    },
    {
     "name": "stdout",
     "output_type": "stream",
     "text": [
      "Processing image ../../datasets/cityscapes-dataset/leftImg8bit_trainvaltest/leftImg8bit/train/zurich/zurich_000106_000019_leftImg8bit.png\n"
     ]
    },
    {
     "name": "stderr",
     "output_type": "stream",
     "text": [
      "/usr/local/lib/python3.7/site-packages/skimage/io/_io.py:142: UserWarning: ../../datasets/aurora/instagan/train/sampleA_seg/102_0.png is a boolean image: setting True to 1 and False to 0\n",
      "  warn('%s is a boolean image: setting True to 1 and False to 0' % fname)\n",
      "/usr/local/lib/python3.7/site-packages/skimage/io/_io.py:142: UserWarning: ../../datasets/aurora/instagan/train/sampleA_seg/102_1.png is a boolean image: setting True to 1 and False to 0\n",
      "  warn('%s is a boolean image: setting True to 1 and False to 0' % fname)\n",
      "/usr/local/lib/python3.7/site-packages/skimage/io/_io.py:142: UserWarning: ../../datasets/aurora/instagan/train/sampleA_seg/102_2.png is a boolean image: setting True to 1 and False to 0\n",
      "  warn('%s is a boolean image: setting True to 1 and False to 0' % fname)\n",
      "/usr/local/lib/python3.7/site-packages/skimage/io/_io.py:142: UserWarning: ../../datasets/aurora/instagan/train/sampleA_seg/102_3.png is a boolean image: setting True to 1 and False to 0\n",
      "  warn('%s is a boolean image: setting True to 1 and False to 0' % fname)\n"
     ]
    },
    {
     "name": "stdout",
     "output_type": "stream",
     "text": [
      "Processing image ../../datasets/cityscapes-dataset/leftImg8bit_trainvaltest/leftImg8bit/train/zurich/zurich_000075_000019_leftImg8bit.png\n"
     ]
    },
    {
     "name": "stderr",
     "output_type": "stream",
     "text": [
      "/usr/local/lib/python3.7/site-packages/skimage/io/_io.py:140: UserWarning: ../../datasets/aurora/instagan/train/sampleA_seg/103_0.png is a low contrast image\n",
      "  warn('%s is a low contrast image' % fname)\n",
      "/usr/local/lib/python3.7/site-packages/skimage/io/_io.py:142: UserWarning: ../../datasets/aurora/instagan/train/sampleA_seg/103_0.png is a boolean image: setting True to 1 and False to 0\n",
      "  warn('%s is a boolean image: setting True to 1 and False to 0' % fname)\n",
      "/usr/local/lib/python3.7/site-packages/skimage/io/_io.py:142: UserWarning: ../../datasets/aurora/instagan/train/sampleA_seg/103_1.png is a boolean image: setting True to 1 and False to 0\n",
      "  warn('%s is a boolean image: setting True to 1 and False to 0' % fname)\n",
      "/usr/local/lib/python3.7/site-packages/skimage/io/_io.py:142: UserWarning: ../../datasets/aurora/instagan/train/sampleA_seg/103_2.png is a boolean image: setting True to 1 and False to 0\n",
      "  warn('%s is a boolean image: setting True to 1 and False to 0' % fname)\n",
      "/usr/local/lib/python3.7/site-packages/skimage/io/_io.py:142: UserWarning: ../../datasets/aurora/instagan/train/sampleA_seg/103_3.png is a boolean image: setting True to 1 and False to 0\n",
      "  warn('%s is a boolean image: setting True to 1 and False to 0' % fname)\n",
      "/usr/local/lib/python3.7/site-packages/skimage/io/_io.py:142: UserWarning: ../../datasets/aurora/instagan/train/sampleA_seg/103_4.png is a boolean image: setting True to 1 and False to 0\n",
      "  warn('%s is a boolean image: setting True to 1 and False to 0' % fname)\n"
     ]
    },
    {
     "name": "stdout",
     "output_type": "stream",
     "text": [
      "Processing image ../../datasets/cityscapes-dataset/leftImg8bit_trainvaltest/leftImg8bit/train/zurich/zurich_000085_000019_leftImg8bit.png\n"
     ]
    },
    {
     "name": "stderr",
     "output_type": "stream",
     "text": [
      "/usr/local/lib/python3.7/site-packages/skimage/io/_io.py:142: UserWarning: ../../datasets/aurora/instagan/train/sampleA_seg/104_0.png is a boolean image: setting True to 1 and False to 0\n",
      "  warn('%s is a boolean image: setting True to 1 and False to 0' % fname)\n",
      "/usr/local/lib/python3.7/site-packages/skimage/io/_io.py:140: UserWarning: ../../datasets/aurora/instagan/train/sampleA_seg/104_1.png is a low contrast image\n",
      "  warn('%s is a low contrast image' % fname)\n",
      "/usr/local/lib/python3.7/site-packages/skimage/io/_io.py:142: UserWarning: ../../datasets/aurora/instagan/train/sampleA_seg/104_1.png is a boolean image: setting True to 1 and False to 0\n",
      "  warn('%s is a boolean image: setting True to 1 and False to 0' % fname)\n",
      "/usr/local/lib/python3.7/site-packages/skimage/io/_io.py:142: UserWarning: ../../datasets/aurora/instagan/train/sampleA_seg/104_2.png is a boolean image: setting True to 1 and False to 0\n",
      "  warn('%s is a boolean image: setting True to 1 and False to 0' % fname)\n",
      "/usr/local/lib/python3.7/site-packages/skimage/io/_io.py:142: UserWarning: ../../datasets/aurora/instagan/train/sampleA_seg/104_3.png is a boolean image: setting True to 1 and False to 0\n",
      "  warn('%s is a boolean image: setting True to 1 and False to 0' % fname)\n",
      "/usr/local/lib/python3.7/site-packages/skimage/io/_io.py:142: UserWarning: ../../datasets/aurora/instagan/train/sampleA_seg/104_4.png is a boolean image: setting True to 1 and False to 0\n",
      "  warn('%s is a boolean image: setting True to 1 and False to 0' % fname)\n"
     ]
    },
    {
     "name": "stdout",
     "output_type": "stream",
     "text": [
      "Processing image ../../datasets/cityscapes-dataset/leftImg8bit_trainvaltest/leftImg8bit/train/zurich/zurich_000044_000019_leftImg8bit.png\n"
     ]
    },
    {
     "name": "stderr",
     "output_type": "stream",
     "text": [
      "/usr/local/lib/python3.7/site-packages/skimage/io/_io.py:142: UserWarning: ../../datasets/aurora/instagan/train/sampleA_seg/105_0.png is a boolean image: setting True to 1 and False to 0\n",
      "  warn('%s is a boolean image: setting True to 1 and False to 0' % fname)\n",
      "/usr/local/lib/python3.7/site-packages/skimage/io/_io.py:140: UserWarning: ../../datasets/aurora/instagan/train/sampleA_seg/105_1.png is a low contrast image\n",
      "  warn('%s is a low contrast image' % fname)\n",
      "/usr/local/lib/python3.7/site-packages/skimage/io/_io.py:142: UserWarning: ../../datasets/aurora/instagan/train/sampleA_seg/105_1.png is a boolean image: setting True to 1 and False to 0\n",
      "  warn('%s is a boolean image: setting True to 1 and False to 0' % fname)\n"
     ]
    },
    {
     "name": "stdout",
     "output_type": "stream",
     "text": [
      "Processing image ../../datasets/cityscapes-dataset/leftImg8bit_trainvaltest/leftImg8bit/train/zurich/zurich_000031_000019_leftImg8bit.png\n"
     ]
    },
    {
     "name": "stderr",
     "output_type": "stream",
     "text": [
      "/usr/local/lib/python3.7/site-packages/skimage/io/_io.py:142: UserWarning: ../../datasets/aurora/instagan/train/sampleA_seg/106_0.png is a boolean image: setting True to 1 and False to 0\n",
      "  warn('%s is a boolean image: setting True to 1 and False to 0' % fname)\n",
      "/usr/local/lib/python3.7/site-packages/skimage/io/_io.py:142: UserWarning: ../../datasets/aurora/instagan/train/sampleA_seg/106_1.png is a boolean image: setting True to 1 and False to 0\n",
      "  warn('%s is a boolean image: setting True to 1 and False to 0' % fname)\n",
      "/usr/local/lib/python3.7/site-packages/skimage/io/_io.py:140: UserWarning: ../../datasets/aurora/instagan/train/sampleA_seg/106_2.png is a low contrast image\n",
      "  warn('%s is a low contrast image' % fname)\n",
      "/usr/local/lib/python3.7/site-packages/skimage/io/_io.py:142: UserWarning: ../../datasets/aurora/instagan/train/sampleA_seg/106_2.png is a boolean image: setting True to 1 and False to 0\n",
      "  warn('%s is a boolean image: setting True to 1 and False to 0' % fname)\n"
     ]
    },
    {
     "name": "stdout",
     "output_type": "stream",
     "text": [
      "Processing image ../../datasets/cityscapes-dataset/leftImg8bit_trainvaltest/leftImg8bit/train/zurich/zurich_000076_000019_leftImg8bit.png\n"
     ]
    },
    {
     "name": "stderr",
     "output_type": "stream",
     "text": [
      "/usr/local/lib/python3.7/site-packages/skimage/io/_io.py:142: UserWarning: ../../datasets/aurora/instagan/train/sampleA_seg/107_0.png is a boolean image: setting True to 1 and False to 0\n",
      "  warn('%s is a boolean image: setting True to 1 and False to 0' % fname)\n",
      "/usr/local/lib/python3.7/site-packages/skimage/io/_io.py:142: UserWarning: ../../datasets/aurora/instagan/train/sampleA_seg/107_1.png is a boolean image: setting True to 1 and False to 0\n",
      "  warn('%s is a boolean image: setting True to 1 and False to 0' % fname)\n",
      "/usr/local/lib/python3.7/site-packages/skimage/io/_io.py:142: UserWarning: ../../datasets/aurora/instagan/train/sampleA_seg/107_2.png is a boolean image: setting True to 1 and False to 0\n",
      "  warn('%s is a boolean image: setting True to 1 and False to 0' % fname)\n"
     ]
    },
    {
     "name": "stdout",
     "output_type": "stream",
     "text": [
      "Processing image ../../datasets/cityscapes-dataset/leftImg8bit_trainvaltest/leftImg8bit/train/zurich/zurich_000105_000019_leftImg8bit.png\n"
     ]
    },
    {
     "name": "stderr",
     "output_type": "stream",
     "text": [
      "/usr/local/lib/python3.7/site-packages/skimage/io/_io.py:140: UserWarning: ../../datasets/aurora/instagan/train/sampleA_seg/108_0.png is a low contrast image\n",
      "  warn('%s is a low contrast image' % fname)\n",
      "/usr/local/lib/python3.7/site-packages/skimage/io/_io.py:142: UserWarning: ../../datasets/aurora/instagan/train/sampleA_seg/108_0.png is a boolean image: setting True to 1 and False to 0\n",
      "  warn('%s is a boolean image: setting True to 1 and False to 0' % fname)\n",
      "/usr/local/lib/python3.7/site-packages/skimage/io/_io.py:142: UserWarning: ../../datasets/aurora/instagan/train/sampleA_seg/108_1.png is a boolean image: setting True to 1 and False to 0\n",
      "  warn('%s is a boolean image: setting True to 1 and False to 0' % fname)\n",
      "/usr/local/lib/python3.7/site-packages/skimage/io/_io.py:142: UserWarning: ../../datasets/aurora/instagan/train/sampleA_seg/108_2.png is a boolean image: setting True to 1 and False to 0\n",
      "  warn('%s is a boolean image: setting True to 1 and False to 0' % fname)\n"
     ]
    },
    {
     "name": "stdout",
     "output_type": "stream",
     "text": [
      "Processing image ../../datasets/cityscapes-dataset/leftImg8bit_trainvaltest/leftImg8bit/train/zurich/zurich_000003_000019_leftImg8bit.png\n"
     ]
    },
    {
     "name": "stderr",
     "output_type": "stream",
     "text": [
      "/usr/local/lib/python3.7/site-packages/skimage/io/_io.py:142: UserWarning: ../../datasets/aurora/instagan/train/sampleA_seg/109_0.png is a boolean image: setting True to 1 and False to 0\n",
      "  warn('%s is a boolean image: setting True to 1 and False to 0' % fname)\n",
      "/usr/local/lib/python3.7/site-packages/skimage/io/_io.py:142: UserWarning: ../../datasets/aurora/instagan/train/sampleA_seg/109_1.png is a boolean image: setting True to 1 and False to 0\n",
      "  warn('%s is a boolean image: setting True to 1 and False to 0' % fname)\n",
      "/usr/local/lib/python3.7/site-packages/skimage/io/_io.py:142: UserWarning: ../../datasets/aurora/instagan/train/sampleA_seg/109_2.png is a boolean image: setting True to 1 and False to 0\n",
      "  warn('%s is a boolean image: setting True to 1 and False to 0' % fname)\n",
      "/usr/local/lib/python3.7/site-packages/skimage/io/_io.py:142: UserWarning: ../../datasets/aurora/instagan/train/sampleA_seg/109_3.png is a boolean image: setting True to 1 and False to 0\n",
      "  warn('%s is a boolean image: setting True to 1 and False to 0' % fname)\n"
     ]
    },
    {
     "name": "stdout",
     "output_type": "stream",
     "text": [
      "Processing image ../../datasets/cityscapes-dataset/leftImg8bit_trainvaltest/leftImg8bit/train/zurich/zurich_000009_000019_leftImg8bit.png\n"
     ]
    },
    {
     "name": "stderr",
     "output_type": "stream",
     "text": [
      "/usr/local/lib/python3.7/site-packages/skimage/io/_io.py:142: UserWarning: ../../datasets/aurora/instagan/train/sampleA_seg/110_0.png is a boolean image: setting True to 1 and False to 0\n",
      "  warn('%s is a boolean image: setting True to 1 and False to 0' % fname)\n"
     ]
    },
    {
     "name": "stdout",
     "output_type": "stream",
     "text": [
      "Processing image ../../datasets/cityscapes-dataset/leftImg8bit_trainvaltest/leftImg8bit/train/zurich/zurich_000038_000019_leftImg8bit.png\n"
     ]
    },
    {
     "name": "stderr",
     "output_type": "stream",
     "text": [
      "/usr/local/lib/python3.7/site-packages/skimage/io/_io.py:140: UserWarning: ../../datasets/aurora/instagan/train/sampleA_seg/111_0.png is a low contrast image\n",
      "  warn('%s is a low contrast image' % fname)\n",
      "/usr/local/lib/python3.7/site-packages/skimage/io/_io.py:142: UserWarning: ../../datasets/aurora/instagan/train/sampleA_seg/111_0.png is a boolean image: setting True to 1 and False to 0\n",
      "  warn('%s is a boolean image: setting True to 1 and False to 0' % fname)\n",
      "/usr/local/lib/python3.7/site-packages/skimage/io/_io.py:140: UserWarning: ../../datasets/aurora/instagan/train/sampleA_seg/111_1.png is a low contrast image\n",
      "  warn('%s is a low contrast image' % fname)\n",
      "/usr/local/lib/python3.7/site-packages/skimage/io/_io.py:142: UserWarning: ../../datasets/aurora/instagan/train/sampleA_seg/111_1.png is a boolean image: setting True to 1 and False to 0\n",
      "  warn('%s is a boolean image: setting True to 1 and False to 0' % fname)\n",
      "/usr/local/lib/python3.7/site-packages/skimage/io/_io.py:140: UserWarning: ../../datasets/aurora/instagan/train/sampleA_seg/111_2.png is a low contrast image\n",
      "  warn('%s is a low contrast image' % fname)\n",
      "/usr/local/lib/python3.7/site-packages/skimage/io/_io.py:142: UserWarning: ../../datasets/aurora/instagan/train/sampleA_seg/111_2.png is a boolean image: setting True to 1 and False to 0\n",
      "  warn('%s is a boolean image: setting True to 1 and False to 0' % fname)\n",
      "/usr/local/lib/python3.7/site-packages/skimage/io/_io.py:140: UserWarning: ../../datasets/aurora/instagan/train/sampleA_seg/111_3.png is a low contrast image\n",
      "  warn('%s is a low contrast image' % fname)\n",
      "/usr/local/lib/python3.7/site-packages/skimage/io/_io.py:142: UserWarning: ../../datasets/aurora/instagan/train/sampleA_seg/111_3.png is a boolean image: setting True to 1 and False to 0\n",
      "  warn('%s is a boolean image: setting True to 1 and False to 0' % fname)\n",
      "/usr/local/lib/python3.7/site-packages/skimage/io/_io.py:140: UserWarning: ../../datasets/aurora/instagan/train/sampleA_seg/111_4.png is a low contrast image\n",
      "  warn('%s is a low contrast image' % fname)\n",
      "/usr/local/lib/python3.7/site-packages/skimage/io/_io.py:142: UserWarning: ../../datasets/aurora/instagan/train/sampleA_seg/111_4.png is a boolean image: setting True to 1 and False to 0\n",
      "  warn('%s is a boolean image: setting True to 1 and False to 0' % fname)\n",
      "/usr/local/lib/python3.7/site-packages/skimage/io/_io.py:140: UserWarning: ../../datasets/aurora/instagan/train/sampleA_seg/111_5.png is a low contrast image\n",
      "  warn('%s is a low contrast image' % fname)\n",
      "/usr/local/lib/python3.7/site-packages/skimage/io/_io.py:142: UserWarning: ../../datasets/aurora/instagan/train/sampleA_seg/111_5.png is a boolean image: setting True to 1 and False to 0\n",
      "  warn('%s is a boolean image: setting True to 1 and False to 0' % fname)\n",
      "/usr/local/lib/python3.7/site-packages/skimage/io/_io.py:140: UserWarning: ../../datasets/aurora/instagan/train/sampleA_seg/111_6.png is a low contrast image\n",
      "  warn('%s is a low contrast image' % fname)\n",
      "/usr/local/lib/python3.7/site-packages/skimage/io/_io.py:142: UserWarning: ../../datasets/aurora/instagan/train/sampleA_seg/111_6.png is a boolean image: setting True to 1 and False to 0\n",
      "  warn('%s is a boolean image: setting True to 1 and False to 0' % fname)\n",
      "/usr/local/lib/python3.7/site-packages/skimage/io/_io.py:140: UserWarning: ../../datasets/aurora/instagan/train/sampleA_seg/111_7.png is a low contrast image\n",
      "  warn('%s is a low contrast image' % fname)\n",
      "/usr/local/lib/python3.7/site-packages/skimage/io/_io.py:142: UserWarning: ../../datasets/aurora/instagan/train/sampleA_seg/111_7.png is a boolean image: setting True to 1 and False to 0\n",
      "  warn('%s is a boolean image: setting True to 1 and False to 0' % fname)\n",
      "/usr/local/lib/python3.7/site-packages/skimage/io/_io.py:140: UserWarning: ../../datasets/aurora/instagan/train/sampleA_seg/111_8.png is a low contrast image\n",
      "  warn('%s is a low contrast image' % fname)\n",
      "/usr/local/lib/python3.7/site-packages/skimage/io/_io.py:142: UserWarning: ../../datasets/aurora/instagan/train/sampleA_seg/111_8.png is a boolean image: setting True to 1 and False to 0\n",
      "  warn('%s is a boolean image: setting True to 1 and False to 0' % fname)\n",
      "/usr/local/lib/python3.7/site-packages/skimage/io/_io.py:140: UserWarning: ../../datasets/aurora/instagan/train/sampleA_seg/111_9.png is a low contrast image\n",
      "  warn('%s is a low contrast image' % fname)\n",
      "/usr/local/lib/python3.7/site-packages/skimage/io/_io.py:142: UserWarning: ../../datasets/aurora/instagan/train/sampleA_seg/111_9.png is a boolean image: setting True to 1 and False to 0\n",
      "  warn('%s is a boolean image: setting True to 1 and False to 0' % fname)\n",
      "/usr/local/lib/python3.7/site-packages/skimage/io/_io.py:140: UserWarning: ../../datasets/aurora/instagan/train/sampleA_seg/111_10.png is a low contrast image\n",
      "  warn('%s is a low contrast image' % fname)\n",
      "/usr/local/lib/python3.7/site-packages/skimage/io/_io.py:142: UserWarning: ../../datasets/aurora/instagan/train/sampleA_seg/111_10.png is a boolean image: setting True to 1 and False to 0\n",
      "  warn('%s is a boolean image: setting True to 1 and False to 0' % fname)\n",
      "/usr/local/lib/python3.7/site-packages/skimage/io/_io.py:140: UserWarning: ../../datasets/aurora/instagan/train/sampleA_seg/111_11.png is a low contrast image\n",
      "  warn('%s is a low contrast image' % fname)\n",
      "/usr/local/lib/python3.7/site-packages/skimage/io/_io.py:142: UserWarning: ../../datasets/aurora/instagan/train/sampleA_seg/111_11.png is a boolean image: setting True to 1 and False to 0\n",
      "  warn('%s is a boolean image: setting True to 1 and False to 0' % fname)\n",
      "/usr/local/lib/python3.7/site-packages/skimage/io/_io.py:140: UserWarning: ../../datasets/aurora/instagan/train/sampleA_seg/111_12.png is a low contrast image\n",
      "  warn('%s is a low contrast image' % fname)\n",
      "/usr/local/lib/python3.7/site-packages/skimage/io/_io.py:142: UserWarning: ../../datasets/aurora/instagan/train/sampleA_seg/111_12.png is a boolean image: setting True to 1 and False to 0\n",
      "  warn('%s is a boolean image: setting True to 1 and False to 0' % fname)\n",
      "/usr/local/lib/python3.7/site-packages/skimage/io/_io.py:140: UserWarning: ../../datasets/aurora/instagan/train/sampleA_seg/111_13.png is a low contrast image\n",
      "  warn('%s is a low contrast image' % fname)\n",
      "/usr/local/lib/python3.7/site-packages/skimage/io/_io.py:142: UserWarning: ../../datasets/aurora/instagan/train/sampleA_seg/111_13.png is a boolean image: setting True to 1 and False to 0\n",
      "  warn('%s is a boolean image: setting True to 1 and False to 0' % fname)\n",
      "/usr/local/lib/python3.7/site-packages/skimage/io/_io.py:140: UserWarning: ../../datasets/aurora/instagan/train/sampleA_seg/111_14.png is a low contrast image\n",
      "  warn('%s is a low contrast image' % fname)\n",
      "/usr/local/lib/python3.7/site-packages/skimage/io/_io.py:142: UserWarning: ../../datasets/aurora/instagan/train/sampleA_seg/111_14.png is a boolean image: setting True to 1 and False to 0\n",
      "  warn('%s is a boolean image: setting True to 1 and False to 0' % fname)\n",
      "/usr/local/lib/python3.7/site-packages/skimage/io/_io.py:140: UserWarning: ../../datasets/aurora/instagan/train/sampleA_seg/111_15.png is a low contrast image\n",
      "  warn('%s is a low contrast image' % fname)\n",
      "/usr/local/lib/python3.7/site-packages/skimage/io/_io.py:142: UserWarning: ../../datasets/aurora/instagan/train/sampleA_seg/111_15.png is a boolean image: setting True to 1 and False to 0\n",
      "  warn('%s is a boolean image: setting True to 1 and False to 0' % fname)\n",
      "/usr/local/lib/python3.7/site-packages/skimage/io/_io.py:140: UserWarning: ../../datasets/aurora/instagan/train/sampleA_seg/111_16.png is a low contrast image\n",
      "  warn('%s is a low contrast image' % fname)\n",
      "/usr/local/lib/python3.7/site-packages/skimage/io/_io.py:142: UserWarning: ../../datasets/aurora/instagan/train/sampleA_seg/111_16.png is a boolean image: setting True to 1 and False to 0\n",
      "  warn('%s is a boolean image: setting True to 1 and False to 0' % fname)\n",
      "/usr/local/lib/python3.7/site-packages/skimage/io/_io.py:140: UserWarning: ../../datasets/aurora/instagan/train/sampleA_seg/111_17.png is a low contrast image\n",
      "  warn('%s is a low contrast image' % fname)\n",
      "/usr/local/lib/python3.7/site-packages/skimage/io/_io.py:142: UserWarning: ../../datasets/aurora/instagan/train/sampleA_seg/111_17.png is a boolean image: setting True to 1 and False to 0\n",
      "  warn('%s is a boolean image: setting True to 1 and False to 0' % fname)\n",
      "/usr/local/lib/python3.7/site-packages/skimage/io/_io.py:140: UserWarning: ../../datasets/aurora/instagan/train/sampleA_seg/111_18.png is a low contrast image\n",
      "  warn('%s is a low contrast image' % fname)\n",
      "/usr/local/lib/python3.7/site-packages/skimage/io/_io.py:142: UserWarning: ../../datasets/aurora/instagan/train/sampleA_seg/111_18.png is a boolean image: setting True to 1 and False to 0\n",
      "  warn('%s is a boolean image: setting True to 1 and False to 0' % fname)\n",
      "/usr/local/lib/python3.7/site-packages/skimage/io/_io.py:140: UserWarning: ../../datasets/aurora/instagan/train/sampleA_seg/111_19.png is a low contrast image\n",
      "  warn('%s is a low contrast image' % fname)\n",
      "/usr/local/lib/python3.7/site-packages/skimage/io/_io.py:142: UserWarning: ../../datasets/aurora/instagan/train/sampleA_seg/111_19.png is a boolean image: setting True to 1 and False to 0\n",
      "  warn('%s is a boolean image: setting True to 1 and False to 0' % fname)\n"
     ]
    },
    {
     "name": "stdout",
     "output_type": "stream",
     "text": [
      "Processing image ../../datasets/cityscapes-dataset/leftImg8bit_trainvaltest/leftImg8bit/train/zurich/zurich_000032_000019_leftImg8bit.png\n"
     ]
    },
    {
     "name": "stderr",
     "output_type": "stream",
     "text": [
      "/usr/local/lib/python3.7/site-packages/skimage/io/_io.py:140: UserWarning: ../../datasets/aurora/instagan/train/sampleA_seg/112_0.png is a low contrast image\n",
      "  warn('%s is a low contrast image' % fname)\n",
      "/usr/local/lib/python3.7/site-packages/skimage/io/_io.py:142: UserWarning: ../../datasets/aurora/instagan/train/sampleA_seg/112_0.png is a boolean image: setting True to 1 and False to 0\n",
      "  warn('%s is a boolean image: setting True to 1 and False to 0' % fname)\n",
      "/usr/local/lib/python3.7/site-packages/skimage/io/_io.py:142: UserWarning: ../../datasets/aurora/instagan/train/sampleA_seg/112_1.png is a boolean image: setting True to 1 and False to 0\n",
      "  warn('%s is a boolean image: setting True to 1 and False to 0' % fname)\n"
     ]
    },
    {
     "name": "stdout",
     "output_type": "stream",
     "text": [
      "Processing image ../../datasets/cityscapes-dataset/leftImg8bit_trainvaltest/leftImg8bit/train/zurich/zurich_000086_000019_leftImg8bit.png\n"
     ]
    },
    {
     "name": "stderr",
     "output_type": "stream",
     "text": [
      "/usr/local/lib/python3.7/site-packages/skimage/io/_io.py:142: UserWarning: ../../datasets/aurora/instagan/train/sampleA_seg/113_0.png is a boolean image: setting True to 1 and False to 0\n",
      "  warn('%s is a boolean image: setting True to 1 and False to 0' % fname)\n",
      "/usr/local/lib/python3.7/site-packages/skimage/io/_io.py:142: UserWarning: ../../datasets/aurora/instagan/train/sampleA_seg/113_1.png is a boolean image: setting True to 1 and False to 0\n",
      "  warn('%s is a boolean image: setting True to 1 and False to 0' % fname)\n",
      "/usr/local/lib/python3.7/site-packages/skimage/io/_io.py:142: UserWarning: ../../datasets/aurora/instagan/train/sampleA_seg/113_2.png is a boolean image: setting True to 1 and False to 0\n",
      "  warn('%s is a boolean image: setting True to 1 and False to 0' % fname)\n",
      "/usr/local/lib/python3.7/site-packages/skimage/io/_io.py:140: UserWarning: ../../datasets/aurora/instagan/train/sampleA_seg/113_3.png is a low contrast image\n",
      "  warn('%s is a low contrast image' % fname)\n",
      "/usr/local/lib/python3.7/site-packages/skimage/io/_io.py:142: UserWarning: ../../datasets/aurora/instagan/train/sampleA_seg/113_3.png is a boolean image: setting True to 1 and False to 0\n",
      "  warn('%s is a boolean image: setting True to 1 and False to 0' % fname)\n",
      "/usr/local/lib/python3.7/site-packages/skimage/io/_io.py:140: UserWarning: ../../datasets/aurora/instagan/train/sampleA_seg/113_4.png is a low contrast image\n",
      "  warn('%s is a low contrast image' % fname)\n",
      "/usr/local/lib/python3.7/site-packages/skimage/io/_io.py:142: UserWarning: ../../datasets/aurora/instagan/train/sampleA_seg/113_4.png is a boolean image: setting True to 1 and False to 0\n",
      "  warn('%s is a boolean image: setting True to 1 and False to 0' % fname)\n"
     ]
    },
    {
     "name": "stdout",
     "output_type": "stream",
     "text": [
      "Processing image ../../datasets/cityscapes-dataset/leftImg8bit_trainvaltest/leftImg8bit/train/zurich/zurich_000047_000019_leftImg8bit.png\n"
     ]
    },
    {
     "name": "stderr",
     "output_type": "stream",
     "text": [
      "/usr/local/lib/python3.7/site-packages/skimage/io/_io.py:142: UserWarning: ../../datasets/aurora/instagan/train/sampleA_seg/114_0.png is a boolean image: setting True to 1 and False to 0\n",
      "  warn('%s is a boolean image: setting True to 1 and False to 0' % fname)\n",
      "/usr/local/lib/python3.7/site-packages/skimage/io/_io.py:142: UserWarning: ../../datasets/aurora/instagan/train/sampleA_seg/114_1.png is a boolean image: setting True to 1 and False to 0\n",
      "  warn('%s is a boolean image: setting True to 1 and False to 0' % fname)\n"
     ]
    },
    {
     "name": "stdout",
     "output_type": "stream",
     "text": [
      "Processing image ../../datasets/cityscapes-dataset/leftImg8bit_trainvaltest/leftImg8bit/train/zurich/zurich_000071_000019_leftImg8bit.png\n"
     ]
    },
    {
     "name": "stderr",
     "output_type": "stream",
     "text": [
      "/usr/local/lib/python3.7/site-packages/skimage/io/_io.py:142: UserWarning: ../../datasets/aurora/instagan/train/sampleA_seg/115_0.png is a boolean image: setting True to 1 and False to 0\n",
      "  warn('%s is a boolean image: setting True to 1 and False to 0' % fname)\n",
      "/usr/local/lib/python3.7/site-packages/skimage/io/_io.py:140: UserWarning: ../../datasets/aurora/instagan/train/sampleA_seg/115_1.png is a low contrast image\n",
      "  warn('%s is a low contrast image' % fname)\n",
      "/usr/local/lib/python3.7/site-packages/skimage/io/_io.py:142: UserWarning: ../../datasets/aurora/instagan/train/sampleA_seg/115_1.png is a boolean image: setting True to 1 and False to 0\n",
      "  warn('%s is a boolean image: setting True to 1 and False to 0' % fname)\n",
      "/usr/local/lib/python3.7/site-packages/skimage/io/_io.py:142: UserWarning: ../../datasets/aurora/instagan/train/sampleA_seg/115_2.png is a boolean image: setting True to 1 and False to 0\n",
      "  warn('%s is a boolean image: setting True to 1 and False to 0' % fname)\n",
      "/usr/local/lib/python3.7/site-packages/skimage/io/_io.py:142: UserWarning: ../../datasets/aurora/instagan/train/sampleA_seg/115_3.png is a boolean image: setting True to 1 and False to 0\n",
      "  warn('%s is a boolean image: setting True to 1 and False to 0' % fname)\n"
     ]
    },
    {
     "name": "stdout",
     "output_type": "stream",
     "text": [
      "Processing image ../../datasets/cityscapes-dataset/leftImg8bit_trainvaltest/leftImg8bit/train/zurich/zurich_000102_000019_leftImg8bit.png\n"
     ]
    },
    {
     "name": "stderr",
     "output_type": "stream",
     "text": [
      "/usr/local/lib/python3.7/site-packages/skimage/io/_io.py:140: UserWarning: ../../datasets/aurora/instagan/train/sampleA_seg/116_0.png is a low contrast image\n",
      "  warn('%s is a low contrast image' % fname)\n",
      "/usr/local/lib/python3.7/site-packages/skimage/io/_io.py:142: UserWarning: ../../datasets/aurora/instagan/train/sampleA_seg/116_0.png is a boolean image: setting True to 1 and False to 0\n",
      "  warn('%s is a boolean image: setting True to 1 and False to 0' % fname)\n",
      "/usr/local/lib/python3.7/site-packages/skimage/io/_io.py:142: UserWarning: ../../datasets/aurora/instagan/train/sampleA_seg/116_1.png is a boolean image: setting True to 1 and False to 0\n",
      "  warn('%s is a boolean image: setting True to 1 and False to 0' % fname)\n",
      "/usr/local/lib/python3.7/site-packages/skimage/io/_io.py:142: UserWarning: ../../datasets/aurora/instagan/train/sampleA_seg/116_2.png is a boolean image: setting True to 1 and False to 0\n",
      "  warn('%s is a boolean image: setting True to 1 and False to 0' % fname)\n",
      "/usr/local/lib/python3.7/site-packages/skimage/io/_io.py:142: UserWarning: ../../datasets/aurora/instagan/train/sampleA_seg/116_3.png is a boolean image: setting True to 1 and False to 0\n",
      "  warn('%s is a boolean image: setting True to 1 and False to 0' % fname)\n"
     ]
    },
    {
     "name": "stdout",
     "output_type": "stream",
     "text": [
      "Processing image ../../datasets/cityscapes-dataset/leftImg8bit_trainvaltest/leftImg8bit/train/zurich/zurich_000004_000019_leftImg8bit.png\n"
     ]
    },
    {
     "name": "stderr",
     "output_type": "stream",
     "text": [
      "/usr/local/lib/python3.7/site-packages/skimage/io/_io.py:142: UserWarning: ../../datasets/aurora/instagan/train/sampleA_seg/117_0.png is a boolean image: setting True to 1 and False to 0\n",
      "  warn('%s is a boolean image: setting True to 1 and False to 0' % fname)\n",
      "/usr/local/lib/python3.7/site-packages/skimage/io/_io.py:140: UserWarning: ../../datasets/aurora/instagan/train/sampleA_seg/117_1.png is a low contrast image\n",
      "  warn('%s is a low contrast image' % fname)\n",
      "/usr/local/lib/python3.7/site-packages/skimage/io/_io.py:142: UserWarning: ../../datasets/aurora/instagan/train/sampleA_seg/117_1.png is a boolean image: setting True to 1 and False to 0\n",
      "  warn('%s is a boolean image: setting True to 1 and False to 0' % fname)\n"
     ]
    },
    {
     "name": "stdout",
     "output_type": "stream",
     "text": [
      "Processing image ../../datasets/cityscapes-dataset/leftImg8bit_trainvaltest/leftImg8bit/train/zurich/zurich_000108_000019_leftImg8bit.png\n"
     ]
    },
    {
     "name": "stderr",
     "output_type": "stream",
     "text": [
      "/usr/local/lib/python3.7/site-packages/skimage/io/_io.py:140: UserWarning: ../../datasets/aurora/instagan/train/sampleA_seg/118_0.png is a low contrast image\n",
      "  warn('%s is a low contrast image' % fname)\n",
      "/usr/local/lib/python3.7/site-packages/skimage/io/_io.py:142: UserWarning: ../../datasets/aurora/instagan/train/sampleA_seg/118_0.png is a boolean image: setting True to 1 and False to 0\n",
      "  warn('%s is a boolean image: setting True to 1 and False to 0' % fname)\n",
      "/usr/local/lib/python3.7/site-packages/skimage/io/_io.py:142: UserWarning: ../../datasets/aurora/instagan/train/sampleA_seg/118_1.png is a boolean image: setting True to 1 and False to 0\n",
      "  warn('%s is a boolean image: setting True to 1 and False to 0' % fname)\n",
      "/usr/local/lib/python3.7/site-packages/skimage/io/_io.py:142: UserWarning: ../../datasets/aurora/instagan/train/sampleA_seg/118_2.png is a boolean image: setting True to 1 and False to 0\n",
      "  warn('%s is a boolean image: setting True to 1 and False to 0' % fname)\n",
      "/usr/local/lib/python3.7/site-packages/skimage/io/_io.py:142: UserWarning: ../../datasets/aurora/instagan/train/sampleA_seg/118_3.png is a boolean image: setting True to 1 and False to 0\n",
      "  warn('%s is a boolean image: setting True to 1 and False to 0' % fname)\n"
     ]
    },
    {
     "name": "stdout",
     "output_type": "stream",
     "text": [
      "Processing image ../../datasets/cityscapes-dataset/leftImg8bit_trainvaltest/leftImg8bit/train/zurich/zurich_000035_000019_leftImg8bit.png\n"
     ]
    },
    {
     "name": "stderr",
     "output_type": "stream",
     "text": [
      "/usr/local/lib/python3.7/site-packages/skimage/io/_io.py:140: UserWarning: ../../datasets/aurora/instagan/train/sampleA_seg/119_0.png is a low contrast image\n",
      "  warn('%s is a low contrast image' % fname)\n",
      "/usr/local/lib/python3.7/site-packages/skimage/io/_io.py:142: UserWarning: ../../datasets/aurora/instagan/train/sampleA_seg/119_0.png is a boolean image: setting True to 1 and False to 0\n",
      "  warn('%s is a boolean image: setting True to 1 and False to 0' % fname)\n",
      "/usr/local/lib/python3.7/site-packages/skimage/io/_io.py:140: UserWarning: ../../datasets/aurora/instagan/train/sampleA_seg/119_1.png is a low contrast image\n",
      "  warn('%s is a low contrast image' % fname)\n",
      "/usr/local/lib/python3.7/site-packages/skimage/io/_io.py:142: UserWarning: ../../datasets/aurora/instagan/train/sampleA_seg/119_1.png is a boolean image: setting True to 1 and False to 0\n",
      "  warn('%s is a boolean image: setting True to 1 and False to 0' % fname)\n",
      "/usr/local/lib/python3.7/site-packages/skimage/io/_io.py:142: UserWarning: ../../datasets/aurora/instagan/train/sampleA_seg/119_2.png is a boolean image: setting True to 1 and False to 0\n",
      "  warn('%s is a boolean image: setting True to 1 and False to 0' % fname)\n",
      "/usr/local/lib/python3.7/site-packages/skimage/io/_io.py:142: UserWarning: ../../datasets/aurora/instagan/train/sampleA_seg/119_3.png is a boolean image: setting True to 1 and False to 0\n",
      "  warn('%s is a boolean image: setting True to 1 and False to 0' % fname)\n"
     ]
    },
    {
     "name": "stdout",
     "output_type": "stream",
     "text": [
      "Processing image ../../datasets/cityscapes-dataset/leftImg8bit_trainvaltest/leftImg8bit/train/zurich/zurich_000081_000019_leftImg8bit.png\n"
     ]
    },
    {
     "name": "stderr",
     "output_type": "stream",
     "text": [
      "/usr/local/lib/python3.7/site-packages/skimage/io/_io.py:142: UserWarning: ../../datasets/aurora/instagan/train/sampleA_seg/120_0.png is a boolean image: setting True to 1 and False to 0\n",
      "  warn('%s is a boolean image: setting True to 1 and False to 0' % fname)\n",
      "/usr/local/lib/python3.7/site-packages/skimage/io/_io.py:142: UserWarning: ../../datasets/aurora/instagan/train/sampleA_seg/120_1.png is a boolean image: setting True to 1 and False to 0\n",
      "  warn('%s is a boolean image: setting True to 1 and False to 0' % fname)\n",
      "/usr/local/lib/python3.7/site-packages/skimage/io/_io.py:142: UserWarning: ../../datasets/aurora/instagan/train/sampleA_seg/120_2.png is a boolean image: setting True to 1 and False to 0\n",
      "  warn('%s is a boolean image: setting True to 1 and False to 0' % fname)\n"
     ]
    },
    {
     "name": "stdout",
     "output_type": "stream",
     "text": [
      "Processing image ../../datasets/cityscapes-dataset/leftImg8bit_trainvaltest/leftImg8bit/train/zurich/zurich_000040_000019_leftImg8bit.png\n"
     ]
    },
    {
     "name": "stderr",
     "output_type": "stream",
     "text": [
      "/usr/local/lib/python3.7/site-packages/skimage/io/_io.py:142: UserWarning: ../../datasets/aurora/instagan/train/sampleA_seg/121_0.png is a boolean image: setting True to 1 and False to 0\n",
      "  warn('%s is a boolean image: setting True to 1 and False to 0' % fname)\n",
      "/usr/local/lib/python3.7/site-packages/skimage/io/_io.py:142: UserWarning: ../../datasets/aurora/instagan/train/sampleA_seg/121_1.png is a boolean image: setting True to 1 and False to 0\n",
      "  warn('%s is a boolean image: setting True to 1 and False to 0' % fname)\n"
     ]
    },
    {
     "name": "stdout",
     "output_type": "stream",
     "text": [
      "Processing image ../../datasets/cityscapes-dataset/leftImg8bit_trainvaltest/leftImg8bit/train/strasbourg/strasbourg_000001_065214_leftImg8bit.png\n"
     ]
    },
    {
     "name": "stderr",
     "output_type": "stream",
     "text": [
      "/usr/local/lib/python3.7/site-packages/skimage/io/_io.py:142: UserWarning: ../../datasets/aurora/instagan/train/sampleA_seg/122_0.png is a boolean image: setting True to 1 and False to 0\n",
      "  warn('%s is a boolean image: setting True to 1 and False to 0' % fname)\n"
     ]
    },
    {
     "name": "stdout",
     "output_type": "stream",
     "text": [
      "Processing image ../../datasets/cityscapes-dataset/leftImg8bit_trainvaltest/leftImg8bit/train/strasbourg/strasbourg_000001_031582_leftImg8bit.png\n"
     ]
    },
    {
     "name": "stderr",
     "output_type": "stream",
     "text": [
      "/usr/local/lib/python3.7/site-packages/skimage/io/_io.py:142: UserWarning: ../../datasets/aurora/instagan/train/sampleA_seg/123_0.png is a boolean image: setting True to 1 and False to 0\n",
      "  warn('%s is a boolean image: setting True to 1 and False to 0' % fname)\n",
      "/usr/local/lib/python3.7/site-packages/skimage/io/_io.py:140: UserWarning: ../../datasets/aurora/instagan/train/sampleA_seg/123_1.png is a low contrast image\n",
      "  warn('%s is a low contrast image' % fname)\n",
      "/usr/local/lib/python3.7/site-packages/skimage/io/_io.py:142: UserWarning: ../../datasets/aurora/instagan/train/sampleA_seg/123_1.png is a boolean image: setting True to 1 and False to 0\n",
      "  warn('%s is a boolean image: setting True to 1 and False to 0' % fname)\n"
     ]
    },
    {
     "name": "stdout",
     "output_type": "stream",
     "text": [
      "Processing image ../../datasets/cityscapes-dataset/leftImg8bit_trainvaltest/leftImg8bit/train/strasbourg/strasbourg_000001_039446_leftImg8bit.png\n"
     ]
    },
    {
     "name": "stderr",
     "output_type": "stream",
     "text": [
      "/usr/local/lib/python3.7/site-packages/skimage/io/_io.py:142: UserWarning: ../../datasets/aurora/instagan/train/sampleA_seg/124_0.png is a boolean image: setting True to 1 and False to 0\n",
      "  warn('%s is a boolean image: setting True to 1 and False to 0' % fname)\n"
     ]
    },
    {
     "name": "stdout",
     "output_type": "stream",
     "text": [
      "Processing image ../../datasets/cityscapes-dataset/leftImg8bit_trainvaltest/leftImg8bit/train/strasbourg/strasbourg_000001_017844_leftImg8bit.png\n"
     ]
    },
    {
     "name": "stderr",
     "output_type": "stream",
     "text": [
      "/usr/local/lib/python3.7/site-packages/skimage/io/_io.py:140: UserWarning: ../../datasets/aurora/instagan/train/sampleA_seg/125_0.png is a low contrast image\n",
      "  warn('%s is a low contrast image' % fname)\n",
      "/usr/local/lib/python3.7/site-packages/skimage/io/_io.py:142: UserWarning: ../../datasets/aurora/instagan/train/sampleA_seg/125_0.png is a boolean image: setting True to 1 and False to 0\n",
      "  warn('%s is a boolean image: setting True to 1 and False to 0' % fname)\n",
      "/usr/local/lib/python3.7/site-packages/skimage/io/_io.py:142: UserWarning: ../../datasets/aurora/instagan/train/sampleA_seg/125_1.png is a boolean image: setting True to 1 and False to 0\n",
      "  warn('%s is a boolean image: setting True to 1 and False to 0' % fname)\n"
     ]
    },
    {
     "name": "stdout",
     "output_type": "stream",
     "text": [
      "Processing image ../../datasets/cityscapes-dataset/leftImg8bit_trainvaltest/leftImg8bit/train/strasbourg/strasbourg_000001_019247_leftImg8bit.png\n"
     ]
    },
    {
     "name": "stderr",
     "output_type": "stream",
     "text": [
      "/usr/local/lib/python3.7/site-packages/skimage/io/_io.py:142: UserWarning: ../../datasets/aurora/instagan/train/sampleA_seg/126_0.png is a boolean image: setting True to 1 and False to 0\n",
      "  warn('%s is a boolean image: setting True to 1 and False to 0' % fname)\n"
     ]
    },
    {
     "name": "stdout",
     "output_type": "stream",
     "text": [
      "Processing image ../../datasets/cityscapes-dataset/leftImg8bit_trainvaltest/leftImg8bit/train/strasbourg/strasbourg_000000_019891_leftImg8bit.png\n"
     ]
    },
    {
     "name": "stderr",
     "output_type": "stream",
     "text": [
      "/usr/local/lib/python3.7/site-packages/skimage/io/_io.py:142: UserWarning: ../../datasets/aurora/instagan/train/sampleA_seg/127_0.png is a boolean image: setting True to 1 and False to 0\n",
      "  warn('%s is a boolean image: setting True to 1 and False to 0' % fname)\n",
      "/usr/local/lib/python3.7/site-packages/skimage/io/_io.py:142: UserWarning: ../../datasets/aurora/instagan/train/sampleA_seg/127_1.png is a boolean image: setting True to 1 and False to 0\n",
      "  warn('%s is a boolean image: setting True to 1 and False to 0' % fname)\n",
      "/usr/local/lib/python3.7/site-packages/skimage/io/_io.py:142: UserWarning: ../../datasets/aurora/instagan/train/sampleA_seg/127_2.png is a boolean image: setting True to 1 and False to 0\n",
      "  warn('%s is a boolean image: setting True to 1 and False to 0' % fname)\n",
      "/usr/local/lib/python3.7/site-packages/skimage/io/_io.py:142: UserWarning: ../../datasets/aurora/instagan/train/sampleA_seg/127_3.png is a boolean image: setting True to 1 and False to 0\n",
      "  warn('%s is a boolean image: setting True to 1 and False to 0' % fname)\n"
     ]
    },
    {
     "name": "stdout",
     "output_type": "stream",
     "text": [
      "Processing image ../../datasets/cityscapes-dataset/leftImg8bit_trainvaltest/leftImg8bit/train/strasbourg/strasbourg_000000_035255_leftImg8bit.png\n"
     ]
    },
    {
     "name": "stderr",
     "output_type": "stream",
     "text": [
      "/usr/local/lib/python3.7/site-packages/skimage/io/_io.py:142: UserWarning: ../../datasets/aurora/instagan/train/sampleA_seg/128_0.png is a boolean image: setting True to 1 and False to 0\n",
      "  warn('%s is a boolean image: setting True to 1 and False to 0' % fname)\n"
     ]
    },
    {
     "name": "stdout",
     "output_type": "stream",
     "text": [
      "Processing image ../../datasets/cityscapes-dataset/leftImg8bit_trainvaltest/leftImg8bit/train/strasbourg/strasbourg_000001_031683_leftImg8bit.png\n"
     ]
    },
    {
     "name": "stderr",
     "output_type": "stream",
     "text": [
      "/usr/local/lib/python3.7/site-packages/skimage/io/_io.py:142: UserWarning: ../../datasets/aurora/instagan/train/sampleA_seg/129_0.png is a boolean image: setting True to 1 and False to 0\n",
      "  warn('%s is a boolean image: setting True to 1 and False to 0' % fname)\n"
     ]
    },
    {
     "name": "stdout",
     "output_type": "stream",
     "text": [
      "Processing image ../../datasets/cityscapes-dataset/leftImg8bit_trainvaltest/leftImg8bit/train/strasbourg/strasbourg_000001_008576_leftImg8bit.png\n"
     ]
    },
    {
     "name": "stderr",
     "output_type": "stream",
     "text": [
      "/usr/local/lib/python3.7/site-packages/skimage/io/_io.py:142: UserWarning: ../../datasets/aurora/instagan/train/sampleA_seg/130_0.png is a boolean image: setting True to 1 and False to 0\n",
      "  warn('%s is a boolean image: setting True to 1 and False to 0' % fname)\n"
     ]
    },
    {
     "name": "stdout",
     "output_type": "stream",
     "text": [
      "Processing image ../../datasets/cityscapes-dataset/leftImg8bit_trainvaltest/leftImg8bit/train/strasbourg/strasbourg_000000_028628_leftImg8bit.png\n"
     ]
    },
    {
     "name": "stderr",
     "output_type": "stream",
     "text": [
      "/usr/local/lib/python3.7/site-packages/skimage/io/_io.py:140: UserWarning: ../../datasets/aurora/instagan/train/sampleA_seg/131_0.png is a low contrast image\n",
      "  warn('%s is a low contrast image' % fname)\n",
      "/usr/local/lib/python3.7/site-packages/skimage/io/_io.py:142: UserWarning: ../../datasets/aurora/instagan/train/sampleA_seg/131_0.png is a boolean image: setting True to 1 and False to 0\n",
      "  warn('%s is a boolean image: setting True to 1 and False to 0' % fname)\n"
     ]
    },
    {
     "name": "stdout",
     "output_type": "stream",
     "text": [
      "Processing image ../../datasets/cityscapes-dataset/leftImg8bit_trainvaltest/leftImg8bit/train/strasbourg/strasbourg_000001_016481_leftImg8bit.png\n"
     ]
    },
    {
     "name": "stderr",
     "output_type": "stream",
     "text": [
      "/usr/local/lib/python3.7/site-packages/skimage/io/_io.py:142: UserWarning: ../../datasets/aurora/instagan/train/sampleA_seg/132_0.png is a boolean image: setting True to 1 and False to 0\n",
      "  warn('%s is a boolean image: setting True to 1 and False to 0' % fname)\n",
      "/usr/local/lib/python3.7/site-packages/skimage/io/_io.py:142: UserWarning: ../../datasets/aurora/instagan/train/sampleA_seg/132_1.png is a boolean image: setting True to 1 and False to 0\n",
      "  warn('%s is a boolean image: setting True to 1 and False to 0' % fname)\n",
      "/usr/local/lib/python3.7/site-packages/skimage/io/_io.py:142: UserWarning: ../../datasets/aurora/instagan/train/sampleA_seg/132_2.png is a boolean image: setting True to 1 and False to 0\n",
      "  warn('%s is a boolean image: setting True to 1 and False to 0' % fname)\n"
     ]
    },
    {
     "name": "stdout",
     "output_type": "stream",
     "text": [
      "Processing image ../../datasets/cityscapes-dataset/leftImg8bit_trainvaltest/leftImg8bit/train/strasbourg/strasbourg_000001_059675_leftImg8bit.png\n"
     ]
    },
    {
     "name": "stderr",
     "output_type": "stream",
     "text": [
      "/usr/local/lib/python3.7/site-packages/skimage/io/_io.py:142: UserWarning: ../../datasets/aurora/instagan/train/sampleA_seg/133_0.png is a boolean image: setting True to 1 and False to 0\n",
      "  warn('%s is a boolean image: setting True to 1 and False to 0' % fname)\n"
     ]
    },
    {
     "name": "stdout",
     "output_type": "stream",
     "text": [
      "Processing image ../../datasets/cityscapes-dataset/leftImg8bit_trainvaltest/leftImg8bit/train/strasbourg/strasbourg_000001_001722_leftImg8bit.png\n"
     ]
    },
    {
     "name": "stderr",
     "output_type": "stream",
     "text": [
      "/usr/local/lib/python3.7/site-packages/skimage/io/_io.py:142: UserWarning: ../../datasets/aurora/instagan/train/sampleA_seg/134_0.png is a boolean image: setting True to 1 and False to 0\n",
      "  warn('%s is a boolean image: setting True to 1 and False to 0' % fname)\n"
     ]
    },
    {
     "name": "stdout",
     "output_type": "stream",
     "text": [
      "Processing image ../../datasets/cityscapes-dataset/leftImg8bit_trainvaltest/leftImg8bit/train/strasbourg/strasbourg_000000_025907_leftImg8bit.png\n"
     ]
    },
    {
     "name": "stderr",
     "output_type": "stream",
     "text": [
      "/usr/local/lib/python3.7/site-packages/skimage/io/_io.py:142: UserWarning: ../../datasets/aurora/instagan/train/sampleA_seg/135_0.png is a boolean image: setting True to 1 and False to 0\n",
      "  warn('%s is a boolean image: setting True to 1 and False to 0' % fname)\n",
      "/usr/local/lib/python3.7/site-packages/skimage/io/_io.py:140: UserWarning: ../../datasets/aurora/instagan/train/sampleA_seg/135_1.png is a low contrast image\n",
      "  warn('%s is a low contrast image' % fname)\n",
      "/usr/local/lib/python3.7/site-packages/skimage/io/_io.py:142: UserWarning: ../../datasets/aurora/instagan/train/sampleA_seg/135_1.png is a boolean image: setting True to 1 and False to 0\n",
      "  warn('%s is a boolean image: setting True to 1 and False to 0' % fname)\n",
      "/usr/local/lib/python3.7/site-packages/skimage/io/_io.py:140: UserWarning: ../../datasets/aurora/instagan/train/sampleA_seg/135_2.png is a low contrast image\n",
      "  warn('%s is a low contrast image' % fname)\n",
      "/usr/local/lib/python3.7/site-packages/skimage/io/_io.py:142: UserWarning: ../../datasets/aurora/instagan/train/sampleA_seg/135_2.png is a boolean image: setting True to 1 and False to 0\n",
      "  warn('%s is a boolean image: setting True to 1 and False to 0' % fname)\n"
     ]
    },
    {
     "name": "stdout",
     "output_type": "stream",
     "text": [
      "Processing image ../../datasets/cityscapes-dataset/leftImg8bit_trainvaltest/leftImg8bit/train/strasbourg/strasbourg_000000_008603_leftImg8bit.png\n"
     ]
    },
    {
     "name": "stderr",
     "output_type": "stream",
     "text": [
      "/usr/local/lib/python3.7/site-packages/skimage/io/_io.py:142: UserWarning: ../../datasets/aurora/instagan/train/sampleA_seg/136_0.png is a boolean image: setting True to 1 and False to 0\n",
      "  warn('%s is a boolean image: setting True to 1 and False to 0' % fname)\n",
      "/usr/local/lib/python3.7/site-packages/skimage/io/_io.py:142: UserWarning: ../../datasets/aurora/instagan/train/sampleA_seg/136_1.png is a boolean image: setting True to 1 and False to 0\n",
      "  warn('%s is a boolean image: setting True to 1 and False to 0' % fname)\n",
      "/usr/local/lib/python3.7/site-packages/skimage/io/_io.py:142: UserWarning: ../../datasets/aurora/instagan/train/sampleA_seg/136_2.png is a boolean image: setting True to 1 and False to 0\n",
      "  warn('%s is a boolean image: setting True to 1 and False to 0' % fname)\n"
     ]
    },
    {
     "name": "stdout",
     "output_type": "stream",
     "text": [
      "Processing image ../../datasets/cityscapes-dataset/leftImg8bit_trainvaltest/leftImg8bit/train/strasbourg/strasbourg_000001_023271_leftImg8bit.png\n"
     ]
    },
    {
     "name": "stderr",
     "output_type": "stream",
     "text": [
      "/usr/local/lib/python3.7/site-packages/skimage/io/_io.py:142: UserWarning: ../../datasets/aurora/instagan/train/sampleA_seg/137_0.png is a boolean image: setting True to 1 and False to 0\n",
      "  warn('%s is a boolean image: setting True to 1 and False to 0' % fname)\n",
      "/usr/local/lib/python3.7/site-packages/skimage/io/_io.py:142: UserWarning: ../../datasets/aurora/instagan/train/sampleA_seg/137_1.png is a boolean image: setting True to 1 and False to 0\n",
      "  warn('%s is a boolean image: setting True to 1 and False to 0' % fname)\n"
     ]
    },
    {
     "name": "stdout",
     "output_type": "stream",
     "text": [
      "Processing image ../../datasets/cityscapes-dataset/leftImg8bit_trainvaltest/leftImg8bit/train/strasbourg/strasbourg_000001_056330_leftImg8bit.png\n"
     ]
    },
    {
     "name": "stderr",
     "output_type": "stream",
     "text": [
      "/usr/local/lib/python3.7/site-packages/skimage/io/_io.py:142: UserWarning: ../../datasets/aurora/instagan/train/sampleA_seg/138_0.png is a boolean image: setting True to 1 and False to 0\n",
      "  warn('%s is a boolean image: setting True to 1 and False to 0' % fname)\n"
     ]
    },
    {
     "name": "stdout",
     "output_type": "stream",
     "text": [
      "Processing image ../../datasets/cityscapes-dataset/leftImg8bit_trainvaltest/leftImg8bit/train/strasbourg/strasbourg_000001_011617_leftImg8bit.png\n"
     ]
    },
    {
     "name": "stderr",
     "output_type": "stream",
     "text": [
      "/usr/local/lib/python3.7/site-packages/skimage/io/_io.py:142: UserWarning: ../../datasets/aurora/instagan/train/sampleA_seg/139_0.png is a boolean image: setting True to 1 and False to 0\n",
      "  warn('%s is a boolean image: setting True to 1 and False to 0' % fname)\n",
      "/usr/local/lib/python3.7/site-packages/skimage/io/_io.py:140: UserWarning: ../../datasets/aurora/instagan/train/sampleA_seg/139_1.png is a low contrast image\n",
      "  warn('%s is a low contrast image' % fname)\n",
      "/usr/local/lib/python3.7/site-packages/skimage/io/_io.py:142: UserWarning: ../../datasets/aurora/instagan/train/sampleA_seg/139_1.png is a boolean image: setting True to 1 and False to 0\n",
      "  warn('%s is a boolean image: setting True to 1 and False to 0' % fname)\n",
      "/usr/local/lib/python3.7/site-packages/skimage/io/_io.py:142: UserWarning: ../../datasets/aurora/instagan/train/sampleA_seg/139_2.png is a boolean image: setting True to 1 and False to 0\n",
      "  warn('%s is a boolean image: setting True to 1 and False to 0' % fname)\n"
     ]
    },
    {
     "name": "stdout",
     "output_type": "stream",
     "text": [
      "Processing image ../../datasets/cityscapes-dataset/leftImg8bit_trainvaltest/leftImg8bit/train/strasbourg/strasbourg_000000_021651_leftImg8bit.png\n"
     ]
    },
    {
     "name": "stderr",
     "output_type": "stream",
     "text": [
      "/usr/local/lib/python3.7/site-packages/skimage/io/_io.py:142: UserWarning: ../../datasets/aurora/instagan/train/sampleA_seg/140_0.png is a boolean image: setting True to 1 and False to 0\n",
      "  warn('%s is a boolean image: setting True to 1 and False to 0' % fname)\n",
      "/usr/local/lib/python3.7/site-packages/skimage/io/_io.py:142: UserWarning: ../../datasets/aurora/instagan/train/sampleA_seg/140_1.png is a boolean image: setting True to 1 and False to 0\n",
      "  warn('%s is a boolean image: setting True to 1 and False to 0' % fname)\n"
     ]
    },
    {
     "name": "stdout",
     "output_type": "stream",
     "text": [
      "Processing image ../../datasets/cityscapes-dataset/leftImg8bit_trainvaltest/leftImg8bit/train/strasbourg/strasbourg_000001_051448_leftImg8bit.png\n"
     ]
    },
    {
     "name": "stderr",
     "output_type": "stream",
     "text": [
      "/usr/local/lib/python3.7/site-packages/skimage/io/_io.py:142: UserWarning: ../../datasets/aurora/instagan/train/sampleA_seg/141_0.png is a boolean image: setting True to 1 and False to 0\n",
      "  warn('%s is a boolean image: setting True to 1 and False to 0' % fname)\n"
     ]
    },
    {
     "name": "stdout",
     "output_type": "stream",
     "text": [
      "Processing image ../../datasets/cityscapes-dataset/leftImg8bit_trainvaltest/leftImg8bit/train/strasbourg/strasbourg_000001_018155_leftImg8bit.png\n"
     ]
    },
    {
     "name": "stderr",
     "output_type": "stream",
     "text": [
      "/usr/local/lib/python3.7/site-packages/skimage/io/_io.py:142: UserWarning: ../../datasets/aurora/instagan/train/sampleA_seg/142_0.png is a boolean image: setting True to 1 and False to 0\n",
      "  warn('%s is a boolean image: setting True to 1 and False to 0' % fname)\n"
     ]
    },
    {
     "name": "stdout",
     "output_type": "stream",
     "text": [
      "Processing image ../../datasets/cityscapes-dataset/leftImg8bit_trainvaltest/leftImg8bit/train/strasbourg/strasbourg_000001_048605_leftImg8bit.png\n"
     ]
    },
    {
     "name": "stderr",
     "output_type": "stream",
     "text": [
      "/usr/local/lib/python3.7/site-packages/skimage/io/_io.py:142: UserWarning: ../../datasets/aurora/instagan/train/sampleA_seg/143_0.png is a boolean image: setting True to 1 and False to 0\n",
      "  warn('%s is a boolean image: setting True to 1 and False to 0' % fname)\n",
      "/usr/local/lib/python3.7/site-packages/skimage/io/_io.py:140: UserWarning: ../../datasets/aurora/instagan/train/sampleA_seg/143_1.png is a low contrast image\n",
      "  warn('%s is a low contrast image' % fname)\n",
      "/usr/local/lib/python3.7/site-packages/skimage/io/_io.py:142: UserWarning: ../../datasets/aurora/instagan/train/sampleA_seg/143_1.png is a boolean image: setting True to 1 and False to 0\n",
      "  warn('%s is a boolean image: setting True to 1 and False to 0' % fname)\n"
     ]
    },
    {
     "name": "stdout",
     "output_type": "stream",
     "text": [
      "Processing image ../../datasets/cityscapes-dataset/leftImg8bit_trainvaltest/leftImg8bit/train/strasbourg/strasbourg_000000_002183_leftImg8bit.png\n"
     ]
    },
    {
     "name": "stderr",
     "output_type": "stream",
     "text": [
      "/usr/local/lib/python3.7/site-packages/skimage/io/_io.py:140: UserWarning: ../../datasets/aurora/instagan/train/sampleA_seg/144_0.png is a low contrast image\n",
      "  warn('%s is a low contrast image' % fname)\n",
      "/usr/local/lib/python3.7/site-packages/skimage/io/_io.py:142: UserWarning: ../../datasets/aurora/instagan/train/sampleA_seg/144_0.png is a boolean image: setting True to 1 and False to 0\n",
      "  warn('%s is a boolean image: setting True to 1 and False to 0' % fname)\n",
      "/usr/local/lib/python3.7/site-packages/skimage/io/_io.py:140: UserWarning: ../../datasets/aurora/instagan/train/sampleA_seg/144_1.png is a low contrast image\n",
      "  warn('%s is a low contrast image' % fname)\n",
      "/usr/local/lib/python3.7/site-packages/skimage/io/_io.py:142: UserWarning: ../../datasets/aurora/instagan/train/sampleA_seg/144_1.png is a boolean image: setting True to 1 and False to 0\n",
      "  warn('%s is a boolean image: setting True to 1 and False to 0' % fname)\n",
      "/usr/local/lib/python3.7/site-packages/skimage/io/_io.py:140: UserWarning: ../../datasets/aurora/instagan/train/sampleA_seg/144_2.png is a low contrast image\n",
      "  warn('%s is a low contrast image' % fname)\n",
      "/usr/local/lib/python3.7/site-packages/skimage/io/_io.py:142: UserWarning: ../../datasets/aurora/instagan/train/sampleA_seg/144_2.png is a boolean image: setting True to 1 and False to 0\n",
      "  warn('%s is a boolean image: setting True to 1 and False to 0' % fname)\n",
      "/usr/local/lib/python3.7/site-packages/skimage/io/_io.py:140: UserWarning: ../../datasets/aurora/instagan/train/sampleA_seg/144_3.png is a low contrast image\n",
      "  warn('%s is a low contrast image' % fname)\n",
      "/usr/local/lib/python3.7/site-packages/skimage/io/_io.py:142: UserWarning: ../../datasets/aurora/instagan/train/sampleA_seg/144_3.png is a boolean image: setting True to 1 and False to 0\n",
      "  warn('%s is a boolean image: setting True to 1 and False to 0' % fname)\n",
      "/usr/local/lib/python3.7/site-packages/skimage/io/_io.py:142: UserWarning: ../../datasets/aurora/instagan/train/sampleA_seg/144_4.png is a boolean image: setting True to 1 and False to 0\n",
      "  warn('%s is a boolean image: setting True to 1 and False to 0' % fname)\n",
      "/usr/local/lib/python3.7/site-packages/skimage/io/_io.py:142: UserWarning: ../../datasets/aurora/instagan/train/sampleA_seg/144_5.png is a boolean image: setting True to 1 and False to 0\n",
      "  warn('%s is a boolean image: setting True to 1 and False to 0' % fname)\n",
      "/usr/local/lib/python3.7/site-packages/skimage/io/_io.py:142: UserWarning: ../../datasets/aurora/instagan/train/sampleA_seg/144_6.png is a boolean image: setting True to 1 and False to 0\n",
      "  warn('%s is a boolean image: setting True to 1 and False to 0' % fname)\n"
     ]
    },
    {
     "name": "stdout",
     "output_type": "stream",
     "text": [
      "Processing image ../../datasets/cityscapes-dataset/leftImg8bit_trainvaltest/leftImg8bit/train/strasbourg/strasbourg_000000_025268_leftImg8bit.png\n"
     ]
    },
    {
     "name": "stderr",
     "output_type": "stream",
     "text": [
      "/usr/local/lib/python3.7/site-packages/skimage/io/_io.py:142: UserWarning: ../../datasets/aurora/instagan/train/sampleA_seg/145_0.png is a boolean image: setting True to 1 and False to 0\n",
      "  warn('%s is a boolean image: setting True to 1 and False to 0' % fname)\n"
     ]
    },
    {
     "name": "stdout",
     "output_type": "stream",
     "text": [
      "Processing image ../../datasets/cityscapes-dataset/leftImg8bit_trainvaltest/leftImg8bit/train/strasbourg/strasbourg_000001_016253_leftImg8bit.png\n"
     ]
    },
    {
     "name": "stderr",
     "output_type": "stream",
     "text": [
      "/usr/local/lib/python3.7/site-packages/skimage/io/_io.py:140: UserWarning: ../../datasets/aurora/instagan/train/sampleA_seg/146_0.png is a low contrast image\n",
      "  warn('%s is a low contrast image' % fname)\n",
      "/usr/local/lib/python3.7/site-packages/skimage/io/_io.py:142: UserWarning: ../../datasets/aurora/instagan/train/sampleA_seg/146_0.png is a boolean image: setting True to 1 and False to 0\n",
      "  warn('%s is a boolean image: setting True to 1 and False to 0' % fname)\n"
     ]
    },
    {
     "name": "stdout",
     "output_type": "stream",
     "text": [
      "Processing image ../../datasets/cityscapes-dataset/leftImg8bit_trainvaltest/leftImg8bit/train/strasbourg/strasbourg_000001_018742_leftImg8bit.png\n"
     ]
    },
    {
     "name": "stderr",
     "output_type": "stream",
     "text": [
      "/usr/local/lib/python3.7/site-packages/skimage/io/_io.py:142: UserWarning: ../../datasets/aurora/instagan/train/sampleA_seg/147_0.png is a boolean image: setting True to 1 and False to 0\n",
      "  warn('%s is a boolean image: setting True to 1 and False to 0' % fname)\n"
     ]
    },
    {
     "name": "stdout",
     "output_type": "stream",
     "text": [
      "Processing image ../../datasets/cityscapes-dataset/leftImg8bit_trainvaltest/leftImg8bit/train/strasbourg/strasbourg_000001_061384_leftImg8bit.png\n"
     ]
    },
    {
     "name": "stderr",
     "output_type": "stream",
     "text": [
      "/usr/local/lib/python3.7/site-packages/skimage/io/_io.py:142: UserWarning: ../../datasets/aurora/instagan/train/sampleA_seg/148_0.png is a boolean image: setting True to 1 and False to 0\n",
      "  warn('%s is a boolean image: setting True to 1 and False to 0' % fname)\n"
     ]
    },
    {
     "name": "stdout",
     "output_type": "stream",
     "text": [
      "Processing image ../../datasets/cityscapes-dataset/leftImg8bit_trainvaltest/leftImg8bit/train/strasbourg/strasbourg_000001_062362_leftImg8bit.png\n"
     ]
    },
    {
     "name": "stderr",
     "output_type": "stream",
     "text": [
      "/usr/local/lib/python3.7/site-packages/skimage/io/_io.py:142: UserWarning: ../../datasets/aurora/instagan/train/sampleA_seg/149_0.png is a boolean image: setting True to 1 and False to 0\n",
      "  warn('%s is a boolean image: setting True to 1 and False to 0' % fname)\n",
      "/usr/local/lib/python3.7/site-packages/skimage/io/_io.py:142: UserWarning: ../../datasets/aurora/instagan/train/sampleA_seg/149_1.png is a boolean image: setting True to 1 and False to 0\n",
      "  warn('%s is a boolean image: setting True to 1 and False to 0' % fname)\n",
      "/usr/local/lib/python3.7/site-packages/skimage/io/_io.py:140: UserWarning: ../../datasets/aurora/instagan/train/sampleA_seg/149_2.png is a low contrast image\n",
      "  warn('%s is a low contrast image' % fname)\n",
      "/usr/local/lib/python3.7/site-packages/skimage/io/_io.py:142: UserWarning: ../../datasets/aurora/instagan/train/sampleA_seg/149_2.png is a boolean image: setting True to 1 and False to 0\n",
      "  warn('%s is a boolean image: setting True to 1 and False to 0' % fname)\n"
     ]
    },
    {
     "name": "stdout",
     "output_type": "stream",
     "text": [
      "Processing image ../../datasets/cityscapes-dataset/leftImg8bit_trainvaltest/leftImg8bit/train/strasbourg/strasbourg_000001_060061_leftImg8bit.png\n"
     ]
    },
    {
     "name": "stderr",
     "output_type": "stream",
     "text": [
      "/usr/local/lib/python3.7/site-packages/skimage/io/_io.py:142: UserWarning: ../../datasets/aurora/instagan/train/sampleA_seg/150_0.png is a boolean image: setting True to 1 and False to 0\n",
      "  warn('%s is a boolean image: setting True to 1 and False to 0' % fname)\n"
     ]
    },
    {
     "name": "stdout",
     "output_type": "stream",
     "text": [
      "Processing image ../../datasets/cityscapes-dataset/leftImg8bit_trainvaltest/leftImg8bit/train/strasbourg/strasbourg_000000_027156_leftImg8bit.png\n"
     ]
    },
    {
     "name": "stderr",
     "output_type": "stream",
     "text": [
      "/usr/local/lib/python3.7/site-packages/skimage/io/_io.py:142: UserWarning: ../../datasets/aurora/instagan/train/sampleA_seg/151_0.png is a boolean image: setting True to 1 and False to 0\n",
      "  warn('%s is a boolean image: setting True to 1 and False to 0' % fname)\n"
     ]
    },
    {
     "name": "stdout",
     "output_type": "stream",
     "text": [
      "Processing image ../../datasets/cityscapes-dataset/leftImg8bit_trainvaltest/leftImg8bit/train/strasbourg/strasbourg_000000_031223_leftImg8bit.png\n"
     ]
    },
    {
     "name": "stderr",
     "output_type": "stream",
     "text": [
      "/usr/local/lib/python3.7/site-packages/skimage/io/_io.py:142: UserWarning: ../../datasets/aurora/instagan/train/sampleA_seg/152_0.png is a boolean image: setting True to 1 and False to 0\n",
      "  warn('%s is a boolean image: setting True to 1 and False to 0' % fname)\n",
      "/usr/local/lib/python3.7/site-packages/skimage/io/_io.py:142: UserWarning: ../../datasets/aurora/instagan/train/sampleA_seg/152_1.png is a boolean image: setting True to 1 and False to 0\n",
      "  warn('%s is a boolean image: setting True to 1 and False to 0' % fname)\n"
     ]
    },
    {
     "name": "stdout",
     "output_type": "stream",
     "text": [
      "Processing image ../../datasets/cityscapes-dataset/leftImg8bit_trainvaltest/leftImg8bit/train/strasbourg/strasbourg_000000_025491_leftImg8bit.png\n"
     ]
    },
    {
     "name": "stderr",
     "output_type": "stream",
     "text": [
      "/usr/local/lib/python3.7/site-packages/skimage/io/_io.py:142: UserWarning: ../../datasets/aurora/instagan/train/sampleA_seg/153_0.png is a boolean image: setting True to 1 and False to 0\n",
      "  warn('%s is a boolean image: setting True to 1 and False to 0' % fname)\n"
     ]
    },
    {
     "name": "stdout",
     "output_type": "stream",
     "text": [
      "Processing image ../../datasets/cityscapes-dataset/leftImg8bit_trainvaltest/leftImg8bit/train/strasbourg/strasbourg_000001_013767_leftImg8bit.png\n"
     ]
    },
    {
     "name": "stderr",
     "output_type": "stream",
     "text": [
      "/usr/local/lib/python3.7/site-packages/skimage/io/_io.py:140: UserWarning: ../../datasets/aurora/instagan/train/sampleA_seg/154_0.png is a low contrast image\n",
      "  warn('%s is a low contrast image' % fname)\n",
      "/usr/local/lib/python3.7/site-packages/skimage/io/_io.py:142: UserWarning: ../../datasets/aurora/instagan/train/sampleA_seg/154_0.png is a boolean image: setting True to 1 and False to 0\n",
      "  warn('%s is a boolean image: setting True to 1 and False to 0' % fname)\n",
      "/usr/local/lib/python3.7/site-packages/skimage/io/_io.py:142: UserWarning: ../../datasets/aurora/instagan/train/sampleA_seg/154_1.png is a boolean image: setting True to 1 and False to 0\n",
      "  warn('%s is a boolean image: setting True to 1 and False to 0' % fname)\n"
     ]
    },
    {
     "name": "stdout",
     "output_type": "stream",
     "text": [
      "Processing image ../../datasets/cityscapes-dataset/leftImg8bit_trainvaltest/leftImg8bit/train/strasbourg/strasbourg_000001_017675_leftImg8bit.png\n"
     ]
    },
    {
     "name": "stderr",
     "output_type": "stream",
     "text": [
      "/usr/local/lib/python3.7/site-packages/skimage/io/_io.py:142: UserWarning: ../../datasets/aurora/instagan/train/sampleA_seg/155_0.png is a boolean image: setting True to 1 and False to 0\n",
      "  warn('%s is a boolean image: setting True to 1 and False to 0' % fname)\n"
     ]
    },
    {
     "name": "stdout",
     "output_type": "stream",
     "text": [
      "Processing image ../../datasets/cityscapes-dataset/leftImg8bit_trainvaltest/leftImg8bit/train/strasbourg/strasbourg_000001_003676_leftImg8bit.png\n"
     ]
    },
    {
     "name": "stderr",
     "output_type": "stream",
     "text": [
      "/usr/local/lib/python3.7/site-packages/skimage/io/_io.py:142: UserWarning: ../../datasets/aurora/instagan/train/sampleA_seg/156_0.png is a boolean image: setting True to 1 and False to 0\n",
      "  warn('%s is a boolean image: setting True to 1 and False to 0' % fname)\n"
     ]
    },
    {
     "name": "stdout",
     "output_type": "stream",
     "text": [
      "Processing image ../../datasets/cityscapes-dataset/leftImg8bit_trainvaltest/leftImg8bit/train/strasbourg/strasbourg_000001_039558_leftImg8bit.png\n"
     ]
    },
    {
     "name": "stderr",
     "output_type": "stream",
     "text": [
      "/usr/local/lib/python3.7/site-packages/skimage/io/_io.py:142: UserWarning: ../../datasets/aurora/instagan/train/sampleA_seg/157_0.png is a boolean image: setting True to 1 and False to 0\n",
      "  warn('%s is a boolean image: setting True to 1 and False to 0' % fname)\n"
     ]
    },
    {
     "name": "stdout",
     "output_type": "stream",
     "text": [
      "Processing image ../../datasets/cityscapes-dataset/leftImg8bit_trainvaltest/leftImg8bit/train/strasbourg/strasbourg_000000_034040_leftImg8bit.png\n"
     ]
    },
    {
     "name": "stderr",
     "output_type": "stream",
     "text": [
      "/usr/local/lib/python3.7/site-packages/skimage/io/_io.py:140: UserWarning: ../../datasets/aurora/instagan/train/sampleA_seg/158_0.png is a low contrast image\n",
      "  warn('%s is a low contrast image' % fname)\n",
      "/usr/local/lib/python3.7/site-packages/skimage/io/_io.py:142: UserWarning: ../../datasets/aurora/instagan/train/sampleA_seg/158_0.png is a boolean image: setting True to 1 and False to 0\n",
      "  warn('%s is a boolean image: setting True to 1 and False to 0' % fname)\n"
     ]
    },
    {
     "name": "stdout",
     "output_type": "stream",
     "text": [
      "Processing image ../../datasets/cityscapes-dataset/leftImg8bit_trainvaltest/leftImg8bit/train/strasbourg/strasbourg_000000_029400_leftImg8bit.png\n"
     ]
    },
    {
     "name": "stderr",
     "output_type": "stream",
     "text": [
      "/usr/local/lib/python3.7/site-packages/skimage/io/_io.py:142: UserWarning: ../../datasets/aurora/instagan/train/sampleA_seg/159_0.png is a boolean image: setting True to 1 and False to 0\n",
      "  warn('%s is a boolean image: setting True to 1 and False to 0' % fname)\n"
     ]
    },
    {
     "name": "stdout",
     "output_type": "stream",
     "text": [
      "Processing image ../../datasets/cityscapes-dataset/leftImg8bit_trainvaltest/leftImg8bit/train/strasbourg/strasbourg_000000_017159_leftImg8bit.png\n"
     ]
    },
    {
     "name": "stderr",
     "output_type": "stream",
     "text": [
      "/usr/local/lib/python3.7/site-packages/skimage/io/_io.py:142: UserWarning: ../../datasets/aurora/instagan/train/sampleA_seg/160_0.png is a boolean image: setting True to 1 and False to 0\n",
      "  warn('%s is a boolean image: setting True to 1 and False to 0' % fname)\n",
      "/usr/local/lib/python3.7/site-packages/skimage/io/_io.py:142: UserWarning: ../../datasets/aurora/instagan/train/sampleA_seg/160_1.png is a boolean image: setting True to 1 and False to 0\n",
      "  warn('%s is a boolean image: setting True to 1 and False to 0' % fname)\n",
      "/usr/local/lib/python3.7/site-packages/skimage/io/_io.py:142: UserWarning: ../../datasets/aurora/instagan/train/sampleA_seg/160_2.png is a boolean image: setting True to 1 and False to 0\n",
      "  warn('%s is a boolean image: setting True to 1 and False to 0' % fname)\n"
     ]
    },
    {
     "name": "stdout",
     "output_type": "stream",
     "text": [
      "Processing image ../../datasets/cityscapes-dataset/leftImg8bit_trainvaltest/leftImg8bit/train/strasbourg/strasbourg_000001_063808_leftImg8bit.png\n"
     ]
    },
    {
     "name": "stderr",
     "output_type": "stream",
     "text": [
      "/usr/local/lib/python3.7/site-packages/skimage/io/_io.py:142: UserWarning: ../../datasets/aurora/instagan/train/sampleA_seg/161_0.png is a boolean image: setting True to 1 and False to 0\n",
      "  warn('%s is a boolean image: setting True to 1 and False to 0' % fname)\n"
     ]
    },
    {
     "name": "stdout",
     "output_type": "stream",
     "text": [
      "Processing image ../../datasets/cityscapes-dataset/leftImg8bit_trainvaltest/leftImg8bit/train/strasbourg/strasbourg_000001_045481_leftImg8bit.png\n"
     ]
    },
    {
     "name": "stderr",
     "output_type": "stream",
     "text": [
      "/usr/local/lib/python3.7/site-packages/skimage/io/_io.py:140: UserWarning: ../../datasets/aurora/instagan/train/sampleA_seg/162_0.png is a low contrast image\n",
      "  warn('%s is a low contrast image' % fname)\n",
      "/usr/local/lib/python3.7/site-packages/skimage/io/_io.py:142: UserWarning: ../../datasets/aurora/instagan/train/sampleA_seg/162_0.png is a boolean image: setting True to 1 and False to 0\n",
      "  warn('%s is a boolean image: setting True to 1 and False to 0' % fname)\n",
      "/usr/local/lib/python3.7/site-packages/skimage/io/_io.py:140: UserWarning: ../../datasets/aurora/instagan/train/sampleA_seg/162_1.png is a low contrast image\n",
      "  warn('%s is a low contrast image' % fname)\n",
      "/usr/local/lib/python3.7/site-packages/skimage/io/_io.py:142: UserWarning: ../../datasets/aurora/instagan/train/sampleA_seg/162_1.png is a boolean image: setting True to 1 and False to 0\n",
      "  warn('%s is a boolean image: setting True to 1 and False to 0' % fname)\n",
      "/usr/local/lib/python3.7/site-packages/skimage/io/_io.py:140: UserWarning: ../../datasets/aurora/instagan/train/sampleA_seg/162_2.png is a low contrast image\n",
      "  warn('%s is a low contrast image' % fname)\n",
      "/usr/local/lib/python3.7/site-packages/skimage/io/_io.py:142: UserWarning: ../../datasets/aurora/instagan/train/sampleA_seg/162_2.png is a boolean image: setting True to 1 and False to 0\n",
      "  warn('%s is a boolean image: setting True to 1 and False to 0' % fname)\n"
     ]
    },
    {
     "name": "stdout",
     "output_type": "stream",
     "text": [
      "Processing image ../../datasets/cityscapes-dataset/leftImg8bit_trainvaltest/leftImg8bit/train/strasbourg/strasbourg_000000_003846_leftImg8bit.png\n"
     ]
    },
    {
     "name": "stderr",
     "output_type": "stream",
     "text": [
      "/usr/local/lib/python3.7/site-packages/skimage/io/_io.py:142: UserWarning: ../../datasets/aurora/instagan/train/sampleA_seg/163_0.png is a boolean image: setting True to 1 and False to 0\n",
      "  warn('%s is a boolean image: setting True to 1 and False to 0' % fname)\n",
      "/usr/local/lib/python3.7/site-packages/skimage/io/_io.py:142: UserWarning: ../../datasets/aurora/instagan/train/sampleA_seg/163_1.png is a boolean image: setting True to 1 and False to 0\n",
      "  warn('%s is a boolean image: setting True to 1 and False to 0' % fname)\n"
     ]
    },
    {
     "name": "stdout",
     "output_type": "stream",
     "text": [
      "Processing image ../../datasets/cityscapes-dataset/leftImg8bit_trainvaltest/leftImg8bit/train/strasbourg/strasbourg_000001_025833_leftImg8bit.png\n"
     ]
    },
    {
     "name": "stderr",
     "output_type": "stream",
     "text": [
      "/usr/local/lib/python3.7/site-packages/skimage/io/_io.py:142: UserWarning: ../../datasets/aurora/instagan/train/sampleA_seg/164_0.png is a boolean image: setting True to 1 and False to 0\n",
      "  warn('%s is a boolean image: setting True to 1 and False to 0' % fname)\n"
     ]
    },
    {
     "name": "stdout",
     "output_type": "stream",
     "text": [
      "Processing image ../../datasets/cityscapes-dataset/leftImg8bit_trainvaltest/leftImg8bit/train/strasbourg/strasbourg_000000_024945_leftImg8bit.png\n"
     ]
    },
    {
     "name": "stderr",
     "output_type": "stream",
     "text": [
      "/usr/local/lib/python3.7/site-packages/skimage/io/_io.py:142: UserWarning: ../../datasets/aurora/instagan/train/sampleA_seg/165_0.png is a boolean image: setting True to 1 and False to 0\n",
      "  warn('%s is a boolean image: setting True to 1 and False to 0' % fname)\n",
      "/usr/local/lib/python3.7/site-packages/skimage/io/_io.py:140: UserWarning: ../../datasets/aurora/instagan/train/sampleA_seg/165_1.png is a low contrast image\n",
      "  warn('%s is a low contrast image' % fname)\n",
      "/usr/local/lib/python3.7/site-packages/skimage/io/_io.py:142: UserWarning: ../../datasets/aurora/instagan/train/sampleA_seg/165_1.png is a boolean image: setting True to 1 and False to 0\n",
      "  warn('%s is a boolean image: setting True to 1 and False to 0' % fname)\n",
      "/usr/local/lib/python3.7/site-packages/skimage/io/_io.py:140: UserWarning: ../../datasets/aurora/instagan/train/sampleA_seg/165_2.png is a low contrast image\n",
      "  warn('%s is a low contrast image' % fname)\n",
      "/usr/local/lib/python3.7/site-packages/skimage/io/_io.py:142: UserWarning: ../../datasets/aurora/instagan/train/sampleA_seg/165_2.png is a boolean image: setting True to 1 and False to 0\n",
      "  warn('%s is a boolean image: setting True to 1 and False to 0' % fname)\n"
     ]
    },
    {
     "name": "stdout",
     "output_type": "stream",
     "text": [
      "Processing image ../../datasets/cityscapes-dataset/leftImg8bit_trainvaltest/leftImg8bit/train/strasbourg/strasbourg_000001_022151_leftImg8bit.png\n"
     ]
    },
    {
     "name": "stderr",
     "output_type": "stream",
     "text": [
      "/usr/local/lib/python3.7/site-packages/skimage/io/_io.py:142: UserWarning: ../../datasets/aurora/instagan/train/sampleA_seg/166_0.png is a boolean image: setting True to 1 and False to 0\n",
      "  warn('%s is a boolean image: setting True to 1 and False to 0' % fname)\n"
     ]
    },
    {
     "name": "stdout",
     "output_type": "stream",
     "text": [
      "Processing image ../../datasets/cityscapes-dataset/leftImg8bit_trainvaltest/leftImg8bit/train/strasbourg/strasbourg_000001_010445_leftImg8bit.png\n"
     ]
    },
    {
     "name": "stderr",
     "output_type": "stream",
     "text": [
      "/usr/local/lib/python3.7/site-packages/skimage/io/_io.py:142: UserWarning: ../../datasets/aurora/instagan/train/sampleA_seg/167_0.png is a boolean image: setting True to 1 and False to 0\n",
      "  warn('%s is a boolean image: setting True to 1 and False to 0' % fname)\n",
      "/usr/local/lib/python3.7/site-packages/skimage/io/_io.py:142: UserWarning: ../../datasets/aurora/instagan/train/sampleA_seg/167_1.png is a boolean image: setting True to 1 and False to 0\n",
      "  warn('%s is a boolean image: setting True to 1 and False to 0' % fname)\n",
      "/usr/local/lib/python3.7/site-packages/skimage/io/_io.py:140: UserWarning: ../../datasets/aurora/instagan/train/sampleA_seg/167_2.png is a low contrast image\n",
      "  warn('%s is a low contrast image' % fname)\n",
      "/usr/local/lib/python3.7/site-packages/skimage/io/_io.py:142: UserWarning: ../../datasets/aurora/instagan/train/sampleA_seg/167_2.png is a boolean image: setting True to 1 and False to 0\n",
      "  warn('%s is a boolean image: setting True to 1 and False to 0' % fname)\n",
      "/usr/local/lib/python3.7/site-packages/skimage/io/_io.py:140: UserWarning: ../../datasets/aurora/instagan/train/sampleA_seg/167_3.png is a low contrast image\n",
      "  warn('%s is a low contrast image' % fname)\n",
      "/usr/local/lib/python3.7/site-packages/skimage/io/_io.py:142: UserWarning: ../../datasets/aurora/instagan/train/sampleA_seg/167_3.png is a boolean image: setting True to 1 and False to 0\n",
      "  warn('%s is a boolean image: setting True to 1 and False to 0' % fname)\n",
      "/usr/local/lib/python3.7/site-packages/skimage/io/_io.py:140: UserWarning: ../../datasets/aurora/instagan/train/sampleA_seg/167_4.png is a low contrast image\n",
      "  warn('%s is a low contrast image' % fname)\n",
      "/usr/local/lib/python3.7/site-packages/skimage/io/_io.py:142: UserWarning: ../../datasets/aurora/instagan/train/sampleA_seg/167_4.png is a boolean image: setting True to 1 and False to 0\n",
      "  warn('%s is a boolean image: setting True to 1 and False to 0' % fname)\n"
     ]
    },
    {
     "name": "stdout",
     "output_type": "stream",
     "text": [
      "Processing image ../../datasets/cityscapes-dataset/leftImg8bit_trainvaltest/leftImg8bit/train/strasbourg/strasbourg_000000_014416_leftImg8bit.png\n"
     ]
    },
    {
     "name": "stderr",
     "output_type": "stream",
     "text": [
      "/usr/local/lib/python3.7/site-packages/skimage/io/_io.py:142: UserWarning: ../../datasets/aurora/instagan/train/sampleA_seg/168_0.png is a boolean image: setting True to 1 and False to 0\n",
      "  warn('%s is a boolean image: setting True to 1 and False to 0' % fname)\n"
     ]
    },
    {
     "name": "stdout",
     "output_type": "stream",
     "text": [
      "Processing image ../../datasets/cityscapes-dataset/leftImg8bit_trainvaltest/leftImg8bit/train/strasbourg/strasbourg_000001_001072_leftImg8bit.png\n"
     ]
    },
    {
     "name": "stderr",
     "output_type": "stream",
     "text": [
      "/usr/local/lib/python3.7/site-packages/skimage/io/_io.py:142: UserWarning: ../../datasets/aurora/instagan/train/sampleA_seg/169_0.png is a boolean image: setting True to 1 and False to 0\n",
      "  warn('%s is a boolean image: setting True to 1 and False to 0' % fname)\n"
     ]
    },
    {
     "name": "stdout",
     "output_type": "stream",
     "text": [
      "Processing image ../../datasets/cityscapes-dataset/leftImg8bit_trainvaltest/leftImg8bit/train/strasbourg/strasbourg_000000_027233_leftImg8bit.png\n"
     ]
    },
    {
     "name": "stderr",
     "output_type": "stream",
     "text": [
      "/usr/local/lib/python3.7/site-packages/skimage/io/_io.py:142: UserWarning: ../../datasets/aurora/instagan/train/sampleA_seg/170_0.png is a boolean image: setting True to 1 and False to 0\n",
      "  warn('%s is a boolean image: setting True to 1 and False to 0' % fname)\n",
      "/usr/local/lib/python3.7/site-packages/skimage/io/_io.py:142: UserWarning: ../../datasets/aurora/instagan/train/sampleA_seg/170_1.png is a boolean image: setting True to 1 and False to 0\n",
      "  warn('%s is a boolean image: setting True to 1 and False to 0' % fname)\n"
     ]
    },
    {
     "name": "stdout",
     "output_type": "stream",
     "text": [
      "Processing image ../../datasets/cityscapes-dataset/leftImg8bit_trainvaltest/leftImg8bit/train/strasbourg/strasbourg_000001_015974_leftImg8bit.png\n"
     ]
    },
    {
     "name": "stderr",
     "output_type": "stream",
     "text": [
      "/usr/local/lib/python3.7/site-packages/skimage/io/_io.py:142: UserWarning: ../../datasets/aurora/instagan/train/sampleA_seg/171_0.png is a boolean image: setting True to 1 and False to 0\n",
      "  warn('%s is a boolean image: setting True to 1 and False to 0' % fname)\n",
      "/usr/local/lib/python3.7/site-packages/skimage/io/_io.py:142: UserWarning: ../../datasets/aurora/instagan/train/sampleA_seg/171_1.png is a boolean image: setting True to 1 and False to 0\n",
      "  warn('%s is a boolean image: setting True to 1 and False to 0' % fname)\n"
     ]
    },
    {
     "name": "stdout",
     "output_type": "stream",
     "text": [
      "Processing image ../../datasets/cityscapes-dataset/leftImg8bit_trainvaltest/leftImg8bit/train/strasbourg/strasbourg_000000_030941_leftImg8bit.png\n"
     ]
    },
    {
     "name": "stderr",
     "output_type": "stream",
     "text": [
      "/usr/local/lib/python3.7/site-packages/skimage/io/_io.py:142: UserWarning: ../../datasets/aurora/instagan/train/sampleA_seg/172_0.png is a boolean image: setting True to 1 and False to 0\n",
      "  warn('%s is a boolean image: setting True to 1 and False to 0' % fname)\n"
     ]
    },
    {
     "name": "stdout",
     "output_type": "stream",
     "text": [
      "Processing image ../../datasets/cityscapes-dataset/leftImg8bit_trainvaltest/leftImg8bit/train/strasbourg/strasbourg_000001_020956_leftImg8bit.png\n"
     ]
    },
    {
     "name": "stderr",
     "output_type": "stream",
     "text": [
      "/usr/local/lib/python3.7/site-packages/skimage/io/_io.py:142: UserWarning: ../../datasets/aurora/instagan/train/sampleA_seg/173_0.png is a boolean image: setting True to 1 and False to 0\n",
      "  warn('%s is a boolean image: setting True to 1 and False to 0' % fname)\n"
     ]
    },
    {
     "name": "stdout",
     "output_type": "stream",
     "text": [
      "Processing image ../../datasets/cityscapes-dataset/leftImg8bit_trainvaltest/leftImg8bit/train/strasbourg/strasbourg_000001_051877_leftImg8bit.png\n"
     ]
    },
    {
     "name": "stderr",
     "output_type": "stream",
     "text": [
      "/usr/local/lib/python3.7/site-packages/skimage/io/_io.py:142: UserWarning: ../../datasets/aurora/instagan/train/sampleA_seg/174_0.png is a boolean image: setting True to 1 and False to 0\n",
      "  warn('%s is a boolean image: setting True to 1 and False to 0' % fname)\n"
     ]
    },
    {
     "name": "stdout",
     "output_type": "stream",
     "text": [
      "Processing image ../../datasets/cityscapes-dataset/leftImg8bit_trainvaltest/leftImg8bit/train/strasbourg/strasbourg_000001_042869_leftImg8bit.png\n"
     ]
    },
    {
     "name": "stderr",
     "output_type": "stream",
     "text": [
      "/usr/local/lib/python3.7/site-packages/skimage/io/_io.py:142: UserWarning: ../../datasets/aurora/instagan/train/sampleA_seg/175_0.png is a boolean image: setting True to 1 and False to 0\n",
      "  warn('%s is a boolean image: setting True to 1 and False to 0' % fname)\n"
     ]
    },
    {
     "name": "stdout",
     "output_type": "stream",
     "text": [
      "Processing image ../../datasets/cityscapes-dataset/leftImg8bit_trainvaltest/leftImg8bit/train/strasbourg/strasbourg_000001_047619_leftImg8bit.png\n"
     ]
    },
    {
     "name": "stderr",
     "output_type": "stream",
     "text": [
      "/usr/local/lib/python3.7/site-packages/skimage/io/_io.py:142: UserWarning: ../../datasets/aurora/instagan/train/sampleA_seg/176_0.png is a boolean image: setting True to 1 and False to 0\n",
      "  warn('%s is a boolean image: setting True to 1 and False to 0' % fname)\n",
      "/usr/local/lib/python3.7/site-packages/skimage/io/_io.py:142: UserWarning: ../../datasets/aurora/instagan/train/sampleA_seg/176_1.png is a boolean image: setting True to 1 and False to 0\n",
      "  warn('%s is a boolean image: setting True to 1 and False to 0' % fname)\n"
     ]
    },
    {
     "name": "stdout",
     "output_type": "stream",
     "text": [
      "Processing image ../../datasets/cityscapes-dataset/leftImg8bit_trainvaltest/leftImg8bit/train/strasbourg/strasbourg_000001_056857_leftImg8bit.png\n"
     ]
    },
    {
     "name": "stderr",
     "output_type": "stream",
     "text": [
      "/usr/local/lib/python3.7/site-packages/skimage/io/_io.py:142: UserWarning: ../../datasets/aurora/instagan/train/sampleA_seg/177_0.png is a boolean image: setting True to 1 and False to 0\n",
      "  warn('%s is a boolean image: setting True to 1 and False to 0' % fname)\n",
      "/usr/local/lib/python3.7/site-packages/skimage/io/_io.py:142: UserWarning: ../../datasets/aurora/instagan/train/sampleA_seg/177_1.png is a boolean image: setting True to 1 and False to 0\n",
      "  warn('%s is a boolean image: setting True to 1 and False to 0' % fname)\n"
     ]
    },
    {
     "name": "stdout",
     "output_type": "stream",
     "text": [
      "Processing image ../../datasets/cityscapes-dataset/leftImg8bit_trainvaltest/leftImg8bit/train/strasbourg/strasbourg_000001_002519_leftImg8bit.png\n"
     ]
    },
    {
     "name": "stderr",
     "output_type": "stream",
     "text": [
      "/usr/local/lib/python3.7/site-packages/skimage/io/_io.py:142: UserWarning: ../../datasets/aurora/instagan/train/sampleA_seg/178_0.png is a boolean image: setting True to 1 and False to 0\n",
      "  warn('%s is a boolean image: setting True to 1 and False to 0' % fname)\n"
     ]
    },
    {
     "name": "stdout",
     "output_type": "stream",
     "text": [
      "Processing image ../../datasets/cityscapes-dataset/leftImg8bit_trainvaltest/leftImg8bit/train/strasbourg/strasbourg_000001_059433_leftImg8bit.png\n"
     ]
    },
    {
     "name": "stderr",
     "output_type": "stream",
     "text": [
      "/usr/local/lib/python3.7/site-packages/skimage/io/_io.py:142: UserWarning: ../../datasets/aurora/instagan/train/sampleA_seg/179_0.png is a boolean image: setting True to 1 and False to 0\n",
      "  warn('%s is a boolean image: setting True to 1 and False to 0' % fname)\n"
     ]
    },
    {
     "name": "stdout",
     "output_type": "stream",
     "text": [
      "Processing image ../../datasets/cityscapes-dataset/leftImg8bit_trainvaltest/leftImg8bit/train/strasbourg/strasbourg_000001_015605_leftImg8bit.png\n"
     ]
    },
    {
     "name": "stderr",
     "output_type": "stream",
     "text": [
      "/usr/local/lib/python3.7/site-packages/skimage/io/_io.py:142: UserWarning: ../../datasets/aurora/instagan/train/sampleA_seg/180_0.png is a boolean image: setting True to 1 and False to 0\n",
      "  warn('%s is a boolean image: setting True to 1 and False to 0' % fname)\n",
      "/usr/local/lib/python3.7/site-packages/skimage/io/_io.py:142: UserWarning: ../../datasets/aurora/instagan/train/sampleA_seg/180_1.png is a boolean image: setting True to 1 and False to 0\n",
      "  warn('%s is a boolean image: setting True to 1 and False to 0' % fname)\n"
     ]
    },
    {
     "name": "stdout",
     "output_type": "stream",
     "text": [
      "Processing image ../../datasets/cityscapes-dataset/leftImg8bit_trainvaltest/leftImg8bit/train/strasbourg/strasbourg_000001_031116_leftImg8bit.png\n"
     ]
    },
    {
     "name": "stderr",
     "output_type": "stream",
     "text": [
      "/usr/local/lib/python3.7/site-packages/skimage/io/_io.py:142: UserWarning: ../../datasets/aurora/instagan/train/sampleA_seg/181_0.png is a boolean image: setting True to 1 and False to 0\n",
      "  warn('%s is a boolean image: setting True to 1 and False to 0' % fname)\n",
      "/usr/local/lib/python3.7/site-packages/skimage/io/_io.py:142: UserWarning: ../../datasets/aurora/instagan/train/sampleA_seg/181_1.png is a boolean image: setting True to 1 and False to 0\n",
      "  warn('%s is a boolean image: setting True to 1 and False to 0' % fname)\n"
     ]
    },
    {
     "name": "stdout",
     "output_type": "stream",
     "text": [
      "Processing image ../../datasets/cityscapes-dataset/leftImg8bit_trainvaltest/leftImg8bit/train/strasbourg/strasbourg_000001_005666_leftImg8bit.png\n"
     ]
    },
    {
     "name": "stderr",
     "output_type": "stream",
     "text": [
      "/usr/local/lib/python3.7/site-packages/skimage/io/_io.py:142: UserWarning: ../../datasets/aurora/instagan/train/sampleA_seg/182_0.png is a boolean image: setting True to 1 and False to 0\n",
      "  warn('%s is a boolean image: setting True to 1 and False to 0' % fname)\n"
     ]
    },
    {
     "name": "stdout",
     "output_type": "stream",
     "text": [
      "Processing image ../../datasets/cityscapes-dataset/leftImg8bit_trainvaltest/leftImg8bit/train/strasbourg/strasbourg_000000_017283_leftImg8bit.png\n"
     ]
    },
    {
     "name": "stderr",
     "output_type": "stream",
     "text": [
      "/usr/local/lib/python3.7/site-packages/skimage/io/_io.py:142: UserWarning: ../../datasets/aurora/instagan/train/sampleA_seg/183_0.png is a boolean image: setting True to 1 and False to 0\n",
      "  warn('%s is a boolean image: setting True to 1 and False to 0' % fname)\n"
     ]
    },
    {
     "name": "stdout",
     "output_type": "stream",
     "text": [
      "Processing image ../../datasets/cityscapes-dataset/leftImg8bit_trainvaltest/leftImg8bit/train/strasbourg/strasbourg_000001_061472_leftImg8bit.png\n"
     ]
    },
    {
     "name": "stderr",
     "output_type": "stream",
     "text": [
      "/usr/local/lib/python3.7/site-packages/skimage/io/_io.py:142: UserWarning: ../../datasets/aurora/instagan/train/sampleA_seg/184_0.png is a boolean image: setting True to 1 and False to 0\n",
      "  warn('%s is a boolean image: setting True to 1 and False to 0' % fname)\n"
     ]
    },
    {
     "name": "stdout",
     "output_type": "stream",
     "text": [
      "Processing image ../../datasets/cityscapes-dataset/leftImg8bit_trainvaltest/leftImg8bit/train/strasbourg/strasbourg_000000_020653_leftImg8bit.png\n"
     ]
    },
    {
     "name": "stderr",
     "output_type": "stream",
     "text": [
      "/usr/local/lib/python3.7/site-packages/skimage/io/_io.py:142: UserWarning: ../../datasets/aurora/instagan/train/sampleA_seg/185_0.png is a boolean image: setting True to 1 and False to 0\n",
      "  warn('%s is a boolean image: setting True to 1 and False to 0' % fname)\n",
      "/usr/local/lib/python3.7/site-packages/skimage/io/_io.py:142: UserWarning: ../../datasets/aurora/instagan/train/sampleA_seg/185_1.png is a boolean image: setting True to 1 and False to 0\n",
      "  warn('%s is a boolean image: setting True to 1 and False to 0' % fname)\n",
      "/usr/local/lib/python3.7/site-packages/skimage/io/_io.py:140: UserWarning: ../../datasets/aurora/instagan/train/sampleA_seg/185_2.png is a low contrast image\n",
      "  warn('%s is a low contrast image' % fname)\n",
      "/usr/local/lib/python3.7/site-packages/skimage/io/_io.py:142: UserWarning: ../../datasets/aurora/instagan/train/sampleA_seg/185_2.png is a boolean image: setting True to 1 and False to 0\n",
      "  warn('%s is a boolean image: setting True to 1 and False to 0' % fname)\n",
      "/usr/local/lib/python3.7/site-packages/skimage/io/_io.py:140: UserWarning: ../../datasets/aurora/instagan/train/sampleA_seg/185_3.png is a low contrast image\n",
      "  warn('%s is a low contrast image' % fname)\n",
      "/usr/local/lib/python3.7/site-packages/skimage/io/_io.py:142: UserWarning: ../../datasets/aurora/instagan/train/sampleA_seg/185_3.png is a boolean image: setting True to 1 and False to 0\n",
      "  warn('%s is a boolean image: setting True to 1 and False to 0' % fname)\n"
     ]
    },
    {
     "name": "stdout",
     "output_type": "stream",
     "text": [
      "Processing image ../../datasets/cityscapes-dataset/leftImg8bit_trainvaltest/leftImg8bit/train/strasbourg/strasbourg_000000_018153_leftImg8bit.png\n"
     ]
    },
    {
     "name": "stderr",
     "output_type": "stream",
     "text": [
      "/usr/local/lib/python3.7/site-packages/skimage/io/_io.py:140: UserWarning: ../../datasets/aurora/instagan/train/sampleA_seg/186_0.png is a low contrast image\n",
      "  warn('%s is a low contrast image' % fname)\n",
      "/usr/local/lib/python3.7/site-packages/skimage/io/_io.py:142: UserWarning: ../../datasets/aurora/instagan/train/sampleA_seg/186_0.png is a boolean image: setting True to 1 and False to 0\n",
      "  warn('%s is a boolean image: setting True to 1 and False to 0' % fname)\n"
     ]
    },
    {
     "name": "stdout",
     "output_type": "stream",
     "text": [
      "Processing image ../../datasets/cityscapes-dataset/leftImg8bit_trainvaltest/leftImg8bit/train/strasbourg/strasbourg_000001_000113_leftImg8bit.png\n"
     ]
    },
    {
     "name": "stderr",
     "output_type": "stream",
     "text": [
      "/usr/local/lib/python3.7/site-packages/skimage/io/_io.py:142: UserWarning: ../../datasets/aurora/instagan/train/sampleA_seg/187_0.png is a boolean image: setting True to 1 and False to 0\n",
      "  warn('%s is a boolean image: setting True to 1 and False to 0' % fname)\n",
      "/usr/local/lib/python3.7/site-packages/skimage/io/_io.py:142: UserWarning: ../../datasets/aurora/instagan/train/sampleA_seg/187_1.png is a boolean image: setting True to 1 and False to 0\n",
      "  warn('%s is a boolean image: setting True to 1 and False to 0' % fname)\n",
      "/usr/local/lib/python3.7/site-packages/skimage/io/_io.py:142: UserWarning: ../../datasets/aurora/instagan/train/sampleA_seg/187_2.png is a boolean image: setting True to 1 and False to 0\n",
      "  warn('%s is a boolean image: setting True to 1 and False to 0' % fname)\n"
     ]
    },
    {
     "name": "stdout",
     "output_type": "stream",
     "text": [
      "Processing image ../../datasets/cityscapes-dataset/leftImg8bit_trainvaltest/leftImg8bit/train/strasbourg/strasbourg_000001_040620_leftImg8bit.png\n"
     ]
    },
    {
     "name": "stderr",
     "output_type": "stream",
     "text": [
      "/usr/local/lib/python3.7/site-packages/skimage/io/_io.py:142: UserWarning: ../../datasets/aurora/instagan/train/sampleA_seg/188_0.png is a boolean image: setting True to 1 and False to 0\n",
      "  warn('%s is a boolean image: setting True to 1 and False to 0' % fname)\n"
     ]
    },
    {
     "name": "stdout",
     "output_type": "stream",
     "text": [
      "Processing image ../../datasets/cityscapes-dataset/leftImg8bit_trainvaltest/leftImg8bit/train/strasbourg/strasbourg_000000_026882_leftImg8bit.png\n"
     ]
    },
    {
     "name": "stderr",
     "output_type": "stream",
     "text": [
      "/usr/local/lib/python3.7/site-packages/skimage/io/_io.py:142: UserWarning: ../../datasets/aurora/instagan/train/sampleA_seg/189_0.png is a boolean image: setting True to 1 and False to 0\n",
      "  warn('%s is a boolean image: setting True to 1 and False to 0' % fname)\n"
     ]
    },
    {
     "name": "stdout",
     "output_type": "stream",
     "text": [
      "Processing image ../../datasets/cityscapes-dataset/leftImg8bit_trainvaltest/leftImg8bit/train/strasbourg/strasbourg_000001_044219_leftImg8bit.png\n"
     ]
    },
    {
     "name": "stderr",
     "output_type": "stream",
     "text": [
      "/usr/local/lib/python3.7/site-packages/skimage/io/_io.py:142: UserWarning: ../../datasets/aurora/instagan/train/sampleA_seg/190_0.png is a boolean image: setting True to 1 and False to 0\n",
      "  warn('%s is a boolean image: setting True to 1 and False to 0' % fname)\n",
      "/usr/local/lib/python3.7/site-packages/skimage/io/_io.py:142: UserWarning: ../../datasets/aurora/instagan/train/sampleA_seg/190_1.png is a boolean image: setting True to 1 and False to 0\n",
      "  warn('%s is a boolean image: setting True to 1 and False to 0' % fname)\n"
     ]
    },
    {
     "name": "stdout",
     "output_type": "stream",
     "text": [
      "Processing image ../../datasets/cityscapes-dataset/leftImg8bit_trainvaltest/leftImg8bit/train/strasbourg/strasbourg_000001_034375_leftImg8bit.png\n"
     ]
    },
    {
     "name": "stderr",
     "output_type": "stream",
     "text": [
      "/usr/local/lib/python3.7/site-packages/skimage/io/_io.py:142: UserWarning: ../../datasets/aurora/instagan/train/sampleA_seg/191_0.png is a boolean image: setting True to 1 and False to 0\n",
      "  warn('%s is a boolean image: setting True to 1 and False to 0' % fname)\n",
      "/usr/local/lib/python3.7/site-packages/skimage/io/_io.py:142: UserWarning: ../../datasets/aurora/instagan/train/sampleA_seg/191_1.png is a boolean image: setting True to 1 and False to 0\n",
      "  warn('%s is a boolean image: setting True to 1 and False to 0' % fname)\n"
     ]
    },
    {
     "name": "stdout",
     "output_type": "stream",
     "text": [
      "Processing image ../../datasets/cityscapes-dataset/leftImg8bit_trainvaltest/leftImg8bit/train/strasbourg/strasbourg_000001_047955_leftImg8bit.png\n"
     ]
    },
    {
     "name": "stderr",
     "output_type": "stream",
     "text": [
      "/usr/local/lib/python3.7/site-packages/skimage/io/_io.py:142: UserWarning: ../../datasets/aurora/instagan/train/sampleA_seg/192_0.png is a boolean image: setting True to 1 and False to 0\n",
      "  warn('%s is a boolean image: setting True to 1 and False to 0' % fname)\n"
     ]
    },
    {
     "name": "stdout",
     "output_type": "stream",
     "text": [
      "Processing image ../../datasets/cityscapes-dataset/leftImg8bit_trainvaltest/leftImg8bit/train/strasbourg/strasbourg_000001_057517_leftImg8bit.png\n"
     ]
    },
    {
     "name": "stderr",
     "output_type": "stream",
     "text": [
      "/usr/local/lib/python3.7/site-packages/skimage/io/_io.py:142: UserWarning: ../../datasets/aurora/instagan/train/sampleA_seg/193_0.png is a boolean image: setting True to 1 and False to 0\n",
      "  warn('%s is a boolean image: setting True to 1 and False to 0' % fname)\n"
     ]
    },
    {
     "name": "stdout",
     "output_type": "stream",
     "text": [
      "Processing image ../../datasets/cityscapes-dataset/leftImg8bit_trainvaltest/leftImg8bit/train/strasbourg/strasbourg_000000_031323_leftImg8bit.png\n"
     ]
    },
    {
     "name": "stderr",
     "output_type": "stream",
     "text": [
      "/usr/local/lib/python3.7/site-packages/skimage/io/_io.py:142: UserWarning: ../../datasets/aurora/instagan/train/sampleA_seg/194_0.png is a boolean image: setting True to 1 and False to 0\n",
      "  warn('%s is a boolean image: setting True to 1 and False to 0' % fname)\n",
      "/usr/local/lib/python3.7/site-packages/skimage/io/_io.py:142: UserWarning: ../../datasets/aurora/instagan/train/sampleA_seg/194_1.png is a boolean image: setting True to 1 and False to 0\n",
      "  warn('%s is a boolean image: setting True to 1 and False to 0' % fname)\n",
      "/usr/local/lib/python3.7/site-packages/skimage/io/_io.py:142: UserWarning: ../../datasets/aurora/instagan/train/sampleA_seg/194_2.png is a boolean image: setting True to 1 and False to 0\n",
      "  warn('%s is a boolean image: setting True to 1 and False to 0' % fname)\n"
     ]
    },
    {
     "name": "stdout",
     "output_type": "stream",
     "text": [
      "Processing image ../../datasets/cityscapes-dataset/leftImg8bit_trainvaltest/leftImg8bit/train/strasbourg/strasbourg_000001_064393_leftImg8bit.png\n"
     ]
    },
    {
     "name": "stderr",
     "output_type": "stream",
     "text": [
      "/usr/local/lib/python3.7/site-packages/skimage/io/_io.py:142: UserWarning: ../../datasets/aurora/instagan/train/sampleA_seg/195_0.png is a boolean image: setting True to 1 and False to 0\n",
      "  warn('%s is a boolean image: setting True to 1 and False to 0' % fname)\n",
      "/usr/local/lib/python3.7/site-packages/skimage/io/_io.py:140: UserWarning: ../../datasets/aurora/instagan/train/sampleA_seg/195_1.png is a low contrast image\n",
      "  warn('%s is a low contrast image' % fname)\n",
      "/usr/local/lib/python3.7/site-packages/skimage/io/_io.py:142: UserWarning: ../../datasets/aurora/instagan/train/sampleA_seg/195_1.png is a boolean image: setting True to 1 and False to 0\n",
      "  warn('%s is a boolean image: setting True to 1 and False to 0' % fname)\n"
     ]
    },
    {
     "name": "stdout",
     "output_type": "stream",
     "text": [
      "Processing image ../../datasets/cityscapes-dataset/leftImg8bit_trainvaltest/leftImg8bit/train/strasbourg/strasbourg_000000_013654_leftImg8bit.png\n"
     ]
    },
    {
     "name": "stderr",
     "output_type": "stream",
     "text": [
      "/usr/local/lib/python3.7/site-packages/skimage/io/_io.py:142: UserWarning: ../../datasets/aurora/instagan/train/sampleA_seg/196_0.png is a boolean image: setting True to 1 and False to 0\n",
      "  warn('%s is a boolean image: setting True to 1 and False to 0' % fname)\n",
      "/usr/local/lib/python3.7/site-packages/skimage/io/_io.py:142: UserWarning: ../../datasets/aurora/instagan/train/sampleA_seg/196_1.png is a boolean image: setting True to 1 and False to 0\n",
      "  warn('%s is a boolean image: setting True to 1 and False to 0' % fname)\n"
     ]
    },
    {
     "name": "stdout",
     "output_type": "stream",
     "text": [
      "Processing image ../../datasets/cityscapes-dataset/leftImg8bit_trainvaltest/leftImg8bit/train/strasbourg/strasbourg_000001_010755_leftImg8bit.png\n"
     ]
    },
    {
     "name": "stderr",
     "output_type": "stream",
     "text": [
      "/usr/local/lib/python3.7/site-packages/skimage/io/_io.py:142: UserWarning: ../../datasets/aurora/instagan/train/sampleA_seg/197_0.png is a boolean image: setting True to 1 and False to 0\n",
      "  warn('%s is a boolean image: setting True to 1 and False to 0' % fname)\n",
      "/usr/local/lib/python3.7/site-packages/skimage/io/_io.py:140: UserWarning: ../../datasets/aurora/instagan/train/sampleA_seg/197_1.png is a low contrast image\n",
      "  warn('%s is a low contrast image' % fname)\n",
      "/usr/local/lib/python3.7/site-packages/skimage/io/_io.py:142: UserWarning: ../../datasets/aurora/instagan/train/sampleA_seg/197_1.png is a boolean image: setting True to 1 and False to 0\n",
      "  warn('%s is a boolean image: setting True to 1 and False to 0' % fname)\n",
      "/usr/local/lib/python3.7/site-packages/skimage/io/_io.py:140: UserWarning: ../../datasets/aurora/instagan/train/sampleA_seg/197_2.png is a low contrast image\n",
      "  warn('%s is a low contrast image' % fname)\n",
      "/usr/local/lib/python3.7/site-packages/skimage/io/_io.py:142: UserWarning: ../../datasets/aurora/instagan/train/sampleA_seg/197_2.png is a boolean image: setting True to 1 and False to 0\n",
      "  warn('%s is a boolean image: setting True to 1 and False to 0' % fname)\n",
      "/usr/local/lib/python3.7/site-packages/skimage/io/_io.py:142: UserWarning: ../../datasets/aurora/instagan/train/sampleA_seg/197_3.png is a boolean image: setting True to 1 and False to 0\n",
      "  warn('%s is a boolean image: setting True to 1 and False to 0' % fname)\n",
      "/usr/local/lib/python3.7/site-packages/skimage/io/_io.py:140: UserWarning: ../../datasets/aurora/instagan/train/sampleA_seg/197_4.png is a low contrast image\n",
      "  warn('%s is a low contrast image' % fname)\n",
      "/usr/local/lib/python3.7/site-packages/skimage/io/_io.py:142: UserWarning: ../../datasets/aurora/instagan/train/sampleA_seg/197_4.png is a boolean image: setting True to 1 and False to 0\n",
      "  warn('%s is a boolean image: setting True to 1 and False to 0' % fname)\n"
     ]
    },
    {
     "name": "stdout",
     "output_type": "stream",
     "text": [
      "Processing image ../../datasets/cityscapes-dataset/leftImg8bit_trainvaltest/leftImg8bit/train/strasbourg/strasbourg_000001_004106_leftImg8bit.png\n"
     ]
    },
    {
     "name": "stderr",
     "output_type": "stream",
     "text": [
      "/usr/local/lib/python3.7/site-packages/skimage/io/_io.py:140: UserWarning: ../../datasets/aurora/instagan/train/sampleA_seg/198_0.png is a low contrast image\n",
      "  warn('%s is a low contrast image' % fname)\n",
      "/usr/local/lib/python3.7/site-packages/skimage/io/_io.py:142: UserWarning: ../../datasets/aurora/instagan/train/sampleA_seg/198_0.png is a boolean image: setting True to 1 and False to 0\n",
      "  warn('%s is a boolean image: setting True to 1 and False to 0' % fname)\n",
      "/usr/local/lib/python3.7/site-packages/skimage/io/_io.py:142: UserWarning: ../../datasets/aurora/instagan/train/sampleA_seg/198_1.png is a boolean image: setting True to 1 and False to 0\n",
      "  warn('%s is a boolean image: setting True to 1 and False to 0' % fname)\n",
      "/usr/local/lib/python3.7/site-packages/skimage/io/_io.py:142: UserWarning: ../../datasets/aurora/instagan/train/sampleA_seg/198_2.png is a boolean image: setting True to 1 and False to 0\n",
      "  warn('%s is a boolean image: setting True to 1 and False to 0' % fname)\n"
     ]
    },
    {
     "name": "stdout",
     "output_type": "stream",
     "text": [
      "Processing image ../../datasets/cityscapes-dataset/leftImg8bit_trainvaltest/leftImg8bit/train/strasbourg/strasbourg_000001_055934_leftImg8bit.png\n"
     ]
    },
    {
     "name": "stderr",
     "output_type": "stream",
     "text": [
      "/usr/local/lib/python3.7/site-packages/skimage/io/_io.py:142: UserWarning: ../../datasets/aurora/instagan/train/sampleA_seg/199_0.png is a boolean image: setting True to 1 and False to 0\n",
      "  warn('%s is a boolean image: setting True to 1 and False to 0' % fname)\n"
     ]
    },
    {
     "name": "stdout",
     "output_type": "stream",
     "text": [
      "Processing image ../../datasets/cityscapes-dataset/leftImg8bit_trainvaltest/leftImg8bit/train/strasbourg/strasbourg_000000_017593_leftImg8bit.png\n"
     ]
    },
    {
     "name": "stderr",
     "output_type": "stream",
     "text": [
      "/usr/local/lib/python3.7/site-packages/skimage/io/_io.py:140: UserWarning: ../../datasets/aurora/instagan/train/sampleA_seg/200_0.png is a low contrast image\n",
      "  warn('%s is a low contrast image' % fname)\n",
      "/usr/local/lib/python3.7/site-packages/skimage/io/_io.py:142: UserWarning: ../../datasets/aurora/instagan/train/sampleA_seg/200_0.png is a boolean image: setting True to 1 and False to 0\n",
      "  warn('%s is a boolean image: setting True to 1 and False to 0' % fname)\n"
     ]
    },
    {
     "name": "stdout",
     "output_type": "stream",
     "text": [
      "Processing image ../../datasets/cityscapes-dataset/leftImg8bit_trainvaltest/leftImg8bit/train/strasbourg/strasbourg_000001_054275_leftImg8bit.png\n"
     ]
    },
    {
     "name": "stderr",
     "output_type": "stream",
     "text": [
      "/usr/local/lib/python3.7/site-packages/skimage/io/_io.py:142: UserWarning: ../../datasets/aurora/instagan/train/sampleA_seg/201_0.png is a boolean image: setting True to 1 and False to 0\n",
      "  warn('%s is a boolean image: setting True to 1 and False to 0' % fname)\n",
      "/usr/local/lib/python3.7/site-packages/skimage/io/_io.py:142: UserWarning: ../../datasets/aurora/instagan/train/sampleA_seg/201_1.png is a boolean image: setting True to 1 and False to 0\n",
      "  warn('%s is a boolean image: setting True to 1 and False to 0' % fname)\n",
      "/usr/local/lib/python3.7/site-packages/skimage/io/_io.py:142: UserWarning: ../../datasets/aurora/instagan/train/sampleA_seg/201_2.png is a boolean image: setting True to 1 and False to 0\n",
      "  warn('%s is a boolean image: setting True to 1 and False to 0' % fname)\n",
      "/usr/local/lib/python3.7/site-packages/skimage/io/_io.py:140: UserWarning: ../../datasets/aurora/instagan/train/sampleA_seg/201_3.png is a low contrast image\n",
      "  warn('%s is a low contrast image' % fname)\n",
      "/usr/local/lib/python3.7/site-packages/skimage/io/_io.py:142: UserWarning: ../../datasets/aurora/instagan/train/sampleA_seg/201_3.png is a boolean image: setting True to 1 and False to 0\n",
      "  warn('%s is a boolean image: setting True to 1 and False to 0' % fname)\n",
      "/usr/local/lib/python3.7/site-packages/skimage/io/_io.py:142: UserWarning: ../../datasets/aurora/instagan/train/sampleA_seg/201_4.png is a boolean image: setting True to 1 and False to 0\n",
      "  warn('%s is a boolean image: setting True to 1 and False to 0' % fname)\n"
     ]
    },
    {
     "name": "stdout",
     "output_type": "stream",
     "text": [
      "Processing image ../../datasets/cityscapes-dataset/leftImg8bit_trainvaltest/leftImg8bit/train/strasbourg/strasbourg_000001_051317_leftImg8bit.png\n"
     ]
    },
    {
     "name": "stderr",
     "output_type": "stream",
     "text": [
      "/usr/local/lib/python3.7/site-packages/skimage/io/_io.py:142: UserWarning: ../../datasets/aurora/instagan/train/sampleA_seg/202_0.png is a boolean image: setting True to 1 and False to 0\n",
      "  warn('%s is a boolean image: setting True to 1 and False to 0' % fname)\n"
     ]
    },
    {
     "name": "stdout",
     "output_type": "stream",
     "text": [
      "Processing image ../../datasets/cityscapes-dataset/leftImg8bit_trainvaltest/leftImg8bit/train/strasbourg/strasbourg_000001_042309_leftImg8bit.png\n"
     ]
    },
    {
     "name": "stderr",
     "output_type": "stream",
     "text": [
      "/usr/local/lib/python3.7/site-packages/skimage/io/_io.py:142: UserWarning: ../../datasets/aurora/instagan/train/sampleA_seg/203_0.png is a boolean image: setting True to 1 and False to 0\n",
      "  warn('%s is a boolean image: setting True to 1 and False to 0' % fname)\n"
     ]
    },
    {
     "name": "stdout",
     "output_type": "stream",
     "text": [
      "Processing image ../../datasets/cityscapes-dataset/leftImg8bit_trainvaltest/leftImg8bit/train/strasbourg/strasbourg_000000_029051_leftImg8bit.png\n"
     ]
    },
    {
     "name": "stderr",
     "output_type": "stream",
     "text": [
      "/usr/local/lib/python3.7/site-packages/skimage/io/_io.py:142: UserWarning: ../../datasets/aurora/instagan/train/sampleA_seg/204_0.png is a boolean image: setting True to 1 and False to 0\n",
      "  warn('%s is a boolean image: setting True to 1 and False to 0' % fname)\n"
     ]
    },
    {
     "name": "stdout",
     "output_type": "stream",
     "text": [
      "Processing image ../../datasets/cityscapes-dataset/leftImg8bit_trainvaltest/leftImg8bit/train/strasbourg/strasbourg_000001_043080_leftImg8bit.png\n"
     ]
    },
    {
     "name": "stderr",
     "output_type": "stream",
     "text": [
      "/usr/local/lib/python3.7/site-packages/skimage/io/_io.py:142: UserWarning: ../../datasets/aurora/instagan/train/sampleA_seg/205_0.png is a boolean image: setting True to 1 and False to 0\n",
      "  warn('%s is a boolean image: setting True to 1 and False to 0' % fname)\n",
      "/usr/local/lib/python3.7/site-packages/skimage/io/_io.py:142: UserWarning: ../../datasets/aurora/instagan/train/sampleA_seg/205_1.png is a boolean image: setting True to 1 and False to 0\n",
      "  warn('%s is a boolean image: setting True to 1 and False to 0' % fname)\n"
     ]
    },
    {
     "name": "stdout",
     "output_type": "stream",
     "text": [
      "Processing image ../../datasets/cityscapes-dataset/leftImg8bit_trainvaltest/leftImg8bit/train/strasbourg/strasbourg_000000_004383_leftImg8bit.png\n"
     ]
    },
    {
     "name": "stderr",
     "output_type": "stream",
     "text": [
      "/usr/local/lib/python3.7/site-packages/skimage/io/_io.py:142: UserWarning: ../../datasets/aurora/instagan/train/sampleA_seg/206_0.png is a boolean image: setting True to 1 and False to 0\n",
      "  warn('%s is a boolean image: setting True to 1 and False to 0' % fname)\n",
      "/usr/local/lib/python3.7/site-packages/skimage/io/_io.py:142: UserWarning: ../../datasets/aurora/instagan/train/sampleA_seg/206_1.png is a boolean image: setting True to 1 and False to 0\n",
      "  warn('%s is a boolean image: setting True to 1 and False to 0' % fname)\n"
     ]
    },
    {
     "name": "stdout",
     "output_type": "stream",
     "text": [
      "Processing image ../../datasets/cityscapes-dataset/leftImg8bit_trainvaltest/leftImg8bit/train/strasbourg/strasbourg_000000_019617_leftImg8bit.png\n"
     ]
    },
    {
     "name": "stderr",
     "output_type": "stream",
     "text": [
      "/usr/local/lib/python3.7/site-packages/skimage/io/_io.py:142: UserWarning: ../../datasets/aurora/instagan/train/sampleA_seg/207_0.png is a boolean image: setting True to 1 and False to 0\n",
      "  warn('%s is a boolean image: setting True to 1 and False to 0' % fname)\n",
      "/usr/local/lib/python3.7/site-packages/skimage/io/_io.py:142: UserWarning: ../../datasets/aurora/instagan/train/sampleA_seg/207_1.png is a boolean image: setting True to 1 and False to 0\n",
      "  warn('%s is a boolean image: setting True to 1 and False to 0' % fname)\n",
      "/usr/local/lib/python3.7/site-packages/skimage/io/_io.py:142: UserWarning: ../../datasets/aurora/instagan/train/sampleA_seg/207_2.png is a boolean image: setting True to 1 and False to 0\n",
      "  warn('%s is a boolean image: setting True to 1 and False to 0' % fname)\n"
     ]
    },
    {
     "name": "stdout",
     "output_type": "stream",
     "text": [
      "Processing image ../../datasets/cityscapes-dataset/leftImg8bit_trainvaltest/leftImg8bit/train/strasbourg/strasbourg_000001_014033_leftImg8bit.png\n",
      "Processing image ../../datasets/cityscapes-dataset/leftImg8bit_trainvaltest/leftImg8bit/train/strasbourg/strasbourg_000001_064224_leftImg8bit.png\n"
     ]
    },
    {
     "name": "stderr",
     "output_type": "stream",
     "text": [
      "/usr/local/lib/python3.7/site-packages/skimage/io/_io.py:142: UserWarning: ../../datasets/aurora/instagan/train/sampleA_seg/209_0.png is a boolean image: setting True to 1 and False to 0\n",
      "  warn('%s is a boolean image: setting True to 1 and False to 0' % fname)\n"
     ]
    },
    {
     "name": "stdout",
     "output_type": "stream",
     "text": [
      "Processing image ../../datasets/cityscapes-dataset/leftImg8bit_trainvaltest/leftImg8bit/train/strasbourg/strasbourg_000000_007813_leftImg8bit.png\n"
     ]
    },
    {
     "name": "stderr",
     "output_type": "stream",
     "text": [
      "/usr/local/lib/python3.7/site-packages/skimage/io/_io.py:142: UserWarning: ../../datasets/aurora/instagan/train/sampleA_seg/210_0.png is a boolean image: setting True to 1 and False to 0\n",
      "  warn('%s is a boolean image: setting True to 1 and False to 0' % fname)\n",
      "/usr/local/lib/python3.7/site-packages/skimage/io/_io.py:142: UserWarning: ../../datasets/aurora/instagan/train/sampleA_seg/210_1.png is a boolean image: setting True to 1 and False to 0\n",
      "  warn('%s is a boolean image: setting True to 1 and False to 0' % fname)\n"
     ]
    },
    {
     "name": "stdout",
     "output_type": "stream",
     "text": [
      "Processing image ../../datasets/cityscapes-dataset/leftImg8bit_trainvaltest/leftImg8bit/train/strasbourg/strasbourg_000001_052979_leftImg8bit.png\n"
     ]
    },
    {
     "name": "stderr",
     "output_type": "stream",
     "text": [
      "/usr/local/lib/python3.7/site-packages/skimage/io/_io.py:142: UserWarning: ../../datasets/aurora/instagan/train/sampleA_seg/211_0.png is a boolean image: setting True to 1 and False to 0\n",
      "  warn('%s is a boolean image: setting True to 1 and False to 0' % fname)\n",
      "/usr/local/lib/python3.7/site-packages/skimage/io/_io.py:142: UserWarning: ../../datasets/aurora/instagan/train/sampleA_seg/211_1.png is a boolean image: setting True to 1 and False to 0\n",
      "  warn('%s is a boolean image: setting True to 1 and False to 0' % fname)\n",
      "/usr/local/lib/python3.7/site-packages/skimage/io/_io.py:142: UserWarning: ../../datasets/aurora/instagan/train/sampleA_seg/211_2.png is a boolean image: setting True to 1 and False to 0\n",
      "  warn('%s is a boolean image: setting True to 1 and False to 0' % fname)\n"
     ]
    },
    {
     "name": "stdout",
     "output_type": "stream",
     "text": [
      "Processing image ../../datasets/cityscapes-dataset/leftImg8bit_trainvaltest/leftImg8bit/train/strasbourg/strasbourg_000001_049977_leftImg8bit.png\n"
     ]
    },
    {
     "name": "stderr",
     "output_type": "stream",
     "text": [
      "/usr/local/lib/python3.7/site-packages/skimage/io/_io.py:142: UserWarning: ../../datasets/aurora/instagan/train/sampleA_seg/212_0.png is a boolean image: setting True to 1 and False to 0\n",
      "  warn('%s is a boolean image: setting True to 1 and False to 0' % fname)\n"
     ]
    },
    {
     "name": "stdout",
     "output_type": "stream",
     "text": [
      "Processing image ../../datasets/cityscapes-dataset/leftImg8bit_trainvaltest/leftImg8bit/train/strasbourg/strasbourg_000001_059914_leftImg8bit.png\n"
     ]
    },
    {
     "name": "stderr",
     "output_type": "stream",
     "text": [
      "/usr/local/lib/python3.7/site-packages/skimage/io/_io.py:142: UserWarning: ../../datasets/aurora/instagan/train/sampleA_seg/213_0.png is a boolean image: setting True to 1 and False to 0\n",
      "  warn('%s is a boolean image: setting True to 1 and False to 0' % fname)\n"
     ]
    },
    {
     "name": "stdout",
     "output_type": "stream",
     "text": [
      "Processing image ../../datasets/cityscapes-dataset/leftImg8bit_trainvaltest/leftImg8bit/train/strasbourg/strasbourg_000001_036697_leftImg8bit.png\n"
     ]
    },
    {
     "name": "stderr",
     "output_type": "stream",
     "text": [
      "/usr/local/lib/python3.7/site-packages/skimage/io/_io.py:142: UserWarning: ../../datasets/aurora/instagan/train/sampleA_seg/214_0.png is a boolean image: setting True to 1 and False to 0\n",
      "  warn('%s is a boolean image: setting True to 1 and False to 0' % fname)\n",
      "/usr/local/lib/python3.7/site-packages/skimage/io/_io.py:140: UserWarning: ../../datasets/aurora/instagan/train/sampleA_seg/214_1.png is a low contrast image\n",
      "  warn('%s is a low contrast image' % fname)\n",
      "/usr/local/lib/python3.7/site-packages/skimage/io/_io.py:142: UserWarning: ../../datasets/aurora/instagan/train/sampleA_seg/214_1.png is a boolean image: setting True to 1 and False to 0\n",
      "  warn('%s is a boolean image: setting True to 1 and False to 0' % fname)\n"
     ]
    },
    {
     "name": "stdout",
     "output_type": "stream",
     "text": [
      "Processing image ../../datasets/cityscapes-dataset/leftImg8bit_trainvaltest/leftImg8bit/train/strasbourg/strasbourg_000001_025426_leftImg8bit.png\n"
     ]
    },
    {
     "name": "stderr",
     "output_type": "stream",
     "text": [
      "/usr/local/lib/python3.7/site-packages/skimage/io/_io.py:142: UserWarning: ../../datasets/aurora/instagan/train/sampleA_seg/215_0.png is a boolean image: setting True to 1 and False to 0\n",
      "  warn('%s is a boolean image: setting True to 1 and False to 0' % fname)\n"
     ]
    },
    {
     "name": "stdout",
     "output_type": "stream",
     "text": [
      "Processing image ../../datasets/cityscapes-dataset/leftImg8bit_trainvaltest/leftImg8bit/train/strasbourg/strasbourg_000000_017450_leftImg8bit.png\n"
     ]
    },
    {
     "name": "stderr",
     "output_type": "stream",
     "text": [
      "/usr/local/lib/python3.7/site-packages/skimage/io/_io.py:142: UserWarning: ../../datasets/aurora/instagan/train/sampleA_seg/216_0.png is a boolean image: setting True to 1 and False to 0\n",
      "  warn('%s is a boolean image: setting True to 1 and False to 0' % fname)\n"
     ]
    },
    {
     "name": "stdout",
     "output_type": "stream",
     "text": [
      "Processing image ../../datasets/cityscapes-dataset/leftImg8bit_trainvaltest/leftImg8bit/train/strasbourg/strasbourg_000001_016376_leftImg8bit.png\n"
     ]
    },
    {
     "name": "stderr",
     "output_type": "stream",
     "text": [
      "/usr/local/lib/python3.7/site-packages/skimage/io/_io.py:142: UserWarning: ../../datasets/aurora/instagan/train/sampleA_seg/217_0.png is a boolean image: setting True to 1 and False to 0\n",
      "  warn('%s is a boolean image: setting True to 1 and False to 0' % fname)\n"
     ]
    },
    {
     "name": "stdout",
     "output_type": "stream",
     "text": [
      "Processing image ../../datasets/cityscapes-dataset/leftImg8bit_trainvaltest/leftImg8bit/train/strasbourg/strasbourg_000001_011775_leftImg8bit.png\n"
     ]
    },
    {
     "name": "stderr",
     "output_type": "stream",
     "text": [
      "/usr/local/lib/python3.7/site-packages/skimage/io/_io.py:142: UserWarning: ../../datasets/aurora/instagan/train/sampleA_seg/218_0.png is a boolean image: setting True to 1 and False to 0\n",
      "  warn('%s is a boolean image: setting True to 1 and False to 0' % fname)\n",
      "/usr/local/lib/python3.7/site-packages/skimage/io/_io.py:140: UserWarning: ../../datasets/aurora/instagan/train/sampleA_seg/218_1.png is a low contrast image\n",
      "  warn('%s is a low contrast image' % fname)\n",
      "/usr/local/lib/python3.7/site-packages/skimage/io/_io.py:142: UserWarning: ../../datasets/aurora/instagan/train/sampleA_seg/218_1.png is a boolean image: setting True to 1 and False to 0\n",
      "  warn('%s is a boolean image: setting True to 1 and False to 0' % fname)\n",
      "/usr/local/lib/python3.7/site-packages/skimage/io/_io.py:142: UserWarning: ../../datasets/aurora/instagan/train/sampleA_seg/218_2.png is a boolean image: setting True to 1 and False to 0\n",
      "  warn('%s is a boolean image: setting True to 1 and False to 0' % fname)\n"
     ]
    },
    {
     "name": "stdout",
     "output_type": "stream",
     "text": [
      "Processing image ../../datasets/cityscapes-dataset/leftImg8bit_trainvaltest/leftImg8bit/train/strasbourg/strasbourg_000001_022363_leftImg8bit.png\n"
     ]
    },
    {
     "name": "stderr",
     "output_type": "stream",
     "text": [
      "/usr/local/lib/python3.7/site-packages/skimage/io/_io.py:140: UserWarning: ../../datasets/aurora/instagan/train/sampleA_seg/219_0.png is a low contrast image\n",
      "  warn('%s is a low contrast image' % fname)\n",
      "/usr/local/lib/python3.7/site-packages/skimage/io/_io.py:142: UserWarning: ../../datasets/aurora/instagan/train/sampleA_seg/219_0.png is a boolean image: setting True to 1 and False to 0\n",
      "  warn('%s is a boolean image: setting True to 1 and False to 0' % fname)\n"
     ]
    },
    {
     "name": "stdout",
     "output_type": "stream",
     "text": [
      "Processing image ../../datasets/cityscapes-dataset/leftImg8bit_trainvaltest/leftImg8bit/train/strasbourg/strasbourg_000000_015131_leftImg8bit.png\n"
     ]
    },
    {
     "name": "stderr",
     "output_type": "stream",
     "text": [
      "/usr/local/lib/python3.7/site-packages/skimage/io/_io.py:142: UserWarning: ../../datasets/aurora/instagan/train/sampleA_seg/220_0.png is a boolean image: setting True to 1 and False to 0\n",
      "  warn('%s is a boolean image: setting True to 1 and False to 0' % fname)\n"
     ]
    },
    {
     "name": "stdout",
     "output_type": "stream",
     "text": [
      "Processing image ../../datasets/cityscapes-dataset/leftImg8bit_trainvaltest/leftImg8bit/train/strasbourg/strasbourg_000001_016681_leftImg8bit.png\n"
     ]
    },
    {
     "name": "stderr",
     "output_type": "stream",
     "text": [
      "/usr/local/lib/python3.7/site-packages/skimage/io/_io.py:142: UserWarning: ../../datasets/aurora/instagan/train/sampleA_seg/221_0.png is a boolean image: setting True to 1 and False to 0\n",
      "  warn('%s is a boolean image: setting True to 1 and False to 0' % fname)\n",
      "/usr/local/lib/python3.7/site-packages/skimage/io/_io.py:142: UserWarning: ../../datasets/aurora/instagan/train/sampleA_seg/221_1.png is a boolean image: setting True to 1 and False to 0\n",
      "  warn('%s is a boolean image: setting True to 1 and False to 0' % fname)\n"
     ]
    },
    {
     "name": "stdout",
     "output_type": "stream",
     "text": [
      "Processing image ../../datasets/cityscapes-dataset/leftImg8bit_trainvaltest/leftImg8bit/train/strasbourg/strasbourg_000001_051134_leftImg8bit.png\n"
     ]
    },
    {
     "name": "stderr",
     "output_type": "stream",
     "text": [
      "/usr/local/lib/python3.7/site-packages/skimage/io/_io.py:142: UserWarning: ../../datasets/aurora/instagan/train/sampleA_seg/222_0.png is a boolean image: setting True to 1 and False to 0\n",
      "  warn('%s is a boolean image: setting True to 1 and False to 0' % fname)\n"
     ]
    },
    {
     "name": "stdout",
     "output_type": "stream",
     "text": [
      "Processing image ../../datasets/cityscapes-dataset/leftImg8bit_trainvaltest/leftImg8bit/train/strasbourg/strasbourg_000001_035276_leftImg8bit.png\n"
     ]
    },
    {
     "name": "stderr",
     "output_type": "stream",
     "text": [
      "/usr/local/lib/python3.7/site-packages/skimage/io/_io.py:142: UserWarning: ../../datasets/aurora/instagan/train/sampleA_seg/223_0.png is a boolean image: setting True to 1 and False to 0\n",
      "  warn('%s is a boolean image: setting True to 1 and False to 0' % fname)\n",
      "/usr/local/lib/python3.7/site-packages/skimage/io/_io.py:142: UserWarning: ../../datasets/aurora/instagan/train/sampleA_seg/223_1.png is a boolean image: setting True to 1 and False to 0\n",
      "  warn('%s is a boolean image: setting True to 1 and False to 0' % fname)\n"
     ]
    },
    {
     "name": "stdout",
     "output_type": "stream",
     "text": [
      "Processing image ../../datasets/cityscapes-dataset/leftImg8bit_trainvaltest/leftImg8bit/train/strasbourg/strasbourg_000001_001449_leftImg8bit.png\n"
     ]
    },
    {
     "name": "stderr",
     "output_type": "stream",
     "text": [
      "/usr/local/lib/python3.7/site-packages/skimage/io/_io.py:142: UserWarning: ../../datasets/aurora/instagan/train/sampleA_seg/224_0.png is a boolean image: setting True to 1 and False to 0\n",
      "  warn('%s is a boolean image: setting True to 1 and False to 0' % fname)\n"
     ]
    },
    {
     "name": "stdout",
     "output_type": "stream",
     "text": [
      "Processing image ../../datasets/cityscapes-dataset/leftImg8bit_trainvaltest/leftImg8bit/train/strasbourg/strasbourg_000001_030120_leftImg8bit.png\n"
     ]
    },
    {
     "name": "stderr",
     "output_type": "stream",
     "text": [
      "/usr/local/lib/python3.7/site-packages/skimage/io/_io.py:142: UserWarning: ../../datasets/aurora/instagan/train/sampleA_seg/225_0.png is a boolean image: setting True to 1 and False to 0\n",
      "  warn('%s is a boolean image: setting True to 1 and False to 0' % fname)\n",
      "/usr/local/lib/python3.7/site-packages/skimage/io/_io.py:142: UserWarning: ../../datasets/aurora/instagan/train/sampleA_seg/225_1.png is a boolean image: setting True to 1 and False to 0\n",
      "  warn('%s is a boolean image: setting True to 1 and False to 0' % fname)\n",
      "/usr/local/lib/python3.7/site-packages/skimage/io/_io.py:142: UserWarning: ../../datasets/aurora/instagan/train/sampleA_seg/225_2.png is a boolean image: setting True to 1 and False to 0\n",
      "  warn('%s is a boolean image: setting True to 1 and False to 0' % fname)\n"
     ]
    },
    {
     "name": "stdout",
     "output_type": "stream",
     "text": [
      "Processing image ../../datasets/cityscapes-dataset/leftImg8bit_trainvaltest/leftImg8bit/train/strasbourg/strasbourg_000000_025089_leftImg8bit.png\n"
     ]
    },
    {
     "name": "stderr",
     "output_type": "stream",
     "text": [
      "/usr/local/lib/python3.7/site-packages/skimage/io/_io.py:142: UserWarning: ../../datasets/aurora/instagan/train/sampleA_seg/226_0.png is a boolean image: setting True to 1 and False to 0\n",
      "  warn('%s is a boolean image: setting True to 1 and False to 0' % fname)\n",
      "/usr/local/lib/python3.7/site-packages/skimage/io/_io.py:142: UserWarning: ../../datasets/aurora/instagan/train/sampleA_seg/226_1.png is a boolean image: setting True to 1 and False to 0\n",
      "  warn('%s is a boolean image: setting True to 1 and False to 0' % fname)\n"
     ]
    },
    {
     "name": "stdout",
     "output_type": "stream",
     "text": [
      "Processing image ../../datasets/cityscapes-dataset/leftImg8bit_trainvaltest/leftImg8bit/train/strasbourg/strasbourg_000001_007148_leftImg8bit.png\n"
     ]
    },
    {
     "name": "stderr",
     "output_type": "stream",
     "text": [
      "/usr/local/lib/python3.7/site-packages/skimage/io/_io.py:142: UserWarning: ../../datasets/aurora/instagan/train/sampleA_seg/227_0.png is a boolean image: setting True to 1 and False to 0\n",
      "  warn('%s is a boolean image: setting True to 1 and False to 0' % fname)\n"
     ]
    },
    {
     "name": "stdout",
     "output_type": "stream",
     "text": [
      "Processing image ../../datasets/cityscapes-dataset/leftImg8bit_trainvaltest/leftImg8bit/train/strasbourg/strasbourg_000001_061285_leftImg8bit.png\n"
     ]
    },
    {
     "name": "stderr",
     "output_type": "stream",
     "text": [
      "/usr/local/lib/python3.7/site-packages/skimage/io/_io.py:142: UserWarning: ../../datasets/aurora/instagan/train/sampleA_seg/228_0.png is a boolean image: setting True to 1 and False to 0\n",
      "  warn('%s is a boolean image: setting True to 1 and False to 0' % fname)\n"
     ]
    },
    {
     "name": "stdout",
     "output_type": "stream",
     "text": [
      "Processing image ../../datasets/cityscapes-dataset/leftImg8bit_trainvaltest/leftImg8bit/train/strasbourg/strasbourg_000001_039374_leftImg8bit.png\n"
     ]
    },
    {
     "name": "stderr",
     "output_type": "stream",
     "text": [
      "/usr/local/lib/python3.7/site-packages/skimage/io/_io.py:142: UserWarning: ../../datasets/aurora/instagan/train/sampleA_seg/229_0.png is a boolean image: setting True to 1 and False to 0\n",
      "  warn('%s is a boolean image: setting True to 1 and False to 0' % fname)\n"
     ]
    },
    {
     "name": "stdout",
     "output_type": "stream",
     "text": [
      "Processing image ../../datasets/cityscapes-dataset/leftImg8bit_trainvaltest/leftImg8bit/train/strasbourg/strasbourg_000001_007657_leftImg8bit.png\n"
     ]
    },
    {
     "name": "stderr",
     "output_type": "stream",
     "text": [
      "/usr/local/lib/python3.7/site-packages/skimage/io/_io.py:142: UserWarning: ../../datasets/aurora/instagan/train/sampleA_seg/230_0.png is a boolean image: setting True to 1 and False to 0\n",
      "  warn('%s is a boolean image: setting True to 1 and False to 0' % fname)\n",
      "/usr/local/lib/python3.7/site-packages/skimage/io/_io.py:142: UserWarning: ../../datasets/aurora/instagan/train/sampleA_seg/230_1.png is a boolean image: setting True to 1 and False to 0\n",
      "  warn('%s is a boolean image: setting True to 1 and False to 0' % fname)\n"
     ]
    },
    {
     "name": "stdout",
     "output_type": "stream",
     "text": [
      "Processing image ../../datasets/cityscapes-dataset/leftImg8bit_trainvaltest/leftImg8bit/train/strasbourg/strasbourg_000000_009619_leftImg8bit.png\n"
     ]
    },
    {
     "name": "stderr",
     "output_type": "stream",
     "text": [
      "/usr/local/lib/python3.7/site-packages/skimage/io/_io.py:142: UserWarning: ../../datasets/aurora/instagan/train/sampleA_seg/231_0.png is a boolean image: setting True to 1 and False to 0\n",
      "  warn('%s is a boolean image: setting True to 1 and False to 0' % fname)\n",
      "/usr/local/lib/python3.7/site-packages/skimage/io/_io.py:142: UserWarning: ../../datasets/aurora/instagan/train/sampleA_seg/231_1.png is a boolean image: setting True to 1 and False to 0\n",
      "  warn('%s is a boolean image: setting True to 1 and False to 0' % fname)\n",
      "/usr/local/lib/python3.7/site-packages/skimage/io/_io.py:142: UserWarning: ../../datasets/aurora/instagan/train/sampleA_seg/231_2.png is a boolean image: setting True to 1 and False to 0\n",
      "  warn('%s is a boolean image: setting True to 1 and False to 0' % fname)\n",
      "/usr/local/lib/python3.7/site-packages/skimage/io/_io.py:142: UserWarning: ../../datasets/aurora/instagan/train/sampleA_seg/231_3.png is a boolean image: setting True to 1 and False to 0\n",
      "  warn('%s is a boolean image: setting True to 1 and False to 0' % fname)\n"
     ]
    },
    {
     "name": "stdout",
     "output_type": "stream",
     "text": [
      "Processing image ../../datasets/cityscapes-dataset/leftImg8bit_trainvaltest/leftImg8bit/train/strasbourg/strasbourg_000000_033129_leftImg8bit.png\n"
     ]
    },
    {
     "name": "stderr",
     "output_type": "stream",
     "text": [
      "/usr/local/lib/python3.7/site-packages/skimage/io/_io.py:142: UserWarning: ../../datasets/aurora/instagan/train/sampleA_seg/232_0.png is a boolean image: setting True to 1 and False to 0\n",
      "  warn('%s is a boolean image: setting True to 1 and False to 0' % fname)\n",
      "/usr/local/lib/python3.7/site-packages/skimage/io/_io.py:140: UserWarning: ../../datasets/aurora/instagan/train/sampleA_seg/232_1.png is a low contrast image\n",
      "  warn('%s is a low contrast image' % fname)\n",
      "/usr/local/lib/python3.7/site-packages/skimage/io/_io.py:142: UserWarning: ../../datasets/aurora/instagan/train/sampleA_seg/232_1.png is a boolean image: setting True to 1 and False to 0\n",
      "  warn('%s is a boolean image: setting True to 1 and False to 0' % fname)\n"
     ]
    },
    {
     "name": "stdout",
     "output_type": "stream",
     "text": [
      "Processing image ../../datasets/cityscapes-dataset/leftImg8bit_trainvaltest/leftImg8bit/train/strasbourg/strasbourg_000000_028822_leftImg8bit.png\n"
     ]
    },
    {
     "name": "stderr",
     "output_type": "stream",
     "text": [
      "/usr/local/lib/python3.7/site-packages/skimage/io/_io.py:142: UserWarning: ../../datasets/aurora/instagan/train/sampleA_seg/233_0.png is a boolean image: setting True to 1 and False to 0\n",
      "  warn('%s is a boolean image: setting True to 1 and False to 0' % fname)\n"
     ]
    },
    {
     "name": "stdout",
     "output_type": "stream",
     "text": [
      "Processing image ../../datasets/cityscapes-dataset/leftImg8bit_trainvaltest/leftImg8bit/train/strasbourg/strasbourg_000001_051574_leftImg8bit.png\n"
     ]
    },
    {
     "name": "stderr",
     "output_type": "stream",
     "text": [
      "/usr/local/lib/python3.7/site-packages/skimage/io/_io.py:142: UserWarning: ../../datasets/aurora/instagan/train/sampleA_seg/234_0.png is a boolean image: setting True to 1 and False to 0\n",
      "  warn('%s is a boolean image: setting True to 1 and False to 0' % fname)\n"
     ]
    },
    {
     "name": "stdout",
     "output_type": "stream",
     "text": [
      "Processing image ../../datasets/cityscapes-dataset/leftImg8bit_trainvaltest/leftImg8bit/train/strasbourg/strasbourg_000000_019050_leftImg8bit.png\n"
     ]
    },
    {
     "name": "stderr",
     "output_type": "stream",
     "text": [
      "/usr/local/lib/python3.7/site-packages/skimage/io/_io.py:142: UserWarning: ../../datasets/aurora/instagan/train/sampleA_seg/235_0.png is a boolean image: setting True to 1 and False to 0\n",
      "  warn('%s is a boolean image: setting True to 1 and False to 0' % fname)\n",
      "/usr/local/lib/python3.7/site-packages/skimage/io/_io.py:142: UserWarning: ../../datasets/aurora/instagan/train/sampleA_seg/235_1.png is a boolean image: setting True to 1 and False to 0\n",
      "  warn('%s is a boolean image: setting True to 1 and False to 0' % fname)\n"
     ]
    },
    {
     "name": "stdout",
     "output_type": "stream",
     "text": [
      "Processing image ../../datasets/cityscapes-dataset/leftImg8bit_trainvaltest/leftImg8bit/train/strasbourg/strasbourg_000001_035689_leftImg8bit.png\n"
     ]
    },
    {
     "name": "stderr",
     "output_type": "stream",
     "text": [
      "/usr/local/lib/python3.7/site-packages/skimage/io/_io.py:142: UserWarning: ../../datasets/aurora/instagan/train/sampleA_seg/236_0.png is a boolean image: setting True to 1 and False to 0\n",
      "  warn('%s is a boolean image: setting True to 1 and False to 0' % fname)\n",
      "/usr/local/lib/python3.7/site-packages/skimage/io/_io.py:142: UserWarning: ../../datasets/aurora/instagan/train/sampleA_seg/236_1.png is a boolean image: setting True to 1 and False to 0\n",
      "  warn('%s is a boolean image: setting True to 1 and False to 0' % fname)\n"
     ]
    },
    {
     "name": "stdout",
     "output_type": "stream",
     "text": [
      "Processing image ../../datasets/cityscapes-dataset/leftImg8bit_trainvaltest/leftImg8bit/train/strasbourg/strasbourg_000001_053579_leftImg8bit.png\n"
     ]
    },
    {
     "name": "stderr",
     "output_type": "stream",
     "text": [
      "/usr/local/lib/python3.7/site-packages/skimage/io/_io.py:142: UserWarning: ../../datasets/aurora/instagan/train/sampleA_seg/237_0.png is a boolean image: setting True to 1 and False to 0\n",
      "  warn('%s is a boolean image: setting True to 1 and False to 0' % fname)\n",
      "/usr/local/lib/python3.7/site-packages/skimage/io/_io.py:142: UserWarning: ../../datasets/aurora/instagan/train/sampleA_seg/237_1.png is a boolean image: setting True to 1 and False to 0\n",
      "  warn('%s is a boolean image: setting True to 1 and False to 0' % fname)\n",
      "/usr/local/lib/python3.7/site-packages/skimage/io/_io.py:142: UserWarning: ../../datasets/aurora/instagan/train/sampleA_seg/237_2.png is a boolean image: setting True to 1 and False to 0\n",
      "  warn('%s is a boolean image: setting True to 1 and False to 0' % fname)\n",
      "/usr/local/lib/python3.7/site-packages/skimage/io/_io.py:140: UserWarning: ../../datasets/aurora/instagan/train/sampleA_seg/237_3.png is a low contrast image\n",
      "  warn('%s is a low contrast image' % fname)\n",
      "/usr/local/lib/python3.7/site-packages/skimage/io/_io.py:142: UserWarning: ../../datasets/aurora/instagan/train/sampleA_seg/237_3.png is a boolean image: setting True to 1 and False to 0\n",
      "  warn('%s is a boolean image: setting True to 1 and False to 0' % fname)\n"
     ]
    },
    {
     "name": "stdout",
     "output_type": "stream",
     "text": [
      "Processing image ../../datasets/cityscapes-dataset/leftImg8bit_trainvaltest/leftImg8bit/train/strasbourg/strasbourg_000001_033925_leftImg8bit.png\n"
     ]
    },
    {
     "name": "stderr",
     "output_type": "stream",
     "text": [
      "/usr/local/lib/python3.7/site-packages/skimage/io/_io.py:142: UserWarning: ../../datasets/aurora/instagan/train/sampleA_seg/238_0.png is a boolean image: setting True to 1 and False to 0\n",
      "  warn('%s is a boolean image: setting True to 1 and False to 0' % fname)\n"
     ]
    },
    {
     "name": "stdout",
     "output_type": "stream",
     "text": [
      "Processing image ../../datasets/cityscapes-dataset/leftImg8bit_trainvaltest/leftImg8bit/train/strasbourg/strasbourg_000001_048121_leftImg8bit.png\n"
     ]
    },
    {
     "name": "stderr",
     "output_type": "stream",
     "text": [
      "/usr/local/lib/python3.7/site-packages/skimage/io/_io.py:142: UserWarning: ../../datasets/aurora/instagan/train/sampleA_seg/239_0.png is a boolean image: setting True to 1 and False to 0\n",
      "  warn('%s is a boolean image: setting True to 1 and False to 0' % fname)\n"
     ]
    },
    {
     "name": "stdout",
     "output_type": "stream",
     "text": [
      "Processing image ../../datasets/cityscapes-dataset/leftImg8bit_trainvaltest/leftImg8bit/train/strasbourg/strasbourg_000000_016436_leftImg8bit.png\n"
     ]
    },
    {
     "name": "stderr",
     "output_type": "stream",
     "text": [
      "/usr/local/lib/python3.7/site-packages/skimage/io/_io.py:142: UserWarning: ../../datasets/aurora/instagan/train/sampleA_seg/240_0.png is a boolean image: setting True to 1 and False to 0\n",
      "  warn('%s is a boolean image: setting True to 1 and False to 0' % fname)\n"
     ]
    },
    {
     "name": "stdout",
     "output_type": "stream",
     "text": [
      "Processing image ../../datasets/cityscapes-dataset/leftImg8bit_trainvaltest/leftImg8bit/train/strasbourg/strasbourg_000000_005995_leftImg8bit.png\n"
     ]
    },
    {
     "name": "stderr",
     "output_type": "stream",
     "text": [
      "/usr/local/lib/python3.7/site-packages/skimage/io/_io.py:142: UserWarning: ../../datasets/aurora/instagan/train/sampleA_seg/241_0.png is a boolean image: setting True to 1 and False to 0\n",
      "  warn('%s is a boolean image: setting True to 1 and False to 0' % fname)\n",
      "/usr/local/lib/python3.7/site-packages/skimage/io/_io.py:142: UserWarning: ../../datasets/aurora/instagan/train/sampleA_seg/241_1.png is a boolean image: setting True to 1 and False to 0\n",
      "  warn('%s is a boolean image: setting True to 1 and False to 0' % fname)\n",
      "/usr/local/lib/python3.7/site-packages/skimage/io/_io.py:142: UserWarning: ../../datasets/aurora/instagan/train/sampleA_seg/241_2.png is a boolean image: setting True to 1 and False to 0\n",
      "  warn('%s is a boolean image: setting True to 1 and False to 0' % fname)\n",
      "/usr/local/lib/python3.7/site-packages/skimage/io/_io.py:142: UserWarning: ../../datasets/aurora/instagan/train/sampleA_seg/241_3.png is a boolean image: setting True to 1 and False to 0\n",
      "  warn('%s is a boolean image: setting True to 1 and False to 0' % fname)\n"
     ]
    },
    {
     "name": "stdout",
     "output_type": "stream",
     "text": [
      "Processing image ../../datasets/cityscapes-dataset/leftImg8bit_trainvaltest/leftImg8bit/train/strasbourg/strasbourg_000001_009333_leftImg8bit.png\n"
     ]
    },
    {
     "name": "stderr",
     "output_type": "stream",
     "text": [
      "/usr/local/lib/python3.7/site-packages/skimage/io/_io.py:142: UserWarning: ../../datasets/aurora/instagan/train/sampleA_seg/242_0.png is a boolean image: setting True to 1 and False to 0\n",
      "  warn('%s is a boolean image: setting True to 1 and False to 0' % fname)\n",
      "/usr/local/lib/python3.7/site-packages/skimage/io/_io.py:142: UserWarning: ../../datasets/aurora/instagan/train/sampleA_seg/242_1.png is a boolean image: setting True to 1 and False to 0\n",
      "  warn('%s is a boolean image: setting True to 1 and False to 0' % fname)\n",
      "/usr/local/lib/python3.7/site-packages/skimage/io/_io.py:140: UserWarning: ../../datasets/aurora/instagan/train/sampleA_seg/242_2.png is a low contrast image\n",
      "  warn('%s is a low contrast image' % fname)\n",
      "/usr/local/lib/python3.7/site-packages/skimage/io/_io.py:142: UserWarning: ../../datasets/aurora/instagan/train/sampleA_seg/242_2.png is a boolean image: setting True to 1 and False to 0\n",
      "  warn('%s is a boolean image: setting True to 1 and False to 0' % fname)\n",
      "/usr/local/lib/python3.7/site-packages/skimage/io/_io.py:140: UserWarning: ../../datasets/aurora/instagan/train/sampleA_seg/242_3.png is a low contrast image\n",
      "  warn('%s is a low contrast image' % fname)\n",
      "/usr/local/lib/python3.7/site-packages/skimage/io/_io.py:142: UserWarning: ../../datasets/aurora/instagan/train/sampleA_seg/242_3.png is a boolean image: setting True to 1 and False to 0\n",
      "  warn('%s is a boolean image: setting True to 1 and False to 0' % fname)\n",
      "/usr/local/lib/python3.7/site-packages/skimage/io/_io.py:142: UserWarning: ../../datasets/aurora/instagan/train/sampleA_seg/242_4.png is a boolean image: setting True to 1 and False to 0\n",
      "  warn('%s is a boolean image: setting True to 1 and False to 0' % fname)\n"
     ]
    },
    {
     "name": "stdout",
     "output_type": "stream",
     "text": [
      "Processing image ../../datasets/cityscapes-dataset/leftImg8bit_trainvaltest/leftImg8bit/train/strasbourg/strasbourg_000001_030269_leftImg8bit.png\n"
     ]
    },
    {
     "name": "stderr",
     "output_type": "stream",
     "text": [
      "/usr/local/lib/python3.7/site-packages/skimage/io/_io.py:142: UserWarning: ../../datasets/aurora/instagan/train/sampleA_seg/243_0.png is a boolean image: setting True to 1 and False to 0\n",
      "  warn('%s is a boolean image: setting True to 1 and False to 0' % fname)\n",
      "/usr/local/lib/python3.7/site-packages/skimage/io/_io.py:142: UserWarning: ../../datasets/aurora/instagan/train/sampleA_seg/243_1.png is a boolean image: setting True to 1 and False to 0\n",
      "  warn('%s is a boolean image: setting True to 1 and False to 0' % fname)\n",
      "/usr/local/lib/python3.7/site-packages/skimage/io/_io.py:142: UserWarning: ../../datasets/aurora/instagan/train/sampleA_seg/243_2.png is a boolean image: setting True to 1 and False to 0\n",
      "  warn('%s is a boolean image: setting True to 1 and False to 0' % fname)\n"
     ]
    },
    {
     "name": "stdout",
     "output_type": "stream",
     "text": [
      "Processing image ../../datasets/cityscapes-dataset/leftImg8bit_trainvaltest/leftImg8bit/train/strasbourg/strasbourg_000001_058105_leftImg8bit.png\n"
     ]
    },
    {
     "name": "stderr",
     "output_type": "stream",
     "text": [
      "/usr/local/lib/python3.7/site-packages/skimage/io/_io.py:142: UserWarning: ../../datasets/aurora/instagan/train/sampleA_seg/244_0.png is a boolean image: setting True to 1 and False to 0\n",
      "  warn('%s is a boolean image: setting True to 1 and False to 0' % fname)\n"
     ]
    },
    {
     "name": "stdout",
     "output_type": "stream",
     "text": [
      "Processing image ../../datasets/cityscapes-dataset/leftImg8bit_trainvaltest/leftImg8bit/train/strasbourg/strasbourg_000001_014258_leftImg8bit.png\n"
     ]
    },
    {
     "name": "stderr",
     "output_type": "stream",
     "text": [
      "/usr/local/lib/python3.7/site-packages/skimage/io/_io.py:142: UserWarning: ../../datasets/aurora/instagan/train/sampleA_seg/245_0.png is a boolean image: setting True to 1 and False to 0\n",
      "  warn('%s is a boolean image: setting True to 1 and False to 0' % fname)\n"
     ]
    },
    {
     "name": "stdout",
     "output_type": "stream",
     "text": [
      "Processing image ../../datasets/cityscapes-dataset/leftImg8bit_trainvaltest/leftImg8bit/train/strasbourg/strasbourg_000001_042558_leftImg8bit.png\n"
     ]
    },
    {
     "name": "stderr",
     "output_type": "stream",
     "text": [
      "/usr/local/lib/python3.7/site-packages/skimage/io/_io.py:142: UserWarning: ../../datasets/aurora/instagan/train/sampleA_seg/246_0.png is a boolean image: setting True to 1 and False to 0\n",
      "  warn('%s is a boolean image: setting True to 1 and False to 0' % fname)\n"
     ]
    },
    {
     "name": "stdout",
     "output_type": "stream",
     "text": [
      "Processing image ../../datasets/cityscapes-dataset/leftImg8bit_trainvaltest/leftImg8bit/train/strasbourg/strasbourg_000001_009618_leftImg8bit.png\n"
     ]
    },
    {
     "name": "stderr",
     "output_type": "stream",
     "text": [
      "/usr/local/lib/python3.7/site-packages/skimage/io/_io.py:142: UserWarning: ../../datasets/aurora/instagan/train/sampleA_seg/247_0.png is a boolean image: setting True to 1 and False to 0\n",
      "  warn('%s is a boolean image: setting True to 1 and False to 0' % fname)\n",
      "/usr/local/lib/python3.7/site-packages/skimage/io/_io.py:140: UserWarning: ../../datasets/aurora/instagan/train/sampleA_seg/247_1.png is a low contrast image\n",
      "  warn('%s is a low contrast image' % fname)\n",
      "/usr/local/lib/python3.7/site-packages/skimage/io/_io.py:142: UserWarning: ../../datasets/aurora/instagan/train/sampleA_seg/247_1.png is a boolean image: setting True to 1 and False to 0\n",
      "  warn('%s is a boolean image: setting True to 1 and False to 0' % fname)\n",
      "/usr/local/lib/python3.7/site-packages/skimage/io/_io.py:140: UserWarning: ../../datasets/aurora/instagan/train/sampleA_seg/247_2.png is a low contrast image\n",
      "  warn('%s is a low contrast image' % fname)\n",
      "/usr/local/lib/python3.7/site-packages/skimage/io/_io.py:142: UserWarning: ../../datasets/aurora/instagan/train/sampleA_seg/247_2.png is a boolean image: setting True to 1 and False to 0\n",
      "  warn('%s is a boolean image: setting True to 1 and False to 0' % fname)\n",
      "/usr/local/lib/python3.7/site-packages/skimage/io/_io.py:142: UserWarning: ../../datasets/aurora/instagan/train/sampleA_seg/247_3.png is a boolean image: setting True to 1 and False to 0\n",
      "  warn('%s is a boolean image: setting True to 1 and False to 0' % fname)\n",
      "/usr/local/lib/python3.7/site-packages/skimage/io/_io.py:140: UserWarning: ../../datasets/aurora/instagan/train/sampleA_seg/247_4.png is a low contrast image\n",
      "  warn('%s is a low contrast image' % fname)\n",
      "/usr/local/lib/python3.7/site-packages/skimage/io/_io.py:142: UserWarning: ../../datasets/aurora/instagan/train/sampleA_seg/247_4.png is a boolean image: setting True to 1 and False to 0\n",
      "  warn('%s is a boolean image: setting True to 1 and False to 0' % fname)\n",
      "/usr/local/lib/python3.7/site-packages/skimage/io/_io.py:142: UserWarning: ../../datasets/aurora/instagan/train/sampleA_seg/247_5.png is a boolean image: setting True to 1 and False to 0\n",
      "  warn('%s is a boolean image: setting True to 1 and False to 0' % fname)\n",
      "/usr/local/lib/python3.7/site-packages/skimage/io/_io.py:142: UserWarning: ../../datasets/aurora/instagan/train/sampleA_seg/247_6.png is a boolean image: setting True to 1 and False to 0\n",
      "  warn('%s is a boolean image: setting True to 1 and False to 0' % fname)\n"
     ]
    },
    {
     "name": "stdout",
     "output_type": "stream",
     "text": [
      "Processing image ../../datasets/cityscapes-dataset/leftImg8bit_trainvaltest/leftImg8bit/train/strasbourg/strasbourg_000001_040761_leftImg8bit.png\n"
     ]
    },
    {
     "name": "stderr",
     "output_type": "stream",
     "text": [
      "/usr/local/lib/python3.7/site-packages/skimage/io/_io.py:142: UserWarning: ../../datasets/aurora/instagan/train/sampleA_seg/248_0.png is a boolean image: setting True to 1 and False to 0\n",
      "  warn('%s is a boolean image: setting True to 1 and False to 0' % fname)\n"
     ]
    },
    {
     "name": "stdout",
     "output_type": "stream",
     "text": [
      "Processing image ../../datasets/cityscapes-dataset/leftImg8bit_trainvaltest/leftImg8bit/train/strasbourg/strasbourg_000001_017540_leftImg8bit.png\n"
     ]
    },
    {
     "name": "stderr",
     "output_type": "stream",
     "text": [
      "/usr/local/lib/python3.7/site-packages/skimage/io/_io.py:140: UserWarning: ../../datasets/aurora/instagan/train/sampleA_seg/249_0.png is a low contrast image\n",
      "  warn('%s is a low contrast image' % fname)\n",
      "/usr/local/lib/python3.7/site-packages/skimage/io/_io.py:142: UserWarning: ../../datasets/aurora/instagan/train/sampleA_seg/249_0.png is a boolean image: setting True to 1 and False to 0\n",
      "  warn('%s is a boolean image: setting True to 1 and False to 0' % fname)\n",
      "/usr/local/lib/python3.7/site-packages/skimage/io/_io.py:142: UserWarning: ../../datasets/aurora/instagan/train/sampleA_seg/249_1.png is a boolean image: setting True to 1 and False to 0\n",
      "  warn('%s is a boolean image: setting True to 1 and False to 0' % fname)\n"
     ]
    },
    {
     "name": "stdout",
     "output_type": "stream",
     "text": [
      "Processing image ../../datasets/cityscapes-dataset/leftImg8bit_trainvaltest/leftImg8bit/train/strasbourg/strasbourg_000000_035571_leftImg8bit.png\n"
     ]
    },
    {
     "name": "stderr",
     "output_type": "stream",
     "text": [
      "/usr/local/lib/python3.7/site-packages/skimage/io/_io.py:142: UserWarning: ../../datasets/aurora/instagan/train/sampleA_seg/250_0.png is a boolean image: setting True to 1 and False to 0\n",
      "  warn('%s is a boolean image: setting True to 1 and False to 0' % fname)\n",
      "/usr/local/lib/python3.7/site-packages/skimage/io/_io.py:142: UserWarning: ../../datasets/aurora/instagan/train/sampleA_seg/250_1.png is a boolean image: setting True to 1 and False to 0\n",
      "  warn('%s is a boolean image: setting True to 1 and False to 0' % fname)\n",
      "/usr/local/lib/python3.7/site-packages/skimage/io/_io.py:142: UserWarning: ../../datasets/aurora/instagan/train/sampleA_seg/250_2.png is a boolean image: setting True to 1 and False to 0\n",
      "  warn('%s is a boolean image: setting True to 1 and False to 0' % fname)\n"
     ]
    },
    {
     "name": "stdout",
     "output_type": "stream",
     "text": [
      "Processing image ../../datasets/cityscapes-dataset/leftImg8bit_trainvaltest/leftImg8bit/train/strasbourg/strasbourg_000001_018872_leftImg8bit.png\n"
     ]
    },
    {
     "name": "stderr",
     "output_type": "stream",
     "text": [
      "/usr/local/lib/python3.7/site-packages/skimage/io/_io.py:142: UserWarning: ../../datasets/aurora/instagan/train/sampleA_seg/251_0.png is a boolean image: setting True to 1 and False to 0\n",
      "  warn('%s is a boolean image: setting True to 1 and False to 0' % fname)\n"
     ]
    },
    {
     "name": "stdout",
     "output_type": "stream",
     "text": [
      "Processing image ../../datasets/cityscapes-dataset/leftImg8bit_trainvaltest/leftImg8bit/train/strasbourg/strasbourg_000001_031976_leftImg8bit.png\n"
     ]
    },
    {
     "name": "stderr",
     "output_type": "stream",
     "text": [
      "/usr/local/lib/python3.7/site-packages/skimage/io/_io.py:142: UserWarning: ../../datasets/aurora/instagan/train/sampleA_seg/252_0.png is a boolean image: setting True to 1 and False to 0\n",
      "  warn('%s is a boolean image: setting True to 1 and False to 0' % fname)\n"
     ]
    },
    {
     "name": "stdout",
     "output_type": "stream",
     "text": [
      "Processing image ../../datasets/cityscapes-dataset/leftImg8bit_trainvaltest/leftImg8bit/train/strasbourg/strasbourg_000000_032346_leftImg8bit.png\n"
     ]
    },
    {
     "name": "stderr",
     "output_type": "stream",
     "text": [
      "/usr/local/lib/python3.7/site-packages/skimage/io/_io.py:140: UserWarning: ../../datasets/aurora/instagan/train/sampleA_seg/253_0.png is a low contrast image\n",
      "  warn('%s is a low contrast image' % fname)\n",
      "/usr/local/lib/python3.7/site-packages/skimage/io/_io.py:142: UserWarning: ../../datasets/aurora/instagan/train/sampleA_seg/253_0.png is a boolean image: setting True to 1 and False to 0\n",
      "  warn('%s is a boolean image: setting True to 1 and False to 0' % fname)\n",
      "/usr/local/lib/python3.7/site-packages/skimage/io/_io.py:142: UserWarning: ../../datasets/aurora/instagan/train/sampleA_seg/253_1.png is a boolean image: setting True to 1 and False to 0\n",
      "  warn('%s is a boolean image: setting True to 1 and False to 0' % fname)\n",
      "/usr/local/lib/python3.7/site-packages/skimage/io/_io.py:142: UserWarning: ../../datasets/aurora/instagan/train/sampleA_seg/253_2.png is a boolean image: setting True to 1 and False to 0\n",
      "  warn('%s is a boolean image: setting True to 1 and False to 0' % fname)\n"
     ]
    },
    {
     "name": "stdout",
     "output_type": "stream",
     "text": [
      "Processing image ../../datasets/cityscapes-dataset/leftImg8bit_trainvaltest/leftImg8bit/train/strasbourg/strasbourg_000001_038281_leftImg8bit.png\n"
     ]
    },
    {
     "name": "stderr",
     "output_type": "stream",
     "text": [
      "/usr/local/lib/python3.7/site-packages/skimage/io/_io.py:142: UserWarning: ../../datasets/aurora/instagan/train/sampleA_seg/254_0.png is a boolean image: setting True to 1 and False to 0\n",
      "  warn('%s is a boolean image: setting True to 1 and False to 0' % fname)\n"
     ]
    },
    {
     "name": "stdout",
     "output_type": "stream",
     "text": [
      "Processing image ../../datasets/cityscapes-dataset/leftImg8bit_trainvaltest/leftImg8bit/train/strasbourg/strasbourg_000000_011225_leftImg8bit.png\n"
     ]
    },
    {
     "name": "stderr",
     "output_type": "stream",
     "text": [
      "/usr/local/lib/python3.7/site-packages/skimage/io/_io.py:142: UserWarning: ../../datasets/aurora/instagan/train/sampleA_seg/255_0.png is a boolean image: setting True to 1 and False to 0\n",
      "  warn('%s is a boolean image: setting True to 1 and False to 0' % fname)\n",
      "/usr/local/lib/python3.7/site-packages/skimage/io/_io.py:142: UserWarning: ../../datasets/aurora/instagan/train/sampleA_seg/255_1.png is a boolean image: setting True to 1 and False to 0\n",
      "  warn('%s is a boolean image: setting True to 1 and False to 0' % fname)\n",
      "/usr/local/lib/python3.7/site-packages/skimage/io/_io.py:140: UserWarning: ../../datasets/aurora/instagan/train/sampleA_seg/255_2.png is a low contrast image\n",
      "  warn('%s is a low contrast image' % fname)\n",
      "/usr/local/lib/python3.7/site-packages/skimage/io/_io.py:142: UserWarning: ../../datasets/aurora/instagan/train/sampleA_seg/255_2.png is a boolean image: setting True to 1 and False to 0\n",
      "  warn('%s is a boolean image: setting True to 1 and False to 0' % fname)\n",
      "/usr/local/lib/python3.7/site-packages/skimage/io/_io.py:140: UserWarning: ../../datasets/aurora/instagan/train/sampleA_seg/255_3.png is a low contrast image\n",
      "  warn('%s is a low contrast image' % fname)\n",
      "/usr/local/lib/python3.7/site-packages/skimage/io/_io.py:142: UserWarning: ../../datasets/aurora/instagan/train/sampleA_seg/255_3.png is a boolean image: setting True to 1 and False to 0\n",
      "  warn('%s is a boolean image: setting True to 1 and False to 0' % fname)\n"
     ]
    },
    {
     "name": "stdout",
     "output_type": "stream",
     "text": [
      "Processing image ../../datasets/cityscapes-dataset/leftImg8bit_trainvaltest/leftImg8bit/train/strasbourg/strasbourg_000000_014235_leftImg8bit.png\n"
     ]
    },
    {
     "name": "stderr",
     "output_type": "stream",
     "text": [
      "/usr/local/lib/python3.7/site-packages/skimage/io/_io.py:142: UserWarning: ../../datasets/aurora/instagan/train/sampleA_seg/256_0.png is a boolean image: setting True to 1 and False to 0\n",
      "  warn('%s is a boolean image: setting True to 1 and False to 0' % fname)\n"
     ]
    },
    {
     "name": "stdout",
     "output_type": "stream",
     "text": [
      "Processing image ../../datasets/cityscapes-dataset/leftImg8bit_trainvaltest/leftImg8bit/train/strasbourg/strasbourg_000000_009110_leftImg8bit.png\n"
     ]
    },
    {
     "name": "stderr",
     "output_type": "stream",
     "text": [
      "/usr/local/lib/python3.7/site-packages/skimage/io/_io.py:142: UserWarning: ../../datasets/aurora/instagan/train/sampleA_seg/257_0.png is a boolean image: setting True to 1 and False to 0\n",
      "  warn('%s is a boolean image: setting True to 1 and False to 0' % fname)\n"
     ]
    },
    {
     "name": "stdout",
     "output_type": "stream",
     "text": [
      "Processing image ../../datasets/cityscapes-dataset/leftImg8bit_trainvaltest/leftImg8bit/train/strasbourg/strasbourg_000001_055698_leftImg8bit.png\n"
     ]
    },
    {
     "name": "stderr",
     "output_type": "stream",
     "text": [
      "/usr/local/lib/python3.7/site-packages/skimage/io/_io.py:142: UserWarning: ../../datasets/aurora/instagan/train/sampleA_seg/258_0.png is a boolean image: setting True to 1 and False to 0\n",
      "  warn('%s is a boolean image: setting True to 1 and False to 0' % fname)\n",
      "/usr/local/lib/python3.7/site-packages/skimage/io/_io.py:142: UserWarning: ../../datasets/aurora/instagan/train/sampleA_seg/258_1.png is a boolean image: setting True to 1 and False to 0\n",
      "  warn('%s is a boolean image: setting True to 1 and False to 0' % fname)\n",
      "/usr/local/lib/python3.7/site-packages/skimage/io/_io.py:142: UserWarning: ../../datasets/aurora/instagan/train/sampleA_seg/258_2.png is a boolean image: setting True to 1 and False to 0\n",
      "  warn('%s is a boolean image: setting True to 1 and False to 0' % fname)\n",
      "/usr/local/lib/python3.7/site-packages/skimage/io/_io.py:142: UserWarning: ../../datasets/aurora/instagan/train/sampleA_seg/258_3.png is a boolean image: setting True to 1 and False to 0\n",
      "  warn('%s is a boolean image: setting True to 1 and False to 0' % fname)\n"
     ]
    },
    {
     "name": "stdout",
     "output_type": "stream",
     "text": [
      "Processing image ../../datasets/cityscapes-dataset/leftImg8bit_trainvaltest/leftImg8bit/train/strasbourg/strasbourg_000001_034633_leftImg8bit.png\n"
     ]
    },
    {
     "name": "stderr",
     "output_type": "stream",
     "text": [
      "/usr/local/lib/python3.7/site-packages/skimage/io/_io.py:142: UserWarning: ../../datasets/aurora/instagan/train/sampleA_seg/259_0.png is a boolean image: setting True to 1 and False to 0\n",
      "  warn('%s is a boolean image: setting True to 1 and False to 0' % fname)\n"
     ]
    },
    {
     "name": "stdout",
     "output_type": "stream",
     "text": [
      "Processing image ../../datasets/cityscapes-dataset/leftImg8bit_trainvaltest/leftImg8bit/train/strasbourg/strasbourg_000000_010816_leftImg8bit.png\n"
     ]
    },
    {
     "name": "stderr",
     "output_type": "stream",
     "text": [
      "/usr/local/lib/python3.7/site-packages/skimage/io/_io.py:142: UserWarning: ../../datasets/aurora/instagan/train/sampleA_seg/260_0.png is a boolean image: setting True to 1 and False to 0\n",
      "  warn('%s is a boolean image: setting True to 1 and False to 0' % fname)\n",
      "/usr/local/lib/python3.7/site-packages/skimage/io/_io.py:142: UserWarning: ../../datasets/aurora/instagan/train/sampleA_seg/260_1.png is a boolean image: setting True to 1 and False to 0\n",
      "  warn('%s is a boolean image: setting True to 1 and False to 0' % fname)\n",
      "/usr/local/lib/python3.7/site-packages/skimage/io/_io.py:140: UserWarning: ../../datasets/aurora/instagan/train/sampleA_seg/260_2.png is a low contrast image\n",
      "  warn('%s is a low contrast image' % fname)\n",
      "/usr/local/lib/python3.7/site-packages/skimage/io/_io.py:142: UserWarning: ../../datasets/aurora/instagan/train/sampleA_seg/260_2.png is a boolean image: setting True to 1 and False to 0\n",
      "  warn('%s is a boolean image: setting True to 1 and False to 0' % fname)\n"
     ]
    },
    {
     "name": "stdout",
     "output_type": "stream",
     "text": [
      "Processing image ../../datasets/cityscapes-dataset/leftImg8bit_trainvaltest/leftImg8bit/train/strasbourg/strasbourg_000001_005289_leftImg8bit.png\n"
     ]
    },
    {
     "name": "stderr",
     "output_type": "stream",
     "text": [
      "/usr/local/lib/python3.7/site-packages/skimage/io/_io.py:142: UserWarning: ../../datasets/aurora/instagan/train/sampleA_seg/261_0.png is a boolean image: setting True to 1 and False to 0\n",
      "  warn('%s is a boolean image: setting True to 1 and False to 0' % fname)\n"
     ]
    },
    {
     "name": "stdout",
     "output_type": "stream",
     "text": [
      "Processing image ../../datasets/cityscapes-dataset/leftImg8bit_trainvaltest/leftImg8bit/train/strasbourg/strasbourg_000000_029839_leftImg8bit.png\n"
     ]
    },
    {
     "name": "stderr",
     "output_type": "stream",
     "text": [
      "/usr/local/lib/python3.7/site-packages/skimage/io/_io.py:142: UserWarning: ../../datasets/aurora/instagan/train/sampleA_seg/262_0.png is a boolean image: setting True to 1 and False to 0\n",
      "  warn('%s is a boolean image: setting True to 1 and False to 0' % fname)\n"
     ]
    },
    {
     "name": "stdout",
     "output_type": "stream",
     "text": [
      "Processing image ../../datasets/cityscapes-dataset/leftImg8bit_trainvaltest/leftImg8bit/train/strasbourg/strasbourg_000001_006386_leftImg8bit.png\n"
     ]
    },
    {
     "name": "stderr",
     "output_type": "stream",
     "text": [
      "/usr/local/lib/python3.7/site-packages/skimage/io/_io.py:140: UserWarning: ../../datasets/aurora/instagan/train/sampleA_seg/263_0.png is a low contrast image\n",
      "  warn('%s is a low contrast image' % fname)\n",
      "/usr/local/lib/python3.7/site-packages/skimage/io/_io.py:142: UserWarning: ../../datasets/aurora/instagan/train/sampleA_seg/263_0.png is a boolean image: setting True to 1 and False to 0\n",
      "  warn('%s is a boolean image: setting True to 1 and False to 0' % fname)\n",
      "/usr/local/lib/python3.7/site-packages/skimage/io/_io.py:142: UserWarning: ../../datasets/aurora/instagan/train/sampleA_seg/263_1.png is a boolean image: setting True to 1 and False to 0\n",
      "  warn('%s is a boolean image: setting True to 1 and False to 0' % fname)\n"
     ]
    },
    {
     "name": "stdout",
     "output_type": "stream",
     "text": [
      "Processing image ../../datasets/cityscapes-dataset/leftImg8bit_trainvaltest/leftImg8bit/train/strasbourg/strasbourg_000001_009795_leftImg8bit.png\n"
     ]
    },
    {
     "name": "stderr",
     "output_type": "stream",
     "text": [
      "/usr/local/lib/python3.7/site-packages/skimage/io/_io.py:140: UserWarning: ../../datasets/aurora/instagan/train/sampleA_seg/264_0.png is a low contrast image\n",
      "  warn('%s is a low contrast image' % fname)\n",
      "/usr/local/lib/python3.7/site-packages/skimage/io/_io.py:142: UserWarning: ../../datasets/aurora/instagan/train/sampleA_seg/264_0.png is a boolean image: setting True to 1 and False to 0\n",
      "  warn('%s is a boolean image: setting True to 1 and False to 0' % fname)\n",
      "/usr/local/lib/python3.7/site-packages/skimage/io/_io.py:140: UserWarning: ../../datasets/aurora/instagan/train/sampleA_seg/264_1.png is a low contrast image\n",
      "  warn('%s is a low contrast image' % fname)\n",
      "/usr/local/lib/python3.7/site-packages/skimage/io/_io.py:142: UserWarning: ../../datasets/aurora/instagan/train/sampleA_seg/264_1.png is a boolean image: setting True to 1 and False to 0\n",
      "  warn('%s is a boolean image: setting True to 1 and False to 0' % fname)\n",
      "/usr/local/lib/python3.7/site-packages/skimage/io/_io.py:140: UserWarning: ../../datasets/aurora/instagan/train/sampleA_seg/264_2.png is a low contrast image\n",
      "  warn('%s is a low contrast image' % fname)\n",
      "/usr/local/lib/python3.7/site-packages/skimage/io/_io.py:142: UserWarning: ../../datasets/aurora/instagan/train/sampleA_seg/264_2.png is a boolean image: setting True to 1 and False to 0\n",
      "  warn('%s is a boolean image: setting True to 1 and False to 0' % fname)\n",
      "/usr/local/lib/python3.7/site-packages/skimage/io/_io.py:140: UserWarning: ../../datasets/aurora/instagan/train/sampleA_seg/264_3.png is a low contrast image\n",
      "  warn('%s is a low contrast image' % fname)\n",
      "/usr/local/lib/python3.7/site-packages/skimage/io/_io.py:142: UserWarning: ../../datasets/aurora/instagan/train/sampleA_seg/264_3.png is a boolean image: setting True to 1 and False to 0\n",
      "  warn('%s is a boolean image: setting True to 1 and False to 0' % fname)\n",
      "/usr/local/lib/python3.7/site-packages/skimage/io/_io.py:140: UserWarning: ../../datasets/aurora/instagan/train/sampleA_seg/264_4.png is a low contrast image\n",
      "  warn('%s is a low contrast image' % fname)\n",
      "/usr/local/lib/python3.7/site-packages/skimage/io/_io.py:142: UserWarning: ../../datasets/aurora/instagan/train/sampleA_seg/264_4.png is a boolean image: setting True to 1 and False to 0\n",
      "  warn('%s is a boolean image: setting True to 1 and False to 0' % fname)\n",
      "/usr/local/lib/python3.7/site-packages/skimage/io/_io.py:142: UserWarning: ../../datasets/aurora/instagan/train/sampleA_seg/264_5.png is a boolean image: setting True to 1 and False to 0\n",
      "  warn('%s is a boolean image: setting True to 1 and False to 0' % fname)\n",
      "/usr/local/lib/python3.7/site-packages/skimage/io/_io.py:142: UserWarning: ../../datasets/aurora/instagan/train/sampleA_seg/264_6.png is a boolean image: setting True to 1 and False to 0\n",
      "  warn('%s is a boolean image: setting True to 1 and False to 0' % fname)\n"
     ]
    },
    {
     "name": "stdout",
     "output_type": "stream",
     "text": [
      "Processing image ../../datasets/cityscapes-dataset/leftImg8bit_trainvaltest/leftImg8bit/train/strasbourg/strasbourg_000001_050098_leftImg8bit.png\n"
     ]
    },
    {
     "name": "stderr",
     "output_type": "stream",
     "text": [
      "/usr/local/lib/python3.7/site-packages/skimage/io/_io.py:142: UserWarning: ../../datasets/aurora/instagan/train/sampleA_seg/265_0.png is a boolean image: setting True to 1 and False to 0\n",
      "  warn('%s is a boolean image: setting True to 1 and False to 0' % fname)\n"
     ]
    },
    {
     "name": "stdout",
     "output_type": "stream",
     "text": [
      "Processing image ../../datasets/cityscapes-dataset/leftImg8bit_trainvaltest/leftImg8bit/train/strasbourg/strasbourg_000001_006153_leftImg8bit.png\n"
     ]
    },
    {
     "name": "stderr",
     "output_type": "stream",
     "text": [
      "/usr/local/lib/python3.7/site-packages/skimage/io/_io.py:142: UserWarning: ../../datasets/aurora/instagan/train/sampleA_seg/266_0.png is a boolean image: setting True to 1 and False to 0\n",
      "  warn('%s is a boolean image: setting True to 1 and False to 0' % fname)\n"
     ]
    },
    {
     "name": "stdout",
     "output_type": "stream",
     "text": [
      "Processing image ../../datasets/cityscapes-dataset/leftImg8bit_trainvaltest/leftImg8bit/train/strasbourg/strasbourg_000001_013266_leftImg8bit.png\n"
     ]
    },
    {
     "name": "stderr",
     "output_type": "stream",
     "text": [
      "/usr/local/lib/python3.7/site-packages/skimage/io/_io.py:142: UserWarning: ../../datasets/aurora/instagan/train/sampleA_seg/267_0.png is a boolean image: setting True to 1 and False to 0\n",
      "  warn('%s is a boolean image: setting True to 1 and False to 0' % fname)\n"
     ]
    },
    {
     "name": "stdout",
     "output_type": "stream",
     "text": [
      "Processing image ../../datasets/cityscapes-dataset/leftImg8bit_trainvaltest/leftImg8bit/train/strasbourg/strasbourg_000001_042434_leftImg8bit.png\n"
     ]
    },
    {
     "name": "stderr",
     "output_type": "stream",
     "text": [
      "/usr/local/lib/python3.7/site-packages/skimage/io/_io.py:142: UserWarning: ../../datasets/aurora/instagan/train/sampleA_seg/268_0.png is a boolean image: setting True to 1 and False to 0\n",
      "  warn('%s is a boolean image: setting True to 1 and False to 0' % fname)\n"
     ]
    },
    {
     "name": "stdout",
     "output_type": "stream",
     "text": [
      "Processing image ../../datasets/cityscapes-dataset/leftImg8bit_trainvaltest/leftImg8bit/train/strasbourg/strasbourg_000000_011880_leftImg8bit.png\n"
     ]
    },
    {
     "name": "stderr",
     "output_type": "stream",
     "text": [
      "/usr/local/lib/python3.7/site-packages/skimage/io/_io.py:142: UserWarning: ../../datasets/aurora/instagan/train/sampleA_seg/269_0.png is a boolean image: setting True to 1 and False to 0\n",
      "  warn('%s is a boolean image: setting True to 1 and False to 0' % fname)\n",
      "/usr/local/lib/python3.7/site-packages/skimage/io/_io.py:142: UserWarning: ../../datasets/aurora/instagan/train/sampleA_seg/269_1.png is a boolean image: setting True to 1 and False to 0\n",
      "  warn('%s is a boolean image: setting True to 1 and False to 0' % fname)\n"
     ]
    },
    {
     "name": "stdout",
     "output_type": "stream",
     "text": [
      "Processing image ../../datasets/cityscapes-dataset/leftImg8bit_trainvaltest/leftImg8bit/train/strasbourg/strasbourg_000000_007441_leftImg8bit.png\n"
     ]
    },
    {
     "name": "stderr",
     "output_type": "stream",
     "text": [
      "/usr/local/lib/python3.7/site-packages/skimage/io/_io.py:142: UserWarning: ../../datasets/aurora/instagan/train/sampleA_seg/270_0.png is a boolean image: setting True to 1 and False to 0\n",
      "  warn('%s is a boolean image: setting True to 1 and False to 0' % fname)\n",
      "/usr/local/lib/python3.7/site-packages/skimage/io/_io.py:142: UserWarning: ../../datasets/aurora/instagan/train/sampleA_seg/270_1.png is a boolean image: setting True to 1 and False to 0\n",
      "  warn('%s is a boolean image: setting True to 1 and False to 0' % fname)\n"
     ]
    },
    {
     "name": "stdout",
     "output_type": "stream",
     "text": [
      "Processing image ../../datasets/cityscapes-dataset/leftImg8bit_trainvaltest/leftImg8bit/train/strasbourg/strasbourg_000001_003489_leftImg8bit.png\n"
     ]
    },
    {
     "name": "stderr",
     "output_type": "stream",
     "text": [
      "/usr/local/lib/python3.7/site-packages/skimage/io/_io.py:142: UserWarning: ../../datasets/aurora/instagan/train/sampleA_seg/271_0.png is a boolean image: setting True to 1 and False to 0\n",
      "  warn('%s is a boolean image: setting True to 1 and False to 0' % fname)\n"
     ]
    },
    {
     "name": "stdout",
     "output_type": "stream",
     "text": [
      "Processing image ../../datasets/cityscapes-dataset/leftImg8bit_trainvaltest/leftImg8bit/train/strasbourg/strasbourg_000001_007524_leftImg8bit.png\n"
     ]
    },
    {
     "name": "stderr",
     "output_type": "stream",
     "text": [
      "/usr/local/lib/python3.7/site-packages/skimage/io/_io.py:142: UserWarning: ../../datasets/aurora/instagan/train/sampleA_seg/272_0.png is a boolean image: setting True to 1 and False to 0\n",
      "  warn('%s is a boolean image: setting True to 1 and False to 0' % fname)\n"
     ]
    },
    {
     "name": "stdout",
     "output_type": "stream",
     "text": [
      "Processing image ../../datasets/cityscapes-dataset/leftImg8bit_trainvaltest/leftImg8bit/train/strasbourg/strasbourg_000001_026355_leftImg8bit.png\n"
     ]
    },
    {
     "name": "stderr",
     "output_type": "stream",
     "text": [
      "/usr/local/lib/python3.7/site-packages/skimage/io/_io.py:142: UserWarning: ../../datasets/aurora/instagan/train/sampleA_seg/273_0.png is a boolean image: setting True to 1 and False to 0\n",
      "  warn('%s is a boolean image: setting True to 1 and False to 0' % fname)\n"
     ]
    },
    {
     "name": "stdout",
     "output_type": "stream",
     "text": [
      "Processing image ../../datasets/cityscapes-dataset/leftImg8bit_trainvaltest/leftImg8bit/train/strasbourg/strasbourg_000001_056142_leftImg8bit.png\n"
     ]
    },
    {
     "name": "stderr",
     "output_type": "stream",
     "text": [
      "/usr/local/lib/python3.7/site-packages/skimage/io/_io.py:142: UserWarning: ../../datasets/aurora/instagan/train/sampleA_seg/274_0.png is a boolean image: setting True to 1 and False to 0\n",
      "  warn('%s is a boolean image: setting True to 1 and False to 0' % fname)\n",
      "/usr/local/lib/python3.7/site-packages/skimage/io/_io.py:142: UserWarning: ../../datasets/aurora/instagan/train/sampleA_seg/274_1.png is a boolean image: setting True to 1 and False to 0\n",
      "  warn('%s is a boolean image: setting True to 1 and False to 0' % fname)\n"
     ]
    },
    {
     "name": "stdout",
     "output_type": "stream",
     "text": [
      "Processing image ../../datasets/cityscapes-dataset/leftImg8bit_trainvaltest/leftImg8bit/train/strasbourg/strasbourg_000001_029980_leftImg8bit.png\n"
     ]
    },
    {
     "name": "stderr",
     "output_type": "stream",
     "text": [
      "/usr/local/lib/python3.7/site-packages/skimage/io/_io.py:142: UserWarning: ../../datasets/aurora/instagan/train/sampleA_seg/275_0.png is a boolean image: setting True to 1 and False to 0\n",
      "  warn('%s is a boolean image: setting True to 1 and False to 0' % fname)\n",
      "/usr/local/lib/python3.7/site-packages/skimage/io/_io.py:142: UserWarning: ../../datasets/aurora/instagan/train/sampleA_seg/275_1.png is a boolean image: setting True to 1 and False to 0\n",
      "  warn('%s is a boolean image: setting True to 1 and False to 0' % fname)\n"
     ]
    },
    {
     "name": "stdout",
     "output_type": "stream",
     "text": [
      "Processing image ../../datasets/cityscapes-dataset/leftImg8bit_trainvaltest/leftImg8bit/train/strasbourg/strasbourg_000001_052050_leftImg8bit.png\n"
     ]
    },
    {
     "name": "stderr",
     "output_type": "stream",
     "text": [
      "/usr/local/lib/python3.7/site-packages/skimage/io/_io.py:142: UserWarning: ../../datasets/aurora/instagan/train/sampleA_seg/276_0.png is a boolean image: setting True to 1 and False to 0\n",
      "  warn('%s is a boolean image: setting True to 1 and False to 0' % fname)\n"
     ]
    },
    {
     "name": "stdout",
     "output_type": "stream",
     "text": [
      "Processing image ../../datasets/cityscapes-dataset/leftImg8bit_trainvaltest/leftImg8bit/train/strasbourg/strasbourg_000000_015602_leftImg8bit.png\n"
     ]
    },
    {
     "name": "stderr",
     "output_type": "stream",
     "text": [
      "/usr/local/lib/python3.7/site-packages/skimage/io/_io.py:142: UserWarning: ../../datasets/aurora/instagan/train/sampleA_seg/277_0.png is a boolean image: setting True to 1 and False to 0\n",
      "  warn('%s is a boolean image: setting True to 1 and False to 0' % fname)\n"
     ]
    },
    {
     "name": "stdout",
     "output_type": "stream",
     "text": [
      "Processing image ../../datasets/cityscapes-dataset/leftImg8bit_trainvaltest/leftImg8bit/train/strasbourg/strasbourg_000000_006621_leftImg8bit.png\n"
     ]
    },
    {
     "name": "stderr",
     "output_type": "stream",
     "text": [
      "/usr/local/lib/python3.7/site-packages/skimage/io/_io.py:142: UserWarning: ../../datasets/aurora/instagan/train/sampleA_seg/278_0.png is a boolean image: setting True to 1 and False to 0\n",
      "  warn('%s is a boolean image: setting True to 1 and False to 0' % fname)\n",
      "/usr/local/lib/python3.7/site-packages/skimage/io/_io.py:142: UserWarning: ../../datasets/aurora/instagan/train/sampleA_seg/278_1.png is a boolean image: setting True to 1 and False to 0\n",
      "  warn('%s is a boolean image: setting True to 1 and False to 0' % fname)\n"
     ]
    },
    {
     "name": "stdout",
     "output_type": "stream",
     "text": [
      "Processing image ../../datasets/cityscapes-dataset/leftImg8bit_trainvaltest/leftImg8bit/train/strasbourg/strasbourg_000000_006995_leftImg8bit.png\n"
     ]
    },
    {
     "name": "stderr",
     "output_type": "stream",
     "text": [
      "/usr/local/lib/python3.7/site-packages/skimage/io/_io.py:140: UserWarning: ../../datasets/aurora/instagan/train/sampleA_seg/279_0.png is a low contrast image\n",
      "  warn('%s is a low contrast image' % fname)\n",
      "/usr/local/lib/python3.7/site-packages/skimage/io/_io.py:142: UserWarning: ../../datasets/aurora/instagan/train/sampleA_seg/279_0.png is a boolean image: setting True to 1 and False to 0\n",
      "  warn('%s is a boolean image: setting True to 1 and False to 0' % fname)\n",
      "/usr/local/lib/python3.7/site-packages/skimage/io/_io.py:142: UserWarning: ../../datasets/aurora/instagan/train/sampleA_seg/279_1.png is a boolean image: setting True to 1 and False to 0\n",
      "  warn('%s is a boolean image: setting True to 1 and False to 0' % fname)\n",
      "/usr/local/lib/python3.7/site-packages/skimage/io/_io.py:140: UserWarning: ../../datasets/aurora/instagan/train/sampleA_seg/279_2.png is a low contrast image\n",
      "  warn('%s is a low contrast image' % fname)\n",
      "/usr/local/lib/python3.7/site-packages/skimage/io/_io.py:142: UserWarning: ../../datasets/aurora/instagan/train/sampleA_seg/279_2.png is a boolean image: setting True to 1 and False to 0\n",
      "  warn('%s is a boolean image: setting True to 1 and False to 0' % fname)\n",
      "/usr/local/lib/python3.7/site-packages/skimage/io/_io.py:142: UserWarning: ../../datasets/aurora/instagan/train/sampleA_seg/279_3.png is a boolean image: setting True to 1 and False to 0\n",
      "  warn('%s is a boolean image: setting True to 1 and False to 0' % fname)\n"
     ]
    },
    {
     "name": "stdout",
     "output_type": "stream",
     "text": [
      "Processing image ../../datasets/cityscapes-dataset/leftImg8bit_trainvaltest/leftImg8bit/train/strasbourg/strasbourg_000000_029915_leftImg8bit.png\n"
     ]
    },
    {
     "name": "stderr",
     "output_type": "stream",
     "text": [
      "/usr/local/lib/python3.7/site-packages/skimage/io/_io.py:142: UserWarning: ../../datasets/aurora/instagan/train/sampleA_seg/280_0.png is a boolean image: setting True to 1 and False to 0\n",
      "  warn('%s is a boolean image: setting True to 1 and False to 0' % fname)\n"
     ]
    },
    {
     "name": "stdout",
     "output_type": "stream",
     "text": [
      "Processing image ../../datasets/cityscapes-dataset/leftImg8bit_trainvaltest/leftImg8bit/train/strasbourg/strasbourg_000001_033027_leftImg8bit.png\n"
     ]
    },
    {
     "name": "stderr",
     "output_type": "stream",
     "text": [
      "/usr/local/lib/python3.7/site-packages/skimage/io/_io.py:142: UserWarning: ../../datasets/aurora/instagan/train/sampleA_seg/281_0.png is a boolean image: setting True to 1 and False to 0\n",
      "  warn('%s is a boolean image: setting True to 1 and False to 0' % fname)\n"
     ]
    },
    {
     "name": "stdout",
     "output_type": "stream",
     "text": [
      "Processing image ../../datasets/cityscapes-dataset/leftImg8bit_trainvaltest/leftImg8bit/train/strasbourg/strasbourg_000000_004248_leftImg8bit.png\n"
     ]
    },
    {
     "name": "stderr",
     "output_type": "stream",
     "text": [
      "/usr/local/lib/python3.7/site-packages/skimage/io/_io.py:142: UserWarning: ../../datasets/aurora/instagan/train/sampleA_seg/282_0.png is a boolean image: setting True to 1 and False to 0\n",
      "  warn('%s is a boolean image: setting True to 1 and False to 0' % fname)\n",
      "/usr/local/lib/python3.7/site-packages/skimage/io/_io.py:142: UserWarning: ../../datasets/aurora/instagan/train/sampleA_seg/282_1.png is a boolean image: setting True to 1 and False to 0\n",
      "  warn('%s is a boolean image: setting True to 1 and False to 0' % fname)\n",
      "/usr/local/lib/python3.7/site-packages/skimage/io/_io.py:142: UserWarning: ../../datasets/aurora/instagan/train/sampleA_seg/282_2.png is a boolean image: setting True to 1 and False to 0\n",
      "  warn('%s is a boolean image: setting True to 1 and False to 0' % fname)\n",
      "/usr/local/lib/python3.7/site-packages/skimage/io/_io.py:140: UserWarning: ../../datasets/aurora/instagan/train/sampleA_seg/282_3.png is a low contrast image\n",
      "  warn('%s is a low contrast image' % fname)\n",
      "/usr/local/lib/python3.7/site-packages/skimage/io/_io.py:142: UserWarning: ../../datasets/aurora/instagan/train/sampleA_seg/282_3.png is a boolean image: setting True to 1 and False to 0\n",
      "  warn('%s is a boolean image: setting True to 1 and False to 0' % fname)\n"
     ]
    },
    {
     "name": "stdout",
     "output_type": "stream",
     "text": [
      "Processing image ../../datasets/cityscapes-dataset/leftImg8bit_trainvaltest/leftImg8bit/train/strasbourg/strasbourg_000001_009246_leftImg8bit.png\n"
     ]
    },
    {
     "name": "stderr",
     "output_type": "stream",
     "text": [
      "/usr/local/lib/python3.7/site-packages/skimage/io/_io.py:142: UserWarning: ../../datasets/aurora/instagan/train/sampleA_seg/283_0.png is a boolean image: setting True to 1 and False to 0\n",
      "  warn('%s is a boolean image: setting True to 1 and False to 0' % fname)\n",
      "/usr/local/lib/python3.7/site-packages/skimage/io/_io.py:142: UserWarning: ../../datasets/aurora/instagan/train/sampleA_seg/283_1.png is a boolean image: setting True to 1 and False to 0\n",
      "  warn('%s is a boolean image: setting True to 1 and False to 0' % fname)\n"
     ]
    },
    {
     "name": "stdout",
     "output_type": "stream",
     "text": [
      "Processing image ../../datasets/cityscapes-dataset/leftImg8bit_trainvaltest/leftImg8bit/train/strasbourg/strasbourg_000001_002216_leftImg8bit.png\n"
     ]
    },
    {
     "name": "stderr",
     "output_type": "stream",
     "text": [
      "/usr/local/lib/python3.7/site-packages/skimage/io/_io.py:142: UserWarning: ../../datasets/aurora/instagan/train/sampleA_seg/284_0.png is a boolean image: setting True to 1 and False to 0\n",
      "  warn('%s is a boolean image: setting True to 1 and False to 0' % fname)\n"
     ]
    },
    {
     "name": "stdout",
     "output_type": "stream",
     "text": [
      "Processing image ../../datasets/cityscapes-dataset/leftImg8bit_trainvaltest/leftImg8bit/train/strasbourg/strasbourg_000001_024701_leftImg8bit.png\n"
     ]
    },
    {
     "name": "stderr",
     "output_type": "stream",
     "text": [
      "/usr/local/lib/python3.7/site-packages/skimage/io/_io.py:142: UserWarning: ../../datasets/aurora/instagan/train/sampleA_seg/285_0.png is a boolean image: setting True to 1 and False to 0\n",
      "  warn('%s is a boolean image: setting True to 1 and False to 0' % fname)\n"
     ]
    },
    {
     "name": "stdout",
     "output_type": "stream",
     "text": [
      "Processing image ../../datasets/cityscapes-dataset/leftImg8bit_trainvaltest/leftImg8bit/train/strasbourg/strasbourg_000001_023515_leftImg8bit.png\n"
     ]
    },
    {
     "name": "stderr",
     "output_type": "stream",
     "text": [
      "/usr/local/lib/python3.7/site-packages/skimage/io/_io.py:142: UserWarning: ../../datasets/aurora/instagan/train/sampleA_seg/286_0.png is a boolean image: setting True to 1 and False to 0\n",
      "  warn('%s is a boolean image: setting True to 1 and False to 0' % fname)\n",
      "/usr/local/lib/python3.7/site-packages/skimage/io/_io.py:142: UserWarning: ../../datasets/aurora/instagan/train/sampleA_seg/286_1.png is a boolean image: setting True to 1 and False to 0\n",
      "  warn('%s is a boolean image: setting True to 1 and False to 0' % fname)\n"
     ]
    },
    {
     "name": "stdout",
     "output_type": "stream",
     "text": [
      "Processing image ../../datasets/cityscapes-dataset/leftImg8bit_trainvaltest/leftImg8bit/train/strasbourg/strasbourg_000001_022836_leftImg8bit.png\n"
     ]
    },
    {
     "name": "stderr",
     "output_type": "stream",
     "text": [
      "/usr/local/lib/python3.7/site-packages/skimage/io/_io.py:142: UserWarning: ../../datasets/aurora/instagan/train/sampleA_seg/287_0.png is a boolean image: setting True to 1 and False to 0\n",
      "  warn('%s is a boolean image: setting True to 1 and False to 0' % fname)\n"
     ]
    },
    {
     "name": "stdout",
     "output_type": "stream",
     "text": [
      "Processing image ../../datasets/cityscapes-dataset/leftImg8bit_trainvaltest/leftImg8bit/train/strasbourg/strasbourg_000001_026856_leftImg8bit.png\n"
     ]
    },
    {
     "name": "stderr",
     "output_type": "stream",
     "text": [
      "/usr/local/lib/python3.7/site-packages/skimage/io/_io.py:142: UserWarning: ../../datasets/aurora/instagan/train/sampleA_seg/288_0.png is a boolean image: setting True to 1 and False to 0\n",
      "  warn('%s is a boolean image: setting True to 1 and False to 0' % fname)\n",
      "/usr/local/lib/python3.7/site-packages/skimage/io/_io.py:142: UserWarning: ../../datasets/aurora/instagan/train/sampleA_seg/288_1.png is a boolean image: setting True to 1 and False to 0\n",
      "  warn('%s is a boolean image: setting True to 1 and False to 0' % fname)\n",
      "/usr/local/lib/python3.7/site-packages/skimage/io/_io.py:142: UserWarning: ../../datasets/aurora/instagan/train/sampleA_seg/288_2.png is a boolean image: setting True to 1 and False to 0\n",
      "  warn('%s is a boolean image: setting True to 1 and False to 0' % fname)\n"
     ]
    },
    {
     "name": "stdout",
     "output_type": "stream",
     "text": [
      "Processing image ../../datasets/cityscapes-dataset/leftImg8bit_trainvaltest/leftImg8bit/train/strasbourg/strasbourg_000001_015220_leftImg8bit.png\n"
     ]
    },
    {
     "name": "stderr",
     "output_type": "stream",
     "text": [
      "/usr/local/lib/python3.7/site-packages/skimage/io/_io.py:142: UserWarning: ../../datasets/aurora/instagan/train/sampleA_seg/289_0.png is a boolean image: setting True to 1 and False to 0\n",
      "  warn('%s is a boolean image: setting True to 1 and False to 0' % fname)\n",
      "/usr/local/lib/python3.7/site-packages/skimage/io/_io.py:142: UserWarning: ../../datasets/aurora/instagan/train/sampleA_seg/289_1.png is a boolean image: setting True to 1 and False to 0\n",
      "  warn('%s is a boolean image: setting True to 1 and False to 0' % fname)\n"
     ]
    },
    {
     "name": "stdout",
     "output_type": "stream",
     "text": [
      "Processing image ../../datasets/cityscapes-dataset/leftImg8bit_trainvaltest/leftImg8bit/train/strasbourg/strasbourg_000001_042235_leftImg8bit.png\n"
     ]
    },
    {
     "name": "stderr",
     "output_type": "stream",
     "text": [
      "/usr/local/lib/python3.7/site-packages/skimage/io/_io.py:142: UserWarning: ../../datasets/aurora/instagan/train/sampleA_seg/290_0.png is a boolean image: setting True to 1 and False to 0\n",
      "  warn('%s is a boolean image: setting True to 1 and False to 0' % fname)\n",
      "/usr/local/lib/python3.7/site-packages/skimage/io/_io.py:142: UserWarning: ../../datasets/aurora/instagan/train/sampleA_seg/290_1.png is a boolean image: setting True to 1 and False to 0\n",
      "  warn('%s is a boolean image: setting True to 1 and False to 0' % fname)\n",
      "/usr/local/lib/python3.7/site-packages/skimage/io/_io.py:140: UserWarning: ../../datasets/aurora/instagan/train/sampleA_seg/290_2.png is a low contrast image\n",
      "  warn('%s is a low contrast image' % fname)\n",
      "/usr/local/lib/python3.7/site-packages/skimage/io/_io.py:142: UserWarning: ../../datasets/aurora/instagan/train/sampleA_seg/290_2.png is a boolean image: setting True to 1 and False to 0\n",
      "  warn('%s is a boolean image: setting True to 1 and False to 0' % fname)\n",
      "/usr/local/lib/python3.7/site-packages/skimage/io/_io.py:140: UserWarning: ../../datasets/aurora/instagan/train/sampleA_seg/290_3.png is a low contrast image\n",
      "  warn('%s is a low contrast image' % fname)\n",
      "/usr/local/lib/python3.7/site-packages/skimage/io/_io.py:142: UserWarning: ../../datasets/aurora/instagan/train/sampleA_seg/290_3.png is a boolean image: setting True to 1 and False to 0\n",
      "  warn('%s is a boolean image: setting True to 1 and False to 0' % fname)\n",
      "/usr/local/lib/python3.7/site-packages/skimage/io/_io.py:140: UserWarning: ../../datasets/aurora/instagan/train/sampleA_seg/290_4.png is a low contrast image\n",
      "  warn('%s is a low contrast image' % fname)\n",
      "/usr/local/lib/python3.7/site-packages/skimage/io/_io.py:142: UserWarning: ../../datasets/aurora/instagan/train/sampleA_seg/290_4.png is a boolean image: setting True to 1 and False to 0\n",
      "  warn('%s is a boolean image: setting True to 1 and False to 0' % fname)\n",
      "/usr/local/lib/python3.7/site-packages/skimage/io/_io.py:140: UserWarning: ../../datasets/aurora/instagan/train/sampleA_seg/290_5.png is a low contrast image\n",
      "  warn('%s is a low contrast image' % fname)\n",
      "/usr/local/lib/python3.7/site-packages/skimage/io/_io.py:142: UserWarning: ../../datasets/aurora/instagan/train/sampleA_seg/290_5.png is a boolean image: setting True to 1 and False to 0\n",
      "  warn('%s is a boolean image: setting True to 1 and False to 0' % fname)\n",
      "/usr/local/lib/python3.7/site-packages/skimage/io/_io.py:140: UserWarning: ../../datasets/aurora/instagan/train/sampleA_seg/290_6.png is a low contrast image\n",
      "  warn('%s is a low contrast image' % fname)\n",
      "/usr/local/lib/python3.7/site-packages/skimage/io/_io.py:142: UserWarning: ../../datasets/aurora/instagan/train/sampleA_seg/290_6.png is a boolean image: setting True to 1 and False to 0\n",
      "  warn('%s is a boolean image: setting True to 1 and False to 0' % fname)\n",
      "/usr/local/lib/python3.7/site-packages/skimage/io/_io.py:140: UserWarning: ../../datasets/aurora/instagan/train/sampleA_seg/290_7.png is a low contrast image\n",
      "  warn('%s is a low contrast image' % fname)\n",
      "/usr/local/lib/python3.7/site-packages/skimage/io/_io.py:142: UserWarning: ../../datasets/aurora/instagan/train/sampleA_seg/290_7.png is a boolean image: setting True to 1 and False to 0\n",
      "  warn('%s is a boolean image: setting True to 1 and False to 0' % fname)\n",
      "/usr/local/lib/python3.7/site-packages/skimage/io/_io.py:140: UserWarning: ../../datasets/aurora/instagan/train/sampleA_seg/290_8.png is a low contrast image\n",
      "  warn('%s is a low contrast image' % fname)\n",
      "/usr/local/lib/python3.7/site-packages/skimage/io/_io.py:142: UserWarning: ../../datasets/aurora/instagan/train/sampleA_seg/290_8.png is a boolean image: setting True to 1 and False to 0\n",
      "  warn('%s is a boolean image: setting True to 1 and False to 0' % fname)\n",
      "/usr/local/lib/python3.7/site-packages/skimage/io/_io.py:140: UserWarning: ../../datasets/aurora/instagan/train/sampleA_seg/290_9.png is a low contrast image\n",
      "  warn('%s is a low contrast image' % fname)\n",
      "/usr/local/lib/python3.7/site-packages/skimage/io/_io.py:142: UserWarning: ../../datasets/aurora/instagan/train/sampleA_seg/290_9.png is a boolean image: setting True to 1 and False to 0\n",
      "  warn('%s is a boolean image: setting True to 1 and False to 0' % fname)\n",
      "/usr/local/lib/python3.7/site-packages/skimage/io/_io.py:140: UserWarning: ../../datasets/aurora/instagan/train/sampleA_seg/290_10.png is a low contrast image\n",
      "  warn('%s is a low contrast image' % fname)\n",
      "/usr/local/lib/python3.7/site-packages/skimage/io/_io.py:142: UserWarning: ../../datasets/aurora/instagan/train/sampleA_seg/290_10.png is a boolean image: setting True to 1 and False to 0\n",
      "  warn('%s is a boolean image: setting True to 1 and False to 0' % fname)\n"
     ]
    },
    {
     "name": "stdout",
     "output_type": "stream",
     "text": [
      "Processing image ../../datasets/cityscapes-dataset/leftImg8bit_trainvaltest/leftImg8bit/train/strasbourg/strasbourg_000001_036480_leftImg8bit.png\n"
     ]
    },
    {
     "name": "stderr",
     "output_type": "stream",
     "text": [
      "/usr/local/lib/python3.7/site-packages/skimage/io/_io.py:142: UserWarning: ../../datasets/aurora/instagan/train/sampleA_seg/291_0.png is a boolean image: setting True to 1 and False to 0\n",
      "  warn('%s is a boolean image: setting True to 1 and False to 0' % fname)\n",
      "/usr/local/lib/python3.7/site-packages/skimage/io/_io.py:142: UserWarning: ../../datasets/aurora/instagan/train/sampleA_seg/291_1.png is a boolean image: setting True to 1 and False to 0\n",
      "  warn('%s is a boolean image: setting True to 1 and False to 0' % fname)\n"
     ]
    },
    {
     "name": "stdout",
     "output_type": "stream",
     "text": [
      "Processing image ../../datasets/cityscapes-dataset/leftImg8bit_trainvaltest/leftImg8bit/train/strasbourg/strasbourg_000001_030539_leftImg8bit.png\n"
     ]
    },
    {
     "name": "stderr",
     "output_type": "stream",
     "text": [
      "/usr/local/lib/python3.7/site-packages/skimage/io/_io.py:142: UserWarning: ../../datasets/aurora/instagan/train/sampleA_seg/292_0.png is a boolean image: setting True to 1 and False to 0\n",
      "  warn('%s is a boolean image: setting True to 1 and False to 0' % fname)\n"
     ]
    },
    {
     "name": "stdout",
     "output_type": "stream",
     "text": [
      "Processing image ../../datasets/cityscapes-dataset/leftImg8bit_trainvaltest/leftImg8bit/train/strasbourg/strasbourg_000001_057930_leftImg8bit.png\n"
     ]
    },
    {
     "name": "stderr",
     "output_type": "stream",
     "text": [
      "/usr/local/lib/python3.7/site-packages/skimage/io/_io.py:140: UserWarning: ../../datasets/aurora/instagan/train/sampleA_seg/293_0.png is a low contrast image\n",
      "  warn('%s is a low contrast image' % fname)\n",
      "/usr/local/lib/python3.7/site-packages/skimage/io/_io.py:142: UserWarning: ../../datasets/aurora/instagan/train/sampleA_seg/293_0.png is a boolean image: setting True to 1 and False to 0\n",
      "  warn('%s is a boolean image: setting True to 1 and False to 0' % fname)\n",
      "/usr/local/lib/python3.7/site-packages/skimage/io/_io.py:142: UserWarning: ../../datasets/aurora/instagan/train/sampleA_seg/293_1.png is a boolean image: setting True to 1 and False to 0\n",
      "  warn('%s is a boolean image: setting True to 1 and False to 0' % fname)\n"
     ]
    },
    {
     "name": "stdout",
     "output_type": "stream",
     "text": [
      "Processing image ../../datasets/cityscapes-dataset/leftImg8bit_trainvaltest/leftImg8bit/train/strasbourg/strasbourg_000000_035713_leftImg8bit.png\n"
     ]
    },
    {
     "name": "stderr",
     "output_type": "stream",
     "text": [
      "/usr/local/lib/python3.7/site-packages/skimage/io/_io.py:142: UserWarning: ../../datasets/aurora/instagan/train/sampleA_seg/294_0.png is a boolean image: setting True to 1 and False to 0\n",
      "  warn('%s is a boolean image: setting True to 1 and False to 0' % fname)\n"
     ]
    },
    {
     "name": "stdout",
     "output_type": "stream",
     "text": [
      "Processing image ../../datasets/cityscapes-dataset/leftImg8bit_trainvaltest/leftImg8bit/train/strasbourg/strasbourg_000001_000778_leftImg8bit.png\n"
     ]
    },
    {
     "name": "stderr",
     "output_type": "stream",
     "text": [
      "/usr/local/lib/python3.7/site-packages/skimage/io/_io.py:142: UserWarning: ../../datasets/aurora/instagan/train/sampleA_seg/295_0.png is a boolean image: setting True to 1 and False to 0\n",
      "  warn('%s is a boolean image: setting True to 1 and False to 0' % fname)\n"
     ]
    },
    {
     "name": "stdout",
     "output_type": "stream",
     "text": [
      "Processing image ../../datasets/cityscapes-dataset/leftImg8bit_trainvaltest/leftImg8bit/train/strasbourg/strasbourg_000001_011990_leftImg8bit.png\n"
     ]
    },
    {
     "name": "stderr",
     "output_type": "stream",
     "text": [
      "/usr/local/lib/python3.7/site-packages/skimage/io/_io.py:142: UserWarning: ../../datasets/aurora/instagan/train/sampleA_seg/296_0.png is a boolean image: setting True to 1 and False to 0\n",
      "  warn('%s is a boolean image: setting True to 1 and False to 0' % fname)\n",
      "/usr/local/lib/python3.7/site-packages/skimage/io/_io.py:140: UserWarning: ../../datasets/aurora/instagan/train/sampleA_seg/296_1.png is a low contrast image\n",
      "  warn('%s is a low contrast image' % fname)\n",
      "/usr/local/lib/python3.7/site-packages/skimage/io/_io.py:142: UserWarning: ../../datasets/aurora/instagan/train/sampleA_seg/296_1.png is a boolean image: setting True to 1 and False to 0\n",
      "  warn('%s is a boolean image: setting True to 1 and False to 0' % fname)\n",
      "/usr/local/lib/python3.7/site-packages/skimage/io/_io.py:142: UserWarning: ../../datasets/aurora/instagan/train/sampleA_seg/296_2.png is a boolean image: setting True to 1 and False to 0\n",
      "  warn('%s is a boolean image: setting True to 1 and False to 0' % fname)\n"
     ]
    },
    {
     "name": "stdout",
     "output_type": "stream",
     "text": [
      "Processing image ../../datasets/cityscapes-dataset/leftImg8bit_trainvaltest/leftImg8bit/train/strasbourg/strasbourg_000001_061685_leftImg8bit.png\n"
     ]
    },
    {
     "name": "stderr",
     "output_type": "stream",
     "text": [
      "/usr/local/lib/python3.7/site-packages/skimage/io/_io.py:142: UserWarning: ../../datasets/aurora/instagan/train/sampleA_seg/297_0.png is a boolean image: setting True to 1 and False to 0\n",
      "  warn('%s is a boolean image: setting True to 1 and False to 0' % fname)\n"
     ]
    },
    {
     "name": "stdout",
     "output_type": "stream",
     "text": [
      "Processing image ../../datasets/cityscapes-dataset/leftImg8bit_trainvaltest/leftImg8bit/train/strasbourg/strasbourg_000000_013863_leftImg8bit.png\n"
     ]
    },
    {
     "name": "stderr",
     "output_type": "stream",
     "text": [
      "/usr/local/lib/python3.7/site-packages/skimage/io/_io.py:142: UserWarning: ../../datasets/aurora/instagan/train/sampleA_seg/298_0.png is a boolean image: setting True to 1 and False to 0\n",
      "  warn('%s is a boolean image: setting True to 1 and False to 0' % fname)\n"
     ]
    },
    {
     "name": "stdout",
     "output_type": "stream",
     "text": [
      "Processing image ../../datasets/cityscapes-dataset/leftImg8bit_trainvaltest/leftImg8bit/train/strasbourg/strasbourg_000000_014931_leftImg8bit.png\n"
     ]
    },
    {
     "name": "stderr",
     "output_type": "stream",
     "text": [
      "/usr/local/lib/python3.7/site-packages/skimage/io/_io.py:142: UserWarning: ../../datasets/aurora/instagan/train/sampleA_seg/299_0.png is a boolean image: setting True to 1 and False to 0\n",
      "  warn('%s is a boolean image: setting True to 1 and False to 0' % fname)\n"
     ]
    },
    {
     "name": "stdout",
     "output_type": "stream",
     "text": [
      "Processing image ../../datasets/cityscapes-dataset/leftImg8bit_trainvaltest/leftImg8bit/train/strasbourg/strasbourg_000001_008771_leftImg8bit.png\n"
     ]
    },
    {
     "name": "stderr",
     "output_type": "stream",
     "text": [
      "/usr/local/lib/python3.7/site-packages/skimage/io/_io.py:142: UserWarning: ../../datasets/aurora/instagan/train/sampleA_seg/300_0.png is a boolean image: setting True to 1 and False to 0\n",
      "  warn('%s is a boolean image: setting True to 1 and False to 0' % fname)\n"
     ]
    },
    {
     "name": "stdout",
     "output_type": "stream",
     "text": [
      "Processing image ../../datasets/cityscapes-dataset/leftImg8bit_trainvaltest/leftImg8bit/train/strasbourg/strasbourg_000001_034494_leftImg8bit.png\n"
     ]
    },
    {
     "name": "stderr",
     "output_type": "stream",
     "text": [
      "/usr/local/lib/python3.7/site-packages/skimage/io/_io.py:142: UserWarning: ../../datasets/aurora/instagan/train/sampleA_seg/301_0.png is a boolean image: setting True to 1 and False to 0\n",
      "  warn('%s is a boolean image: setting True to 1 and False to 0' % fname)\n"
     ]
    },
    {
     "name": "stdout",
     "output_type": "stream",
     "text": [
      "Processing image ../../datasets/cityscapes-dataset/leftImg8bit_trainvaltest/leftImg8bit/train/strasbourg/strasbourg_000001_028379_leftImg8bit.png\n"
     ]
    },
    {
     "name": "stderr",
     "output_type": "stream",
     "text": [
      "/usr/local/lib/python3.7/site-packages/skimage/io/_io.py:142: UserWarning: ../../datasets/aurora/instagan/train/sampleA_seg/302_0.png is a boolean image: setting True to 1 and False to 0\n",
      "  warn('%s is a boolean image: setting True to 1 and False to 0' % fname)\n"
     ]
    },
    {
     "name": "stdout",
     "output_type": "stream",
     "text": [
      "Processing image ../../datasets/cityscapes-dataset/leftImg8bit_trainvaltest/leftImg8bit/train/strasbourg/strasbourg_000001_006916_leftImg8bit.png\n"
     ]
    },
    {
     "name": "stderr",
     "output_type": "stream",
     "text": [
      "/usr/local/lib/python3.7/site-packages/skimage/io/_io.py:142: UserWarning: ../../datasets/aurora/instagan/train/sampleA_seg/303_0.png is a boolean image: setting True to 1 and False to 0\n",
      "  warn('%s is a boolean image: setting True to 1 and False to 0' % fname)\n"
     ]
    },
    {
     "name": "stdout",
     "output_type": "stream",
     "text": [
      "Processing image ../../datasets/cityscapes-dataset/leftImg8bit_trainvaltest/leftImg8bit/train/strasbourg/strasbourg_000000_018874_leftImg8bit.png\n"
     ]
    },
    {
     "name": "stderr",
     "output_type": "stream",
     "text": [
      "/usr/local/lib/python3.7/site-packages/skimage/io/_io.py:140: UserWarning: ../../datasets/aurora/instagan/train/sampleA_seg/304_0.png is a low contrast image\n",
      "  warn('%s is a low contrast image' % fname)\n",
      "/usr/local/lib/python3.7/site-packages/skimage/io/_io.py:142: UserWarning: ../../datasets/aurora/instagan/train/sampleA_seg/304_0.png is a boolean image: setting True to 1 and False to 0\n",
      "  warn('%s is a boolean image: setting True to 1 and False to 0' % fname)\n"
     ]
    },
    {
     "name": "stdout",
     "output_type": "stream",
     "text": [
      "Processing image ../../datasets/cityscapes-dataset/leftImg8bit_trainvaltest/leftImg8bit/train/strasbourg/strasbourg_000000_008677_leftImg8bit.png\n"
     ]
    },
    {
     "name": "stderr",
     "output_type": "stream",
     "text": [
      "/usr/local/lib/python3.7/site-packages/skimage/io/_io.py:142: UserWarning: ../../datasets/aurora/instagan/train/sampleA_seg/305_0.png is a boolean image: setting True to 1 and False to 0\n",
      "  warn('%s is a boolean image: setting True to 1 and False to 0' % fname)\n",
      "/usr/local/lib/python3.7/site-packages/skimage/io/_io.py:142: UserWarning: ../../datasets/aurora/instagan/train/sampleA_seg/305_1.png is a boolean image: setting True to 1 and False to 0\n",
      "  warn('%s is a boolean image: setting True to 1 and False to 0' % fname)\n"
     ]
    },
    {
     "name": "stdout",
     "output_type": "stream",
     "text": [
      "Processing image ../../datasets/cityscapes-dataset/leftImg8bit_trainvaltest/leftImg8bit/train/strasbourg/strasbourg_000001_031272_leftImg8bit.png\n"
     ]
    },
    {
     "name": "stderr",
     "output_type": "stream",
     "text": [
      "/usr/local/lib/python3.7/site-packages/skimage/io/_io.py:142: UserWarning: ../../datasets/aurora/instagan/train/sampleA_seg/306_0.png is a boolean image: setting True to 1 and False to 0\n",
      "  warn('%s is a boolean image: setting True to 1 and False to 0' % fname)\n",
      "/usr/local/lib/python3.7/site-packages/skimage/io/_io.py:140: UserWarning: ../../datasets/aurora/instagan/train/sampleA_seg/306_1.png is a low contrast image\n",
      "  warn('%s is a low contrast image' % fname)\n",
      "/usr/local/lib/python3.7/site-packages/skimage/io/_io.py:142: UserWarning: ../../datasets/aurora/instagan/train/sampleA_seg/306_1.png is a boolean image: setting True to 1 and False to 0\n",
      "  warn('%s is a boolean image: setting True to 1 and False to 0' % fname)\n",
      "/usr/local/lib/python3.7/site-packages/skimage/io/_io.py:140: UserWarning: ../../datasets/aurora/instagan/train/sampleA_seg/306_2.png is a low contrast image\n",
      "  warn('%s is a low contrast image' % fname)\n",
      "/usr/local/lib/python3.7/site-packages/skimage/io/_io.py:142: UserWarning: ../../datasets/aurora/instagan/train/sampleA_seg/306_2.png is a boolean image: setting True to 1 and False to 0\n",
      "  warn('%s is a boolean image: setting True to 1 and False to 0' % fname)\n"
     ]
    },
    {
     "name": "stdout",
     "output_type": "stream",
     "text": [
      "Processing image ../../datasets/cityscapes-dataset/leftImg8bit_trainvaltest/leftImg8bit/train/strasbourg/strasbourg_000000_014101_leftImg8bit.png\n"
     ]
    },
    {
     "name": "stderr",
     "output_type": "stream",
     "text": [
      "/usr/local/lib/python3.7/site-packages/skimage/io/_io.py:142: UserWarning: ../../datasets/aurora/instagan/train/sampleA_seg/307_0.png is a boolean image: setting True to 1 and False to 0\n",
      "  warn('%s is a boolean image: setting True to 1 and False to 0' % fname)\n"
     ]
    },
    {
     "name": "stdout",
     "output_type": "stream",
     "text": [
      "Processing image ../../datasets/cityscapes-dataset/leftImg8bit_trainvaltest/leftImg8bit/train/strasbourg/strasbourg_000000_014584_leftImg8bit.png\n"
     ]
    },
    {
     "name": "stderr",
     "output_type": "stream",
     "text": [
      "/usr/local/lib/python3.7/site-packages/skimage/io/_io.py:142: UserWarning: ../../datasets/aurora/instagan/train/sampleA_seg/308_0.png is a boolean image: setting True to 1 and False to 0\n",
      "  warn('%s is a boolean image: setting True to 1 and False to 0' % fname)\n"
     ]
    },
    {
     "name": "stdout",
     "output_type": "stream",
     "text": [
      "Processing image ../../datasets/cityscapes-dataset/leftImg8bit_trainvaltest/leftImg8bit/train/strasbourg/strasbourg_000001_049776_leftImg8bit.png\n"
     ]
    },
    {
     "name": "stderr",
     "output_type": "stream",
     "text": [
      "/usr/local/lib/python3.7/site-packages/skimage/io/_io.py:142: UserWarning: ../../datasets/aurora/instagan/train/sampleA_seg/309_0.png is a boolean image: setting True to 1 and False to 0\n",
      "  warn('%s is a boolean image: setting True to 1 and False to 0' % fname)\n",
      "/usr/local/lib/python3.7/site-packages/skimage/io/_io.py:142: UserWarning: ../../datasets/aurora/instagan/train/sampleA_seg/309_1.png is a boolean image: setting True to 1 and False to 0\n",
      "  warn('%s is a boolean image: setting True to 1 and False to 0' % fname)\n"
     ]
    },
    {
     "name": "stdout",
     "output_type": "stream",
     "text": [
      "Processing image ../../datasets/cityscapes-dataset/leftImg8bit_trainvaltest/leftImg8bit/train/strasbourg/strasbourg_000000_030706_leftImg8bit.png\n"
     ]
    },
    {
     "name": "stderr",
     "output_type": "stream",
     "text": [
      "/usr/local/lib/python3.7/site-packages/skimage/io/_io.py:142: UserWarning: ../../datasets/aurora/instagan/train/sampleA_seg/310_0.png is a boolean image: setting True to 1 and False to 0\n",
      "  warn('%s is a boolean image: setting True to 1 and False to 0' % fname)\n"
     ]
    },
    {
     "name": "stdout",
     "output_type": "stream",
     "text": [
      "Processing image ../../datasets/cityscapes-dataset/leftImg8bit_trainvaltest/leftImg8bit/train/strasbourg/strasbourg_000000_026316_leftImg8bit.png\n"
     ]
    },
    {
     "name": "stderr",
     "output_type": "stream",
     "text": [
      "/usr/local/lib/python3.7/site-packages/skimage/io/_io.py:142: UserWarning: ../../datasets/aurora/instagan/train/sampleA_seg/311_0.png is a boolean image: setting True to 1 and False to 0\n",
      "  warn('%s is a boolean image: setting True to 1 and False to 0' % fname)\n",
      "/usr/local/lib/python3.7/site-packages/skimage/io/_io.py:140: UserWarning: ../../datasets/aurora/instagan/train/sampleA_seg/311_1.png is a low contrast image\n",
      "  warn('%s is a low contrast image' % fname)\n",
      "/usr/local/lib/python3.7/site-packages/skimage/io/_io.py:142: UserWarning: ../../datasets/aurora/instagan/train/sampleA_seg/311_1.png is a boolean image: setting True to 1 and False to 0\n",
      "  warn('%s is a boolean image: setting True to 1 and False to 0' % fname)\n",
      "/usr/local/lib/python3.7/site-packages/skimage/io/_io.py:140: UserWarning: ../../datasets/aurora/instagan/train/sampleA_seg/311_2.png is a low contrast image\n",
      "  warn('%s is a low contrast image' % fname)\n",
      "/usr/local/lib/python3.7/site-packages/skimage/io/_io.py:142: UserWarning: ../../datasets/aurora/instagan/train/sampleA_seg/311_2.png is a boolean image: setting True to 1 and False to 0\n",
      "  warn('%s is a boolean image: setting True to 1 and False to 0' % fname)\n",
      "/usr/local/lib/python3.7/site-packages/skimage/io/_io.py:140: UserWarning: ../../datasets/aurora/instagan/train/sampleA_seg/311_3.png is a low contrast image\n",
      "  warn('%s is a low contrast image' % fname)\n",
      "/usr/local/lib/python3.7/site-packages/skimage/io/_io.py:142: UserWarning: ../../datasets/aurora/instagan/train/sampleA_seg/311_3.png is a boolean image: setting True to 1 and False to 0\n",
      "  warn('%s is a boolean image: setting True to 1 and False to 0' % fname)\n"
     ]
    },
    {
     "name": "stdout",
     "output_type": "stream",
     "text": [
      "Processing image ../../datasets/cityscapes-dataset/leftImg8bit_trainvaltest/leftImg8bit/train/strasbourg/strasbourg_000001_055273_leftImg8bit.png\n"
     ]
    },
    {
     "name": "stderr",
     "output_type": "stream",
     "text": [
      "/usr/local/lib/python3.7/site-packages/skimage/io/_io.py:142: UserWarning: ../../datasets/aurora/instagan/train/sampleA_seg/312_0.png is a boolean image: setting True to 1 and False to 0\n",
      "  warn('%s is a boolean image: setting True to 1 and False to 0' % fname)\n",
      "/usr/local/lib/python3.7/site-packages/skimage/io/_io.py:142: UserWarning: ../../datasets/aurora/instagan/train/sampleA_seg/312_1.png is a boolean image: setting True to 1 and False to 0\n",
      "  warn('%s is a boolean image: setting True to 1 and False to 0' % fname)\n",
      "/usr/local/lib/python3.7/site-packages/skimage/io/_io.py:142: UserWarning: ../../datasets/aurora/instagan/train/sampleA_seg/312_2.png is a boolean image: setting True to 1 and False to 0\n",
      "  warn('%s is a boolean image: setting True to 1 and False to 0' % fname)\n",
      "/usr/local/lib/python3.7/site-packages/skimage/io/_io.py:142: UserWarning: ../../datasets/aurora/instagan/train/sampleA_seg/312_3.png is a boolean image: setting True to 1 and False to 0\n",
      "  warn('%s is a boolean image: setting True to 1 and False to 0' % fname)\n"
     ]
    },
    {
     "name": "stdout",
     "output_type": "stream",
     "text": [
      "Processing image ../../datasets/cityscapes-dataset/leftImg8bit_trainvaltest/leftImg8bit/train/strasbourg/strasbourg_000000_014503_leftImg8bit.png\n"
     ]
    },
    {
     "name": "stderr",
     "output_type": "stream",
     "text": [
      "/usr/local/lib/python3.7/site-packages/skimage/io/_io.py:142: UserWarning: ../../datasets/aurora/instagan/train/sampleA_seg/313_0.png is a boolean image: setting True to 1 and False to 0\n",
      "  warn('%s is a boolean image: setting True to 1 and False to 0' % fname)\n"
     ]
    },
    {
     "name": "stdout",
     "output_type": "stream",
     "text": [
      "Processing image ../../datasets/cityscapes-dataset/leftImg8bit_trainvaltest/leftImg8bit/train/strasbourg/strasbourg_000001_018432_leftImg8bit.png\n"
     ]
    },
    {
     "name": "stderr",
     "output_type": "stream",
     "text": [
      "/usr/local/lib/python3.7/site-packages/skimage/io/_io.py:142: UserWarning: ../../datasets/aurora/instagan/train/sampleA_seg/314_0.png is a boolean image: setting True to 1 and False to 0\n",
      "  warn('%s is a boolean image: setting True to 1 and False to 0' % fname)\n"
     ]
    },
    {
     "name": "stdout",
     "output_type": "stream",
     "text": [
      "Processing image ../../datasets/cityscapes-dataset/leftImg8bit_trainvaltest/leftImg8bit/train/strasbourg/strasbourg_000001_037776_leftImg8bit.png\n"
     ]
    },
    {
     "name": "stderr",
     "output_type": "stream",
     "text": [
      "/usr/local/lib/python3.7/site-packages/skimage/io/_io.py:142: UserWarning: ../../datasets/aurora/instagan/train/sampleA_seg/315_0.png is a boolean image: setting True to 1 and False to 0\n",
      "  warn('%s is a boolean image: setting True to 1 and False to 0' % fname)\n"
     ]
    },
    {
     "name": "stdout",
     "output_type": "stream",
     "text": [
      "Processing image ../../datasets/cityscapes-dataset/leftImg8bit_trainvaltest/leftImg8bit/train/strasbourg/strasbourg_000001_047755_leftImg8bit.png\n"
     ]
    },
    {
     "name": "stderr",
     "output_type": "stream",
     "text": [
      "/usr/local/lib/python3.7/site-packages/skimage/io/_io.py:142: UserWarning: ../../datasets/aurora/instagan/train/sampleA_seg/316_0.png is a boolean image: setting True to 1 and False to 0\n",
      "  warn('%s is a boolean image: setting True to 1 and False to 0' % fname)\n"
     ]
    },
    {
     "name": "stdout",
     "output_type": "stream",
     "text": [
      "Processing image ../../datasets/cityscapes-dataset/leftImg8bit_trainvaltest/leftImg8bit/train/strasbourg/strasbourg_000001_054639_leftImg8bit.png\n"
     ]
    },
    {
     "name": "stderr",
     "output_type": "stream",
     "text": [
      "/usr/local/lib/python3.7/site-packages/skimage/io/_io.py:142: UserWarning: ../../datasets/aurora/instagan/train/sampleA_seg/317_0.png is a boolean image: setting True to 1 and False to 0\n",
      "  warn('%s is a boolean image: setting True to 1 and False to 0' % fname)\n",
      "/usr/local/lib/python3.7/site-packages/skimage/io/_io.py:142: UserWarning: ../../datasets/aurora/instagan/train/sampleA_seg/317_1.png is a boolean image: setting True to 1 and False to 0\n",
      "  warn('%s is a boolean image: setting True to 1 and False to 0' % fname)\n",
      "/usr/local/lib/python3.7/site-packages/skimage/io/_io.py:142: UserWarning: ../../datasets/aurora/instagan/train/sampleA_seg/317_2.png is a boolean image: setting True to 1 and False to 0\n",
      "  warn('%s is a boolean image: setting True to 1 and False to 0' % fname)\n"
     ]
    },
    {
     "name": "stdout",
     "output_type": "stream",
     "text": [
      "Processing image ../../datasets/cityscapes-dataset/leftImg8bit_trainvaltest/leftImg8bit/train/strasbourg/strasbourg_000000_023854_leftImg8bit.png\n"
     ]
    },
    {
     "name": "stderr",
     "output_type": "stream",
     "text": [
      "/usr/local/lib/python3.7/site-packages/skimage/io/_io.py:142: UserWarning: ../../datasets/aurora/instagan/train/sampleA_seg/318_0.png is a boolean image: setting True to 1 and False to 0\n",
      "  warn('%s is a boolean image: setting True to 1 and False to 0' % fname)\n"
     ]
    },
    {
     "name": "stdout",
     "output_type": "stream",
     "text": [
      "Processing image ../../datasets/cityscapes-dataset/leftImg8bit_trainvaltest/leftImg8bit/train/strasbourg/strasbourg_000001_008310_leftImg8bit.png\n"
     ]
    },
    {
     "name": "stderr",
     "output_type": "stream",
     "text": [
      "/usr/local/lib/python3.7/site-packages/skimage/io/_io.py:142: UserWarning: ../../datasets/aurora/instagan/train/sampleA_seg/319_0.png is a boolean image: setting True to 1 and False to 0\n",
      "  warn('%s is a boolean image: setting True to 1 and False to 0' % fname)\n",
      "/usr/local/lib/python3.7/site-packages/skimage/io/_io.py:142: UserWarning: ../../datasets/aurora/instagan/train/sampleA_seg/319_1.png is a boolean image: setting True to 1 and False to 0\n",
      "  warn('%s is a boolean image: setting True to 1 and False to 0' % fname)\n"
     ]
    },
    {
     "name": "stdout",
     "output_type": "stream",
     "text": [
      "Processing image ../../datasets/cityscapes-dataset/leftImg8bit_trainvaltest/leftImg8bit/train/strasbourg/strasbourg_000000_023064_leftImg8bit.png\n"
     ]
    },
    {
     "name": "stderr",
     "output_type": "stream",
     "text": [
      "/usr/local/lib/python3.7/site-packages/skimage/io/_io.py:142: UserWarning: ../../datasets/aurora/instagan/train/sampleA_seg/320_0.png is a boolean image: setting True to 1 and False to 0\n",
      "  warn('%s is a boolean image: setting True to 1 and False to 0' % fname)\n"
     ]
    },
    {
     "name": "stdout",
     "output_type": "stream",
     "text": [
      "Processing image ../../datasets/cityscapes-dataset/leftImg8bit_trainvaltest/leftImg8bit/train/strasbourg/strasbourg_000001_031427_leftImg8bit.png\n"
     ]
    },
    {
     "name": "stderr",
     "output_type": "stream",
     "text": [
      "/usr/local/lib/python3.7/site-packages/skimage/io/_io.py:142: UserWarning: ../../datasets/aurora/instagan/train/sampleA_seg/321_0.png is a boolean image: setting True to 1 and False to 0\n",
      "  warn('%s is a boolean image: setting True to 1 and False to 0' % fname)\n"
     ]
    },
    {
     "name": "stdout",
     "output_type": "stream",
     "text": [
      "Processing image ../../datasets/cityscapes-dataset/leftImg8bit_trainvaltest/leftImg8bit/train/strasbourg/strasbourg_000000_002553_leftImg8bit.png\n"
     ]
    },
    {
     "name": "stderr",
     "output_type": "stream",
     "text": [
      "/usr/local/lib/python3.7/site-packages/skimage/io/_io.py:142: UserWarning: ../../datasets/aurora/instagan/train/sampleA_seg/322_0.png is a boolean image: setting True to 1 and False to 0\n",
      "  warn('%s is a boolean image: setting True to 1 and False to 0' % fname)\n",
      "/usr/local/lib/python3.7/site-packages/skimage/io/_io.py:142: UserWarning: ../../datasets/aurora/instagan/train/sampleA_seg/322_1.png is a boolean image: setting True to 1 and False to 0\n",
      "  warn('%s is a boolean image: setting True to 1 and False to 0' % fname)\n"
     ]
    },
    {
     "name": "stdout",
     "output_type": "stream",
     "text": [
      "Processing image ../../datasets/cityscapes-dataset/leftImg8bit_trainvaltest/leftImg8bit/train/strasbourg/strasbourg_000001_045135_leftImg8bit.png\n"
     ]
    },
    {
     "name": "stderr",
     "output_type": "stream",
     "text": [
      "/usr/local/lib/python3.7/site-packages/skimage/io/_io.py:142: UserWarning: ../../datasets/aurora/instagan/train/sampleA_seg/323_0.png is a boolean image: setting True to 1 and False to 0\n",
      "  warn('%s is a boolean image: setting True to 1 and False to 0' % fname)\n",
      "/usr/local/lib/python3.7/site-packages/skimage/io/_io.py:142: UserWarning: ../../datasets/aurora/instagan/train/sampleA_seg/323_1.png is a boolean image: setting True to 1 and False to 0\n",
      "  warn('%s is a boolean image: setting True to 1 and False to 0' % fname)\n"
     ]
    },
    {
     "name": "stdout",
     "output_type": "stream",
     "text": [
      "Processing image ../../datasets/cityscapes-dataset/leftImg8bit_trainvaltest/leftImg8bit/train/strasbourg/strasbourg_000000_013322_leftImg8bit.png\n"
     ]
    },
    {
     "name": "stderr",
     "output_type": "stream",
     "text": [
      "/usr/local/lib/python3.7/site-packages/skimage/io/_io.py:142: UserWarning: ../../datasets/aurora/instagan/train/sampleA_seg/324_0.png is a boolean image: setting True to 1 and False to 0\n",
      "  warn('%s is a boolean image: setting True to 1 and False to 0' % fname)\n"
     ]
    },
    {
     "name": "stdout",
     "output_type": "stream",
     "text": [
      "Processing image ../../datasets/cityscapes-dataset/leftImg8bit_trainvaltest/leftImg8bit/train/strasbourg/strasbourg_000001_024379_leftImg8bit.png\n"
     ]
    },
    {
     "name": "stderr",
     "output_type": "stream",
     "text": [
      "/usr/local/lib/python3.7/site-packages/skimage/io/_io.py:142: UserWarning: ../../datasets/aurora/instagan/train/sampleA_seg/325_0.png is a boolean image: setting True to 1 and False to 0\n",
      "  warn('%s is a boolean image: setting True to 1 and False to 0' % fname)\n",
      "/usr/local/lib/python3.7/site-packages/skimage/io/_io.py:142: UserWarning: ../../datasets/aurora/instagan/train/sampleA_seg/325_1.png is a boolean image: setting True to 1 and False to 0\n",
      "  warn('%s is a boolean image: setting True to 1 and False to 0' % fname)\n"
     ]
    },
    {
     "name": "stdout",
     "output_type": "stream",
     "text": [
      "Processing image ../../datasets/cityscapes-dataset/leftImg8bit_trainvaltest/leftImg8bit/train/strasbourg/strasbourg_000001_058954_leftImg8bit.png\n"
     ]
    },
    {
     "name": "stderr",
     "output_type": "stream",
     "text": [
      "/usr/local/lib/python3.7/site-packages/skimage/io/_io.py:142: UserWarning: ../../datasets/aurora/instagan/train/sampleA_seg/326_0.png is a boolean image: setting True to 1 and False to 0\n",
      "  warn('%s is a boolean image: setting True to 1 and False to 0' % fname)\n",
      "/usr/local/lib/python3.7/site-packages/skimage/io/_io.py:142: UserWarning: ../../datasets/aurora/instagan/train/sampleA_seg/326_1.png is a boolean image: setting True to 1 and False to 0\n",
      "  warn('%s is a boolean image: setting True to 1 and False to 0' % fname)\n",
      "/usr/local/lib/python3.7/site-packages/skimage/io/_io.py:142: UserWarning: ../../datasets/aurora/instagan/train/sampleA_seg/326_2.png is a boolean image: setting True to 1 and False to 0\n",
      "  warn('%s is a boolean image: setting True to 1 and False to 0' % fname)\n",
      "/usr/local/lib/python3.7/site-packages/skimage/io/_io.py:140: UserWarning: ../../datasets/aurora/instagan/train/sampleA_seg/326_3.png is a low contrast image\n",
      "  warn('%s is a low contrast image' % fname)\n",
      "/usr/local/lib/python3.7/site-packages/skimage/io/_io.py:142: UserWarning: ../../datasets/aurora/instagan/train/sampleA_seg/326_3.png is a boolean image: setting True to 1 and False to 0\n",
      "  warn('%s is a boolean image: setting True to 1 and False to 0' % fname)\n"
     ]
    },
    {
     "name": "stdout",
     "output_type": "stream",
     "text": [
      "Processing image ../../datasets/cityscapes-dataset/leftImg8bit_trainvaltest/leftImg8bit/train/strasbourg/strasbourg_000000_033838_leftImg8bit.png\n"
     ]
    },
    {
     "name": "stderr",
     "output_type": "stream",
     "text": [
      "/usr/local/lib/python3.7/site-packages/skimage/io/_io.py:142: UserWarning: ../../datasets/aurora/instagan/train/sampleA_seg/327_0.png is a boolean image: setting True to 1 and False to 0\n",
      "  warn('%s is a boolean image: setting True to 1 and False to 0' % fname)\n"
     ]
    },
    {
     "name": "stdout",
     "output_type": "stream",
     "text": [
      "Processing image ../../datasets/cityscapes-dataset/leftImg8bit_trainvaltest/leftImg8bit/train/strasbourg/strasbourg_000001_001901_leftImg8bit.png\n"
     ]
    },
    {
     "name": "stderr",
     "output_type": "stream",
     "text": [
      "/usr/local/lib/python3.7/site-packages/skimage/io/_io.py:142: UserWarning: ../../datasets/aurora/instagan/train/sampleA_seg/328_0.png is a boolean image: setting True to 1 and False to 0\n",
      "  warn('%s is a boolean image: setting True to 1 and False to 0' % fname)\n"
     ]
    },
    {
     "name": "stdout",
     "output_type": "stream",
     "text": [
      "Processing image ../../datasets/cityscapes-dataset/leftImg8bit_trainvaltest/leftImg8bit/train/strasbourg/strasbourg_000001_052198_leftImg8bit.png\n"
     ]
    },
    {
     "name": "stderr",
     "output_type": "stream",
     "text": [
      "/usr/local/lib/python3.7/site-packages/skimage/io/_io.py:142: UserWarning: ../../datasets/aurora/instagan/train/sampleA_seg/329_0.png is a boolean image: setting True to 1 and False to 0\n",
      "  warn('%s is a boolean image: setting True to 1 and False to 0' % fname)\n"
     ]
    },
    {
     "name": "stdout",
     "output_type": "stream",
     "text": [
      "Processing image ../../datasets/cityscapes-dataset/leftImg8bit_trainvaltest/leftImg8bit/train/strasbourg/strasbourg_000001_051934_leftImg8bit.png\n"
     ]
    },
    {
     "name": "stderr",
     "output_type": "stream",
     "text": [
      "/usr/local/lib/python3.7/site-packages/skimage/io/_io.py:142: UserWarning: ../../datasets/aurora/instagan/train/sampleA_seg/330_0.png is a boolean image: setting True to 1 and False to 0\n",
      "  warn('%s is a boolean image: setting True to 1 and False to 0' % fname)\n",
      "/usr/local/lib/python3.7/site-packages/skimage/io/_io.py:142: UserWarning: ../../datasets/aurora/instagan/train/sampleA_seg/330_1.png is a boolean image: setting True to 1 and False to 0\n",
      "  warn('%s is a boolean image: setting True to 1 and False to 0' % fname)\n"
     ]
    },
    {
     "name": "stdout",
     "output_type": "stream",
     "text": [
      "Processing image ../../datasets/cityscapes-dataset/leftImg8bit_trainvaltest/leftImg8bit/train/strasbourg/strasbourg_000000_017761_leftImg8bit.png\n"
     ]
    },
    {
     "name": "stderr",
     "output_type": "stream",
     "text": [
      "/usr/local/lib/python3.7/site-packages/skimage/io/_io.py:142: UserWarning: ../../datasets/aurora/instagan/train/sampleA_seg/331_0.png is a boolean image: setting True to 1 and False to 0\n",
      "  warn('%s is a boolean image: setting True to 1 and False to 0' % fname)\n"
     ]
    },
    {
     "name": "stdout",
     "output_type": "stream",
     "text": [
      "Processing image ../../datasets/cityscapes-dataset/leftImg8bit_trainvaltest/leftImg8bit/train/strasbourg/strasbourg_000001_040981_leftImg8bit.png\n"
     ]
    },
    {
     "name": "stderr",
     "output_type": "stream",
     "text": [
      "/usr/local/lib/python3.7/site-packages/skimage/io/_io.py:142: UserWarning: ../../datasets/aurora/instagan/train/sampleA_seg/332_0.png is a boolean image: setting True to 1 and False to 0\n",
      "  warn('%s is a boolean image: setting True to 1 and False to 0' % fname)\n"
     ]
    },
    {
     "name": "stdout",
     "output_type": "stream",
     "text": [
      "Processing image ../../datasets/cityscapes-dataset/leftImg8bit_trainvaltest/leftImg8bit/train/strasbourg/strasbourg_000001_007864_leftImg8bit.png\n"
     ]
    },
    {
     "name": "stderr",
     "output_type": "stream",
     "text": [
      "/usr/local/lib/python3.7/site-packages/skimage/io/_io.py:142: UserWarning: ../../datasets/aurora/instagan/train/sampleA_seg/333_0.png is a boolean image: setting True to 1 and False to 0\n",
      "  warn('%s is a boolean image: setting True to 1 and False to 0' % fname)\n",
      "/usr/local/lib/python3.7/site-packages/skimage/io/_io.py:142: UserWarning: ../../datasets/aurora/instagan/train/sampleA_seg/333_1.png is a boolean image: setting True to 1 and False to 0\n",
      "  warn('%s is a boolean image: setting True to 1 and False to 0' % fname)\n",
      "/usr/local/lib/python3.7/site-packages/skimage/io/_io.py:140: UserWarning: ../../datasets/aurora/instagan/train/sampleA_seg/333_2.png is a low contrast image\n",
      "  warn('%s is a low contrast image' % fname)\n",
      "/usr/local/lib/python3.7/site-packages/skimage/io/_io.py:142: UserWarning: ../../datasets/aurora/instagan/train/sampleA_seg/333_2.png is a boolean image: setting True to 1 and False to 0\n",
      "  warn('%s is a boolean image: setting True to 1 and False to 0' % fname)\n"
     ]
    },
    {
     "name": "stdout",
     "output_type": "stream",
     "text": [
      "Processing image ../../datasets/cityscapes-dataset/leftImg8bit_trainvaltest/leftImg8bit/train/strasbourg/strasbourg_000000_006264_leftImg8bit.png\n"
     ]
    },
    {
     "name": "stderr",
     "output_type": "stream",
     "text": [
      "/usr/local/lib/python3.7/site-packages/skimage/io/_io.py:142: UserWarning: ../../datasets/aurora/instagan/train/sampleA_seg/334_0.png is a boolean image: setting True to 1 and False to 0\n",
      "  warn('%s is a boolean image: setting True to 1 and False to 0' % fname)\n",
      "/usr/local/lib/python3.7/site-packages/skimage/io/_io.py:140: UserWarning: ../../datasets/aurora/instagan/train/sampleA_seg/334_1.png is a low contrast image\n",
      "  warn('%s is a low contrast image' % fname)\n",
      "/usr/local/lib/python3.7/site-packages/skimage/io/_io.py:142: UserWarning: ../../datasets/aurora/instagan/train/sampleA_seg/334_1.png is a boolean image: setting True to 1 and False to 0\n",
      "  warn('%s is a boolean image: setting True to 1 and False to 0' % fname)\n"
     ]
    },
    {
     "name": "stdout",
     "output_type": "stream",
     "text": [
      "Processing image ../../datasets/cityscapes-dataset/leftImg8bit_trainvaltest/leftImg8bit/train/strasbourg/strasbourg_000000_004112_leftImg8bit.png\n"
     ]
    },
    {
     "name": "stderr",
     "output_type": "stream",
     "text": [
      "/usr/local/lib/python3.7/site-packages/skimage/io/_io.py:140: UserWarning: ../../datasets/aurora/instagan/train/sampleA_seg/335_0.png is a low contrast image\n",
      "  warn('%s is a low contrast image' % fname)\n",
      "/usr/local/lib/python3.7/site-packages/skimage/io/_io.py:142: UserWarning: ../../datasets/aurora/instagan/train/sampleA_seg/335_0.png is a boolean image: setting True to 1 and False to 0\n",
      "  warn('%s is a boolean image: setting True to 1 and False to 0' % fname)\n",
      "/usr/local/lib/python3.7/site-packages/skimage/io/_io.py:142: UserWarning: ../../datasets/aurora/instagan/train/sampleA_seg/335_1.png is a boolean image: setting True to 1 and False to 0\n",
      "  warn('%s is a boolean image: setting True to 1 and False to 0' % fname)\n",
      "/usr/local/lib/python3.7/site-packages/skimage/io/_io.py:140: UserWarning: ../../datasets/aurora/instagan/train/sampleA_seg/335_2.png is a low contrast image\n",
      "  warn('%s is a low contrast image' % fname)\n",
      "/usr/local/lib/python3.7/site-packages/skimage/io/_io.py:142: UserWarning: ../../datasets/aurora/instagan/train/sampleA_seg/335_2.png is a boolean image: setting True to 1 and False to 0\n",
      "  warn('%s is a boolean image: setting True to 1 and False to 0' % fname)\n",
      "/usr/local/lib/python3.7/site-packages/skimage/io/_io.py:142: UserWarning: ../../datasets/aurora/instagan/train/sampleA_seg/335_3.png is a boolean image: setting True to 1 and False to 0\n",
      "  warn('%s is a boolean image: setting True to 1 and False to 0' % fname)\n",
      "/usr/local/lib/python3.7/site-packages/skimage/io/_io.py:140: UserWarning: ../../datasets/aurora/instagan/train/sampleA_seg/335_4.png is a low contrast image\n",
      "  warn('%s is a low contrast image' % fname)\n",
      "/usr/local/lib/python3.7/site-packages/skimage/io/_io.py:142: UserWarning: ../../datasets/aurora/instagan/train/sampleA_seg/335_4.png is a boolean image: setting True to 1 and False to 0\n",
      "  warn('%s is a boolean image: setting True to 1 and False to 0' % fname)\n"
     ]
    },
    {
     "name": "stdout",
     "output_type": "stream",
     "text": [
      "Processing image ../../datasets/cityscapes-dataset/leftImg8bit_trainvaltest/leftImg8bit/train/strasbourg/strasbourg_000001_034923_leftImg8bit.png\n"
     ]
    },
    {
     "name": "stderr",
     "output_type": "stream",
     "text": [
      "/usr/local/lib/python3.7/site-packages/skimage/io/_io.py:142: UserWarning: ../../datasets/aurora/instagan/train/sampleA_seg/336_0.png is a boolean image: setting True to 1 and False to 0\n",
      "  warn('%s is a boolean image: setting True to 1 and False to 0' % fname)\n"
     ]
    },
    {
     "name": "stdout",
     "output_type": "stream",
     "text": [
      "Processing image ../../datasets/cityscapes-dataset/leftImg8bit_trainvaltest/leftImg8bit/train/strasbourg/strasbourg_000001_051661_leftImg8bit.png\n"
     ]
    },
    {
     "name": "stderr",
     "output_type": "stream",
     "text": [
      "/usr/local/lib/python3.7/site-packages/skimage/io/_io.py:142: UserWarning: ../../datasets/aurora/instagan/train/sampleA_seg/337_0.png is a boolean image: setting True to 1 and False to 0\n",
      "  warn('%s is a boolean image: setting True to 1 and False to 0' % fname)\n"
     ]
    },
    {
     "name": "stdout",
     "output_type": "stream",
     "text": [
      "Processing image ../../datasets/cityscapes-dataset/leftImg8bit_trainvaltest/leftImg8bit/train/strasbourg/strasbourg_000001_052497_leftImg8bit.png\n"
     ]
    },
    {
     "name": "stderr",
     "output_type": "stream",
     "text": [
      "/usr/local/lib/python3.7/site-packages/skimage/io/_io.py:142: UserWarning: ../../datasets/aurora/instagan/train/sampleA_seg/338_0.png is a boolean image: setting True to 1 and False to 0\n",
      "  warn('%s is a boolean image: setting True to 1 and False to 0' % fname)\n"
     ]
    },
    {
     "name": "stdout",
     "output_type": "stream",
     "text": [
      "Processing image ../../datasets/cityscapes-dataset/leftImg8bit_trainvaltest/leftImg8bit/train/strasbourg/strasbourg_000001_019698_leftImg8bit.png\n"
     ]
    },
    {
     "name": "stderr",
     "output_type": "stream",
     "text": [
      "/usr/local/lib/python3.7/site-packages/skimage/io/_io.py:142: UserWarning: ../../datasets/aurora/instagan/train/sampleA_seg/339_0.png is a boolean image: setting True to 1 and False to 0\n",
      "  warn('%s is a boolean image: setting True to 1 and False to 0' % fname)\n"
     ]
    },
    {
     "name": "stdout",
     "output_type": "stream",
     "text": [
      "Processing image ../../datasets/cityscapes-dataset/leftImg8bit_trainvaltest/leftImg8bit/train/strasbourg/strasbourg_000001_022560_leftImg8bit.png\n"
     ]
    },
    {
     "name": "stderr",
     "output_type": "stream",
     "text": [
      "/usr/local/lib/python3.7/site-packages/skimage/io/_io.py:140: UserWarning: ../../datasets/aurora/instagan/train/sampleA_seg/340_0.png is a low contrast image\n",
      "  warn('%s is a low contrast image' % fname)\n",
      "/usr/local/lib/python3.7/site-packages/skimage/io/_io.py:142: UserWarning: ../../datasets/aurora/instagan/train/sampleA_seg/340_0.png is a boolean image: setting True to 1 and False to 0\n",
      "  warn('%s is a boolean image: setting True to 1 and False to 0' % fname)\n"
     ]
    },
    {
     "name": "stdout",
     "output_type": "stream",
     "text": [
      "Processing image ../../datasets/cityscapes-dataset/leftImg8bit_trainvaltest/leftImg8bit/train/strasbourg/strasbourg_000001_036937_leftImg8bit.png\n"
     ]
    },
    {
     "name": "stderr",
     "output_type": "stream",
     "text": [
      "/usr/local/lib/python3.7/site-packages/skimage/io/_io.py:142: UserWarning: ../../datasets/aurora/instagan/train/sampleA_seg/341_0.png is a boolean image: setting True to 1 and False to 0\n",
      "  warn('%s is a boolean image: setting True to 1 and False to 0' % fname)\n"
     ]
    },
    {
     "name": "stdout",
     "output_type": "stream",
     "text": [
      "Processing image ../../datasets/cityscapes-dataset/leftImg8bit_trainvaltest/leftImg8bit/train/strasbourg/strasbourg_000001_020904_leftImg8bit.png\n"
     ]
    },
    {
     "name": "stderr",
     "output_type": "stream",
     "text": [
      "/usr/local/lib/python3.7/site-packages/skimage/io/_io.py:140: UserWarning: ../../datasets/aurora/instagan/train/sampleA_seg/342_0.png is a low contrast image\n",
      "  warn('%s is a low contrast image' % fname)\n",
      "/usr/local/lib/python3.7/site-packages/skimage/io/_io.py:142: UserWarning: ../../datasets/aurora/instagan/train/sampleA_seg/342_0.png is a boolean image: setting True to 1 and False to 0\n",
      "  warn('%s is a boolean image: setting True to 1 and False to 0' % fname)\n"
     ]
    },
    {
     "name": "stdout",
     "output_type": "stream",
     "text": [
      "Processing image ../../datasets/cityscapes-dataset/leftImg8bit_trainvaltest/leftImg8bit/train/strasbourg/strasbourg_000001_002081_leftImg8bit.png\n"
     ]
    },
    {
     "name": "stderr",
     "output_type": "stream",
     "text": [
      "/usr/local/lib/python3.7/site-packages/skimage/io/_io.py:142: UserWarning: ../../datasets/aurora/instagan/train/sampleA_seg/343_0.png is a boolean image: setting True to 1 and False to 0\n",
      "  warn('%s is a boolean image: setting True to 1 and False to 0' % fname)\n"
     ]
    },
    {
     "name": "stdout",
     "output_type": "stream",
     "text": [
      "Processing image ../../datasets/cityscapes-dataset/leftImg8bit_trainvaltest/leftImg8bit/train/strasbourg/strasbourg_000000_015506_leftImg8bit.png\n"
     ]
    },
    {
     "name": "stderr",
     "output_type": "stream",
     "text": [
      "/usr/local/lib/python3.7/site-packages/skimage/io/_io.py:142: UserWarning: ../../datasets/aurora/instagan/train/sampleA_seg/344_0.png is a boolean image: setting True to 1 and False to 0\n",
      "  warn('%s is a boolean image: setting True to 1 and False to 0' % fname)\n",
      "/usr/local/lib/python3.7/site-packages/skimage/io/_io.py:140: UserWarning: ../../datasets/aurora/instagan/train/sampleA_seg/344_1.png is a low contrast image\n",
      "  warn('%s is a low contrast image' % fname)\n",
      "/usr/local/lib/python3.7/site-packages/skimage/io/_io.py:142: UserWarning: ../../datasets/aurora/instagan/train/sampleA_seg/344_1.png is a boolean image: setting True to 1 and False to 0\n",
      "  warn('%s is a boolean image: setting True to 1 and False to 0' % fname)\n"
     ]
    },
    {
     "name": "stdout",
     "output_type": "stream",
     "text": [
      "Processing image ../../datasets/cityscapes-dataset/leftImg8bit_trainvaltest/leftImg8bit/train/strasbourg/strasbourg_000000_034097_leftImg8bit.png\n"
     ]
    },
    {
     "name": "stderr",
     "output_type": "stream",
     "text": [
      "/usr/local/lib/python3.7/site-packages/skimage/io/_io.py:140: UserWarning: ../../datasets/aurora/instagan/train/sampleA_seg/345_0.png is a low contrast image\n",
      "  warn('%s is a low contrast image' % fname)\n",
      "/usr/local/lib/python3.7/site-packages/skimage/io/_io.py:142: UserWarning: ../../datasets/aurora/instagan/train/sampleA_seg/345_0.png is a boolean image: setting True to 1 and False to 0\n",
      "  warn('%s is a boolean image: setting True to 1 and False to 0' % fname)\n"
     ]
    },
    {
     "name": "stdout",
     "output_type": "stream",
     "text": [
      "Processing image ../../datasets/cityscapes-dataset/leftImg8bit_trainvaltest/leftImg8bit/train/strasbourg/strasbourg_000001_045880_leftImg8bit.png\n"
     ]
    },
    {
     "name": "stderr",
     "output_type": "stream",
     "text": [
      "/usr/local/lib/python3.7/site-packages/skimage/io/_io.py:142: UserWarning: ../../datasets/aurora/instagan/train/sampleA_seg/346_0.png is a boolean image: setting True to 1 and False to 0\n",
      "  warn('%s is a boolean image: setting True to 1 and False to 0' % fname)\n",
      "/usr/local/lib/python3.7/site-packages/skimage/io/_io.py:140: UserWarning: ../../datasets/aurora/instagan/train/sampleA_seg/346_1.png is a low contrast image\n",
      "  warn('%s is a low contrast image' % fname)\n",
      "/usr/local/lib/python3.7/site-packages/skimage/io/_io.py:142: UserWarning: ../../datasets/aurora/instagan/train/sampleA_seg/346_1.png is a boolean image: setting True to 1 and False to 0\n",
      "  warn('%s is a boolean image: setting True to 1 and False to 0' % fname)\n"
     ]
    },
    {
     "name": "stdout",
     "output_type": "stream",
     "text": [
      "Processing image ../../datasets/cityscapes-dataset/leftImg8bit_trainvaltest/leftImg8bit/train/strasbourg/strasbourg_000000_006106_leftImg8bit.png\n"
     ]
    },
    {
     "name": "stderr",
     "output_type": "stream",
     "text": [
      "/usr/local/lib/python3.7/site-packages/skimage/io/_io.py:142: UserWarning: ../../datasets/aurora/instagan/train/sampleA_seg/347_0.png is a boolean image: setting True to 1 and False to 0\n",
      "  warn('%s is a boolean image: setting True to 1 and False to 0' % fname)\n"
     ]
    },
    {
     "name": "stdout",
     "output_type": "stream",
     "text": [
      "Processing image ../../datasets/cityscapes-dataset/leftImg8bit_trainvaltest/leftImg8bit/train/strasbourg/strasbourg_000000_021231_leftImg8bit.png\n"
     ]
    },
    {
     "name": "stderr",
     "output_type": "stream",
     "text": [
      "/usr/local/lib/python3.7/site-packages/skimage/io/_io.py:142: UserWarning: ../../datasets/aurora/instagan/train/sampleA_seg/348_0.png is a boolean image: setting True to 1 and False to 0\n",
      "  warn('%s is a boolean image: setting True to 1 and False to 0' % fname)\n",
      "/usr/local/lib/python3.7/site-packages/skimage/io/_io.py:142: UserWarning: ../../datasets/aurora/instagan/train/sampleA_seg/348_1.png is a boolean image: setting True to 1 and False to 0\n",
      "  warn('%s is a boolean image: setting True to 1 and False to 0' % fname)\n"
     ]
    },
    {
     "name": "stdout",
     "output_type": "stream",
     "text": [
      "Processing image ../../datasets/cityscapes-dataset/leftImg8bit_trainvaltest/leftImg8bit/train/strasbourg/strasbourg_000000_030435_leftImg8bit.png\n"
     ]
    },
    {
     "name": "stderr",
     "output_type": "stream",
     "text": [
      "/usr/local/lib/python3.7/site-packages/skimage/io/_io.py:142: UserWarning: ../../datasets/aurora/instagan/train/sampleA_seg/349_0.png is a boolean image: setting True to 1 and False to 0\n",
      "  warn('%s is a boolean image: setting True to 1 and False to 0' % fname)\n"
     ]
    },
    {
     "name": "stdout",
     "output_type": "stream",
     "text": [
      "Processing image ../../datasets/cityscapes-dataset/leftImg8bit_trainvaltest/leftImg8bit/train/strasbourg/strasbourg_000001_057191_leftImg8bit.png\n"
     ]
    },
    {
     "name": "stderr",
     "output_type": "stream",
     "text": [
      "/usr/local/lib/python3.7/site-packages/skimage/io/_io.py:142: UserWarning: ../../datasets/aurora/instagan/train/sampleA_seg/350_0.png is a boolean image: setting True to 1 and False to 0\n",
      "  warn('%s is a boolean image: setting True to 1 and False to 0' % fname)\n",
      "/usr/local/lib/python3.7/site-packages/skimage/io/_io.py:142: UserWarning: ../../datasets/aurora/instagan/train/sampleA_seg/350_1.png is a boolean image: setting True to 1 and False to 0\n",
      "  warn('%s is a boolean image: setting True to 1 and False to 0' % fname)\n",
      "/usr/local/lib/python3.7/site-packages/skimage/io/_io.py:142: UserWarning: ../../datasets/aurora/instagan/train/sampleA_seg/350_2.png is a boolean image: setting True to 1 and False to 0\n",
      "  warn('%s is a boolean image: setting True to 1 and False to 0' % fname)\n"
     ]
    },
    {
     "name": "stdout",
     "output_type": "stream",
     "text": [
      "Processing image ../../datasets/cityscapes-dataset/leftImg8bit_trainvaltest/leftImg8bit/train/strasbourg/strasbourg_000001_062691_leftImg8bit.png\n"
     ]
    },
    {
     "name": "stderr",
     "output_type": "stream",
     "text": [
      "/usr/local/lib/python3.7/site-packages/skimage/io/_io.py:142: UserWarning: ../../datasets/aurora/instagan/train/sampleA_seg/351_0.png is a boolean image: setting True to 1 and False to 0\n",
      "  warn('%s is a boolean image: setting True to 1 and False to 0' % fname)\n",
      "/usr/local/lib/python3.7/site-packages/skimage/io/_io.py:140: UserWarning: ../../datasets/aurora/instagan/train/sampleA_seg/351_1.png is a low contrast image\n",
      "  warn('%s is a low contrast image' % fname)\n",
      "/usr/local/lib/python3.7/site-packages/skimage/io/_io.py:142: UserWarning: ../../datasets/aurora/instagan/train/sampleA_seg/351_1.png is a boolean image: setting True to 1 and False to 0\n",
      "  warn('%s is a boolean image: setting True to 1 and False to 0' % fname)\n",
      "/usr/local/lib/python3.7/site-packages/skimage/io/_io.py:142: UserWarning: ../../datasets/aurora/instagan/train/sampleA_seg/351_2.png is a boolean image: setting True to 1 and False to 0\n",
      "  warn('%s is a boolean image: setting True to 1 and False to 0' % fname)\n"
     ]
    },
    {
     "name": "stdout",
     "output_type": "stream",
     "text": [
      "Processing image ../../datasets/cityscapes-dataset/leftImg8bit_trainvaltest/leftImg8bit/train/strasbourg/strasbourg_000000_017081_leftImg8bit.png\n"
     ]
    },
    {
     "name": "stderr",
     "output_type": "stream",
     "text": [
      "/usr/local/lib/python3.7/site-packages/skimage/io/_io.py:142: UserWarning: ../../datasets/aurora/instagan/train/sampleA_seg/352_0.png is a boolean image: setting True to 1 and False to 0\n",
      "  warn('%s is a boolean image: setting True to 1 and False to 0' % fname)\n"
     ]
    },
    {
     "name": "stdout",
     "output_type": "stream",
     "text": [
      "Processing image ../../datasets/cityscapes-dataset/leftImg8bit_trainvaltest/leftImg8bit/train/strasbourg/strasbourg_000000_016311_leftImg8bit.png\n"
     ]
    },
    {
     "name": "stderr",
     "output_type": "stream",
     "text": [
      "/usr/local/lib/python3.7/site-packages/skimage/io/_io.py:142: UserWarning: ../../datasets/aurora/instagan/train/sampleA_seg/353_0.png is a boolean image: setting True to 1 and False to 0\n",
      "  warn('%s is a boolean image: setting True to 1 and False to 0' % fname)\n"
     ]
    },
    {
     "name": "stdout",
     "output_type": "stream",
     "text": [
      "Processing image ../../datasets/cityscapes-dataset/leftImg8bit_trainvaltest/leftImg8bit/train/strasbourg/strasbourg_000001_026606_leftImg8bit.png\n"
     ]
    },
    {
     "name": "stderr",
     "output_type": "stream",
     "text": [
      "/usr/local/lib/python3.7/site-packages/skimage/io/_io.py:142: UserWarning: ../../datasets/aurora/instagan/train/sampleA_seg/354_0.png is a boolean image: setting True to 1 and False to 0\n",
      "  warn('%s is a boolean image: setting True to 1 and False to 0' % fname)\n",
      "/usr/local/lib/python3.7/site-packages/skimage/io/_io.py:140: UserWarning: ../../datasets/aurora/instagan/train/sampleA_seg/354_1.png is a low contrast image\n",
      "  warn('%s is a low contrast image' % fname)\n",
      "/usr/local/lib/python3.7/site-packages/skimage/io/_io.py:142: UserWarning: ../../datasets/aurora/instagan/train/sampleA_seg/354_1.png is a boolean image: setting True to 1 and False to 0\n",
      "  warn('%s is a boolean image: setting True to 1 and False to 0' % fname)\n"
     ]
    },
    {
     "name": "stdout",
     "output_type": "stream",
     "text": [
      "Processing image ../../datasets/cityscapes-dataset/leftImg8bit_trainvaltest/leftImg8bit/train/strasbourg/strasbourg_000000_012070_leftImg8bit.png\n"
     ]
    },
    {
     "name": "stderr",
     "output_type": "stream",
     "text": [
      "/usr/local/lib/python3.7/site-packages/skimage/io/_io.py:142: UserWarning: ../../datasets/aurora/instagan/train/sampleA_seg/355_0.png is a boolean image: setting True to 1 and False to 0\n",
      "  warn('%s is a boolean image: setting True to 1 and False to 0' % fname)\n"
     ]
    },
    {
     "name": "stdout",
     "output_type": "stream",
     "text": [
      "Processing image ../../datasets/cityscapes-dataset/leftImg8bit_trainvaltest/leftImg8bit/train/strasbourg/strasbourg_000001_039231_leftImg8bit.png\n"
     ]
    },
    {
     "name": "stderr",
     "output_type": "stream",
     "text": [
      "/usr/local/lib/python3.7/site-packages/skimage/io/_io.py:142: UserWarning: ../../datasets/aurora/instagan/train/sampleA_seg/356_0.png is a boolean image: setting True to 1 and False to 0\n",
      "  warn('%s is a boolean image: setting True to 1 and False to 0' % fname)\n"
     ]
    },
    {
     "name": "stdout",
     "output_type": "stream",
     "text": [
      "Processing image ../../datasets/cityscapes-dataset/leftImg8bit_trainvaltest/leftImg8bit/train/strasbourg/strasbourg_000001_058373_leftImg8bit.png\n"
     ]
    },
    {
     "name": "stderr",
     "output_type": "stream",
     "text": [
      "/usr/local/lib/python3.7/site-packages/skimage/io/_io.py:142: UserWarning: ../../datasets/aurora/instagan/train/sampleA_seg/357_0.png is a boolean image: setting True to 1 and False to 0\n",
      "  warn('%s is a boolean image: setting True to 1 and False to 0' % fname)\n",
      "/usr/local/lib/python3.7/site-packages/skimage/io/_io.py:142: UserWarning: ../../datasets/aurora/instagan/train/sampleA_seg/357_1.png is a boolean image: setting True to 1 and False to 0\n",
      "  warn('%s is a boolean image: setting True to 1 and False to 0' % fname)\n",
      "/usr/local/lib/python3.7/site-packages/skimage/io/_io.py:142: UserWarning: ../../datasets/aurora/instagan/train/sampleA_seg/357_2.png is a boolean image: setting True to 1 and False to 0\n",
      "  warn('%s is a boolean image: setting True to 1 and False to 0' % fname)\n"
     ]
    },
    {
     "name": "stdout",
     "output_type": "stream",
     "text": [
      "Processing image ../../datasets/cityscapes-dataset/leftImg8bit_trainvaltest/leftImg8bit/train/strasbourg/strasbourg_000001_052544_leftImg8bit.png\n"
     ]
    },
    {
     "name": "stderr",
     "output_type": "stream",
     "text": [
      "/usr/local/lib/python3.7/site-packages/skimage/io/_io.py:142: UserWarning: ../../datasets/aurora/instagan/train/sampleA_seg/358_0.png is a boolean image: setting True to 1 and False to 0\n",
      "  warn('%s is a boolean image: setting True to 1 and False to 0' % fname)\n"
     ]
    },
    {
     "name": "stdout",
     "output_type": "stream",
     "text": [
      "Processing image ../../datasets/cityscapes-dataset/leftImg8bit_trainvaltest/leftImg8bit/train/strasbourg/strasbourg_000000_019229_leftImg8bit.png\n"
     ]
    },
    {
     "name": "stderr",
     "output_type": "stream",
     "text": [
      "/usr/local/lib/python3.7/site-packages/skimage/io/_io.py:142: UserWarning: ../../datasets/aurora/instagan/train/sampleA_seg/359_0.png is a boolean image: setting True to 1 and False to 0\n",
      "  warn('%s is a boolean image: setting True to 1 and False to 0' % fname)\n",
      "/usr/local/lib/python3.7/site-packages/skimage/io/_io.py:142: UserWarning: ../../datasets/aurora/instagan/train/sampleA_seg/359_1.png is a boolean image: setting True to 1 and False to 0\n",
      "  warn('%s is a boolean image: setting True to 1 and False to 0' % fname)\n",
      "/usr/local/lib/python3.7/site-packages/skimage/io/_io.py:142: UserWarning: ../../datasets/aurora/instagan/train/sampleA_seg/359_2.png is a boolean image: setting True to 1 and False to 0\n",
      "  warn('%s is a boolean image: setting True to 1 and False to 0' % fname)\n"
     ]
    },
    {
     "name": "stdout",
     "output_type": "stream",
     "text": [
      "Processing image ../../datasets/cityscapes-dataset/leftImg8bit_trainvaltest/leftImg8bit/train/strasbourg/strasbourg_000000_029729_leftImg8bit.png\n"
     ]
    },
    {
     "name": "stderr",
     "output_type": "stream",
     "text": [
      "/usr/local/lib/python3.7/site-packages/skimage/io/_io.py:142: UserWarning: ../../datasets/aurora/instagan/train/sampleA_seg/360_0.png is a boolean image: setting True to 1 and False to 0\n",
      "  warn('%s is a boolean image: setting True to 1 and False to 0' % fname)\n"
     ]
    },
    {
     "name": "stdout",
     "output_type": "stream",
     "text": [
      "Processing image ../../datasets/cityscapes-dataset/leftImg8bit_trainvaltest/leftImg8bit/train/strasbourg/strasbourg_000001_004260_leftImg8bit.png\n"
     ]
    },
    {
     "name": "stderr",
     "output_type": "stream",
     "text": [
      "/usr/local/lib/python3.7/site-packages/skimage/io/_io.py:142: UserWarning: ../../datasets/aurora/instagan/train/sampleA_seg/361_0.png is a boolean image: setting True to 1 and False to 0\n",
      "  warn('%s is a boolean image: setting True to 1 and False to 0' % fname)\n"
     ]
    },
    {
     "name": "stdout",
     "output_type": "stream",
     "text": [
      "Processing image ../../datasets/cityscapes-dataset/leftImg8bit_trainvaltest/leftImg8bit/train/strasbourg/strasbourg_000000_005912_leftImg8bit.png\n"
     ]
    },
    {
     "name": "stderr",
     "output_type": "stream",
     "text": [
      "/usr/local/lib/python3.7/site-packages/skimage/io/_io.py:142: UserWarning: ../../datasets/aurora/instagan/train/sampleA_seg/362_0.png is a boolean image: setting True to 1 and False to 0\n",
      "  warn('%s is a boolean image: setting True to 1 and False to 0' % fname)\n",
      "/usr/local/lib/python3.7/site-packages/skimage/io/_io.py:140: UserWarning: ../../datasets/aurora/instagan/train/sampleA_seg/362_1.png is a low contrast image\n",
      "  warn('%s is a low contrast image' % fname)\n",
      "/usr/local/lib/python3.7/site-packages/skimage/io/_io.py:142: UserWarning: ../../datasets/aurora/instagan/train/sampleA_seg/362_1.png is a boolean image: setting True to 1 and False to 0\n",
      "  warn('%s is a boolean image: setting True to 1 and False to 0' % fname)\n"
     ]
    },
    {
     "name": "stdout",
     "output_type": "stream",
     "text": [
      "Processing image ../../datasets/cityscapes-dataset/leftImg8bit_trainvaltest/leftImg8bit/train/strasbourg/strasbourg_000000_017044_leftImg8bit.png\n"
     ]
    },
    {
     "name": "stderr",
     "output_type": "stream",
     "text": [
      "/usr/local/lib/python3.7/site-packages/skimage/io/_io.py:140: UserWarning: ../../datasets/aurora/instagan/train/sampleA_seg/363_0.png is a low contrast image\n",
      "  warn('%s is a low contrast image' % fname)\n",
      "/usr/local/lib/python3.7/site-packages/skimage/io/_io.py:142: UserWarning: ../../datasets/aurora/instagan/train/sampleA_seg/363_0.png is a boolean image: setting True to 1 and False to 0\n",
      "  warn('%s is a boolean image: setting True to 1 and False to 0' % fname)\n",
      "/usr/local/lib/python3.7/site-packages/skimage/io/_io.py:142: UserWarning: ../../datasets/aurora/instagan/train/sampleA_seg/363_1.png is a boolean image: setting True to 1 and False to 0\n",
      "  warn('%s is a boolean image: setting True to 1 and False to 0' % fname)\n",
      "/usr/local/lib/python3.7/site-packages/skimage/io/_io.py:142: UserWarning: ../../datasets/aurora/instagan/train/sampleA_seg/363_2.png is a boolean image: setting True to 1 and False to 0\n",
      "  warn('%s is a boolean image: setting True to 1 and False to 0' % fname)\n"
     ]
    },
    {
     "name": "stdout",
     "output_type": "stream",
     "text": [
      "Processing image ../../datasets/cityscapes-dataset/leftImg8bit_trainvaltest/leftImg8bit/train/strasbourg/strasbourg_000000_000295_leftImg8bit.png\n"
     ]
    },
    {
     "name": "stderr",
     "output_type": "stream",
     "text": [
      "/usr/local/lib/python3.7/site-packages/skimage/io/_io.py:140: UserWarning: ../../datasets/aurora/instagan/train/sampleA_seg/364_0.png is a low contrast image\n",
      "  warn('%s is a low contrast image' % fname)\n",
      "/usr/local/lib/python3.7/site-packages/skimage/io/_io.py:142: UserWarning: ../../datasets/aurora/instagan/train/sampleA_seg/364_0.png is a boolean image: setting True to 1 and False to 0\n",
      "  warn('%s is a boolean image: setting True to 1 and False to 0' % fname)\n",
      "/usr/local/lib/python3.7/site-packages/skimage/io/_io.py:140: UserWarning: ../../datasets/aurora/instagan/train/sampleA_seg/364_1.png is a low contrast image\n",
      "  warn('%s is a low contrast image' % fname)\n",
      "/usr/local/lib/python3.7/site-packages/skimage/io/_io.py:142: UserWarning: ../../datasets/aurora/instagan/train/sampleA_seg/364_1.png is a boolean image: setting True to 1 and False to 0\n",
      "  warn('%s is a boolean image: setting True to 1 and False to 0' % fname)\n",
      "/usr/local/lib/python3.7/site-packages/skimage/io/_io.py:140: UserWarning: ../../datasets/aurora/instagan/train/sampleA_seg/364_2.png is a low contrast image\n",
      "  warn('%s is a low contrast image' % fname)\n",
      "/usr/local/lib/python3.7/site-packages/skimage/io/_io.py:142: UserWarning: ../../datasets/aurora/instagan/train/sampleA_seg/364_2.png is a boolean image: setting True to 1 and False to 0\n",
      "  warn('%s is a boolean image: setting True to 1 and False to 0' % fname)\n",
      "/usr/local/lib/python3.7/site-packages/skimage/io/_io.py:142: UserWarning: ../../datasets/aurora/instagan/train/sampleA_seg/364_3.png is a boolean image: setting True to 1 and False to 0\n",
      "  warn('%s is a boolean image: setting True to 1 and False to 0' % fname)\n"
     ]
    },
    {
     "name": "stdout",
     "output_type": "stream",
     "text": [
      "Processing image ../../datasets/cityscapes-dataset/leftImg8bit_trainvaltest/leftImg8bit/train/strasbourg/strasbourg_000000_020432_leftImg8bit.png\n"
     ]
    },
    {
     "name": "stderr",
     "output_type": "stream",
     "text": [
      "/usr/local/lib/python3.7/site-packages/skimage/io/_io.py:142: UserWarning: ../../datasets/aurora/instagan/train/sampleA_seg/365_0.png is a boolean image: setting True to 1 and False to 0\n",
      "  warn('%s is a boolean image: setting True to 1 and False to 0' % fname)\n",
      "/usr/local/lib/python3.7/site-packages/skimage/io/_io.py:142: UserWarning: ../../datasets/aurora/instagan/train/sampleA_seg/365_1.png is a boolean image: setting True to 1 and False to 0\n",
      "  warn('%s is a boolean image: setting True to 1 and False to 0' % fname)\n",
      "/usr/local/lib/python3.7/site-packages/skimage/io/_io.py:140: UserWarning: ../../datasets/aurora/instagan/train/sampleA_seg/365_2.png is a low contrast image\n",
      "  warn('%s is a low contrast image' % fname)\n",
      "/usr/local/lib/python3.7/site-packages/skimage/io/_io.py:142: UserWarning: ../../datasets/aurora/instagan/train/sampleA_seg/365_2.png is a boolean image: setting True to 1 and False to 0\n",
      "  warn('%s is a boolean image: setting True to 1 and False to 0' % fname)\n"
     ]
    },
    {
     "name": "stdout",
     "output_type": "stream",
     "text": [
      "Processing image ../../datasets/cityscapes-dataset/leftImg8bit_trainvaltest/leftImg8bit/train/strasbourg/strasbourg_000001_010640_leftImg8bit.png\n"
     ]
    },
    {
     "name": "stderr",
     "output_type": "stream",
     "text": [
      "/usr/local/lib/python3.7/site-packages/skimage/io/_io.py:142: UserWarning: ../../datasets/aurora/instagan/train/sampleA_seg/366_0.png is a boolean image: setting True to 1 and False to 0\n",
      "  warn('%s is a boolean image: setting True to 1 and False to 0' % fname)\n",
      "/usr/local/lib/python3.7/site-packages/skimage/io/_io.py:140: UserWarning: ../../datasets/aurora/instagan/train/sampleA_seg/366_1.png is a low contrast image\n",
      "  warn('%s is a low contrast image' % fname)\n",
      "/usr/local/lib/python3.7/site-packages/skimage/io/_io.py:142: UserWarning: ../../datasets/aurora/instagan/train/sampleA_seg/366_1.png is a boolean image: setting True to 1 and False to 0\n",
      "  warn('%s is a boolean image: setting True to 1 and False to 0' % fname)\n",
      "/usr/local/lib/python3.7/site-packages/skimage/io/_io.py:142: UserWarning: ../../datasets/aurora/instagan/train/sampleA_seg/366_2.png is a boolean image: setting True to 1 and False to 0\n",
      "  warn('%s is a boolean image: setting True to 1 and False to 0' % fname)\n",
      "/usr/local/lib/python3.7/site-packages/skimage/io/_io.py:142: UserWarning: ../../datasets/aurora/instagan/train/sampleA_seg/366_3.png is a boolean image: setting True to 1 and False to 0\n",
      "  warn('%s is a boolean image: setting True to 1 and False to 0' % fname)\n"
     ]
    },
    {
     "name": "stdout",
     "output_type": "stream",
     "text": [
      "Processing image ../../datasets/cityscapes-dataset/leftImg8bit_trainvaltest/leftImg8bit/train/strasbourg/strasbourg_000001_017469_leftImg8bit.png\n"
     ]
    },
    {
     "name": "stderr",
     "output_type": "stream",
     "text": [
      "/usr/local/lib/python3.7/site-packages/skimage/io/_io.py:142: UserWarning: ../../datasets/aurora/instagan/train/sampleA_seg/367_0.png is a boolean image: setting True to 1 and False to 0\n",
      "  warn('%s is a boolean image: setting True to 1 and False to 0' % fname)\n"
     ]
    },
    {
     "name": "stdout",
     "output_type": "stream",
     "text": [
      "Processing image ../../datasets/cityscapes-dataset/leftImg8bit_trainvaltest/leftImg8bit/train/strasbourg/strasbourg_000001_057811_leftImg8bit.png\n"
     ]
    },
    {
     "name": "stderr",
     "output_type": "stream",
     "text": [
      "/usr/local/lib/python3.7/site-packages/skimage/io/_io.py:140: UserWarning: ../../datasets/aurora/instagan/train/sampleA_seg/368_0.png is a low contrast image\n",
      "  warn('%s is a low contrast image' % fname)\n",
      "/usr/local/lib/python3.7/site-packages/skimage/io/_io.py:142: UserWarning: ../../datasets/aurora/instagan/train/sampleA_seg/368_0.png is a boolean image: setting True to 1 and False to 0\n",
      "  warn('%s is a boolean image: setting True to 1 and False to 0' % fname)\n",
      "/usr/local/lib/python3.7/site-packages/skimage/io/_io.py:142: UserWarning: ../../datasets/aurora/instagan/train/sampleA_seg/368_1.png is a boolean image: setting True to 1 and False to 0\n",
      "  warn('%s is a boolean image: setting True to 1 and False to 0' % fname)\n",
      "/usr/local/lib/python3.7/site-packages/skimage/io/_io.py:142: UserWarning: ../../datasets/aurora/instagan/train/sampleA_seg/368_2.png is a boolean image: setting True to 1 and False to 0\n",
      "  warn('%s is a boolean image: setting True to 1 and False to 0' % fname)\n",
      "/usr/local/lib/python3.7/site-packages/skimage/io/_io.py:142: UserWarning: ../../datasets/aurora/instagan/train/sampleA_seg/368_3.png is a boolean image: setting True to 1 and False to 0\n",
      "  warn('%s is a boolean image: setting True to 1 and False to 0' % fname)\n"
     ]
    },
    {
     "name": "stdout",
     "output_type": "stream",
     "text": [
      "Processing image ../../datasets/cityscapes-dataset/leftImg8bit_trainvaltest/leftImg8bit/train/strasbourg/strasbourg_000001_039114_leftImg8bit.png\n"
     ]
    },
    {
     "name": "stderr",
     "output_type": "stream",
     "text": [
      "/usr/local/lib/python3.7/site-packages/skimage/io/_io.py:142: UserWarning: ../../datasets/aurora/instagan/train/sampleA_seg/369_0.png is a boolean image: setting True to 1 and False to 0\n",
      "  warn('%s is a boolean image: setting True to 1 and False to 0' % fname)\n",
      "/usr/local/lib/python3.7/site-packages/skimage/io/_io.py:142: UserWarning: ../../datasets/aurora/instagan/train/sampleA_seg/369_1.png is a boolean image: setting True to 1 and False to 0\n",
      "  warn('%s is a boolean image: setting True to 1 and False to 0' % fname)\n"
     ]
    },
    {
     "name": "stdout",
     "output_type": "stream",
     "text": [
      "Processing image ../../datasets/cityscapes-dataset/leftImg8bit_trainvaltest/leftImg8bit/train/strasbourg/strasbourg_000000_024179_leftImg8bit.png\n"
     ]
    },
    {
     "name": "stderr",
     "output_type": "stream",
     "text": [
      "/usr/local/lib/python3.7/site-packages/skimage/io/_io.py:142: UserWarning: ../../datasets/aurora/instagan/train/sampleA_seg/370_0.png is a boolean image: setting True to 1 and False to 0\n",
      "  warn('%s is a boolean image: setting True to 1 and False to 0' % fname)\n"
     ]
    },
    {
     "name": "stdout",
     "output_type": "stream",
     "text": [
      "Processing image ../../datasets/cityscapes-dataset/leftImg8bit_trainvaltest/leftImg8bit/train/strasbourg/strasbourg_000001_010162_leftImg8bit.png\n"
     ]
    },
    {
     "name": "stderr",
     "output_type": "stream",
     "text": [
      "/usr/local/lib/python3.7/site-packages/skimage/io/_io.py:142: UserWarning: ../../datasets/aurora/instagan/train/sampleA_seg/371_0.png is a boolean image: setting True to 1 and False to 0\n",
      "  warn('%s is a boolean image: setting True to 1 and False to 0' % fname)\n",
      "/usr/local/lib/python3.7/site-packages/skimage/io/_io.py:142: UserWarning: ../../datasets/aurora/instagan/train/sampleA_seg/371_1.png is a boolean image: setting True to 1 and False to 0\n",
      "  warn('%s is a boolean image: setting True to 1 and False to 0' % fname)\n",
      "/usr/local/lib/python3.7/site-packages/skimage/io/_io.py:140: UserWarning: ../../datasets/aurora/instagan/train/sampleA_seg/371_2.png is a low contrast image\n",
      "  warn('%s is a low contrast image' % fname)\n",
      "/usr/local/lib/python3.7/site-packages/skimage/io/_io.py:142: UserWarning: ../../datasets/aurora/instagan/train/sampleA_seg/371_2.png is a boolean image: setting True to 1 and False to 0\n",
      "  warn('%s is a boolean image: setting True to 1 and False to 0' % fname)\n"
     ]
    },
    {
     "name": "stdout",
     "output_type": "stream",
     "text": [
      "Processing image ../../datasets/cityscapes-dataset/leftImg8bit_trainvaltest/leftImg8bit/train/strasbourg/strasbourg_000000_029179_leftImg8bit.png\n"
     ]
    },
    {
     "name": "stderr",
     "output_type": "stream",
     "text": [
      "/usr/local/lib/python3.7/site-packages/skimage/io/_io.py:142: UserWarning: ../../datasets/aurora/instagan/train/sampleA_seg/372_0.png is a boolean image: setting True to 1 and False to 0\n",
      "  warn('%s is a boolean image: setting True to 1 and False to 0' % fname)\n",
      "/usr/local/lib/python3.7/site-packages/skimage/io/_io.py:140: UserWarning: ../../datasets/aurora/instagan/train/sampleA_seg/372_1.png is a low contrast image\n",
      "  warn('%s is a low contrast image' % fname)\n",
      "/usr/local/lib/python3.7/site-packages/skimage/io/_io.py:142: UserWarning: ../../datasets/aurora/instagan/train/sampleA_seg/372_1.png is a boolean image: setting True to 1 and False to 0\n",
      "  warn('%s is a boolean image: setting True to 1 and False to 0' % fname)\n",
      "/usr/local/lib/python3.7/site-packages/skimage/io/_io.py:140: UserWarning: ../../datasets/aurora/instagan/train/sampleA_seg/372_2.png is a low contrast image\n",
      "  warn('%s is a low contrast image' % fname)\n",
      "/usr/local/lib/python3.7/site-packages/skimage/io/_io.py:142: UserWarning: ../../datasets/aurora/instagan/train/sampleA_seg/372_2.png is a boolean image: setting True to 1 and False to 0\n",
      "  warn('%s is a boolean image: setting True to 1 and False to 0' % fname)\n"
     ]
    },
    {
     "name": "stdout",
     "output_type": "stream",
     "text": [
      "Processing image ../../datasets/cityscapes-dataset/leftImg8bit_trainvaltest/leftImg8bit/train/strasbourg/strasbourg_000001_039703_leftImg8bit.png\n"
     ]
    },
    {
     "name": "stderr",
     "output_type": "stream",
     "text": [
      "/usr/local/lib/python3.7/site-packages/skimage/io/_io.py:142: UserWarning: ../../datasets/aurora/instagan/train/sampleA_seg/373_0.png is a boolean image: setting True to 1 and False to 0\n",
      "  warn('%s is a boolean image: setting True to 1 and False to 0' % fname)\n"
     ]
    },
    {
     "name": "stdout",
     "output_type": "stream",
     "text": [
      "Processing image ../../datasets/cityscapes-dataset/leftImg8bit_trainvaltest/leftImg8bit/train/strasbourg/strasbourg_000001_065572_leftImg8bit.png\n"
     ]
    },
    {
     "name": "stderr",
     "output_type": "stream",
     "text": [
      "/usr/local/lib/python3.7/site-packages/skimage/io/_io.py:142: UserWarning: ../../datasets/aurora/instagan/train/sampleA_seg/374_0.png is a boolean image: setting True to 1 and False to 0\n",
      "  warn('%s is a boolean image: setting True to 1 and False to 0' % fname)\n",
      "/usr/local/lib/python3.7/site-packages/skimage/io/_io.py:142: UserWarning: ../../datasets/aurora/instagan/train/sampleA_seg/374_1.png is a boolean image: setting True to 1 and False to 0\n",
      "  warn('%s is a boolean image: setting True to 1 and False to 0' % fname)\n"
     ]
    },
    {
     "name": "stdout",
     "output_type": "stream",
     "text": [
      "Processing image ../../datasets/cityscapes-dataset/leftImg8bit_trainvaltest/leftImg8bit/train/strasbourg/strasbourg_000001_057129_leftImg8bit.png\n"
     ]
    },
    {
     "name": "stderr",
     "output_type": "stream",
     "text": [
      "/usr/local/lib/python3.7/site-packages/skimage/io/_io.py:142: UserWarning: ../../datasets/aurora/instagan/train/sampleA_seg/375_0.png is a boolean image: setting True to 1 and False to 0\n",
      "  warn('%s is a boolean image: setting True to 1 and False to 0' % fname)\n",
      "/usr/local/lib/python3.7/site-packages/skimage/io/_io.py:142: UserWarning: ../../datasets/aurora/instagan/train/sampleA_seg/375_1.png is a boolean image: setting True to 1 and False to 0\n",
      "  warn('%s is a boolean image: setting True to 1 and False to 0' % fname)\n"
     ]
    },
    {
     "name": "stdout",
     "output_type": "stream",
     "text": [
      "Processing image ../../datasets/cityscapes-dataset/leftImg8bit_trainvaltest/leftImg8bit/train/strasbourg/strasbourg_000000_026611_leftImg8bit.png\n"
     ]
    },
    {
     "name": "stderr",
     "output_type": "stream",
     "text": [
      "/usr/local/lib/python3.7/site-packages/skimage/io/_io.py:142: UserWarning: ../../datasets/aurora/instagan/train/sampleA_seg/376_0.png is a boolean image: setting True to 1 and False to 0\n",
      "  warn('%s is a boolean image: setting True to 1 and False to 0' % fname)\n"
     ]
    },
    {
     "name": "stdout",
     "output_type": "stream",
     "text": [
      "Processing image ../../datasets/cityscapes-dataset/leftImg8bit_trainvaltest/leftImg8bit/train/strasbourg/strasbourg_000000_026998_leftImg8bit.png\n"
     ]
    },
    {
     "name": "stderr",
     "output_type": "stream",
     "text": [
      "/usr/local/lib/python3.7/site-packages/skimage/io/_io.py:142: UserWarning: ../../datasets/aurora/instagan/train/sampleA_seg/377_0.png is a boolean image: setting True to 1 and False to 0\n",
      "  warn('%s is a boolean image: setting True to 1 and False to 0' % fname)\n",
      "/usr/local/lib/python3.7/site-packages/skimage/io/_io.py:142: UserWarning: ../../datasets/aurora/instagan/train/sampleA_seg/377_1.png is a boolean image: setting True to 1 and False to 0\n",
      "  warn('%s is a boolean image: setting True to 1 and False to 0' % fname)\n",
      "/usr/local/lib/python3.7/site-packages/skimage/io/_io.py:140: UserWarning: ../../datasets/aurora/instagan/train/sampleA_seg/377_2.png is a low contrast image\n",
      "  warn('%s is a low contrast image' % fname)\n",
      "/usr/local/lib/python3.7/site-packages/skimage/io/_io.py:142: UserWarning: ../../datasets/aurora/instagan/train/sampleA_seg/377_2.png is a boolean image: setting True to 1 and False to 0\n",
      "  warn('%s is a boolean image: setting True to 1 and False to 0' % fname)\n"
     ]
    },
    {
     "name": "stdout",
     "output_type": "stream",
     "text": [
      "Processing image ../../datasets/cityscapes-dataset/leftImg8bit_trainvaltest/leftImg8bit/train/strasbourg/strasbourg_000000_016247_leftImg8bit.png\n"
     ]
    },
    {
     "name": "stderr",
     "output_type": "stream",
     "text": [
      "/usr/local/lib/python3.7/site-packages/skimage/io/_io.py:142: UserWarning: ../../datasets/aurora/instagan/train/sampleA_seg/378_0.png is a boolean image: setting True to 1 and False to 0\n",
      "  warn('%s is a boolean image: setting True to 1 and False to 0' % fname)\n"
     ]
    },
    {
     "name": "stdout",
     "output_type": "stream",
     "text": [
      "Processing image ../../datasets/cityscapes-dataset/leftImg8bit_trainvaltest/leftImg8bit/train/strasbourg/strasbourg_000001_047336_leftImg8bit.png\n"
     ]
    },
    {
     "name": "stderr",
     "output_type": "stream",
     "text": [
      "/usr/local/lib/python3.7/site-packages/skimage/io/_io.py:142: UserWarning: ../../datasets/aurora/instagan/train/sampleA_seg/379_0.png is a boolean image: setting True to 1 and False to 0\n",
      "  warn('%s is a boolean image: setting True to 1 and False to 0' % fname)\n",
      "/usr/local/lib/python3.7/site-packages/skimage/io/_io.py:140: UserWarning: ../../datasets/aurora/instagan/train/sampleA_seg/379_1.png is a low contrast image\n",
      "  warn('%s is a low contrast image' % fname)\n",
      "/usr/local/lib/python3.7/site-packages/skimage/io/_io.py:142: UserWarning: ../../datasets/aurora/instagan/train/sampleA_seg/379_1.png is a boolean image: setting True to 1 and False to 0\n",
      "  warn('%s is a boolean image: setting True to 1 and False to 0' % fname)\n"
     ]
    },
    {
     "name": "stdout",
     "output_type": "stream",
     "text": [
      "Processing image ../../datasets/cityscapes-dataset/leftImg8bit_trainvaltest/leftImg8bit/train/strasbourg/strasbourg_000001_030839_leftImg8bit.png\n"
     ]
    },
    {
     "name": "stderr",
     "output_type": "stream",
     "text": [
      "/usr/local/lib/python3.7/site-packages/skimage/io/_io.py:142: UserWarning: ../../datasets/aurora/instagan/train/sampleA_seg/380_0.png is a boolean image: setting True to 1 and False to 0\n",
      "  warn('%s is a boolean image: setting True to 1 and False to 0' % fname)\n"
     ]
    },
    {
     "name": "stdout",
     "output_type": "stream",
     "text": [
      "Processing image ../../datasets/cityscapes-dataset/leftImg8bit_trainvaltest/leftImg8bit/train/strasbourg/strasbourg_000001_043748_leftImg8bit.png\n"
     ]
    },
    {
     "name": "stderr",
     "output_type": "stream",
     "text": [
      "/usr/local/lib/python3.7/site-packages/skimage/io/_io.py:142: UserWarning: ../../datasets/aurora/instagan/train/sampleA_seg/381_0.png is a boolean image: setting True to 1 and False to 0\n",
      "  warn('%s is a boolean image: setting True to 1 and False to 0' % fname)\n"
     ]
    },
    {
     "name": "stdout",
     "output_type": "stream",
     "text": [
      "Processing image ../../datasets/cityscapes-dataset/leftImg8bit_trainvaltest/leftImg8bit/train/strasbourg/strasbourg_000001_053976_leftImg8bit.png\n"
     ]
    },
    {
     "name": "stderr",
     "output_type": "stream",
     "text": [
      "/usr/local/lib/python3.7/site-packages/skimage/io/_io.py:142: UserWarning: ../../datasets/aurora/instagan/train/sampleA_seg/382_0.png is a boolean image: setting True to 1 and False to 0\n",
      "  warn('%s is a boolean image: setting True to 1 and False to 0' % fname)\n",
      "/usr/local/lib/python3.7/site-packages/skimage/io/_io.py:140: UserWarning: ../../datasets/aurora/instagan/train/sampleA_seg/382_1.png is a low contrast image\n",
      "  warn('%s is a low contrast image' % fname)\n",
      "/usr/local/lib/python3.7/site-packages/skimage/io/_io.py:142: UserWarning: ../../datasets/aurora/instagan/train/sampleA_seg/382_1.png is a boolean image: setting True to 1 and False to 0\n",
      "  warn('%s is a boolean image: setting True to 1 and False to 0' % fname)\n",
      "/usr/local/lib/python3.7/site-packages/skimage/io/_io.py:142: UserWarning: ../../datasets/aurora/instagan/train/sampleA_seg/382_2.png is a boolean image: setting True to 1 and False to 0\n",
      "  warn('%s is a boolean image: setting True to 1 and False to 0' % fname)\n",
      "/usr/local/lib/python3.7/site-packages/skimage/io/_io.py:142: UserWarning: ../../datasets/aurora/instagan/train/sampleA_seg/382_3.png is a boolean image: setting True to 1 and False to 0\n",
      "  warn('%s is a boolean image: setting True to 1 and False to 0' % fname)\n",
      "/usr/local/lib/python3.7/site-packages/skimage/io/_io.py:142: UserWarning: ../../datasets/aurora/instagan/train/sampleA_seg/382_4.png is a boolean image: setting True to 1 and False to 0\n",
      "  warn('%s is a boolean image: setting True to 1 and False to 0' % fname)\n"
     ]
    },
    {
     "name": "stdout",
     "output_type": "stream",
     "text": [
      "Processing image ../../datasets/cityscapes-dataset/leftImg8bit_trainvaltest/leftImg8bit/train/strasbourg/strasbourg_000001_002949_leftImg8bit.png\n"
     ]
    },
    {
     "name": "stderr",
     "output_type": "stream",
     "text": [
      "/usr/local/lib/python3.7/site-packages/skimage/io/_io.py:142: UserWarning: ../../datasets/aurora/instagan/train/sampleA_seg/383_0.png is a boolean image: setting True to 1 and False to 0\n",
      "  warn('%s is a boolean image: setting True to 1 and False to 0' % fname)\n"
     ]
    },
    {
     "name": "stdout",
     "output_type": "stream",
     "text": [
      "Processing image ../../datasets/cityscapes-dataset/leftImg8bit_trainvaltest/leftImg8bit/train/strasbourg/strasbourg_000000_018616_leftImg8bit.png\n"
     ]
    },
    {
     "name": "stderr",
     "output_type": "stream",
     "text": [
      "/usr/local/lib/python3.7/site-packages/skimage/io/_io.py:140: UserWarning: ../../datasets/aurora/instagan/train/sampleA_seg/384_0.png is a low contrast image\n",
      "  warn('%s is a low contrast image' % fname)\n",
      "/usr/local/lib/python3.7/site-packages/skimage/io/_io.py:142: UserWarning: ../../datasets/aurora/instagan/train/sampleA_seg/384_0.png is a boolean image: setting True to 1 and False to 0\n",
      "  warn('%s is a boolean image: setting True to 1 and False to 0' % fname)\n",
      "/usr/local/lib/python3.7/site-packages/skimage/io/_io.py:142: UserWarning: ../../datasets/aurora/instagan/train/sampleA_seg/384_1.png is a boolean image: setting True to 1 and False to 0\n",
      "  warn('%s is a boolean image: setting True to 1 and False to 0' % fname)\n"
     ]
    },
    {
     "name": "stdout",
     "output_type": "stream",
     "text": [
      "Processing image ../../datasets/cityscapes-dataset/leftImg8bit_trainvaltest/leftImg8bit/train/strasbourg/strasbourg_000000_028240_leftImg8bit.png\n"
     ]
    },
    {
     "name": "stderr",
     "output_type": "stream",
     "text": [
      "/usr/local/lib/python3.7/site-packages/skimage/io/_io.py:142: UserWarning: ../../datasets/aurora/instagan/train/sampleA_seg/385_0.png is a boolean image: setting True to 1 and False to 0\n",
      "  warn('%s is a boolean image: setting True to 1 and False to 0' % fname)\n",
      "/usr/local/lib/python3.7/site-packages/skimage/io/_io.py:140: UserWarning: ../../datasets/aurora/instagan/train/sampleA_seg/385_1.png is a low contrast image\n",
      "  warn('%s is a low contrast image' % fname)\n",
      "/usr/local/lib/python3.7/site-packages/skimage/io/_io.py:142: UserWarning: ../../datasets/aurora/instagan/train/sampleA_seg/385_1.png is a boolean image: setting True to 1 and False to 0\n",
      "  warn('%s is a boolean image: setting True to 1 and False to 0' % fname)\n"
     ]
    },
    {
     "name": "stdout",
     "output_type": "stream",
     "text": [
      "Processing image ../../datasets/cityscapes-dataset/leftImg8bit_trainvaltest/leftImg8bit/train/strasbourg/strasbourg_000000_034387_leftImg8bit.png\n"
     ]
    },
    {
     "name": "stderr",
     "output_type": "stream",
     "text": [
      "/usr/local/lib/python3.7/site-packages/skimage/io/_io.py:140: UserWarning: ../../datasets/aurora/instagan/train/sampleA_seg/386_0.png is a low contrast image\n",
      "  warn('%s is a low contrast image' % fname)\n",
      "/usr/local/lib/python3.7/site-packages/skimage/io/_io.py:142: UserWarning: ../../datasets/aurora/instagan/train/sampleA_seg/386_0.png is a boolean image: setting True to 1 and False to 0\n",
      "  warn('%s is a boolean image: setting True to 1 and False to 0' % fname)\n"
     ]
    },
    {
     "name": "stdout",
     "output_type": "stream",
     "text": [
      "Processing image ../../datasets/cityscapes-dataset/leftImg8bit_trainvaltest/leftImg8bit/train/strasbourg/strasbourg_000001_043886_leftImg8bit.png\n"
     ]
    },
    {
     "name": "stderr",
     "output_type": "stream",
     "text": [
      "/usr/local/lib/python3.7/site-packages/skimage/io/_io.py:142: UserWarning: ../../datasets/aurora/instagan/train/sampleA_seg/387_0.png is a boolean image: setting True to 1 and False to 0\n",
      "  warn('%s is a boolean image: setting True to 1 and False to 0' % fname)\n"
     ]
    },
    {
     "name": "stdout",
     "output_type": "stream",
     "text": [
      "Processing image ../../datasets/cityscapes-dataset/leftImg8bit_trainvaltest/leftImg8bit/train/strasbourg/strasbourg_000001_030997_leftImg8bit.png\n"
     ]
    },
    {
     "name": "stderr",
     "output_type": "stream",
     "text": [
      "/usr/local/lib/python3.7/site-packages/skimage/io/_io.py:142: UserWarning: ../../datasets/aurora/instagan/train/sampleA_seg/388_0.png is a boolean image: setting True to 1 and False to 0\n",
      "  warn('%s is a boolean image: setting True to 1 and False to 0' % fname)\n"
     ]
    },
    {
     "name": "stdout",
     "output_type": "stream",
     "text": [
      "Processing image ../../datasets/cityscapes-dataset/leftImg8bit_trainvaltest/leftImg8bit/train/strasbourg/strasbourg_000001_060173_leftImg8bit.png\n"
     ]
    },
    {
     "name": "stderr",
     "output_type": "stream",
     "text": [
      "/usr/local/lib/python3.7/site-packages/skimage/io/_io.py:142: UserWarning: ../../datasets/aurora/instagan/train/sampleA_seg/389_0.png is a boolean image: setting True to 1 and False to 0\n",
      "  warn('%s is a boolean image: setting True to 1 and False to 0' % fname)\n"
     ]
    },
    {
     "name": "stdout",
     "output_type": "stream",
     "text": [
      "Processing image ../../datasets/cityscapes-dataset/leftImg8bit_trainvaltest/leftImg8bit/train/strasbourg/strasbourg_000001_029178_leftImg8bit.png\n"
     ]
    },
    {
     "name": "stderr",
     "output_type": "stream",
     "text": [
      "/usr/local/lib/python3.7/site-packages/skimage/io/_io.py:142: UserWarning: ../../datasets/aurora/instagan/train/sampleA_seg/390_0.png is a boolean image: setting True to 1 and False to 0\n",
      "  warn('%s is a boolean image: setting True to 1 and False to 0' % fname)\n",
      "/usr/local/lib/python3.7/site-packages/skimage/io/_io.py:142: UserWarning: ../../datasets/aurora/instagan/train/sampleA_seg/390_1.png is a boolean image: setting True to 1 and False to 0\n",
      "  warn('%s is a boolean image: setting True to 1 and False to 0' % fname)\n",
      "/usr/local/lib/python3.7/site-packages/skimage/io/_io.py:140: UserWarning: ../../datasets/aurora/instagan/train/sampleA_seg/390_2.png is a low contrast image\n",
      "  warn('%s is a low contrast image' % fname)\n",
      "/usr/local/lib/python3.7/site-packages/skimage/io/_io.py:142: UserWarning: ../../datasets/aurora/instagan/train/sampleA_seg/390_2.png is a boolean image: setting True to 1 and False to 0\n",
      "  warn('%s is a boolean image: setting True to 1 and False to 0' % fname)\n",
      "/usr/local/lib/python3.7/site-packages/skimage/io/_io.py:140: UserWarning: ../../datasets/aurora/instagan/train/sampleA_seg/390_3.png is a low contrast image\n",
      "  warn('%s is a low contrast image' % fname)\n",
      "/usr/local/lib/python3.7/site-packages/skimage/io/_io.py:142: UserWarning: ../../datasets/aurora/instagan/train/sampleA_seg/390_3.png is a boolean image: setting True to 1 and False to 0\n",
      "  warn('%s is a boolean image: setting True to 1 and False to 0' % fname)\n"
     ]
    },
    {
     "name": "stdout",
     "output_type": "stream",
     "text": [
      "Processing image ../../datasets/cityscapes-dataset/leftImg8bit_trainvaltest/leftImg8bit/train/strasbourg/strasbourg_000000_029481_leftImg8bit.png\n"
     ]
    },
    {
     "name": "stderr",
     "output_type": "stream",
     "text": [
      "/usr/local/lib/python3.7/site-packages/skimage/io/_io.py:142: UserWarning: ../../datasets/aurora/instagan/train/sampleA_seg/391_0.png is a boolean image: setting True to 1 and False to 0\n",
      "  warn('%s is a boolean image: setting True to 1 and False to 0' % fname)\n"
     ]
    },
    {
     "name": "stdout",
     "output_type": "stream",
     "text": [
      "Processing image ../../datasets/cityscapes-dataset/leftImg8bit_trainvaltest/leftImg8bit/train/strasbourg/strasbourg_000000_015764_leftImg8bit.png\n"
     ]
    },
    {
     "name": "stderr",
     "output_type": "stream",
     "text": [
      "/usr/local/lib/python3.7/site-packages/skimage/io/_io.py:142: UserWarning: ../../datasets/aurora/instagan/train/sampleA_seg/392_0.png is a boolean image: setting True to 1 and False to 0\n",
      "  warn('%s is a boolean image: setting True to 1 and False to 0' % fname)\n"
     ]
    },
    {
     "name": "stdout",
     "output_type": "stream",
     "text": [
      "Processing image ../../datasets/cityscapes-dataset/leftImg8bit_trainvaltest/leftImg8bit/train/strasbourg/strasbourg_000001_063385_leftImg8bit.png\n"
     ]
    },
    {
     "name": "stderr",
     "output_type": "stream",
     "text": [
      "/usr/local/lib/python3.7/site-packages/skimage/io/_io.py:142: UserWarning: ../../datasets/aurora/instagan/train/sampleA_seg/393_0.png is a boolean image: setting True to 1 and False to 0\n",
      "  warn('%s is a boolean image: setting True to 1 and False to 0' % fname)\n"
     ]
    },
    {
     "name": "stdout",
     "output_type": "stream",
     "text": [
      "Processing image ../../datasets/cityscapes-dataset/leftImg8bit_trainvaltest/leftImg8bit/train/strasbourg/strasbourg_000000_006483_leftImg8bit.png\n"
     ]
    },
    {
     "name": "stderr",
     "output_type": "stream",
     "text": [
      "/usr/local/lib/python3.7/site-packages/skimage/io/_io.py:142: UserWarning: ../../datasets/aurora/instagan/train/sampleA_seg/394_0.png is a boolean image: setting True to 1 and False to 0\n",
      "  warn('%s is a boolean image: setting True to 1 and False to 0' % fname)\n",
      "/usr/local/lib/python3.7/site-packages/skimage/io/_io.py:140: UserWarning: ../../datasets/aurora/instagan/train/sampleA_seg/394_1.png is a low contrast image\n",
      "  warn('%s is a low contrast image' % fname)\n",
      "/usr/local/lib/python3.7/site-packages/skimage/io/_io.py:142: UserWarning: ../../datasets/aurora/instagan/train/sampleA_seg/394_1.png is a boolean image: setting True to 1 and False to 0\n",
      "  warn('%s is a boolean image: setting True to 1 and False to 0' % fname)\n"
     ]
    },
    {
     "name": "stdout",
     "output_type": "stream",
     "text": [
      "Processing image ../../datasets/cityscapes-dataset/leftImg8bit_trainvaltest/leftImg8bit/train/strasbourg/strasbourg_000000_029020_leftImg8bit.png\n"
     ]
    },
    {
     "name": "stderr",
     "output_type": "stream",
     "text": [
      "/usr/local/lib/python3.7/site-packages/skimage/io/_io.py:142: UserWarning: ../../datasets/aurora/instagan/train/sampleA_seg/395_0.png is a boolean image: setting True to 1 and False to 0\n",
      "  warn('%s is a boolean image: setting True to 1 and False to 0' % fname)\n"
     ]
    },
    {
     "name": "stdout",
     "output_type": "stream",
     "text": [
      "Processing image ../../datasets/cityscapes-dataset/leftImg8bit_trainvaltest/leftImg8bit/train/strasbourg/strasbourg_000001_002354_leftImg8bit.png\n"
     ]
    },
    {
     "name": "stderr",
     "output_type": "stream",
     "text": [
      "/usr/local/lib/python3.7/site-packages/skimage/io/_io.py:142: UserWarning: ../../datasets/aurora/instagan/train/sampleA_seg/396_0.png is a boolean image: setting True to 1 and False to 0\n",
      "  warn('%s is a boolean image: setting True to 1 and False to 0' % fname)\n"
     ]
    },
    {
     "name": "stdout",
     "output_type": "stream",
     "text": [
      "Processing image ../../datasets/cityscapes-dataset/leftImg8bit_trainvaltest/leftImg8bit/train/strasbourg/strasbourg_000000_028912_leftImg8bit.png\n"
     ]
    },
    {
     "name": "stderr",
     "output_type": "stream",
     "text": [
      "/usr/local/lib/python3.7/site-packages/skimage/io/_io.py:142: UserWarning: ../../datasets/aurora/instagan/train/sampleA_seg/397_0.png is a boolean image: setting True to 1 and False to 0\n",
      "  warn('%s is a boolean image: setting True to 1 and False to 0' % fname)\n"
     ]
    },
    {
     "name": "stdout",
     "output_type": "stream",
     "text": [
      "Processing image ../../datasets/cityscapes-dataset/leftImg8bit_trainvaltest/leftImg8bit/train/strasbourg/strasbourg_000000_025351_leftImg8bit.png\n"
     ]
    },
    {
     "name": "stderr",
     "output_type": "stream",
     "text": [
      "/usr/local/lib/python3.7/site-packages/skimage/io/_io.py:142: UserWarning: ../../datasets/aurora/instagan/train/sampleA_seg/398_0.png is a boolean image: setting True to 1 and False to 0\n",
      "  warn('%s is a boolean image: setting True to 1 and False to 0' % fname)\n",
      "/usr/local/lib/python3.7/site-packages/skimage/io/_io.py:140: UserWarning: ../../datasets/aurora/instagan/train/sampleA_seg/398_1.png is a low contrast image\n",
      "  warn('%s is a low contrast image' % fname)\n",
      "/usr/local/lib/python3.7/site-packages/skimage/io/_io.py:142: UserWarning: ../../datasets/aurora/instagan/train/sampleA_seg/398_1.png is a boolean image: setting True to 1 and False to 0\n",
      "  warn('%s is a boolean image: setting True to 1 and False to 0' % fname)\n"
     ]
    },
    {
     "name": "stdout",
     "output_type": "stream",
     "text": [
      "Processing image ../../datasets/cityscapes-dataset/leftImg8bit_trainvaltest/leftImg8bit/train/strasbourg/strasbourg_000000_025772_leftImg8bit.png\n"
     ]
    },
    {
     "name": "stderr",
     "output_type": "stream",
     "text": [
      "/usr/local/lib/python3.7/site-packages/skimage/io/_io.py:142: UserWarning: ../../datasets/aurora/instagan/train/sampleA_seg/399_0.png is a boolean image: setting True to 1 and False to 0\n",
      "  warn('%s is a boolean image: setting True to 1 and False to 0' % fname)\n",
      "/usr/local/lib/python3.7/site-packages/skimage/io/_io.py:140: UserWarning: ../../datasets/aurora/instagan/train/sampleA_seg/399_1.png is a low contrast image\n",
      "  warn('%s is a low contrast image' % fname)\n",
      "/usr/local/lib/python3.7/site-packages/skimage/io/_io.py:142: UserWarning: ../../datasets/aurora/instagan/train/sampleA_seg/399_1.png is a boolean image: setting True to 1 and False to 0\n",
      "  warn('%s is a boolean image: setting True to 1 and False to 0' % fname)\n",
      "/usr/local/lib/python3.7/site-packages/skimage/io/_io.py:142: UserWarning: ../../datasets/aurora/instagan/train/sampleA_seg/399_2.png is a boolean image: setting True to 1 and False to 0\n",
      "  warn('%s is a boolean image: setting True to 1 and False to 0' % fname)\n"
     ]
    },
    {
     "name": "stdout",
     "output_type": "stream",
     "text": [
      "Processing image ../../datasets/cityscapes-dataset/leftImg8bit_trainvaltest/leftImg8bit/train/strasbourg/strasbourg_000000_032962_leftImg8bit.png\n"
     ]
    },
    {
     "name": "stderr",
     "output_type": "stream",
     "text": [
      "/usr/local/lib/python3.7/site-packages/skimage/io/_io.py:142: UserWarning: ../../datasets/aurora/instagan/train/sampleA_seg/400_0.png is a boolean image: setting True to 1 and False to 0\n",
      "  warn('%s is a boolean image: setting True to 1 and False to 0' % fname)\n",
      "/usr/local/lib/python3.7/site-packages/skimage/io/_io.py:142: UserWarning: ../../datasets/aurora/instagan/train/sampleA_seg/400_1.png is a boolean image: setting True to 1 and False to 0\n",
      "  warn('%s is a boolean image: setting True to 1 and False to 0' % fname)\n",
      "/usr/local/lib/python3.7/site-packages/skimage/io/_io.py:142: UserWarning: ../../datasets/aurora/instagan/train/sampleA_seg/400_2.png is a boolean image: setting True to 1 and False to 0\n",
      "  warn('%s is a boolean image: setting True to 1 and False to 0' % fname)\n"
     ]
    },
    {
     "name": "stdout",
     "output_type": "stream",
     "text": [
      "Processing image ../../datasets/cityscapes-dataset/leftImg8bit_trainvaltest/leftImg8bit/train/strasbourg/strasbourg_000001_005876_leftImg8bit.png\n"
     ]
    },
    {
     "name": "stderr",
     "output_type": "stream",
     "text": [
      "/usr/local/lib/python3.7/site-packages/skimage/io/_io.py:142: UserWarning: ../../datasets/aurora/instagan/train/sampleA_seg/401_0.png is a boolean image: setting True to 1 and False to 0\n",
      "  warn('%s is a boolean image: setting True to 1 and False to 0' % fname)\n"
     ]
    },
    {
     "name": "stdout",
     "output_type": "stream",
     "text": [
      "Processing image ../../datasets/cityscapes-dataset/leftImg8bit_trainvaltest/leftImg8bit/train/strasbourg/strasbourg_000000_027771_leftImg8bit.png\n"
     ]
    },
    {
     "name": "stderr",
     "output_type": "stream",
     "text": [
      "/usr/local/lib/python3.7/site-packages/skimage/io/_io.py:142: UserWarning: ../../datasets/aurora/instagan/train/sampleA_seg/402_0.png is a boolean image: setting True to 1 and False to 0\n",
      "  warn('%s is a boolean image: setting True to 1 and False to 0' % fname)\n",
      "/usr/local/lib/python3.7/site-packages/skimage/io/_io.py:140: UserWarning: ../../datasets/aurora/instagan/train/sampleA_seg/402_1.png is a low contrast image\n",
      "  warn('%s is a low contrast image' % fname)\n",
      "/usr/local/lib/python3.7/site-packages/skimage/io/_io.py:142: UserWarning: ../../datasets/aurora/instagan/train/sampleA_seg/402_1.png is a boolean image: setting True to 1 and False to 0\n",
      "  warn('%s is a boolean image: setting True to 1 and False to 0' % fname)\n",
      "/usr/local/lib/python3.7/site-packages/skimage/io/_io.py:140: UserWarning: ../../datasets/aurora/instagan/train/sampleA_seg/402_2.png is a low contrast image\n",
      "  warn('%s is a low contrast image' % fname)\n",
      "/usr/local/lib/python3.7/site-packages/skimage/io/_io.py:142: UserWarning: ../../datasets/aurora/instagan/train/sampleA_seg/402_2.png is a boolean image: setting True to 1 and False to 0\n",
      "  warn('%s is a boolean image: setting True to 1 and False to 0' % fname)\n",
      "/usr/local/lib/python3.7/site-packages/skimage/io/_io.py:140: UserWarning: ../../datasets/aurora/instagan/train/sampleA_seg/402_3.png is a low contrast image\n",
      "  warn('%s is a low contrast image' % fname)\n",
      "/usr/local/lib/python3.7/site-packages/skimage/io/_io.py:142: UserWarning: ../../datasets/aurora/instagan/train/sampleA_seg/402_3.png is a boolean image: setting True to 1 and False to 0\n",
      "  warn('%s is a boolean image: setting True to 1 and False to 0' % fname)\n",
      "/usr/local/lib/python3.7/site-packages/skimage/io/_io.py:140: UserWarning: ../../datasets/aurora/instagan/train/sampleA_seg/402_4.png is a low contrast image\n",
      "  warn('%s is a low contrast image' % fname)\n",
      "/usr/local/lib/python3.7/site-packages/skimage/io/_io.py:142: UserWarning: ../../datasets/aurora/instagan/train/sampleA_seg/402_4.png is a boolean image: setting True to 1 and False to 0\n",
      "  warn('%s is a boolean image: setting True to 1 and False to 0' % fname)\n",
      "/usr/local/lib/python3.7/site-packages/skimage/io/_io.py:140: UserWarning: ../../datasets/aurora/instagan/train/sampleA_seg/402_5.png is a low contrast image\n",
      "  warn('%s is a low contrast image' % fname)\n",
      "/usr/local/lib/python3.7/site-packages/skimage/io/_io.py:142: UserWarning: ../../datasets/aurora/instagan/train/sampleA_seg/402_5.png is a boolean image: setting True to 1 and False to 0\n",
      "  warn('%s is a boolean image: setting True to 1 and False to 0' % fname)\n"
     ]
    },
    {
     "name": "stdout",
     "output_type": "stream",
     "text": [
      "Processing image ../../datasets/cityscapes-dataset/leftImg8bit_trainvaltest/leftImg8bit/train/strasbourg/strasbourg_000000_035942_leftImg8bit.png\n"
     ]
    },
    {
     "name": "stderr",
     "output_type": "stream",
     "text": [
      "/usr/local/lib/python3.7/site-packages/skimage/io/_io.py:142: UserWarning: ../../datasets/aurora/instagan/train/sampleA_seg/403_0.png is a boolean image: setting True to 1 and False to 0\n",
      "  warn('%s is a boolean image: setting True to 1 and False to 0' % fname)\n"
     ]
    },
    {
     "name": "stdout",
     "output_type": "stream",
     "text": [
      "Processing image ../../datasets/cityscapes-dataset/leftImg8bit_trainvaltest/leftImg8bit/train/strasbourg/strasbourg_000001_047702_leftImg8bit.png\n"
     ]
    },
    {
     "name": "stderr",
     "output_type": "stream",
     "text": [
      "/usr/local/lib/python3.7/site-packages/skimage/io/_io.py:142: UserWarning: ../../datasets/aurora/instagan/train/sampleA_seg/404_0.png is a boolean image: setting True to 1 and False to 0\n",
      "  warn('%s is a boolean image: setting True to 1 and False to 0' % fname)\n"
     ]
    },
    {
     "name": "stdout",
     "output_type": "stream",
     "text": [
      "Processing image ../../datasets/cityscapes-dataset/leftImg8bit_trainvaltest/leftImg8bit/train/strasbourg/strasbourg_000000_029281_leftImg8bit.png\n"
     ]
    },
    {
     "name": "stderr",
     "output_type": "stream",
     "text": [
      "/usr/local/lib/python3.7/site-packages/skimage/io/_io.py:142: UserWarning: ../../datasets/aurora/instagan/train/sampleA_seg/405_0.png is a boolean image: setting True to 1 and False to 0\n",
      "  warn('%s is a boolean image: setting True to 1 and False to 0' % fname)\n",
      "/usr/local/lib/python3.7/site-packages/skimage/io/_io.py:140: UserWarning: ../../datasets/aurora/instagan/train/sampleA_seg/405_1.png is a low contrast image\n",
      "  warn('%s is a low contrast image' % fname)\n",
      "/usr/local/lib/python3.7/site-packages/skimage/io/_io.py:142: UserWarning: ../../datasets/aurora/instagan/train/sampleA_seg/405_1.png is a boolean image: setting True to 1 and False to 0\n",
      "  warn('%s is a boolean image: setting True to 1 and False to 0' % fname)\n"
     ]
    },
    {
     "name": "stdout",
     "output_type": "stream",
     "text": [
      "Processing image ../../datasets/cityscapes-dataset/leftImg8bit_trainvaltest/leftImg8bit/train/strasbourg/strasbourg_000000_014066_leftImg8bit.png\n"
     ]
    },
    {
     "name": "stderr",
     "output_type": "stream",
     "text": [
      "/usr/local/lib/python3.7/site-packages/skimage/io/_io.py:142: UserWarning: ../../datasets/aurora/instagan/train/sampleA_seg/406_0.png is a boolean image: setting True to 1 and False to 0\n",
      "  warn('%s is a boolean image: setting True to 1 and False to 0' % fname)\n"
     ]
    },
    {
     "name": "stdout",
     "output_type": "stream",
     "text": [
      "Processing image ../../datasets/cityscapes-dataset/leftImg8bit_trainvaltest/leftImg8bit/train/strasbourg/strasbourg_000000_000065_leftImg8bit.png\n"
     ]
    },
    {
     "name": "stderr",
     "output_type": "stream",
     "text": [
      "/usr/local/lib/python3.7/site-packages/skimage/io/_io.py:142: UserWarning: ../../datasets/aurora/instagan/train/sampleA_seg/407_0.png is a boolean image: setting True to 1 and False to 0\n",
      "  warn('%s is a boolean image: setting True to 1 and False to 0' % fname)\n"
     ]
    },
    {
     "name": "stdout",
     "output_type": "stream",
     "text": [
      "Processing image ../../datasets/cityscapes-dataset/leftImg8bit_trainvaltest/leftImg8bit/train/strasbourg/strasbourg_000001_024152_leftImg8bit.png\n"
     ]
    },
    {
     "name": "stderr",
     "output_type": "stream",
     "text": [
      "/usr/local/lib/python3.7/site-packages/skimage/io/_io.py:142: UserWarning: ../../datasets/aurora/instagan/train/sampleA_seg/408_0.png is a boolean image: setting True to 1 and False to 0\n",
      "  warn('%s is a boolean image: setting True to 1 and False to 0' % fname)\n",
      "/usr/local/lib/python3.7/site-packages/skimage/io/_io.py:142: UserWarning: ../../datasets/aurora/instagan/train/sampleA_seg/408_1.png is a boolean image: setting True to 1 and False to 0\n",
      "  warn('%s is a boolean image: setting True to 1 and False to 0' % fname)\n"
     ]
    },
    {
     "name": "stdout",
     "output_type": "stream",
     "text": [
      "Processing image ../../datasets/cityscapes-dataset/leftImg8bit_trainvaltest/leftImg8bit/train/strasbourg/strasbourg_000001_035562_leftImg8bit.png\n"
     ]
    },
    {
     "name": "stderr",
     "output_type": "stream",
     "text": [
      "/usr/local/lib/python3.7/site-packages/skimage/io/_io.py:142: UserWarning: ../../datasets/aurora/instagan/train/sampleA_seg/409_0.png is a boolean image: setting True to 1 and False to 0\n",
      "  warn('%s is a boolean image: setting True to 1 and False to 0' % fname)\n",
      "/usr/local/lib/python3.7/site-packages/skimage/io/_io.py:142: UserWarning: ../../datasets/aurora/instagan/train/sampleA_seg/409_1.png is a boolean image: setting True to 1 and False to 0\n",
      "  warn('%s is a boolean image: setting True to 1 and False to 0' % fname)\n"
     ]
    },
    {
     "name": "stdout",
     "output_type": "stream",
     "text": [
      "Processing image ../../datasets/cityscapes-dataset/leftImg8bit_trainvaltest/leftImg8bit/train/strasbourg/strasbourg_000001_037906_leftImg8bit.png\n"
     ]
    },
    {
     "name": "stderr",
     "output_type": "stream",
     "text": [
      "/usr/local/lib/python3.7/site-packages/skimage/io/_io.py:142: UserWarning: ../../datasets/aurora/instagan/train/sampleA_seg/410_0.png is a boolean image: setting True to 1 and False to 0\n",
      "  warn('%s is a boolean image: setting True to 1 and False to 0' % fname)\n"
     ]
    },
    {
     "name": "stdout",
     "output_type": "stream",
     "text": [
      "Processing image ../../datasets/cityscapes-dataset/leftImg8bit_trainvaltest/leftImg8bit/train/strasbourg/strasbourg_000001_003159_leftImg8bit.png\n"
     ]
    },
    {
     "name": "stderr",
     "output_type": "stream",
     "text": [
      "/usr/local/lib/python3.7/site-packages/skimage/io/_io.py:142: UserWarning: ../../datasets/aurora/instagan/train/sampleA_seg/411_0.png is a boolean image: setting True to 1 and False to 0\n",
      "  warn('%s is a boolean image: setting True to 1 and False to 0' % fname)\n"
     ]
    },
    {
     "name": "stdout",
     "output_type": "stream",
     "text": [
      "Processing image ../../datasets/cityscapes-dataset/leftImg8bit_trainvaltest/leftImg8bit/train/strasbourg/strasbourg_000000_003632_leftImg8bit.png\n"
     ]
    },
    {
     "name": "stderr",
     "output_type": "stream",
     "text": [
      "/usr/local/lib/python3.7/site-packages/skimage/io/_io.py:142: UserWarning: ../../datasets/aurora/instagan/train/sampleA_seg/412_0.png is a boolean image: setting True to 1 and False to 0\n",
      "  warn('%s is a boolean image: setting True to 1 and False to 0' % fname)\n",
      "/usr/local/lib/python3.7/site-packages/skimage/io/_io.py:142: UserWarning: ../../datasets/aurora/instagan/train/sampleA_seg/412_1.png is a boolean image: setting True to 1 and False to 0\n",
      "  warn('%s is a boolean image: setting True to 1 and False to 0' % fname)\n"
     ]
    },
    {
     "name": "stdout",
     "output_type": "stream",
     "text": [
      "Processing image ../../datasets/cityscapes-dataset/leftImg8bit_trainvaltest/leftImg8bit/train/strasbourg/strasbourg_000001_049399_leftImg8bit.png\n"
     ]
    },
    {
     "name": "stderr",
     "output_type": "stream",
     "text": [
      "/usr/local/lib/python3.7/site-packages/skimage/io/_io.py:142: UserWarning: ../../datasets/aurora/instagan/train/sampleA_seg/413_0.png is a boolean image: setting True to 1 and False to 0\n",
      "  warn('%s is a boolean image: setting True to 1 and False to 0' % fname)\n",
      "/usr/local/lib/python3.7/site-packages/skimage/io/_io.py:140: UserWarning: ../../datasets/aurora/instagan/train/sampleA_seg/413_1.png is a low contrast image\n",
      "  warn('%s is a low contrast image' % fname)\n",
      "/usr/local/lib/python3.7/site-packages/skimage/io/_io.py:142: UserWarning: ../../datasets/aurora/instagan/train/sampleA_seg/413_1.png is a boolean image: setting True to 1 and False to 0\n",
      "  warn('%s is a boolean image: setting True to 1 and False to 0' % fname)\n",
      "/usr/local/lib/python3.7/site-packages/skimage/io/_io.py:140: UserWarning: ../../datasets/aurora/instagan/train/sampleA_seg/413_2.png is a low contrast image\n",
      "  warn('%s is a low contrast image' % fname)\n",
      "/usr/local/lib/python3.7/site-packages/skimage/io/_io.py:142: UserWarning: ../../datasets/aurora/instagan/train/sampleA_seg/413_2.png is a boolean image: setting True to 1 and False to 0\n",
      "  warn('%s is a boolean image: setting True to 1 and False to 0' % fname)\n",
      "/usr/local/lib/python3.7/site-packages/skimage/io/_io.py:140: UserWarning: ../../datasets/aurora/instagan/train/sampleA_seg/413_3.png is a low contrast image\n",
      "  warn('%s is a low contrast image' % fname)\n",
      "/usr/local/lib/python3.7/site-packages/skimage/io/_io.py:142: UserWarning: ../../datasets/aurora/instagan/train/sampleA_seg/413_3.png is a boolean image: setting True to 1 and False to 0\n",
      "  warn('%s is a boolean image: setting True to 1 and False to 0' % fname)\n"
     ]
    },
    {
     "name": "stdout",
     "output_type": "stream",
     "text": [
      "Processing image ../../datasets/cityscapes-dataset/leftImg8bit_trainvaltest/leftImg8bit/train/strasbourg/strasbourg_000000_022067_leftImg8bit.png\n"
     ]
    },
    {
     "name": "stderr",
     "output_type": "stream",
     "text": [
      "/usr/local/lib/python3.7/site-packages/skimage/io/_io.py:142: UserWarning: ../../datasets/aurora/instagan/train/sampleA_seg/414_0.png is a boolean image: setting True to 1 and False to 0\n",
      "  warn('%s is a boolean image: setting True to 1 and False to 0' % fname)\n",
      "/usr/local/lib/python3.7/site-packages/skimage/io/_io.py:142: UserWarning: ../../datasets/aurora/instagan/train/sampleA_seg/414_1.png is a boolean image: setting True to 1 and False to 0\n",
      "  warn('%s is a boolean image: setting True to 1 and False to 0' % fname)\n",
      "/usr/local/lib/python3.7/site-packages/skimage/io/_io.py:142: UserWarning: ../../datasets/aurora/instagan/train/sampleA_seg/414_2.png is a boolean image: setting True to 1 and False to 0\n",
      "  warn('%s is a boolean image: setting True to 1 and False to 0' % fname)\n",
      "/usr/local/lib/python3.7/site-packages/skimage/io/_io.py:142: UserWarning: ../../datasets/aurora/instagan/train/sampleA_seg/414_3.png is a boolean image: setting True to 1 and False to 0\n",
      "  warn('%s is a boolean image: setting True to 1 and False to 0' % fname)\n",
      "/usr/local/lib/python3.7/site-packages/skimage/io/_io.py:142: UserWarning: ../../datasets/aurora/instagan/train/sampleA_seg/414_4.png is a boolean image: setting True to 1 and False to 0\n",
      "  warn('%s is a boolean image: setting True to 1 and False to 0' % fname)\n"
     ]
    },
    {
     "name": "stdout",
     "output_type": "stream",
     "text": [
      "Processing image ../../datasets/cityscapes-dataset/leftImg8bit_trainvaltest/leftImg8bit/train/strasbourg/strasbourg_000001_003991_leftImg8bit.png\n"
     ]
    },
    {
     "name": "stderr",
     "output_type": "stream",
     "text": [
      "/usr/local/lib/python3.7/site-packages/skimage/io/_io.py:142: UserWarning: ../../datasets/aurora/instagan/train/sampleA_seg/415_0.png is a boolean image: setting True to 1 and False to 0\n",
      "  warn('%s is a boolean image: setting True to 1 and False to 0' % fname)\n",
      "/usr/local/lib/python3.7/site-packages/skimage/io/_io.py:142: UserWarning: ../../datasets/aurora/instagan/train/sampleA_seg/415_1.png is a boolean image: setting True to 1 and False to 0\n",
      "  warn('%s is a boolean image: setting True to 1 and False to 0' % fname)\n"
     ]
    },
    {
     "name": "stdout",
     "output_type": "stream",
     "text": [
      "Processing image ../../datasets/cityscapes-dataset/leftImg8bit_trainvaltest/leftImg8bit/train/strasbourg/strasbourg_000001_030725_leftImg8bit.png\n"
     ]
    },
    {
     "name": "stderr",
     "output_type": "stream",
     "text": [
      "/usr/local/lib/python3.7/site-packages/skimage/io/_io.py:142: UserWarning: ../../datasets/aurora/instagan/train/sampleA_seg/416_0.png is a boolean image: setting True to 1 and False to 0\n",
      "  warn('%s is a boolean image: setting True to 1 and False to 0' % fname)\n"
     ]
    },
    {
     "name": "stdout",
     "output_type": "stream",
     "text": [
      "Processing image ../../datasets/cityscapes-dataset/leftImg8bit_trainvaltest/leftImg8bit/train/strasbourg/strasbourg_000000_013574_leftImg8bit.png\n"
     ]
    },
    {
     "name": "stderr",
     "output_type": "stream",
     "text": [
      "/usr/local/lib/python3.7/site-packages/skimage/io/_io.py:142: UserWarning: ../../datasets/aurora/instagan/train/sampleA_seg/417_0.png is a boolean image: setting True to 1 and False to 0\n",
      "  warn('%s is a boolean image: setting True to 1 and False to 0' % fname)\n",
      "/usr/local/lib/python3.7/site-packages/skimage/io/_io.py:142: UserWarning: ../../datasets/aurora/instagan/train/sampleA_seg/417_1.png is a boolean image: setting True to 1 and False to 0\n",
      "  warn('%s is a boolean image: setting True to 1 and False to 0' % fname)\n"
     ]
    },
    {
     "name": "stdout",
     "output_type": "stream",
     "text": [
      "Processing image ../../datasets/cityscapes-dataset/leftImg8bit_trainvaltest/leftImg8bit/train/strasbourg/strasbourg_000001_004983_leftImg8bit.png\n"
     ]
    },
    {
     "name": "stderr",
     "output_type": "stream",
     "text": [
      "/usr/local/lib/python3.7/site-packages/skimage/io/_io.py:142: UserWarning: ../../datasets/aurora/instagan/train/sampleA_seg/418_0.png is a boolean image: setting True to 1 and False to 0\n",
      "  warn('%s is a boolean image: setting True to 1 and False to 0' % fname)\n",
      "/usr/local/lib/python3.7/site-packages/skimage/io/_io.py:142: UserWarning: ../../datasets/aurora/instagan/train/sampleA_seg/418_1.png is a boolean image: setting True to 1 and False to 0\n",
      "  warn('%s is a boolean image: setting True to 1 and False to 0' % fname)\n"
     ]
    },
    {
     "name": "stdout",
     "output_type": "stream",
     "text": [
      "Processing image ../../datasets/cityscapes-dataset/leftImg8bit_trainvaltest/leftImg8bit/train/strasbourg/strasbourg_000000_023694_leftImg8bit.png\n"
     ]
    },
    {
     "name": "stderr",
     "output_type": "stream",
     "text": [
      "/usr/local/lib/python3.7/site-packages/skimage/io/_io.py:142: UserWarning: ../../datasets/aurora/instagan/train/sampleA_seg/419_0.png is a boolean image: setting True to 1 and False to 0\n",
      "  warn('%s is a boolean image: setting True to 1 and False to 0' % fname)\n",
      "/usr/local/lib/python3.7/site-packages/skimage/io/_io.py:142: UserWarning: ../../datasets/aurora/instagan/train/sampleA_seg/419_1.png is a boolean image: setting True to 1 and False to 0\n",
      "  warn('%s is a boolean image: setting True to 1 and False to 0' % fname)\n"
     ]
    },
    {
     "name": "stdout",
     "output_type": "stream",
     "text": [
      "Processing image ../../datasets/cityscapes-dataset/leftImg8bit_trainvaltest/leftImg8bit/train/strasbourg/strasbourg_000001_004745_leftImg8bit.png\n"
     ]
    },
    {
     "name": "stderr",
     "output_type": "stream",
     "text": [
      "/usr/local/lib/python3.7/site-packages/skimage/io/_io.py:142: UserWarning: ../../datasets/aurora/instagan/train/sampleA_seg/420_0.png is a boolean image: setting True to 1 and False to 0\n",
      "  warn('%s is a boolean image: setting True to 1 and False to 0' % fname)\n"
     ]
    },
    {
     "name": "stdout",
     "output_type": "stream",
     "text": [
      "Processing image ../../datasets/cityscapes-dataset/leftImg8bit_trainvaltest/leftImg8bit/train/strasbourg/strasbourg_000000_013223_leftImg8bit.png\n"
     ]
    },
    {
     "name": "stderr",
     "output_type": "stream",
     "text": [
      "/usr/local/lib/python3.7/site-packages/skimage/io/_io.py:142: UserWarning: ../../datasets/aurora/instagan/train/sampleA_seg/421_0.png is a boolean image: setting True to 1 and False to 0\n",
      "  warn('%s is a boolean image: setting True to 1 and False to 0' % fname)\n",
      "/usr/local/lib/python3.7/site-packages/skimage/io/_io.py:140: UserWarning: ../../datasets/aurora/instagan/train/sampleA_seg/421_1.png is a low contrast image\n",
      "  warn('%s is a low contrast image' % fname)\n",
      "/usr/local/lib/python3.7/site-packages/skimage/io/_io.py:142: UserWarning: ../../datasets/aurora/instagan/train/sampleA_seg/421_1.png is a boolean image: setting True to 1 and False to 0\n",
      "  warn('%s is a boolean image: setting True to 1 and False to 0' % fname)\n",
      "/usr/local/lib/python3.7/site-packages/skimage/io/_io.py:140: UserWarning: ../../datasets/aurora/instagan/train/sampleA_seg/421_2.png is a low contrast image\n",
      "  warn('%s is a low contrast image' % fname)\n",
      "/usr/local/lib/python3.7/site-packages/skimage/io/_io.py:142: UserWarning: ../../datasets/aurora/instagan/train/sampleA_seg/421_2.png is a boolean image: setting True to 1 and False to 0\n",
      "  warn('%s is a boolean image: setting True to 1 and False to 0' % fname)\n"
     ]
    },
    {
     "name": "stdout",
     "output_type": "stream",
     "text": [
      "Processing image ../../datasets/cityscapes-dataset/leftImg8bit_trainvaltest/leftImg8bit/train/strasbourg/strasbourg_000001_041215_leftImg8bit.png\n"
     ]
    },
    {
     "name": "stderr",
     "output_type": "stream",
     "text": [
      "/usr/local/lib/python3.7/site-packages/skimage/io/_io.py:142: UserWarning: ../../datasets/aurora/instagan/train/sampleA_seg/422_0.png is a boolean image: setting True to 1 and False to 0\n",
      "  warn('%s is a boolean image: setting True to 1 and False to 0' % fname)\n"
     ]
    },
    {
     "name": "stdout",
     "output_type": "stream",
     "text": [
      "Processing image ../../datasets/cityscapes-dataset/leftImg8bit_trainvaltest/leftImg8bit/train/strasbourg/strasbourg_000000_029339_leftImg8bit.png\n"
     ]
    },
    {
     "name": "stderr",
     "output_type": "stream",
     "text": [
      "/usr/local/lib/python3.7/site-packages/skimage/io/_io.py:142: UserWarning: ../../datasets/aurora/instagan/train/sampleA_seg/423_0.png is a boolean image: setting True to 1 and False to 0\n",
      "  warn('%s is a boolean image: setting True to 1 and False to 0' % fname)\n"
     ]
    },
    {
     "name": "stdout",
     "output_type": "stream",
     "text": [
      "Processing image ../../datasets/cityscapes-dataset/leftImg8bit_trainvaltest/leftImg8bit/train/strasbourg/strasbourg_000001_027097_leftImg8bit.png\n"
     ]
    },
    {
     "name": "stderr",
     "output_type": "stream",
     "text": [
      "/usr/local/lib/python3.7/site-packages/skimage/io/_io.py:142: UserWarning: ../../datasets/aurora/instagan/train/sampleA_seg/424_0.png is a boolean image: setting True to 1 and False to 0\n",
      "  warn('%s is a boolean image: setting True to 1 and False to 0' % fname)\n",
      "/usr/local/lib/python3.7/site-packages/skimage/io/_io.py:142: UserWarning: ../../datasets/aurora/instagan/train/sampleA_seg/424_1.png is a boolean image: setting True to 1 and False to 0\n",
      "  warn('%s is a boolean image: setting True to 1 and False to 0' % fname)\n"
     ]
    },
    {
     "name": "stdout",
     "output_type": "stream",
     "text": [
      "Processing image ../../datasets/cityscapes-dataset/leftImg8bit_trainvaltest/leftImg8bit/train/strasbourg/strasbourg_000000_000751_leftImg8bit.png\n"
     ]
    },
    {
     "name": "stderr",
     "output_type": "stream",
     "text": [
      "/usr/local/lib/python3.7/site-packages/skimage/io/_io.py:142: UserWarning: ../../datasets/aurora/instagan/train/sampleA_seg/425_0.png is a boolean image: setting True to 1 and False to 0\n",
      "  warn('%s is a boolean image: setting True to 1 and False to 0' % fname)\n",
      "/usr/local/lib/python3.7/site-packages/skimage/io/_io.py:140: UserWarning: ../../datasets/aurora/instagan/train/sampleA_seg/425_1.png is a low contrast image\n",
      "  warn('%s is a low contrast image' % fname)\n",
      "/usr/local/lib/python3.7/site-packages/skimage/io/_io.py:142: UserWarning: ../../datasets/aurora/instagan/train/sampleA_seg/425_1.png is a boolean image: setting True to 1 and False to 0\n",
      "  warn('%s is a boolean image: setting True to 1 and False to 0' % fname)\n",
      "/usr/local/lib/python3.7/site-packages/skimage/io/_io.py:140: UserWarning: ../../datasets/aurora/instagan/train/sampleA_seg/425_2.png is a low contrast image\n",
      "  warn('%s is a low contrast image' % fname)\n",
      "/usr/local/lib/python3.7/site-packages/skimage/io/_io.py:142: UserWarning: ../../datasets/aurora/instagan/train/sampleA_seg/425_2.png is a boolean image: setting True to 1 and False to 0\n",
      "  warn('%s is a boolean image: setting True to 1 and False to 0' % fname)\n",
      "/usr/local/lib/python3.7/site-packages/skimage/io/_io.py:140: UserWarning: ../../datasets/aurora/instagan/train/sampleA_seg/425_3.png is a low contrast image\n",
      "  warn('%s is a low contrast image' % fname)\n",
      "/usr/local/lib/python3.7/site-packages/skimage/io/_io.py:142: UserWarning: ../../datasets/aurora/instagan/train/sampleA_seg/425_3.png is a boolean image: setting True to 1 and False to 0\n",
      "  warn('%s is a boolean image: setting True to 1 and False to 0' % fname)\n"
     ]
    },
    {
     "name": "stdout",
     "output_type": "stream",
     "text": [
      "Processing image ../../datasets/cityscapes-dataset/leftImg8bit_trainvaltest/leftImg8bit/train/strasbourg/strasbourg_000001_037645_leftImg8bit.png\n"
     ]
    },
    {
     "name": "stderr",
     "output_type": "stream",
     "text": [
      "/usr/local/lib/python3.7/site-packages/skimage/io/_io.py:142: UserWarning: ../../datasets/aurora/instagan/train/sampleA_seg/426_0.png is a boolean image: setting True to 1 and False to 0\n",
      "  warn('%s is a boolean image: setting True to 1 and False to 0' % fname)\n",
      "/usr/local/lib/python3.7/site-packages/skimage/io/_io.py:142: UserWarning: ../../datasets/aurora/instagan/train/sampleA_seg/426_1.png is a boolean image: setting True to 1 and False to 0\n",
      "  warn('%s is a boolean image: setting True to 1 and False to 0' % fname)\n",
      "/usr/local/lib/python3.7/site-packages/skimage/io/_io.py:140: UserWarning: ../../datasets/aurora/instagan/train/sampleA_seg/426_2.png is a low contrast image\n",
      "  warn('%s is a low contrast image' % fname)\n",
      "/usr/local/lib/python3.7/site-packages/skimage/io/_io.py:142: UserWarning: ../../datasets/aurora/instagan/train/sampleA_seg/426_2.png is a boolean image: setting True to 1 and False to 0\n",
      "  warn('%s is a boolean image: setting True to 1 and False to 0' % fname)\n",
      "/usr/local/lib/python3.7/site-packages/skimage/io/_io.py:142: UserWarning: ../../datasets/aurora/instagan/train/sampleA_seg/426_3.png is a boolean image: setting True to 1 and False to 0\n",
      "  warn('%s is a boolean image: setting True to 1 and False to 0' % fname)\n"
     ]
    },
    {
     "name": "stdout",
     "output_type": "stream",
     "text": [
      "Processing image ../../datasets/cityscapes-dataset/leftImg8bit_trainvaltest/leftImg8bit/train/strasbourg/strasbourg_000001_049143_leftImg8bit.png\n"
     ]
    },
    {
     "name": "stderr",
     "output_type": "stream",
     "text": [
      "/usr/local/lib/python3.7/site-packages/skimage/io/_io.py:142: UserWarning: ../../datasets/aurora/instagan/train/sampleA_seg/427_0.png is a boolean image: setting True to 1 and False to 0\n",
      "  warn('%s is a boolean image: setting True to 1 and False to 0' % fname)\n"
     ]
    },
    {
     "name": "stdout",
     "output_type": "stream",
     "text": [
      "Processing image ../../datasets/cityscapes-dataset/leftImg8bit_trainvaltest/leftImg8bit/train/strasbourg/strasbourg_000000_004951_leftImg8bit.png\n"
     ]
    },
    {
     "name": "stderr",
     "output_type": "stream",
     "text": [
      "/usr/local/lib/python3.7/site-packages/skimage/io/_io.py:142: UserWarning: ../../datasets/aurora/instagan/train/sampleA_seg/428_0.png is a boolean image: setting True to 1 and False to 0\n",
      "  warn('%s is a boolean image: setting True to 1 and False to 0' % fname)\n"
     ]
    },
    {
     "name": "stdout",
     "output_type": "stream",
     "text": [
      "Processing image ../../datasets/cityscapes-dataset/leftImg8bit_trainvaltest/leftImg8bit/train/strasbourg/strasbourg_000000_019355_leftImg8bit.png\n"
     ]
    },
    {
     "name": "stderr",
     "output_type": "stream",
     "text": [
      "/usr/local/lib/python3.7/site-packages/skimage/io/_io.py:142: UserWarning: ../../datasets/aurora/instagan/train/sampleA_seg/429_0.png is a boolean image: setting True to 1 and False to 0\n",
      "  warn('%s is a boolean image: setting True to 1 and False to 0' % fname)\n",
      "/usr/local/lib/python3.7/site-packages/skimage/io/_io.py:142: UserWarning: ../../datasets/aurora/instagan/train/sampleA_seg/429_1.png is a boolean image: setting True to 1 and False to 0\n",
      "  warn('%s is a boolean image: setting True to 1 and False to 0' % fname)\n",
      "/usr/local/lib/python3.7/site-packages/skimage/io/_io.py:142: UserWarning: ../../datasets/aurora/instagan/train/sampleA_seg/429_2.png is a boolean image: setting True to 1 and False to 0\n",
      "  warn('%s is a boolean image: setting True to 1 and False to 0' % fname)\n"
     ]
    },
    {
     "name": "stdout",
     "output_type": "stream",
     "text": [
      "Processing image ../../datasets/cityscapes-dataset/leftImg8bit_trainvaltest/leftImg8bit/train/strasbourg/strasbourg_000001_036232_leftImg8bit.png\n"
     ]
    },
    {
     "name": "stderr",
     "output_type": "stream",
     "text": [
      "/usr/local/lib/python3.7/site-packages/skimage/io/_io.py:142: UserWarning: ../../datasets/aurora/instagan/train/sampleA_seg/430_0.png is a boolean image: setting True to 1 and False to 0\n",
      "  warn('%s is a boolean image: setting True to 1 and False to 0' % fname)\n",
      "/usr/local/lib/python3.7/site-packages/skimage/io/_io.py:142: UserWarning: ../../datasets/aurora/instagan/train/sampleA_seg/430_1.png is a boolean image: setting True to 1 and False to 0\n",
      "  warn('%s is a boolean image: setting True to 1 and False to 0' % fname)\n",
      "/usr/local/lib/python3.7/site-packages/skimage/io/_io.py:140: UserWarning: ../../datasets/aurora/instagan/train/sampleA_seg/430_2.png is a low contrast image\n",
      "  warn('%s is a low contrast image' % fname)\n",
      "/usr/local/lib/python3.7/site-packages/skimage/io/_io.py:142: UserWarning: ../../datasets/aurora/instagan/train/sampleA_seg/430_2.png is a boolean image: setting True to 1 and False to 0\n",
      "  warn('%s is a boolean image: setting True to 1 and False to 0' % fname)\n"
     ]
    },
    {
     "name": "stdout",
     "output_type": "stream",
     "text": [
      "Processing image ../../datasets/cityscapes-dataset/leftImg8bit_trainvaltest/leftImg8bit/train/strasbourg/strasbourg_000000_031602_leftImg8bit.png\n"
     ]
    },
    {
     "name": "stderr",
     "output_type": "stream",
     "text": [
      "/usr/local/lib/python3.7/site-packages/skimage/io/_io.py:142: UserWarning: ../../datasets/aurora/instagan/train/sampleA_seg/431_0.png is a boolean image: setting True to 1 and False to 0\n",
      "  warn('%s is a boolean image: setting True to 1 and False to 0' % fname)\n",
      "/usr/local/lib/python3.7/site-packages/skimage/io/_io.py:142: UserWarning: ../../datasets/aurora/instagan/train/sampleA_seg/431_1.png is a boolean image: setting True to 1 and False to 0\n",
      "  warn('%s is a boolean image: setting True to 1 and False to 0' % fname)\n"
     ]
    },
    {
     "name": "stdout",
     "output_type": "stream",
     "text": [
      "Processing image ../../datasets/cityscapes-dataset/leftImg8bit_trainvaltest/leftImg8bit/train/strasbourg/strasbourg_000001_028852_leftImg8bit.png\n"
     ]
    },
    {
     "name": "stderr",
     "output_type": "stream",
     "text": [
      "/usr/local/lib/python3.7/site-packages/skimage/io/_io.py:142: UserWarning: ../../datasets/aurora/instagan/train/sampleA_seg/432_0.png is a boolean image: setting True to 1 and False to 0\n",
      "  warn('%s is a boolean image: setting True to 1 and False to 0' % fname)\n",
      "/usr/local/lib/python3.7/site-packages/skimage/io/_io.py:142: UserWarning: ../../datasets/aurora/instagan/train/sampleA_seg/432_1.png is a boolean image: setting True to 1 and False to 0\n",
      "  warn('%s is a boolean image: setting True to 1 and False to 0' % fname)\n",
      "/usr/local/lib/python3.7/site-packages/skimage/io/_io.py:142: UserWarning: ../../datasets/aurora/instagan/train/sampleA_seg/432_2.png is a boolean image: setting True to 1 and False to 0\n",
      "  warn('%s is a boolean image: setting True to 1 and False to 0' % fname)\n"
     ]
    },
    {
     "name": "stdout",
     "output_type": "stream",
     "text": [
      "Processing image ../../datasets/cityscapes-dataset/leftImg8bit_trainvaltest/leftImg8bit/train/strasbourg/strasbourg_000000_033062_leftImg8bit.png\n"
     ]
    },
    {
     "name": "stderr",
     "output_type": "stream",
     "text": [
      "/usr/local/lib/python3.7/site-packages/skimage/io/_io.py:142: UserWarning: ../../datasets/aurora/instagan/train/sampleA_seg/433_0.png is a boolean image: setting True to 1 and False to 0\n",
      "  warn('%s is a boolean image: setting True to 1 and False to 0' % fname)\n",
      "/usr/local/lib/python3.7/site-packages/skimage/io/_io.py:140: UserWarning: ../../datasets/aurora/instagan/train/sampleA_seg/433_1.png is a low contrast image\n",
      "  warn('%s is a low contrast image' % fname)\n",
      "/usr/local/lib/python3.7/site-packages/skimage/io/_io.py:142: UserWarning: ../../datasets/aurora/instagan/train/sampleA_seg/433_1.png is a boolean image: setting True to 1 and False to 0\n",
      "  warn('%s is a boolean image: setting True to 1 and False to 0' % fname)\n"
     ]
    },
    {
     "name": "stdout",
     "output_type": "stream",
     "text": [
      "Processing image ../../datasets/cityscapes-dataset/leftImg8bit_trainvaltest/leftImg8bit/train/strasbourg/strasbourg_000000_008784_leftImg8bit.png\n"
     ]
    },
    {
     "name": "stderr",
     "output_type": "stream",
     "text": [
      "/usr/local/lib/python3.7/site-packages/skimage/io/_io.py:142: UserWarning: ../../datasets/aurora/instagan/train/sampleA_seg/434_0.png is a boolean image: setting True to 1 and False to 0\n",
      "  warn('%s is a boolean image: setting True to 1 and False to 0' % fname)\n"
     ]
    },
    {
     "name": "stdout",
     "output_type": "stream",
     "text": [
      "Processing image ../../datasets/cityscapes-dataset/leftImg8bit_trainvaltest/leftImg8bit/train/strasbourg/strasbourg_000000_010372_leftImg8bit.png\n"
     ]
    },
    {
     "name": "stderr",
     "output_type": "stream",
     "text": [
      "/usr/local/lib/python3.7/site-packages/skimage/io/_io.py:142: UserWarning: ../../datasets/aurora/instagan/train/sampleA_seg/435_0.png is a boolean image: setting True to 1 and False to 0\n",
      "  warn('%s is a boolean image: setting True to 1 and False to 0' % fname)\n"
     ]
    },
    {
     "name": "stdout",
     "output_type": "stream",
     "text": [
      "Processing image ../../datasets/cityscapes-dataset/leftImg8bit_trainvaltest/leftImg8bit/train/strasbourg/strasbourg_000001_000508_leftImg8bit.png\n"
     ]
    },
    {
     "name": "stderr",
     "output_type": "stream",
     "text": [
      "/usr/local/lib/python3.7/site-packages/skimage/io/_io.py:142: UserWarning: ../../datasets/aurora/instagan/train/sampleA_seg/436_0.png is a boolean image: setting True to 1 and False to 0\n",
      "  warn('%s is a boolean image: setting True to 1 and False to 0' % fname)\n",
      "/usr/local/lib/python3.7/site-packages/skimage/io/_io.py:140: UserWarning: ../../datasets/aurora/instagan/train/sampleA_seg/436_1.png is a low contrast image\n",
      "  warn('%s is a low contrast image' % fname)\n",
      "/usr/local/lib/python3.7/site-packages/skimage/io/_io.py:142: UserWarning: ../../datasets/aurora/instagan/train/sampleA_seg/436_1.png is a boolean image: setting True to 1 and False to 0\n",
      "  warn('%s is a boolean image: setting True to 1 and False to 0' % fname)\n"
     ]
    },
    {
     "name": "stdout",
     "output_type": "stream",
     "text": [
      "Processing image ../../datasets/cityscapes-dataset/leftImg8bit_trainvaltest/leftImg8bit/train/strasbourg/strasbourg_000001_046324_leftImg8bit.png\n"
     ]
    },
    {
     "name": "stderr",
     "output_type": "stream",
     "text": [
      "/usr/local/lib/python3.7/site-packages/skimage/io/_io.py:142: UserWarning: ../../datasets/aurora/instagan/train/sampleA_seg/437_0.png is a boolean image: setting True to 1 and False to 0\n",
      "  warn('%s is a boolean image: setting True to 1 and False to 0' % fname)\n",
      "/usr/local/lib/python3.7/site-packages/skimage/io/_io.py:142: UserWarning: ../../datasets/aurora/instagan/train/sampleA_seg/437_1.png is a boolean image: setting True to 1 and False to 0\n",
      "  warn('%s is a boolean image: setting True to 1 and False to 0' % fname)\n"
     ]
    },
    {
     "name": "stdout",
     "output_type": "stream",
     "text": [
      "Processing image ../../datasets/cityscapes-dataset/leftImg8bit_trainvaltest/leftImg8bit/train/strasbourg/strasbourg_000000_034652_leftImg8bit.png\n"
     ]
    },
    {
     "name": "stderr",
     "output_type": "stream",
     "text": [
      "/usr/local/lib/python3.7/site-packages/skimage/io/_io.py:140: UserWarning: ../../datasets/aurora/instagan/train/sampleA_seg/438_0.png is a low contrast image\n",
      "  warn('%s is a low contrast image' % fname)\n",
      "/usr/local/lib/python3.7/site-packages/skimage/io/_io.py:142: UserWarning: ../../datasets/aurora/instagan/train/sampleA_seg/438_0.png is a boolean image: setting True to 1 and False to 0\n",
      "  warn('%s is a boolean image: setting True to 1 and False to 0' % fname)\n"
     ]
    },
    {
     "name": "stdout",
     "output_type": "stream",
     "text": [
      "Processing image ../../datasets/cityscapes-dataset/leftImg8bit_trainvaltest/leftImg8bit/train/strasbourg/strasbourg_000001_053222_leftImg8bit.png\n"
     ]
    },
    {
     "name": "stderr",
     "output_type": "stream",
     "text": [
      "/usr/local/lib/python3.7/site-packages/skimage/io/_io.py:142: UserWarning: ../../datasets/aurora/instagan/train/sampleA_seg/439_0.png is a boolean image: setting True to 1 and False to 0\n",
      "  warn('%s is a boolean image: setting True to 1 and False to 0' % fname)\n",
      "/usr/local/lib/python3.7/site-packages/skimage/io/_io.py:142: UserWarning: ../../datasets/aurora/instagan/train/sampleA_seg/439_1.png is a boolean image: setting True to 1 and False to 0\n",
      "  warn('%s is a boolean image: setting True to 1 and False to 0' % fname)\n",
      "/usr/local/lib/python3.7/site-packages/skimage/io/_io.py:142: UserWarning: ../../datasets/aurora/instagan/train/sampleA_seg/439_2.png is a boolean image: setting True to 1 and False to 0\n",
      "  warn('%s is a boolean image: setting True to 1 and False to 0' % fname)\n",
      "/usr/local/lib/python3.7/site-packages/skimage/io/_io.py:142: UserWarning: ../../datasets/aurora/instagan/train/sampleA_seg/439_3.png is a boolean image: setting True to 1 and False to 0\n",
      "  warn('%s is a boolean image: setting True to 1 and False to 0' % fname)\n"
     ]
    },
    {
     "name": "stdout",
     "output_type": "stream",
     "text": [
      "Processing image ../../datasets/cityscapes-dataset/leftImg8bit_trainvaltest/leftImg8bit/train/strasbourg/strasbourg_000001_002644_leftImg8bit.png\n"
     ]
    },
    {
     "name": "stderr",
     "output_type": "stream",
     "text": [
      "/usr/local/lib/python3.7/site-packages/skimage/io/_io.py:142: UserWarning: ../../datasets/aurora/instagan/train/sampleA_seg/440_0.png is a boolean image: setting True to 1 and False to 0\n",
      "  warn('%s is a boolean image: setting True to 1 and False to 0' % fname)\n"
     ]
    },
    {
     "name": "stdout",
     "output_type": "stream",
     "text": [
      "Processing image ../../datasets/cityscapes-dataset/leftImg8bit_trainvaltest/leftImg8bit/train/strasbourg/strasbourg_000000_005249_leftImg8bit.png\n"
     ]
    },
    {
     "name": "stderr",
     "output_type": "stream",
     "text": [
      "/usr/local/lib/python3.7/site-packages/skimage/io/_io.py:142: UserWarning: ../../datasets/aurora/instagan/train/sampleA_seg/441_0.png is a boolean image: setting True to 1 and False to 0\n",
      "  warn('%s is a boolean image: setting True to 1 and False to 0' % fname)\n",
      "/usr/local/lib/python3.7/site-packages/skimage/io/_io.py:142: UserWarning: ../../datasets/aurora/instagan/train/sampleA_seg/441_1.png is a boolean image: setting True to 1 and False to 0\n",
      "  warn('%s is a boolean image: setting True to 1 and False to 0' % fname)\n"
     ]
    },
    {
     "name": "stdout",
     "output_type": "stream",
     "text": [
      "Processing image ../../datasets/cityscapes-dataset/leftImg8bit_trainvaltest/leftImg8bit/train/strasbourg/strasbourg_000001_037090_leftImg8bit.png\n"
     ]
    },
    {
     "name": "stderr",
     "output_type": "stream",
     "text": [
      "/usr/local/lib/python3.7/site-packages/skimage/io/_io.py:142: UserWarning: ../../datasets/aurora/instagan/train/sampleA_seg/442_0.png is a boolean image: setting True to 1 and False to 0\n",
      "  warn('%s is a boolean image: setting True to 1 and False to 0' % fname)\n"
     ]
    },
    {
     "name": "stdout",
     "output_type": "stream",
     "text": [
      "Processing image ../../datasets/cityscapes-dataset/leftImg8bit_trainvaltest/leftImg8bit/train/strasbourg/strasbourg_000001_062542_leftImg8bit.png\n"
     ]
    },
    {
     "name": "stderr",
     "output_type": "stream",
     "text": [
      "/usr/local/lib/python3.7/site-packages/skimage/io/_io.py:140: UserWarning: ../../datasets/aurora/instagan/train/sampleA_seg/443_0.png is a low contrast image\n",
      "  warn('%s is a low contrast image' % fname)\n",
      "/usr/local/lib/python3.7/site-packages/skimage/io/_io.py:142: UserWarning: ../../datasets/aurora/instagan/train/sampleA_seg/443_0.png is a boolean image: setting True to 1 and False to 0\n",
      "  warn('%s is a boolean image: setting True to 1 and False to 0' % fname)\n",
      "/usr/local/lib/python3.7/site-packages/skimage/io/_io.py:142: UserWarning: ../../datasets/aurora/instagan/train/sampleA_seg/443_1.png is a boolean image: setting True to 1 and False to 0\n",
      "  warn('%s is a boolean image: setting True to 1 and False to 0' % fname)\n"
     ]
    },
    {
     "name": "stdout",
     "output_type": "stream",
     "text": [
      "Processing image ../../datasets/cityscapes-dataset/leftImg8bit_trainvaltest/leftImg8bit/train/strasbourg/strasbourg_000001_006562_leftImg8bit.png\n"
     ]
    },
    {
     "name": "stderr",
     "output_type": "stream",
     "text": [
      "/usr/local/lib/python3.7/site-packages/skimage/io/_io.py:142: UserWarning: ../../datasets/aurora/instagan/train/sampleA_seg/444_0.png is a boolean image: setting True to 1 and False to 0\n",
      "  warn('%s is a boolean image: setting True to 1 and False to 0' % fname)\n"
     ]
    },
    {
     "name": "stdout",
     "output_type": "stream",
     "text": [
      "Processing image ../../datasets/cityscapes-dataset/leftImg8bit_trainvaltest/leftImg8bit/train/strasbourg/strasbourg_000000_035008_leftImg8bit.png\n"
     ]
    },
    {
     "name": "stderr",
     "output_type": "stream",
     "text": [
      "/usr/local/lib/python3.7/site-packages/skimage/io/_io.py:140: UserWarning: ../../datasets/aurora/instagan/train/sampleA_seg/445_0.png is a low contrast image\n",
      "  warn('%s is a low contrast image' % fname)\n",
      "/usr/local/lib/python3.7/site-packages/skimage/io/_io.py:142: UserWarning: ../../datasets/aurora/instagan/train/sampleA_seg/445_0.png is a boolean image: setting True to 1 and False to 0\n",
      "  warn('%s is a boolean image: setting True to 1 and False to 0' % fname)\n"
     ]
    },
    {
     "name": "stdout",
     "output_type": "stream",
     "text": [
      "Processing image ../../datasets/cityscapes-dataset/leftImg8bit_trainvaltest/leftImg8bit/train/strasbourg/strasbourg_000001_040564_leftImg8bit.png\n"
     ]
    },
    {
     "name": "stderr",
     "output_type": "stream",
     "text": [
      "/usr/local/lib/python3.7/site-packages/skimage/io/_io.py:142: UserWarning: ../../datasets/aurora/instagan/train/sampleA_seg/446_0.png is a boolean image: setting True to 1 and False to 0\n",
      "  warn('%s is a boolean image: setting True to 1 and False to 0' % fname)\n"
     ]
    },
    {
     "name": "stdout",
     "output_type": "stream",
     "text": [
      "Processing image ../../datasets/cityscapes-dataset/leftImg8bit_trainvaltest/leftImg8bit/train/strasbourg/strasbourg_000000_018358_leftImg8bit.png\n"
     ]
    },
    {
     "name": "stderr",
     "output_type": "stream",
     "text": [
      "/usr/local/lib/python3.7/site-packages/skimage/io/_io.py:140: UserWarning: ../../datasets/aurora/instagan/train/sampleA_seg/447_0.png is a low contrast image\n",
      "  warn('%s is a low contrast image' % fname)\n",
      "/usr/local/lib/python3.7/site-packages/skimage/io/_io.py:142: UserWarning: ../../datasets/aurora/instagan/train/sampleA_seg/447_0.png is a boolean image: setting True to 1 and False to 0\n",
      "  warn('%s is a boolean image: setting True to 1 and False to 0' % fname)\n"
     ]
    },
    {
     "name": "stdout",
     "output_type": "stream",
     "text": [
      "Processing image ../../datasets/cityscapes-dataset/leftImg8bit_trainvaltest/leftImg8bit/train/strasbourg/strasbourg_000001_033448_leftImg8bit.png\n"
     ]
    },
    {
     "name": "stderr",
     "output_type": "stream",
     "text": [
      "/usr/local/lib/python3.7/site-packages/skimage/io/_io.py:142: UserWarning: ../../datasets/aurora/instagan/train/sampleA_seg/448_0.png is a boolean image: setting True to 1 and False to 0\n",
      "  warn('%s is a boolean image: setting True to 1 and False to 0' % fname)\n"
     ]
    },
    {
     "name": "stdout",
     "output_type": "stream",
     "text": [
      "Processing image ../../datasets/cityscapes-dataset/leftImg8bit_trainvaltest/leftImg8bit/train/strasbourg/strasbourg_000000_029577_leftImg8bit.png\n"
     ]
    },
    {
     "name": "stderr",
     "output_type": "stream",
     "text": [
      "/usr/local/lib/python3.7/site-packages/skimage/io/_io.py:142: UserWarning: ../../datasets/aurora/instagan/train/sampleA_seg/449_0.png is a boolean image: setting True to 1 and False to 0\n",
      "  warn('%s is a boolean image: setting True to 1 and False to 0' % fname)\n"
     ]
    },
    {
     "name": "stdout",
     "output_type": "stream",
     "text": [
      "Processing image ../../datasets/cityscapes-dataset/leftImg8bit_trainvaltest/leftImg8bit/train/strasbourg/strasbourg_000000_022489_leftImg8bit.png\n"
     ]
    },
    {
     "name": "stderr",
     "output_type": "stream",
     "text": [
      "/usr/local/lib/python3.7/site-packages/skimage/io/_io.py:142: UserWarning: ../../datasets/aurora/instagan/train/sampleA_seg/450_0.png is a boolean image: setting True to 1 and False to 0\n",
      "  warn('%s is a boolean image: setting True to 1 and False to 0' % fname)\n",
      "/usr/local/lib/python3.7/site-packages/skimage/io/_io.py:140: UserWarning: ../../datasets/aurora/instagan/train/sampleA_seg/450_1.png is a low contrast image\n",
      "  warn('%s is a low contrast image' % fname)\n",
      "/usr/local/lib/python3.7/site-packages/skimage/io/_io.py:142: UserWarning: ../../datasets/aurora/instagan/train/sampleA_seg/450_1.png is a boolean image: setting True to 1 and False to 0\n",
      "  warn('%s is a boolean image: setting True to 1 and False to 0' % fname)\n"
     ]
    },
    {
     "name": "stdout",
     "output_type": "stream",
     "text": [
      "Processing image ../../datasets/cityscapes-dataset/leftImg8bit_trainvaltest/leftImg8bit/train/strasbourg/strasbourg_000000_010049_leftImg8bit.png\n"
     ]
    },
    {
     "name": "stderr",
     "output_type": "stream",
     "text": [
      "/usr/local/lib/python3.7/site-packages/skimage/io/_io.py:142: UserWarning: ../../datasets/aurora/instagan/train/sampleA_seg/451_0.png is a boolean image: setting True to 1 and False to 0\n",
      "  warn('%s is a boolean image: setting True to 1 and False to 0' % fname)\n"
     ]
    },
    {
     "name": "stdout",
     "output_type": "stream",
     "text": [
      "Processing image ../../datasets/cityscapes-dataset/leftImg8bit_trainvaltest/leftImg8bit/train/strasbourg/strasbourg_000000_033747_leftImg8bit.png\n"
     ]
    },
    {
     "name": "stderr",
     "output_type": "stream",
     "text": [
      "/usr/local/lib/python3.7/site-packages/skimage/io/_io.py:142: UserWarning: ../../datasets/aurora/instagan/train/sampleA_seg/452_0.png is a boolean image: setting True to 1 and False to 0\n",
      "  warn('%s is a boolean image: setting True to 1 and False to 0' % fname)\n",
      "/usr/local/lib/python3.7/site-packages/skimage/io/_io.py:140: UserWarning: ../../datasets/aurora/instagan/train/sampleA_seg/452_1.png is a low contrast image\n",
      "  warn('%s is a low contrast image' % fname)\n",
      "/usr/local/lib/python3.7/site-packages/skimage/io/_io.py:142: UserWarning: ../../datasets/aurora/instagan/train/sampleA_seg/452_1.png is a boolean image: setting True to 1 and False to 0\n",
      "  warn('%s is a boolean image: setting True to 1 and False to 0' % fname)\n"
     ]
    },
    {
     "name": "stdout",
     "output_type": "stream",
     "text": [
      "Processing image ../../datasets/cityscapes-dataset/leftImg8bit_trainvaltest/leftImg8bit/train/strasbourg/strasbourg_000000_016024_leftImg8bit.png\n"
     ]
    },
    {
     "name": "stderr",
     "output_type": "stream",
     "text": [
      "/usr/local/lib/python3.7/site-packages/skimage/io/_io.py:142: UserWarning: ../../datasets/aurora/instagan/train/sampleA_seg/453_0.png is a boolean image: setting True to 1 and False to 0\n",
      "  warn('%s is a boolean image: setting True to 1 and False to 0' % fname)\n"
     ]
    },
    {
     "name": "stdout",
     "output_type": "stream",
     "text": [
      "Processing image ../../datasets/cityscapes-dataset/leftImg8bit_trainvaltest/leftImg8bit/train/strasbourg/strasbourg_000000_032186_leftImg8bit.png\n"
     ]
    },
    {
     "name": "stderr",
     "output_type": "stream",
     "text": [
      "/usr/local/lib/python3.7/site-packages/skimage/io/_io.py:142: UserWarning: ../../datasets/aurora/instagan/train/sampleA_seg/454_0.png is a boolean image: setting True to 1 and False to 0\n",
      "  warn('%s is a boolean image: setting True to 1 and False to 0' % fname)\n",
      "/usr/local/lib/python3.7/site-packages/skimage/io/_io.py:142: UserWarning: ../../datasets/aurora/instagan/train/sampleA_seg/454_1.png is a boolean image: setting True to 1 and False to 0\n",
      "  warn('%s is a boolean image: setting True to 1 and False to 0' % fname)\n"
     ]
    },
    {
     "name": "stdout",
     "output_type": "stream",
     "text": [
      "Processing image ../../datasets/cityscapes-dataset/leftImg8bit_trainvaltest/leftImg8bit/train/strasbourg/strasbourg_000000_030324_leftImg8bit.png\n"
     ]
    },
    {
     "name": "stderr",
     "output_type": "stream",
     "text": [
      "/usr/local/lib/python3.7/site-packages/skimage/io/_io.py:142: UserWarning: ../../datasets/aurora/instagan/train/sampleA_seg/455_0.png is a boolean image: setting True to 1 and False to 0\n",
      "  warn('%s is a boolean image: setting True to 1 and False to 0' % fname)\n"
     ]
    },
    {
     "name": "stdout",
     "output_type": "stream",
     "text": [
      "Processing image ../../datasets/cityscapes-dataset/leftImg8bit_trainvaltest/leftImg8bit/train/strasbourg/strasbourg_000000_004660_leftImg8bit.png\n"
     ]
    },
    {
     "name": "stderr",
     "output_type": "stream",
     "text": [
      "/usr/local/lib/python3.7/site-packages/skimage/io/_io.py:142: UserWarning: ../../datasets/aurora/instagan/train/sampleA_seg/456_0.png is a boolean image: setting True to 1 and False to 0\n",
      "  warn('%s is a boolean image: setting True to 1 and False to 0' % fname)\n",
      "/usr/local/lib/python3.7/site-packages/skimage/io/_io.py:142: UserWarning: ../../datasets/aurora/instagan/train/sampleA_seg/456_1.png is a boolean image: setting True to 1 and False to 0\n",
      "  warn('%s is a boolean image: setting True to 1 and False to 0' % fname)\n",
      "/usr/local/lib/python3.7/site-packages/skimage/io/_io.py:140: UserWarning: ../../datasets/aurora/instagan/train/sampleA_seg/456_2.png is a low contrast image\n",
      "  warn('%s is a low contrast image' % fname)\n",
      "/usr/local/lib/python3.7/site-packages/skimage/io/_io.py:142: UserWarning: ../../datasets/aurora/instagan/train/sampleA_seg/456_2.png is a boolean image: setting True to 1 and False to 0\n",
      "  warn('%s is a boolean image: setting True to 1 and False to 0' % fname)\n"
     ]
    },
    {
     "name": "stdout",
     "output_type": "stream",
     "text": [
      "Processing image ../../datasets/cityscapes-dataset/leftImg8bit_trainvaltest/leftImg8bit/train/strasbourg/strasbourg_000001_005219_leftImg8bit.png\n"
     ]
    },
    {
     "name": "stderr",
     "output_type": "stream",
     "text": [
      "/usr/local/lib/python3.7/site-packages/skimage/io/_io.py:142: UserWarning: ../../datasets/aurora/instagan/train/sampleA_seg/457_0.png is a boolean image: setting True to 1 and False to 0\n",
      "  warn('%s is a boolean image: setting True to 1 and False to 0' % fname)\n"
     ]
    },
    {
     "name": "stdout",
     "output_type": "stream",
     "text": [
      "Processing image ../../datasets/cityscapes-dataset/leftImg8bit_trainvaltest/leftImg8bit/train/strasbourg/strasbourg_000000_036016_leftImg8bit.png\n"
     ]
    },
    {
     "name": "stderr",
     "output_type": "stream",
     "text": [
      "/usr/local/lib/python3.7/site-packages/skimage/io/_io.py:142: UserWarning: ../../datasets/aurora/instagan/train/sampleA_seg/458_0.png is a boolean image: setting True to 1 and False to 0\n",
      "  warn('%s is a boolean image: setting True to 1 and False to 0' % fname)\n"
     ]
    },
    {
     "name": "stdout",
     "output_type": "stream",
     "text": [
      "Processing image ../../datasets/cityscapes-dataset/leftImg8bit_trainvaltest/leftImg8bit/train/strasbourg/strasbourg_000000_033425_leftImg8bit.png\n"
     ]
    },
    {
     "name": "stderr",
     "output_type": "stream",
     "text": [
      "/usr/local/lib/python3.7/site-packages/skimage/io/_io.py:142: UserWarning: ../../datasets/aurora/instagan/train/sampleA_seg/459_0.png is a boolean image: setting True to 1 and False to 0\n",
      "  warn('%s is a boolean image: setting True to 1 and False to 0' % fname)\n",
      "/usr/local/lib/python3.7/site-packages/skimage/io/_io.py:140: UserWarning: ../../datasets/aurora/instagan/train/sampleA_seg/459_1.png is a low contrast image\n",
      "  warn('%s is a low contrast image' % fname)\n",
      "/usr/local/lib/python3.7/site-packages/skimage/io/_io.py:142: UserWarning: ../../datasets/aurora/instagan/train/sampleA_seg/459_1.png is a boolean image: setting True to 1 and False to 0\n",
      "  warn('%s is a boolean image: setting True to 1 and False to 0' % fname)\n"
     ]
    },
    {
     "name": "stdout",
     "output_type": "stream",
     "text": [
      "Processing image ../../datasets/cityscapes-dataset/leftImg8bit_trainvaltest/leftImg8bit/train/strasbourg/strasbourg_000001_014629_leftImg8bit.png\n"
     ]
    },
    {
     "name": "stderr",
     "output_type": "stream",
     "text": [
      "/usr/local/lib/python3.7/site-packages/skimage/io/_io.py:142: UserWarning: ../../datasets/aurora/instagan/train/sampleA_seg/460_0.png is a boolean image: setting True to 1 and False to 0\n",
      "  warn('%s is a boolean image: setting True to 1 and False to 0' % fname)\n",
      "/usr/local/lib/python3.7/site-packages/skimage/io/_io.py:140: UserWarning: ../../datasets/aurora/instagan/train/sampleA_seg/460_1.png is a low contrast image\n",
      "  warn('%s is a low contrast image' % fname)\n",
      "/usr/local/lib/python3.7/site-packages/skimage/io/_io.py:142: UserWarning: ../../datasets/aurora/instagan/train/sampleA_seg/460_1.png is a boolean image: setting True to 1 and False to 0\n",
      "  warn('%s is a boolean image: setting True to 1 and False to 0' % fname)\n"
     ]
    },
    {
     "name": "stdout",
     "output_type": "stream",
     "text": [
      "Processing image ../../datasets/cityscapes-dataset/leftImg8bit_trainvaltest/leftImg8bit/train/strasbourg/strasbourg_000001_012956_leftImg8bit.png\n"
     ]
    },
    {
     "name": "stderr",
     "output_type": "stream",
     "text": [
      "/usr/local/lib/python3.7/site-packages/skimage/io/_io.py:140: UserWarning: ../../datasets/aurora/instagan/train/sampleA_seg/461_0.png is a low contrast image\n",
      "  warn('%s is a low contrast image' % fname)\n",
      "/usr/local/lib/python3.7/site-packages/skimage/io/_io.py:142: UserWarning: ../../datasets/aurora/instagan/train/sampleA_seg/461_0.png is a boolean image: setting True to 1 and False to 0\n",
      "  warn('%s is a boolean image: setting True to 1 and False to 0' % fname)\n",
      "/usr/local/lib/python3.7/site-packages/skimage/io/_io.py:140: UserWarning: ../../datasets/aurora/instagan/train/sampleA_seg/461_1.png is a low contrast image\n",
      "  warn('%s is a low contrast image' % fname)\n",
      "/usr/local/lib/python3.7/site-packages/skimage/io/_io.py:142: UserWarning: ../../datasets/aurora/instagan/train/sampleA_seg/461_1.png is a boolean image: setting True to 1 and False to 0\n",
      "  warn('%s is a boolean image: setting True to 1 and False to 0' % fname)\n",
      "/usr/local/lib/python3.7/site-packages/skimage/io/_io.py:142: UserWarning: ../../datasets/aurora/instagan/train/sampleA_seg/461_2.png is a boolean image: setting True to 1 and False to 0\n",
      "  warn('%s is a boolean image: setting True to 1 and False to 0' % fname)\n"
     ]
    },
    {
     "name": "stdout",
     "output_type": "stream",
     "text": [
      "Processing image ../../datasets/cityscapes-dataset/leftImg8bit_trainvaltest/leftImg8bit/train/strasbourg/strasbourg_000001_052297_leftImg8bit.png\n"
     ]
    },
    {
     "name": "stderr",
     "output_type": "stream",
     "text": [
      "/usr/local/lib/python3.7/site-packages/skimage/io/_io.py:142: UserWarning: ../../datasets/aurora/instagan/train/sampleA_seg/462_0.png is a boolean image: setting True to 1 and False to 0\n",
      "  warn('%s is a boolean image: setting True to 1 and False to 0' % fname)\n",
      "/usr/local/lib/python3.7/site-packages/skimage/io/_io.py:142: UserWarning: ../../datasets/aurora/instagan/train/sampleA_seg/462_1.png is a boolean image: setting True to 1 and False to 0\n",
      "  warn('%s is a boolean image: setting True to 1 and False to 0' % fname)\n"
     ]
    },
    {
     "name": "stdout",
     "output_type": "stream",
     "text": [
      "Processing image ../../datasets/cityscapes-dataset/leftImg8bit_trainvaltest/leftImg8bit/train/strasbourg/strasbourg_000000_001278_leftImg8bit.png\n"
     ]
    },
    {
     "name": "stderr",
     "output_type": "stream",
     "text": [
      "/usr/local/lib/python3.7/site-packages/skimage/io/_io.py:142: UserWarning: ../../datasets/aurora/instagan/train/sampleA_seg/463_0.png is a boolean image: setting True to 1 and False to 0\n",
      "  warn('%s is a boolean image: setting True to 1 and False to 0' % fname)\n",
      "/usr/local/lib/python3.7/site-packages/skimage/io/_io.py:142: UserWarning: ../../datasets/aurora/instagan/train/sampleA_seg/463_1.png is a boolean image: setting True to 1 and False to 0\n",
      "  warn('%s is a boolean image: setting True to 1 and False to 0' % fname)\n"
     ]
    },
    {
     "name": "stdout",
     "output_type": "stream",
     "text": [
      "Processing image ../../datasets/cityscapes-dataset/leftImg8bit_trainvaltest/leftImg8bit/train/strasbourg/strasbourg_000001_013914_leftImg8bit.png\n"
     ]
    },
    {
     "name": "stderr",
     "output_type": "stream",
     "text": [
      "/usr/local/lib/python3.7/site-packages/skimage/io/_io.py:140: UserWarning: ../../datasets/aurora/instagan/train/sampleA_seg/464_0.png is a low contrast image\n",
      "  warn('%s is a low contrast image' % fname)\n",
      "/usr/local/lib/python3.7/site-packages/skimage/io/_io.py:142: UserWarning: ../../datasets/aurora/instagan/train/sampleA_seg/464_0.png is a boolean image: setting True to 1 and False to 0\n",
      "  warn('%s is a boolean image: setting True to 1 and False to 0' % fname)\n",
      "/usr/local/lib/python3.7/site-packages/skimage/io/_io.py:142: UserWarning: ../../datasets/aurora/instagan/train/sampleA_seg/464_1.png is a boolean image: setting True to 1 and False to 0\n",
      "  warn('%s is a boolean image: setting True to 1 and False to 0' % fname)\n",
      "/usr/local/lib/python3.7/site-packages/skimage/io/_io.py:140: UserWarning: ../../datasets/aurora/instagan/train/sampleA_seg/464_2.png is a low contrast image\n",
      "  warn('%s is a low contrast image' % fname)\n",
      "/usr/local/lib/python3.7/site-packages/skimage/io/_io.py:142: UserWarning: ../../datasets/aurora/instagan/train/sampleA_seg/464_2.png is a boolean image: setting True to 1 and False to 0\n",
      "  warn('%s is a boolean image: setting True to 1 and False to 0' % fname)\n"
     ]
    },
    {
     "name": "stdout",
     "output_type": "stream",
     "text": [
      "Processing image ../../datasets/cityscapes-dataset/leftImg8bit_trainvaltest/leftImg8bit/train/strasbourg/strasbourg_000001_026106_leftImg8bit.png\n"
     ]
    },
    {
     "name": "stderr",
     "output_type": "stream",
     "text": [
      "/usr/local/lib/python3.7/site-packages/skimage/io/_io.py:142: UserWarning: ../../datasets/aurora/instagan/train/sampleA_seg/465_0.png is a boolean image: setting True to 1 and False to 0\n",
      "  warn('%s is a boolean image: setting True to 1 and False to 0' % fname)\n"
     ]
    },
    {
     "name": "stdout",
     "output_type": "stream",
     "text": [
      "Processing image ../../datasets/cityscapes-dataset/leftImg8bit_trainvaltest/leftImg8bit/train/strasbourg/strasbourg_000001_052840_leftImg8bit.png\n"
     ]
    },
    {
     "name": "stderr",
     "output_type": "stream",
     "text": [
      "/usr/local/lib/python3.7/site-packages/skimage/io/_io.py:142: UserWarning: ../../datasets/aurora/instagan/train/sampleA_seg/466_0.png is a boolean image: setting True to 1 and False to 0\n",
      "  warn('%s is a boolean image: setting True to 1 and False to 0' % fname)\n",
      "/usr/local/lib/python3.7/site-packages/skimage/io/_io.py:142: UserWarning: ../../datasets/aurora/instagan/train/sampleA_seg/466_1.png is a boolean image: setting True to 1 and False to 0\n",
      "  warn('%s is a boolean image: setting True to 1 and False to 0' % fname)\n",
      "/usr/local/lib/python3.7/site-packages/skimage/io/_io.py:142: UserWarning: ../../datasets/aurora/instagan/train/sampleA_seg/466_2.png is a boolean image: setting True to 1 and False to 0\n",
      "  warn('%s is a boolean image: setting True to 1 and False to 0' % fname)\n",
      "/usr/local/lib/python3.7/site-packages/skimage/io/_io.py:142: UserWarning: ../../datasets/aurora/instagan/train/sampleA_seg/466_3.png is a boolean image: setting True to 1 and False to 0\n",
      "  warn('%s is a boolean image: setting True to 1 and False to 0' % fname)\n",
      "/usr/local/lib/python3.7/site-packages/skimage/io/_io.py:142: UserWarning: ../../datasets/aurora/instagan/train/sampleA_seg/466_4.png is a boolean image: setting True to 1 and False to 0\n",
      "  warn('%s is a boolean image: setting True to 1 and False to 0' % fname)\n"
     ]
    },
    {
     "name": "stdout",
     "output_type": "stream",
     "text": [
      "Processing image ../../datasets/cityscapes-dataset/leftImg8bit_trainvaltest/leftImg8bit/train/strasbourg/strasbourg_000001_021951_leftImg8bit.png\n"
     ]
    },
    {
     "name": "stderr",
     "output_type": "stream",
     "text": [
      "/usr/local/lib/python3.7/site-packages/skimage/io/_io.py:140: UserWarning: ../../datasets/aurora/instagan/train/sampleA_seg/467_0.png is a low contrast image\n",
      "  warn('%s is a low contrast image' % fname)\n",
      "/usr/local/lib/python3.7/site-packages/skimage/io/_io.py:142: UserWarning: ../../datasets/aurora/instagan/train/sampleA_seg/467_0.png is a boolean image: setting True to 1 and False to 0\n",
      "  warn('%s is a boolean image: setting True to 1 and False to 0' % fname)\n"
     ]
    },
    {
     "name": "stdout",
     "output_type": "stream",
     "text": [
      "Processing image ../../datasets/cityscapes-dataset/leftImg8bit_trainvaltest/leftImg8bit/train/strasbourg/strasbourg_000001_032660_leftImg8bit.png\n"
     ]
    },
    {
     "name": "stderr",
     "output_type": "stream",
     "text": [
      "/usr/local/lib/python3.7/site-packages/skimage/io/_io.py:142: UserWarning: ../../datasets/aurora/instagan/train/sampleA_seg/468_0.png is a boolean image: setting True to 1 and False to 0\n",
      "  warn('%s is a boolean image: setting True to 1 and False to 0' % fname)\n"
     ]
    },
    {
     "name": "stdout",
     "output_type": "stream",
     "text": [
      "Processing image ../../datasets/cityscapes-dataset/leftImg8bit_trainvaltest/leftImg8bit/train/strasbourg/strasbourg_000000_028556_leftImg8bit.png\n"
     ]
    },
    {
     "name": "stderr",
     "output_type": "stream",
     "text": [
      "/usr/local/lib/python3.7/site-packages/skimage/io/_io.py:142: UserWarning: ../../datasets/aurora/instagan/train/sampleA_seg/469_0.png is a boolean image: setting True to 1 and False to 0\n",
      "  warn('%s is a boolean image: setting True to 1 and False to 0' % fname)\n"
     ]
    },
    {
     "name": "stdout",
     "output_type": "stream",
     "text": [
      "Processing image ../../datasets/cityscapes-dataset/leftImg8bit_trainvaltest/leftImg8bit/train/strasbourg/strasbourg_000001_009471_leftImg8bit.png\n"
     ]
    },
    {
     "name": "stderr",
     "output_type": "stream",
     "text": [
      "/usr/local/lib/python3.7/site-packages/skimage/io/_io.py:142: UserWarning: ../../datasets/aurora/instagan/train/sampleA_seg/470_0.png is a boolean image: setting True to 1 and False to 0\n",
      "  warn('%s is a boolean image: setting True to 1 and False to 0' % fname)\n",
      "/usr/local/lib/python3.7/site-packages/skimage/io/_io.py:142: UserWarning: ../../datasets/aurora/instagan/train/sampleA_seg/470_1.png is a boolean image: setting True to 1 and False to 0\n",
      "  warn('%s is a boolean image: setting True to 1 and False to 0' % fname)\n",
      "/usr/local/lib/python3.7/site-packages/skimage/io/_io.py:140: UserWarning: ../../datasets/aurora/instagan/train/sampleA_seg/470_2.png is a low contrast image\n",
      "  warn('%s is a low contrast image' % fname)\n",
      "/usr/local/lib/python3.7/site-packages/skimage/io/_io.py:142: UserWarning: ../../datasets/aurora/instagan/train/sampleA_seg/470_2.png is a boolean image: setting True to 1 and False to 0\n",
      "  warn('%s is a boolean image: setting True to 1 and False to 0' % fname)\n",
      "/usr/local/lib/python3.7/site-packages/skimage/io/_io.py:140: UserWarning: ../../datasets/aurora/instagan/train/sampleA_seg/470_3.png is a low contrast image\n",
      "  warn('%s is a low contrast image' % fname)\n",
      "/usr/local/lib/python3.7/site-packages/skimage/io/_io.py:142: UserWarning: ../../datasets/aurora/instagan/train/sampleA_seg/470_3.png is a boolean image: setting True to 1 and False to 0\n",
      "  warn('%s is a boolean image: setting True to 1 and False to 0' % fname)\n",
      "/usr/local/lib/python3.7/site-packages/skimage/io/_io.py:140: UserWarning: ../../datasets/aurora/instagan/train/sampleA_seg/470_4.png is a low contrast image\n",
      "  warn('%s is a low contrast image' % fname)\n",
      "/usr/local/lib/python3.7/site-packages/skimage/io/_io.py:142: UserWarning: ../../datasets/aurora/instagan/train/sampleA_seg/470_4.png is a boolean image: setting True to 1 and False to 0\n",
      "  warn('%s is a boolean image: setting True to 1 and False to 0' % fname)\n",
      "/usr/local/lib/python3.7/site-packages/skimage/io/_io.py:140: UserWarning: ../../datasets/aurora/instagan/train/sampleA_seg/470_5.png is a low contrast image\n",
      "  warn('%s is a low contrast image' % fname)\n",
      "/usr/local/lib/python3.7/site-packages/skimage/io/_io.py:142: UserWarning: ../../datasets/aurora/instagan/train/sampleA_seg/470_5.png is a boolean image: setting True to 1 and False to 0\n",
      "  warn('%s is a boolean image: setting True to 1 and False to 0' % fname)\n",
      "/usr/local/lib/python3.7/site-packages/skimage/io/_io.py:140: UserWarning: ../../datasets/aurora/instagan/train/sampleA_seg/470_6.png is a low contrast image\n",
      "  warn('%s is a low contrast image' % fname)\n",
      "/usr/local/lib/python3.7/site-packages/skimage/io/_io.py:142: UserWarning: ../../datasets/aurora/instagan/train/sampleA_seg/470_6.png is a boolean image: setting True to 1 and False to 0\n",
      "  warn('%s is a boolean image: setting True to 1 and False to 0' % fname)\n",
      "/usr/local/lib/python3.7/site-packages/skimage/io/_io.py:140: UserWarning: ../../datasets/aurora/instagan/train/sampleA_seg/470_7.png is a low contrast image\n",
      "  warn('%s is a low contrast image' % fname)\n",
      "/usr/local/lib/python3.7/site-packages/skimage/io/_io.py:142: UserWarning: ../../datasets/aurora/instagan/train/sampleA_seg/470_7.png is a boolean image: setting True to 1 and False to 0\n",
      "  warn('%s is a boolean image: setting True to 1 and False to 0' % fname)\n",
      "/usr/local/lib/python3.7/site-packages/skimage/io/_io.py:140: UserWarning: ../../datasets/aurora/instagan/train/sampleA_seg/470_8.png is a low contrast image\n",
      "  warn('%s is a low contrast image' % fname)\n",
      "/usr/local/lib/python3.7/site-packages/skimage/io/_io.py:142: UserWarning: ../../datasets/aurora/instagan/train/sampleA_seg/470_8.png is a boolean image: setting True to 1 and False to 0\n",
      "  warn('%s is a boolean image: setting True to 1 and False to 0' % fname)\n"
     ]
    },
    {
     "name": "stdout",
     "output_type": "stream",
     "text": [
      "Processing image ../../datasets/cityscapes-dataset/leftImg8bit_trainvaltest/leftImg8bit/train/strasbourg/strasbourg_000001_055860_leftImg8bit.png\n"
     ]
    },
    {
     "name": "stderr",
     "output_type": "stream",
     "text": [
      "/usr/local/lib/python3.7/site-packages/skimage/io/_io.py:142: UserWarning: ../../datasets/aurora/instagan/train/sampleA_seg/471_0.png is a boolean image: setting True to 1 and False to 0\n",
      "  warn('%s is a boolean image: setting True to 1 and False to 0' % fname)\n",
      "/usr/local/lib/python3.7/site-packages/skimage/io/_io.py:142: UserWarning: ../../datasets/aurora/instagan/train/sampleA_seg/471_1.png is a boolean image: setting True to 1 and False to 0\n",
      "  warn('%s is a boolean image: setting True to 1 and False to 0' % fname)\n",
      "/usr/local/lib/python3.7/site-packages/skimage/io/_io.py:142: UserWarning: ../../datasets/aurora/instagan/train/sampleA_seg/471_2.png is a boolean image: setting True to 1 and False to 0\n",
      "  warn('%s is a boolean image: setting True to 1 and False to 0' % fname)\n",
      "/usr/local/lib/python3.7/site-packages/skimage/io/_io.py:142: UserWarning: ../../datasets/aurora/instagan/train/sampleA_seg/471_3.png is a boolean image: setting True to 1 and False to 0\n",
      "  warn('%s is a boolean image: setting True to 1 and False to 0' % fname)\n"
     ]
    },
    {
     "name": "stdout",
     "output_type": "stream",
     "text": [
      "Processing image ../../datasets/cityscapes-dataset/leftImg8bit_trainvaltest/leftImg8bit/train/strasbourg/strasbourg_000001_000710_leftImg8bit.png\n"
     ]
    },
    {
     "name": "stderr",
     "output_type": "stream",
     "text": [
      "/usr/local/lib/python3.7/site-packages/skimage/io/_io.py:142: UserWarning: ../../datasets/aurora/instagan/train/sampleA_seg/472_0.png is a boolean image: setting True to 1 and False to 0\n",
      "  warn('%s is a boolean image: setting True to 1 and False to 0' % fname)\n"
     ]
    },
    {
     "name": "stdout",
     "output_type": "stream",
     "text": [
      "Processing image ../../datasets/cityscapes-dataset/leftImg8bit_trainvaltest/leftImg8bit/train/strasbourg/strasbourg_000000_012934_leftImg8bit.png\n"
     ]
    },
    {
     "name": "stderr",
     "output_type": "stream",
     "text": [
      "/usr/local/lib/python3.7/site-packages/skimage/io/_io.py:142: UserWarning: ../../datasets/aurora/instagan/train/sampleA_seg/473_0.png is a boolean image: setting True to 1 and False to 0\n",
      "  warn('%s is a boolean image: setting True to 1 and False to 0' % fname)\n"
     ]
    },
    {
     "name": "stdout",
     "output_type": "stream",
     "text": [
      "Processing image ../../datasets/cityscapes-dataset/leftImg8bit_trainvaltest/leftImg8bit/train/strasbourg/strasbourg_000000_030017_leftImg8bit.png\n"
     ]
    },
    {
     "name": "stderr",
     "output_type": "stream",
     "text": [
      "/usr/local/lib/python3.7/site-packages/skimage/io/_io.py:142: UserWarning: ../../datasets/aurora/instagan/train/sampleA_seg/474_0.png is a boolean image: setting True to 1 and False to 0\n",
      "  warn('%s is a boolean image: setting True to 1 and False to 0' % fname)\n"
     ]
    },
    {
     "name": "stdout",
     "output_type": "stream",
     "text": [
      "Processing image ../../datasets/cityscapes-dataset/leftImg8bit_trainvaltest/leftImg8bit/train/strasbourg/strasbourg_000000_031067_leftImg8bit.png\n"
     ]
    },
    {
     "name": "stderr",
     "output_type": "stream",
     "text": [
      "/usr/local/lib/python3.7/site-packages/skimage/io/_io.py:142: UserWarning: ../../datasets/aurora/instagan/train/sampleA_seg/475_0.png is a boolean image: setting True to 1 and False to 0\n",
      "  warn('%s is a boolean image: setting True to 1 and False to 0' % fname)\n",
      "/usr/local/lib/python3.7/site-packages/skimage/io/_io.py:142: UserWarning: ../../datasets/aurora/instagan/train/sampleA_seg/475_1.png is a boolean image: setting True to 1 and False to 0\n",
      "  warn('%s is a boolean image: setting True to 1 and False to 0' % fname)\n"
     ]
    },
    {
     "name": "stdout",
     "output_type": "stream",
     "text": [
      "Processing image ../../datasets/cityscapes-dataset/leftImg8bit_trainvaltest/leftImg8bit/train/strasbourg/strasbourg_000000_007727_leftImg8bit.png\n"
     ]
    },
    {
     "name": "stderr",
     "output_type": "stream",
     "text": [
      "/usr/local/lib/python3.7/site-packages/skimage/io/_io.py:142: UserWarning: ../../datasets/aurora/instagan/train/sampleA_seg/476_0.png is a boolean image: setting True to 1 and False to 0\n",
      "  warn('%s is a boolean image: setting True to 1 and False to 0' % fname)\n",
      "/usr/local/lib/python3.7/site-packages/skimage/io/_io.py:142: UserWarning: ../../datasets/aurora/instagan/train/sampleA_seg/476_1.png is a boolean image: setting True to 1 and False to 0\n",
      "  warn('%s is a boolean image: setting True to 1 and False to 0' % fname)\n"
     ]
    },
    {
     "name": "stdout",
     "output_type": "stream",
     "text": [
      "Processing image ../../datasets/cityscapes-dataset/leftImg8bit_trainvaltest/leftImg8bit/train/strasbourg/strasbourg_000000_013944_leftImg8bit.png\n"
     ]
    },
    {
     "name": "stderr",
     "output_type": "stream",
     "text": [
      "/usr/local/lib/python3.7/site-packages/skimage/io/_io.py:142: UserWarning: ../../datasets/aurora/instagan/train/sampleA_seg/477_0.png is a boolean image: setting True to 1 and False to 0\n",
      "  warn('%s is a boolean image: setting True to 1 and False to 0' % fname)\n"
     ]
    },
    {
     "name": "stdout",
     "output_type": "stream",
     "text": [
      "Processing image ../../datasets/cityscapes-dataset/leftImg8bit_trainvaltest/leftImg8bit/train/strasbourg/strasbourg_000001_029696_leftImg8bit.png\n"
     ]
    },
    {
     "name": "stderr",
     "output_type": "stream",
     "text": [
      "/usr/local/lib/python3.7/site-packages/skimage/io/_io.py:142: UserWarning: ../../datasets/aurora/instagan/train/sampleA_seg/478_0.png is a boolean image: setting True to 1 and False to 0\n",
      "  warn('%s is a boolean image: setting True to 1 and False to 0' % fname)\n",
      "/usr/local/lib/python3.7/site-packages/skimage/io/_io.py:140: UserWarning: ../../datasets/aurora/instagan/train/sampleA_seg/478_1.png is a low contrast image\n",
      "  warn('%s is a low contrast image' % fname)\n",
      "/usr/local/lib/python3.7/site-packages/skimage/io/_io.py:142: UserWarning: ../../datasets/aurora/instagan/train/sampleA_seg/478_1.png is a boolean image: setting True to 1 and False to 0\n",
      "  warn('%s is a boolean image: setting True to 1 and False to 0' % fname)\n"
     ]
    },
    {
     "name": "stdout",
     "output_type": "stream",
     "text": [
      "Processing image ../../datasets/cityscapes-dataset/leftImg8bit_trainvaltest/leftImg8bit/train/strasbourg/strasbourg_000000_026575_leftImg8bit.png\n"
     ]
    },
    {
     "name": "stderr",
     "output_type": "stream",
     "text": [
      "/usr/local/lib/python3.7/site-packages/skimage/io/_io.py:142: UserWarning: ../../datasets/aurora/instagan/train/sampleA_seg/479_0.png is a boolean image: setting True to 1 and False to 0\n",
      "  warn('%s is a boolean image: setting True to 1 and False to 0' % fname)\n"
     ]
    },
    {
     "name": "stdout",
     "output_type": "stream",
     "text": [
      "Processing image ../../datasets/cityscapes-dataset/leftImg8bit_trainvaltest/leftImg8bit/train/strasbourg/strasbourg_000000_026741_leftImg8bit.png\n"
     ]
    },
    {
     "name": "stderr",
     "output_type": "stream",
     "text": [
      "/usr/local/lib/python3.7/site-packages/skimage/io/_io.py:142: UserWarning: ../../datasets/aurora/instagan/train/sampleA_seg/480_0.png is a boolean image: setting True to 1 and False to 0\n",
      "  warn('%s is a boolean image: setting True to 1 and False to 0' % fname)\n"
     ]
    },
    {
     "name": "stdout",
     "output_type": "stream",
     "text": [
      "Processing image ../../datasets/cityscapes-dataset/leftImg8bit_trainvaltest/leftImg8bit/train/strasbourg/strasbourg_000001_009097_leftImg8bit.png\n"
     ]
    },
    {
     "name": "stderr",
     "output_type": "stream",
     "text": [
      "/usr/local/lib/python3.7/site-packages/skimage/io/_io.py:142: UserWarning: ../../datasets/aurora/instagan/train/sampleA_seg/481_0.png is a boolean image: setting True to 1 and False to 0\n",
      "  warn('%s is a boolean image: setting True to 1 and False to 0' % fname)\n"
     ]
    },
    {
     "name": "stdout",
     "output_type": "stream",
     "text": [
      "Processing image ../../datasets/cityscapes-dataset/leftImg8bit_trainvaltest/leftImg8bit/train/strasbourg/strasbourg_000000_014743_leftImg8bit.png\n"
     ]
    },
    {
     "name": "stderr",
     "output_type": "stream",
     "text": [
      "/usr/local/lib/python3.7/site-packages/skimage/io/_io.py:142: UserWarning: ../../datasets/aurora/instagan/train/sampleA_seg/482_0.png is a boolean image: setting True to 1 and False to 0\n",
      "  warn('%s is a boolean image: setting True to 1 and False to 0' % fname)\n"
     ]
    },
    {
     "name": "stdout",
     "output_type": "stream",
     "text": [
      "Processing image ../../datasets/cityscapes-dataset/leftImg8bit_trainvaltest/leftImg8bit/train/strasbourg/strasbourg_000001_052430_leftImg8bit.png\n"
     ]
    },
    {
     "name": "stderr",
     "output_type": "stream",
     "text": [
      "/usr/local/lib/python3.7/site-packages/skimage/io/_io.py:142: UserWarning: ../../datasets/aurora/instagan/train/sampleA_seg/483_0.png is a boolean image: setting True to 1 and False to 0\n",
      "  warn('%s is a boolean image: setting True to 1 and False to 0' % fname)\n"
     ]
    },
    {
     "name": "stdout",
     "output_type": "stream",
     "text": [
      "Processing image ../../datasets/cityscapes-dataset/leftImg8bit_trainvaltest/leftImg8bit/train/strasbourg/strasbourg_000000_030122_leftImg8bit.png\n"
     ]
    },
    {
     "name": "stderr",
     "output_type": "stream",
     "text": [
      "/usr/local/lib/python3.7/site-packages/skimage/io/_io.py:142: UserWarning: ../../datasets/aurora/instagan/train/sampleA_seg/484_0.png is a boolean image: setting True to 1 and False to 0\n",
      "  warn('%s is a boolean image: setting True to 1 and False to 0' % fname)\n"
     ]
    },
    {
     "name": "stdout",
     "output_type": "stream",
     "text": [
      "Processing image ../../datasets/cityscapes-dataset/leftImg8bit_trainvaltest/leftImg8bit/train/strasbourg/strasbourg_000001_060821_leftImg8bit.png\n"
     ]
    },
    {
     "name": "stderr",
     "output_type": "stream",
     "text": [
      "/usr/local/lib/python3.7/site-packages/skimage/io/_io.py:142: UserWarning: ../../datasets/aurora/instagan/train/sampleA_seg/485_0.png is a boolean image: setting True to 1 and False to 0\n",
      "  warn('%s is a boolean image: setting True to 1 and False to 0' % fname)\n"
     ]
    },
    {
     "name": "stdout",
     "output_type": "stream",
     "text": [
      "Processing image ../../datasets/cityscapes-dataset/leftImg8bit_trainvaltest/leftImg8bit/train/strasbourg/strasbourg_000001_032315_leftImg8bit.png\n"
     ]
    },
    {
     "name": "stderr",
     "output_type": "stream",
     "text": [
      "/usr/local/lib/python3.7/site-packages/skimage/io/_io.py:142: UserWarning: ../../datasets/aurora/instagan/train/sampleA_seg/486_0.png is a boolean image: setting True to 1 and False to 0\n",
      "  warn('%s is a boolean image: setting True to 1 and False to 0' % fname)\n"
     ]
    },
    {
     "name": "stdout",
     "output_type": "stream",
     "text": [
      "Processing image ../../datasets/cityscapes-dataset/leftImg8bit_trainvaltest/leftImg8bit/train/weimar/weimar_000128_000019_leftImg8bit.png\n"
     ]
    },
    {
     "name": "stderr",
     "output_type": "stream",
     "text": [
      "/usr/local/lib/python3.7/site-packages/skimage/io/_io.py:142: UserWarning: ../../datasets/aurora/instagan/train/sampleA_seg/487_0.png is a boolean image: setting True to 1 and False to 0\n",
      "  warn('%s is a boolean image: setting True to 1 and False to 0' % fname)\n",
      "/usr/local/lib/python3.7/site-packages/skimage/io/_io.py:142: UserWarning: ../../datasets/aurora/instagan/train/sampleA_seg/487_1.png is a boolean image: setting True to 1 and False to 0\n",
      "  warn('%s is a boolean image: setting True to 1 and False to 0' % fname)\n",
      "/usr/local/lib/python3.7/site-packages/skimage/io/_io.py:140: UserWarning: ../../datasets/aurora/instagan/train/sampleA_seg/487_2.png is a low contrast image\n",
      "  warn('%s is a low contrast image' % fname)\n",
      "/usr/local/lib/python3.7/site-packages/skimage/io/_io.py:142: UserWarning: ../../datasets/aurora/instagan/train/sampleA_seg/487_2.png is a boolean image: setting True to 1 and False to 0\n",
      "  warn('%s is a boolean image: setting True to 1 and False to 0' % fname)\n",
      "/usr/local/lib/python3.7/site-packages/skimage/io/_io.py:142: UserWarning: ../../datasets/aurora/instagan/train/sampleA_seg/487_3.png is a boolean image: setting True to 1 and False to 0\n",
      "  warn('%s is a boolean image: setting True to 1 and False to 0' % fname)\n",
      "/usr/local/lib/python3.7/site-packages/skimage/io/_io.py:142: UserWarning: ../../datasets/aurora/instagan/train/sampleA_seg/487_4.png is a boolean image: setting True to 1 and False to 0\n",
      "  warn('%s is a boolean image: setting True to 1 and False to 0' % fname)\n"
     ]
    },
    {
     "name": "stdout",
     "output_type": "stream",
     "text": [
      "Processing image ../../datasets/cityscapes-dataset/leftImg8bit_trainvaltest/leftImg8bit/train/weimar/weimar_000090_000019_leftImg8bit.png\n"
     ]
    },
    {
     "name": "stderr",
     "output_type": "stream",
     "text": [
      "/usr/local/lib/python3.7/site-packages/skimage/io/_io.py:142: UserWarning: ../../datasets/aurora/instagan/train/sampleA_seg/488_0.png is a boolean image: setting True to 1 and False to 0\n",
      "  warn('%s is a boolean image: setting True to 1 and False to 0' % fname)\n"
     ]
    },
    {
     "name": "stdout",
     "output_type": "stream",
     "text": [
      "Processing image ../../datasets/cityscapes-dataset/leftImg8bit_trainvaltest/leftImg8bit/train/weimar/weimar_000122_000019_leftImg8bit.png\n"
     ]
    },
    {
     "name": "stderr",
     "output_type": "stream",
     "text": [
      "/usr/local/lib/python3.7/site-packages/skimage/io/_io.py:142: UserWarning: ../../datasets/aurora/instagan/train/sampleA_seg/489_0.png is a boolean image: setting True to 1 and False to 0\n",
      "  warn('%s is a boolean image: setting True to 1 and False to 0' % fname)\n",
      "/usr/local/lib/python3.7/site-packages/skimage/io/_io.py:142: UserWarning: ../../datasets/aurora/instagan/train/sampleA_seg/489_1.png is a boolean image: setting True to 1 and False to 0\n",
      "  warn('%s is a boolean image: setting True to 1 and False to 0' % fname)\n",
      "/usr/local/lib/python3.7/site-packages/skimage/io/_io.py:140: UserWarning: ../../datasets/aurora/instagan/train/sampleA_seg/489_2.png is a low contrast image\n",
      "  warn('%s is a low contrast image' % fname)\n",
      "/usr/local/lib/python3.7/site-packages/skimage/io/_io.py:142: UserWarning: ../../datasets/aurora/instagan/train/sampleA_seg/489_2.png is a boolean image: setting True to 1 and False to 0\n",
      "  warn('%s is a boolean image: setting True to 1 and False to 0' % fname)\n",
      "/usr/local/lib/python3.7/site-packages/skimage/io/_io.py:140: UserWarning: ../../datasets/aurora/instagan/train/sampleA_seg/489_3.png is a low contrast image\n",
      "  warn('%s is a low contrast image' % fname)\n",
      "/usr/local/lib/python3.7/site-packages/skimage/io/_io.py:142: UserWarning: ../../datasets/aurora/instagan/train/sampleA_seg/489_3.png is a boolean image: setting True to 1 and False to 0\n",
      "  warn('%s is a boolean image: setting True to 1 and False to 0' % fname)\n",
      "/usr/local/lib/python3.7/site-packages/skimage/io/_io.py:142: UserWarning: ../../datasets/aurora/instagan/train/sampleA_seg/489_4.png is a boolean image: setting True to 1 and False to 0\n",
      "  warn('%s is a boolean image: setting True to 1 and False to 0' % fname)\n",
      "/usr/local/lib/python3.7/site-packages/skimage/io/_io.py:140: UserWarning: ../../datasets/aurora/instagan/train/sampleA_seg/489_5.png is a low contrast image\n",
      "  warn('%s is a low contrast image' % fname)\n",
      "/usr/local/lib/python3.7/site-packages/skimage/io/_io.py:142: UserWarning: ../../datasets/aurora/instagan/train/sampleA_seg/489_5.png is a boolean image: setting True to 1 and False to 0\n",
      "  warn('%s is a boolean image: setting True to 1 and False to 0' % fname)\n",
      "/usr/local/lib/python3.7/site-packages/skimage/io/_io.py:142: UserWarning: ../../datasets/aurora/instagan/train/sampleA_seg/489_6.png is a boolean image: setting True to 1 and False to 0\n",
      "  warn('%s is a boolean image: setting True to 1 and False to 0' % fname)\n",
      "/usr/local/lib/python3.7/site-packages/skimage/io/_io.py:142: UserWarning: ../../datasets/aurora/instagan/train/sampleA_seg/489_7.png is a boolean image: setting True to 1 and False to 0\n",
      "  warn('%s is a boolean image: setting True to 1 and False to 0' % fname)\n"
     ]
    },
    {
     "name": "stdout",
     "output_type": "stream",
     "text": [
      "Processing image ../../datasets/cityscapes-dataset/leftImg8bit_trainvaltest/leftImg8bit/train/weimar/weimar_000051_000019_leftImg8bit.png\n"
     ]
    },
    {
     "name": "stderr",
     "output_type": "stream",
     "text": [
      "/usr/local/lib/python3.7/site-packages/skimage/io/_io.py:142: UserWarning: ../../datasets/aurora/instagan/train/sampleA_seg/490_0.png is a boolean image: setting True to 1 and False to 0\n",
      "  warn('%s is a boolean image: setting True to 1 and False to 0' % fname)\n",
      "/usr/local/lib/python3.7/site-packages/skimage/io/_io.py:142: UserWarning: ../../datasets/aurora/instagan/train/sampleA_seg/490_1.png is a boolean image: setting True to 1 and False to 0\n",
      "  warn('%s is a boolean image: setting True to 1 and False to 0' % fname)\n",
      "/usr/local/lib/python3.7/site-packages/skimage/io/_io.py:142: UserWarning: ../../datasets/aurora/instagan/train/sampleA_seg/490_2.png is a boolean image: setting True to 1 and False to 0\n",
      "  warn('%s is a boolean image: setting True to 1 and False to 0' % fname)\n"
     ]
    },
    {
     "name": "stdout",
     "output_type": "stream",
     "text": [
      "Processing image ../../datasets/cityscapes-dataset/leftImg8bit_trainvaltest/leftImg8bit/train/weimar/weimar_000024_000019_leftImg8bit.png\n"
     ]
    },
    {
     "name": "stderr",
     "output_type": "stream",
     "text": [
      "/usr/local/lib/python3.7/site-packages/skimage/io/_io.py:142: UserWarning: ../../datasets/aurora/instagan/train/sampleA_seg/491_0.png is a boolean image: setting True to 1 and False to 0\n",
      "  warn('%s is a boolean image: setting True to 1 and False to 0' % fname)\n",
      "/usr/local/lib/python3.7/site-packages/skimage/io/_io.py:140: UserWarning: ../../datasets/aurora/instagan/train/sampleA_seg/491_1.png is a low contrast image\n",
      "  warn('%s is a low contrast image' % fname)\n",
      "/usr/local/lib/python3.7/site-packages/skimage/io/_io.py:142: UserWarning: ../../datasets/aurora/instagan/train/sampleA_seg/491_1.png is a boolean image: setting True to 1 and False to 0\n",
      "  warn('%s is a boolean image: setting True to 1 and False to 0' % fname)\n"
     ]
    },
    {
     "name": "stdout",
     "output_type": "stream",
     "text": [
      "Processing image ../../datasets/cityscapes-dataset/leftImg8bit_trainvaltest/leftImg8bit/train/weimar/weimar_000015_000019_leftImg8bit.png\n"
     ]
    },
    {
     "name": "stderr",
     "output_type": "stream",
     "text": [
      "/usr/local/lib/python3.7/site-packages/skimage/io/_io.py:142: UserWarning: ../../datasets/aurora/instagan/train/sampleA_seg/492_0.png is a boolean image: setting True to 1 and False to 0\n",
      "  warn('%s is a boolean image: setting True to 1 and False to 0' % fname)\n"
     ]
    },
    {
     "name": "stdout",
     "output_type": "stream",
     "text": [
      "Processing image ../../datasets/cityscapes-dataset/leftImg8bit_trainvaltest/leftImg8bit/train/weimar/weimar_000113_000019_leftImg8bit.png\n"
     ]
    },
    {
     "name": "stderr",
     "output_type": "stream",
     "text": [
      "/usr/local/lib/python3.7/site-packages/skimage/io/_io.py:142: UserWarning: ../../datasets/aurora/instagan/train/sampleA_seg/493_0.png is a boolean image: setting True to 1 and False to 0\n",
      "  warn('%s is a boolean image: setting True to 1 and False to 0' % fname)\n",
      "/usr/local/lib/python3.7/site-packages/skimage/io/_io.py:142: UserWarning: ../../datasets/aurora/instagan/train/sampleA_seg/493_1.png is a boolean image: setting True to 1 and False to 0\n",
      "  warn('%s is a boolean image: setting True to 1 and False to 0' % fname)\n"
     ]
    },
    {
     "name": "stdout",
     "output_type": "stream",
     "text": [
      "Processing image ../../datasets/cityscapes-dataset/leftImg8bit_trainvaltest/leftImg8bit/train/weimar/weimar_000060_000019_leftImg8bit.png\n"
     ]
    },
    {
     "name": "stderr",
     "output_type": "stream",
     "text": [
      "/usr/local/lib/python3.7/site-packages/skimage/io/_io.py:142: UserWarning: ../../datasets/aurora/instagan/train/sampleA_seg/494_0.png is a boolean image: setting True to 1 and False to 0\n",
      "  warn('%s is a boolean image: setting True to 1 and False to 0' % fname)\n",
      "/usr/local/lib/python3.7/site-packages/skimage/io/_io.py:142: UserWarning: ../../datasets/aurora/instagan/train/sampleA_seg/494_1.png is a boolean image: setting True to 1 and False to 0\n",
      "  warn('%s is a boolean image: setting True to 1 and False to 0' % fname)\n",
      "/usr/local/lib/python3.7/site-packages/skimage/io/_io.py:142: UserWarning: ../../datasets/aurora/instagan/train/sampleA_seg/494_2.png is a boolean image: setting True to 1 and False to 0\n",
      "  warn('%s is a boolean image: setting True to 1 and False to 0' % fname)\n"
     ]
    },
    {
     "name": "stdout",
     "output_type": "stream",
     "text": [
      "Processing image ../../datasets/cityscapes-dataset/leftImg8bit_trainvaltest/leftImg8bit/train/weimar/weimar_000119_000019_leftImg8bit.png\n"
     ]
    },
    {
     "name": "stderr",
     "output_type": "stream",
     "text": [
      "/usr/local/lib/python3.7/site-packages/skimage/io/_io.py:142: UserWarning: ../../datasets/aurora/instagan/train/sampleA_seg/495_0.png is a boolean image: setting True to 1 and False to 0\n",
      "  warn('%s is a boolean image: setting True to 1 and False to 0' % fname)\n",
      "/usr/local/lib/python3.7/site-packages/skimage/io/_io.py:142: UserWarning: ../../datasets/aurora/instagan/train/sampleA_seg/495_1.png is a boolean image: setting True to 1 and False to 0\n",
      "  warn('%s is a boolean image: setting True to 1 and False to 0' % fname)\n"
     ]
    },
    {
     "name": "stdout",
     "output_type": "stream",
     "text": [
      "Processing image ../../datasets/cityscapes-dataset/leftImg8bit_trainvaltest/leftImg8bit/train/weimar/weimar_000029_000019_leftImg8bit.png\n"
     ]
    },
    {
     "name": "stderr",
     "output_type": "stream",
     "text": [
      "/usr/local/lib/python3.7/site-packages/skimage/io/_io.py:142: UserWarning: ../../datasets/aurora/instagan/train/sampleA_seg/496_0.png is a boolean image: setting True to 1 and False to 0\n",
      "  warn('%s is a boolean image: setting True to 1 and False to 0' % fname)\n"
     ]
    },
    {
     "name": "stdout",
     "output_type": "stream",
     "text": [
      "Processing image ../../datasets/cityscapes-dataset/leftImg8bit_trainvaltest/leftImg8bit/train/weimar/weimar_000097_000019_leftImg8bit.png\n"
     ]
    },
    {
     "name": "stderr",
     "output_type": "stream",
     "text": [
      "/usr/local/lib/python3.7/site-packages/skimage/io/_io.py:142: UserWarning: ../../datasets/aurora/instagan/train/sampleA_seg/497_0.png is a boolean image: setting True to 1 and False to 0\n",
      "  warn('%s is a boolean image: setting True to 1 and False to 0' % fname)\n"
     ]
    },
    {
     "name": "stdout",
     "output_type": "stream",
     "text": [
      "Processing image ../../datasets/cityscapes-dataset/leftImg8bit_trainvaltest/leftImg8bit/train/weimar/weimar_000125_000019_leftImg8bit.png\n"
     ]
    },
    {
     "name": "stderr",
     "output_type": "stream",
     "text": [
      "/usr/local/lib/python3.7/site-packages/skimage/io/_io.py:140: UserWarning: ../../datasets/aurora/instagan/train/sampleA_seg/498_0.png is a low contrast image\n",
      "  warn('%s is a low contrast image' % fname)\n",
      "/usr/local/lib/python3.7/site-packages/skimage/io/_io.py:142: UserWarning: ../../datasets/aurora/instagan/train/sampleA_seg/498_0.png is a boolean image: setting True to 1 and False to 0\n",
      "  warn('%s is a boolean image: setting True to 1 and False to 0' % fname)\n",
      "/usr/local/lib/python3.7/site-packages/skimage/io/_io.py:142: UserWarning: ../../datasets/aurora/instagan/train/sampleA_seg/498_1.png is a boolean image: setting True to 1 and False to 0\n",
      "  warn('%s is a boolean image: setting True to 1 and False to 0' % fname)\n",
      "/usr/local/lib/python3.7/site-packages/skimage/io/_io.py:142: UserWarning: ../../datasets/aurora/instagan/train/sampleA_seg/498_2.png is a boolean image: setting True to 1 and False to 0\n",
      "  warn('%s is a boolean image: setting True to 1 and False to 0' % fname)\n",
      "/usr/local/lib/python3.7/site-packages/skimage/io/_io.py:142: UserWarning: ../../datasets/aurora/instagan/train/sampleA_seg/498_3.png is a boolean image: setting True to 1 and False to 0\n",
      "  warn('%s is a boolean image: setting True to 1 and False to 0' % fname)\n",
      "/usr/local/lib/python3.7/site-packages/skimage/io/_io.py:142: UserWarning: ../../datasets/aurora/instagan/train/sampleA_seg/498_4.png is a boolean image: setting True to 1 and False to 0\n",
      "  warn('%s is a boolean image: setting True to 1 and False to 0' % fname)\n"
     ]
    },
    {
     "name": "stdout",
     "output_type": "stream",
     "text": [
      "Processing image ../../datasets/cityscapes-dataset/leftImg8bit_trainvaltest/leftImg8bit/train/weimar/weimar_000056_000019_leftImg8bit.png\n"
     ]
    },
    {
     "name": "stderr",
     "output_type": "stream",
     "text": [
      "/usr/local/lib/python3.7/site-packages/skimage/io/_io.py:142: UserWarning: ../../datasets/aurora/instagan/train/sampleA_seg/499_0.png is a boolean image: setting True to 1 and False to 0\n",
      "  warn('%s is a boolean image: setting True to 1 and False to 0' % fname)\n"
     ]
    },
    {
     "name": "stdout",
     "output_type": "stream",
     "text": [
      "Processing image ../../datasets/cityscapes-dataset/leftImg8bit_trainvaltest/leftImg8bit/train/weimar/weimar_000023_000019_leftImg8bit.png\n"
     ]
    },
    {
     "name": "stderr",
     "output_type": "stream",
     "text": [
      "/usr/local/lib/python3.7/site-packages/skimage/io/_io.py:142: UserWarning: ../../datasets/aurora/instagan/train/sampleA_seg/500_0.png is a boolean image: setting True to 1 and False to 0\n",
      "  warn('%s is a boolean image: setting True to 1 and False to 0' % fname)\n"
     ]
    },
    {
     "name": "stdout",
     "output_type": "stream",
     "text": [
      "Processing image ../../datasets/cityscapes-dataset/leftImg8bit_trainvaltest/leftImg8bit/train/weimar/weimar_000012_000019_leftImg8bit.png\n",
      "Processing image ../../datasets/cityscapes-dataset/leftImg8bit_trainvaltest/leftImg8bit/train/weimar/weimar_000114_000019_leftImg8bit.png\n"
     ]
    },
    {
     "name": "stderr",
     "output_type": "stream",
     "text": [
      "/usr/local/lib/python3.7/site-packages/skimage/io/_io.py:142: UserWarning: ../../datasets/aurora/instagan/train/sampleA_seg/502_0.png is a boolean image: setting True to 1 and False to 0\n",
      "  warn('%s is a boolean image: setting True to 1 and False to 0' % fname)\n",
      "/usr/local/lib/python3.7/site-packages/skimage/io/_io.py:142: UserWarning: ../../datasets/aurora/instagan/train/sampleA_seg/502_1.png is a boolean image: setting True to 1 and False to 0\n",
      "  warn('%s is a boolean image: setting True to 1 and False to 0' % fname)\n"
     ]
    },
    {
     "name": "stdout",
     "output_type": "stream",
     "text": [
      "Processing image ../../datasets/cityscapes-dataset/leftImg8bit_trainvaltest/leftImg8bit/train/weimar/weimar_000067_000019_leftImg8bit.png\n"
     ]
    },
    {
     "name": "stderr",
     "output_type": "stream",
     "text": [
      "/usr/local/lib/python3.7/site-packages/skimage/io/_io.py:140: UserWarning: ../../datasets/aurora/instagan/train/sampleA_seg/503_0.png is a low contrast image\n",
      "  warn('%s is a low contrast image' % fname)\n",
      "/usr/local/lib/python3.7/site-packages/skimage/io/_io.py:142: UserWarning: ../../datasets/aurora/instagan/train/sampleA_seg/503_0.png is a boolean image: setting True to 1 and False to 0\n",
      "  warn('%s is a boolean image: setting True to 1 and False to 0' % fname)\n",
      "/usr/local/lib/python3.7/site-packages/skimage/io/_io.py:142: UserWarning: ../../datasets/aurora/instagan/train/sampleA_seg/503_1.png is a boolean image: setting True to 1 and False to 0\n",
      "  warn('%s is a boolean image: setting True to 1 and False to 0' % fname)\n",
      "/usr/local/lib/python3.7/site-packages/skimage/io/_io.py:142: UserWarning: ../../datasets/aurora/instagan/train/sampleA_seg/503_2.png is a boolean image: setting True to 1 and False to 0\n",
      "  warn('%s is a boolean image: setting True to 1 and False to 0' % fname)\n",
      "/usr/local/lib/python3.7/site-packages/skimage/io/_io.py:142: UserWarning: ../../datasets/aurora/instagan/train/sampleA_seg/503_3.png is a boolean image: setting True to 1 and False to 0\n",
      "  warn('%s is a boolean image: setting True to 1 and False to 0' % fname)\n"
     ]
    },
    {
     "name": "stdout",
     "output_type": "stream",
     "text": [
      "Processing image ../../datasets/cityscapes-dataset/leftImg8bit_trainvaltest/leftImg8bit/train/weimar/weimar_000018_000019_leftImg8bit.png\n"
     ]
    },
    {
     "name": "stderr",
     "output_type": "stream",
     "text": [
      "/usr/local/lib/python3.7/site-packages/skimage/io/_io.py:142: UserWarning: ../../datasets/aurora/instagan/train/sampleA_seg/504_0.png is a boolean image: setting True to 1 and False to 0\n",
      "  warn('%s is a boolean image: setting True to 1 and False to 0' % fname)\n",
      "/usr/local/lib/python3.7/site-packages/skimage/io/_io.py:142: UserWarning: ../../datasets/aurora/instagan/train/sampleA_seg/504_1.png is a boolean image: setting True to 1 and False to 0\n",
      "  warn('%s is a boolean image: setting True to 1 and False to 0' % fname)\n"
     ]
    },
    {
     "name": "stdout",
     "output_type": "stream",
     "text": [
      "Processing image ../../datasets/cityscapes-dataset/leftImg8bit_trainvaltest/leftImg8bit/train/weimar/weimar_000020_000019_leftImg8bit.png\n"
     ]
    },
    {
     "name": "stderr",
     "output_type": "stream",
     "text": [
      "/usr/local/lib/python3.7/site-packages/skimage/io/_io.py:142: UserWarning: ../../datasets/aurora/instagan/train/sampleA_seg/505_0.png is a boolean image: setting True to 1 and False to 0\n",
      "  warn('%s is a boolean image: setting True to 1 and False to 0' % fname)\n",
      "/usr/local/lib/python3.7/site-packages/skimage/io/_io.py:142: UserWarning: ../../datasets/aurora/instagan/train/sampleA_seg/505_1.png is a boolean image: setting True to 1 and False to 0\n",
      "  warn('%s is a boolean image: setting True to 1 and False to 0' % fname)\n"
     ]
    },
    {
     "name": "stdout",
     "output_type": "stream",
     "text": [
      "Processing image ../../datasets/cityscapes-dataset/leftImg8bit_trainvaltest/leftImg8bit/train/weimar/weimar_000094_000019_leftImg8bit.png\n"
     ]
    },
    {
     "name": "stderr",
     "output_type": "stream",
     "text": [
      "/usr/local/lib/python3.7/site-packages/skimage/io/_io.py:142: UserWarning: ../../datasets/aurora/instagan/train/sampleA_seg/506_0.png is a boolean image: setting True to 1 and False to 0\n",
      "  warn('%s is a boolean image: setting True to 1 and False to 0' % fname)\n"
     ]
    },
    {
     "name": "stdout",
     "output_type": "stream",
     "text": [
      "Processing image ../../datasets/cityscapes-dataset/leftImg8bit_trainvaltest/leftImg8bit/train/weimar/weimar_000055_000019_leftImg8bit.png\n"
     ]
    },
    {
     "name": "stderr",
     "output_type": "stream",
     "text": [
      "/usr/local/lib/python3.7/site-packages/skimage/io/_io.py:142: UserWarning: ../../datasets/aurora/instagan/train/sampleA_seg/507_0.png is a boolean image: setting True to 1 and False to 0\n",
      "  warn('%s is a boolean image: setting True to 1 and False to 0' % fname)\n",
      "/usr/local/lib/python3.7/site-packages/skimage/io/_io.py:140: UserWarning: ../../datasets/aurora/instagan/train/sampleA_seg/507_1.png is a low contrast image\n",
      "  warn('%s is a low contrast image' % fname)\n",
      "/usr/local/lib/python3.7/site-packages/skimage/io/_io.py:142: UserWarning: ../../datasets/aurora/instagan/train/sampleA_seg/507_1.png is a boolean image: setting True to 1 and False to 0\n",
      "  warn('%s is a boolean image: setting True to 1 and False to 0' % fname)\n",
      "/usr/local/lib/python3.7/site-packages/skimage/io/_io.py:142: UserWarning: ../../datasets/aurora/instagan/train/sampleA_seg/507_2.png is a boolean image: setting True to 1 and False to 0\n",
      "  warn('%s is a boolean image: setting True to 1 and False to 0' % fname)\n"
     ]
    },
    {
     "name": "stdout",
     "output_type": "stream",
     "text": [
      "Processing image ../../datasets/cityscapes-dataset/leftImg8bit_trainvaltest/leftImg8bit/train/weimar/weimar_000126_000019_leftImg8bit.png\n"
     ]
    },
    {
     "name": "stderr",
     "output_type": "stream",
     "text": [
      "/usr/local/lib/python3.7/site-packages/skimage/io/_io.py:142: UserWarning: ../../datasets/aurora/instagan/train/sampleA_seg/508_0.png is a boolean image: setting True to 1 and False to 0\n",
      "  warn('%s is a boolean image: setting True to 1 and False to 0' % fname)\n",
      "/usr/local/lib/python3.7/site-packages/skimage/io/_io.py:142: UserWarning: ../../datasets/aurora/instagan/train/sampleA_seg/508_1.png is a boolean image: setting True to 1 and False to 0\n",
      "  warn('%s is a boolean image: setting True to 1 and False to 0' % fname)\n",
      "/usr/local/lib/python3.7/site-packages/skimage/io/_io.py:142: UserWarning: ../../datasets/aurora/instagan/train/sampleA_seg/508_2.png is a boolean image: setting True to 1 and False to 0\n",
      "  warn('%s is a boolean image: setting True to 1 and False to 0' % fname)\n"
     ]
    },
    {
     "name": "stdout",
     "output_type": "stream",
     "text": [
      "Processing image ../../datasets/cityscapes-dataset/leftImg8bit_trainvaltest/leftImg8bit/train/weimar/weimar_000064_000019_leftImg8bit.png\n"
     ]
    },
    {
     "name": "stderr",
     "output_type": "stream",
     "text": [
      "/usr/local/lib/python3.7/site-packages/skimage/io/_io.py:142: UserWarning: ../../datasets/aurora/instagan/train/sampleA_seg/509_0.png is a boolean image: setting True to 1 and False to 0\n",
      "  warn('%s is a boolean image: setting True to 1 and False to 0' % fname)\n",
      "/usr/local/lib/python3.7/site-packages/skimage/io/_io.py:142: UserWarning: ../../datasets/aurora/instagan/train/sampleA_seg/509_1.png is a boolean image: setting True to 1 and False to 0\n",
      "  warn('%s is a boolean image: setting True to 1 and False to 0' % fname)\n"
     ]
    },
    {
     "name": "stdout",
     "output_type": "stream",
     "text": [
      "Processing image ../../datasets/cityscapes-dataset/leftImg8bit_trainvaltest/leftImg8bit/train/weimar/weimar_000117_000019_leftImg8bit.png\n"
     ]
    },
    {
     "name": "stderr",
     "output_type": "stream",
     "text": [
      "/usr/local/lib/python3.7/site-packages/skimage/io/_io.py:142: UserWarning: ../../datasets/aurora/instagan/train/sampleA_seg/510_0.png is a boolean image: setting True to 1 and False to 0\n",
      "  warn('%s is a boolean image: setting True to 1 and False to 0' % fname)\n",
      "/usr/local/lib/python3.7/site-packages/skimage/io/_io.py:142: UserWarning: ../../datasets/aurora/instagan/train/sampleA_seg/510_1.png is a boolean image: setting True to 1 and False to 0\n",
      "  warn('%s is a boolean image: setting True to 1 and False to 0' % fname)\n",
      "/usr/local/lib/python3.7/site-packages/skimage/io/_io.py:140: UserWarning: ../../datasets/aurora/instagan/train/sampleA_seg/510_2.png is a low contrast image\n",
      "  warn('%s is a low contrast image' % fname)\n",
      "/usr/local/lib/python3.7/site-packages/skimage/io/_io.py:142: UserWarning: ../../datasets/aurora/instagan/train/sampleA_seg/510_2.png is a boolean image: setting True to 1 and False to 0\n",
      "  warn('%s is a boolean image: setting True to 1 and False to 0' % fname)\n"
     ]
    },
    {
     "name": "stdout",
     "output_type": "stream",
     "text": [
      "Processing image ../../datasets/cityscapes-dataset/leftImg8bit_trainvaltest/leftImg8bit/train/weimar/weimar_000011_000019_leftImg8bit.png\n"
     ]
    },
    {
     "name": "stderr",
     "output_type": "stream",
     "text": [
      "/usr/local/lib/python3.7/site-packages/skimage/io/_io.py:142: UserWarning: ../../datasets/aurora/instagan/train/sampleA_seg/511_0.png is a boolean image: setting True to 1 and False to 0\n",
      "  warn('%s is a boolean image: setting True to 1 and False to 0' % fname)\n"
     ]
    },
    {
     "name": "stdout",
     "output_type": "stream",
     "text": [
      "Processing image ../../datasets/cityscapes-dataset/leftImg8bit_trainvaltest/leftImg8bit/train/weimar/weimar_000027_000019_leftImg8bit.png\n"
     ]
    },
    {
     "name": "stderr",
     "output_type": "stream",
     "text": [
      "/usr/local/lib/python3.7/site-packages/skimage/io/_io.py:142: UserWarning: ../../datasets/aurora/instagan/train/sampleA_seg/512_0.png is a boolean image: setting True to 1 and False to 0\n",
      "  warn('%s is a boolean image: setting True to 1 and False to 0' % fname)\n"
     ]
    },
    {
     "name": "stdout",
     "output_type": "stream",
     "text": [
      "Processing image ../../datasets/cityscapes-dataset/leftImg8bit_trainvaltest/leftImg8bit/train/weimar/weimar_000093_000019_leftImg8bit.png\n"
     ]
    },
    {
     "name": "stderr",
     "output_type": "stream",
     "text": [
      "/usr/local/lib/python3.7/site-packages/skimage/io/_io.py:142: UserWarning: ../../datasets/aurora/instagan/train/sampleA_seg/513_0.png is a boolean image: setting True to 1 and False to 0\n",
      "  warn('%s is a boolean image: setting True to 1 and False to 0' % fname)\n"
     ]
    },
    {
     "name": "stdout",
     "output_type": "stream",
     "text": [
      "Processing image ../../datasets/cityscapes-dataset/leftImg8bit_trainvaltest/leftImg8bit/train/weimar/weimar_000052_000019_leftImg8bit.png\n"
     ]
    },
    {
     "name": "stderr",
     "output_type": "stream",
     "text": [
      "/usr/local/lib/python3.7/site-packages/skimage/io/_io.py:142: UserWarning: ../../datasets/aurora/instagan/train/sampleA_seg/514_0.png is a boolean image: setting True to 1 and False to 0\n",
      "  warn('%s is a boolean image: setting True to 1 and False to 0' % fname)\n",
      "/usr/local/lib/python3.7/site-packages/skimage/io/_io.py:142: UserWarning: ../../datasets/aurora/instagan/train/sampleA_seg/514_1.png is a boolean image: setting True to 1 and False to 0\n",
      "  warn('%s is a boolean image: setting True to 1 and False to 0' % fname)\n",
      "/usr/local/lib/python3.7/site-packages/skimage/io/_io.py:142: UserWarning: ../../datasets/aurora/instagan/train/sampleA_seg/514_2.png is a boolean image: setting True to 1 and False to 0\n",
      "  warn('%s is a boolean image: setting True to 1 and False to 0' % fname)\n"
     ]
    },
    {
     "name": "stdout",
     "output_type": "stream",
     "text": [
      "Processing image ../../datasets/cityscapes-dataset/leftImg8bit_trainvaltest/leftImg8bit/train/weimar/weimar_000121_000019_leftImg8bit.png\n"
     ]
    },
    {
     "name": "stderr",
     "output_type": "stream",
     "text": [
      "/usr/local/lib/python3.7/site-packages/skimage/io/_io.py:140: UserWarning: ../../datasets/aurora/instagan/train/sampleA_seg/515_0.png is a low contrast image\n",
      "  warn('%s is a low contrast image' % fname)\n",
      "/usr/local/lib/python3.7/site-packages/skimage/io/_io.py:142: UserWarning: ../../datasets/aurora/instagan/train/sampleA_seg/515_0.png is a boolean image: setting True to 1 and False to 0\n",
      "  warn('%s is a boolean image: setting True to 1 and False to 0' % fname)\n",
      "/usr/local/lib/python3.7/site-packages/skimage/io/_io.py:140: UserWarning: ../../datasets/aurora/instagan/train/sampleA_seg/515_1.png is a low contrast image\n",
      "  warn('%s is a low contrast image' % fname)\n",
      "/usr/local/lib/python3.7/site-packages/skimage/io/_io.py:142: UserWarning: ../../datasets/aurora/instagan/train/sampleA_seg/515_1.png is a boolean image: setting True to 1 and False to 0\n",
      "  warn('%s is a boolean image: setting True to 1 and False to 0' % fname)\n",
      "/usr/local/lib/python3.7/site-packages/skimage/io/_io.py:140: UserWarning: ../../datasets/aurora/instagan/train/sampleA_seg/515_2.png is a low contrast image\n",
      "  warn('%s is a low contrast image' % fname)\n",
      "/usr/local/lib/python3.7/site-packages/skimage/io/_io.py:142: UserWarning: ../../datasets/aurora/instagan/train/sampleA_seg/515_2.png is a boolean image: setting True to 1 and False to 0\n",
      "  warn('%s is a boolean image: setting True to 1 and False to 0' % fname)\n",
      "/usr/local/lib/python3.7/site-packages/skimage/io/_io.py:142: UserWarning: ../../datasets/aurora/instagan/train/sampleA_seg/515_3.png is a boolean image: setting True to 1 and False to 0\n",
      "  warn('%s is a boolean image: setting True to 1 and False to 0' % fname)\n",
      "/usr/local/lib/python3.7/site-packages/skimage/io/_io.py:142: UserWarning: ../../datasets/aurora/instagan/train/sampleA_seg/515_4.png is a boolean image: setting True to 1 and False to 0\n",
      "  warn('%s is a boolean image: setting True to 1 and False to 0' % fname)\n"
     ]
    },
    {
     "name": "stdout",
     "output_type": "stream",
     "text": [
      "Processing image ../../datasets/cityscapes-dataset/leftImg8bit_trainvaltest/leftImg8bit/train/weimar/weimar_000099_000019_leftImg8bit.png\n"
     ]
    },
    {
     "name": "stderr",
     "output_type": "stream",
     "text": [
      "/usr/local/lib/python3.7/site-packages/skimage/io/_io.py:142: UserWarning: ../../datasets/aurora/instagan/train/sampleA_seg/516_0.png is a boolean image: setting True to 1 and False to 0\n",
      "  warn('%s is a boolean image: setting True to 1 and False to 0' % fname)\n",
      "/usr/local/lib/python3.7/site-packages/skimage/io/_io.py:140: UserWarning: ../../datasets/aurora/instagan/train/sampleA_seg/516_1.png is a low contrast image\n",
      "  warn('%s is a low contrast image' % fname)\n",
      "/usr/local/lib/python3.7/site-packages/skimage/io/_io.py:142: UserWarning: ../../datasets/aurora/instagan/train/sampleA_seg/516_1.png is a boolean image: setting True to 1 and False to 0\n",
      "  warn('%s is a boolean image: setting True to 1 and False to 0' % fname)\n",
      "/usr/local/lib/python3.7/site-packages/skimage/io/_io.py:142: UserWarning: ../../datasets/aurora/instagan/train/sampleA_seg/516_2.png is a boolean image: setting True to 1 and False to 0\n",
      "  warn('%s is a boolean image: setting True to 1 and False to 0' % fname)\n",
      "/usr/local/lib/python3.7/site-packages/skimage/io/_io.py:142: UserWarning: ../../datasets/aurora/instagan/train/sampleA_seg/516_3.png is a boolean image: setting True to 1 and False to 0\n",
      "  warn('%s is a boolean image: setting True to 1 and False to 0' % fname)\n"
     ]
    },
    {
     "name": "stdout",
     "output_type": "stream",
     "text": [
      "Processing image ../../datasets/cityscapes-dataset/leftImg8bit_trainvaltest/leftImg8bit/train/weimar/weimar_000058_000019_leftImg8bit.png\n"
     ]
    },
    {
     "name": "stderr",
     "output_type": "stream",
     "text": [
      "/usr/local/lib/python3.7/site-packages/skimage/io/_io.py:142: UserWarning: ../../datasets/aurora/instagan/train/sampleA_seg/517_0.png is a boolean image: setting True to 1 and False to 0\n",
      "  warn('%s is a boolean image: setting True to 1 and False to 0' % fname)\n",
      "/usr/local/lib/python3.7/site-packages/skimage/io/_io.py:142: UserWarning: ../../datasets/aurora/instagan/train/sampleA_seg/517_1.png is a boolean image: setting True to 1 and False to 0\n",
      "  warn('%s is a boolean image: setting True to 1 and False to 0' % fname)\n"
     ]
    },
    {
     "name": "stdout",
     "output_type": "stream",
     "text": [
      "Processing image ../../datasets/cityscapes-dataset/leftImg8bit_trainvaltest/leftImg8bit/train/weimar/weimar_000069_000019_leftImg8bit.png\n"
     ]
    },
    {
     "name": "stderr",
     "output_type": "stream",
     "text": [
      "/usr/local/lib/python3.7/site-packages/skimage/io/_io.py:142: UserWarning: ../../datasets/aurora/instagan/train/sampleA_seg/518_0.png is a boolean image: setting True to 1 and False to 0\n",
      "  warn('%s is a boolean image: setting True to 1 and False to 0' % fname)\n"
     ]
    },
    {
     "name": "stdout",
     "output_type": "stream",
     "text": [
      "Processing image ../../datasets/cityscapes-dataset/leftImg8bit_trainvaltest/leftImg8bit/train/weimar/weimar_000063_000019_leftImg8bit.png\n"
     ]
    },
    {
     "name": "stderr",
     "output_type": "stream",
     "text": [
      "/usr/local/lib/python3.7/site-packages/skimage/io/_io.py:142: UserWarning: ../../datasets/aurora/instagan/train/sampleA_seg/519_0.png is a boolean image: setting True to 1 and False to 0\n",
      "  warn('%s is a boolean image: setting True to 1 and False to 0' % fname)\n",
      "/usr/local/lib/python3.7/site-packages/skimage/io/_io.py:142: UserWarning: ../../datasets/aurora/instagan/train/sampleA_seg/519_1.png is a boolean image: setting True to 1 and False to 0\n",
      "  warn('%s is a boolean image: setting True to 1 and False to 0' % fname)\n",
      "/usr/local/lib/python3.7/site-packages/skimage/io/_io.py:142: UserWarning: ../../datasets/aurora/instagan/train/sampleA_seg/519_2.png is a boolean image: setting True to 1 and False to 0\n",
      "  warn('%s is a boolean image: setting True to 1 and False to 0' % fname)\n",
      "/usr/local/lib/python3.7/site-packages/skimage/io/_io.py:142: UserWarning: ../../datasets/aurora/instagan/train/sampleA_seg/519_3.png is a boolean image: setting True to 1 and False to 0\n",
      "  warn('%s is a boolean image: setting True to 1 and False to 0' % fname)\n"
     ]
    },
    {
     "name": "stdout",
     "output_type": "stream",
     "text": [
      "Processing image ../../datasets/cityscapes-dataset/leftImg8bit_trainvaltest/leftImg8bit/train/weimar/weimar_000110_000019_leftImg8bit.png\n"
     ]
    },
    {
     "name": "stderr",
     "output_type": "stream",
     "text": [
      "/usr/local/lib/python3.7/site-packages/skimage/io/_io.py:142: UserWarning: ../../datasets/aurora/instagan/train/sampleA_seg/520_0.png is a boolean image: setting True to 1 and False to 0\n",
      "  warn('%s is a boolean image: setting True to 1 and False to 0' % fname)\n",
      "/usr/local/lib/python3.7/site-packages/skimage/io/_io.py:142: UserWarning: ../../datasets/aurora/instagan/train/sampleA_seg/520_1.png is a boolean image: setting True to 1 and False to 0\n",
      "  warn('%s is a boolean image: setting True to 1 and False to 0' % fname)\n"
     ]
    },
    {
     "name": "stdout",
     "output_type": "stream",
     "text": [
      "Processing image ../../datasets/cityscapes-dataset/leftImg8bit_trainvaltest/leftImg8bit/train/weimar/weimar_000016_000019_leftImg8bit.png\n"
     ]
    },
    {
     "name": "stderr",
     "output_type": "stream",
     "text": [
      "/usr/local/lib/python3.7/site-packages/skimage/io/_io.py:142: UserWarning: ../../datasets/aurora/instagan/train/sampleA_seg/521_0.png is a boolean image: setting True to 1 and False to 0\n",
      "  warn('%s is a boolean image: setting True to 1 and False to 0' % fname)\n"
     ]
    },
    {
     "name": "stdout",
     "output_type": "stream",
     "text": [
      "Processing image ../../datasets/cityscapes-dataset/leftImg8bit_trainvaltest/leftImg8bit/train/weimar/weimar_000111_000019_leftImg8bit.png\n"
     ]
    },
    {
     "name": "stderr",
     "output_type": "stream",
     "text": [
      "/usr/local/lib/python3.7/site-packages/skimage/io/_io.py:142: UserWarning: ../../datasets/aurora/instagan/train/sampleA_seg/522_0.png is a boolean image: setting True to 1 and False to 0\n",
      "  warn('%s is a boolean image: setting True to 1 and False to 0' % fname)\n",
      "/usr/local/lib/python3.7/site-packages/skimage/io/_io.py:142: UserWarning: ../../datasets/aurora/instagan/train/sampleA_seg/522_1.png is a boolean image: setting True to 1 and False to 0\n",
      "  warn('%s is a boolean image: setting True to 1 and False to 0' % fname)\n"
     ]
    },
    {
     "name": "stdout",
     "output_type": "stream",
     "text": [
      "Processing image ../../datasets/cityscapes-dataset/leftImg8bit_trainvaltest/leftImg8bit/train/weimar/weimar_000062_000019_leftImg8bit.png\n"
     ]
    },
    {
     "name": "stderr",
     "output_type": "stream",
     "text": [
      "/usr/local/lib/python3.7/site-packages/skimage/io/_io.py:142: UserWarning: ../../datasets/aurora/instagan/train/sampleA_seg/523_0.png is a boolean image: setting True to 1 and False to 0\n",
      "  warn('%s is a boolean image: setting True to 1 and False to 0' % fname)\n",
      "/usr/local/lib/python3.7/site-packages/skimage/io/_io.py:142: UserWarning: ../../datasets/aurora/instagan/train/sampleA_seg/523_1.png is a boolean image: setting True to 1 and False to 0\n",
      "  warn('%s is a boolean image: setting True to 1 and False to 0' % fname)\n",
      "/usr/local/lib/python3.7/site-packages/skimage/io/_io.py:142: UserWarning: ../../datasets/aurora/instagan/train/sampleA_seg/523_2.png is a boolean image: setting True to 1 and False to 0\n",
      "  warn('%s is a boolean image: setting True to 1 and False to 0' % fname)\n"
     ]
    },
    {
     "name": "stdout",
     "output_type": "stream",
     "text": [
      "Processing image ../../datasets/cityscapes-dataset/leftImg8bit_trainvaltest/leftImg8bit/train/weimar/weimar_000017_000019_leftImg8bit.png\n"
     ]
    },
    {
     "name": "stderr",
     "output_type": "stream",
     "text": [
      "/usr/local/lib/python3.7/site-packages/skimage/io/_io.py:142: UserWarning: ../../datasets/aurora/instagan/train/sampleA_seg/524_0.png is a boolean image: setting True to 1 and False to 0\n",
      "  warn('%s is a boolean image: setting True to 1 and False to 0' % fname)\n"
     ]
    },
    {
     "name": "stdout",
     "output_type": "stream",
     "text": [
      "Processing image ../../datasets/cityscapes-dataset/leftImg8bit_trainvaltest/leftImg8bit/train/weimar/weimar_000068_000019_leftImg8bit.png\n"
     ]
    },
    {
     "name": "stderr",
     "output_type": "stream",
     "text": [
      "/usr/local/lib/python3.7/site-packages/skimage/io/_io.py:140: UserWarning: ../../datasets/aurora/instagan/train/sampleA_seg/525_0.png is a low contrast image\n",
      "  warn('%s is a low contrast image' % fname)\n",
      "/usr/local/lib/python3.7/site-packages/skimage/io/_io.py:142: UserWarning: ../../datasets/aurora/instagan/train/sampleA_seg/525_0.png is a boolean image: setting True to 1 and False to 0\n",
      "  warn('%s is a boolean image: setting True to 1 and False to 0' % fname)\n",
      "/usr/local/lib/python3.7/site-packages/skimage/io/_io.py:142: UserWarning: ../../datasets/aurora/instagan/train/sampleA_seg/525_1.png is a boolean image: setting True to 1 and False to 0\n",
      "  warn('%s is a boolean image: setting True to 1 and False to 0' % fname)\n",
      "/usr/local/lib/python3.7/site-packages/skimage/io/_io.py:142: UserWarning: ../../datasets/aurora/instagan/train/sampleA_seg/525_2.png is a boolean image: setting True to 1 and False to 0\n",
      "  warn('%s is a boolean image: setting True to 1 and False to 0' % fname)\n"
     ]
    },
    {
     "name": "stdout",
     "output_type": "stream",
     "text": [
      "Processing image ../../datasets/cityscapes-dataset/leftImg8bit_trainvaltest/leftImg8bit/train/weimar/weimar_000059_000019_leftImg8bit.png\n"
     ]
    },
    {
     "name": "stderr",
     "output_type": "stream",
     "text": [
      "/usr/local/lib/python3.7/site-packages/skimage/io/_io.py:142: UserWarning: ../../datasets/aurora/instagan/train/sampleA_seg/526_0.png is a boolean image: setting True to 1 and False to 0\n",
      "  warn('%s is a boolean image: setting True to 1 and False to 0' % fname)\n",
      "/usr/local/lib/python3.7/site-packages/skimage/io/_io.py:142: UserWarning: ../../datasets/aurora/instagan/train/sampleA_seg/526_1.png is a boolean image: setting True to 1 and False to 0\n",
      "  warn('%s is a boolean image: setting True to 1 and False to 0' % fname)\n",
      "/usr/local/lib/python3.7/site-packages/skimage/io/_io.py:142: UserWarning: ../../datasets/aurora/instagan/train/sampleA_seg/526_2.png is a boolean image: setting True to 1 and False to 0\n",
      "  warn('%s is a boolean image: setting True to 1 and False to 0' % fname)\n"
     ]
    },
    {
     "name": "stdout",
     "output_type": "stream",
     "text": [
      "Processing image ../../datasets/cityscapes-dataset/leftImg8bit_trainvaltest/leftImg8bit/train/weimar/weimar_000098_000019_leftImg8bit.png\n"
     ]
    },
    {
     "name": "stderr",
     "output_type": "stream",
     "text": [
      "/usr/local/lib/python3.7/site-packages/skimage/io/_io.py:142: UserWarning: ../../datasets/aurora/instagan/train/sampleA_seg/527_0.png is a boolean image: setting True to 1 and False to 0\n",
      "  warn('%s is a boolean image: setting True to 1 and False to 0' % fname)\n",
      "/usr/local/lib/python3.7/site-packages/skimage/io/_io.py:140: UserWarning: ../../datasets/aurora/instagan/train/sampleA_seg/527_1.png is a low contrast image\n",
      "  warn('%s is a low contrast image' % fname)\n",
      "/usr/local/lib/python3.7/site-packages/skimage/io/_io.py:142: UserWarning: ../../datasets/aurora/instagan/train/sampleA_seg/527_1.png is a boolean image: setting True to 1 and False to 0\n",
      "  warn('%s is a boolean image: setting True to 1 and False to 0' % fname)\n",
      "/usr/local/lib/python3.7/site-packages/skimage/io/_io.py:142: UserWarning: ../../datasets/aurora/instagan/train/sampleA_seg/527_2.png is a boolean image: setting True to 1 and False to 0\n",
      "  warn('%s is a boolean image: setting True to 1 and False to 0' % fname)\n",
      "/usr/local/lib/python3.7/site-packages/skimage/io/_io.py:140: UserWarning: ../../datasets/aurora/instagan/train/sampleA_seg/527_3.png is a low contrast image\n",
      "  warn('%s is a low contrast image' % fname)\n",
      "/usr/local/lib/python3.7/site-packages/skimage/io/_io.py:142: UserWarning: ../../datasets/aurora/instagan/train/sampleA_seg/527_3.png is a boolean image: setting True to 1 and False to 0\n",
      "  warn('%s is a boolean image: setting True to 1 and False to 0' % fname)\n"
     ]
    },
    {
     "name": "stdout",
     "output_type": "stream",
     "text": [
      "Processing image ../../datasets/cityscapes-dataset/leftImg8bit_trainvaltest/leftImg8bit/train/weimar/weimar_000026_000019_leftImg8bit.png\n"
     ]
    },
    {
     "name": "stderr",
     "output_type": "stream",
     "text": [
      "/usr/local/lib/python3.7/site-packages/skimage/io/_io.py:142: UserWarning: ../../datasets/aurora/instagan/train/sampleA_seg/528_0.png is a boolean image: setting True to 1 and False to 0\n",
      "  warn('%s is a boolean image: setting True to 1 and False to 0' % fname)\n"
     ]
    },
    {
     "name": "stdout",
     "output_type": "stream",
     "text": [
      "Processing image ../../datasets/cityscapes-dataset/leftImg8bit_trainvaltest/leftImg8bit/train/weimar/weimar_000120_000019_leftImg8bit.png\n"
     ]
    },
    {
     "name": "stderr",
     "output_type": "stream",
     "text": [
      "/usr/local/lib/python3.7/site-packages/skimage/io/_io.py:142: UserWarning: ../../datasets/aurora/instagan/train/sampleA_seg/529_0.png is a boolean image: setting True to 1 and False to 0\n",
      "  warn('%s is a boolean image: setting True to 1 and False to 0' % fname)\n",
      "/usr/local/lib/python3.7/site-packages/skimage/io/_io.py:142: UserWarning: ../../datasets/aurora/instagan/train/sampleA_seg/529_1.png is a boolean image: setting True to 1 and False to 0\n",
      "  warn('%s is a boolean image: setting True to 1 and False to 0' % fname)\n",
      "/usr/local/lib/python3.7/site-packages/skimage/io/_io.py:142: UserWarning: ../../datasets/aurora/instagan/train/sampleA_seg/529_2.png is a boolean image: setting True to 1 and False to 0\n",
      "  warn('%s is a boolean image: setting True to 1 and False to 0' % fname)\n",
      "/usr/local/lib/python3.7/site-packages/skimage/io/_io.py:142: UserWarning: ../../datasets/aurora/instagan/train/sampleA_seg/529_3.png is a boolean image: setting True to 1 and False to 0\n",
      "  warn('%s is a boolean image: setting True to 1 and False to 0' % fname)\n"
     ]
    },
    {
     "name": "stdout",
     "output_type": "stream",
     "text": [
      "Processing image ../../datasets/cityscapes-dataset/leftImg8bit_trainvaltest/leftImg8bit/train/weimar/weimar_000053_000019_leftImg8bit.png\n"
     ]
    },
    {
     "name": "stderr",
     "output_type": "stream",
     "text": [
      "/usr/local/lib/python3.7/site-packages/skimage/io/_io.py:142: UserWarning: ../../datasets/aurora/instagan/train/sampleA_seg/530_0.png is a boolean image: setting True to 1 and False to 0\n",
      "  warn('%s is a boolean image: setting True to 1 and False to 0' % fname)\n",
      "/usr/local/lib/python3.7/site-packages/skimage/io/_io.py:142: UserWarning: ../../datasets/aurora/instagan/train/sampleA_seg/530_1.png is a boolean image: setting True to 1 and False to 0\n",
      "  warn('%s is a boolean image: setting True to 1 and False to 0' % fname)\n",
      "/usr/local/lib/python3.7/site-packages/skimage/io/_io.py:142: UserWarning: ../../datasets/aurora/instagan/train/sampleA_seg/530_2.png is a boolean image: setting True to 1 and False to 0\n",
      "  warn('%s is a boolean image: setting True to 1 and False to 0' % fname)\n",
      "/usr/local/lib/python3.7/site-packages/skimage/io/_io.py:142: UserWarning: ../../datasets/aurora/instagan/train/sampleA_seg/530_3.png is a boolean image: setting True to 1 and False to 0\n",
      "  warn('%s is a boolean image: setting True to 1 and False to 0' % fname)\n",
      "/usr/local/lib/python3.7/site-packages/skimage/io/_io.py:142: UserWarning: ../../datasets/aurora/instagan/train/sampleA_seg/530_4.png is a boolean image: setting True to 1 and False to 0\n",
      "  warn('%s is a boolean image: setting True to 1 and False to 0' % fname)\n"
     ]
    },
    {
     "name": "stdout",
     "output_type": "stream",
     "text": [
      "Processing image ../../datasets/cityscapes-dataset/leftImg8bit_trainvaltest/leftImg8bit/train/weimar/weimar_000092_000019_leftImg8bit.png\n"
     ]
    },
    {
     "name": "stderr",
     "output_type": "stream",
     "text": [
      "/usr/local/lib/python3.7/site-packages/skimage/io/_io.py:142: UserWarning: ../../datasets/aurora/instagan/train/sampleA_seg/531_0.png is a boolean image: setting True to 1 and False to 0\n",
      "  warn('%s is a boolean image: setting True to 1 and False to 0' % fname)\n",
      "/usr/local/lib/python3.7/site-packages/skimage/io/_io.py:140: UserWarning: ../../datasets/aurora/instagan/train/sampleA_seg/531_1.png is a low contrast image\n",
      "  warn('%s is a low contrast image' % fname)\n",
      "/usr/local/lib/python3.7/site-packages/skimage/io/_io.py:142: UserWarning: ../../datasets/aurora/instagan/train/sampleA_seg/531_1.png is a boolean image: setting True to 1 and False to 0\n",
      "  warn('%s is a boolean image: setting True to 1 and False to 0' % fname)\n"
     ]
    },
    {
     "name": "stdout",
     "output_type": "stream",
     "text": [
      "Processing image ../../datasets/cityscapes-dataset/leftImg8bit_trainvaltest/leftImg8bit/train/weimar/weimar_000116_000019_leftImg8bit.png\n"
     ]
    },
    {
     "name": "stderr",
     "output_type": "stream",
     "text": [
      "/usr/local/lib/python3.7/site-packages/skimage/io/_io.py:142: UserWarning: ../../datasets/aurora/instagan/train/sampleA_seg/532_0.png is a boolean image: setting True to 1 and False to 0\n",
      "  warn('%s is a boolean image: setting True to 1 and False to 0' % fname)\n"
     ]
    },
    {
     "name": "stdout",
     "output_type": "stream",
     "text": [
      "Processing image ../../datasets/cityscapes-dataset/leftImg8bit_trainvaltest/leftImg8bit/train/weimar/weimar_000065_000019_leftImg8bit.png\n"
     ]
    },
    {
     "name": "stderr",
     "output_type": "stream",
     "text": [
      "/usr/local/lib/python3.7/site-packages/skimage/io/_io.py:142: UserWarning: ../../datasets/aurora/instagan/train/sampleA_seg/533_0.png is a boolean image: setting True to 1 and False to 0\n",
      "  warn('%s is a boolean image: setting True to 1 and False to 0' % fname)\n",
      "/usr/local/lib/python3.7/site-packages/skimage/io/_io.py:142: UserWarning: ../../datasets/aurora/instagan/train/sampleA_seg/533_1.png is a boolean image: setting True to 1 and False to 0\n",
      "  warn('%s is a boolean image: setting True to 1 and False to 0' % fname)\n"
     ]
    },
    {
     "name": "stdout",
     "output_type": "stream",
     "text": [
      "Processing image ../../datasets/cityscapes-dataset/leftImg8bit_trainvaltest/leftImg8bit/train/weimar/weimar_000010_000019_leftImg8bit.png\n"
     ]
    },
    {
     "name": "stderr",
     "output_type": "stream",
     "text": [
      "/usr/local/lib/python3.7/site-packages/skimage/io/_io.py:142: UserWarning: ../../datasets/aurora/instagan/train/sampleA_seg/534_0.png is a boolean image: setting True to 1 and False to 0\n",
      "  warn('%s is a boolean image: setting True to 1 and False to 0' % fname)\n"
     ]
    },
    {
     "name": "stdout",
     "output_type": "stream",
     "text": [
      "Processing image ../../datasets/cityscapes-dataset/leftImg8bit_trainvaltest/leftImg8bit/train/weimar/weimar_000021_000019_leftImg8bit.png\n",
      "Processing image ../../datasets/cityscapes-dataset/leftImg8bit_trainvaltest/leftImg8bit/train/weimar/weimar_000127_000019_leftImg8bit.png\n"
     ]
    },
    {
     "name": "stderr",
     "output_type": "stream",
     "text": [
      "/usr/local/lib/python3.7/site-packages/skimage/io/_io.py:140: UserWarning: ../../datasets/aurora/instagan/train/sampleA_seg/536_0.png is a low contrast image\n",
      "  warn('%s is a low contrast image' % fname)\n",
      "/usr/local/lib/python3.7/site-packages/skimage/io/_io.py:142: UserWarning: ../../datasets/aurora/instagan/train/sampleA_seg/536_0.png is a boolean image: setting True to 1 and False to 0\n",
      "  warn('%s is a boolean image: setting True to 1 and False to 0' % fname)\n",
      "/usr/local/lib/python3.7/site-packages/skimage/io/_io.py:140: UserWarning: ../../datasets/aurora/instagan/train/sampleA_seg/536_1.png is a low contrast image\n",
      "  warn('%s is a low contrast image' % fname)\n",
      "/usr/local/lib/python3.7/site-packages/skimage/io/_io.py:142: UserWarning: ../../datasets/aurora/instagan/train/sampleA_seg/536_1.png is a boolean image: setting True to 1 and False to 0\n",
      "  warn('%s is a boolean image: setting True to 1 and False to 0' % fname)\n",
      "/usr/local/lib/python3.7/site-packages/skimage/io/_io.py:140: UserWarning: ../../datasets/aurora/instagan/train/sampleA_seg/536_2.png is a low contrast image\n",
      "  warn('%s is a low contrast image' % fname)\n",
      "/usr/local/lib/python3.7/site-packages/skimage/io/_io.py:142: UserWarning: ../../datasets/aurora/instagan/train/sampleA_seg/536_2.png is a boolean image: setting True to 1 and False to 0\n",
      "  warn('%s is a boolean image: setting True to 1 and False to 0' % fname)\n",
      "/usr/local/lib/python3.7/site-packages/skimage/io/_io.py:142: UserWarning: ../../datasets/aurora/instagan/train/sampleA_seg/536_3.png is a boolean image: setting True to 1 and False to 0\n",
      "  warn('%s is a boolean image: setting True to 1 and False to 0' % fname)\n",
      "/usr/local/lib/python3.7/site-packages/skimage/io/_io.py:142: UserWarning: ../../datasets/aurora/instagan/train/sampleA_seg/536_4.png is a boolean image: setting True to 1 and False to 0\n",
      "  warn('%s is a boolean image: setting True to 1 and False to 0' % fname)\n",
      "/usr/local/lib/python3.7/site-packages/skimage/io/_io.py:142: UserWarning: ../../datasets/aurora/instagan/train/sampleA_seg/536_5.png is a boolean image: setting True to 1 and False to 0\n",
      "  warn('%s is a boolean image: setting True to 1 and False to 0' % fname)\n",
      "/usr/local/lib/python3.7/site-packages/skimage/io/_io.py:140: UserWarning: ../../datasets/aurora/instagan/train/sampleA_seg/536_6.png is a low contrast image\n",
      "  warn('%s is a low contrast image' % fname)\n",
      "/usr/local/lib/python3.7/site-packages/skimage/io/_io.py:142: UserWarning: ../../datasets/aurora/instagan/train/sampleA_seg/536_6.png is a boolean image: setting True to 1 and False to 0\n",
      "  warn('%s is a boolean image: setting True to 1 and False to 0' % fname)\n",
      "/usr/local/lib/python3.7/site-packages/skimage/io/_io.py:140: UserWarning: ../../datasets/aurora/instagan/train/sampleA_seg/536_7.png is a low contrast image\n",
      "  warn('%s is a low contrast image' % fname)\n",
      "/usr/local/lib/python3.7/site-packages/skimage/io/_io.py:142: UserWarning: ../../datasets/aurora/instagan/train/sampleA_seg/536_7.png is a boolean image: setting True to 1 and False to 0\n",
      "  warn('%s is a boolean image: setting True to 1 and False to 0' % fname)\n",
      "/usr/local/lib/python3.7/site-packages/skimage/io/_io.py:140: UserWarning: ../../datasets/aurora/instagan/train/sampleA_seg/536_8.png is a low contrast image\n",
      "  warn('%s is a low contrast image' % fname)\n",
      "/usr/local/lib/python3.7/site-packages/skimage/io/_io.py:142: UserWarning: ../../datasets/aurora/instagan/train/sampleA_seg/536_8.png is a boolean image: setting True to 1 and False to 0\n",
      "  warn('%s is a boolean image: setting True to 1 and False to 0' % fname)\n"
     ]
    },
    {
     "name": "stdout",
     "output_type": "stream",
     "text": [
      "Processing image ../../datasets/cityscapes-dataset/leftImg8bit_trainvaltest/leftImg8bit/train/weimar/weimar_000054_000019_leftImg8bit.png\n"
     ]
    },
    {
     "name": "stderr",
     "output_type": "stream",
     "text": [
      "/usr/local/lib/python3.7/site-packages/skimage/io/_io.py:142: UserWarning: ../../datasets/aurora/instagan/train/sampleA_seg/537_0.png is a boolean image: setting True to 1 and False to 0\n",
      "  warn('%s is a boolean image: setting True to 1 and False to 0' % fname)\n",
      "/usr/local/lib/python3.7/site-packages/skimage/io/_io.py:142: UserWarning: ../../datasets/aurora/instagan/train/sampleA_seg/537_1.png is a boolean image: setting True to 1 and False to 0\n",
      "  warn('%s is a boolean image: setting True to 1 and False to 0' % fname)\n",
      "/usr/local/lib/python3.7/site-packages/skimage/io/_io.py:142: UserWarning: ../../datasets/aurora/instagan/train/sampleA_seg/537_2.png is a boolean image: setting True to 1 and False to 0\n",
      "  warn('%s is a boolean image: setting True to 1 and False to 0' % fname)\n",
      "/usr/local/lib/python3.7/site-packages/skimage/io/_io.py:142: UserWarning: ../../datasets/aurora/instagan/train/sampleA_seg/537_3.png is a boolean image: setting True to 1 and False to 0\n",
      "  warn('%s is a boolean image: setting True to 1 and False to 0' % fname)\n"
     ]
    },
    {
     "name": "stdout",
     "output_type": "stream",
     "text": [
      "Processing image ../../datasets/cityscapes-dataset/leftImg8bit_trainvaltest/leftImg8bit/train/weimar/weimar_000095_000019_leftImg8bit.png\n"
     ]
    },
    {
     "name": "stderr",
     "output_type": "stream",
     "text": [
      "/usr/local/lib/python3.7/site-packages/skimage/io/_io.py:142: UserWarning: ../../datasets/aurora/instagan/train/sampleA_seg/538_0.png is a boolean image: setting True to 1 and False to 0\n",
      "  warn('%s is a boolean image: setting True to 1 and False to 0' % fname)\n"
     ]
    },
    {
     "name": "stdout",
     "output_type": "stream",
     "text": [
      "Processing image ../../datasets/cityscapes-dataset/leftImg8bit_trainvaltest/leftImg8bit/train/weimar/weimar_000019_000019_leftImg8bit.png\n"
     ]
    },
    {
     "name": "stderr",
     "output_type": "stream",
     "text": [
      "/usr/local/lib/python3.7/site-packages/skimage/io/_io.py:142: UserWarning: ../../datasets/aurora/instagan/train/sampleA_seg/539_0.png is a boolean image: setting True to 1 and False to 0\n",
      "  warn('%s is a boolean image: setting True to 1 and False to 0' % fname)\n",
      "/usr/local/lib/python3.7/site-packages/skimage/io/_io.py:142: UserWarning: ../../datasets/aurora/instagan/train/sampleA_seg/539_1.png is a boolean image: setting True to 1 and False to 0\n",
      "  warn('%s is a boolean image: setting True to 1 and False to 0' % fname)\n",
      "/usr/local/lib/python3.7/site-packages/skimage/io/_io.py:142: UserWarning: ../../datasets/aurora/instagan/train/sampleA_seg/539_2.png is a boolean image: setting True to 1 and False to 0\n",
      "  warn('%s is a boolean image: setting True to 1 and False to 0' % fname)\n"
     ]
    },
    {
     "name": "stdout",
     "output_type": "stream",
     "text": [
      "Processing image ../../datasets/cityscapes-dataset/leftImg8bit_trainvaltest/leftImg8bit/train/weimar/weimar_000013_000019_leftImg8bit.png\n",
      "Processing image ../../datasets/cityscapes-dataset/leftImg8bit_trainvaltest/leftImg8bit/train/weimar/weimar_000066_000019_leftImg8bit.png\n"
     ]
    },
    {
     "name": "stderr",
     "output_type": "stream",
     "text": [
      "/usr/local/lib/python3.7/site-packages/skimage/io/_io.py:142: UserWarning: ../../datasets/aurora/instagan/train/sampleA_seg/541_0.png is a boolean image: setting True to 1 and False to 0\n",
      "  warn('%s is a boolean image: setting True to 1 and False to 0' % fname)\n",
      "/usr/local/lib/python3.7/site-packages/skimage/io/_io.py:142: UserWarning: ../../datasets/aurora/instagan/train/sampleA_seg/541_1.png is a boolean image: setting True to 1 and False to 0\n",
      "  warn('%s is a boolean image: setting True to 1 and False to 0' % fname)\n",
      "/usr/local/lib/python3.7/site-packages/skimage/io/_io.py:142: UserWarning: ../../datasets/aurora/instagan/train/sampleA_seg/541_2.png is a boolean image: setting True to 1 and False to 0\n",
      "  warn('%s is a boolean image: setting True to 1 and False to 0' % fname)\n"
     ]
    },
    {
     "name": "stdout",
     "output_type": "stream",
     "text": [
      "Processing image ../../datasets/cityscapes-dataset/leftImg8bit_trainvaltest/leftImg8bit/train/weimar/weimar_000115_000019_leftImg8bit.png\n"
     ]
    },
    {
     "name": "stderr",
     "output_type": "stream",
     "text": [
      "/usr/local/lib/python3.7/site-packages/skimage/io/_io.py:142: UserWarning: ../../datasets/aurora/instagan/train/sampleA_seg/542_0.png is a boolean image: setting True to 1 and False to 0\n",
      "  warn('%s is a boolean image: setting True to 1 and False to 0' % fname)\n",
      "/usr/local/lib/python3.7/site-packages/skimage/io/_io.py:142: UserWarning: ../../datasets/aurora/instagan/train/sampleA_seg/542_1.png is a boolean image: setting True to 1 and False to 0\n",
      "  warn('%s is a boolean image: setting True to 1 and False to 0' % fname)\n"
     ]
    },
    {
     "name": "stdout",
     "output_type": "stream",
     "text": [
      "Processing image ../../datasets/cityscapes-dataset/leftImg8bit_trainvaltest/leftImg8bit/train/weimar/weimar_000057_000019_leftImg8bit.png\n"
     ]
    },
    {
     "name": "stderr",
     "output_type": "stream",
     "text": [
      "/usr/local/lib/python3.7/site-packages/skimage/io/_io.py:142: UserWarning: ../../datasets/aurora/instagan/train/sampleA_seg/543_0.png is a boolean image: setting True to 1 and False to 0\n",
      "  warn('%s is a boolean image: setting True to 1 and False to 0' % fname)\n",
      "/usr/local/lib/python3.7/site-packages/skimage/io/_io.py:142: UserWarning: ../../datasets/aurora/instagan/train/sampleA_seg/543_1.png is a boolean image: setting True to 1 and False to 0\n",
      "  warn('%s is a boolean image: setting True to 1 and False to 0' % fname)\n"
     ]
    },
    {
     "name": "stdout",
     "output_type": "stream",
     "text": [
      "Processing image ../../datasets/cityscapes-dataset/leftImg8bit_trainvaltest/leftImg8bit/train/weimar/weimar_000124_000019_leftImg8bit.png\n"
     ]
    },
    {
     "name": "stderr",
     "output_type": "stream",
     "text": [
      "/usr/local/lib/python3.7/site-packages/skimage/io/_io.py:140: UserWarning: ../../datasets/aurora/instagan/train/sampleA_seg/544_0.png is a low contrast image\n",
      "  warn('%s is a low contrast image' % fname)\n",
      "/usr/local/lib/python3.7/site-packages/skimage/io/_io.py:142: UserWarning: ../../datasets/aurora/instagan/train/sampleA_seg/544_0.png is a boolean image: setting True to 1 and False to 0\n",
      "  warn('%s is a boolean image: setting True to 1 and False to 0' % fname)\n",
      "/usr/local/lib/python3.7/site-packages/skimage/io/_io.py:142: UserWarning: ../../datasets/aurora/instagan/train/sampleA_seg/544_1.png is a boolean image: setting True to 1 and False to 0\n",
      "  warn('%s is a boolean image: setting True to 1 and False to 0' % fname)\n",
      "/usr/local/lib/python3.7/site-packages/skimage/io/_io.py:142: UserWarning: ../../datasets/aurora/instagan/train/sampleA_seg/544_2.png is a boolean image: setting True to 1 and False to 0\n",
      "  warn('%s is a boolean image: setting True to 1 and False to 0' % fname)\n",
      "/usr/local/lib/python3.7/site-packages/skimage/io/_io.py:142: UserWarning: ../../datasets/aurora/instagan/train/sampleA_seg/544_3.png is a boolean image: setting True to 1 and False to 0\n",
      "  warn('%s is a boolean image: setting True to 1 and False to 0' % fname)\n",
      "/usr/local/lib/python3.7/site-packages/skimage/io/_io.py:142: UserWarning: ../../datasets/aurora/instagan/train/sampleA_seg/544_4.png is a boolean image: setting True to 1 and False to 0\n",
      "  warn('%s is a boolean image: setting True to 1 and False to 0' % fname)\n"
     ]
    },
    {
     "name": "stdout",
     "output_type": "stream",
     "text": [
      "Processing image ../../datasets/cityscapes-dataset/leftImg8bit_trainvaltest/leftImg8bit/train/weimar/weimar_000096_000019_leftImg8bit.png\n"
     ]
    },
    {
     "name": "stderr",
     "output_type": "stream",
     "text": [
      "/usr/local/lib/python3.7/site-packages/skimage/io/_io.py:142: UserWarning: ../../datasets/aurora/instagan/train/sampleA_seg/545_0.png is a boolean image: setting True to 1 and False to 0\n",
      "  warn('%s is a boolean image: setting True to 1 and False to 0' % fname)\n",
      "/usr/local/lib/python3.7/site-packages/skimage/io/_io.py:142: UserWarning: ../../datasets/aurora/instagan/train/sampleA_seg/545_1.png is a boolean image: setting True to 1 and False to 0\n",
      "  warn('%s is a boolean image: setting True to 1 and False to 0' % fname)\n",
      "/usr/local/lib/python3.7/site-packages/skimage/io/_io.py:140: UserWarning: ../../datasets/aurora/instagan/train/sampleA_seg/545_2.png is a low contrast image\n",
      "  warn('%s is a low contrast image' % fname)\n",
      "/usr/local/lib/python3.7/site-packages/skimage/io/_io.py:142: UserWarning: ../../datasets/aurora/instagan/train/sampleA_seg/545_2.png is a boolean image: setting True to 1 and False to 0\n",
      "  warn('%s is a boolean image: setting True to 1 and False to 0' % fname)\n"
     ]
    },
    {
     "name": "stdout",
     "output_type": "stream",
     "text": [
      "Processing image ../../datasets/cityscapes-dataset/leftImg8bit_trainvaltest/leftImg8bit/train/weimar/weimar_000022_000019_leftImg8bit.png\n"
     ]
    },
    {
     "name": "stderr",
     "output_type": "stream",
     "text": [
      "/usr/local/lib/python3.7/site-packages/skimage/io/_io.py:142: UserWarning: ../../datasets/aurora/instagan/train/sampleA_seg/546_0.png is a boolean image: setting True to 1 and False to 0\n",
      "  warn('%s is a boolean image: setting True to 1 and False to 0' % fname)\n",
      "/usr/local/lib/python3.7/site-packages/skimage/io/_io.py:142: UserWarning: ../../datasets/aurora/instagan/train/sampleA_seg/546_1.png is a boolean image: setting True to 1 and False to 0\n",
      "  warn('%s is a boolean image: setting True to 1 and False to 0' % fname)\n"
     ]
    },
    {
     "name": "stdout",
     "output_type": "stream",
     "text": [
      "Processing image ../../datasets/cityscapes-dataset/leftImg8bit_trainvaltest/leftImg8bit/train/weimar/weimar_000028_000019_leftImg8bit.png\n"
     ]
    },
    {
     "name": "stderr",
     "output_type": "stream",
     "text": [
      "/usr/local/lib/python3.7/site-packages/skimage/io/_io.py:142: UserWarning: ../../datasets/aurora/instagan/train/sampleA_seg/547_0.png is a boolean image: setting True to 1 and False to 0\n",
      "  warn('%s is a boolean image: setting True to 1 and False to 0' % fname)\n"
     ]
    },
    {
     "name": "stdout",
     "output_type": "stream",
     "text": [
      "Processing image ../../datasets/cityscapes-dataset/leftImg8bit_trainvaltest/leftImg8bit/train/weimar/weimar_000118_000019_leftImg8bit.png\n"
     ]
    },
    {
     "name": "stderr",
     "output_type": "stream",
     "text": [
      "/usr/local/lib/python3.7/site-packages/skimage/io/_io.py:142: UserWarning: ../../datasets/aurora/instagan/train/sampleA_seg/548_0.png is a boolean image: setting True to 1 and False to 0\n",
      "  warn('%s is a boolean image: setting True to 1 and False to 0' % fname)\n",
      "/usr/local/lib/python3.7/site-packages/skimage/io/_io.py:142: UserWarning: ../../datasets/aurora/instagan/train/sampleA_seg/548_1.png is a boolean image: setting True to 1 and False to 0\n",
      "  warn('%s is a boolean image: setting True to 1 and False to 0' % fname)\n"
     ]
    },
    {
     "name": "stdout",
     "output_type": "stream",
     "text": [
      "Processing image ../../datasets/cityscapes-dataset/leftImg8bit_trainvaltest/leftImg8bit/train/weimar/weimar_000014_000019_leftImg8bit.png\n"
     ]
    },
    {
     "name": "stderr",
     "output_type": "stream",
     "text": [
      "/usr/local/lib/python3.7/site-packages/skimage/io/_io.py:142: UserWarning: ../../datasets/aurora/instagan/train/sampleA_seg/549_0.png is a boolean image: setting True to 1 and False to 0\n",
      "  warn('%s is a boolean image: setting True to 1 and False to 0' % fname)\n"
     ]
    },
    {
     "name": "stdout",
     "output_type": "stream",
     "text": [
      "Processing image ../../datasets/cityscapes-dataset/leftImg8bit_trainvaltest/leftImg8bit/train/weimar/weimar_000061_000019_leftImg8bit.png\n"
     ]
    },
    {
     "name": "stderr",
     "output_type": "stream",
     "text": [
      "/usr/local/lib/python3.7/site-packages/skimage/io/_io.py:140: UserWarning: ../../datasets/aurora/instagan/train/sampleA_seg/550_0.png is a low contrast image\n",
      "  warn('%s is a low contrast image' % fname)\n",
      "/usr/local/lib/python3.7/site-packages/skimage/io/_io.py:142: UserWarning: ../../datasets/aurora/instagan/train/sampleA_seg/550_0.png is a boolean image: setting True to 1 and False to 0\n",
      "  warn('%s is a boolean image: setting True to 1 and False to 0' % fname)\n",
      "/usr/local/lib/python3.7/site-packages/skimage/io/_io.py:142: UserWarning: ../../datasets/aurora/instagan/train/sampleA_seg/550_1.png is a boolean image: setting True to 1 and False to 0\n",
      "  warn('%s is a boolean image: setting True to 1 and False to 0' % fname)\n",
      "/usr/local/lib/python3.7/site-packages/skimage/io/_io.py:142: UserWarning: ../../datasets/aurora/instagan/train/sampleA_seg/550_2.png is a boolean image: setting True to 1 and False to 0\n",
      "  warn('%s is a boolean image: setting True to 1 and False to 0' % fname)\n"
     ]
    },
    {
     "name": "stdout",
     "output_type": "stream",
     "text": [
      "Processing image ../../datasets/cityscapes-dataset/leftImg8bit_trainvaltest/leftImg8bit/train/weimar/weimar_000112_000019_leftImg8bit.png\n"
     ]
    },
    {
     "name": "stderr",
     "output_type": "stream",
     "text": [
      "/usr/local/lib/python3.7/site-packages/skimage/io/_io.py:142: UserWarning: ../../datasets/aurora/instagan/train/sampleA_seg/551_0.png is a boolean image: setting True to 1 and False to 0\n",
      "  warn('%s is a boolean image: setting True to 1 and False to 0' % fname)\n",
      "/usr/local/lib/python3.7/site-packages/skimage/io/_io.py:142: UserWarning: ../../datasets/aurora/instagan/train/sampleA_seg/551_1.png is a boolean image: setting True to 1 and False to 0\n",
      "  warn('%s is a boolean image: setting True to 1 and False to 0' % fname)\n"
     ]
    },
    {
     "name": "stdout",
     "output_type": "stream",
     "text": [
      "Processing image ../../datasets/cityscapes-dataset/leftImg8bit_trainvaltest/leftImg8bit/train/weimar/weimar_000050_000019_leftImg8bit.png\n"
     ]
    },
    {
     "name": "stderr",
     "output_type": "stream",
     "text": [
      "/usr/local/lib/python3.7/site-packages/skimage/io/_io.py:142: UserWarning: ../../datasets/aurora/instagan/train/sampleA_seg/552_0.png is a boolean image: setting True to 1 and False to 0\n",
      "  warn('%s is a boolean image: setting True to 1 and False to 0' % fname)\n"
     ]
    },
    {
     "name": "stdout",
     "output_type": "stream",
     "text": [
      "Processing image ../../datasets/cityscapes-dataset/leftImg8bit_trainvaltest/leftImg8bit/train/weimar/weimar_000123_000019_leftImg8bit.png\n"
     ]
    },
    {
     "name": "stderr",
     "output_type": "stream",
     "text": [
      "/usr/local/lib/python3.7/site-packages/skimage/io/_io.py:142: UserWarning: ../../datasets/aurora/instagan/train/sampleA_seg/553_0.png is a boolean image: setting True to 1 and False to 0\n",
      "  warn('%s is a boolean image: setting True to 1 and False to 0' % fname)\n",
      "/usr/local/lib/python3.7/site-packages/skimage/io/_io.py:140: UserWarning: ../../datasets/aurora/instagan/train/sampleA_seg/553_1.png is a low contrast image\n",
      "  warn('%s is a low contrast image' % fname)\n",
      "/usr/local/lib/python3.7/site-packages/skimage/io/_io.py:142: UserWarning: ../../datasets/aurora/instagan/train/sampleA_seg/553_1.png is a boolean image: setting True to 1 and False to 0\n",
      "  warn('%s is a boolean image: setting True to 1 and False to 0' % fname)\n",
      "/usr/local/lib/python3.7/site-packages/skimage/io/_io.py:142: UserWarning: ../../datasets/aurora/instagan/train/sampleA_seg/553_2.png is a boolean image: setting True to 1 and False to 0\n",
      "  warn('%s is a boolean image: setting True to 1 and False to 0' % fname)\n",
      "/usr/local/lib/python3.7/site-packages/skimage/io/_io.py:142: UserWarning: ../../datasets/aurora/instagan/train/sampleA_seg/553_3.png is a boolean image: setting True to 1 and False to 0\n",
      "  warn('%s is a boolean image: setting True to 1 and False to 0' % fname)\n"
     ]
    },
    {
     "name": "stdout",
     "output_type": "stream",
     "text": [
      "Processing image ../../datasets/cityscapes-dataset/leftImg8bit_trainvaltest/leftImg8bit/train/weimar/weimar_000091_000019_leftImg8bit.png\n"
     ]
    },
    {
     "name": "stderr",
     "output_type": "stream",
     "text": [
      "/usr/local/lib/python3.7/site-packages/skimage/io/_io.py:142: UserWarning: ../../datasets/aurora/instagan/train/sampleA_seg/554_0.png is a boolean image: setting True to 1 and False to 0\n",
      "  warn('%s is a boolean image: setting True to 1 and False to 0' % fname)\n",
      "/usr/local/lib/python3.7/site-packages/skimage/io/_io.py:142: UserWarning: ../../datasets/aurora/instagan/train/sampleA_seg/554_1.png is a boolean image: setting True to 1 and False to 0\n",
      "  warn('%s is a boolean image: setting True to 1 and False to 0' % fname)\n",
      "/usr/local/lib/python3.7/site-packages/skimage/io/_io.py:142: UserWarning: ../../datasets/aurora/instagan/train/sampleA_seg/554_2.png is a boolean image: setting True to 1 and False to 0\n",
      "  warn('%s is a boolean image: setting True to 1 and False to 0' % fname)\n"
     ]
    },
    {
     "name": "stdout",
     "output_type": "stream",
     "text": [
      "Processing image ../../datasets/cityscapes-dataset/leftImg8bit_trainvaltest/leftImg8bit/train/weimar/weimar_000025_000019_leftImg8bit.png\n"
     ]
    },
    {
     "name": "stderr",
     "output_type": "stream",
     "text": [
      "/usr/local/lib/python3.7/site-packages/skimage/io/_io.py:142: UserWarning: ../../datasets/aurora/instagan/train/sampleA_seg/555_0.png is a boolean image: setting True to 1 and False to 0\n",
      "  warn('%s is a boolean image: setting True to 1 and False to 0' % fname)\n"
     ]
    },
    {
     "name": "stdout",
     "output_type": "stream",
     "text": [
      "Processing image ../../datasets/cityscapes-dataset/leftImg8bit_trainvaltest/leftImg8bit/train/weimar/weimar_000129_000019_leftImg8bit.png\n"
     ]
    },
    {
     "name": "stderr",
     "output_type": "stream",
     "text": [
      "/usr/local/lib/python3.7/site-packages/skimage/io/_io.py:142: UserWarning: ../../datasets/aurora/instagan/train/sampleA_seg/556_0.png is a boolean image: setting True to 1 and False to 0\n",
      "  warn('%s is a boolean image: setting True to 1 and False to 0' % fname)\n",
      "/usr/local/lib/python3.7/site-packages/skimage/io/_io.py:142: UserWarning: ../../datasets/aurora/instagan/train/sampleA_seg/556_1.png is a boolean image: setting True to 1 and False to 0\n",
      "  warn('%s is a boolean image: setting True to 1 and False to 0' % fname)\n",
      "/usr/local/lib/python3.7/site-packages/skimage/io/_io.py:142: UserWarning: ../../datasets/aurora/instagan/train/sampleA_seg/556_2.png is a boolean image: setting True to 1 and False to 0\n",
      "  warn('%s is a boolean image: setting True to 1 and False to 0' % fname)\n"
     ]
    },
    {
     "name": "stdout",
     "output_type": "stream",
     "text": [
      "Processing image ../../datasets/cityscapes-dataset/leftImg8bit_trainvaltest/leftImg8bit/train/weimar/weimar_000006_000019_leftImg8bit.png\n"
     ]
    },
    {
     "name": "stderr",
     "output_type": "stream",
     "text": [
      "/usr/local/lib/python3.7/site-packages/skimage/io/_io.py:142: UserWarning: ../../datasets/aurora/instagan/train/sampleA_seg/557_0.png is a boolean image: setting True to 1 and False to 0\n",
      "  warn('%s is a boolean image: setting True to 1 and False to 0' % fname)\n",
      "/usr/local/lib/python3.7/site-packages/skimage/io/_io.py:142: UserWarning: ../../datasets/aurora/instagan/train/sampleA_seg/557_1.png is a boolean image: setting True to 1 and False to 0\n",
      "  warn('%s is a boolean image: setting True to 1 and False to 0' % fname)\n",
      "/usr/local/lib/python3.7/site-packages/skimage/io/_io.py:140: UserWarning: ../../datasets/aurora/instagan/train/sampleA_seg/557_2.png is a low contrast image\n",
      "  warn('%s is a low contrast image' % fname)\n",
      "/usr/local/lib/python3.7/site-packages/skimage/io/_io.py:142: UserWarning: ../../datasets/aurora/instagan/train/sampleA_seg/557_2.png is a boolean image: setting True to 1 and False to 0\n",
      "  warn('%s is a boolean image: setting True to 1 and False to 0' % fname)\n",
      "/usr/local/lib/python3.7/site-packages/skimage/io/_io.py:142: UserWarning: ../../datasets/aurora/instagan/train/sampleA_seg/557_3.png is a boolean image: setting True to 1 and False to 0\n",
      "  warn('%s is a boolean image: setting True to 1 and False to 0' % fname)\n"
     ]
    },
    {
     "name": "stdout",
     "output_type": "stream",
     "text": [
      "Processing image ../../datasets/cityscapes-dataset/leftImg8bit_trainvaltest/leftImg8bit/train/weimar/weimar_000073_000019_leftImg8bit.png\n"
     ]
    },
    {
     "name": "stderr",
     "output_type": "stream",
     "text": [
      "/usr/local/lib/python3.7/site-packages/skimage/io/_io.py:142: UserWarning: ../../datasets/aurora/instagan/train/sampleA_seg/558_0.png is a boolean image: setting True to 1 and False to 0\n",
      "  warn('%s is a boolean image: setting True to 1 and False to 0' % fname)\n",
      "/usr/local/lib/python3.7/site-packages/skimage/io/_io.py:142: UserWarning: ../../datasets/aurora/instagan/train/sampleA_seg/558_1.png is a boolean image: setting True to 1 and False to 0\n",
      "  warn('%s is a boolean image: setting True to 1 and False to 0' % fname)\n",
      "/usr/local/lib/python3.7/site-packages/skimage/io/_io.py:142: UserWarning: ../../datasets/aurora/instagan/train/sampleA_seg/558_2.png is a boolean image: setting True to 1 and False to 0\n",
      "  warn('%s is a boolean image: setting True to 1 and False to 0' % fname)\n",
      "/usr/local/lib/python3.7/site-packages/skimage/io/_io.py:142: UserWarning: ../../datasets/aurora/instagan/train/sampleA_seg/558_3.png is a boolean image: setting True to 1 and False to 0\n",
      "  warn('%s is a boolean image: setting True to 1 and False to 0' % fname)\n"
     ]
    },
    {
     "name": "stdout",
     "output_type": "stream",
     "text": [
      "Processing image ../../datasets/cityscapes-dataset/leftImg8bit_trainvaltest/leftImg8bit/train/weimar/weimar_000100_000019_leftImg8bit.png\n"
     ]
    },
    {
     "name": "stderr",
     "output_type": "stream",
     "text": [
      "/usr/local/lib/python3.7/site-packages/skimage/io/_io.py:142: UserWarning: ../../datasets/aurora/instagan/train/sampleA_seg/559_0.png is a boolean image: setting True to 1 and False to 0\n",
      "  warn('%s is a boolean image: setting True to 1 and False to 0' % fname)\n"
     ]
    },
    {
     "name": "stdout",
     "output_type": "stream",
     "text": [
      "Processing image ../../datasets/cityscapes-dataset/leftImg8bit_trainvaltest/leftImg8bit/train/weimar/weimar_000079_000019_leftImg8bit.png\n"
     ]
    },
    {
     "name": "stderr",
     "output_type": "stream",
     "text": [
      "/usr/local/lib/python3.7/site-packages/skimage/io/_io.py:142: UserWarning: ../../datasets/aurora/instagan/train/sampleA_seg/560_0.png is a boolean image: setting True to 1 and False to 0\n",
      "  warn('%s is a boolean image: setting True to 1 and False to 0' % fname)\n"
     ]
    },
    {
     "name": "stdout",
     "output_type": "stream",
     "text": [
      "Processing image ../../datasets/cityscapes-dataset/leftImg8bit_trainvaltest/leftImg8bit/train/weimar/weimar_000089_000019_leftImg8bit.png\n"
     ]
    },
    {
     "name": "stderr",
     "output_type": "stream",
     "text": [
      "/usr/local/lib/python3.7/site-packages/skimage/io/_io.py:142: UserWarning: ../../datasets/aurora/instagan/train/sampleA_seg/561_0.png is a boolean image: setting True to 1 and False to 0\n",
      "  warn('%s is a boolean image: setting True to 1 and False to 0' % fname)\n"
     ]
    },
    {
     "name": "stdout",
     "output_type": "stream",
     "text": [
      "Processing image ../../datasets/cityscapes-dataset/leftImg8bit_trainvaltest/leftImg8bit/train/weimar/weimar_000048_000019_leftImg8bit.png\n"
     ]
    },
    {
     "name": "stderr",
     "output_type": "stream",
     "text": [
      "/usr/local/lib/python3.7/site-packages/skimage/io/_io.py:142: UserWarning: ../../datasets/aurora/instagan/train/sampleA_seg/562_0.png is a boolean image: setting True to 1 and False to 0\n",
      "  warn('%s is a boolean image: setting True to 1 and False to 0' % fname)\n",
      "/usr/local/lib/python3.7/site-packages/skimage/io/_io.py:142: UserWarning: ../../datasets/aurora/instagan/train/sampleA_seg/562_1.png is a boolean image: setting True to 1 and False to 0\n",
      "  warn('%s is a boolean image: setting True to 1 and False to 0' % fname)\n",
      "/usr/local/lib/python3.7/site-packages/skimage/io/_io.py:142: UserWarning: ../../datasets/aurora/instagan/train/sampleA_seg/562_2.png is a boolean image: setting True to 1 and False to 0\n",
      "  warn('%s is a boolean image: setting True to 1 and False to 0' % fname)\n"
     ]
    },
    {
     "name": "stdout",
     "output_type": "stream",
     "text": [
      "Processing image ../../datasets/cityscapes-dataset/leftImg8bit_trainvaltest/leftImg8bit/train/weimar/weimar_000083_000019_leftImg8bit.png\n"
     ]
    },
    {
     "name": "stderr",
     "output_type": "stream",
     "text": [
      "/usr/local/lib/python3.7/site-packages/skimage/io/_io.py:142: UserWarning: ../../datasets/aurora/instagan/train/sampleA_seg/563_0.png is a boolean image: setting True to 1 and False to 0\n",
      "  warn('%s is a boolean image: setting True to 1 and False to 0' % fname)\n"
     ]
    },
    {
     "name": "stdout",
     "output_type": "stream",
     "text": [
      "Processing image ../../datasets/cityscapes-dataset/leftImg8bit_trainvaltest/leftImg8bit/train/weimar/weimar_000042_000019_leftImg8bit.png\n"
     ]
    },
    {
     "name": "stderr",
     "output_type": "stream",
     "text": [
      "/usr/local/lib/python3.7/site-packages/skimage/io/_io.py:142: UserWarning: ../../datasets/aurora/instagan/train/sampleA_seg/564_0.png is a boolean image: setting True to 1 and False to 0\n",
      "  warn('%s is a boolean image: setting True to 1 and False to 0' % fname)\n",
      "/usr/local/lib/python3.7/site-packages/skimage/io/_io.py:142: UserWarning: ../../datasets/aurora/instagan/train/sampleA_seg/564_1.png is a boolean image: setting True to 1 and False to 0\n",
      "  warn('%s is a boolean image: setting True to 1 and False to 0' % fname)\n",
      "/usr/local/lib/python3.7/site-packages/skimage/io/_io.py:142: UserWarning: ../../datasets/aurora/instagan/train/sampleA_seg/564_2.png is a boolean image: setting True to 1 and False to 0\n",
      "  warn('%s is a boolean image: setting True to 1 and False to 0' % fname)\n"
     ]
    },
    {
     "name": "stdout",
     "output_type": "stream",
     "text": [
      "Processing image ../../datasets/cityscapes-dataset/leftImg8bit_trainvaltest/leftImg8bit/train/weimar/weimar_000131_000019_leftImg8bit.png\n"
     ]
    },
    {
     "name": "stderr",
     "output_type": "stream",
     "text": [
      "/usr/local/lib/python3.7/site-packages/skimage/io/_io.py:142: UserWarning: ../../datasets/aurora/instagan/train/sampleA_seg/565_0.png is a boolean image: setting True to 1 and False to 0\n",
      "  warn('%s is a boolean image: setting True to 1 and False to 0' % fname)\n",
      "/usr/local/lib/python3.7/site-packages/skimage/io/_io.py:142: UserWarning: ../../datasets/aurora/instagan/train/sampleA_seg/565_1.png is a boolean image: setting True to 1 and False to 0\n",
      "  warn('%s is a boolean image: setting True to 1 and False to 0' % fname)\n",
      "/usr/local/lib/python3.7/site-packages/skimage/io/_io.py:142: UserWarning: ../../datasets/aurora/instagan/train/sampleA_seg/565_2.png is a boolean image: setting True to 1 and False to 0\n",
      "  warn('%s is a boolean image: setting True to 1 and False to 0' % fname)\n",
      "/usr/local/lib/python3.7/site-packages/skimage/io/_io.py:142: UserWarning: ../../datasets/aurora/instagan/train/sampleA_seg/565_3.png is a boolean image: setting True to 1 and False to 0\n",
      "  warn('%s is a boolean image: setting True to 1 and False to 0' % fname)\n",
      "/usr/local/lib/python3.7/site-packages/skimage/io/_io.py:142: UserWarning: ../../datasets/aurora/instagan/train/sampleA_seg/565_4.png is a boolean image: setting True to 1 and False to 0\n",
      "  warn('%s is a boolean image: setting True to 1 and False to 0' % fname)\n"
     ]
    },
    {
     "name": "stdout",
     "output_type": "stream",
     "text": [
      "Processing image ../../datasets/cityscapes-dataset/leftImg8bit_trainvaltest/leftImg8bit/train/weimar/weimar_000037_000019_leftImg8bit.png\n"
     ]
    },
    {
     "name": "stderr",
     "output_type": "stream",
     "text": [
      "/usr/local/lib/python3.7/site-packages/skimage/io/_io.py:142: UserWarning: ../../datasets/aurora/instagan/train/sampleA_seg/566_0.png is a boolean image: setting True to 1 and False to 0\n",
      "  warn('%s is a boolean image: setting True to 1 and False to 0' % fname)\n",
      "/usr/local/lib/python3.7/site-packages/skimage/io/_io.py:142: UserWarning: ../../datasets/aurora/instagan/train/sampleA_seg/566_1.png is a boolean image: setting True to 1 and False to 0\n",
      "  warn('%s is a boolean image: setting True to 1 and False to 0' % fname)\n",
      "/usr/local/lib/python3.7/site-packages/skimage/io/_io.py:142: UserWarning: ../../datasets/aurora/instagan/train/sampleA_seg/566_2.png is a boolean image: setting True to 1 and False to 0\n",
      "  warn('%s is a boolean image: setting True to 1 and False to 0' % fname)\n"
     ]
    },
    {
     "name": "stdout",
     "output_type": "stream",
     "text": [
      "Processing image ../../datasets/cityscapes-dataset/leftImg8bit_trainvaltest/leftImg8bit/train/weimar/weimar_000001_000019_leftImg8bit.png\n"
     ]
    },
    {
     "name": "stderr",
     "output_type": "stream",
     "text": [
      "/usr/local/lib/python3.7/site-packages/skimage/io/_io.py:142: UserWarning: ../../datasets/aurora/instagan/train/sampleA_seg/567_0.png is a boolean image: setting True to 1 and False to 0\n",
      "  warn('%s is a boolean image: setting True to 1 and False to 0' % fname)\n",
      "/usr/local/lib/python3.7/site-packages/skimage/io/_io.py:142: UserWarning: ../../datasets/aurora/instagan/train/sampleA_seg/567_1.png is a boolean image: setting True to 1 and False to 0\n",
      "  warn('%s is a boolean image: setting True to 1 and False to 0' % fname)\n"
     ]
    },
    {
     "name": "stdout",
     "output_type": "stream",
     "text": [
      "Processing image ../../datasets/cityscapes-dataset/leftImg8bit_trainvaltest/leftImg8bit/train/weimar/weimar_000074_000019_leftImg8bit.png\n"
     ]
    },
    {
     "name": "stderr",
     "output_type": "stream",
     "text": [
      "/usr/local/lib/python3.7/site-packages/skimage/io/_io.py:142: UserWarning: ../../datasets/aurora/instagan/train/sampleA_seg/568_0.png is a boolean image: setting True to 1 and False to 0\n",
      "  warn('%s is a boolean image: setting True to 1 and False to 0' % fname)\n",
      "/usr/local/lib/python3.7/site-packages/skimage/io/_io.py:142: UserWarning: ../../datasets/aurora/instagan/train/sampleA_seg/568_1.png is a boolean image: setting True to 1 and False to 0\n",
      "  warn('%s is a boolean image: setting True to 1 and False to 0' % fname)\n"
     ]
    },
    {
     "name": "stdout",
     "output_type": "stream",
     "text": [
      "Processing image ../../datasets/cityscapes-dataset/leftImg8bit_trainvaltest/leftImg8bit/train/weimar/weimar_000107_000019_leftImg8bit.png\n"
     ]
    },
    {
     "name": "stderr",
     "output_type": "stream",
     "text": [
      "/usr/local/lib/python3.7/site-packages/skimage/io/_io.py:142: UserWarning: ../../datasets/aurora/instagan/train/sampleA_seg/569_0.png is a boolean image: setting True to 1 and False to 0\n",
      "  warn('%s is a boolean image: setting True to 1 and False to 0' % fname)\n"
     ]
    },
    {
     "name": "stdout",
     "output_type": "stream",
     "text": [
      "Processing image ../../datasets/cityscapes-dataset/leftImg8bit_trainvaltest/leftImg8bit/train/weimar/weimar_000084_000019_leftImg8bit.png\n"
     ]
    },
    {
     "name": "stderr",
     "output_type": "stream",
     "text": [
      "/usr/local/lib/python3.7/site-packages/skimage/io/_io.py:142: UserWarning: ../../datasets/aurora/instagan/train/sampleA_seg/570_0.png is a boolean image: setting True to 1 and False to 0\n",
      "  warn('%s is a boolean image: setting True to 1 and False to 0' % fname)\n"
     ]
    },
    {
     "name": "stdout",
     "output_type": "stream",
     "text": [
      "Processing image ../../datasets/cityscapes-dataset/leftImg8bit_trainvaltest/leftImg8bit/train/weimar/weimar_000045_000019_leftImg8bit.png\n"
     ]
    },
    {
     "name": "stderr",
     "output_type": "stream",
     "text": [
      "/usr/local/lib/python3.7/site-packages/skimage/io/_io.py:142: UserWarning: ../../datasets/aurora/instagan/train/sampleA_seg/571_0.png is a boolean image: setting True to 1 and False to 0\n",
      "  warn('%s is a boolean image: setting True to 1 and False to 0' % fname)\n",
      "/usr/local/lib/python3.7/site-packages/skimage/io/_io.py:142: UserWarning: ../../datasets/aurora/instagan/train/sampleA_seg/571_1.png is a boolean image: setting True to 1 and False to 0\n",
      "  warn('%s is a boolean image: setting True to 1 and False to 0' % fname)\n",
      "/usr/local/lib/python3.7/site-packages/skimage/io/_io.py:142: UserWarning: ../../datasets/aurora/instagan/train/sampleA_seg/571_2.png is a boolean image: setting True to 1 and False to 0\n",
      "  warn('%s is a boolean image: setting True to 1 and False to 0' % fname)\n"
     ]
    },
    {
     "name": "stdout",
     "output_type": "stream",
     "text": [
      "Processing image ../../datasets/cityscapes-dataset/leftImg8bit_trainvaltest/leftImg8bit/train/weimar/weimar_000136_000019_leftImg8bit.png\n"
     ]
    },
    {
     "name": "stderr",
     "output_type": "stream",
     "text": [
      "/usr/local/lib/python3.7/site-packages/skimage/io/_io.py:142: UserWarning: ../../datasets/aurora/instagan/train/sampleA_seg/572_0.png is a boolean image: setting True to 1 and False to 0\n",
      "  warn('%s is a boolean image: setting True to 1 and False to 0' % fname)\n",
      "/usr/local/lib/python3.7/site-packages/skimage/io/_io.py:142: UserWarning: ../../datasets/aurora/instagan/train/sampleA_seg/572_1.png is a boolean image: setting True to 1 and False to 0\n",
      "  warn('%s is a boolean image: setting True to 1 and False to 0' % fname)\n"
     ]
    },
    {
     "name": "stdout",
     "output_type": "stream",
     "text": [
      "Processing image ../../datasets/cityscapes-dataset/leftImg8bit_trainvaltest/leftImg8bit/train/weimar/weimar_000030_000019_leftImg8bit.png\n"
     ]
    },
    {
     "name": "stderr",
     "output_type": "stream",
     "text": [
      "/usr/local/lib/python3.7/site-packages/skimage/io/_io.py:142: UserWarning: ../../datasets/aurora/instagan/train/sampleA_seg/573_0.png is a boolean image: setting True to 1 and False to 0\n",
      "  warn('%s is a boolean image: setting True to 1 and False to 0' % fname)\n",
      "/usr/local/lib/python3.7/site-packages/skimage/io/_io.py:142: UserWarning: ../../datasets/aurora/instagan/train/sampleA_seg/573_1.png is a boolean image: setting True to 1 and False to 0\n",
      "  warn('%s is a boolean image: setting True to 1 and False to 0' % fname)\n"
     ]
    },
    {
     "name": "stdout",
     "output_type": "stream",
     "text": [
      "Processing image ../../datasets/cityscapes-dataset/leftImg8bit_trainvaltest/leftImg8bit/train/weimar/weimar_000008_000019_leftImg8bit.png\n"
     ]
    },
    {
     "name": "stderr",
     "output_type": "stream",
     "text": [
      "/usr/local/lib/python3.7/site-packages/skimage/io/_io.py:142: UserWarning: ../../datasets/aurora/instagan/train/sampleA_seg/574_0.png is a boolean image: setting True to 1 and False to 0\n",
      "  warn('%s is a boolean image: setting True to 1 and False to 0' % fname)\n",
      "/usr/local/lib/python3.7/site-packages/skimage/io/_io.py:142: UserWarning: ../../datasets/aurora/instagan/train/sampleA_seg/574_1.png is a boolean image: setting True to 1 and False to 0\n",
      "  warn('%s is a boolean image: setting True to 1 and False to 0' % fname)\n"
     ]
    },
    {
     "name": "stdout",
     "output_type": "stream",
     "text": [
      "Processing image ../../datasets/cityscapes-dataset/leftImg8bit_trainvaltest/leftImg8bit/train/weimar/weimar_000104_000019_leftImg8bit.png\n"
     ]
    },
    {
     "name": "stderr",
     "output_type": "stream",
     "text": [
      "/usr/local/lib/python3.7/site-packages/skimage/io/_io.py:142: UserWarning: ../../datasets/aurora/instagan/train/sampleA_seg/575_0.png is a boolean image: setting True to 1 and False to 0\n",
      "  warn('%s is a boolean image: setting True to 1 and False to 0' % fname)\n"
     ]
    },
    {
     "name": "stdout",
     "output_type": "stream",
     "text": [
      "Processing image ../../datasets/cityscapes-dataset/leftImg8bit_trainvaltest/leftImg8bit/train/weimar/weimar_000077_000019_leftImg8bit.png\n"
     ]
    },
    {
     "name": "stderr",
     "output_type": "stream",
     "text": [
      "/usr/local/lib/python3.7/site-packages/skimage/io/_io.py:142: UserWarning: ../../datasets/aurora/instagan/train/sampleA_seg/576_0.png is a boolean image: setting True to 1 and False to 0\n",
      "  warn('%s is a boolean image: setting True to 1 and False to 0' % fname)\n",
      "/usr/local/lib/python3.7/site-packages/skimage/io/_io.py:142: UserWarning: ../../datasets/aurora/instagan/train/sampleA_seg/576_1.png is a boolean image: setting True to 1 and False to 0\n",
      "  warn('%s is a boolean image: setting True to 1 and False to 0' % fname)\n"
     ]
    },
    {
     "name": "stdout",
     "output_type": "stream",
     "text": [
      "Processing image ../../datasets/cityscapes-dataset/leftImg8bit_trainvaltest/leftImg8bit/train/weimar/weimar_000002_000019_leftImg8bit.png\n"
     ]
    },
    {
     "name": "stderr",
     "output_type": "stream",
     "text": [
      "/usr/local/lib/python3.7/site-packages/skimage/io/_io.py:142: UserWarning: ../../datasets/aurora/instagan/train/sampleA_seg/577_0.png is a boolean image: setting True to 1 and False to 0\n",
      "  warn('%s is a boolean image: setting True to 1 and False to 0' % fname)\n",
      "/usr/local/lib/python3.7/site-packages/skimage/io/_io.py:142: UserWarning: ../../datasets/aurora/instagan/train/sampleA_seg/577_1.png is a boolean image: setting True to 1 and False to 0\n",
      "  warn('%s is a boolean image: setting True to 1 and False to 0' % fname)\n"
     ]
    },
    {
     "name": "stdout",
     "output_type": "stream",
     "text": [
      "Processing image ../../datasets/cityscapes-dataset/leftImg8bit_trainvaltest/leftImg8bit/train/weimar/weimar_000140_000019_leftImg8bit.png\n"
     ]
    },
    {
     "name": "stderr",
     "output_type": "stream",
     "text": [
      "/usr/local/lib/python3.7/site-packages/skimage/io/_io.py:142: UserWarning: ../../datasets/aurora/instagan/train/sampleA_seg/578_0.png is a boolean image: setting True to 1 and False to 0\n",
      "  warn('%s is a boolean image: setting True to 1 and False to 0' % fname)\n"
     ]
    },
    {
     "name": "stdout",
     "output_type": "stream",
     "text": [
      "Processing image ../../datasets/cityscapes-dataset/leftImg8bit_trainvaltest/leftImg8bit/train/weimar/weimar_000033_000019_leftImg8bit.png\n"
     ]
    },
    {
     "name": "stderr",
     "output_type": "stream",
     "text": [
      "/usr/local/lib/python3.7/site-packages/skimage/io/_io.py:142: UserWarning: ../../datasets/aurora/instagan/train/sampleA_seg/579_0.png is a boolean image: setting True to 1 and False to 0\n",
      "  warn('%s is a boolean image: setting True to 1 and False to 0' % fname)\n",
      "/usr/local/lib/python3.7/site-packages/skimage/io/_io.py:142: UserWarning: ../../datasets/aurora/instagan/train/sampleA_seg/579_1.png is a boolean image: setting True to 1 and False to 0\n",
      "  warn('%s is a boolean image: setting True to 1 and False to 0' % fname)\n",
      "/usr/local/lib/python3.7/site-packages/skimage/io/_io.py:142: UserWarning: ../../datasets/aurora/instagan/train/sampleA_seg/579_2.png is a boolean image: setting True to 1 and False to 0\n",
      "  warn('%s is a boolean image: setting True to 1 and False to 0' % fname)\n",
      "/usr/local/lib/python3.7/site-packages/skimage/io/_io.py:142: UserWarning: ../../datasets/aurora/instagan/train/sampleA_seg/579_3.png is a boolean image: setting True to 1 and False to 0\n",
      "  warn('%s is a boolean image: setting True to 1 and False to 0' % fname)\n"
     ]
    },
    {
     "name": "stdout",
     "output_type": "stream",
     "text": [
      "Processing image ../../datasets/cityscapes-dataset/leftImg8bit_trainvaltest/leftImg8bit/train/weimar/weimar_000087_000019_leftImg8bit.png\n"
     ]
    },
    {
     "name": "stderr",
     "output_type": "stream",
     "text": [
      "/usr/local/lib/python3.7/site-packages/skimage/io/_io.py:142: UserWarning: ../../datasets/aurora/instagan/train/sampleA_seg/580_0.png is a boolean image: setting True to 1 and False to 0\n",
      "  warn('%s is a boolean image: setting True to 1 and False to 0' % fname)\n",
      "/usr/local/lib/python3.7/site-packages/skimage/io/_io.py:142: UserWarning: ../../datasets/aurora/instagan/train/sampleA_seg/580_1.png is a boolean image: setting True to 1 and False to 0\n",
      "  warn('%s is a boolean image: setting True to 1 and False to 0' % fname)\n"
     ]
    },
    {
     "name": "stdout",
     "output_type": "stream",
     "text": [
      "Processing image ../../datasets/cityscapes-dataset/leftImg8bit_trainvaltest/leftImg8bit/train/weimar/weimar_000135_000019_leftImg8bit.png\n"
     ]
    },
    {
     "name": "stderr",
     "output_type": "stream",
     "text": [
      "/usr/local/lib/python3.7/site-packages/skimage/io/_io.py:142: UserWarning: ../../datasets/aurora/instagan/train/sampleA_seg/581_0.png is a boolean image: setting True to 1 and False to 0\n",
      "  warn('%s is a boolean image: setting True to 1 and False to 0' % fname)\n"
     ]
    },
    {
     "name": "stdout",
     "output_type": "stream",
     "text": [
      "Processing image ../../datasets/cityscapes-dataset/leftImg8bit_trainvaltest/leftImg8bit/train/weimar/weimar_000046_000019_leftImg8bit.png\n"
     ]
    },
    {
     "name": "stderr",
     "output_type": "stream",
     "text": [
      "/usr/local/lib/python3.7/site-packages/skimage/io/_io.py:142: UserWarning: ../../datasets/aurora/instagan/train/sampleA_seg/582_0.png is a boolean image: setting True to 1 and False to 0\n",
      "  warn('%s is a boolean image: setting True to 1 and False to 0' % fname)\n"
     ]
    },
    {
     "name": "stdout",
     "output_type": "stream",
     "text": [
      "Processing image ../../datasets/cityscapes-dataset/leftImg8bit_trainvaltest/leftImg8bit/train/weimar/weimar_000039_000019_leftImg8bit.png\n"
     ]
    },
    {
     "name": "stderr",
     "output_type": "stream",
     "text": [
      "/usr/local/lib/python3.7/site-packages/skimage/io/_io.py:142: UserWarning: ../../datasets/aurora/instagan/train/sampleA_seg/583_0.png is a boolean image: setting True to 1 and False to 0\n",
      "  warn('%s is a boolean image: setting True to 1 and False to 0' % fname)\n",
      "/usr/local/lib/python3.7/site-packages/skimage/io/_io.py:142: UserWarning: ../../datasets/aurora/instagan/train/sampleA_seg/583_1.png is a boolean image: setting True to 1 and False to 0\n",
      "  warn('%s is a boolean image: setting True to 1 and False to 0' % fname)\n"
     ]
    },
    {
     "name": "stdout",
     "output_type": "stream",
     "text": [
      "Processing image ../../datasets/cityscapes-dataset/leftImg8bit_trainvaltest/leftImg8bit/train/weimar/weimar_000109_000019_leftImg8bit.png\n"
     ]
    },
    {
     "name": "stderr",
     "output_type": "stream",
     "text": [
      "/usr/local/lib/python3.7/site-packages/skimage/io/_io.py:142: UserWarning: ../../datasets/aurora/instagan/train/sampleA_seg/584_0.png is a boolean image: setting True to 1 and False to 0\n",
      "  warn('%s is a boolean image: setting True to 1 and False to 0' % fname)\n",
      "/usr/local/lib/python3.7/site-packages/skimage/io/_io.py:140: UserWarning: ../../datasets/aurora/instagan/train/sampleA_seg/584_1.png is a low contrast image\n",
      "  warn('%s is a low contrast image' % fname)\n",
      "/usr/local/lib/python3.7/site-packages/skimage/io/_io.py:142: UserWarning: ../../datasets/aurora/instagan/train/sampleA_seg/584_1.png is a boolean image: setting True to 1 and False to 0\n",
      "  warn('%s is a boolean image: setting True to 1 and False to 0' % fname)\n",
      "/usr/local/lib/python3.7/site-packages/skimage/io/_io.py:140: UserWarning: ../../datasets/aurora/instagan/train/sampleA_seg/584_2.png is a low contrast image\n",
      "  warn('%s is a low contrast image' % fname)\n",
      "/usr/local/lib/python3.7/site-packages/skimage/io/_io.py:142: UserWarning: ../../datasets/aurora/instagan/train/sampleA_seg/584_2.png is a boolean image: setting True to 1 and False to 0\n",
      "  warn('%s is a boolean image: setting True to 1 and False to 0' % fname)\n"
     ]
    },
    {
     "name": "stdout",
     "output_type": "stream",
     "text": [
      "Processing image ../../datasets/cityscapes-dataset/leftImg8bit_trainvaltest/leftImg8bit/train/weimar/weimar_000103_000019_leftImg8bit.png\n"
     ]
    },
    {
     "name": "stderr",
     "output_type": "stream",
     "text": [
      "/usr/local/lib/python3.7/site-packages/skimage/io/_io.py:142: UserWarning: ../../datasets/aurora/instagan/train/sampleA_seg/585_0.png is a boolean image: setting True to 1 and False to 0\n",
      "  warn('%s is a boolean image: setting True to 1 and False to 0' % fname)\n"
     ]
    },
    {
     "name": "stdout",
     "output_type": "stream",
     "text": [
      "Processing image ../../datasets/cityscapes-dataset/leftImg8bit_trainvaltest/leftImg8bit/train/weimar/weimar_000070_000019_leftImg8bit.png\n"
     ]
    },
    {
     "name": "stderr",
     "output_type": "stream",
     "text": [
      "/usr/local/lib/python3.7/site-packages/skimage/io/_io.py:142: UserWarning: ../../datasets/aurora/instagan/train/sampleA_seg/586_0.png is a boolean image: setting True to 1 and False to 0\n",
      "  warn('%s is a boolean image: setting True to 1 and False to 0' % fname)\n"
     ]
    },
    {
     "name": "stdout",
     "output_type": "stream",
     "text": [
      "Processing image ../../datasets/cityscapes-dataset/leftImg8bit_trainvaltest/leftImg8bit/train/weimar/weimar_000005_000019_leftImg8bit.png\n"
     ]
    },
    {
     "name": "stderr",
     "output_type": "stream",
     "text": [
      "/usr/local/lib/python3.7/site-packages/skimage/io/_io.py:142: UserWarning: ../../datasets/aurora/instagan/train/sampleA_seg/587_0.png is a boolean image: setting True to 1 and False to 0\n",
      "  warn('%s is a boolean image: setting True to 1 and False to 0' % fname)\n"
     ]
    },
    {
     "name": "stdout",
     "output_type": "stream",
     "text": [
      "Processing image ../../datasets/cityscapes-dataset/leftImg8bit_trainvaltest/leftImg8bit/train/weimar/weimar_000034_000019_leftImg8bit.png\n"
     ]
    },
    {
     "name": "stderr",
     "output_type": "stream",
     "text": [
      "/usr/local/lib/python3.7/site-packages/skimage/io/_io.py:140: UserWarning: ../../datasets/aurora/instagan/train/sampleA_seg/588_0.png is a low contrast image\n",
      "  warn('%s is a low contrast image' % fname)\n",
      "/usr/local/lib/python3.7/site-packages/skimage/io/_io.py:142: UserWarning: ../../datasets/aurora/instagan/train/sampleA_seg/588_0.png is a boolean image: setting True to 1 and False to 0\n",
      "  warn('%s is a boolean image: setting True to 1 and False to 0' % fname)\n",
      "/usr/local/lib/python3.7/site-packages/skimage/io/_io.py:142: UserWarning: ../../datasets/aurora/instagan/train/sampleA_seg/588_1.png is a boolean image: setting True to 1 and False to 0\n",
      "  warn('%s is a boolean image: setting True to 1 and False to 0' % fname)\n",
      "/usr/local/lib/python3.7/site-packages/skimage/io/_io.py:142: UserWarning: ../../datasets/aurora/instagan/train/sampleA_seg/588_2.png is a boolean image: setting True to 1 and False to 0\n",
      "  warn('%s is a boolean image: setting True to 1 and False to 0' % fname)\n"
     ]
    },
    {
     "name": "stdout",
     "output_type": "stream",
     "text": [
      "Processing image ../../datasets/cityscapes-dataset/leftImg8bit_trainvaltest/leftImg8bit/train/weimar/weimar_000080_000019_leftImg8bit.png\n"
     ]
    },
    {
     "name": "stderr",
     "output_type": "stream",
     "text": [
      "/usr/local/lib/python3.7/site-packages/skimage/io/_io.py:142: UserWarning: ../../datasets/aurora/instagan/train/sampleA_seg/589_0.png is a boolean image: setting True to 1 and False to 0\n",
      "  warn('%s is a boolean image: setting True to 1 and False to 0' % fname)\n"
     ]
    },
    {
     "name": "stdout",
     "output_type": "stream",
     "text": [
      "Processing image ../../datasets/cityscapes-dataset/leftImg8bit_trainvaltest/leftImg8bit/train/weimar/weimar_000132_000019_leftImg8bit.png\n"
     ]
    },
    {
     "name": "stderr",
     "output_type": "stream",
     "text": [
      "/usr/local/lib/python3.7/site-packages/skimage/io/_io.py:142: UserWarning: ../../datasets/aurora/instagan/train/sampleA_seg/590_0.png is a boolean image: setting True to 1 and False to 0\n",
      "  warn('%s is a boolean image: setting True to 1 and False to 0' % fname)\n",
      "/usr/local/lib/python3.7/site-packages/skimage/io/_io.py:142: UserWarning: ../../datasets/aurora/instagan/train/sampleA_seg/590_1.png is a boolean image: setting True to 1 and False to 0\n",
      "  warn('%s is a boolean image: setting True to 1 and False to 0' % fname)\n"
     ]
    },
    {
     "name": "stdout",
     "output_type": "stream",
     "text": [
      "Processing image ../../datasets/cityscapes-dataset/leftImg8bit_trainvaltest/leftImg8bit/train/weimar/weimar_000041_000019_leftImg8bit.png\n"
     ]
    },
    {
     "name": "stderr",
     "output_type": "stream",
     "text": [
      "/usr/local/lib/python3.7/site-packages/skimage/io/_io.py:142: UserWarning: ../../datasets/aurora/instagan/train/sampleA_seg/591_0.png is a boolean image: setting True to 1 and False to 0\n",
      "  warn('%s is a boolean image: setting True to 1 and False to 0' % fname)\n",
      "/usr/local/lib/python3.7/site-packages/skimage/io/_io.py:142: UserWarning: ../../datasets/aurora/instagan/train/sampleA_seg/591_1.png is a boolean image: setting True to 1 and False to 0\n",
      "  warn('%s is a boolean image: setting True to 1 and False to 0' % fname)\n"
     ]
    },
    {
     "name": "stdout",
     "output_type": "stream",
     "text": [
      "Processing image ../../datasets/cityscapes-dataset/leftImg8bit_trainvaltest/leftImg8bit/train/weimar/weimar_000138_000019_leftImg8bit.png\n"
     ]
    },
    {
     "name": "stderr",
     "output_type": "stream",
     "text": [
      "/usr/local/lib/python3.7/site-packages/skimage/io/_io.py:142: UserWarning: ../../datasets/aurora/instagan/train/sampleA_seg/592_0.png is a boolean image: setting True to 1 and False to 0\n",
      "  warn('%s is a boolean image: setting True to 1 and False to 0' % fname)\n",
      "/usr/local/lib/python3.7/site-packages/skimage/io/_io.py:142: UserWarning: ../../datasets/aurora/instagan/train/sampleA_seg/592_1.png is a boolean image: setting True to 1 and False to 0\n",
      "  warn('%s is a boolean image: setting True to 1 and False to 0' % fname)\n"
     ]
    },
    {
     "name": "stdout",
     "output_type": "stream",
     "text": [
      "Processing image ../../datasets/cityscapes-dataset/leftImg8bit_trainvaltest/leftImg8bit/train/weimar/weimar_000139_000019_leftImg8bit.png\n"
     ]
    },
    {
     "name": "stderr",
     "output_type": "stream",
     "text": [
      "/usr/local/lib/python3.7/site-packages/skimage/io/_io.py:142: UserWarning: ../../datasets/aurora/instagan/train/sampleA_seg/593_0.png is a boolean image: setting True to 1 and False to 0\n",
      "  warn('%s is a boolean image: setting True to 1 and False to 0' % fname)\n",
      "/usr/local/lib/python3.7/site-packages/skimage/io/_io.py:142: UserWarning: ../../datasets/aurora/instagan/train/sampleA_seg/593_1.png is a boolean image: setting True to 1 and False to 0\n",
      "  warn('%s is a boolean image: setting True to 1 and False to 0' % fname)\n",
      "/usr/local/lib/python3.7/site-packages/skimage/io/_io.py:142: UserWarning: ../../datasets/aurora/instagan/train/sampleA_seg/593_2.png is a boolean image: setting True to 1 and False to 0\n",
      "  warn('%s is a boolean image: setting True to 1 and False to 0' % fname)\n"
     ]
    },
    {
     "name": "stdout",
     "output_type": "stream",
     "text": [
      "Processing image ../../datasets/cityscapes-dataset/leftImg8bit_trainvaltest/leftImg8bit/train/weimar/weimar_000035_000019_leftImg8bit.png\n"
     ]
    },
    {
     "name": "stderr",
     "output_type": "stream",
     "text": [
      "/usr/local/lib/python3.7/site-packages/skimage/io/_io.py:142: UserWarning: ../../datasets/aurora/instagan/train/sampleA_seg/594_0.png is a boolean image: setting True to 1 and False to 0\n",
      "  warn('%s is a boolean image: setting True to 1 and False to 0' % fname)\n",
      "/usr/local/lib/python3.7/site-packages/skimage/io/_io.py:142: UserWarning: ../../datasets/aurora/instagan/train/sampleA_seg/594_1.png is a boolean image: setting True to 1 and False to 0\n",
      "  warn('%s is a boolean image: setting True to 1 and False to 0' % fname)\n",
      "/usr/local/lib/python3.7/site-packages/skimage/io/_io.py:142: UserWarning: ../../datasets/aurora/instagan/train/sampleA_seg/594_2.png is a boolean image: setting True to 1 and False to 0\n",
      "  warn('%s is a boolean image: setting True to 1 and False to 0' % fname)\n"
     ]
    },
    {
     "name": "stdout",
     "output_type": "stream",
     "text": [
      "Processing image ../../datasets/cityscapes-dataset/leftImg8bit_trainvaltest/leftImg8bit/train/weimar/weimar_000040_000019_leftImg8bit.png\n"
     ]
    },
    {
     "name": "stderr",
     "output_type": "stream",
     "text": [
      "/usr/local/lib/python3.7/site-packages/skimage/io/_io.py:142: UserWarning: ../../datasets/aurora/instagan/train/sampleA_seg/595_0.png is a boolean image: setting True to 1 and False to 0\n",
      "  warn('%s is a boolean image: setting True to 1 and False to 0' % fname)\n"
     ]
    },
    {
     "name": "stdout",
     "output_type": "stream",
     "text": [
      "Processing image ../../datasets/cityscapes-dataset/leftImg8bit_trainvaltest/leftImg8bit/train/weimar/weimar_000133_000019_leftImg8bit.png\n"
     ]
    },
    {
     "name": "stderr",
     "output_type": "stream",
     "text": [
      "/usr/local/lib/python3.7/site-packages/skimage/io/_io.py:142: UserWarning: ../../datasets/aurora/instagan/train/sampleA_seg/596_0.png is a boolean image: setting True to 1 and False to 0\n",
      "  warn('%s is a boolean image: setting True to 1 and False to 0' % fname)\n",
      "/usr/local/lib/python3.7/site-packages/skimage/io/_io.py:142: UserWarning: ../../datasets/aurora/instagan/train/sampleA_seg/596_1.png is a boolean image: setting True to 1 and False to 0\n",
      "  warn('%s is a boolean image: setting True to 1 and False to 0' % fname)\n"
     ]
    },
    {
     "name": "stdout",
     "output_type": "stream",
     "text": [
      "Processing image ../../datasets/cityscapes-dataset/leftImg8bit_trainvaltest/leftImg8bit/train/weimar/weimar_000081_000019_leftImg8bit.png\n"
     ]
    },
    {
     "name": "stderr",
     "output_type": "stream",
     "text": [
      "/usr/local/lib/python3.7/site-packages/skimage/io/_io.py:142: UserWarning: ../../datasets/aurora/instagan/train/sampleA_seg/597_0.png is a boolean image: setting True to 1 and False to 0\n",
      "  warn('%s is a boolean image: setting True to 1 and False to 0' % fname)\n"
     ]
    },
    {
     "name": "stdout",
     "output_type": "stream",
     "text": [
      "Processing image ../../datasets/cityscapes-dataset/leftImg8bit_trainvaltest/leftImg8bit/train/weimar/weimar_000071_000019_leftImg8bit.png\n"
     ]
    },
    {
     "name": "stderr",
     "output_type": "stream",
     "text": [
      "/usr/local/lib/python3.7/site-packages/skimage/io/_io.py:140: UserWarning: ../../datasets/aurora/instagan/train/sampleA_seg/598_0.png is a low contrast image\n",
      "  warn('%s is a low contrast image' % fname)\n",
      "/usr/local/lib/python3.7/site-packages/skimage/io/_io.py:142: UserWarning: ../../datasets/aurora/instagan/train/sampleA_seg/598_0.png is a boolean image: setting True to 1 and False to 0\n",
      "  warn('%s is a boolean image: setting True to 1 and False to 0' % fname)\n",
      "/usr/local/lib/python3.7/site-packages/skimage/io/_io.py:142: UserWarning: ../../datasets/aurora/instagan/train/sampleA_seg/598_1.png is a boolean image: setting True to 1 and False to 0\n",
      "  warn('%s is a boolean image: setting True to 1 and False to 0' % fname)\n",
      "/usr/local/lib/python3.7/site-packages/skimage/io/_io.py:142: UserWarning: ../../datasets/aurora/instagan/train/sampleA_seg/598_2.png is a boolean image: setting True to 1 and False to 0\n",
      "  warn('%s is a boolean image: setting True to 1 and False to 0' % fname)\n",
      "/usr/local/lib/python3.7/site-packages/skimage/io/_io.py:142: UserWarning: ../../datasets/aurora/instagan/train/sampleA_seg/598_3.png is a boolean image: setting True to 1 and False to 0\n",
      "  warn('%s is a boolean image: setting True to 1 and False to 0' % fname)\n"
     ]
    },
    {
     "name": "stdout",
     "output_type": "stream",
     "text": [
      "Processing image ../../datasets/cityscapes-dataset/leftImg8bit_trainvaltest/leftImg8bit/train/weimar/weimar_000102_000019_leftImg8bit.png\n"
     ]
    },
    {
     "name": "stderr",
     "output_type": "stream",
     "text": [
      "/usr/local/lib/python3.7/site-packages/skimage/io/_io.py:142: UserWarning: ../../datasets/aurora/instagan/train/sampleA_seg/599_0.png is a boolean image: setting True to 1 and False to 0\n",
      "  warn('%s is a boolean image: setting True to 1 and False to 0' % fname)\n"
     ]
    },
    {
     "name": "stdout",
     "output_type": "stream",
     "text": [
      "Processing image ../../datasets/cityscapes-dataset/leftImg8bit_trainvaltest/leftImg8bit/train/weimar/weimar_000004_000019_leftImg8bit.png\n",
      "Processing image ../../datasets/cityscapes-dataset/leftImg8bit_trainvaltest/leftImg8bit/train/weimar/weimar_000108_000019_leftImg8bit.png\n"
     ]
    },
    {
     "name": "stderr",
     "output_type": "stream",
     "text": [
      "/usr/local/lib/python3.7/site-packages/skimage/io/_io.py:142: UserWarning: ../../datasets/aurora/instagan/train/sampleA_seg/601_0.png is a boolean image: setting True to 1 and False to 0\n",
      "  warn('%s is a boolean image: setting True to 1 and False to 0' % fname)\n",
      "/usr/local/lib/python3.7/site-packages/skimage/io/_io.py:142: UserWarning: ../../datasets/aurora/instagan/train/sampleA_seg/601_1.png is a boolean image: setting True to 1 and False to 0\n",
      "  warn('%s is a boolean image: setting True to 1 and False to 0' % fname)\n",
      "/usr/local/lib/python3.7/site-packages/skimage/io/_io.py:142: UserWarning: ../../datasets/aurora/instagan/train/sampleA_seg/601_2.png is a boolean image: setting True to 1 and False to 0\n",
      "  warn('%s is a boolean image: setting True to 1 and False to 0' % fname)\n"
     ]
    },
    {
     "name": "stdout",
     "output_type": "stream",
     "text": [
      "Processing image ../../datasets/cityscapes-dataset/leftImg8bit_trainvaltest/leftImg8bit/train/weimar/weimar_000038_000019_leftImg8bit.png\n"
     ]
    },
    {
     "name": "stderr",
     "output_type": "stream",
     "text": [
      "/usr/local/lib/python3.7/site-packages/skimage/io/_io.py:142: UserWarning: ../../datasets/aurora/instagan/train/sampleA_seg/602_0.png is a boolean image: setting True to 1 and False to 0\n",
      "  warn('%s is a boolean image: setting True to 1 and False to 0' % fname)\n",
      "/usr/local/lib/python3.7/site-packages/skimage/io/_io.py:142: UserWarning: ../../datasets/aurora/instagan/train/sampleA_seg/602_1.png is a boolean image: setting True to 1 and False to 0\n",
      "  warn('%s is a boolean image: setting True to 1 and False to 0' % fname)\n"
     ]
    },
    {
     "name": "stdout",
     "output_type": "stream",
     "text": [
      "Processing image ../../datasets/cityscapes-dataset/leftImg8bit_trainvaltest/leftImg8bit/train/weimar/weimar_000032_000019_leftImg8bit.png\n"
     ]
    },
    {
     "name": "stderr",
     "output_type": "stream",
     "text": [
      "/usr/local/lib/python3.7/site-packages/skimage/io/_io.py:142: UserWarning: ../../datasets/aurora/instagan/train/sampleA_seg/603_0.png is a boolean image: setting True to 1 and False to 0\n",
      "  warn('%s is a boolean image: setting True to 1 and False to 0' % fname)\n",
      "/usr/local/lib/python3.7/site-packages/skimage/io/_io.py:142: UserWarning: ../../datasets/aurora/instagan/train/sampleA_seg/603_1.png is a boolean image: setting True to 1 and False to 0\n",
      "  warn('%s is a boolean image: setting True to 1 and False to 0' % fname)\n",
      "/usr/local/lib/python3.7/site-packages/skimage/io/_io.py:142: UserWarning: ../../datasets/aurora/instagan/train/sampleA_seg/603_2.png is a boolean image: setting True to 1 and False to 0\n",
      "  warn('%s is a boolean image: setting True to 1 and False to 0' % fname)\n"
     ]
    },
    {
     "name": "stdout",
     "output_type": "stream",
     "text": [
      "Processing image ../../datasets/cityscapes-dataset/leftImg8bit_trainvaltest/leftImg8bit/train/weimar/weimar_000141_000019_leftImg8bit.png\n"
     ]
    },
    {
     "name": "stderr",
     "output_type": "stream",
     "text": [
      "/usr/local/lib/python3.7/site-packages/skimage/io/_io.py:142: UserWarning: ../../datasets/aurora/instagan/train/sampleA_seg/604_0.png is a boolean image: setting True to 1 and False to 0\n",
      "  warn('%s is a boolean image: setting True to 1 and False to 0' % fname)\n",
      "/usr/local/lib/python3.7/site-packages/skimage/io/_io.py:142: UserWarning: ../../datasets/aurora/instagan/train/sampleA_seg/604_1.png is a boolean image: setting True to 1 and False to 0\n",
      "  warn('%s is a boolean image: setting True to 1 and False to 0' % fname)\n"
     ]
    },
    {
     "name": "stdout",
     "output_type": "stream",
     "text": [
      "Processing image ../../datasets/cityscapes-dataset/leftImg8bit_trainvaltest/leftImg8bit/train/weimar/weimar_000047_000019_leftImg8bit.png\n"
     ]
    },
    {
     "name": "stderr",
     "output_type": "stream",
     "text": [
      "/usr/local/lib/python3.7/site-packages/skimage/io/_io.py:140: UserWarning: ../../datasets/aurora/instagan/train/sampleA_seg/605_0.png is a low contrast image\n",
      "  warn('%s is a low contrast image' % fname)\n",
      "/usr/local/lib/python3.7/site-packages/skimage/io/_io.py:142: UserWarning: ../../datasets/aurora/instagan/train/sampleA_seg/605_0.png is a boolean image: setting True to 1 and False to 0\n",
      "  warn('%s is a boolean image: setting True to 1 and False to 0' % fname)\n",
      "/usr/local/lib/python3.7/site-packages/skimage/io/_io.py:142: UserWarning: ../../datasets/aurora/instagan/train/sampleA_seg/605_1.png is a boolean image: setting True to 1 and False to 0\n",
      "  warn('%s is a boolean image: setting True to 1 and False to 0' % fname)\n",
      "/usr/local/lib/python3.7/site-packages/skimage/io/_io.py:142: UserWarning: ../../datasets/aurora/instagan/train/sampleA_seg/605_2.png is a boolean image: setting True to 1 and False to 0\n",
      "  warn('%s is a boolean image: setting True to 1 and False to 0' % fname)\n"
     ]
    },
    {
     "name": "stdout",
     "output_type": "stream",
     "text": [
      "Processing image ../../datasets/cityscapes-dataset/leftImg8bit_trainvaltest/leftImg8bit/train/weimar/weimar_000134_000019_leftImg8bit.png\n",
      "Processing image ../../datasets/cityscapes-dataset/leftImg8bit_trainvaltest/leftImg8bit/train/weimar/weimar_000086_000019_leftImg8bit.png\n"
     ]
    },
    {
     "name": "stderr",
     "output_type": "stream",
     "text": [
      "/usr/local/lib/python3.7/site-packages/skimage/io/_io.py:142: UserWarning: ../../datasets/aurora/instagan/train/sampleA_seg/607_0.png is a boolean image: setting True to 1 and False to 0\n",
      "  warn('%s is a boolean image: setting True to 1 and False to 0' % fname)\n"
     ]
    },
    {
     "name": "stdout",
     "output_type": "stream",
     "text": [
      "Processing image ../../datasets/cityscapes-dataset/leftImg8bit_trainvaltest/leftImg8bit/train/weimar/weimar_000076_000019_leftImg8bit.png\n"
     ]
    },
    {
     "name": "stderr",
     "output_type": "stream",
     "text": [
      "/usr/local/lib/python3.7/site-packages/skimage/io/_io.py:142: UserWarning: ../../datasets/aurora/instagan/train/sampleA_seg/608_0.png is a boolean image: setting True to 1 and False to 0\n",
      "  warn('%s is a boolean image: setting True to 1 and False to 0' % fname)\n",
      "/usr/local/lib/python3.7/site-packages/skimage/io/_io.py:142: UserWarning: ../../datasets/aurora/instagan/train/sampleA_seg/608_1.png is a boolean image: setting True to 1 and False to 0\n",
      "  warn('%s is a boolean image: setting True to 1 and False to 0' % fname)\n",
      "/usr/local/lib/python3.7/site-packages/skimage/io/_io.py:142: UserWarning: ../../datasets/aurora/instagan/train/sampleA_seg/608_2.png is a boolean image: setting True to 1 and False to 0\n",
      "  warn('%s is a boolean image: setting True to 1 and False to 0' % fname)\n"
     ]
    },
    {
     "name": "stdout",
     "output_type": "stream",
     "text": [
      "Processing image ../../datasets/cityscapes-dataset/leftImg8bit_trainvaltest/leftImg8bit/train/weimar/weimar_000105_000019_leftImg8bit.png\n"
     ]
    },
    {
     "name": "stderr",
     "output_type": "stream",
     "text": [
      "/usr/local/lib/python3.7/site-packages/skimage/io/_io.py:142: UserWarning: ../../datasets/aurora/instagan/train/sampleA_seg/609_0.png is a boolean image: setting True to 1 and False to 0\n",
      "  warn('%s is a boolean image: setting True to 1 and False to 0' % fname)\n"
     ]
    },
    {
     "name": "stdout",
     "output_type": "stream",
     "text": [
      "Processing image ../../datasets/cityscapes-dataset/leftImg8bit_trainvaltest/leftImg8bit/train/weimar/weimar_000003_000019_leftImg8bit.png\n"
     ]
    },
    {
     "name": "stderr",
     "output_type": "stream",
     "text": [
      "/usr/local/lib/python3.7/site-packages/skimage/io/_io.py:142: UserWarning: ../../datasets/aurora/instagan/train/sampleA_seg/610_0.png is a boolean image: setting True to 1 and False to 0\n",
      "  warn('%s is a boolean image: setting True to 1 and False to 0' % fname)\n"
     ]
    },
    {
     "name": "stdout",
     "output_type": "stream",
     "text": [
      "Processing image ../../datasets/cityscapes-dataset/leftImg8bit_trainvaltest/leftImg8bit/train/weimar/weimar_000009_000019_leftImg8bit.png\n"
     ]
    },
    {
     "name": "stderr",
     "output_type": "stream",
     "text": [
      "/usr/local/lib/python3.7/site-packages/skimage/io/_io.py:142: UserWarning: ../../datasets/aurora/instagan/train/sampleA_seg/611_0.png is a boolean image: setting True to 1 and False to 0\n",
      "  warn('%s is a boolean image: setting True to 1 and False to 0' % fname)\n"
     ]
    },
    {
     "name": "stdout",
     "output_type": "stream",
     "text": [
      "Processing image ../../datasets/cityscapes-dataset/leftImg8bit_trainvaltest/leftImg8bit/train/weimar/weimar_000137_000019_leftImg8bit.png\n"
     ]
    },
    {
     "name": "stderr",
     "output_type": "stream",
     "text": [
      "/usr/local/lib/python3.7/site-packages/skimage/io/_io.py:142: UserWarning: ../../datasets/aurora/instagan/train/sampleA_seg/612_0.png is a boolean image: setting True to 1 and False to 0\n",
      "  warn('%s is a boolean image: setting True to 1 and False to 0' % fname)\n"
     ]
    },
    {
     "name": "stdout",
     "output_type": "stream",
     "text": [
      "Processing image ../../datasets/cityscapes-dataset/leftImg8bit_trainvaltest/leftImg8bit/train/weimar/weimar_000044_000019_leftImg8bit.png\n"
     ]
    },
    {
     "name": "stderr",
     "output_type": "stream",
     "text": [
      "/usr/local/lib/python3.7/site-packages/skimage/io/_io.py:142: UserWarning: ../../datasets/aurora/instagan/train/sampleA_seg/613_0.png is a boolean image: setting True to 1 and False to 0\n",
      "  warn('%s is a boolean image: setting True to 1 and False to 0' % fname)\n",
      "/usr/local/lib/python3.7/site-packages/skimage/io/_io.py:140: UserWarning: ../../datasets/aurora/instagan/train/sampleA_seg/613_1.png is a low contrast image\n",
      "  warn('%s is a low contrast image' % fname)\n",
      "/usr/local/lib/python3.7/site-packages/skimage/io/_io.py:142: UserWarning: ../../datasets/aurora/instagan/train/sampleA_seg/613_1.png is a boolean image: setting True to 1 and False to 0\n",
      "  warn('%s is a boolean image: setting True to 1 and False to 0' % fname)\n",
      "/usr/local/lib/python3.7/site-packages/skimage/io/_io.py:142: UserWarning: ../../datasets/aurora/instagan/train/sampleA_seg/613_2.png is a boolean image: setting True to 1 and False to 0\n",
      "  warn('%s is a boolean image: setting True to 1 and False to 0' % fname)\n"
     ]
    },
    {
     "name": "stdout",
     "output_type": "stream",
     "text": [
      "Processing image ../../datasets/cityscapes-dataset/leftImg8bit_trainvaltest/leftImg8bit/train/weimar/weimar_000085_000019_leftImg8bit.png\n"
     ]
    },
    {
     "name": "stderr",
     "output_type": "stream",
     "text": [
      "/usr/local/lib/python3.7/site-packages/skimage/io/_io.py:142: UserWarning: ../../datasets/aurora/instagan/train/sampleA_seg/614_0.png is a boolean image: setting True to 1 and False to 0\n",
      "  warn('%s is a boolean image: setting True to 1 and False to 0' % fname)\n"
     ]
    },
    {
     "name": "stdout",
     "output_type": "stream",
     "text": [
      "Processing image ../../datasets/cityscapes-dataset/leftImg8bit_trainvaltest/leftImg8bit/train/weimar/weimar_000031_000019_leftImg8bit.png\n"
     ]
    },
    {
     "name": "stderr",
     "output_type": "stream",
     "text": [
      "/usr/local/lib/python3.7/site-packages/skimage/io/_io.py:142: UserWarning: ../../datasets/aurora/instagan/train/sampleA_seg/615_0.png is a boolean image: setting True to 1 and False to 0\n",
      "  warn('%s is a boolean image: setting True to 1 and False to 0' % fname)\n",
      "/usr/local/lib/python3.7/site-packages/skimage/io/_io.py:142: UserWarning: ../../datasets/aurora/instagan/train/sampleA_seg/615_1.png is a boolean image: setting True to 1 and False to 0\n",
      "  warn('%s is a boolean image: setting True to 1 and False to 0' % fname)\n",
      "/usr/local/lib/python3.7/site-packages/skimage/io/_io.py:142: UserWarning: ../../datasets/aurora/instagan/train/sampleA_seg/615_2.png is a boolean image: setting True to 1 and False to 0\n",
      "  warn('%s is a boolean image: setting True to 1 and False to 0' % fname)\n"
     ]
    },
    {
     "name": "stdout",
     "output_type": "stream",
     "text": [
      "Processing image ../../datasets/cityscapes-dataset/leftImg8bit_trainvaltest/leftImg8bit/train/weimar/weimar_000000_000019_leftImg8bit.png\n"
     ]
    },
    {
     "name": "stderr",
     "output_type": "stream",
     "text": [
      "/usr/local/lib/python3.7/site-packages/skimage/io/_io.py:142: UserWarning: ../../datasets/aurora/instagan/train/sampleA_seg/616_0.png is a boolean image: setting True to 1 and False to 0\n",
      "  warn('%s is a boolean image: setting True to 1 and False to 0' % fname)\n"
     ]
    },
    {
     "name": "stdout",
     "output_type": "stream",
     "text": [
      "Processing image ../../datasets/cityscapes-dataset/leftImg8bit_trainvaltest/leftImg8bit/train/weimar/weimar_000106_000019_leftImg8bit.png\n"
     ]
    },
    {
     "name": "stderr",
     "output_type": "stream",
     "text": [
      "/usr/local/lib/python3.7/site-packages/skimage/io/_io.py:142: UserWarning: ../../datasets/aurora/instagan/train/sampleA_seg/617_0.png is a boolean image: setting True to 1 and False to 0\n",
      "  warn('%s is a boolean image: setting True to 1 and False to 0' % fname)\n",
      "/usr/local/lib/python3.7/site-packages/skimage/io/_io.py:142: UserWarning: ../../datasets/aurora/instagan/train/sampleA_seg/617_1.png is a boolean image: setting True to 1 and False to 0\n",
      "  warn('%s is a boolean image: setting True to 1 and False to 0' % fname)\n",
      "/usr/local/lib/python3.7/site-packages/skimage/io/_io.py:142: UserWarning: ../../datasets/aurora/instagan/train/sampleA_seg/617_2.png is a boolean image: setting True to 1 and False to 0\n",
      "  warn('%s is a boolean image: setting True to 1 and False to 0' % fname)\n"
     ]
    },
    {
     "name": "stdout",
     "output_type": "stream",
     "text": [
      "Processing image ../../datasets/cityscapes-dataset/leftImg8bit_trainvaltest/leftImg8bit/train/weimar/weimar_000075_000019_leftImg8bit.png\n"
     ]
    },
    {
     "name": "stderr",
     "output_type": "stream",
     "text": [
      "/usr/local/lib/python3.7/site-packages/skimage/io/_io.py:142: UserWarning: ../../datasets/aurora/instagan/train/sampleA_seg/618_0.png is a boolean image: setting True to 1 and False to 0\n",
      "  warn('%s is a boolean image: setting True to 1 and False to 0' % fname)\n",
      "/usr/local/lib/python3.7/site-packages/skimage/io/_io.py:142: UserWarning: ../../datasets/aurora/instagan/train/sampleA_seg/618_1.png is a boolean image: setting True to 1 and False to 0\n",
      "  warn('%s is a boolean image: setting True to 1 and False to 0' % fname)\n",
      "/usr/local/lib/python3.7/site-packages/skimage/io/_io.py:142: UserWarning: ../../datasets/aurora/instagan/train/sampleA_seg/618_2.png is a boolean image: setting True to 1 and False to 0\n",
      "  warn('%s is a boolean image: setting True to 1 and False to 0' % fname)\n",
      "/usr/local/lib/python3.7/site-packages/skimage/io/_io.py:142: UserWarning: ../../datasets/aurora/instagan/train/sampleA_seg/618_3.png is a boolean image: setting True to 1 and False to 0\n",
      "  warn('%s is a boolean image: setting True to 1 and False to 0' % fname)\n"
     ]
    },
    {
     "name": "stdout",
     "output_type": "stream",
     "text": [
      "Processing image ../../datasets/cityscapes-dataset/leftImg8bit_trainvaltest/leftImg8bit/train/weimar/weimar_000130_000019_leftImg8bit.png\n"
     ]
    },
    {
     "name": "stderr",
     "output_type": "stream",
     "text": [
      "/usr/local/lib/python3.7/site-packages/skimage/io/_io.py:142: UserWarning: ../../datasets/aurora/instagan/train/sampleA_seg/619_0.png is a boolean image: setting True to 1 and False to 0\n",
      "  warn('%s is a boolean image: setting True to 1 and False to 0' % fname)\n",
      "/usr/local/lib/python3.7/site-packages/skimage/io/_io.py:140: UserWarning: ../../datasets/aurora/instagan/train/sampleA_seg/619_1.png is a low contrast image\n",
      "  warn('%s is a low contrast image' % fname)\n",
      "/usr/local/lib/python3.7/site-packages/skimage/io/_io.py:142: UserWarning: ../../datasets/aurora/instagan/train/sampleA_seg/619_1.png is a boolean image: setting True to 1 and False to 0\n",
      "  warn('%s is a boolean image: setting True to 1 and False to 0' % fname)\n",
      "/usr/local/lib/python3.7/site-packages/skimage/io/_io.py:142: UserWarning: ../../datasets/aurora/instagan/train/sampleA_seg/619_2.png is a boolean image: setting True to 1 and False to 0\n",
      "  warn('%s is a boolean image: setting True to 1 and False to 0' % fname)\n",
      "/usr/local/lib/python3.7/site-packages/skimage/io/_io.py:142: UserWarning: ../../datasets/aurora/instagan/train/sampleA_seg/619_3.png is a boolean image: setting True to 1 and False to 0\n",
      "  warn('%s is a boolean image: setting True to 1 and False to 0' % fname)\n",
      "/usr/local/lib/python3.7/site-packages/skimage/io/_io.py:142: UserWarning: ../../datasets/aurora/instagan/train/sampleA_seg/619_4.png is a boolean image: setting True to 1 and False to 0\n",
      "  warn('%s is a boolean image: setting True to 1 and False to 0' % fname)\n"
     ]
    },
    {
     "name": "stdout",
     "output_type": "stream",
     "text": [
      "Processing image ../../datasets/cityscapes-dataset/leftImg8bit_trainvaltest/leftImg8bit/train/weimar/weimar_000043_000019_leftImg8bit.png\n"
     ]
    },
    {
     "name": "stderr",
     "output_type": "stream",
     "text": [
      "/usr/local/lib/python3.7/site-packages/skimage/io/_io.py:142: UserWarning: ../../datasets/aurora/instagan/train/sampleA_seg/620_0.png is a boolean image: setting True to 1 and False to 0\n",
      "  warn('%s is a boolean image: setting True to 1 and False to 0' % fname)\n"
     ]
    },
    {
     "name": "stdout",
     "output_type": "stream",
     "text": [
      "Processing image ../../datasets/cityscapes-dataset/leftImg8bit_trainvaltest/leftImg8bit/train/weimar/weimar_000082_000019_leftImg8bit.png\n"
     ]
    },
    {
     "name": "stderr",
     "output_type": "stream",
     "text": [
      "/usr/local/lib/python3.7/site-packages/skimage/io/_io.py:142: UserWarning: ../../datasets/aurora/instagan/train/sampleA_seg/621_0.png is a boolean image: setting True to 1 and False to 0\n",
      "  warn('%s is a boolean image: setting True to 1 and False to 0' % fname)\n",
      "/usr/local/lib/python3.7/site-packages/skimage/io/_io.py:142: UserWarning: ../../datasets/aurora/instagan/train/sampleA_seg/621_1.png is a boolean image: setting True to 1 and False to 0\n",
      "  warn('%s is a boolean image: setting True to 1 and False to 0' % fname)\n"
     ]
    },
    {
     "name": "stdout",
     "output_type": "stream",
     "text": [
      "Processing image ../../datasets/cityscapes-dataset/leftImg8bit_trainvaltest/leftImg8bit/train/weimar/weimar_000036_000019_leftImg8bit.png\n"
     ]
    },
    {
     "name": "stderr",
     "output_type": "stream",
     "text": [
      "/usr/local/lib/python3.7/site-packages/skimage/io/_io.py:142: UserWarning: ../../datasets/aurora/instagan/train/sampleA_seg/622_0.png is a boolean image: setting True to 1 and False to 0\n",
      "  warn('%s is a boolean image: setting True to 1 and False to 0' % fname)\n"
     ]
    },
    {
     "name": "stdout",
     "output_type": "stream",
     "text": [
      "Processing image ../../datasets/cityscapes-dataset/leftImg8bit_trainvaltest/leftImg8bit/train/weimar/weimar_000049_000019_leftImg8bit.png\n"
     ]
    },
    {
     "name": "stderr",
     "output_type": "stream",
     "text": [
      "/usr/local/lib/python3.7/site-packages/skimage/io/_io.py:142: UserWarning: ../../datasets/aurora/instagan/train/sampleA_seg/623_0.png is a boolean image: setting True to 1 and False to 0\n",
      "  warn('%s is a boolean image: setting True to 1 and False to 0' % fname)\n",
      "/usr/local/lib/python3.7/site-packages/skimage/io/_io.py:142: UserWarning: ../../datasets/aurora/instagan/train/sampleA_seg/623_1.png is a boolean image: setting True to 1 and False to 0\n",
      "  warn('%s is a boolean image: setting True to 1 and False to 0' % fname)\n",
      "/usr/local/lib/python3.7/site-packages/skimage/io/_io.py:142: UserWarning: ../../datasets/aurora/instagan/train/sampleA_seg/623_2.png is a boolean image: setting True to 1 and False to 0\n",
      "  warn('%s is a boolean image: setting True to 1 and False to 0' % fname)\n"
     ]
    },
    {
     "name": "stdout",
     "output_type": "stream",
     "text": [
      "Processing image ../../datasets/cityscapes-dataset/leftImg8bit_trainvaltest/leftImg8bit/train/weimar/weimar_000088_000019_leftImg8bit.png\n"
     ]
    },
    {
     "name": "stderr",
     "output_type": "stream",
     "text": [
      "/usr/local/lib/python3.7/site-packages/skimage/io/_io.py:142: UserWarning: ../../datasets/aurora/instagan/train/sampleA_seg/624_0.png is a boolean image: setting True to 1 and False to 0\n",
      "  warn('%s is a boolean image: setting True to 1 and False to 0' % fname)\n"
     ]
    },
    {
     "name": "stdout",
     "output_type": "stream",
     "text": [
      "Processing image ../../datasets/cityscapes-dataset/leftImg8bit_trainvaltest/leftImg8bit/train/weimar/weimar_000078_000019_leftImg8bit.png\n"
     ]
    },
    {
     "name": "stderr",
     "output_type": "stream",
     "text": [
      "/usr/local/lib/python3.7/site-packages/skimage/io/_io.py:142: UserWarning: ../../datasets/aurora/instagan/train/sampleA_seg/625_0.png is a boolean image: setting True to 1 and False to 0\n",
      "  warn('%s is a boolean image: setting True to 1 and False to 0' % fname)\n"
     ]
    },
    {
     "name": "stdout",
     "output_type": "stream",
     "text": [
      "Processing image ../../datasets/cityscapes-dataset/leftImg8bit_trainvaltest/leftImg8bit/train/weimar/weimar_000007_000019_leftImg8bit.png\n"
     ]
    },
    {
     "name": "stderr",
     "output_type": "stream",
     "text": [
      "/usr/local/lib/python3.7/site-packages/skimage/io/_io.py:142: UserWarning: ../../datasets/aurora/instagan/train/sampleA_seg/626_0.png is a boolean image: setting True to 1 and False to 0\n",
      "  warn('%s is a boolean image: setting True to 1 and False to 0' % fname)\n"
     ]
    },
    {
     "name": "stdout",
     "output_type": "stream",
     "text": [
      "Processing image ../../datasets/cityscapes-dataset/leftImg8bit_trainvaltest/leftImg8bit/train/weimar/weimar_000101_000019_leftImg8bit.png\n"
     ]
    },
    {
     "name": "stderr",
     "output_type": "stream",
     "text": [
      "/usr/local/lib/python3.7/site-packages/skimage/io/_io.py:142: UserWarning: ../../datasets/aurora/instagan/train/sampleA_seg/627_0.png is a boolean image: setting True to 1 and False to 0\n",
      "  warn('%s is a boolean image: setting True to 1 and False to 0' % fname)\n"
     ]
    },
    {
     "name": "stdout",
     "output_type": "stream",
     "text": [
      "Processing image ../../datasets/cityscapes-dataset/leftImg8bit_trainvaltest/leftImg8bit/train/weimar/weimar_000072_000019_leftImg8bit.png\n"
     ]
    },
    {
     "name": "stderr",
     "output_type": "stream",
     "text": [
      "/usr/local/lib/python3.7/site-packages/skimage/io/_io.py:142: UserWarning: ../../datasets/aurora/instagan/train/sampleA_seg/628_0.png is a boolean image: setting True to 1 and False to 0\n",
      "  warn('%s is a boolean image: setting True to 1 and False to 0' % fname)\n",
      "/usr/local/lib/python3.7/site-packages/skimage/io/_io.py:142: UserWarning: ../../datasets/aurora/instagan/train/sampleA_seg/628_1.png is a boolean image: setting True to 1 and False to 0\n",
      "  warn('%s is a boolean image: setting True to 1 and False to 0' % fname)\n",
      "/usr/local/lib/python3.7/site-packages/skimage/io/_io.py:142: UserWarning: ../../datasets/aurora/instagan/train/sampleA_seg/628_2.png is a boolean image: setting True to 1 and False to 0\n",
      "  warn('%s is a boolean image: setting True to 1 and False to 0' % fname)\n"
     ]
    },
    {
     "name": "stdout",
     "output_type": "stream",
     "text": [
      "Processing image ../../datasets/cityscapes-dataset/leftImg8bit_trainvaltest/leftImg8bit/train/aachen/aachen_000079_000019_leftImg8bit.png\n"
     ]
    },
    {
     "name": "stderr",
     "output_type": "stream",
     "text": [
      "/usr/local/lib/python3.7/site-packages/skimage/io/_io.py:142: UserWarning: ../../datasets/aurora/instagan/train/sampleA_seg/629_0.png is a boolean image: setting True to 1 and False to 0\n",
      "  warn('%s is a boolean image: setting True to 1 and False to 0' % fname)\n",
      "/usr/local/lib/python3.7/site-packages/skimage/io/_io.py:142: UserWarning: ../../datasets/aurora/instagan/train/sampleA_seg/629_1.png is a boolean image: setting True to 1 and False to 0\n",
      "  warn('%s is a boolean image: setting True to 1 and False to 0' % fname)\n",
      "/usr/local/lib/python3.7/site-packages/skimage/io/_io.py:142: UserWarning: ../../datasets/aurora/instagan/train/sampleA_seg/629_2.png is a boolean image: setting True to 1 and False to 0\n",
      "  warn('%s is a boolean image: setting True to 1 and False to 0' % fname)\n"
     ]
    },
    {
     "name": "stdout",
     "output_type": "stream",
     "text": [
      "Processing image ../../datasets/cityscapes-dataset/leftImg8bit_trainvaltest/leftImg8bit/train/aachen/aachen_000073_000019_leftImg8bit.png\n"
     ]
    },
    {
     "name": "stderr",
     "output_type": "stream",
     "text": [
      "/usr/local/lib/python3.7/site-packages/skimage/io/_io.py:142: UserWarning: ../../datasets/aurora/instagan/train/sampleA_seg/630_0.png is a boolean image: setting True to 1 and False to 0\n",
      "  warn('%s is a boolean image: setting True to 1 and False to 0' % fname)\n",
      "/usr/local/lib/python3.7/site-packages/skimage/io/_io.py:142: UserWarning: ../../datasets/aurora/instagan/train/sampleA_seg/630_1.png is a boolean image: setting True to 1 and False to 0\n",
      "  warn('%s is a boolean image: setting True to 1 and False to 0' % fname)\n"
     ]
    },
    {
     "name": "stdout",
     "output_type": "stream",
     "text": [
      "Processing image ../../datasets/cityscapes-dataset/leftImg8bit_trainvaltest/leftImg8bit/train/aachen/aachen_000100_000019_leftImg8bit.png\n"
     ]
    },
    {
     "name": "stderr",
     "output_type": "stream",
     "text": [
      "/usr/local/lib/python3.7/site-packages/skimage/io/_io.py:142: UserWarning: ../../datasets/aurora/instagan/train/sampleA_seg/631_0.png is a boolean image: setting True to 1 and False to 0\n",
      "  warn('%s is a boolean image: setting True to 1 and False to 0' % fname)\n"
     ]
    },
    {
     "name": "stdout",
     "output_type": "stream",
     "text": [
      "Processing image ../../datasets/cityscapes-dataset/leftImg8bit_trainvaltest/leftImg8bit/train/aachen/aachen_000006_000019_leftImg8bit.png\n"
     ]
    },
    {
     "name": "stderr",
     "output_type": "stream",
     "text": [
      "/usr/local/lib/python3.7/site-packages/skimage/io/_io.py:140: UserWarning: ../../datasets/aurora/instagan/train/sampleA_seg/632_0.png is a low contrast image\n",
      "  warn('%s is a low contrast image' % fname)\n",
      "/usr/local/lib/python3.7/site-packages/skimage/io/_io.py:142: UserWarning: ../../datasets/aurora/instagan/train/sampleA_seg/632_0.png is a boolean image: setting True to 1 and False to 0\n",
      "  warn('%s is a boolean image: setting True to 1 and False to 0' % fname)\n",
      "/usr/local/lib/python3.7/site-packages/skimage/io/_io.py:140: UserWarning: ../../datasets/aurora/instagan/train/sampleA_seg/632_1.png is a low contrast image\n",
      "  warn('%s is a low contrast image' % fname)\n",
      "/usr/local/lib/python3.7/site-packages/skimage/io/_io.py:142: UserWarning: ../../datasets/aurora/instagan/train/sampleA_seg/632_1.png is a boolean image: setting True to 1 and False to 0\n",
      "  warn('%s is a boolean image: setting True to 1 and False to 0' % fname)\n",
      "/usr/local/lib/python3.7/site-packages/skimage/io/_io.py:140: UserWarning: ../../datasets/aurora/instagan/train/sampleA_seg/632_2.png is a low contrast image\n",
      "  warn('%s is a low contrast image' % fname)\n",
      "/usr/local/lib/python3.7/site-packages/skimage/io/_io.py:142: UserWarning: ../../datasets/aurora/instagan/train/sampleA_seg/632_2.png is a boolean image: setting True to 1 and False to 0\n",
      "  warn('%s is a boolean image: setting True to 1 and False to 0' % fname)\n",
      "/usr/local/lib/python3.7/site-packages/skimage/io/_io.py:140: UserWarning: ../../datasets/aurora/instagan/train/sampleA_seg/632_3.png is a low contrast image\n",
      "  warn('%s is a low contrast image' % fname)\n",
      "/usr/local/lib/python3.7/site-packages/skimage/io/_io.py:142: UserWarning: ../../datasets/aurora/instagan/train/sampleA_seg/632_3.png is a boolean image: setting True to 1 and False to 0\n",
      "  warn('%s is a boolean image: setting True to 1 and False to 0' % fname)\n",
      "/usr/local/lib/python3.7/site-packages/skimage/io/_io.py:140: UserWarning: ../../datasets/aurora/instagan/train/sampleA_seg/632_4.png is a low contrast image\n",
      "  warn('%s is a low contrast image' % fname)\n",
      "/usr/local/lib/python3.7/site-packages/skimage/io/_io.py:142: UserWarning: ../../datasets/aurora/instagan/train/sampleA_seg/632_4.png is a boolean image: setting True to 1 and False to 0\n",
      "  warn('%s is a boolean image: setting True to 1 and False to 0' % fname)\n",
      "/usr/local/lib/python3.7/site-packages/skimage/io/_io.py:140: UserWarning: ../../datasets/aurora/instagan/train/sampleA_seg/632_5.png is a low contrast image\n",
      "  warn('%s is a low contrast image' % fname)\n",
      "/usr/local/lib/python3.7/site-packages/skimage/io/_io.py:142: UserWarning: ../../datasets/aurora/instagan/train/sampleA_seg/632_5.png is a boolean image: setting True to 1 and False to 0\n",
      "  warn('%s is a boolean image: setting True to 1 and False to 0' % fname)\n",
      "/usr/local/lib/python3.7/site-packages/skimage/io/_io.py:140: UserWarning: ../../datasets/aurora/instagan/train/sampleA_seg/632_6.png is a low contrast image\n",
      "  warn('%s is a low contrast image' % fname)\n",
      "/usr/local/lib/python3.7/site-packages/skimage/io/_io.py:142: UserWarning: ../../datasets/aurora/instagan/train/sampleA_seg/632_6.png is a boolean image: setting True to 1 and False to 0\n",
      "  warn('%s is a boolean image: setting True to 1 and False to 0' % fname)\n",
      "/usr/local/lib/python3.7/site-packages/skimage/io/_io.py:140: UserWarning: ../../datasets/aurora/instagan/train/sampleA_seg/632_7.png is a low contrast image\n",
      "  warn('%s is a low contrast image' % fname)\n",
      "/usr/local/lib/python3.7/site-packages/skimage/io/_io.py:142: UserWarning: ../../datasets/aurora/instagan/train/sampleA_seg/632_7.png is a boolean image: setting True to 1 and False to 0\n",
      "  warn('%s is a boolean image: setting True to 1 and False to 0' % fname)\n",
      "/usr/local/lib/python3.7/site-packages/skimage/io/_io.py:140: UserWarning: ../../datasets/aurora/instagan/train/sampleA_seg/632_8.png is a low contrast image\n",
      "  warn('%s is a low contrast image' % fname)\n",
      "/usr/local/lib/python3.7/site-packages/skimage/io/_io.py:142: UserWarning: ../../datasets/aurora/instagan/train/sampleA_seg/632_8.png is a boolean image: setting True to 1 and False to 0\n",
      "  warn('%s is a boolean image: setting True to 1 and False to 0' % fname)\n",
      "/usr/local/lib/python3.7/site-packages/skimage/io/_io.py:140: UserWarning: ../../datasets/aurora/instagan/train/sampleA_seg/632_9.png is a low contrast image\n",
      "  warn('%s is a low contrast image' % fname)\n",
      "/usr/local/lib/python3.7/site-packages/skimage/io/_io.py:142: UserWarning: ../../datasets/aurora/instagan/train/sampleA_seg/632_9.png is a boolean image: setting True to 1 and False to 0\n",
      "  warn('%s is a boolean image: setting True to 1 and False to 0' % fname)\n",
      "/usr/local/lib/python3.7/site-packages/skimage/io/_io.py:140: UserWarning: ../../datasets/aurora/instagan/train/sampleA_seg/632_10.png is a low contrast image\n",
      "  warn('%s is a low contrast image' % fname)\n",
      "/usr/local/lib/python3.7/site-packages/skimage/io/_io.py:142: UserWarning: ../../datasets/aurora/instagan/train/sampleA_seg/632_10.png is a boolean image: setting True to 1 and False to 0\n",
      "  warn('%s is a boolean image: setting True to 1 and False to 0' % fname)\n",
      "/usr/local/lib/python3.7/site-packages/skimage/io/_io.py:140: UserWarning: ../../datasets/aurora/instagan/train/sampleA_seg/632_11.png is a low contrast image\n",
      "  warn('%s is a low contrast image' % fname)\n",
      "/usr/local/lib/python3.7/site-packages/skimage/io/_io.py:142: UserWarning: ../../datasets/aurora/instagan/train/sampleA_seg/632_11.png is a boolean image: setting True to 1 and False to 0\n",
      "  warn('%s is a boolean image: setting True to 1 and False to 0' % fname)\n"
     ]
    },
    {
     "name": "stdout",
     "output_type": "stream",
     "text": [
      "Processing image ../../datasets/cityscapes-dataset/leftImg8bit_trainvaltest/leftImg8bit/train/aachen/aachen_000037_000019_leftImg8bit.png\n"
     ]
    },
    {
     "name": "stderr",
     "output_type": "stream",
     "text": [
      "/usr/local/lib/python3.7/site-packages/skimage/io/_io.py:142: UserWarning: ../../datasets/aurora/instagan/train/sampleA_seg/633_0.png is a boolean image: setting True to 1 and False to 0\n",
      "  warn('%s is a boolean image: setting True to 1 and False to 0' % fname)\n"
     ]
    },
    {
     "name": "stdout",
     "output_type": "stream",
     "text": [
      "Processing image ../../datasets/cityscapes-dataset/leftImg8bit_trainvaltest/leftImg8bit/train/aachen/aachen_000144_000019_leftImg8bit.png\n"
     ]
    },
    {
     "name": "stderr",
     "output_type": "stream",
     "text": [
      "/usr/local/lib/python3.7/site-packages/skimage/io/_io.py:142: UserWarning: ../../datasets/aurora/instagan/train/sampleA_seg/634_0.png is a boolean image: setting True to 1 and False to 0\n",
      "  warn('%s is a boolean image: setting True to 1 and False to 0' % fname)\n",
      "/usr/local/lib/python3.7/site-packages/skimage/io/_io.py:142: UserWarning: ../../datasets/aurora/instagan/train/sampleA_seg/634_1.png is a boolean image: setting True to 1 and False to 0\n",
      "  warn('%s is a boolean image: setting True to 1 and False to 0' % fname)\n"
     ]
    },
    {
     "name": "stdout",
     "output_type": "stream",
     "text": [
      "Processing image ../../datasets/cityscapes-dataset/leftImg8bit_trainvaltest/leftImg8bit/train/aachen/aachen_000042_000019_leftImg8bit.png\n"
     ]
    },
    {
     "name": "stderr",
     "output_type": "stream",
     "text": [
      "/usr/local/lib/python3.7/site-packages/skimage/io/_io.py:142: UserWarning: ../../datasets/aurora/instagan/train/sampleA_seg/635_0.png is a boolean image: setting True to 1 and False to 0\n",
      "  warn('%s is a boolean image: setting True to 1 and False to 0' % fname)\n",
      "/usr/local/lib/python3.7/site-packages/skimage/io/_io.py:142: UserWarning: ../../datasets/aurora/instagan/train/sampleA_seg/635_1.png is a boolean image: setting True to 1 and False to 0\n",
      "  warn('%s is a boolean image: setting True to 1 and False to 0' % fname)\n",
      "/usr/local/lib/python3.7/site-packages/skimage/io/_io.py:140: UserWarning: ../../datasets/aurora/instagan/train/sampleA_seg/635_2.png is a low contrast image\n",
      "  warn('%s is a low contrast image' % fname)\n",
      "/usr/local/lib/python3.7/site-packages/skimage/io/_io.py:142: UserWarning: ../../datasets/aurora/instagan/train/sampleA_seg/635_2.png is a boolean image: setting True to 1 and False to 0\n",
      "  warn('%s is a boolean image: setting True to 1 and False to 0' % fname)\n"
     ]
    },
    {
     "name": "stdout",
     "output_type": "stream",
     "text": [
      "Processing image ../../datasets/cityscapes-dataset/leftImg8bit_trainvaltest/leftImg8bit/train/aachen/aachen_000131_000019_leftImg8bit.png\n"
     ]
    },
    {
     "name": "stderr",
     "output_type": "stream",
     "text": [
      "/usr/local/lib/python3.7/site-packages/skimage/io/_io.py:142: UserWarning: ../../datasets/aurora/instagan/train/sampleA_seg/636_0.png is a boolean image: setting True to 1 and False to 0\n",
      "  warn('%s is a boolean image: setting True to 1 and False to 0' % fname)\n",
      "/usr/local/lib/python3.7/site-packages/skimage/io/_io.py:142: UserWarning: ../../datasets/aurora/instagan/train/sampleA_seg/636_1.png is a boolean image: setting True to 1 and False to 0\n",
      "  warn('%s is a boolean image: setting True to 1 and False to 0' % fname)\n",
      "/usr/local/lib/python3.7/site-packages/skimage/io/_io.py:140: UserWarning: ../../datasets/aurora/instagan/train/sampleA_seg/636_2.png is a low contrast image\n",
      "  warn('%s is a low contrast image' % fname)\n",
      "/usr/local/lib/python3.7/site-packages/skimage/io/_io.py:142: UserWarning: ../../datasets/aurora/instagan/train/sampleA_seg/636_2.png is a boolean image: setting True to 1 and False to 0\n",
      "  warn('%s is a boolean image: setting True to 1 and False to 0' % fname)\n"
     ]
    },
    {
     "name": "stdout",
     "output_type": "stream",
     "text": [
      "Processing image ../../datasets/cityscapes-dataset/leftImg8bit_trainvaltest/leftImg8bit/train/aachen/aachen_000083_000019_leftImg8bit.png\n"
     ]
    },
    {
     "name": "stderr",
     "output_type": "stream",
     "text": [
      "/usr/local/lib/python3.7/site-packages/skimage/io/_io.py:142: UserWarning: ../../datasets/aurora/instagan/train/sampleA_seg/637_0.png is a boolean image: setting True to 1 and False to 0\n",
      "  warn('%s is a boolean image: setting True to 1 and False to 0' % fname)\n"
     ]
    },
    {
     "name": "stdout",
     "output_type": "stream",
     "text": [
      "Processing image ../../datasets/cityscapes-dataset/leftImg8bit_trainvaltest/leftImg8bit/train/aachen/aachen_000048_000019_leftImg8bit.png\n"
     ]
    },
    {
     "name": "stderr",
     "output_type": "stream",
     "text": [
      "/usr/local/lib/python3.7/site-packages/skimage/io/_io.py:142: UserWarning: ../../datasets/aurora/instagan/train/sampleA_seg/638_0.png is a boolean image: setting True to 1 and False to 0\n",
      "  warn('%s is a boolean image: setting True to 1 and False to 0' % fname)\n"
     ]
    },
    {
     "name": "stdout",
     "output_type": "stream",
     "text": [
      "Processing image ../../datasets/cityscapes-dataset/leftImg8bit_trainvaltest/leftImg8bit/train/aachen/aachen_000089_000019_leftImg8bit.png\n"
     ]
    },
    {
     "name": "stderr",
     "output_type": "stream",
     "text": [
      "/usr/local/lib/python3.7/site-packages/skimage/io/_io.py:142: UserWarning: ../../datasets/aurora/instagan/train/sampleA_seg/639_0.png is a boolean image: setting True to 1 and False to 0\n",
      "  warn('%s is a boolean image: setting True to 1 and False to 0' % fname)\n"
     ]
    },
    {
     "name": "stdout",
     "output_type": "stream",
     "text": [
      "Processing image ../../datasets/cityscapes-dataset/leftImg8bit_trainvaltest/leftImg8bit/train/aachen/aachen_000074_000019_leftImg8bit.png\n"
     ]
    },
    {
     "name": "stderr",
     "output_type": "stream",
     "text": [
      "/usr/local/lib/python3.7/site-packages/skimage/io/_io.py:142: UserWarning: ../../datasets/aurora/instagan/train/sampleA_seg/640_0.png is a boolean image: setting True to 1 and False to 0\n",
      "  warn('%s is a boolean image: setting True to 1 and False to 0' % fname)\n"
     ]
    },
    {
     "name": "stdout",
     "output_type": "stream",
     "text": [
      "Processing image ../../datasets/cityscapes-dataset/leftImg8bit_trainvaltest/leftImg8bit/train/aachen/aachen_000107_000019_leftImg8bit.png\n"
     ]
    },
    {
     "name": "stderr",
     "output_type": "stream",
     "text": [
      "/usr/local/lib/python3.7/site-packages/skimage/io/_io.py:142: UserWarning: ../../datasets/aurora/instagan/train/sampleA_seg/641_0.png is a boolean image: setting True to 1 and False to 0\n",
      "  warn('%s is a boolean image: setting True to 1 and False to 0' % fname)\n"
     ]
    },
    {
     "name": "stdout",
     "output_type": "stream",
     "text": [
      "Processing image ../../datasets/cityscapes-dataset/leftImg8bit_trainvaltest/leftImg8bit/train/aachen/aachen_000001_000019_leftImg8bit.png\n"
     ]
    },
    {
     "name": "stderr",
     "output_type": "stream",
     "text": [
      "/usr/local/lib/python3.7/site-packages/skimage/io/_io.py:142: UserWarning: ../../datasets/aurora/instagan/train/sampleA_seg/642_0.png is a boolean image: setting True to 1 and False to 0\n",
      "  warn('%s is a boolean image: setting True to 1 and False to 0' % fname)\n",
      "/usr/local/lib/python3.7/site-packages/skimage/io/_io.py:140: UserWarning: ../../datasets/aurora/instagan/train/sampleA_seg/642_1.png is a low contrast image\n",
      "  warn('%s is a low contrast image' % fname)\n",
      "/usr/local/lib/python3.7/site-packages/skimage/io/_io.py:142: UserWarning: ../../datasets/aurora/instagan/train/sampleA_seg/642_1.png is a boolean image: setting True to 1 and False to 0\n",
      "  warn('%s is a boolean image: setting True to 1 and False to 0' % fname)\n"
     ]
    },
    {
     "name": "stdout",
     "output_type": "stream",
     "text": [
      "Processing image ../../datasets/cityscapes-dataset/leftImg8bit_trainvaltest/leftImg8bit/train/aachen/aachen_000172_000019_leftImg8bit.png\n"
     ]
    },
    {
     "name": "stderr",
     "output_type": "stream",
     "text": [
      "/usr/local/lib/python3.7/site-packages/skimage/io/_io.py:140: UserWarning: ../../datasets/aurora/instagan/train/sampleA_seg/643_0.png is a low contrast image\n",
      "  warn('%s is a low contrast image' % fname)\n",
      "/usr/local/lib/python3.7/site-packages/skimage/io/_io.py:142: UserWarning: ../../datasets/aurora/instagan/train/sampleA_seg/643_0.png is a boolean image: setting True to 1 and False to 0\n",
      "  warn('%s is a boolean image: setting True to 1 and False to 0' % fname)\n",
      "/usr/local/lib/python3.7/site-packages/skimage/io/_io.py:142: UserWarning: ../../datasets/aurora/instagan/train/sampleA_seg/643_1.png is a boolean image: setting True to 1 and False to 0\n",
      "  warn('%s is a boolean image: setting True to 1 and False to 0' % fname)\n",
      "/usr/local/lib/python3.7/site-packages/skimage/io/_io.py:140: UserWarning: ../../datasets/aurora/instagan/train/sampleA_seg/643_2.png is a low contrast image\n",
      "  warn('%s is a low contrast image' % fname)\n",
      "/usr/local/lib/python3.7/site-packages/skimage/io/_io.py:142: UserWarning: ../../datasets/aurora/instagan/train/sampleA_seg/643_2.png is a boolean image: setting True to 1 and False to 0\n",
      "  warn('%s is a boolean image: setting True to 1 and False to 0' % fname)\n",
      "/usr/local/lib/python3.7/site-packages/skimage/io/_io.py:142: UserWarning: ../../datasets/aurora/instagan/train/sampleA_seg/643_3.png is a boolean image: setting True to 1 and False to 0\n",
      "  warn('%s is a boolean image: setting True to 1 and False to 0' % fname)\n"
     ]
    },
    {
     "name": "stdout",
     "output_type": "stream",
     "text": [
      "Processing image ../../datasets/cityscapes-dataset/leftImg8bit_trainvaltest/leftImg8bit/train/aachen/aachen_000030_000019_leftImg8bit.png\n"
     ]
    },
    {
     "name": "stderr",
     "output_type": "stream",
     "text": [
      "/usr/local/lib/python3.7/site-packages/skimage/io/_io.py:142: UserWarning: ../../datasets/aurora/instagan/train/sampleA_seg/644_0.png is a boolean image: setting True to 1 and False to 0\n",
      "  warn('%s is a boolean image: setting True to 1 and False to 0' % fname)\n",
      "/usr/local/lib/python3.7/site-packages/skimage/io/_io.py:142: UserWarning: ../../datasets/aurora/instagan/train/sampleA_seg/644_1.png is a boolean image: setting True to 1 and False to 0\n",
      "  warn('%s is a boolean image: setting True to 1 and False to 0' % fname)\n",
      "/usr/local/lib/python3.7/site-packages/skimage/io/_io.py:142: UserWarning: ../../datasets/aurora/instagan/train/sampleA_seg/644_2.png is a boolean image: setting True to 1 and False to 0\n",
      "  warn('%s is a boolean image: setting True to 1 and False to 0' % fname)\n",
      "/usr/local/lib/python3.7/site-packages/skimage/io/_io.py:142: UserWarning: ../../datasets/aurora/instagan/train/sampleA_seg/644_3.png is a boolean image: setting True to 1 and False to 0\n",
      "  warn('%s is a boolean image: setting True to 1 and False to 0' % fname)\n"
     ]
    },
    {
     "name": "stdout",
     "output_type": "stream",
     "text": [
      "Processing image ../../datasets/cityscapes-dataset/leftImg8bit_trainvaltest/leftImg8bit/train/aachen/aachen_000143_000019_leftImg8bit.png\n"
     ]
    },
    {
     "name": "stderr",
     "output_type": "stream",
     "text": [
      "/usr/local/lib/python3.7/site-packages/skimage/io/_io.py:140: UserWarning: ../../datasets/aurora/instagan/train/sampleA_seg/645_0.png is a low contrast image\n",
      "  warn('%s is a low contrast image' % fname)\n",
      "/usr/local/lib/python3.7/site-packages/skimage/io/_io.py:142: UserWarning: ../../datasets/aurora/instagan/train/sampleA_seg/645_0.png is a boolean image: setting True to 1 and False to 0\n",
      "  warn('%s is a boolean image: setting True to 1 and False to 0' % fname)\n",
      "/usr/local/lib/python3.7/site-packages/skimage/io/_io.py:142: UserWarning: ../../datasets/aurora/instagan/train/sampleA_seg/645_1.png is a boolean image: setting True to 1 and False to 0\n",
      "  warn('%s is a boolean image: setting True to 1 and False to 0' % fname)\n"
     ]
    },
    {
     "name": "stdout",
     "output_type": "stream",
     "text": [
      "Processing image ../../datasets/cityscapes-dataset/leftImg8bit_trainvaltest/leftImg8bit/train/aachen/aachen_000045_000019_leftImg8bit.png\n"
     ]
    },
    {
     "name": "stderr",
     "output_type": "stream",
     "text": [
      "/usr/local/lib/python3.7/site-packages/skimage/io/_io.py:142: UserWarning: ../../datasets/aurora/instagan/train/sampleA_seg/646_0.png is a boolean image: setting True to 1 and False to 0\n",
      "  warn('%s is a boolean image: setting True to 1 and False to 0' % fname)\n",
      "/usr/local/lib/python3.7/site-packages/skimage/io/_io.py:142: UserWarning: ../../datasets/aurora/instagan/train/sampleA_seg/646_1.png is a boolean image: setting True to 1 and False to 0\n",
      "  warn('%s is a boolean image: setting True to 1 and False to 0' % fname)\n"
     ]
    },
    {
     "name": "stdout",
     "output_type": "stream",
     "text": [
      "Processing image ../../datasets/cityscapes-dataset/leftImg8bit_trainvaltest/leftImg8bit/train/aachen/aachen_000136_000019_leftImg8bit.png\n"
     ]
    },
    {
     "name": "stderr",
     "output_type": "stream",
     "text": [
      "/usr/local/lib/python3.7/site-packages/skimage/io/_io.py:142: UserWarning: ../../datasets/aurora/instagan/train/sampleA_seg/647_0.png is a boolean image: setting True to 1 and False to 0\n",
      "  warn('%s is a boolean image: setting True to 1 and False to 0' % fname)\n"
     ]
    },
    {
     "name": "stdout",
     "output_type": "stream",
     "text": [
      "Processing image ../../datasets/cityscapes-dataset/leftImg8bit_trainvaltest/leftImg8bit/train/aachen/aachen_000084_000019_leftImg8bit.png\n"
     ]
    },
    {
     "name": "stderr",
     "output_type": "stream",
     "text": [
      "/usr/local/lib/python3.7/site-packages/skimage/io/_io.py:142: UserWarning: ../../datasets/aurora/instagan/train/sampleA_seg/648_0.png is a boolean image: setting True to 1 and False to 0\n",
      "  warn('%s is a boolean image: setting True to 1 and False to 0' % fname)\n"
     ]
    },
    {
     "name": "stdout",
     "output_type": "stream",
     "text": [
      "Processing image ../../datasets/cityscapes-dataset/leftImg8bit_trainvaltest/leftImg8bit/train/aachen/aachen_000149_000019_leftImg8bit.png\n"
     ]
    },
    {
     "name": "stderr",
     "output_type": "stream",
     "text": [
      "/usr/local/lib/python3.7/site-packages/skimage/io/_io.py:142: UserWarning: ../../datasets/aurora/instagan/train/sampleA_seg/649_0.png is a boolean image: setting True to 1 and False to 0\n",
      "  warn('%s is a boolean image: setting True to 1 and False to 0' % fname)\n"
     ]
    },
    {
     "name": "stdout",
     "output_type": "stream",
     "text": [
      "Processing image ../../datasets/cityscapes-dataset/leftImg8bit_trainvaltest/leftImg8bit/train/aachen/aachen_000171_000019_leftImg8bit.png\n"
     ]
    },
    {
     "name": "stderr",
     "output_type": "stream",
     "text": [
      "/usr/local/lib/python3.7/site-packages/skimage/io/_io.py:142: UserWarning: ../../datasets/aurora/instagan/train/sampleA_seg/650_0.png is a boolean image: setting True to 1 and False to 0\n",
      "  warn('%s is a boolean image: setting True to 1 and False to 0' % fname)\n",
      "/usr/local/lib/python3.7/site-packages/skimage/io/_io.py:140: UserWarning: ../../datasets/aurora/instagan/train/sampleA_seg/650_1.png is a low contrast image\n",
      "  warn('%s is a low contrast image' % fname)\n",
      "/usr/local/lib/python3.7/site-packages/skimage/io/_io.py:142: UserWarning: ../../datasets/aurora/instagan/train/sampleA_seg/650_1.png is a boolean image: setting True to 1 and False to 0\n",
      "  warn('%s is a boolean image: setting True to 1 and False to 0' % fname)\n",
      "/usr/local/lib/python3.7/site-packages/skimage/io/_io.py:142: UserWarning: ../../datasets/aurora/instagan/train/sampleA_seg/650_2.png is a boolean image: setting True to 1 and False to 0\n",
      "  warn('%s is a boolean image: setting True to 1 and False to 0' % fname)\n",
      "/usr/local/lib/python3.7/site-packages/skimage/io/_io.py:140: UserWarning: ../../datasets/aurora/instagan/train/sampleA_seg/650_3.png is a low contrast image\n",
      "  warn('%s is a low contrast image' % fname)\n",
      "/usr/local/lib/python3.7/site-packages/skimage/io/_io.py:142: UserWarning: ../../datasets/aurora/instagan/train/sampleA_seg/650_3.png is a boolean image: setting True to 1 and False to 0\n",
      "  warn('%s is a boolean image: setting True to 1 and False to 0' % fname)\n"
     ]
    },
    {
     "name": "stdout",
     "output_type": "stream",
     "text": [
      "Processing image ../../datasets/cityscapes-dataset/leftImg8bit_trainvaltest/leftImg8bit/train/aachen/aachen_000002_000019_leftImg8bit.png\n"
     ]
    },
    {
     "name": "stderr",
     "output_type": "stream",
     "text": [
      "/usr/local/lib/python3.7/site-packages/skimage/io/_io.py:142: UserWarning: ../../datasets/aurora/instagan/train/sampleA_seg/651_0.png is a boolean image: setting True to 1 and False to 0\n",
      "  warn('%s is a boolean image: setting True to 1 and False to 0' % fname)\n",
      "/usr/local/lib/python3.7/site-packages/skimage/io/_io.py:140: UserWarning: ../../datasets/aurora/instagan/train/sampleA_seg/651_1.png is a low contrast image\n",
      "  warn('%s is a low contrast image' % fname)\n",
      "/usr/local/lib/python3.7/site-packages/skimage/io/_io.py:142: UserWarning: ../../datasets/aurora/instagan/train/sampleA_seg/651_1.png is a boolean image: setting True to 1 and False to 0\n",
      "  warn('%s is a boolean image: setting True to 1 and False to 0' % fname)\n",
      "/usr/local/lib/python3.7/site-packages/skimage/io/_io.py:140: UserWarning: ../../datasets/aurora/instagan/train/sampleA_seg/651_2.png is a low contrast image\n",
      "  warn('%s is a low contrast image' % fname)\n",
      "/usr/local/lib/python3.7/site-packages/skimage/io/_io.py:142: UserWarning: ../../datasets/aurora/instagan/train/sampleA_seg/651_2.png is a boolean image: setting True to 1 and False to 0\n",
      "  warn('%s is a boolean image: setting True to 1 and False to 0' % fname)\n"
     ]
    },
    {
     "name": "stdout",
     "output_type": "stream",
     "text": [
      "Processing image ../../datasets/cityscapes-dataset/leftImg8bit_trainvaltest/leftImg8bit/train/aachen/aachen_000104_000019_leftImg8bit.png\n"
     ]
    },
    {
     "name": "stderr",
     "output_type": "stream",
     "text": [
      "/usr/local/lib/python3.7/site-packages/skimage/io/_io.py:142: UserWarning: ../../datasets/aurora/instagan/train/sampleA_seg/652_0.png is a boolean image: setting True to 1 and False to 0\n",
      "  warn('%s is a boolean image: setting True to 1 and False to 0' % fname)\n"
     ]
    },
    {
     "name": "stdout",
     "output_type": "stream",
     "text": [
      "Processing image ../../datasets/cityscapes-dataset/leftImg8bit_trainvaltest/leftImg8bit/train/aachen/aachen_000077_000019_leftImg8bit.png\n"
     ]
    },
    {
     "name": "stderr",
     "output_type": "stream",
     "text": [
      "/usr/local/lib/python3.7/site-packages/skimage/io/_io.py:140: UserWarning: ../../datasets/aurora/instagan/train/sampleA_seg/653_0.png is a low contrast image\n",
      "  warn('%s is a low contrast image' % fname)\n",
      "/usr/local/lib/python3.7/site-packages/skimage/io/_io.py:142: UserWarning: ../../datasets/aurora/instagan/train/sampleA_seg/653_0.png is a boolean image: setting True to 1 and False to 0\n",
      "  warn('%s is a boolean image: setting True to 1 and False to 0' % fname)\n",
      "/usr/local/lib/python3.7/site-packages/skimage/io/_io.py:142: UserWarning: ../../datasets/aurora/instagan/train/sampleA_seg/653_1.png is a boolean image: setting True to 1 and False to 0\n",
      "  warn('%s is a boolean image: setting True to 1 and False to 0' % fname)\n",
      "/usr/local/lib/python3.7/site-packages/skimage/io/_io.py:142: UserWarning: ../../datasets/aurora/instagan/train/sampleA_seg/653_2.png is a boolean image: setting True to 1 and False to 0\n",
      "  warn('%s is a boolean image: setting True to 1 and False to 0' % fname)\n",
      "/usr/local/lib/python3.7/site-packages/skimage/io/_io.py:142: UserWarning: ../../datasets/aurora/instagan/train/sampleA_seg/653_3.png is a boolean image: setting True to 1 and False to 0\n",
      "  warn('%s is a boolean image: setting True to 1 and False to 0' % fname)\n"
     ]
    },
    {
     "name": "stdout",
     "output_type": "stream",
     "text": [
      "Processing image ../../datasets/cityscapes-dataset/leftImg8bit_trainvaltest/leftImg8bit/train/aachen/aachen_000008_000019_leftImg8bit.png\n"
     ]
    },
    {
     "name": "stderr",
     "output_type": "stream",
     "text": [
      "/usr/local/lib/python3.7/site-packages/skimage/io/_io.py:142: UserWarning: ../../datasets/aurora/instagan/train/sampleA_seg/654_0.png is a boolean image: setting True to 1 and False to 0\n",
      "  warn('%s is a boolean image: setting True to 1 and False to 0' % fname)\n"
     ]
    },
    {
     "name": "stdout",
     "output_type": "stream",
     "text": [
      "Processing image ../../datasets/cityscapes-dataset/leftImg8bit_trainvaltest/leftImg8bit/train/aachen/aachen_000039_000019_leftImg8bit.png\n"
     ]
    },
    {
     "name": "stderr",
     "output_type": "stream",
     "text": [
      "/usr/local/lib/python3.7/site-packages/skimage/io/_io.py:142: UserWarning: ../../datasets/aurora/instagan/train/sampleA_seg/655_0.png is a boolean image: setting True to 1 and False to 0\n",
      "  warn('%s is a boolean image: setting True to 1 and False to 0' % fname)\n"
     ]
    },
    {
     "name": "stdout",
     "output_type": "stream",
     "text": [
      "Processing image ../../datasets/cityscapes-dataset/leftImg8bit_trainvaltest/leftImg8bit/train/aachen/aachen_000135_000019_leftImg8bit.png\n"
     ]
    },
    {
     "name": "stderr",
     "output_type": "stream",
     "text": [
      "/usr/local/lib/python3.7/site-packages/skimage/io/_io.py:142: UserWarning: ../../datasets/aurora/instagan/train/sampleA_seg/656_0.png is a boolean image: setting True to 1 and False to 0\n",
      "  warn('%s is a boolean image: setting True to 1 and False to 0' % fname)\n"
     ]
    },
    {
     "name": "stdout",
     "output_type": "stream",
     "text": [
      "Processing image ../../datasets/cityscapes-dataset/leftImg8bit_trainvaltest/leftImg8bit/train/aachen/aachen_000046_000019_leftImg8bit.png\n"
     ]
    },
    {
     "name": "stderr",
     "output_type": "stream",
     "text": [
      "/usr/local/lib/python3.7/site-packages/skimage/io/_io.py:142: UserWarning: ../../datasets/aurora/instagan/train/sampleA_seg/657_0.png is a boolean image: setting True to 1 and False to 0\n",
      "  warn('%s is a boolean image: setting True to 1 and False to 0' % fname)\n",
      "/usr/local/lib/python3.7/site-packages/skimage/io/_io.py:142: UserWarning: ../../datasets/aurora/instagan/train/sampleA_seg/657_1.png is a boolean image: setting True to 1 and False to 0\n",
      "  warn('%s is a boolean image: setting True to 1 and False to 0' % fname)\n",
      "/usr/local/lib/python3.7/site-packages/skimage/io/_io.py:142: UserWarning: ../../datasets/aurora/instagan/train/sampleA_seg/657_2.png is a boolean image: setting True to 1 and False to 0\n",
      "  warn('%s is a boolean image: setting True to 1 and False to 0' % fname)\n",
      "/usr/local/lib/python3.7/site-packages/skimage/io/_io.py:140: UserWarning: ../../datasets/aurora/instagan/train/sampleA_seg/657_3.png is a low contrast image\n",
      "  warn('%s is a low contrast image' % fname)\n",
      "/usr/local/lib/python3.7/site-packages/skimage/io/_io.py:142: UserWarning: ../../datasets/aurora/instagan/train/sampleA_seg/657_3.png is a boolean image: setting True to 1 and False to 0\n",
      "  warn('%s is a boolean image: setting True to 1 and False to 0' % fname)\n",
      "/usr/local/lib/python3.7/site-packages/skimage/io/_io.py:140: UserWarning: ../../datasets/aurora/instagan/train/sampleA_seg/657_4.png is a low contrast image\n",
      "  warn('%s is a low contrast image' % fname)\n",
      "/usr/local/lib/python3.7/site-packages/skimage/io/_io.py:142: UserWarning: ../../datasets/aurora/instagan/train/sampleA_seg/657_4.png is a boolean image: setting True to 1 and False to 0\n",
      "  warn('%s is a boolean image: setting True to 1 and False to 0' % fname)\n"
     ]
    },
    {
     "name": "stdout",
     "output_type": "stream",
     "text": [
      "Processing image ../../datasets/cityscapes-dataset/leftImg8bit_trainvaltest/leftImg8bit/train/aachen/aachen_000087_000019_leftImg8bit.png\n"
     ]
    },
    {
     "name": "stderr",
     "output_type": "stream",
     "text": [
      "/usr/local/lib/python3.7/site-packages/skimage/io/_io.py:142: UserWarning: ../../datasets/aurora/instagan/train/sampleA_seg/658_0.png is a boolean image: setting True to 1 and False to 0\n",
      "  warn('%s is a boolean image: setting True to 1 and False to 0' % fname)\n"
     ]
    },
    {
     "name": "stdout",
     "output_type": "stream",
     "text": [
      "Processing image ../../datasets/cityscapes-dataset/leftImg8bit_trainvaltest/leftImg8bit/train/aachen/aachen_000140_000019_leftImg8bit.png\n"
     ]
    },
    {
     "name": "stderr",
     "output_type": "stream",
     "text": [
      "/usr/local/lib/python3.7/site-packages/skimage/io/_io.py:142: UserWarning: ../../datasets/aurora/instagan/train/sampleA_seg/659_0.png is a boolean image: setting True to 1 and False to 0\n",
      "  warn('%s is a boolean image: setting True to 1 and False to 0' % fname)\n",
      "/usr/local/lib/python3.7/site-packages/skimage/io/_io.py:142: UserWarning: ../../datasets/aurora/instagan/train/sampleA_seg/659_1.png is a boolean image: setting True to 1 and False to 0\n",
      "  warn('%s is a boolean image: setting True to 1 and False to 0' % fname)\n"
     ]
    },
    {
     "name": "stdout",
     "output_type": "stream",
     "text": [
      "Processing image ../../datasets/cityscapes-dataset/leftImg8bit_trainvaltest/leftImg8bit/train/aachen/aachen_000033_000019_leftImg8bit.png\n"
     ]
    },
    {
     "name": "stderr",
     "output_type": "stream",
     "text": [
      "/usr/local/lib/python3.7/site-packages/skimage/io/_io.py:142: UserWarning: ../../datasets/aurora/instagan/train/sampleA_seg/660_0.png is a boolean image: setting True to 1 and False to 0\n",
      "  warn('%s is a boolean image: setting True to 1 and False to 0' % fname)\n"
     ]
    },
    {
     "name": "stdout",
     "output_type": "stream",
     "text": [
      "Processing image ../../datasets/cityscapes-dataset/leftImg8bit_trainvaltest/leftImg8bit/train/aachen/aachen_000005_000019_leftImg8bit.png\n"
     ]
    },
    {
     "name": "stderr",
     "output_type": "stream",
     "text": [
      "/usr/local/lib/python3.7/site-packages/skimage/io/_io.py:142: UserWarning: ../../datasets/aurora/instagan/train/sampleA_seg/661_0.png is a boolean image: setting True to 1 and False to 0\n",
      "  warn('%s is a boolean image: setting True to 1 and False to 0' % fname)\n"
     ]
    },
    {
     "name": "stdout",
     "output_type": "stream",
     "text": [
      "Processing image ../../datasets/cityscapes-dataset/leftImg8bit_trainvaltest/leftImg8bit/train/aachen/aachen_000103_000019_leftImg8bit.png\n"
     ]
    },
    {
     "name": "stderr",
     "output_type": "stream",
     "text": [
      "/usr/local/lib/python3.7/site-packages/skimage/io/_io.py:142: UserWarning: ../../datasets/aurora/instagan/train/sampleA_seg/662_0.png is a boolean image: setting True to 1 and False to 0\n",
      "  warn('%s is a boolean image: setting True to 1 and False to 0' % fname)\n"
     ]
    },
    {
     "name": "stdout",
     "output_type": "stream",
     "text": [
      "Processing image ../../datasets/cityscapes-dataset/leftImg8bit_trainvaltest/leftImg8bit/train/aachen/aachen_000070_000019_leftImg8bit.png\n"
     ]
    },
    {
     "name": "stderr",
     "output_type": "stream",
     "text": [
      "/usr/local/lib/python3.7/site-packages/skimage/io/_io.py:140: UserWarning: ../../datasets/aurora/instagan/train/sampleA_seg/663_0.png is a low contrast image\n",
      "  warn('%s is a low contrast image' % fname)\n",
      "/usr/local/lib/python3.7/site-packages/skimage/io/_io.py:142: UserWarning: ../../datasets/aurora/instagan/train/sampleA_seg/663_0.png is a boolean image: setting True to 1 and False to 0\n",
      "  warn('%s is a boolean image: setting True to 1 and False to 0' % fname)\n",
      "/usr/local/lib/python3.7/site-packages/skimage/io/_io.py:142: UserWarning: ../../datasets/aurora/instagan/train/sampleA_seg/663_1.png is a boolean image: setting True to 1 and False to 0\n",
      "  warn('%s is a boolean image: setting True to 1 and False to 0' % fname)\n",
      "/usr/local/lib/python3.7/site-packages/skimage/io/_io.py:140: UserWarning: ../../datasets/aurora/instagan/train/sampleA_seg/663_2.png is a low contrast image\n",
      "  warn('%s is a low contrast image' % fname)\n",
      "/usr/local/lib/python3.7/site-packages/skimage/io/_io.py:142: UserWarning: ../../datasets/aurora/instagan/train/sampleA_seg/663_2.png is a boolean image: setting True to 1 and False to 0\n",
      "  warn('%s is a boolean image: setting True to 1 and False to 0' % fname)\n",
      "/usr/local/lib/python3.7/site-packages/skimage/io/_io.py:142: UserWarning: ../../datasets/aurora/instagan/train/sampleA_seg/663_3.png is a boolean image: setting True to 1 and False to 0\n",
      "  warn('%s is a boolean image: setting True to 1 and False to 0' % fname)\n",
      "/usr/local/lib/python3.7/site-packages/skimage/io/_io.py:142: UserWarning: ../../datasets/aurora/instagan/train/sampleA_seg/663_4.png is a boolean image: setting True to 1 and False to 0\n",
      "  warn('%s is a boolean image: setting True to 1 and False to 0' % fname)\n",
      "/usr/local/lib/python3.7/site-packages/skimage/io/_io.py:140: UserWarning: ../../datasets/aurora/instagan/train/sampleA_seg/663_5.png is a low contrast image\n",
      "  warn('%s is a low contrast image' % fname)\n",
      "/usr/local/lib/python3.7/site-packages/skimage/io/_io.py:142: UserWarning: ../../datasets/aurora/instagan/train/sampleA_seg/663_5.png is a boolean image: setting True to 1 and False to 0\n",
      "  warn('%s is a boolean image: setting True to 1 and False to 0' % fname)\n",
      "/usr/local/lib/python3.7/site-packages/skimage/io/_io.py:142: UserWarning: ../../datasets/aurora/instagan/train/sampleA_seg/663_6.png is a boolean image: setting True to 1 and False to 0\n",
      "  warn('%s is a boolean image: setting True to 1 and False to 0' % fname)\n"
     ]
    },
    {
     "name": "stdout",
     "output_type": "stream",
     "text": [
      "Processing image ../../datasets/cityscapes-dataset/leftImg8bit_trainvaltest/leftImg8bit/train/aachen/aachen_000109_000019_leftImg8bit.png\n"
     ]
    },
    {
     "name": "stderr",
     "output_type": "stream",
     "text": [
      "/usr/local/lib/python3.7/site-packages/skimage/io/_io.py:142: UserWarning: ../../datasets/aurora/instagan/train/sampleA_seg/664_0.png is a boolean image: setting True to 1 and False to 0\n",
      "  warn('%s is a boolean image: setting True to 1 and False to 0' % fname)\n"
     ]
    },
    {
     "name": "stdout",
     "output_type": "stream",
     "text": [
      "Processing image ../../datasets/cityscapes-dataset/leftImg8bit_trainvaltest/leftImg8bit/train/aachen/aachen_000138_000019_leftImg8bit.png\n"
     ]
    },
    {
     "name": "stderr",
     "output_type": "stream",
     "text": [
      "/usr/local/lib/python3.7/site-packages/skimage/io/_io.py:142: UserWarning: ../../datasets/aurora/instagan/train/sampleA_seg/665_0.png is a boolean image: setting True to 1 and False to 0\n",
      "  warn('%s is a boolean image: setting True to 1 and False to 0' % fname)\n"
     ]
    },
    {
     "name": "stdout",
     "output_type": "stream",
     "text": [
      "Processing image ../../datasets/cityscapes-dataset/leftImg8bit_trainvaltest/leftImg8bit/train/aachen/aachen_000132_000019_leftImg8bit.png\n"
     ]
    },
    {
     "name": "stderr",
     "output_type": "stream",
     "text": [
      "/usr/local/lib/python3.7/site-packages/skimage/io/_io.py:142: UserWarning: ../../datasets/aurora/instagan/train/sampleA_seg/666_0.png is a boolean image: setting True to 1 and False to 0\n",
      "  warn('%s is a boolean image: setting True to 1 and False to 0' % fname)\n",
      "/usr/local/lib/python3.7/site-packages/skimage/io/_io.py:140: UserWarning: ../../datasets/aurora/instagan/train/sampleA_seg/666_1.png is a low contrast image\n",
      "  warn('%s is a low contrast image' % fname)\n",
      "/usr/local/lib/python3.7/site-packages/skimage/io/_io.py:142: UserWarning: ../../datasets/aurora/instagan/train/sampleA_seg/666_1.png is a boolean image: setting True to 1 and False to 0\n",
      "  warn('%s is a boolean image: setting True to 1 and False to 0' % fname)\n"
     ]
    },
    {
     "name": "stdout",
     "output_type": "stream",
     "text": [
      "Processing image ../../datasets/cityscapes-dataset/leftImg8bit_trainvaltest/leftImg8bit/train/aachen/aachen_000041_000019_leftImg8bit.png\n"
     ]
    },
    {
     "name": "stderr",
     "output_type": "stream",
     "text": [
      "/usr/local/lib/python3.7/site-packages/skimage/io/_io.py:142: UserWarning: ../../datasets/aurora/instagan/train/sampleA_seg/667_0.png is a boolean image: setting True to 1 and False to 0\n",
      "  warn('%s is a boolean image: setting True to 1 and False to 0' % fname)\n",
      "/usr/local/lib/python3.7/site-packages/skimage/io/_io.py:142: UserWarning: ../../datasets/aurora/instagan/train/sampleA_seg/667_1.png is a boolean image: setting True to 1 and False to 0\n",
      "  warn('%s is a boolean image: setting True to 1 and False to 0' % fname)\n"
     ]
    },
    {
     "name": "stdout",
     "output_type": "stream",
     "text": [
      "Processing image ../../datasets/cityscapes-dataset/leftImg8bit_trainvaltest/leftImg8bit/train/aachen/aachen_000080_000019_leftImg8bit.png\n"
     ]
    },
    {
     "name": "stderr",
     "output_type": "stream",
     "text": [
      "/usr/local/lib/python3.7/site-packages/skimage/io/_io.py:142: UserWarning: ../../datasets/aurora/instagan/train/sampleA_seg/668_0.png is a boolean image: setting True to 1 and False to 0\n",
      "  warn('%s is a boolean image: setting True to 1 and False to 0' % fname)\n",
      "/usr/local/lib/python3.7/site-packages/skimage/io/_io.py:142: UserWarning: ../../datasets/aurora/instagan/train/sampleA_seg/668_1.png is a boolean image: setting True to 1 and False to 0\n",
      "  warn('%s is a boolean image: setting True to 1 and False to 0' % fname)\n",
      "/usr/local/lib/python3.7/site-packages/skimage/io/_io.py:142: UserWarning: ../../datasets/aurora/instagan/train/sampleA_seg/668_2.png is a boolean image: setting True to 1 and False to 0\n",
      "  warn('%s is a boolean image: setting True to 1 and False to 0' % fname)\n",
      "/usr/local/lib/python3.7/site-packages/skimage/io/_io.py:142: UserWarning: ../../datasets/aurora/instagan/train/sampleA_seg/668_3.png is a boolean image: setting True to 1 and False to 0\n",
      "  warn('%s is a boolean image: setting True to 1 and False to 0' % fname)\n",
      "/usr/local/lib/python3.7/site-packages/skimage/io/_io.py:142: UserWarning: ../../datasets/aurora/instagan/train/sampleA_seg/668_4.png is a boolean image: setting True to 1 and False to 0\n",
      "  warn('%s is a boolean image: setting True to 1 and False to 0' % fname)\n",
      "/usr/local/lib/python3.7/site-packages/skimage/io/_io.py:142: UserWarning: ../../datasets/aurora/instagan/train/sampleA_seg/668_5.png is a boolean image: setting True to 1 and False to 0\n",
      "  warn('%s is a boolean image: setting True to 1 and False to 0' % fname)\n",
      "/usr/local/lib/python3.7/site-packages/skimage/io/_io.py:142: UserWarning: ../../datasets/aurora/instagan/train/sampleA_seg/668_6.png is a boolean image: setting True to 1 and False to 0\n",
      "  warn('%s is a boolean image: setting True to 1 and False to 0' % fname)\n",
      "/usr/local/lib/python3.7/site-packages/skimage/io/_io.py:142: UserWarning: ../../datasets/aurora/instagan/train/sampleA_seg/668_7.png is a boolean image: setting True to 1 and False to 0\n",
      "  warn('%s is a boolean image: setting True to 1 and False to 0' % fname)\n",
      "/usr/local/lib/python3.7/site-packages/skimage/io/_io.py:142: UserWarning: ../../datasets/aurora/instagan/train/sampleA_seg/668_8.png is a boolean image: setting True to 1 and False to 0\n",
      "  warn('%s is a boolean image: setting True to 1 and False to 0' % fname)\n"
     ]
    },
    {
     "name": "stdout",
     "output_type": "stream",
     "text": [
      "Processing image ../../datasets/cityscapes-dataset/leftImg8bit_trainvaltest/leftImg8bit/train/aachen/aachen_000147_000019_leftImg8bit.png\n"
     ]
    },
    {
     "name": "stderr",
     "output_type": "stream",
     "text": [
      "/usr/local/lib/python3.7/site-packages/skimage/io/_io.py:142: UserWarning: ../../datasets/aurora/instagan/train/sampleA_seg/669_0.png is a boolean image: setting True to 1 and False to 0\n",
      "  warn('%s is a boolean image: setting True to 1 and False to 0' % fname)\n",
      "/usr/local/lib/python3.7/site-packages/skimage/io/_io.py:142: UserWarning: ../../datasets/aurora/instagan/train/sampleA_seg/669_1.png is a boolean image: setting True to 1 and False to 0\n",
      "  warn('%s is a boolean image: setting True to 1 and False to 0' % fname)\n"
     ]
    },
    {
     "name": "stdout",
     "output_type": "stream",
     "text": [
      "Processing image ../../datasets/cityscapes-dataset/leftImg8bit_trainvaltest/leftImg8bit/train/aachen/aachen_000034_000019_leftImg8bit.png\n"
     ]
    },
    {
     "name": "stderr",
     "output_type": "stream",
     "text": [
      "/usr/local/lib/python3.7/site-packages/skimage/io/_io.py:142: UserWarning: ../../datasets/aurora/instagan/train/sampleA_seg/670_0.png is a boolean image: setting True to 1 and False to 0\n",
      "  warn('%s is a boolean image: setting True to 1 and False to 0' % fname)\n",
      "/usr/local/lib/python3.7/site-packages/skimage/io/_io.py:140: UserWarning: ../../datasets/aurora/instagan/train/sampleA_seg/670_1.png is a low contrast image\n",
      "  warn('%s is a low contrast image' % fname)\n",
      "/usr/local/lib/python3.7/site-packages/skimage/io/_io.py:142: UserWarning: ../../datasets/aurora/instagan/train/sampleA_seg/670_1.png is a boolean image: setting True to 1 and False to 0\n",
      "  warn('%s is a boolean image: setting True to 1 and False to 0' % fname)\n"
     ]
    },
    {
     "name": "stdout",
     "output_type": "stream",
     "text": [
      "Processing image ../../datasets/cityscapes-dataset/leftImg8bit_trainvaltest/leftImg8bit/train/aachen/aachen_000081_000019_leftImg8bit.png\n"
     ]
    },
    {
     "name": "stderr",
     "output_type": "stream",
     "text": [
      "/usr/local/lib/python3.7/site-packages/skimage/io/_io.py:142: UserWarning: ../../datasets/aurora/instagan/train/sampleA_seg/671_0.png is a boolean image: setting True to 1 and False to 0\n",
      "  warn('%s is a boolean image: setting True to 1 and False to 0' % fname)\n",
      "/usr/local/lib/python3.7/site-packages/skimage/io/_io.py:140: UserWarning: ../../datasets/aurora/instagan/train/sampleA_seg/671_1.png is a low contrast image\n",
      "  warn('%s is a low contrast image' % fname)\n",
      "/usr/local/lib/python3.7/site-packages/skimage/io/_io.py:142: UserWarning: ../../datasets/aurora/instagan/train/sampleA_seg/671_1.png is a boolean image: setting True to 1 and False to 0\n",
      "  warn('%s is a boolean image: setting True to 1 and False to 0' % fname)\n"
     ]
    },
    {
     "name": "stdout",
     "output_type": "stream",
     "text": [
      "Processing image ../../datasets/cityscapes-dataset/leftImg8bit_trainvaltest/leftImg8bit/train/aachen/aachen_000040_000019_leftImg8bit.png\n"
     ]
    },
    {
     "name": "stderr",
     "output_type": "stream",
     "text": [
      "/usr/local/lib/python3.7/site-packages/skimage/io/_io.py:142: UserWarning: ../../datasets/aurora/instagan/train/sampleA_seg/672_0.png is a boolean image: setting True to 1 and False to 0\n",
      "  warn('%s is a boolean image: setting True to 1 and False to 0' % fname)\n",
      "/usr/local/lib/python3.7/site-packages/skimage/io/_io.py:142: UserWarning: ../../datasets/aurora/instagan/train/sampleA_seg/672_1.png is a boolean image: setting True to 1 and False to 0\n",
      "  warn('%s is a boolean image: setting True to 1 and False to 0' % fname)\n"
     ]
    },
    {
     "name": "stdout",
     "output_type": "stream",
     "text": [
      "Processing image ../../datasets/cityscapes-dataset/leftImg8bit_trainvaltest/leftImg8bit/train/aachen/aachen_000133_000019_leftImg8bit.png\n"
     ]
    },
    {
     "name": "stderr",
     "output_type": "stream",
     "text": [
      "/usr/local/lib/python3.7/site-packages/skimage/io/_io.py:142: UserWarning: ../../datasets/aurora/instagan/train/sampleA_seg/673_0.png is a boolean image: setting True to 1 and False to 0\n",
      "  warn('%s is a boolean image: setting True to 1 and False to 0' % fname)\n",
      "/usr/local/lib/python3.7/site-packages/skimage/io/_io.py:140: UserWarning: ../../datasets/aurora/instagan/train/sampleA_seg/673_1.png is a low contrast image\n",
      "  warn('%s is a low contrast image' % fname)\n",
      "/usr/local/lib/python3.7/site-packages/skimage/io/_io.py:142: UserWarning: ../../datasets/aurora/instagan/train/sampleA_seg/673_1.png is a boolean image: setting True to 1 and False to 0\n",
      "  warn('%s is a boolean image: setting True to 1 and False to 0' % fname)\n"
     ]
    },
    {
     "name": "stdout",
     "output_type": "stream",
     "text": [
      "Processing image ../../datasets/cityscapes-dataset/leftImg8bit_trainvaltest/leftImg8bit/train/aachen/aachen_000035_000019_leftImg8bit.png\n"
     ]
    },
    {
     "name": "stderr",
     "output_type": "stream",
     "text": [
      "/usr/local/lib/python3.7/site-packages/skimage/io/_io.py:142: UserWarning: ../../datasets/aurora/instagan/train/sampleA_seg/674_0.png is a boolean image: setting True to 1 and False to 0\n",
      "  warn('%s is a boolean image: setting True to 1 and False to 0' % fname)\n"
     ]
    },
    {
     "name": "stdout",
     "output_type": "stream",
     "text": [
      "Processing image ../../datasets/cityscapes-dataset/leftImg8bit_trainvaltest/leftImg8bit/train/aachen/aachen_000146_000019_leftImg8bit.png\n"
     ]
    },
    {
     "name": "stderr",
     "output_type": "stream",
     "text": [
      "/usr/local/lib/python3.7/site-packages/skimage/io/_io.py:142: UserWarning: ../../datasets/aurora/instagan/train/sampleA_seg/675_0.png is a boolean image: setting True to 1 and False to 0\n",
      "  warn('%s is a boolean image: setting True to 1 and False to 0' % fname)\n"
     ]
    },
    {
     "name": "stdout",
     "output_type": "stream",
     "text": [
      "Processing image ../../datasets/cityscapes-dataset/leftImg8bit_trainvaltest/leftImg8bit/train/aachen/aachen_000139_000019_leftImg8bit.png\n"
     ]
    },
    {
     "name": "stderr",
     "output_type": "stream",
     "text": [
      "/usr/local/lib/python3.7/site-packages/skimage/io/_io.py:142: UserWarning: ../../datasets/aurora/instagan/train/sampleA_seg/676_0.png is a boolean image: setting True to 1 and False to 0\n",
      "  warn('%s is a boolean image: setting True to 1 and False to 0' % fname)\n"
     ]
    },
    {
     "name": "stdout",
     "output_type": "stream",
     "text": [
      "Processing image ../../datasets/cityscapes-dataset/leftImg8bit_trainvaltest/leftImg8bit/train/aachen/aachen_000108_000019_leftImg8bit.png\n"
     ]
    },
    {
     "name": "stderr",
     "output_type": "stream",
     "text": [
      "/usr/local/lib/python3.7/site-packages/skimage/io/_io.py:142: UserWarning: ../../datasets/aurora/instagan/train/sampleA_seg/677_0.png is a boolean image: setting True to 1 and False to 0\n",
      "  warn('%s is a boolean image: setting True to 1 and False to 0' % fname)\n"
     ]
    },
    {
     "name": "stdout",
     "output_type": "stream",
     "text": [
      "Processing image ../../datasets/cityscapes-dataset/leftImg8bit_trainvaltest/leftImg8bit/train/aachen/aachen_000004_000019_leftImg8bit.png\n"
     ]
    },
    {
     "name": "stderr",
     "output_type": "stream",
     "text": [
      "/usr/local/lib/python3.7/site-packages/skimage/io/_io.py:142: UserWarning: ../../datasets/aurora/instagan/train/sampleA_seg/678_0.png is a boolean image: setting True to 1 and False to 0\n",
      "  warn('%s is a boolean image: setting True to 1 and False to 0' % fname)\n",
      "/usr/local/lib/python3.7/site-packages/skimage/io/_io.py:142: UserWarning: ../../datasets/aurora/instagan/train/sampleA_seg/678_1.png is a boolean image: setting True to 1 and False to 0\n",
      "  warn('%s is a boolean image: setting True to 1 and False to 0' % fname)\n"
     ]
    },
    {
     "name": "stdout",
     "output_type": "stream",
     "text": [
      "Processing image ../../datasets/cityscapes-dataset/leftImg8bit_trainvaltest/leftImg8bit/train/aachen/aachen_000071_000019_leftImg8bit.png\n"
     ]
    },
    {
     "name": "stderr",
     "output_type": "stream",
     "text": [
      "/usr/local/lib/python3.7/site-packages/skimage/io/_io.py:142: UserWarning: ../../datasets/aurora/instagan/train/sampleA_seg/679_0.png is a boolean image: setting True to 1 and False to 0\n",
      "  warn('%s is a boolean image: setting True to 1 and False to 0' % fname)\n",
      "/usr/local/lib/python3.7/site-packages/skimage/io/_io.py:140: UserWarning: ../../datasets/aurora/instagan/train/sampleA_seg/679_1.png is a low contrast image\n",
      "  warn('%s is a low contrast image' % fname)\n",
      "/usr/local/lib/python3.7/site-packages/skimage/io/_io.py:142: UserWarning: ../../datasets/aurora/instagan/train/sampleA_seg/679_1.png is a boolean image: setting True to 1 and False to 0\n",
      "  warn('%s is a boolean image: setting True to 1 and False to 0' % fname)\n",
      "/usr/local/lib/python3.7/site-packages/skimage/io/_io.py:142: UserWarning: ../../datasets/aurora/instagan/train/sampleA_seg/679_2.png is a boolean image: setting True to 1 and False to 0\n",
      "  warn('%s is a boolean image: setting True to 1 and False to 0' % fname)\n",
      "/usr/local/lib/python3.7/site-packages/skimage/io/_io.py:140: UserWarning: ../../datasets/aurora/instagan/train/sampleA_seg/679_3.png is a low contrast image\n",
      "  warn('%s is a low contrast image' % fname)\n",
      "/usr/local/lib/python3.7/site-packages/skimage/io/_io.py:142: UserWarning: ../../datasets/aurora/instagan/train/sampleA_seg/679_3.png is a boolean image: setting True to 1 and False to 0\n",
      "  warn('%s is a boolean image: setting True to 1 and False to 0' % fname)\n"
     ]
    },
    {
     "name": "stdout",
     "output_type": "stream",
     "text": [
      "Processing image ../../datasets/cityscapes-dataset/leftImg8bit_trainvaltest/leftImg8bit/train/aachen/aachen_000102_000019_leftImg8bit.png\n"
     ]
    },
    {
     "name": "stderr",
     "output_type": "stream",
     "text": [
      "/usr/local/lib/python3.7/site-packages/skimage/io/_io.py:142: UserWarning: ../../datasets/aurora/instagan/train/sampleA_seg/680_0.png is a boolean image: setting True to 1 and False to 0\n",
      "  warn('%s is a boolean image: setting True to 1 and False to 0' % fname)\n"
     ]
    },
    {
     "name": "stdout",
     "output_type": "stream",
     "text": [
      "Processing image ../../datasets/cityscapes-dataset/leftImg8bit_trainvaltest/leftImg8bit/train/aachen/aachen_000086_000019_leftImg8bit.png\n"
     ]
    },
    {
     "name": "stderr",
     "output_type": "stream",
     "text": [
      "/usr/local/lib/python3.7/site-packages/skimage/io/_io.py:142: UserWarning: ../../datasets/aurora/instagan/train/sampleA_seg/681_0.png is a boolean image: setting True to 1 and False to 0\n",
      "  warn('%s is a boolean image: setting True to 1 and False to 0' % fname)\n"
     ]
    },
    {
     "name": "stdout",
     "output_type": "stream",
     "text": [
      "Processing image ../../datasets/cityscapes-dataset/leftImg8bit_trainvaltest/leftImg8bit/train/aachen/aachen_000047_000019_leftImg8bit.png\n"
     ]
    },
    {
     "name": "stderr",
     "output_type": "stream",
     "text": [
      "/usr/local/lib/python3.7/site-packages/skimage/io/_io.py:142: UserWarning: ../../datasets/aurora/instagan/train/sampleA_seg/682_0.png is a boolean image: setting True to 1 and False to 0\n",
      "  warn('%s is a boolean image: setting True to 1 and False to 0' % fname)\n",
      "/usr/local/lib/python3.7/site-packages/skimage/io/_io.py:142: UserWarning: ../../datasets/aurora/instagan/train/sampleA_seg/682_1.png is a boolean image: setting True to 1 and False to 0\n",
      "  warn('%s is a boolean image: setting True to 1 and False to 0' % fname)\n",
      "/usr/local/lib/python3.7/site-packages/skimage/io/_io.py:142: UserWarning: ../../datasets/aurora/instagan/train/sampleA_seg/682_2.png is a boolean image: setting True to 1 and False to 0\n",
      "  warn('%s is a boolean image: setting True to 1 and False to 0' % fname)\n",
      "/usr/local/lib/python3.7/site-packages/skimage/io/_io.py:142: UserWarning: ../../datasets/aurora/instagan/train/sampleA_seg/682_3.png is a boolean image: setting True to 1 and False to 0\n",
      "  warn('%s is a boolean image: setting True to 1 and False to 0' % fname)\n",
      "/usr/local/lib/python3.7/site-packages/skimage/io/_io.py:140: UserWarning: ../../datasets/aurora/instagan/train/sampleA_seg/682_4.png is a low contrast image\n",
      "  warn('%s is a low contrast image' % fname)\n",
      "/usr/local/lib/python3.7/site-packages/skimage/io/_io.py:142: UserWarning: ../../datasets/aurora/instagan/train/sampleA_seg/682_4.png is a boolean image: setting True to 1 and False to 0\n",
      "  warn('%s is a boolean image: setting True to 1 and False to 0' % fname)\n",
      "/usr/local/lib/python3.7/site-packages/skimage/io/_io.py:140: UserWarning: ../../datasets/aurora/instagan/train/sampleA_seg/682_5.png is a low contrast image\n",
      "  warn('%s is a low contrast image' % fname)\n",
      "/usr/local/lib/python3.7/site-packages/skimage/io/_io.py:142: UserWarning: ../../datasets/aurora/instagan/train/sampleA_seg/682_5.png is a boolean image: setting True to 1 and False to 0\n",
      "  warn('%s is a boolean image: setting True to 1 and False to 0' % fname)\n",
      "/usr/local/lib/python3.7/site-packages/skimage/io/_io.py:140: UserWarning: ../../datasets/aurora/instagan/train/sampleA_seg/682_6.png is a low contrast image\n",
      "  warn('%s is a low contrast image' % fname)\n",
      "/usr/local/lib/python3.7/site-packages/skimage/io/_io.py:142: UserWarning: ../../datasets/aurora/instagan/train/sampleA_seg/682_6.png is a boolean image: setting True to 1 and False to 0\n",
      "  warn('%s is a boolean image: setting True to 1 and False to 0' % fname)\n",
      "/usr/local/lib/python3.7/site-packages/skimage/io/_io.py:140: UserWarning: ../../datasets/aurora/instagan/train/sampleA_seg/682_7.png is a low contrast image\n",
      "  warn('%s is a low contrast image' % fname)\n",
      "/usr/local/lib/python3.7/site-packages/skimage/io/_io.py:142: UserWarning: ../../datasets/aurora/instagan/train/sampleA_seg/682_7.png is a boolean image: setting True to 1 and False to 0\n",
      "  warn('%s is a boolean image: setting True to 1 and False to 0' % fname)\n",
      "/usr/local/lib/python3.7/site-packages/skimage/io/_io.py:140: UserWarning: ../../datasets/aurora/instagan/train/sampleA_seg/682_8.png is a low contrast image\n",
      "  warn('%s is a low contrast image' % fname)\n",
      "/usr/local/lib/python3.7/site-packages/skimage/io/_io.py:142: UserWarning: ../../datasets/aurora/instagan/train/sampleA_seg/682_8.png is a boolean image: setting True to 1 and False to 0\n",
      "  warn('%s is a boolean image: setting True to 1 and False to 0' % fname)\n"
     ]
    },
    {
     "name": "stdout",
     "output_type": "stream",
     "text": [
      "Processing image ../../datasets/cityscapes-dataset/leftImg8bit_trainvaltest/leftImg8bit/train/aachen/aachen_000134_000019_leftImg8bit.png\n"
     ]
    },
    {
     "name": "stderr",
     "output_type": "stream",
     "text": [
      "/usr/local/lib/python3.7/site-packages/skimage/io/_io.py:142: UserWarning: ../../datasets/aurora/instagan/train/sampleA_seg/683_0.png is a boolean image: setting True to 1 and False to 0\n",
      "  warn('%s is a boolean image: setting True to 1 and False to 0' % fname)\n"
     ]
    },
    {
     "name": "stdout",
     "output_type": "stream",
     "text": [
      "Processing image ../../datasets/cityscapes-dataset/leftImg8bit_trainvaltest/leftImg8bit/train/aachen/aachen_000032_000019_leftImg8bit.png\n"
     ]
    },
    {
     "name": "stderr",
     "output_type": "stream",
     "text": [
      "/usr/local/lib/python3.7/site-packages/skimage/io/_io.py:142: UserWarning: ../../datasets/aurora/instagan/train/sampleA_seg/684_0.png is a boolean image: setting True to 1 and False to 0\n",
      "  warn('%s is a boolean image: setting True to 1 and False to 0' % fname)\n"
     ]
    },
    {
     "name": "stdout",
     "output_type": "stream",
     "text": [
      "Processing image ../../datasets/cityscapes-dataset/leftImg8bit_trainvaltest/leftImg8bit/train/aachen/aachen_000141_000019_leftImg8bit.png\n"
     ]
    },
    {
     "name": "stderr",
     "output_type": "stream",
     "text": [
      "/usr/local/lib/python3.7/site-packages/skimage/io/_io.py:142: UserWarning: ../../datasets/aurora/instagan/train/sampleA_seg/685_0.png is a boolean image: setting True to 1 and False to 0\n",
      "  warn('%s is a boolean image: setting True to 1 and False to 0' % fname)\n"
     ]
    },
    {
     "name": "stdout",
     "output_type": "stream",
     "text": [
      "Processing image ../../datasets/cityscapes-dataset/leftImg8bit_trainvaltest/leftImg8bit/train/aachen/aachen_000038_000019_leftImg8bit.png\n"
     ]
    },
    {
     "name": "stderr",
     "output_type": "stream",
     "text": [
      "/usr/local/lib/python3.7/site-packages/skimage/io/_io.py:142: UserWarning: ../../datasets/aurora/instagan/train/sampleA_seg/686_0.png is a boolean image: setting True to 1 and False to 0\n",
      "  warn('%s is a boolean image: setting True to 1 and False to 0' % fname)\n",
      "/usr/local/lib/python3.7/site-packages/skimage/io/_io.py:140: UserWarning: ../../datasets/aurora/instagan/train/sampleA_seg/686_1.png is a low contrast image\n",
      "  warn('%s is a low contrast image' % fname)\n",
      "/usr/local/lib/python3.7/site-packages/skimage/io/_io.py:142: UserWarning: ../../datasets/aurora/instagan/train/sampleA_seg/686_1.png is a boolean image: setting True to 1 and False to 0\n",
      "  warn('%s is a boolean image: setting True to 1 and False to 0' % fname)\n"
     ]
    },
    {
     "name": "stdout",
     "output_type": "stream",
     "text": [
      "Processing image ../../datasets/cityscapes-dataset/leftImg8bit_trainvaltest/leftImg8bit/train/aachen/aachen_000009_000019_leftImg8bit.png\n"
     ]
    },
    {
     "name": "stderr",
     "output_type": "stream",
     "text": [
      "/usr/local/lib/python3.7/site-packages/skimage/io/_io.py:142: UserWarning: ../../datasets/aurora/instagan/train/sampleA_seg/687_0.png is a boolean image: setting True to 1 and False to 0\n",
      "  warn('%s is a boolean image: setting True to 1 and False to 0' % fname)\n",
      "/usr/local/lib/python3.7/site-packages/skimage/io/_io.py:142: UserWarning: ../../datasets/aurora/instagan/train/sampleA_seg/687_1.png is a boolean image: setting True to 1 and False to 0\n",
      "  warn('%s is a boolean image: setting True to 1 and False to 0' % fname)\n"
     ]
    },
    {
     "name": "stdout",
     "output_type": "stream",
     "text": [
      "Processing image ../../datasets/cityscapes-dataset/leftImg8bit_trainvaltest/leftImg8bit/train/aachen/aachen_000003_000019_leftImg8bit.png\n"
     ]
    },
    {
     "name": "stderr",
     "output_type": "stream",
     "text": [
      "/usr/local/lib/python3.7/site-packages/skimage/io/_io.py:142: UserWarning: ../../datasets/aurora/instagan/train/sampleA_seg/688_0.png is a boolean image: setting True to 1 and False to 0\n",
      "  warn('%s is a boolean image: setting True to 1 and False to 0' % fname)\n",
      "/usr/local/lib/python3.7/site-packages/skimage/io/_io.py:140: UserWarning: ../../datasets/aurora/instagan/train/sampleA_seg/688_1.png is a low contrast image\n",
      "  warn('%s is a low contrast image' % fname)\n",
      "/usr/local/lib/python3.7/site-packages/skimage/io/_io.py:142: UserWarning: ../../datasets/aurora/instagan/train/sampleA_seg/688_1.png is a boolean image: setting True to 1 and False to 0\n",
      "  warn('%s is a boolean image: setting True to 1 and False to 0' % fname)\n"
     ]
    },
    {
     "name": "stdout",
     "output_type": "stream",
     "text": [
      "Processing image ../../datasets/cityscapes-dataset/leftImg8bit_trainvaltest/leftImg8bit/train/aachen/aachen_000170_000019_leftImg8bit.png\n"
     ]
    },
    {
     "name": "stderr",
     "output_type": "stream",
     "text": [
      "/usr/local/lib/python3.7/site-packages/skimage/io/_io.py:142: UserWarning: ../../datasets/aurora/instagan/train/sampleA_seg/689_0.png is a boolean image: setting True to 1 and False to 0\n",
      "  warn('%s is a boolean image: setting True to 1 and False to 0' % fname)\n"
     ]
    },
    {
     "name": "stdout",
     "output_type": "stream",
     "text": [
      "Processing image ../../datasets/cityscapes-dataset/leftImg8bit_trainvaltest/leftImg8bit/train/aachen/aachen_000076_000019_leftImg8bit.png\n"
     ]
    },
    {
     "name": "stderr",
     "output_type": "stream",
     "text": [
      "/usr/local/lib/python3.7/site-packages/skimage/io/_io.py:142: UserWarning: ../../datasets/aurora/instagan/train/sampleA_seg/690_0.png is a boolean image: setting True to 1 and False to 0\n",
      "  warn('%s is a boolean image: setting True to 1 and False to 0' % fname)\n",
      "/usr/local/lib/python3.7/site-packages/skimage/io/_io.py:142: UserWarning: ../../datasets/aurora/instagan/train/sampleA_seg/690_1.png is a boolean image: setting True to 1 and False to 0\n",
      "  warn('%s is a boolean image: setting True to 1 and False to 0' % fname)\n"
     ]
    },
    {
     "name": "stdout",
     "output_type": "stream",
     "text": [
      "Processing image ../../datasets/cityscapes-dataset/leftImg8bit_trainvaltest/leftImg8bit/train/aachen/aachen_000105_000019_leftImg8bit.png\n"
     ]
    },
    {
     "name": "stderr",
     "output_type": "stream",
     "text": [
      "/usr/local/lib/python3.7/site-packages/skimage/io/_io.py:142: UserWarning: ../../datasets/aurora/instagan/train/sampleA_seg/691_0.png is a boolean image: setting True to 1 and False to 0\n",
      "  warn('%s is a boolean image: setting True to 1 and False to 0' % fname)\n"
     ]
    },
    {
     "name": "stdout",
     "output_type": "stream",
     "text": [
      "Processing image ../../datasets/cityscapes-dataset/leftImg8bit_trainvaltest/leftImg8bit/train/aachen/aachen_000148_000019_leftImg8bit.png\n"
     ]
    },
    {
     "name": "stderr",
     "output_type": "stream",
     "text": [
      "/usr/local/lib/python3.7/site-packages/skimage/io/_io.py:140: UserWarning: ../../datasets/aurora/instagan/train/sampleA_seg/692_0.png is a low contrast image\n",
      "  warn('%s is a low contrast image' % fname)\n",
      "/usr/local/lib/python3.7/site-packages/skimage/io/_io.py:142: UserWarning: ../../datasets/aurora/instagan/train/sampleA_seg/692_0.png is a boolean image: setting True to 1 and False to 0\n",
      "  warn('%s is a boolean image: setting True to 1 and False to 0' % fname)\n",
      "/usr/local/lib/python3.7/site-packages/skimage/io/_io.py:142: UserWarning: ../../datasets/aurora/instagan/train/sampleA_seg/692_1.png is a boolean image: setting True to 1 and False to 0\n",
      "  warn('%s is a boolean image: setting True to 1 and False to 0' % fname)\n"
     ]
    },
    {
     "name": "stdout",
     "output_type": "stream",
     "text": [
      "Processing image ../../datasets/cityscapes-dataset/leftImg8bit_trainvaltest/leftImg8bit/train/aachen/aachen_000142_000019_leftImg8bit.png\n"
     ]
    },
    {
     "name": "stderr",
     "output_type": "stream",
     "text": [
      "/usr/local/lib/python3.7/site-packages/skimage/io/_io.py:142: UserWarning: ../../datasets/aurora/instagan/train/sampleA_seg/693_0.png is a boolean image: setting True to 1 and False to 0\n",
      "  warn('%s is a boolean image: setting True to 1 and False to 0' % fname)\n",
      "/usr/local/lib/python3.7/site-packages/skimage/io/_io.py:142: UserWarning: ../../datasets/aurora/instagan/train/sampleA_seg/693_1.png is a boolean image: setting True to 1 and False to 0\n",
      "  warn('%s is a boolean image: setting True to 1 and False to 0' % fname)\n",
      "/usr/local/lib/python3.7/site-packages/skimage/io/_io.py:142: UserWarning: ../../datasets/aurora/instagan/train/sampleA_seg/693_2.png is a boolean image: setting True to 1 and False to 0\n",
      "  warn('%s is a boolean image: setting True to 1 and False to 0' % fname)\n"
     ]
    },
    {
     "name": "stdout",
     "output_type": "stream",
     "text": [
      "Processing image ../../datasets/cityscapes-dataset/leftImg8bit_trainvaltest/leftImg8bit/train/aachen/aachen_000031_000019_leftImg8bit.png\n"
     ]
    },
    {
     "name": "stderr",
     "output_type": "stream",
     "text": [
      "/usr/local/lib/python3.7/site-packages/skimage/io/_io.py:142: UserWarning: ../../datasets/aurora/instagan/train/sampleA_seg/694_0.png is a boolean image: setting True to 1 and False to 0\n",
      "  warn('%s is a boolean image: setting True to 1 and False to 0' % fname)\n",
      "/usr/local/lib/python3.7/site-packages/skimage/io/_io.py:142: UserWarning: ../../datasets/aurora/instagan/train/sampleA_seg/694_1.png is a boolean image: setting True to 1 and False to 0\n",
      "  warn('%s is a boolean image: setting True to 1 and False to 0' % fname)\n"
     ]
    },
    {
     "name": "stdout",
     "output_type": "stream",
     "text": [
      "Processing image ../../datasets/cityscapes-dataset/leftImg8bit_trainvaltest/leftImg8bit/train/aachen/aachen_000085_000019_leftImg8bit.png\n"
     ]
    },
    {
     "name": "stderr",
     "output_type": "stream",
     "text": [
      "/usr/local/lib/python3.7/site-packages/skimage/io/_io.py:142: UserWarning: ../../datasets/aurora/instagan/train/sampleA_seg/695_0.png is a boolean image: setting True to 1 and False to 0\n",
      "  warn('%s is a boolean image: setting True to 1 and False to 0' % fname)\n"
     ]
    },
    {
     "name": "stdout",
     "output_type": "stream",
     "text": [
      "Processing image ../../datasets/cityscapes-dataset/leftImg8bit_trainvaltest/leftImg8bit/train/aachen/aachen_000137_000019_leftImg8bit.png\n"
     ]
    },
    {
     "name": "stderr",
     "output_type": "stream",
     "text": [
      "/usr/local/lib/python3.7/site-packages/skimage/io/_io.py:142: UserWarning: ../../datasets/aurora/instagan/train/sampleA_seg/696_0.png is a boolean image: setting True to 1 and False to 0\n",
      "  warn('%s is a boolean image: setting True to 1 and False to 0' % fname)\n"
     ]
    },
    {
     "name": "stdout",
     "output_type": "stream",
     "text": [
      "Processing image ../../datasets/cityscapes-dataset/leftImg8bit_trainvaltest/leftImg8bit/train/aachen/aachen_000044_000019_leftImg8bit.png\n"
     ]
    },
    {
     "name": "stderr",
     "output_type": "stream",
     "text": [
      "/usr/local/lib/python3.7/site-packages/skimage/io/_io.py:142: UserWarning: ../../datasets/aurora/instagan/train/sampleA_seg/697_0.png is a boolean image: setting True to 1 and False to 0\n",
      "  warn('%s is a boolean image: setting True to 1 and False to 0' % fname)\n",
      "/usr/local/lib/python3.7/site-packages/skimage/io/_io.py:142: UserWarning: ../../datasets/aurora/instagan/train/sampleA_seg/697_1.png is a boolean image: setting True to 1 and False to 0\n",
      "  warn('%s is a boolean image: setting True to 1 and False to 0' % fname)\n",
      "/usr/local/lib/python3.7/site-packages/skimage/io/_io.py:140: UserWarning: ../../datasets/aurora/instagan/train/sampleA_seg/697_2.png is a low contrast image\n",
      "  warn('%s is a low contrast image' % fname)\n",
      "/usr/local/lib/python3.7/site-packages/skimage/io/_io.py:142: UserWarning: ../../datasets/aurora/instagan/train/sampleA_seg/697_2.png is a boolean image: setting True to 1 and False to 0\n",
      "  warn('%s is a boolean image: setting True to 1 and False to 0' % fname)\n",
      "/usr/local/lib/python3.7/site-packages/skimage/io/_io.py:140: UserWarning: ../../datasets/aurora/instagan/train/sampleA_seg/697_3.png is a low contrast image\n",
      "  warn('%s is a low contrast image' % fname)\n",
      "/usr/local/lib/python3.7/site-packages/skimage/io/_io.py:142: UserWarning: ../../datasets/aurora/instagan/train/sampleA_seg/697_3.png is a boolean image: setting True to 1 and False to 0\n",
      "  warn('%s is a boolean image: setting True to 1 and False to 0' % fname)\n",
      "/usr/local/lib/python3.7/site-packages/skimage/io/_io.py:140: UserWarning: ../../datasets/aurora/instagan/train/sampleA_seg/697_4.png is a low contrast image\n",
      "  warn('%s is a low contrast image' % fname)\n",
      "/usr/local/lib/python3.7/site-packages/skimage/io/_io.py:142: UserWarning: ../../datasets/aurora/instagan/train/sampleA_seg/697_4.png is a boolean image: setting True to 1 and False to 0\n",
      "  warn('%s is a boolean image: setting True to 1 and False to 0' % fname)\n"
     ]
    },
    {
     "name": "stdout",
     "output_type": "stream",
     "text": [
      "Processing image ../../datasets/cityscapes-dataset/leftImg8bit_trainvaltest/leftImg8bit/train/aachen/aachen_000106_000019_leftImg8bit.png\n"
     ]
    },
    {
     "name": "stderr",
     "output_type": "stream",
     "text": [
      "/usr/local/lib/python3.7/site-packages/skimage/io/_io.py:142: UserWarning: ../../datasets/aurora/instagan/train/sampleA_seg/698_0.png is a boolean image: setting True to 1 and False to 0\n",
      "  warn('%s is a boolean image: setting True to 1 and False to 0' % fname)\n",
      "/usr/local/lib/python3.7/site-packages/skimage/io/_io.py:140: UserWarning: ../../datasets/aurora/instagan/train/sampleA_seg/698_1.png is a low contrast image\n",
      "  warn('%s is a low contrast image' % fname)\n",
      "/usr/local/lib/python3.7/site-packages/skimage/io/_io.py:142: UserWarning: ../../datasets/aurora/instagan/train/sampleA_seg/698_1.png is a boolean image: setting True to 1 and False to 0\n",
      "  warn('%s is a boolean image: setting True to 1 and False to 0' % fname)\n",
      "/usr/local/lib/python3.7/site-packages/skimage/io/_io.py:140: UserWarning: ../../datasets/aurora/instagan/train/sampleA_seg/698_2.png is a low contrast image\n",
      "  warn('%s is a low contrast image' % fname)\n",
      "/usr/local/lib/python3.7/site-packages/skimage/io/_io.py:142: UserWarning: ../../datasets/aurora/instagan/train/sampleA_seg/698_2.png is a boolean image: setting True to 1 and False to 0\n",
      "  warn('%s is a boolean image: setting True to 1 and False to 0' % fname)\n",
      "/usr/local/lib/python3.7/site-packages/skimage/io/_io.py:140: UserWarning: ../../datasets/aurora/instagan/train/sampleA_seg/698_3.png is a low contrast image\n",
      "  warn('%s is a low contrast image' % fname)\n",
      "/usr/local/lib/python3.7/site-packages/skimage/io/_io.py:142: UserWarning: ../../datasets/aurora/instagan/train/sampleA_seg/698_3.png is a boolean image: setting True to 1 and False to 0\n",
      "  warn('%s is a boolean image: setting True to 1 and False to 0' % fname)\n"
     ]
    },
    {
     "name": "stdout",
     "output_type": "stream",
     "text": [
      "Processing image ../../datasets/cityscapes-dataset/leftImg8bit_trainvaltest/leftImg8bit/train/aachen/aachen_000075_000019_leftImg8bit.png\n"
     ]
    },
    {
     "name": "stderr",
     "output_type": "stream",
     "text": [
      "/usr/local/lib/python3.7/site-packages/skimage/io/_io.py:142: UserWarning: ../../datasets/aurora/instagan/train/sampleA_seg/699_0.png is a boolean image: setting True to 1 and False to 0\n",
      "  warn('%s is a boolean image: setting True to 1 and False to 0' % fname)\n",
      "/usr/local/lib/python3.7/site-packages/skimage/io/_io.py:142: UserWarning: ../../datasets/aurora/instagan/train/sampleA_seg/699_1.png is a boolean image: setting True to 1 and False to 0\n",
      "  warn('%s is a boolean image: setting True to 1 and False to 0' % fname)\n",
      "/usr/local/lib/python3.7/site-packages/skimage/io/_io.py:142: UserWarning: ../../datasets/aurora/instagan/train/sampleA_seg/699_2.png is a boolean image: setting True to 1 and False to 0\n",
      "  warn('%s is a boolean image: setting True to 1 and False to 0' % fname)\n",
      "/usr/local/lib/python3.7/site-packages/skimage/io/_io.py:140: UserWarning: ../../datasets/aurora/instagan/train/sampleA_seg/699_3.png is a low contrast image\n",
      "  warn('%s is a low contrast image' % fname)\n",
      "/usr/local/lib/python3.7/site-packages/skimage/io/_io.py:142: UserWarning: ../../datasets/aurora/instagan/train/sampleA_seg/699_3.png is a boolean image: setting True to 1 and False to 0\n",
      "  warn('%s is a boolean image: setting True to 1 and False to 0' % fname)\n"
     ]
    },
    {
     "name": "stdout",
     "output_type": "stream",
     "text": [
      "Processing image ../../datasets/cityscapes-dataset/leftImg8bit_trainvaltest/leftImg8bit/train/aachen/aachen_000173_000019_leftImg8bit.png\n"
     ]
    },
    {
     "name": "stderr",
     "output_type": "stream",
     "text": [
      "/usr/local/lib/python3.7/site-packages/skimage/io/_io.py:142: UserWarning: ../../datasets/aurora/instagan/train/sampleA_seg/700_0.png is a boolean image: setting True to 1 and False to 0\n",
      "  warn('%s is a boolean image: setting True to 1 and False to 0' % fname)\n",
      "/usr/local/lib/python3.7/site-packages/skimage/io/_io.py:142: UserWarning: ../../datasets/aurora/instagan/train/sampleA_seg/700_1.png is a boolean image: setting True to 1 and False to 0\n",
      "  warn('%s is a boolean image: setting True to 1 and False to 0' % fname)\n",
      "/usr/local/lib/python3.7/site-packages/skimage/io/_io.py:142: UserWarning: ../../datasets/aurora/instagan/train/sampleA_seg/700_2.png is a boolean image: setting True to 1 and False to 0\n",
      "  warn('%s is a boolean image: setting True to 1 and False to 0' % fname)\n"
     ]
    },
    {
     "name": "stdout",
     "output_type": "stream",
     "text": [
      "Processing image ../../datasets/cityscapes-dataset/leftImg8bit_trainvaltest/leftImg8bit/train/aachen/aachen_000000_000019_leftImg8bit.png\n"
     ]
    },
    {
     "name": "stderr",
     "output_type": "stream",
     "text": [
      "/usr/local/lib/python3.7/site-packages/skimage/io/_io.py:142: UserWarning: ../../datasets/aurora/instagan/train/sampleA_seg/701_0.png is a boolean image: setting True to 1 and False to 0\n",
      "  warn('%s is a boolean image: setting True to 1 and False to 0' % fname)\n",
      "/usr/local/lib/python3.7/site-packages/skimage/io/_io.py:142: UserWarning: ../../datasets/aurora/instagan/train/sampleA_seg/701_1.png is a boolean image: setting True to 1 and False to 0\n",
      "  warn('%s is a boolean image: setting True to 1 and False to 0' % fname)\n"
     ]
    },
    {
     "name": "stdout",
     "output_type": "stream",
     "text": [
      "Processing image ../../datasets/cityscapes-dataset/leftImg8bit_trainvaltest/leftImg8bit/train/aachen/aachen_000088_000019_leftImg8bit.png\n"
     ]
    },
    {
     "name": "stderr",
     "output_type": "stream",
     "text": [
      "/usr/local/lib/python3.7/site-packages/skimage/io/_io.py:142: UserWarning: ../../datasets/aurora/instagan/train/sampleA_seg/702_0.png is a boolean image: setting True to 1 and False to 0\n",
      "  warn('%s is a boolean image: setting True to 1 and False to 0' % fname)\n"
     ]
    },
    {
     "name": "stdout",
     "output_type": "stream",
     "text": [
      "Processing image ../../datasets/cityscapes-dataset/leftImg8bit_trainvaltest/leftImg8bit/train/aachen/aachen_000049_000019_leftImg8bit.png\n"
     ]
    },
    {
     "name": "stderr",
     "output_type": "stream",
     "text": [
      "/usr/local/lib/python3.7/site-packages/skimage/io/_io.py:140: UserWarning: ../../datasets/aurora/instagan/train/sampleA_seg/703_0.png is a low contrast image\n",
      "  warn('%s is a low contrast image' % fname)\n",
      "/usr/local/lib/python3.7/site-packages/skimage/io/_io.py:142: UserWarning: ../../datasets/aurora/instagan/train/sampleA_seg/703_0.png is a boolean image: setting True to 1 and False to 0\n",
      "  warn('%s is a boolean image: setting True to 1 and False to 0' % fname)\n",
      "/usr/local/lib/python3.7/site-packages/skimage/io/_io.py:142: UserWarning: ../../datasets/aurora/instagan/train/sampleA_seg/703_1.png is a boolean image: setting True to 1 and False to 0\n",
      "  warn('%s is a boolean image: setting True to 1 and False to 0' % fname)\n",
      "/usr/local/lib/python3.7/site-packages/skimage/io/_io.py:142: UserWarning: ../../datasets/aurora/instagan/train/sampleA_seg/703_2.png is a boolean image: setting True to 1 and False to 0\n",
      "  warn('%s is a boolean image: setting True to 1 and False to 0' % fname)\n"
     ]
    },
    {
     "name": "stdout",
     "output_type": "stream",
     "text": [
      "Processing image ../../datasets/cityscapes-dataset/leftImg8bit_trainvaltest/leftImg8bit/train/aachen/aachen_000145_000019_leftImg8bit.png\n"
     ]
    },
    {
     "name": "stderr",
     "output_type": "stream",
     "text": [
      "/usr/local/lib/python3.7/site-packages/skimage/io/_io.py:142: UserWarning: ../../datasets/aurora/instagan/train/sampleA_seg/704_0.png is a boolean image: setting True to 1 and False to 0\n",
      "  warn('%s is a boolean image: setting True to 1 and False to 0' % fname)\n"
     ]
    },
    {
     "name": "stdout",
     "output_type": "stream",
     "text": [
      "Processing image ../../datasets/cityscapes-dataset/leftImg8bit_trainvaltest/leftImg8bit/train/aachen/aachen_000036_000019_leftImg8bit.png\n"
     ]
    },
    {
     "name": "stderr",
     "output_type": "stream",
     "text": [
      "/usr/local/lib/python3.7/site-packages/skimage/io/_io.py:142: UserWarning: ../../datasets/aurora/instagan/train/sampleA_seg/705_0.png is a boolean image: setting True to 1 and False to 0\n",
      "  warn('%s is a boolean image: setting True to 1 and False to 0' % fname)\n"
     ]
    },
    {
     "name": "stdout",
     "output_type": "stream",
     "text": [
      "Processing image ../../datasets/cityscapes-dataset/leftImg8bit_trainvaltest/leftImg8bit/train/aachen/aachen_000082_000019_leftImg8bit.png\n"
     ]
    },
    {
     "name": "stderr",
     "output_type": "stream",
     "text": [
      "/usr/local/lib/python3.7/site-packages/skimage/io/_io.py:142: UserWarning: ../../datasets/aurora/instagan/train/sampleA_seg/706_0.png is a boolean image: setting True to 1 and False to 0\n",
      "  warn('%s is a boolean image: setting True to 1 and False to 0' % fname)\n"
     ]
    },
    {
     "name": "stdout",
     "output_type": "stream",
     "text": [
      "Processing image ../../datasets/cityscapes-dataset/leftImg8bit_trainvaltest/leftImg8bit/train/aachen/aachen_000130_000019_leftImg8bit.png\n"
     ]
    },
    {
     "name": "stderr",
     "output_type": "stream",
     "text": [
      "/usr/local/lib/python3.7/site-packages/skimage/io/_io.py:142: UserWarning: ../../datasets/aurora/instagan/train/sampleA_seg/707_0.png is a boolean image: setting True to 1 and False to 0\n",
      "  warn('%s is a boolean image: setting True to 1 and False to 0' % fname)\n"
     ]
    },
    {
     "name": "stdout",
     "output_type": "stream",
     "text": [
      "Processing image ../../datasets/cityscapes-dataset/leftImg8bit_trainvaltest/leftImg8bit/train/aachen/aachen_000043_000019_leftImg8bit.png\n"
     ]
    },
    {
     "name": "stderr",
     "output_type": "stream",
     "text": [
      "/usr/local/lib/python3.7/site-packages/skimage/io/_io.py:142: UserWarning: ../../datasets/aurora/instagan/train/sampleA_seg/708_0.png is a boolean image: setting True to 1 and False to 0\n",
      "  warn('%s is a boolean image: setting True to 1 and False to 0' % fname)\n",
      "/usr/local/lib/python3.7/site-packages/skimage/io/_io.py:142: UserWarning: ../../datasets/aurora/instagan/train/sampleA_seg/708_1.png is a boolean image: setting True to 1 and False to 0\n",
      "  warn('%s is a boolean image: setting True to 1 and False to 0' % fname)\n",
      "/usr/local/lib/python3.7/site-packages/skimage/io/_io.py:142: UserWarning: ../../datasets/aurora/instagan/train/sampleA_seg/708_2.png is a boolean image: setting True to 1 and False to 0\n",
      "  warn('%s is a boolean image: setting True to 1 and False to 0' % fname)\n"
     ]
    },
    {
     "name": "stdout",
     "output_type": "stream",
     "text": [
      "Processing image ../../datasets/cityscapes-dataset/leftImg8bit_trainvaltest/leftImg8bit/train/aachen/aachen_000101_000019_leftImg8bit.png\n"
     ]
    },
    {
     "name": "stderr",
     "output_type": "stream",
     "text": [
      "/usr/local/lib/python3.7/site-packages/skimage/io/_io.py:142: UserWarning: ../../datasets/aurora/instagan/train/sampleA_seg/709_0.png is a boolean image: setting True to 1 and False to 0\n",
      "  warn('%s is a boolean image: setting True to 1 and False to 0' % fname)\n",
      "/usr/local/lib/python3.7/site-packages/skimage/io/_io.py:140: UserWarning: ../../datasets/aurora/instagan/train/sampleA_seg/709_1.png is a low contrast image\n",
      "  warn('%s is a low contrast image' % fname)\n",
      "/usr/local/lib/python3.7/site-packages/skimage/io/_io.py:142: UserWarning: ../../datasets/aurora/instagan/train/sampleA_seg/709_1.png is a boolean image: setting True to 1 and False to 0\n",
      "  warn('%s is a boolean image: setting True to 1 and False to 0' % fname)\n",
      "/usr/local/lib/python3.7/site-packages/skimage/io/_io.py:140: UserWarning: ../../datasets/aurora/instagan/train/sampleA_seg/709_2.png is a low contrast image\n",
      "  warn('%s is a low contrast image' % fname)\n",
      "/usr/local/lib/python3.7/site-packages/skimage/io/_io.py:142: UserWarning: ../../datasets/aurora/instagan/train/sampleA_seg/709_2.png is a boolean image: setting True to 1 and False to 0\n",
      "  warn('%s is a boolean image: setting True to 1 and False to 0' % fname)\n"
     ]
    },
    {
     "name": "stdout",
     "output_type": "stream",
     "text": [
      "Processing image ../../datasets/cityscapes-dataset/leftImg8bit_trainvaltest/leftImg8bit/train/aachen/aachen_000072_000019_leftImg8bit.png\n"
     ]
    },
    {
     "name": "stderr",
     "output_type": "stream",
     "text": [
      "/usr/local/lib/python3.7/site-packages/skimage/io/_io.py:142: UserWarning: ../../datasets/aurora/instagan/train/sampleA_seg/710_0.png is a boolean image: setting True to 1 and False to 0\n",
      "  warn('%s is a boolean image: setting True to 1 and False to 0' % fname)\n",
      "/usr/local/lib/python3.7/site-packages/skimage/io/_io.py:142: UserWarning: ../../datasets/aurora/instagan/train/sampleA_seg/710_1.png is a boolean image: setting True to 1 and False to 0\n",
      "  warn('%s is a boolean image: setting True to 1 and False to 0' % fname)\n",
      "/usr/local/lib/python3.7/site-packages/skimage/io/_io.py:142: UserWarning: ../../datasets/aurora/instagan/train/sampleA_seg/710_2.png is a boolean image: setting True to 1 and False to 0\n",
      "  warn('%s is a boolean image: setting True to 1 and False to 0' % fname)\n",
      "/usr/local/lib/python3.7/site-packages/skimage/io/_io.py:140: UserWarning: ../../datasets/aurora/instagan/train/sampleA_seg/710_3.png is a low contrast image\n",
      "  warn('%s is a low contrast image' % fname)\n",
      "/usr/local/lib/python3.7/site-packages/skimage/io/_io.py:142: UserWarning: ../../datasets/aurora/instagan/train/sampleA_seg/710_3.png is a boolean image: setting True to 1 and False to 0\n",
      "  warn('%s is a boolean image: setting True to 1 and False to 0' % fname)\n"
     ]
    },
    {
     "name": "stdout",
     "output_type": "stream",
     "text": [
      "Processing image ../../datasets/cityscapes-dataset/leftImg8bit_trainvaltest/leftImg8bit/train/aachen/aachen_000007_000019_leftImg8bit.png\n"
     ]
    },
    {
     "name": "stderr",
     "output_type": "stream",
     "text": [
      "/usr/local/lib/python3.7/site-packages/skimage/io/_io.py:142: UserWarning: ../../datasets/aurora/instagan/train/sampleA_seg/711_0.png is a boolean image: setting True to 1 and False to 0\n",
      "  warn('%s is a boolean image: setting True to 1 and False to 0' % fname)\n"
     ]
    },
    {
     "name": "stdout",
     "output_type": "stream",
     "text": [
      "Processing image ../../datasets/cityscapes-dataset/leftImg8bit_trainvaltest/leftImg8bit/train/aachen/aachen_000078_000019_leftImg8bit.png\n"
     ]
    },
    {
     "name": "stderr",
     "output_type": "stream",
     "text": [
      "/usr/local/lib/python3.7/site-packages/skimage/io/_io.py:140: UserWarning: ../../datasets/aurora/instagan/train/sampleA_seg/712_0.png is a low contrast image\n",
      "  warn('%s is a low contrast image' % fname)\n",
      "/usr/local/lib/python3.7/site-packages/skimage/io/_io.py:142: UserWarning: ../../datasets/aurora/instagan/train/sampleA_seg/712_0.png is a boolean image: setting True to 1 and False to 0\n",
      "  warn('%s is a boolean image: setting True to 1 and False to 0' % fname)\n",
      "/usr/local/lib/python3.7/site-packages/skimage/io/_io.py:140: UserWarning: ../../datasets/aurora/instagan/train/sampleA_seg/712_1.png is a low contrast image\n",
      "  warn('%s is a low contrast image' % fname)\n",
      "/usr/local/lib/python3.7/site-packages/skimage/io/_io.py:142: UserWarning: ../../datasets/aurora/instagan/train/sampleA_seg/712_1.png is a boolean image: setting True to 1 and False to 0\n",
      "  warn('%s is a boolean image: setting True to 1 and False to 0' % fname)\n",
      "/usr/local/lib/python3.7/site-packages/skimage/io/_io.py:140: UserWarning: ../../datasets/aurora/instagan/train/sampleA_seg/712_2.png is a low contrast image\n",
      "  warn('%s is a low contrast image' % fname)\n",
      "/usr/local/lib/python3.7/site-packages/skimage/io/_io.py:142: UserWarning: ../../datasets/aurora/instagan/train/sampleA_seg/712_2.png is a boolean image: setting True to 1 and False to 0\n",
      "  warn('%s is a boolean image: setting True to 1 and False to 0' % fname)\n",
      "/usr/local/lib/python3.7/site-packages/skimage/io/_io.py:142: UserWarning: ../../datasets/aurora/instagan/train/sampleA_seg/712_3.png is a boolean image: setting True to 1 and False to 0\n",
      "  warn('%s is a boolean image: setting True to 1 and False to 0' % fname)\n",
      "/usr/local/lib/python3.7/site-packages/skimage/io/_io.py:142: UserWarning: ../../datasets/aurora/instagan/train/sampleA_seg/712_4.png is a boolean image: setting True to 1 and False to 0\n",
      "  warn('%s is a boolean image: setting True to 1 and False to 0' % fname)\n",
      "/usr/local/lib/python3.7/site-packages/skimage/io/_io.py:142: UserWarning: ../../datasets/aurora/instagan/train/sampleA_seg/712_5.png is a boolean image: setting True to 1 and False to 0\n",
      "  warn('%s is a boolean image: setting True to 1 and False to 0' % fname)\n"
     ]
    },
    {
     "name": "stdout",
     "output_type": "stream",
     "text": [
      "Processing image ../../datasets/cityscapes-dataset/leftImg8bit_trainvaltest/leftImg8bit/train/aachen/aachen_000157_000019_leftImg8bit.png\n"
     ]
    },
    {
     "name": "stderr",
     "output_type": "stream",
     "text": [
      "/usr/local/lib/python3.7/site-packages/skimage/io/_io.py:142: UserWarning: ../../datasets/aurora/instagan/train/sampleA_seg/713_0.png is a boolean image: setting True to 1 and False to 0\n",
      "  warn('%s is a boolean image: setting True to 1 and False to 0' % fname)\n"
     ]
    },
    {
     "name": "stdout",
     "output_type": "stream",
     "text": [
      "Processing image ../../datasets/cityscapes-dataset/leftImg8bit_trainvaltest/leftImg8bit/train/aachen/aachen_000024_000019_leftImg8bit.png\n"
     ]
    },
    {
     "name": "stderr",
     "output_type": "stream",
     "text": [
      "/usr/local/lib/python3.7/site-packages/skimage/io/_io.py:142: UserWarning: ../../datasets/aurora/instagan/train/sampleA_seg/714_0.png is a boolean image: setting True to 1 and False to 0\n",
      "  warn('%s is a boolean image: setting True to 1 and False to 0' % fname)\n"
     ]
    },
    {
     "name": "stdout",
     "output_type": "stream",
     "text": [
      "Processing image ../../datasets/cityscapes-dataset/leftImg8bit_trainvaltest/leftImg8bit/train/aachen/aachen_000122_000019_leftImg8bit.png\n"
     ]
    },
    {
     "name": "stderr",
     "output_type": "stream",
     "text": [
      "/usr/local/lib/python3.7/site-packages/skimage/io/_io.py:142: UserWarning: ../../datasets/aurora/instagan/train/sampleA_seg/715_0.png is a boolean image: setting True to 1 and False to 0\n",
      "  warn('%s is a boolean image: setting True to 1 and False to 0' % fname)\n"
     ]
    },
    {
     "name": "stdout",
     "output_type": "stream",
     "text": [
      "Processing image ../../datasets/cityscapes-dataset/leftImg8bit_trainvaltest/leftImg8bit/train/aachen/aachen_000051_000019_leftImg8bit.png\n"
     ]
    },
    {
     "name": "stderr",
     "output_type": "stream",
     "text": [
      "/usr/local/lib/python3.7/site-packages/skimage/io/_io.py:142: UserWarning: ../../datasets/aurora/instagan/train/sampleA_seg/716_0.png is a boolean image: setting True to 1 and False to 0\n",
      "  warn('%s is a boolean image: setting True to 1 and False to 0' % fname)\n",
      "/usr/local/lib/python3.7/site-packages/skimage/io/_io.py:142: UserWarning: ../../datasets/aurora/instagan/train/sampleA_seg/716_1.png is a boolean image: setting True to 1 and False to 0\n",
      "  warn('%s is a boolean image: setting True to 1 and False to 0' % fname)\n"
     ]
    },
    {
     "name": "stdout",
     "output_type": "stream",
     "text": [
      "Processing image ../../datasets/cityscapes-dataset/leftImg8bit_trainvaltest/leftImg8bit/train/aachen/aachen_000090_000019_leftImg8bit.png\n"
     ]
    },
    {
     "name": "stderr",
     "output_type": "stream",
     "text": [
      "/usr/local/lib/python3.7/site-packages/skimage/io/_io.py:142: UserWarning: ../../datasets/aurora/instagan/train/sampleA_seg/717_0.png is a boolean image: setting True to 1 and False to 0\n",
      "  warn('%s is a boolean image: setting True to 1 and False to 0' % fname)\n"
     ]
    },
    {
     "name": "stdout",
     "output_type": "stream",
     "text": [
      "Processing image ../../datasets/cityscapes-dataset/leftImg8bit_trainvaltest/leftImg8bit/train/aachen/aachen_000128_000019_leftImg8bit.png\n"
     ]
    },
    {
     "name": "stderr",
     "output_type": "stream",
     "text": [
      "/usr/local/lib/python3.7/site-packages/skimage/io/_io.py:142: UserWarning: ../../datasets/aurora/instagan/train/sampleA_seg/718_0.png is a boolean image: setting True to 1 and False to 0\n",
      "  warn('%s is a boolean image: setting True to 1 and False to 0' % fname)\n"
     ]
    },
    {
     "name": "stdout",
     "output_type": "stream",
     "text": [
      "Processing image ../../datasets/cityscapes-dataset/leftImg8bit_trainvaltest/leftImg8bit/train/aachen/aachen_000119_000019_leftImg8bit.png\n"
     ]
    },
    {
     "name": "stderr",
     "output_type": "stream",
     "text": [
      "/usr/local/lib/python3.7/site-packages/skimage/io/_io.py:142: UserWarning: ../../datasets/aurora/instagan/train/sampleA_seg/719_0.png is a boolean image: setting True to 1 and False to 0\n",
      "  warn('%s is a boolean image: setting True to 1 and False to 0' % fname)\n"
     ]
    },
    {
     "name": "stdout",
     "output_type": "stream",
     "text": [
      "Processing image ../../datasets/cityscapes-dataset/leftImg8bit_trainvaltest/leftImg8bit/train/aachen/aachen_000113_000019_leftImg8bit.png\n"
     ]
    },
    {
     "name": "stderr",
     "output_type": "stream",
     "text": [
      "/usr/local/lib/python3.7/site-packages/skimage/io/_io.py:140: UserWarning: ../../datasets/aurora/instagan/train/sampleA_seg/720_0.png is a low contrast image\n",
      "  warn('%s is a low contrast image' % fname)\n",
      "/usr/local/lib/python3.7/site-packages/skimage/io/_io.py:142: UserWarning: ../../datasets/aurora/instagan/train/sampleA_seg/720_0.png is a boolean image: setting True to 1 and False to 0\n",
      "  warn('%s is a boolean image: setting True to 1 and False to 0' % fname)\n"
     ]
    },
    {
     "name": "stdout",
     "output_type": "stream",
     "text": [
      "Processing image ../../datasets/cityscapes-dataset/leftImg8bit_trainvaltest/leftImg8bit/train/aachen/aachen_000060_000019_leftImg8bit.png\n"
     ]
    },
    {
     "name": "stderr",
     "output_type": "stream",
     "text": [
      "/usr/local/lib/python3.7/site-packages/skimage/io/_io.py:142: UserWarning: ../../datasets/aurora/instagan/train/sampleA_seg/721_0.png is a boolean image: setting True to 1 and False to 0\n",
      "  warn('%s is a boolean image: setting True to 1 and False to 0' % fname)\n",
      "/usr/local/lib/python3.7/site-packages/skimage/io/_io.py:142: UserWarning: ../../datasets/aurora/instagan/train/sampleA_seg/721_1.png is a boolean image: setting True to 1 and False to 0\n",
      "  warn('%s is a boolean image: setting True to 1 and False to 0' % fname)\n",
      "/usr/local/lib/python3.7/site-packages/skimage/io/_io.py:142: UserWarning: ../../datasets/aurora/instagan/train/sampleA_seg/721_2.png is a boolean image: setting True to 1 and False to 0\n",
      "  warn('%s is a boolean image: setting True to 1 and False to 0' % fname)\n",
      "/usr/local/lib/python3.7/site-packages/skimage/io/_io.py:142: UserWarning: ../../datasets/aurora/instagan/train/sampleA_seg/721_3.png is a boolean image: setting True to 1 and False to 0\n",
      "  warn('%s is a boolean image: setting True to 1 and False to 0' % fname)\n",
      "/usr/local/lib/python3.7/site-packages/skimage/io/_io.py:140: UserWarning: ../../datasets/aurora/instagan/train/sampleA_seg/721_4.png is a low contrast image\n",
      "  warn('%s is a low contrast image' % fname)\n",
      "/usr/local/lib/python3.7/site-packages/skimage/io/_io.py:142: UserWarning: ../../datasets/aurora/instagan/train/sampleA_seg/721_4.png is a boolean image: setting True to 1 and False to 0\n",
      "  warn('%s is a boolean image: setting True to 1 and False to 0' % fname)\n"
     ]
    },
    {
     "name": "stdout",
     "output_type": "stream",
     "text": [
      "Processing image ../../datasets/cityscapes-dataset/leftImg8bit_trainvaltest/leftImg8bit/train/aachen/aachen_000166_000019_leftImg8bit.png\n"
     ]
    },
    {
     "name": "stderr",
     "output_type": "stream",
     "text": [
      "/usr/local/lib/python3.7/site-packages/skimage/io/_io.py:142: UserWarning: ../../datasets/aurora/instagan/train/sampleA_seg/722_0.png is a boolean image: setting True to 1 and False to 0\n",
      "  warn('%s is a boolean image: setting True to 1 and False to 0' % fname)\n"
     ]
    },
    {
     "name": "stdout",
     "output_type": "stream",
     "text": [
      "Processing image ../../datasets/cityscapes-dataset/leftImg8bit_trainvaltest/leftImg8bit/train/aachen/aachen_000015_000019_leftImg8bit.png\n"
     ]
    },
    {
     "name": "stderr",
     "output_type": "stream",
     "text": [
      "/usr/local/lib/python3.7/site-packages/skimage/io/_io.py:142: UserWarning: ../../datasets/aurora/instagan/train/sampleA_seg/723_0.png is a boolean image: setting True to 1 and False to 0\n",
      "  warn('%s is a boolean image: setting True to 1 and False to 0' % fname)\n"
     ]
    },
    {
     "name": "stdout",
     "output_type": "stream",
     "text": [
      "Processing image ../../datasets/cityscapes-dataset/leftImg8bit_trainvaltest/leftImg8bit/train/aachen/aachen_000150_000019_leftImg8bit.png\n"
     ]
    },
    {
     "name": "stderr",
     "output_type": "stream",
     "text": [
      "/usr/local/lib/python3.7/site-packages/skimage/io/_io.py:142: UserWarning: ../../datasets/aurora/instagan/train/sampleA_seg/724_0.png is a boolean image: setting True to 1 and False to 0\n",
      "  warn('%s is a boolean image: setting True to 1 and False to 0' % fname)\n",
      "/usr/local/lib/python3.7/site-packages/skimage/io/_io.py:142: UserWarning: ../../datasets/aurora/instagan/train/sampleA_seg/724_1.png is a boolean image: setting True to 1 and False to 0\n",
      "  warn('%s is a boolean image: setting True to 1 and False to 0' % fname)\n"
     ]
    },
    {
     "name": "stdout",
     "output_type": "stream",
     "text": [
      "Processing image ../../datasets/cityscapes-dataset/leftImg8bit_trainvaltest/leftImg8bit/train/aachen/aachen_000023_000019_leftImg8bit.png\n"
     ]
    },
    {
     "name": "stderr",
     "output_type": "stream",
     "text": [
      "/usr/local/lib/python3.7/site-packages/skimage/io/_io.py:142: UserWarning: ../../datasets/aurora/instagan/train/sampleA_seg/725_0.png is a boolean image: setting True to 1 and False to 0\n",
      "  warn('%s is a boolean image: setting True to 1 and False to 0' % fname)\n"
     ]
    },
    {
     "name": "stdout",
     "output_type": "stream",
     "text": [
      "Processing image ../../datasets/cityscapes-dataset/leftImg8bit_trainvaltest/leftImg8bit/train/aachen/aachen_000125_000019_leftImg8bit.png\n"
     ]
    },
    {
     "name": "stderr",
     "output_type": "stream",
     "text": [
      "/usr/local/lib/python3.7/site-packages/skimage/io/_io.py:142: UserWarning: ../../datasets/aurora/instagan/train/sampleA_seg/726_0.png is a boolean image: setting True to 1 and False to 0\n",
      "  warn('%s is a boolean image: setting True to 1 and False to 0' % fname)\n",
      "/usr/local/lib/python3.7/site-packages/skimage/io/_io.py:142: UserWarning: ../../datasets/aurora/instagan/train/sampleA_seg/726_1.png is a boolean image: setting True to 1 and False to 0\n",
      "  warn('%s is a boolean image: setting True to 1 and False to 0' % fname)\n"
     ]
    },
    {
     "name": "stdout",
     "output_type": "stream",
     "text": [
      "Processing image ../../datasets/cityscapes-dataset/leftImg8bit_trainvaltest/leftImg8bit/train/aachen/aachen_000056_000019_leftImg8bit.png\n"
     ]
    },
    {
     "name": "stderr",
     "output_type": "stream",
     "text": [
      "/usr/local/lib/python3.7/site-packages/skimage/io/_io.py:142: UserWarning: ../../datasets/aurora/instagan/train/sampleA_seg/727_0.png is a boolean image: setting True to 1 and False to 0\n",
      "  warn('%s is a boolean image: setting True to 1 and False to 0' % fname)\n"
     ]
    },
    {
     "name": "stdout",
     "output_type": "stream",
     "text": [
      "Processing image ../../datasets/cityscapes-dataset/leftImg8bit_trainvaltest/leftImg8bit/train/aachen/aachen_000097_000019_leftImg8bit.png\n"
     ]
    },
    {
     "name": "stderr",
     "output_type": "stream",
     "text": [
      "/usr/local/lib/python3.7/site-packages/skimage/io/_io.py:142: UserWarning: ../../datasets/aurora/instagan/train/sampleA_seg/728_0.png is a boolean image: setting True to 1 and False to 0\n",
      "  warn('%s is a boolean image: setting True to 1 and False to 0' % fname)\n"
     ]
    },
    {
     "name": "stdout",
     "output_type": "stream",
     "text": [
      "Processing image ../../datasets/cityscapes-dataset/leftImg8bit_trainvaltest/leftImg8bit/train/aachen/aachen_000029_000019_leftImg8bit.png\n"
     ]
    },
    {
     "name": "stderr",
     "output_type": "stream",
     "text": [
      "/usr/local/lib/python3.7/site-packages/skimage/io/_io.py:142: UserWarning: ../../datasets/aurora/instagan/train/sampleA_seg/729_0.png is a boolean image: setting True to 1 and False to 0\n",
      "  warn('%s is a boolean image: setting True to 1 and False to 0' % fname)\n",
      "/usr/local/lib/python3.7/site-packages/skimage/io/_io.py:142: UserWarning: ../../datasets/aurora/instagan/train/sampleA_seg/729_1.png is a boolean image: setting True to 1 and False to 0\n",
      "  warn('%s is a boolean image: setting True to 1 and False to 0' % fname)\n",
      "/usr/local/lib/python3.7/site-packages/skimage/io/_io.py:142: UserWarning: ../../datasets/aurora/instagan/train/sampleA_seg/729_2.png is a boolean image: setting True to 1 and False to 0\n",
      "  warn('%s is a boolean image: setting True to 1 and False to 0' % fname)\n"
     ]
    },
    {
     "name": "stdout",
     "output_type": "stream",
     "text": [
      "Processing image ../../datasets/cityscapes-dataset/leftImg8bit_trainvaltest/leftImg8bit/train/aachen/aachen_000018_000019_leftImg8bit.png\n"
     ]
    },
    {
     "name": "stderr",
     "output_type": "stream",
     "text": [
      "/usr/local/lib/python3.7/site-packages/skimage/io/_io.py:142: UserWarning: ../../datasets/aurora/instagan/train/sampleA_seg/730_0.png is a boolean image: setting True to 1 and False to 0\n",
      "  warn('%s is a boolean image: setting True to 1 and False to 0' % fname)\n"
     ]
    },
    {
     "name": "stdout",
     "output_type": "stream",
     "text": [
      "Processing image ../../datasets/cityscapes-dataset/leftImg8bit_trainvaltest/leftImg8bit/train/aachen/aachen_000114_000019_leftImg8bit.png\n"
     ]
    },
    {
     "name": "stderr",
     "output_type": "stream",
     "text": [
      "/usr/local/lib/python3.7/site-packages/skimage/io/_io.py:142: UserWarning: ../../datasets/aurora/instagan/train/sampleA_seg/731_0.png is a boolean image: setting True to 1 and False to 0\n",
      "  warn('%s is a boolean image: setting True to 1 and False to 0' % fname)\n"
     ]
    },
    {
     "name": "stdout",
     "output_type": "stream",
     "text": [
      "Processing image ../../datasets/cityscapes-dataset/leftImg8bit_trainvaltest/leftImg8bit/train/aachen/aachen_000067_000019_leftImg8bit.png\n"
     ]
    },
    {
     "name": "stderr",
     "output_type": "stream",
     "text": [
      "/usr/local/lib/python3.7/site-packages/skimage/io/_io.py:142: UserWarning: ../../datasets/aurora/instagan/train/sampleA_seg/732_0.png is a boolean image: setting True to 1 and False to 0\n",
      "  warn('%s is a boolean image: setting True to 1 and False to 0' % fname)\n",
      "/usr/local/lib/python3.7/site-packages/skimage/io/_io.py:140: UserWarning: ../../datasets/aurora/instagan/train/sampleA_seg/732_1.png is a low contrast image\n",
      "  warn('%s is a low contrast image' % fname)\n",
      "/usr/local/lib/python3.7/site-packages/skimage/io/_io.py:142: UserWarning: ../../datasets/aurora/instagan/train/sampleA_seg/732_1.png is a boolean image: setting True to 1 and False to 0\n",
      "  warn('%s is a boolean image: setting True to 1 and False to 0' % fname)\n",
      "/usr/local/lib/python3.7/site-packages/skimage/io/_io.py:142: UserWarning: ../../datasets/aurora/instagan/train/sampleA_seg/732_2.png is a boolean image: setting True to 1 and False to 0\n",
      "  warn('%s is a boolean image: setting True to 1 and False to 0' % fname)\n"
     ]
    },
    {
     "name": "stdout",
     "output_type": "stream",
     "text": [
      "Processing image ../../datasets/cityscapes-dataset/leftImg8bit_trainvaltest/leftImg8bit/train/aachen/aachen_000161_000019_leftImg8bit.png\n"
     ]
    },
    {
     "name": "stderr",
     "output_type": "stream",
     "text": [
      "/usr/local/lib/python3.7/site-packages/skimage/io/_io.py:142: UserWarning: ../../datasets/aurora/instagan/train/sampleA_seg/733_0.png is a boolean image: setting True to 1 and False to 0\n",
      "  warn('%s is a boolean image: setting True to 1 and False to 0' % fname)\n"
     ]
    },
    {
     "name": "stdout",
     "output_type": "stream",
     "text": [
      "Processing image ../../datasets/cityscapes-dataset/leftImg8bit_trainvaltest/leftImg8bit/train/aachen/aachen_000012_000019_leftImg8bit.png\n"
     ]
    },
    {
     "name": "stderr",
     "output_type": "stream",
     "text": [
      "/usr/local/lib/python3.7/site-packages/skimage/io/_io.py:142: UserWarning: ../../datasets/aurora/instagan/train/sampleA_seg/734_0.png is a boolean image: setting True to 1 and False to 0\n",
      "  warn('%s is a boolean image: setting True to 1 and False to 0' % fname)\n",
      "/usr/local/lib/python3.7/site-packages/skimage/io/_io.py:142: UserWarning: ../../datasets/aurora/instagan/train/sampleA_seg/734_1.png is a boolean image: setting True to 1 and False to 0\n",
      "  warn('%s is a boolean image: setting True to 1 and False to 0' % fname)\n"
     ]
    },
    {
     "name": "stdout",
     "output_type": "stream",
     "text": [
      "Processing image ../../datasets/cityscapes-dataset/leftImg8bit_trainvaltest/leftImg8bit/train/aachen/aachen_000159_000019_leftImg8bit.png\n"
     ]
    },
    {
     "name": "stderr",
     "output_type": "stream",
     "text": [
      "/usr/local/lib/python3.7/site-packages/skimage/io/_io.py:140: UserWarning: ../../datasets/aurora/instagan/train/sampleA_seg/735_0.png is a low contrast image\n",
      "  warn('%s is a low contrast image' % fname)\n",
      "/usr/local/lib/python3.7/site-packages/skimage/io/_io.py:142: UserWarning: ../../datasets/aurora/instagan/train/sampleA_seg/735_0.png is a boolean image: setting True to 1 and False to 0\n",
      "  warn('%s is a boolean image: setting True to 1 and False to 0' % fname)\n",
      "/usr/local/lib/python3.7/site-packages/skimage/io/_io.py:142: UserWarning: ../../datasets/aurora/instagan/train/sampleA_seg/735_1.png is a boolean image: setting True to 1 and False to 0\n",
      "  warn('%s is a boolean image: setting True to 1 and False to 0' % fname)\n",
      "/usr/local/lib/python3.7/site-packages/skimage/io/_io.py:140: UserWarning: ../../datasets/aurora/instagan/train/sampleA_seg/735_2.png is a low contrast image\n",
      "  warn('%s is a low contrast image' % fname)\n",
      "/usr/local/lib/python3.7/site-packages/skimage/io/_io.py:142: UserWarning: ../../datasets/aurora/instagan/train/sampleA_seg/735_2.png is a boolean image: setting True to 1 and False to 0\n",
      "  warn('%s is a boolean image: setting True to 1 and False to 0' % fname)\n"
     ]
    },
    {
     "name": "stdout",
     "output_type": "stream",
     "text": [
      "Processing image ../../datasets/cityscapes-dataset/leftImg8bit_trainvaltest/leftImg8bit/train/aachen/aachen_000055_000019_leftImg8bit.png\n",
      "Processing image ../../datasets/cityscapes-dataset/leftImg8bit_trainvaltest/leftImg8bit/train/aachen/aachen_000126_000019_leftImg8bit.png\n"
     ]
    },
    {
     "name": "stderr",
     "output_type": "stream",
     "text": [
      "/usr/local/lib/python3.7/site-packages/skimage/io/_io.py:142: UserWarning: ../../datasets/aurora/instagan/train/sampleA_seg/737_0.png is a boolean image: setting True to 1 and False to 0\n",
      "  warn('%s is a boolean image: setting True to 1 and False to 0' % fname)\n"
     ]
    },
    {
     "name": "stdout",
     "output_type": "stream",
     "text": [
      "Processing image ../../datasets/cityscapes-dataset/leftImg8bit_trainvaltest/leftImg8bit/train/aachen/aachen_000094_000019_leftImg8bit.png\n"
     ]
    },
    {
     "name": "stderr",
     "output_type": "stream",
     "text": [
      "/usr/local/lib/python3.7/site-packages/skimage/io/_io.py:142: UserWarning: ../../datasets/aurora/instagan/train/sampleA_seg/738_0.png is a boolean image: setting True to 1 and False to 0\n",
      "  warn('%s is a boolean image: setting True to 1 and False to 0' % fname)\n",
      "/usr/local/lib/python3.7/site-packages/skimage/io/_io.py:142: UserWarning: ../../datasets/aurora/instagan/train/sampleA_seg/738_1.png is a boolean image: setting True to 1 and False to 0\n",
      "  warn('%s is a boolean image: setting True to 1 and False to 0' % fname)\n"
     ]
    },
    {
     "name": "stdout",
     "output_type": "stream",
     "text": [
      "Processing image ../../datasets/cityscapes-dataset/leftImg8bit_trainvaltest/leftImg8bit/train/aachen/aachen_000020_000019_leftImg8bit.png\n"
     ]
    },
    {
     "name": "stderr",
     "output_type": "stream",
     "text": [
      "/usr/local/lib/python3.7/site-packages/skimage/io/_io.py:142: UserWarning: ../../datasets/aurora/instagan/train/sampleA_seg/739_0.png is a boolean image: setting True to 1 and False to 0\n",
      "  warn('%s is a boolean image: setting True to 1 and False to 0' % fname)\n",
      "/usr/local/lib/python3.7/site-packages/skimage/io/_io.py:142: UserWarning: ../../datasets/aurora/instagan/train/sampleA_seg/739_1.png is a boolean image: setting True to 1 and False to 0\n",
      "  warn('%s is a boolean image: setting True to 1 and False to 0' % fname)\n"
     ]
    },
    {
     "name": "stdout",
     "output_type": "stream",
     "text": [
      "Processing image ../../datasets/cityscapes-dataset/leftImg8bit_trainvaltest/leftImg8bit/train/aachen/aachen_000153_000019_leftImg8bit.png\n",
      "Processing image ../../datasets/cityscapes-dataset/leftImg8bit_trainvaltest/leftImg8bit/train/aachen/aachen_000011_000019_leftImg8bit.png\n"
     ]
    },
    {
     "name": "stderr",
     "output_type": "stream",
     "text": [
      "/usr/local/lib/python3.7/site-packages/skimage/io/_io.py:140: UserWarning: ../../datasets/aurora/instagan/train/sampleA_seg/741_0.png is a low contrast image\n",
      "  warn('%s is a low contrast image' % fname)\n",
      "/usr/local/lib/python3.7/site-packages/skimage/io/_io.py:142: UserWarning: ../../datasets/aurora/instagan/train/sampleA_seg/741_0.png is a boolean image: setting True to 1 and False to 0\n",
      "  warn('%s is a boolean image: setting True to 1 and False to 0' % fname)\n",
      "/usr/local/lib/python3.7/site-packages/skimage/io/_io.py:142: UserWarning: ../../datasets/aurora/instagan/train/sampleA_seg/741_1.png is a boolean image: setting True to 1 and False to 0\n",
      "  warn('%s is a boolean image: setting True to 1 and False to 0' % fname)\n",
      "/usr/local/lib/python3.7/site-packages/skimage/io/_io.py:142: UserWarning: ../../datasets/aurora/instagan/train/sampleA_seg/741_2.png is a boolean image: setting True to 1 and False to 0\n",
      "  warn('%s is a boolean image: setting True to 1 and False to 0' % fname)\n"
     ]
    },
    {
     "name": "stdout",
     "output_type": "stream",
     "text": [
      "Processing image ../../datasets/cityscapes-dataset/leftImg8bit_trainvaltest/leftImg8bit/train/aachen/aachen_000162_000019_leftImg8bit.png\n"
     ]
    },
    {
     "name": "stderr",
     "output_type": "stream",
     "text": [
      "/usr/local/lib/python3.7/site-packages/skimage/io/_io.py:140: UserWarning: ../../datasets/aurora/instagan/train/sampleA_seg/742_0.png is a low contrast image\n",
      "  warn('%s is a low contrast image' % fname)\n",
      "/usr/local/lib/python3.7/site-packages/skimage/io/_io.py:142: UserWarning: ../../datasets/aurora/instagan/train/sampleA_seg/742_0.png is a boolean image: setting True to 1 and False to 0\n",
      "  warn('%s is a boolean image: setting True to 1 and False to 0' % fname)\n",
      "/usr/local/lib/python3.7/site-packages/skimage/io/_io.py:142: UserWarning: ../../datasets/aurora/instagan/train/sampleA_seg/742_1.png is a boolean image: setting True to 1 and False to 0\n",
      "  warn('%s is a boolean image: setting True to 1 and False to 0' % fname)\n",
      "/usr/local/lib/python3.7/site-packages/skimage/io/_io.py:142: UserWarning: ../../datasets/aurora/instagan/train/sampleA_seg/742_2.png is a boolean image: setting True to 1 and False to 0\n",
      "  warn('%s is a boolean image: setting True to 1 and False to 0' % fname)\n"
     ]
    },
    {
     "name": "stdout",
     "output_type": "stream",
     "text": [
      "Processing image ../../datasets/cityscapes-dataset/leftImg8bit_trainvaltest/leftImg8bit/train/aachen/aachen_000064_000019_leftImg8bit.png\n"
     ]
    },
    {
     "name": "stderr",
     "output_type": "stream",
     "text": [
      "/usr/local/lib/python3.7/site-packages/skimage/io/_io.py:142: UserWarning: ../../datasets/aurora/instagan/train/sampleA_seg/743_0.png is a boolean image: setting True to 1 and False to 0\n",
      "  warn('%s is a boolean image: setting True to 1 and False to 0' % fname)\n"
     ]
    },
    {
     "name": "stdout",
     "output_type": "stream",
     "text": [
      "Processing image ../../datasets/cityscapes-dataset/leftImg8bit_trainvaltest/leftImg8bit/train/aachen/aachen_000117_000019_leftImg8bit.png\n"
     ]
    },
    {
     "name": "stderr",
     "output_type": "stream",
     "text": [
      "/usr/local/lib/python3.7/site-packages/skimage/io/_io.py:142: UserWarning: ../../datasets/aurora/instagan/train/sampleA_seg/744_0.png is a boolean image: setting True to 1 and False to 0\n",
      "  warn('%s is a boolean image: setting True to 1 and False to 0' % fname)\n",
      "/usr/local/lib/python3.7/site-packages/skimage/io/_io.py:140: UserWarning: ../../datasets/aurora/instagan/train/sampleA_seg/744_1.png is a low contrast image\n",
      "  warn('%s is a low contrast image' % fname)\n",
      "/usr/local/lib/python3.7/site-packages/skimage/io/_io.py:142: UserWarning: ../../datasets/aurora/instagan/train/sampleA_seg/744_1.png is a boolean image: setting True to 1 and False to 0\n",
      "  warn('%s is a boolean image: setting True to 1 and False to 0' % fname)\n"
     ]
    },
    {
     "name": "stdout",
     "output_type": "stream",
     "text": [
      "Processing image ../../datasets/cityscapes-dataset/leftImg8bit_trainvaltest/leftImg8bit/train/aachen/aachen_000168_000019_leftImg8bit.png\n"
     ]
    },
    {
     "name": "stderr",
     "output_type": "stream",
     "text": [
      "/usr/local/lib/python3.7/site-packages/skimage/io/_io.py:142: UserWarning: ../../datasets/aurora/instagan/train/sampleA_seg/745_0.png is a boolean image: setting True to 1 and False to 0\n",
      "  warn('%s is a boolean image: setting True to 1 and False to 0' % fname)\n"
     ]
    },
    {
     "name": "stdout",
     "output_type": "stream",
     "text": [
      "Processing image ../../datasets/cityscapes-dataset/leftImg8bit_trainvaltest/leftImg8bit/train/aachen/aachen_000058_000019_leftImg8bit.png\n"
     ]
    },
    {
     "name": "stderr",
     "output_type": "stream",
     "text": [
      "/usr/local/lib/python3.7/site-packages/skimage/io/_io.py:142: UserWarning: ../../datasets/aurora/instagan/train/sampleA_seg/746_0.png is a boolean image: setting True to 1 and False to 0\n",
      "  warn('%s is a boolean image: setting True to 1 and False to 0' % fname)\n",
      "/usr/local/lib/python3.7/site-packages/skimage/io/_io.py:142: UserWarning: ../../datasets/aurora/instagan/train/sampleA_seg/746_1.png is a boolean image: setting True to 1 and False to 0\n",
      "  warn('%s is a boolean image: setting True to 1 and False to 0' % fname)\n"
     ]
    },
    {
     "name": "stdout",
     "output_type": "stream",
     "text": [
      "Processing image ../../datasets/cityscapes-dataset/leftImg8bit_trainvaltest/leftImg8bit/train/aachen/aachen_000099_000019_leftImg8bit.png\n"
     ]
    },
    {
     "name": "stderr",
     "output_type": "stream",
     "text": [
      "/usr/local/lib/python3.7/site-packages/skimage/io/_io.py:142: UserWarning: ../../datasets/aurora/instagan/train/sampleA_seg/747_0.png is a boolean image: setting True to 1 and False to 0\n",
      "  warn('%s is a boolean image: setting True to 1 and False to 0' % fname)\n"
     ]
    },
    {
     "name": "stdout",
     "output_type": "stream",
     "text": [
      "Processing image ../../datasets/cityscapes-dataset/leftImg8bit_trainvaltest/leftImg8bit/train/aachen/aachen_000052_000019_leftImg8bit.png\n"
     ]
    },
    {
     "name": "stderr",
     "output_type": "stream",
     "text": [
      "/usr/local/lib/python3.7/site-packages/skimage/io/_io.py:142: UserWarning: ../../datasets/aurora/instagan/train/sampleA_seg/748_0.png is a boolean image: setting True to 1 and False to 0\n",
      "  warn('%s is a boolean image: setting True to 1 and False to 0' % fname)\n",
      "/usr/local/lib/python3.7/site-packages/skimage/io/_io.py:142: UserWarning: ../../datasets/aurora/instagan/train/sampleA_seg/748_1.png is a boolean image: setting True to 1 and False to 0\n",
      "  warn('%s is a boolean image: setting True to 1 and False to 0' % fname)\n"
     ]
    },
    {
     "name": "stdout",
     "output_type": "stream",
     "text": [
      "Processing image ../../datasets/cityscapes-dataset/leftImg8bit_trainvaltest/leftImg8bit/train/aachen/aachen_000121_000019_leftImg8bit.png\n"
     ]
    },
    {
     "name": "stderr",
     "output_type": "stream",
     "text": [
      "/usr/local/lib/python3.7/site-packages/skimage/io/_io.py:142: UserWarning: ../../datasets/aurora/instagan/train/sampleA_seg/749_0.png is a boolean image: setting True to 1 and False to 0\n",
      "  warn('%s is a boolean image: setting True to 1 and False to 0' % fname)\n",
      "/usr/local/lib/python3.7/site-packages/skimage/io/_io.py:140: UserWarning: ../../datasets/aurora/instagan/train/sampleA_seg/749_1.png is a low contrast image\n",
      "  warn('%s is a low contrast image' % fname)\n",
      "/usr/local/lib/python3.7/site-packages/skimage/io/_io.py:142: UserWarning: ../../datasets/aurora/instagan/train/sampleA_seg/749_1.png is a boolean image: setting True to 1 and False to 0\n",
      "  warn('%s is a boolean image: setting True to 1 and False to 0' % fname)\n",
      "/usr/local/lib/python3.7/site-packages/skimage/io/_io.py:140: UserWarning: ../../datasets/aurora/instagan/train/sampleA_seg/749_2.png is a low contrast image\n",
      "  warn('%s is a low contrast image' % fname)\n",
      "/usr/local/lib/python3.7/site-packages/skimage/io/_io.py:142: UserWarning: ../../datasets/aurora/instagan/train/sampleA_seg/749_2.png is a boolean image: setting True to 1 and False to 0\n",
      "  warn('%s is a boolean image: setting True to 1 and False to 0' % fname)\n",
      "/usr/local/lib/python3.7/site-packages/skimage/io/_io.py:140: UserWarning: ../../datasets/aurora/instagan/train/sampleA_seg/749_3.png is a low contrast image\n",
      "  warn('%s is a low contrast image' % fname)\n",
      "/usr/local/lib/python3.7/site-packages/skimage/io/_io.py:142: UserWarning: ../../datasets/aurora/instagan/train/sampleA_seg/749_3.png is a boolean image: setting True to 1 and False to 0\n",
      "  warn('%s is a boolean image: setting True to 1 and False to 0' % fname)\n",
      "/usr/local/lib/python3.7/site-packages/skimage/io/_io.py:140: UserWarning: ../../datasets/aurora/instagan/train/sampleA_seg/749_4.png is a low contrast image\n",
      "  warn('%s is a low contrast image' % fname)\n",
      "/usr/local/lib/python3.7/site-packages/skimage/io/_io.py:142: UserWarning: ../../datasets/aurora/instagan/train/sampleA_seg/749_4.png is a boolean image: setting True to 1 and False to 0\n",
      "  warn('%s is a boolean image: setting True to 1 and False to 0' % fname)\n"
     ]
    },
    {
     "name": "stdout",
     "output_type": "stream",
     "text": [
      "Processing image ../../datasets/cityscapes-dataset/leftImg8bit_trainvaltest/leftImg8bit/train/aachen/aachen_000093_000019_leftImg8bit.png\n"
     ]
    },
    {
     "name": "stderr",
     "output_type": "stream",
     "text": [
      "/usr/local/lib/python3.7/site-packages/skimage/io/_io.py:142: UserWarning: ../../datasets/aurora/instagan/train/sampleA_seg/750_0.png is a boolean image: setting True to 1 and False to 0\n",
      "  warn('%s is a boolean image: setting True to 1 and False to 0' % fname)\n",
      "/usr/local/lib/python3.7/site-packages/skimage/io/_io.py:140: UserWarning: ../../datasets/aurora/instagan/train/sampleA_seg/750_1.png is a low contrast image\n",
      "  warn('%s is a low contrast image' % fname)\n",
      "/usr/local/lib/python3.7/site-packages/skimage/io/_io.py:142: UserWarning: ../../datasets/aurora/instagan/train/sampleA_seg/750_1.png is a boolean image: setting True to 1 and False to 0\n",
      "  warn('%s is a boolean image: setting True to 1 and False to 0' % fname)\n"
     ]
    },
    {
     "name": "stdout",
     "output_type": "stream",
     "text": [
      "Processing image ../../datasets/cityscapes-dataset/leftImg8bit_trainvaltest/leftImg8bit/train/aachen/aachen_000027_000019_leftImg8bit.png\n"
     ]
    },
    {
     "name": "stderr",
     "output_type": "stream",
     "text": [
      "/usr/local/lib/python3.7/site-packages/skimage/io/_io.py:142: UserWarning: ../../datasets/aurora/instagan/train/sampleA_seg/751_0.png is a boolean image: setting True to 1 and False to 0\n",
      "  warn('%s is a boolean image: setting True to 1 and False to 0' % fname)\n",
      "/usr/local/lib/python3.7/site-packages/skimage/io/_io.py:142: UserWarning: ../../datasets/aurora/instagan/train/sampleA_seg/751_1.png is a boolean image: setting True to 1 and False to 0\n",
      "  warn('%s is a boolean image: setting True to 1 and False to 0' % fname)\n",
      "/usr/local/lib/python3.7/site-packages/skimage/io/_io.py:142: UserWarning: ../../datasets/aurora/instagan/train/sampleA_seg/751_2.png is a boolean image: setting True to 1 and False to 0\n",
      "  warn('%s is a boolean image: setting True to 1 and False to 0' % fname)\n"
     ]
    },
    {
     "name": "stdout",
     "output_type": "stream",
     "text": [
      "Processing image ../../datasets/cityscapes-dataset/leftImg8bit_trainvaltest/leftImg8bit/train/aachen/aachen_000154_000019_leftImg8bit.png\n"
     ]
    },
    {
     "name": "stderr",
     "output_type": "stream",
     "text": [
      "/usr/local/lib/python3.7/site-packages/skimage/io/_io.py:142: UserWarning: ../../datasets/aurora/instagan/train/sampleA_seg/752_0.png is a boolean image: setting True to 1 and False to 0\n",
      "  warn('%s is a boolean image: setting True to 1 and False to 0' % fname)\n",
      "/usr/local/lib/python3.7/site-packages/skimage/io/_io.py:140: UserWarning: ../../datasets/aurora/instagan/train/sampleA_seg/752_1.png is a low contrast image\n",
      "  warn('%s is a low contrast image' % fname)\n",
      "/usr/local/lib/python3.7/site-packages/skimage/io/_io.py:142: UserWarning: ../../datasets/aurora/instagan/train/sampleA_seg/752_1.png is a boolean image: setting True to 1 and False to 0\n",
      "  warn('%s is a boolean image: setting True to 1 and False to 0' % fname)\n",
      "/usr/local/lib/python3.7/site-packages/skimage/io/_io.py:142: UserWarning: ../../datasets/aurora/instagan/train/sampleA_seg/752_2.png is a boolean image: setting True to 1 and False to 0\n",
      "  warn('%s is a boolean image: setting True to 1 and False to 0' % fname)\n"
     ]
    },
    {
     "name": "stdout",
     "output_type": "stream",
     "text": [
      "Processing image ../../datasets/cityscapes-dataset/leftImg8bit_trainvaltest/leftImg8bit/train/aachen/aachen_000016_000019_leftImg8bit.png\n"
     ]
    },
    {
     "name": "stderr",
     "output_type": "stream",
     "text": [
      "/usr/local/lib/python3.7/site-packages/skimage/io/_io.py:142: UserWarning: ../../datasets/aurora/instagan/train/sampleA_seg/753_0.png is a boolean image: setting True to 1 and False to 0\n",
      "  warn('%s is a boolean image: setting True to 1 and False to 0' % fname)\n",
      "/usr/local/lib/python3.7/site-packages/skimage/io/_io.py:142: UserWarning: ../../datasets/aurora/instagan/train/sampleA_seg/753_1.png is a boolean image: setting True to 1 and False to 0\n",
      "  warn('%s is a boolean image: setting True to 1 and False to 0' % fname)\n",
      "/usr/local/lib/python3.7/site-packages/skimage/io/_io.py:142: UserWarning: ../../datasets/aurora/instagan/train/sampleA_seg/753_2.png is a boolean image: setting True to 1 and False to 0\n",
      "  warn('%s is a boolean image: setting True to 1 and False to 0' % fname)\n",
      "/usr/local/lib/python3.7/site-packages/skimage/io/_io.py:140: UserWarning: ../../datasets/aurora/instagan/train/sampleA_seg/753_3.png is a low contrast image\n",
      "  warn('%s is a low contrast image' % fname)\n",
      "/usr/local/lib/python3.7/site-packages/skimage/io/_io.py:142: UserWarning: ../../datasets/aurora/instagan/train/sampleA_seg/753_3.png is a boolean image: setting True to 1 and False to 0\n",
      "  warn('%s is a boolean image: setting True to 1 and False to 0' % fname)\n"
     ]
    },
    {
     "name": "stdout",
     "output_type": "stream",
     "text": [
      "Processing image ../../datasets/cityscapes-dataset/leftImg8bit_trainvaltest/leftImg8bit/train/aachen/aachen_000165_000019_leftImg8bit.png\n"
     ]
    },
    {
     "name": "stderr",
     "output_type": "stream",
     "text": [
      "/usr/local/lib/python3.7/site-packages/skimage/io/_io.py:140: UserWarning: ../../datasets/aurora/instagan/train/sampleA_seg/754_0.png is a low contrast image\n",
      "  warn('%s is a low contrast image' % fname)\n",
      "/usr/local/lib/python3.7/site-packages/skimage/io/_io.py:142: UserWarning: ../../datasets/aurora/instagan/train/sampleA_seg/754_0.png is a boolean image: setting True to 1 and False to 0\n",
      "  warn('%s is a boolean image: setting True to 1 and False to 0' % fname)\n",
      "/usr/local/lib/python3.7/site-packages/skimage/io/_io.py:142: UserWarning: ../../datasets/aurora/instagan/train/sampleA_seg/754_1.png is a boolean image: setting True to 1 and False to 0\n",
      "  warn('%s is a boolean image: setting True to 1 and False to 0' % fname)\n",
      "/usr/local/lib/python3.7/site-packages/skimage/io/_io.py:142: UserWarning: ../../datasets/aurora/instagan/train/sampleA_seg/754_2.png is a boolean image: setting True to 1 and False to 0\n",
      "  warn('%s is a boolean image: setting True to 1 and False to 0' % fname)\n",
      "/usr/local/lib/python3.7/site-packages/skimage/io/_io.py:142: UserWarning: ../../datasets/aurora/instagan/train/sampleA_seg/754_3.png is a boolean image: setting True to 1 and False to 0\n",
      "  warn('%s is a boolean image: setting True to 1 and False to 0' % fname)\n"
     ]
    },
    {
     "name": "stdout",
     "output_type": "stream",
     "text": [
      "Processing image ../../datasets/cityscapes-dataset/leftImg8bit_trainvaltest/leftImg8bit/train/aachen/aachen_000063_000019_leftImg8bit.png\n"
     ]
    },
    {
     "name": "stderr",
     "output_type": "stream",
     "text": [
      "/usr/local/lib/python3.7/site-packages/skimage/io/_io.py:142: UserWarning: ../../datasets/aurora/instagan/train/sampleA_seg/755_0.png is a boolean image: setting True to 1 and False to 0\n",
      "  warn('%s is a boolean image: setting True to 1 and False to 0' % fname)\n",
      "/usr/local/lib/python3.7/site-packages/skimage/io/_io.py:142: UserWarning: ../../datasets/aurora/instagan/train/sampleA_seg/755_1.png is a boolean image: setting True to 1 and False to 0\n",
      "  warn('%s is a boolean image: setting True to 1 and False to 0' % fname)\n"
     ]
    },
    {
     "name": "stdout",
     "output_type": "stream",
     "text": [
      "Processing image ../../datasets/cityscapes-dataset/leftImg8bit_trainvaltest/leftImg8bit/train/aachen/aachen_000110_000019_leftImg8bit.png\n"
     ]
    },
    {
     "name": "stderr",
     "output_type": "stream",
     "text": [
      "/usr/local/lib/python3.7/site-packages/skimage/io/_io.py:142: UserWarning: ../../datasets/aurora/instagan/train/sampleA_seg/756_0.png is a boolean image: setting True to 1 and False to 0\n",
      "  warn('%s is a boolean image: setting True to 1 and False to 0' % fname)\n"
     ]
    },
    {
     "name": "stdout",
     "output_type": "stream",
     "text": [
      "Processing image ../../datasets/cityscapes-dataset/leftImg8bit_trainvaltest/leftImg8bit/train/aachen/aachen_000069_000019_leftImg8bit.png\n"
     ]
    },
    {
     "name": "stderr",
     "output_type": "stream",
     "text": [
      "/usr/local/lib/python3.7/site-packages/skimage/io/_io.py:142: UserWarning: ../../datasets/aurora/instagan/train/sampleA_seg/757_0.png is a boolean image: setting True to 1 and False to 0\n",
      "  warn('%s is a boolean image: setting True to 1 and False to 0' % fname)\n",
      "/usr/local/lib/python3.7/site-packages/skimage/io/_io.py:140: UserWarning: ../../datasets/aurora/instagan/train/sampleA_seg/757_1.png is a low contrast image\n",
      "  warn('%s is a low contrast image' % fname)\n",
      "/usr/local/lib/python3.7/site-packages/skimage/io/_io.py:142: UserWarning: ../../datasets/aurora/instagan/train/sampleA_seg/757_1.png is a boolean image: setting True to 1 and False to 0\n",
      "  warn('%s is a boolean image: setting True to 1 and False to 0' % fname)\n"
     ]
    },
    {
     "name": "stdout",
     "output_type": "stream",
     "text": [
      "Processing image ../../datasets/cityscapes-dataset/leftImg8bit_trainvaltest/leftImg8bit/train/aachen/aachen_000068_000019_leftImg8bit.png\n"
     ]
    },
    {
     "name": "stderr",
     "output_type": "stream",
     "text": [
      "/usr/local/lib/python3.7/site-packages/skimage/io/_io.py:142: UserWarning: ../../datasets/aurora/instagan/train/sampleA_seg/758_0.png is a boolean image: setting True to 1 and False to 0\n",
      "  warn('%s is a boolean image: setting True to 1 and False to 0' % fname)\n",
      "/usr/local/lib/python3.7/site-packages/skimage/io/_io.py:140: UserWarning: ../../datasets/aurora/instagan/train/sampleA_seg/758_1.png is a low contrast image\n",
      "  warn('%s is a low contrast image' % fname)\n",
      "/usr/local/lib/python3.7/site-packages/skimage/io/_io.py:142: UserWarning: ../../datasets/aurora/instagan/train/sampleA_seg/758_1.png is a boolean image: setting True to 1 and False to 0\n",
      "  warn('%s is a boolean image: setting True to 1 and False to 0' % fname)\n",
      "/usr/local/lib/python3.7/site-packages/skimage/io/_io.py:140: UserWarning: ../../datasets/aurora/instagan/train/sampleA_seg/758_2.png is a low contrast image\n",
      "  warn('%s is a low contrast image' % fname)\n",
      "/usr/local/lib/python3.7/site-packages/skimage/io/_io.py:142: UserWarning: ../../datasets/aurora/instagan/train/sampleA_seg/758_2.png is a boolean image: setting True to 1 and False to 0\n",
      "  warn('%s is a boolean image: setting True to 1 and False to 0' % fname)\n"
     ]
    },
    {
     "name": "stdout",
     "output_type": "stream",
     "text": [
      "Processing image ../../datasets/cityscapes-dataset/leftImg8bit_trainvaltest/leftImg8bit/train/aachen/aachen_000164_000019_leftImg8bit.png\n"
     ]
    },
    {
     "name": "stderr",
     "output_type": "stream",
     "text": [
      "/usr/local/lib/python3.7/site-packages/skimage/io/_io.py:140: UserWarning: ../../datasets/aurora/instagan/train/sampleA_seg/759_0.png is a low contrast image\n",
      "  warn('%s is a low contrast image' % fname)\n",
      "/usr/local/lib/python3.7/site-packages/skimage/io/_io.py:142: UserWarning: ../../datasets/aurora/instagan/train/sampleA_seg/759_0.png is a boolean image: setting True to 1 and False to 0\n",
      "  warn('%s is a boolean image: setting True to 1 and False to 0' % fname)\n"
     ]
    },
    {
     "name": "stdout",
     "output_type": "stream",
     "text": [
      "Processing image ../../datasets/cityscapes-dataset/leftImg8bit_trainvaltest/leftImg8bit/train/aachen/aachen_000017_000019_leftImg8bit.png\n"
     ]
    },
    {
     "name": "stderr",
     "output_type": "stream",
     "text": [
      "/usr/local/lib/python3.7/site-packages/skimage/io/_io.py:142: UserWarning: ../../datasets/aurora/instagan/train/sampleA_seg/760_0.png is a boolean image: setting True to 1 and False to 0\n",
      "  warn('%s is a boolean image: setting True to 1 and False to 0' % fname)\n"
     ]
    },
    {
     "name": "stdout",
     "output_type": "stream",
     "text": [
      "Processing image ../../datasets/cityscapes-dataset/leftImg8bit_trainvaltest/leftImg8bit/train/aachen/aachen_000111_000019_leftImg8bit.png\n"
     ]
    },
    {
     "name": "stderr",
     "output_type": "stream",
     "text": [
      "/usr/local/lib/python3.7/site-packages/skimage/io/_io.py:142: UserWarning: ../../datasets/aurora/instagan/train/sampleA_seg/761_0.png is a boolean image: setting True to 1 and False to 0\n",
      "  warn('%s is a boolean image: setting True to 1 and False to 0' % fname)\n"
     ]
    },
    {
     "name": "stdout",
     "output_type": "stream",
     "text": [
      "Processing image ../../datasets/cityscapes-dataset/leftImg8bit_trainvaltest/leftImg8bit/train/aachen/aachen_000062_000019_leftImg8bit.png\n"
     ]
    },
    {
     "name": "stderr",
     "output_type": "stream",
     "text": [
      "/usr/local/lib/python3.7/site-packages/skimage/io/_io.py:142: UserWarning: ../../datasets/aurora/instagan/train/sampleA_seg/762_0.png is a boolean image: setting True to 1 and False to 0\n",
      "  warn('%s is a boolean image: setting True to 1 and False to 0' % fname)\n",
      "/usr/local/lib/python3.7/site-packages/skimage/io/_io.py:142: UserWarning: ../../datasets/aurora/instagan/train/sampleA_seg/762_1.png is a boolean image: setting True to 1 and False to 0\n",
      "  warn('%s is a boolean image: setting True to 1 and False to 0' % fname)\n"
     ]
    },
    {
     "name": "stdout",
     "output_type": "stream",
     "text": [
      "Processing image ../../datasets/cityscapes-dataset/leftImg8bit_trainvaltest/leftImg8bit/train/aachen/aachen_000092_000019_leftImg8bit.png\n"
     ]
    },
    {
     "name": "stderr",
     "output_type": "stream",
     "text": [
      "/usr/local/lib/python3.7/site-packages/skimage/io/_io.py:142: UserWarning: ../../datasets/aurora/instagan/train/sampleA_seg/763_0.png is a boolean image: setting True to 1 and False to 0\n",
      "  warn('%s is a boolean image: setting True to 1 and False to 0' % fname)\n",
      "/usr/local/lib/python3.7/site-packages/skimage/io/_io.py:142: UserWarning: ../../datasets/aurora/instagan/train/sampleA_seg/763_1.png is a boolean image: setting True to 1 and False to 0\n",
      "  warn('%s is a boolean image: setting True to 1 and False to 0' % fname)\n"
     ]
    },
    {
     "name": "stdout",
     "output_type": "stream",
     "text": [
      "Processing image ../../datasets/cityscapes-dataset/leftImg8bit_trainvaltest/leftImg8bit/train/aachen/aachen_000120_000019_leftImg8bit.png\n"
     ]
    },
    {
     "name": "stderr",
     "output_type": "stream",
     "text": [
      "/usr/local/lib/python3.7/site-packages/skimage/io/_io.py:142: UserWarning: ../../datasets/aurora/instagan/train/sampleA_seg/764_0.png is a boolean image: setting True to 1 and False to 0\n",
      "  warn('%s is a boolean image: setting True to 1 and False to 0' % fname)\n",
      "/usr/local/lib/python3.7/site-packages/skimage/io/_io.py:140: UserWarning: ../../datasets/aurora/instagan/train/sampleA_seg/764_1.png is a low contrast image\n",
      "  warn('%s is a low contrast image' % fname)\n",
      "/usr/local/lib/python3.7/site-packages/skimage/io/_io.py:142: UserWarning: ../../datasets/aurora/instagan/train/sampleA_seg/764_1.png is a boolean image: setting True to 1 and False to 0\n",
      "  warn('%s is a boolean image: setting True to 1 and False to 0' % fname)\n"
     ]
    },
    {
     "name": "stdout",
     "output_type": "stream",
     "text": [
      "Processing image ../../datasets/cityscapes-dataset/leftImg8bit_trainvaltest/leftImg8bit/train/aachen/aachen_000053_000019_leftImg8bit.png\n"
     ]
    },
    {
     "name": "stderr",
     "output_type": "stream",
     "text": [
      "/usr/local/lib/python3.7/site-packages/skimage/io/_io.py:142: UserWarning: ../../datasets/aurora/instagan/train/sampleA_seg/765_0.png is a boolean image: setting True to 1 and False to 0\n",
      "  warn('%s is a boolean image: setting True to 1 and False to 0' % fname)\n",
      "/usr/local/lib/python3.7/site-packages/skimage/io/_io.py:142: UserWarning: ../../datasets/aurora/instagan/train/sampleA_seg/765_1.png is a boolean image: setting True to 1 and False to 0\n",
      "  warn('%s is a boolean image: setting True to 1 and False to 0' % fname)\n"
     ]
    },
    {
     "name": "stdout",
     "output_type": "stream",
     "text": [
      "Processing image ../../datasets/cityscapes-dataset/leftImg8bit_trainvaltest/leftImg8bit/train/aachen/aachen_000155_000019_leftImg8bit.png\n"
     ]
    },
    {
     "name": "stderr",
     "output_type": "stream",
     "text": [
      "/usr/local/lib/python3.7/site-packages/skimage/io/_io.py:142: UserWarning: ../../datasets/aurora/instagan/train/sampleA_seg/766_0.png is a boolean image: setting True to 1 and False to 0\n",
      "  warn('%s is a boolean image: setting True to 1 and False to 0' % fname)\n",
      "/usr/local/lib/python3.7/site-packages/skimage/io/_io.py:142: UserWarning: ../../datasets/aurora/instagan/train/sampleA_seg/766_1.png is a boolean image: setting True to 1 and False to 0\n",
      "  warn('%s is a boolean image: setting True to 1 and False to 0' % fname)\n",
      "/usr/local/lib/python3.7/site-packages/skimage/io/_io.py:140: UserWarning: ../../datasets/aurora/instagan/train/sampleA_seg/766_2.png is a low contrast image\n",
      "  warn('%s is a low contrast image' % fname)\n",
      "/usr/local/lib/python3.7/site-packages/skimage/io/_io.py:142: UserWarning: ../../datasets/aurora/instagan/train/sampleA_seg/766_2.png is a boolean image: setting True to 1 and False to 0\n",
      "  warn('%s is a boolean image: setting True to 1 and False to 0' % fname)\n"
     ]
    },
    {
     "name": "stdout",
     "output_type": "stream",
     "text": [
      "Processing image ../../datasets/cityscapes-dataset/leftImg8bit_trainvaltest/leftImg8bit/train/aachen/aachen_000026_000019_leftImg8bit.png\n"
     ]
    },
    {
     "name": "stderr",
     "output_type": "stream",
     "text": [
      "/usr/local/lib/python3.7/site-packages/skimage/io/_io.py:142: UserWarning: ../../datasets/aurora/instagan/train/sampleA_seg/767_0.png is a boolean image: setting True to 1 and False to 0\n",
      "  warn('%s is a boolean image: setting True to 1 and False to 0' % fname)\n",
      "/usr/local/lib/python3.7/site-packages/skimage/io/_io.py:142: UserWarning: ../../datasets/aurora/instagan/train/sampleA_seg/767_1.png is a boolean image: setting True to 1 and False to 0\n",
      "  warn('%s is a boolean image: setting True to 1 and False to 0' % fname)\n",
      "/usr/local/lib/python3.7/site-packages/skimage/io/_io.py:142: UserWarning: ../../datasets/aurora/instagan/train/sampleA_seg/767_2.png is a boolean image: setting True to 1 and False to 0\n",
      "  warn('%s is a boolean image: setting True to 1 and False to 0' % fname)\n",
      "/usr/local/lib/python3.7/site-packages/skimage/io/_io.py:142: UserWarning: ../../datasets/aurora/instagan/train/sampleA_seg/767_3.png is a boolean image: setting True to 1 and False to 0\n",
      "  warn('%s is a boolean image: setting True to 1 and False to 0' % fname)\n",
      "/usr/local/lib/python3.7/site-packages/skimage/io/_io.py:142: UserWarning: ../../datasets/aurora/instagan/train/sampleA_seg/767_4.png is a boolean image: setting True to 1 and False to 0\n",
      "  warn('%s is a boolean image: setting True to 1 and False to 0' % fname)\n"
     ]
    },
    {
     "name": "stdout",
     "output_type": "stream",
     "text": [
      "Processing image ../../datasets/cityscapes-dataset/leftImg8bit_trainvaltest/leftImg8bit/train/aachen/aachen_000098_000019_leftImg8bit.png\n"
     ]
    },
    {
     "name": "stderr",
     "output_type": "stream",
     "text": [
      "/usr/local/lib/python3.7/site-packages/skimage/io/_io.py:142: UserWarning: ../../datasets/aurora/instagan/train/sampleA_seg/768_0.png is a boolean image: setting True to 1 and False to 0\n",
      "  warn('%s is a boolean image: setting True to 1 and False to 0' % fname)\n"
     ]
    },
    {
     "name": "stdout",
     "output_type": "stream",
     "text": [
      "Processing image ../../datasets/cityscapes-dataset/leftImg8bit_trainvaltest/leftImg8bit/train/aachen/aachen_000059_000019_leftImg8bit.png\n"
     ]
    },
    {
     "name": "stderr",
     "output_type": "stream",
     "text": [
      "/usr/local/lib/python3.7/site-packages/skimage/io/_io.py:142: UserWarning: ../../datasets/aurora/instagan/train/sampleA_seg/769_0.png is a boolean image: setting True to 1 and False to 0\n",
      "  warn('%s is a boolean image: setting True to 1 and False to 0' % fname)\n",
      "/usr/local/lib/python3.7/site-packages/skimage/io/_io.py:142: UserWarning: ../../datasets/aurora/instagan/train/sampleA_seg/769_1.png is a boolean image: setting True to 1 and False to 0\n",
      "  warn('%s is a boolean image: setting True to 1 and False to 0' % fname)\n",
      "/usr/local/lib/python3.7/site-packages/skimage/io/_io.py:142: UserWarning: ../../datasets/aurora/instagan/train/sampleA_seg/769_2.png is a boolean image: setting True to 1 and False to 0\n",
      "  warn('%s is a boolean image: setting True to 1 and False to 0' % fname)\n",
      "/usr/local/lib/python3.7/site-packages/skimage/io/_io.py:140: UserWarning: ../../datasets/aurora/instagan/train/sampleA_seg/769_3.png is a low contrast image\n",
      "  warn('%s is a low contrast image' % fname)\n",
      "/usr/local/lib/python3.7/site-packages/skimage/io/_io.py:142: UserWarning: ../../datasets/aurora/instagan/train/sampleA_seg/769_3.png is a boolean image: setting True to 1 and False to 0\n",
      "  warn('%s is a boolean image: setting True to 1 and False to 0' % fname)\n"
     ]
    },
    {
     "name": "stdout",
     "output_type": "stream",
     "text": [
      "Processing image ../../datasets/cityscapes-dataset/leftImg8bit_trainvaltest/leftImg8bit/train/aachen/aachen_000169_000019_leftImg8bit.png\n"
     ]
    },
    {
     "name": "stderr",
     "output_type": "stream",
     "text": [
      "/usr/local/lib/python3.7/site-packages/skimage/io/_io.py:142: UserWarning: ../../datasets/aurora/instagan/train/sampleA_seg/770_0.png is a boolean image: setting True to 1 and False to 0\n",
      "  warn('%s is a boolean image: setting True to 1 and False to 0' % fname)\n",
      "/usr/local/lib/python3.7/site-packages/skimage/io/_io.py:142: UserWarning: ../../datasets/aurora/instagan/train/sampleA_seg/770_1.png is a boolean image: setting True to 1 and False to 0\n",
      "  warn('%s is a boolean image: setting True to 1 and False to 0' % fname)\n",
      "/usr/local/lib/python3.7/site-packages/skimage/io/_io.py:140: UserWarning: ../../datasets/aurora/instagan/train/sampleA_seg/770_2.png is a low contrast image\n",
      "  warn('%s is a low contrast image' % fname)\n",
      "/usr/local/lib/python3.7/site-packages/skimage/io/_io.py:142: UserWarning: ../../datasets/aurora/instagan/train/sampleA_seg/770_2.png is a boolean image: setting True to 1 and False to 0\n",
      "  warn('%s is a boolean image: setting True to 1 and False to 0' % fname)\n",
      "/usr/local/lib/python3.7/site-packages/skimage/io/_io.py:142: UserWarning: ../../datasets/aurora/instagan/train/sampleA_seg/770_3.png is a boolean image: setting True to 1 and False to 0\n",
      "  warn('%s is a boolean image: setting True to 1 and False to 0' % fname)\n"
     ]
    },
    {
     "name": "stdout",
     "output_type": "stream",
     "text": [
      "Processing image ../../datasets/cityscapes-dataset/leftImg8bit_trainvaltest/leftImg8bit/train/aachen/aachen_000163_000019_leftImg8bit.png\n"
     ]
    },
    {
     "name": "stderr",
     "output_type": "stream",
     "text": [
      "/usr/local/lib/python3.7/site-packages/skimage/io/_io.py:142: UserWarning: ../../datasets/aurora/instagan/train/sampleA_seg/771_0.png is a boolean image: setting True to 1 and False to 0\n",
      "  warn('%s is a boolean image: setting True to 1 and False to 0' % fname)\n"
     ]
    },
    {
     "name": "stdout",
     "output_type": "stream",
     "text": [
      "Processing image ../../datasets/cityscapes-dataset/leftImg8bit_trainvaltest/leftImg8bit/train/aachen/aachen_000010_000019_leftImg8bit.png\n"
     ]
    },
    {
     "name": "stderr",
     "output_type": "stream",
     "text": [
      "/usr/local/lib/python3.7/site-packages/skimage/io/_io.py:142: UserWarning: ../../datasets/aurora/instagan/train/sampleA_seg/772_0.png is a boolean image: setting True to 1 and False to 0\n",
      "  warn('%s is a boolean image: setting True to 1 and False to 0' % fname)\n",
      "/usr/local/lib/python3.7/site-packages/skimage/io/_io.py:140: UserWarning: ../../datasets/aurora/instagan/train/sampleA_seg/772_1.png is a low contrast image\n",
      "  warn('%s is a low contrast image' % fname)\n",
      "/usr/local/lib/python3.7/site-packages/skimage/io/_io.py:142: UserWarning: ../../datasets/aurora/instagan/train/sampleA_seg/772_1.png is a boolean image: setting True to 1 and False to 0\n",
      "  warn('%s is a boolean image: setting True to 1 and False to 0' % fname)\n"
     ]
    },
    {
     "name": "stdout",
     "output_type": "stream",
     "text": [
      "Processing image ../../datasets/cityscapes-dataset/leftImg8bit_trainvaltest/leftImg8bit/train/aachen/aachen_000116_000019_leftImg8bit.png\n"
     ]
    },
    {
     "name": "stderr",
     "output_type": "stream",
     "text": [
      "/usr/local/lib/python3.7/site-packages/skimage/io/_io.py:142: UserWarning: ../../datasets/aurora/instagan/train/sampleA_seg/773_0.png is a boolean image: setting True to 1 and False to 0\n",
      "  warn('%s is a boolean image: setting True to 1 and False to 0' % fname)\n"
     ]
    },
    {
     "name": "stdout",
     "output_type": "stream",
     "text": [
      "Processing image ../../datasets/cityscapes-dataset/leftImg8bit_trainvaltest/leftImg8bit/train/aachen/aachen_000065_000019_leftImg8bit.png\n"
     ]
    },
    {
     "name": "stderr",
     "output_type": "stream",
     "text": [
      "/usr/local/lib/python3.7/site-packages/skimage/io/_io.py:142: UserWarning: ../../datasets/aurora/instagan/train/sampleA_seg/774_0.png is a boolean image: setting True to 1 and False to 0\n",
      "  warn('%s is a boolean image: setting True to 1 and False to 0' % fname)\n",
      "/usr/local/lib/python3.7/site-packages/skimage/io/_io.py:142: UserWarning: ../../datasets/aurora/instagan/train/sampleA_seg/774_1.png is a boolean image: setting True to 1 and False to 0\n",
      "  warn('%s is a boolean image: setting True to 1 and False to 0' % fname)\n"
     ]
    },
    {
     "name": "stdout",
     "output_type": "stream",
     "text": [
      "Processing image ../../datasets/cityscapes-dataset/leftImg8bit_trainvaltest/leftImg8bit/train/aachen/aachen_000095_000019_leftImg8bit.png\n"
     ]
    },
    {
     "name": "stderr",
     "output_type": "stream",
     "text": [
      "/usr/local/lib/python3.7/site-packages/skimage/io/_io.py:142: UserWarning: ../../datasets/aurora/instagan/train/sampleA_seg/775_0.png is a boolean image: setting True to 1 and False to 0\n",
      "  warn('%s is a boolean image: setting True to 1 and False to 0' % fname)\n",
      "/usr/local/lib/python3.7/site-packages/skimage/io/_io.py:142: UserWarning: ../../datasets/aurora/instagan/train/sampleA_seg/775_1.png is a boolean image: setting True to 1 and False to 0\n",
      "  warn('%s is a boolean image: setting True to 1 and False to 0' % fname)\n"
     ]
    },
    {
     "name": "stdout",
     "output_type": "stream",
     "text": [
      "Processing image ../../datasets/cityscapes-dataset/leftImg8bit_trainvaltest/leftImg8bit/train/aachen/aachen_000127_000019_leftImg8bit.png\n"
     ]
    },
    {
     "name": "stderr",
     "output_type": "stream",
     "text": [
      "/usr/local/lib/python3.7/site-packages/skimage/io/_io.py:142: UserWarning: ../../datasets/aurora/instagan/train/sampleA_seg/776_0.png is a boolean image: setting True to 1 and False to 0\n",
      "  warn('%s is a boolean image: setting True to 1 and False to 0' % fname)\n",
      "/usr/local/lib/python3.7/site-packages/skimage/io/_io.py:140: UserWarning: ../../datasets/aurora/instagan/train/sampleA_seg/776_1.png is a low contrast image\n",
      "  warn('%s is a low contrast image' % fname)\n",
      "/usr/local/lib/python3.7/site-packages/skimage/io/_io.py:142: UserWarning: ../../datasets/aurora/instagan/train/sampleA_seg/776_1.png is a boolean image: setting True to 1 and False to 0\n",
      "  warn('%s is a boolean image: setting True to 1 and False to 0' % fname)\n"
     ]
    },
    {
     "name": "stdout",
     "output_type": "stream",
     "text": [
      "Processing image ../../datasets/cityscapes-dataset/leftImg8bit_trainvaltest/leftImg8bit/train/aachen/aachen_000054_000019_leftImg8bit.png\n"
     ]
    },
    {
     "name": "stderr",
     "output_type": "stream",
     "text": [
      "/usr/local/lib/python3.7/site-packages/skimage/io/_io.py:140: UserWarning: ../../datasets/aurora/instagan/train/sampleA_seg/777_0.png is a low contrast image\n",
      "  warn('%s is a low contrast image' % fname)\n",
      "/usr/local/lib/python3.7/site-packages/skimage/io/_io.py:142: UserWarning: ../../datasets/aurora/instagan/train/sampleA_seg/777_0.png is a boolean image: setting True to 1 and False to 0\n",
      "  warn('%s is a boolean image: setting True to 1 and False to 0' % fname)\n",
      "/usr/local/lib/python3.7/site-packages/skimage/io/_io.py:140: UserWarning: ../../datasets/aurora/instagan/train/sampleA_seg/777_1.png is a low contrast image\n",
      "  warn('%s is a low contrast image' % fname)\n",
      "/usr/local/lib/python3.7/site-packages/skimage/io/_io.py:142: UserWarning: ../../datasets/aurora/instagan/train/sampleA_seg/777_1.png is a boolean image: setting True to 1 and False to 0\n",
      "  warn('%s is a boolean image: setting True to 1 and False to 0' % fname)\n",
      "/usr/local/lib/python3.7/site-packages/skimage/io/_io.py:142: UserWarning: ../../datasets/aurora/instagan/train/sampleA_seg/777_2.png is a boolean image: setting True to 1 and False to 0\n",
      "  warn('%s is a boolean image: setting True to 1 and False to 0' % fname)\n",
      "/usr/local/lib/python3.7/site-packages/skimage/io/_io.py:142: UserWarning: ../../datasets/aurora/instagan/train/sampleA_seg/777_3.png is a boolean image: setting True to 1 and False to 0\n",
      "  warn('%s is a boolean image: setting True to 1 and False to 0' % fname)\n",
      "/usr/local/lib/python3.7/site-packages/skimage/io/_io.py:140: UserWarning: ../../datasets/aurora/instagan/train/sampleA_seg/777_4.png is a low contrast image\n",
      "  warn('%s is a low contrast image' % fname)\n",
      "/usr/local/lib/python3.7/site-packages/skimage/io/_io.py:142: UserWarning: ../../datasets/aurora/instagan/train/sampleA_seg/777_4.png is a boolean image: setting True to 1 and False to 0\n",
      "  warn('%s is a boolean image: setting True to 1 and False to 0' % fname)\n",
      "/usr/local/lib/python3.7/site-packages/skimage/io/_io.py:140: UserWarning: ../../datasets/aurora/instagan/train/sampleA_seg/777_5.png is a low contrast image\n",
      "  warn('%s is a low contrast image' % fname)\n",
      "/usr/local/lib/python3.7/site-packages/skimage/io/_io.py:142: UserWarning: ../../datasets/aurora/instagan/train/sampleA_seg/777_5.png is a boolean image: setting True to 1 and False to 0\n",
      "  warn('%s is a boolean image: setting True to 1 and False to 0' % fname)\n",
      "/usr/local/lib/python3.7/site-packages/skimage/io/_io.py:140: UserWarning: ../../datasets/aurora/instagan/train/sampleA_seg/777_6.png is a low contrast image\n",
      "  warn('%s is a low contrast image' % fname)\n",
      "/usr/local/lib/python3.7/site-packages/skimage/io/_io.py:142: UserWarning: ../../datasets/aurora/instagan/train/sampleA_seg/777_6.png is a boolean image: setting True to 1 and False to 0\n",
      "  warn('%s is a boolean image: setting True to 1 and False to 0' % fname)\n",
      "/usr/local/lib/python3.7/site-packages/skimage/io/_io.py:140: UserWarning: ../../datasets/aurora/instagan/train/sampleA_seg/777_7.png is a low contrast image\n",
      "  warn('%s is a low contrast image' % fname)\n",
      "/usr/local/lib/python3.7/site-packages/skimage/io/_io.py:142: UserWarning: ../../datasets/aurora/instagan/train/sampleA_seg/777_7.png is a boolean image: setting True to 1 and False to 0\n",
      "  warn('%s is a boolean image: setting True to 1 and False to 0' % fname)\n"
     ]
    },
    {
     "name": "stdout",
     "output_type": "stream",
     "text": [
      "Processing image ../../datasets/cityscapes-dataset/leftImg8bit_trainvaltest/leftImg8bit/train/aachen/aachen_000152_000019_leftImg8bit.png\n"
     ]
    },
    {
     "name": "stderr",
     "output_type": "stream",
     "text": [
      "/usr/local/lib/python3.7/site-packages/skimage/io/_io.py:142: UserWarning: ../../datasets/aurora/instagan/train/sampleA_seg/778_0.png is a boolean image: setting True to 1 and False to 0\n",
      "  warn('%s is a boolean image: setting True to 1 and False to 0' % fname)\n",
      "/usr/local/lib/python3.7/site-packages/skimage/io/_io.py:140: UserWarning: ../../datasets/aurora/instagan/train/sampleA_seg/778_1.png is a low contrast image\n",
      "  warn('%s is a low contrast image' % fname)\n",
      "/usr/local/lib/python3.7/site-packages/skimage/io/_io.py:142: UserWarning: ../../datasets/aurora/instagan/train/sampleA_seg/778_1.png is a boolean image: setting True to 1 and False to 0\n",
      "  warn('%s is a boolean image: setting True to 1 and False to 0' % fname)\n",
      "/usr/local/lib/python3.7/site-packages/skimage/io/_io.py:140: UserWarning: ../../datasets/aurora/instagan/train/sampleA_seg/778_2.png is a low contrast image\n",
      "  warn('%s is a low contrast image' % fname)\n",
      "/usr/local/lib/python3.7/site-packages/skimage/io/_io.py:142: UserWarning: ../../datasets/aurora/instagan/train/sampleA_seg/778_2.png is a boolean image: setting True to 1 and False to 0\n",
      "  warn('%s is a boolean image: setting True to 1 and False to 0' % fname)\n",
      "/usr/local/lib/python3.7/site-packages/skimage/io/_io.py:140: UserWarning: ../../datasets/aurora/instagan/train/sampleA_seg/778_3.png is a low contrast image\n",
      "  warn('%s is a low contrast image' % fname)\n",
      "/usr/local/lib/python3.7/site-packages/skimage/io/_io.py:142: UserWarning: ../../datasets/aurora/instagan/train/sampleA_seg/778_3.png is a boolean image: setting True to 1 and False to 0\n",
      "  warn('%s is a boolean image: setting True to 1 and False to 0' % fname)\n",
      "/usr/local/lib/python3.7/site-packages/skimage/io/_io.py:140: UserWarning: ../../datasets/aurora/instagan/train/sampleA_seg/778_4.png is a low contrast image\n",
      "  warn('%s is a low contrast image' % fname)\n",
      "/usr/local/lib/python3.7/site-packages/skimage/io/_io.py:142: UserWarning: ../../datasets/aurora/instagan/train/sampleA_seg/778_4.png is a boolean image: setting True to 1 and False to 0\n",
      "  warn('%s is a boolean image: setting True to 1 and False to 0' % fname)\n",
      "/usr/local/lib/python3.7/site-packages/skimage/io/_io.py:140: UserWarning: ../../datasets/aurora/instagan/train/sampleA_seg/778_5.png is a low contrast image\n",
      "  warn('%s is a low contrast image' % fname)\n",
      "/usr/local/lib/python3.7/site-packages/skimage/io/_io.py:142: UserWarning: ../../datasets/aurora/instagan/train/sampleA_seg/778_5.png is a boolean image: setting True to 1 and False to 0\n",
      "  warn('%s is a boolean image: setting True to 1 and False to 0' % fname)\n",
      "/usr/local/lib/python3.7/site-packages/skimage/io/_io.py:142: UserWarning: ../../datasets/aurora/instagan/train/sampleA_seg/778_6.png is a boolean image: setting True to 1 and False to 0\n",
      "  warn('%s is a boolean image: setting True to 1 and False to 0' % fname)\n",
      "/usr/local/lib/python3.7/site-packages/skimage/io/_io.py:142: UserWarning: ../../datasets/aurora/instagan/train/sampleA_seg/778_7.png is a boolean image: setting True to 1 and False to 0\n",
      "  warn('%s is a boolean image: setting True to 1 and False to 0' % fname)\n",
      "/usr/local/lib/python3.7/site-packages/skimage/io/_io.py:140: UserWarning: ../../datasets/aurora/instagan/train/sampleA_seg/778_8.png is a low contrast image\n",
      "  warn('%s is a low contrast image' % fname)\n",
      "/usr/local/lib/python3.7/site-packages/skimage/io/_io.py:142: UserWarning: ../../datasets/aurora/instagan/train/sampleA_seg/778_8.png is a boolean image: setting True to 1 and False to 0\n",
      "  warn('%s is a boolean image: setting True to 1 and False to 0' % fname)\n",
      "/usr/local/lib/python3.7/site-packages/skimage/io/_io.py:140: UserWarning: ../../datasets/aurora/instagan/train/sampleA_seg/778_9.png is a low contrast image\n",
      "  warn('%s is a low contrast image' % fname)\n",
      "/usr/local/lib/python3.7/site-packages/skimage/io/_io.py:142: UserWarning: ../../datasets/aurora/instagan/train/sampleA_seg/778_9.png is a boolean image: setting True to 1 and False to 0\n",
      "  warn('%s is a boolean image: setting True to 1 and False to 0' % fname)\n",
      "/usr/local/lib/python3.7/site-packages/skimage/io/_io.py:140: UserWarning: ../../datasets/aurora/instagan/train/sampleA_seg/778_10.png is a low contrast image\n",
      "  warn('%s is a low contrast image' % fname)\n",
      "/usr/local/lib/python3.7/site-packages/skimage/io/_io.py:142: UserWarning: ../../datasets/aurora/instagan/train/sampleA_seg/778_10.png is a boolean image: setting True to 1 and False to 0\n",
      "  warn('%s is a boolean image: setting True to 1 and False to 0' % fname)\n",
      "/usr/local/lib/python3.7/site-packages/skimage/io/_io.py:140: UserWarning: ../../datasets/aurora/instagan/train/sampleA_seg/778_11.png is a low contrast image\n",
      "  warn('%s is a low contrast image' % fname)\n",
      "/usr/local/lib/python3.7/site-packages/skimage/io/_io.py:142: UserWarning: ../../datasets/aurora/instagan/train/sampleA_seg/778_11.png is a boolean image: setting True to 1 and False to 0\n",
      "  warn('%s is a boolean image: setting True to 1 and False to 0' % fname)\n",
      "/usr/local/lib/python3.7/site-packages/skimage/io/_io.py:140: UserWarning: ../../datasets/aurora/instagan/train/sampleA_seg/778_12.png is a low contrast image\n",
      "  warn('%s is a low contrast image' % fname)\n",
      "/usr/local/lib/python3.7/site-packages/skimage/io/_io.py:142: UserWarning: ../../datasets/aurora/instagan/train/sampleA_seg/778_12.png is a boolean image: setting True to 1 and False to 0\n",
      "  warn('%s is a boolean image: setting True to 1 and False to 0' % fname)\n",
      "/usr/local/lib/python3.7/site-packages/skimage/io/_io.py:140: UserWarning: ../../datasets/aurora/instagan/train/sampleA_seg/778_13.png is a low contrast image\n",
      "  warn('%s is a low contrast image' % fname)\n",
      "/usr/local/lib/python3.7/site-packages/skimage/io/_io.py:142: UserWarning: ../../datasets/aurora/instagan/train/sampleA_seg/778_13.png is a boolean image: setting True to 1 and False to 0\n",
      "  warn('%s is a boolean image: setting True to 1 and False to 0' % fname)\n",
      "/usr/local/lib/python3.7/site-packages/skimage/io/_io.py:140: UserWarning: ../../datasets/aurora/instagan/train/sampleA_seg/778_14.png is a low contrast image\n",
      "  warn('%s is a low contrast image' % fname)\n",
      "/usr/local/lib/python3.7/site-packages/skimage/io/_io.py:142: UserWarning: ../../datasets/aurora/instagan/train/sampleA_seg/778_14.png is a boolean image: setting True to 1 and False to 0\n",
      "  warn('%s is a boolean image: setting True to 1 and False to 0' % fname)\n",
      "/usr/local/lib/python3.7/site-packages/skimage/io/_io.py:140: UserWarning: ../../datasets/aurora/instagan/train/sampleA_seg/778_15.png is a low contrast image\n",
      "  warn('%s is a low contrast image' % fname)\n",
      "/usr/local/lib/python3.7/site-packages/skimage/io/_io.py:142: UserWarning: ../../datasets/aurora/instagan/train/sampleA_seg/778_15.png is a boolean image: setting True to 1 and False to 0\n",
      "  warn('%s is a boolean image: setting True to 1 and False to 0' % fname)\n",
      "/usr/local/lib/python3.7/site-packages/skimage/io/_io.py:140: UserWarning: ../../datasets/aurora/instagan/train/sampleA_seg/778_16.png is a low contrast image\n",
      "  warn('%s is a low contrast image' % fname)\n",
      "/usr/local/lib/python3.7/site-packages/skimage/io/_io.py:142: UserWarning: ../../datasets/aurora/instagan/train/sampleA_seg/778_16.png is a boolean image: setting True to 1 and False to 0\n",
      "  warn('%s is a boolean image: setting True to 1 and False to 0' % fname)\n",
      "/usr/local/lib/python3.7/site-packages/skimage/io/_io.py:140: UserWarning: ../../datasets/aurora/instagan/train/sampleA_seg/778_17.png is a low contrast image\n",
      "  warn('%s is a low contrast image' % fname)\n",
      "/usr/local/lib/python3.7/site-packages/skimage/io/_io.py:142: UserWarning: ../../datasets/aurora/instagan/train/sampleA_seg/778_17.png is a boolean image: setting True to 1 and False to 0\n",
      "  warn('%s is a boolean image: setting True to 1 and False to 0' % fname)\n",
      "/usr/local/lib/python3.7/site-packages/skimage/io/_io.py:140: UserWarning: ../../datasets/aurora/instagan/train/sampleA_seg/778_18.png is a low contrast image\n",
      "  warn('%s is a low contrast image' % fname)\n",
      "/usr/local/lib/python3.7/site-packages/skimage/io/_io.py:142: UserWarning: ../../datasets/aurora/instagan/train/sampleA_seg/778_18.png is a boolean image: setting True to 1 and False to 0\n",
      "  warn('%s is a boolean image: setting True to 1 and False to 0' % fname)\n"
     ]
    },
    {
     "name": "stdout",
     "output_type": "stream",
     "text": [
      "Processing image ../../datasets/cityscapes-dataset/leftImg8bit_trainvaltest/leftImg8bit/train/aachen/aachen_000021_000019_leftImg8bit.png\n"
     ]
    },
    {
     "name": "stderr",
     "output_type": "stream",
     "text": [
      "/usr/local/lib/python3.7/site-packages/skimage/io/_io.py:142: UserWarning: ../../datasets/aurora/instagan/train/sampleA_seg/779_0.png is a boolean image: setting True to 1 and False to 0\n",
      "  warn('%s is a boolean image: setting True to 1 and False to 0' % fname)\n",
      "/usr/local/lib/python3.7/site-packages/skimage/io/_io.py:142: UserWarning: ../../datasets/aurora/instagan/train/sampleA_seg/779_1.png is a boolean image: setting True to 1 and False to 0\n",
      "  warn('%s is a boolean image: setting True to 1 and False to 0' % fname)\n"
     ]
    },
    {
     "name": "stdout",
     "output_type": "stream",
     "text": [
      "Processing image ../../datasets/cityscapes-dataset/leftImg8bit_trainvaltest/leftImg8bit/train/aachen/aachen_000158_000019_leftImg8bit.png\n"
     ]
    },
    {
     "name": "stderr",
     "output_type": "stream",
     "text": [
      "/usr/local/lib/python3.7/site-packages/skimage/io/_io.py:142: UserWarning: ../../datasets/aurora/instagan/train/sampleA_seg/780_0.png is a boolean image: setting True to 1 and False to 0\n",
      "  warn('%s is a boolean image: setting True to 1 and False to 0' % fname)\n"
     ]
    },
    {
     "name": "stdout",
     "output_type": "stream",
     "text": [
      "Processing image ../../datasets/cityscapes-dataset/leftImg8bit_trainvaltest/leftImg8bit/train/aachen/aachen_000066_000019_leftImg8bit.png\n"
     ]
    },
    {
     "name": "stderr",
     "output_type": "stream",
     "text": [
      "/usr/local/lib/python3.7/site-packages/skimage/io/_io.py:142: UserWarning: ../../datasets/aurora/instagan/train/sampleA_seg/781_0.png is a boolean image: setting True to 1 and False to 0\n",
      "  warn('%s is a boolean image: setting True to 1 and False to 0' % fname)\n"
     ]
    },
    {
     "name": "stdout",
     "output_type": "stream",
     "text": [
      "Processing image ../../datasets/cityscapes-dataset/leftImg8bit_trainvaltest/leftImg8bit/train/aachen/aachen_000115_000019_leftImg8bit.png\n"
     ]
    },
    {
     "name": "stderr",
     "output_type": "stream",
     "text": [
      "/usr/local/lib/python3.7/site-packages/skimage/io/_io.py:142: UserWarning: ../../datasets/aurora/instagan/train/sampleA_seg/782_0.png is a boolean image: setting True to 1 and False to 0\n",
      "  warn('%s is a boolean image: setting True to 1 and False to 0' % fname)\n"
     ]
    },
    {
     "name": "stdout",
     "output_type": "stream",
     "text": [
      "Processing image ../../datasets/cityscapes-dataset/leftImg8bit_trainvaltest/leftImg8bit/train/aachen/aachen_000013_000019_leftImg8bit.png\n"
     ]
    },
    {
     "name": "stderr",
     "output_type": "stream",
     "text": [
      "/usr/local/lib/python3.7/site-packages/skimage/io/_io.py:142: UserWarning: ../../datasets/aurora/instagan/train/sampleA_seg/783_0.png is a boolean image: setting True to 1 and False to 0\n",
      "  warn('%s is a boolean image: setting True to 1 and False to 0' % fname)\n",
      "/usr/local/lib/python3.7/site-packages/skimage/io/_io.py:142: UserWarning: ../../datasets/aurora/instagan/train/sampleA_seg/783_1.png is a boolean image: setting True to 1 and False to 0\n",
      "  warn('%s is a boolean image: setting True to 1 and False to 0' % fname)\n"
     ]
    },
    {
     "name": "stdout",
     "output_type": "stream",
     "text": [
      "Processing image ../../datasets/cityscapes-dataset/leftImg8bit_trainvaltest/leftImg8bit/train/aachen/aachen_000160_000019_leftImg8bit.png\n"
     ]
    },
    {
     "name": "stderr",
     "output_type": "stream",
     "text": [
      "/usr/local/lib/python3.7/site-packages/skimage/io/_io.py:142: UserWarning: ../../datasets/aurora/instagan/train/sampleA_seg/784_0.png is a boolean image: setting True to 1 and False to 0\n",
      "  warn('%s is a boolean image: setting True to 1 and False to 0' % fname)\n"
     ]
    },
    {
     "name": "stdout",
     "output_type": "stream",
     "text": [
      "Processing image ../../datasets/cityscapes-dataset/leftImg8bit_trainvaltest/leftImg8bit/train/aachen/aachen_000019_000019_leftImg8bit.png\n"
     ]
    },
    {
     "name": "stderr",
     "output_type": "stream",
     "text": [
      "/usr/local/lib/python3.7/site-packages/skimage/io/_io.py:142: UserWarning: ../../datasets/aurora/instagan/train/sampleA_seg/785_0.png is a boolean image: setting True to 1 and False to 0\n",
      "  warn('%s is a boolean image: setting True to 1 and False to 0' % fname)\n",
      "/usr/local/lib/python3.7/site-packages/skimage/io/_io.py:142: UserWarning: ../../datasets/aurora/instagan/train/sampleA_seg/785_1.png is a boolean image: setting True to 1 and False to 0\n",
      "  warn('%s is a boolean image: setting True to 1 and False to 0' % fname)\n"
     ]
    },
    {
     "name": "stdout",
     "output_type": "stream",
     "text": [
      "Processing image ../../datasets/cityscapes-dataset/leftImg8bit_trainvaltest/leftImg8bit/train/aachen/aachen_000028_000019_leftImg8bit.png\n"
     ]
    },
    {
     "name": "stderr",
     "output_type": "stream",
     "text": [
      "/usr/local/lib/python3.7/site-packages/skimage/io/_io.py:142: UserWarning: ../../datasets/aurora/instagan/train/sampleA_seg/786_0.png is a boolean image: setting True to 1 and False to 0\n",
      "  warn('%s is a boolean image: setting True to 1 and False to 0' % fname)\n",
      "/usr/local/lib/python3.7/site-packages/skimage/io/_io.py:140: UserWarning: ../../datasets/aurora/instagan/train/sampleA_seg/786_1.png is a low contrast image\n",
      "  warn('%s is a low contrast image' % fname)\n",
      "/usr/local/lib/python3.7/site-packages/skimage/io/_io.py:142: UserWarning: ../../datasets/aurora/instagan/train/sampleA_seg/786_1.png is a boolean image: setting True to 1 and False to 0\n",
      "  warn('%s is a boolean image: setting True to 1 and False to 0' % fname)\n",
      "/usr/local/lib/python3.7/site-packages/skimage/io/_io.py:142: UserWarning: ../../datasets/aurora/instagan/train/sampleA_seg/786_2.png is a boolean image: setting True to 1 and False to 0\n",
      "  warn('%s is a boolean image: setting True to 1 and False to 0' % fname)\n",
      "/usr/local/lib/python3.7/site-packages/skimage/io/_io.py:142: UserWarning: ../../datasets/aurora/instagan/train/sampleA_seg/786_3.png is a boolean image: setting True to 1 and False to 0\n",
      "  warn('%s is a boolean image: setting True to 1 and False to 0' % fname)\n",
      "/usr/local/lib/python3.7/site-packages/skimage/io/_io.py:140: UserWarning: ../../datasets/aurora/instagan/train/sampleA_seg/786_4.png is a low contrast image\n",
      "  warn('%s is a low contrast image' % fname)\n",
      "/usr/local/lib/python3.7/site-packages/skimage/io/_io.py:142: UserWarning: ../../datasets/aurora/instagan/train/sampleA_seg/786_4.png is a boolean image: setting True to 1 and False to 0\n",
      "  warn('%s is a boolean image: setting True to 1 and False to 0' % fname)\n",
      "/usr/local/lib/python3.7/site-packages/skimage/io/_io.py:140: UserWarning: ../../datasets/aurora/instagan/train/sampleA_seg/786_5.png is a low contrast image\n",
      "  warn('%s is a low contrast image' % fname)\n",
      "/usr/local/lib/python3.7/site-packages/skimage/io/_io.py:142: UserWarning: ../../datasets/aurora/instagan/train/sampleA_seg/786_5.png is a boolean image: setting True to 1 and False to 0\n",
      "  warn('%s is a boolean image: setting True to 1 and False to 0' % fname)\n"
     ]
    },
    {
     "name": "stdout",
     "output_type": "stream",
     "text": [
      "Processing image ../../datasets/cityscapes-dataset/leftImg8bit_trainvaltest/leftImg8bit/train/aachen/aachen_000022_000019_leftImg8bit.png\n"
     ]
    },
    {
     "name": "stderr",
     "output_type": "stream",
     "text": [
      "/usr/local/lib/python3.7/site-packages/skimage/io/_io.py:142: UserWarning: ../../datasets/aurora/instagan/train/sampleA_seg/787_0.png is a boolean image: setting True to 1 and False to 0\n",
      "  warn('%s is a boolean image: setting True to 1 and False to 0' % fname)\n"
     ]
    },
    {
     "name": "stdout",
     "output_type": "stream",
     "text": [
      "Processing image ../../datasets/cityscapes-dataset/leftImg8bit_trainvaltest/leftImg8bit/train/aachen/aachen_000151_000019_leftImg8bit.png\n"
     ]
    },
    {
     "name": "stderr",
     "output_type": "stream",
     "text": [
      "/usr/local/lib/python3.7/site-packages/skimage/io/_io.py:140: UserWarning: ../../datasets/aurora/instagan/train/sampleA_seg/788_0.png is a low contrast image\n",
      "  warn('%s is a low contrast image' % fname)\n",
      "/usr/local/lib/python3.7/site-packages/skimage/io/_io.py:142: UserWarning: ../../datasets/aurora/instagan/train/sampleA_seg/788_0.png is a boolean image: setting True to 1 and False to 0\n",
      "  warn('%s is a boolean image: setting True to 1 and False to 0' % fname)\n",
      "/usr/local/lib/python3.7/site-packages/skimage/io/_io.py:142: UserWarning: ../../datasets/aurora/instagan/train/sampleA_seg/788_1.png is a boolean image: setting True to 1 and False to 0\n",
      "  warn('%s is a boolean image: setting True to 1 and False to 0' % fname)\n"
     ]
    },
    {
     "name": "stdout",
     "output_type": "stream",
     "text": [
      "Processing image ../../datasets/cityscapes-dataset/leftImg8bit_trainvaltest/leftImg8bit/train/aachen/aachen_000096_000019_leftImg8bit.png\n"
     ]
    },
    {
     "name": "stderr",
     "output_type": "stream",
     "text": [
      "/usr/local/lib/python3.7/site-packages/skimage/io/_io.py:142: UserWarning: ../../datasets/aurora/instagan/train/sampleA_seg/789_0.png is a boolean image: setting True to 1 and False to 0\n",
      "  warn('%s is a boolean image: setting True to 1 and False to 0' % fname)\n",
      "/usr/local/lib/python3.7/site-packages/skimage/io/_io.py:142: UserWarning: ../../datasets/aurora/instagan/train/sampleA_seg/789_1.png is a boolean image: setting True to 1 and False to 0\n",
      "  warn('%s is a boolean image: setting True to 1 and False to 0' % fname)\n",
      "/usr/local/lib/python3.7/site-packages/skimage/io/_io.py:142: UserWarning: ../../datasets/aurora/instagan/train/sampleA_seg/789_2.png is a boolean image: setting True to 1 and False to 0\n",
      "  warn('%s is a boolean image: setting True to 1 and False to 0' % fname)\n"
     ]
    },
    {
     "name": "stdout",
     "output_type": "stream",
     "text": [
      "Processing image ../../datasets/cityscapes-dataset/leftImg8bit_trainvaltest/leftImg8bit/train/aachen/aachen_000057_000019_leftImg8bit.png\n"
     ]
    },
    {
     "name": "stderr",
     "output_type": "stream",
     "text": [
      "/usr/local/lib/python3.7/site-packages/skimage/io/_io.py:142: UserWarning: ../../datasets/aurora/instagan/train/sampleA_seg/790_0.png is a boolean image: setting True to 1 and False to 0\n",
      "  warn('%s is a boolean image: setting True to 1 and False to 0' % fname)\n"
     ]
    },
    {
     "name": "stdout",
     "output_type": "stream",
     "text": [
      "Processing image ../../datasets/cityscapes-dataset/leftImg8bit_trainvaltest/leftImg8bit/train/aachen/aachen_000124_000019_leftImg8bit.png\n"
     ]
    },
    {
     "name": "stderr",
     "output_type": "stream",
     "text": [
      "/usr/local/lib/python3.7/site-packages/skimage/io/_io.py:142: UserWarning: ../../datasets/aurora/instagan/train/sampleA_seg/791_0.png is a boolean image: setting True to 1 and False to 0\n",
      "  warn('%s is a boolean image: setting True to 1 and False to 0' % fname)\n"
     ]
    },
    {
     "name": "stdout",
     "output_type": "stream",
     "text": [
      "Processing image ../../datasets/cityscapes-dataset/leftImg8bit_trainvaltest/leftImg8bit/train/aachen/aachen_000061_000019_leftImg8bit.png\n"
     ]
    },
    {
     "name": "stderr",
     "output_type": "stream",
     "text": [
      "/usr/local/lib/python3.7/site-packages/skimage/io/_io.py:142: UserWarning: ../../datasets/aurora/instagan/train/sampleA_seg/792_0.png is a boolean image: setting True to 1 and False to 0\n",
      "  warn('%s is a boolean image: setting True to 1 and False to 0' % fname)\n",
      "/usr/local/lib/python3.7/site-packages/skimage/io/_io.py:142: UserWarning: ../../datasets/aurora/instagan/train/sampleA_seg/792_1.png is a boolean image: setting True to 1 and False to 0\n",
      "  warn('%s is a boolean image: setting True to 1 and False to 0' % fname)\n"
     ]
    },
    {
     "name": "stdout",
     "output_type": "stream",
     "text": [
      "Processing image ../../datasets/cityscapes-dataset/leftImg8bit_trainvaltest/leftImg8bit/train/aachen/aachen_000112_000019_leftImg8bit.png\n"
     ]
    },
    {
     "name": "stderr",
     "output_type": "stream",
     "text": [
      "/usr/local/lib/python3.7/site-packages/skimage/io/_io.py:142: UserWarning: ../../datasets/aurora/instagan/train/sampleA_seg/793_0.png is a boolean image: setting True to 1 and False to 0\n",
      "  warn('%s is a boolean image: setting True to 1 and False to 0' % fname)\n"
     ]
    },
    {
     "name": "stdout",
     "output_type": "stream",
     "text": [
      "Processing image ../../datasets/cityscapes-dataset/leftImg8bit_trainvaltest/leftImg8bit/train/aachen/aachen_000014_000019_leftImg8bit.png\n"
     ]
    },
    {
     "name": "stderr",
     "output_type": "stream",
     "text": [
      "/usr/local/lib/python3.7/site-packages/skimage/io/_io.py:142: UserWarning: ../../datasets/aurora/instagan/train/sampleA_seg/794_0.png is a boolean image: setting True to 1 and False to 0\n",
      "  warn('%s is a boolean image: setting True to 1 and False to 0' % fname)\n"
     ]
    },
    {
     "name": "stdout",
     "output_type": "stream",
     "text": [
      "Processing image ../../datasets/cityscapes-dataset/leftImg8bit_trainvaltest/leftImg8bit/train/aachen/aachen_000167_000019_leftImg8bit.png\n"
     ]
    },
    {
     "name": "stderr",
     "output_type": "stream",
     "text": [
      "/usr/local/lib/python3.7/site-packages/skimage/io/_io.py:140: UserWarning: ../../datasets/aurora/instagan/train/sampleA_seg/795_0.png is a low contrast image\n",
      "  warn('%s is a low contrast image' % fname)\n",
      "/usr/local/lib/python3.7/site-packages/skimage/io/_io.py:142: UserWarning: ../../datasets/aurora/instagan/train/sampleA_seg/795_0.png is a boolean image: setting True to 1 and False to 0\n",
      "  warn('%s is a boolean image: setting True to 1 and False to 0' % fname)\n"
     ]
    },
    {
     "name": "stdout",
     "output_type": "stream",
     "text": [
      "Processing image ../../datasets/cityscapes-dataset/leftImg8bit_trainvaltest/leftImg8bit/train/aachen/aachen_000118_000019_leftImg8bit.png\n"
     ]
    },
    {
     "name": "stderr",
     "output_type": "stream",
     "text": [
      "/usr/local/lib/python3.7/site-packages/skimage/io/_io.py:142: UserWarning: ../../datasets/aurora/instagan/train/sampleA_seg/796_0.png is a boolean image: setting True to 1 and False to 0\n",
      "  warn('%s is a boolean image: setting True to 1 and False to 0' % fname)\n",
      "/usr/local/lib/python3.7/site-packages/skimage/io/_io.py:140: UserWarning: ../../datasets/aurora/instagan/train/sampleA_seg/796_1.png is a low contrast image\n",
      "  warn('%s is a low contrast image' % fname)\n",
      "/usr/local/lib/python3.7/site-packages/skimage/io/_io.py:142: UserWarning: ../../datasets/aurora/instagan/train/sampleA_seg/796_1.png is a boolean image: setting True to 1 and False to 0\n",
      "  warn('%s is a boolean image: setting True to 1 and False to 0' % fname)\n"
     ]
    },
    {
     "name": "stdout",
     "output_type": "stream",
     "text": [
      "Processing image ../../datasets/cityscapes-dataset/leftImg8bit_trainvaltest/leftImg8bit/train/aachen/aachen_000129_000019_leftImg8bit.png\n"
     ]
    },
    {
     "name": "stderr",
     "output_type": "stream",
     "text": [
      "/usr/local/lib/python3.7/site-packages/skimage/io/_io.py:142: UserWarning: ../../datasets/aurora/instagan/train/sampleA_seg/797_0.png is a boolean image: setting True to 1 and False to 0\n",
      "  warn('%s is a boolean image: setting True to 1 and False to 0' % fname)\n"
     ]
    },
    {
     "name": "stdout",
     "output_type": "stream",
     "text": [
      "Processing image ../../datasets/cityscapes-dataset/leftImg8bit_trainvaltest/leftImg8bit/train/aachen/aachen_000025_000019_leftImg8bit.png\n"
     ]
    },
    {
     "name": "stderr",
     "output_type": "stream",
     "text": [
      "/usr/local/lib/python3.7/site-packages/skimage/io/_io.py:142: UserWarning: ../../datasets/aurora/instagan/train/sampleA_seg/798_0.png is a boolean image: setting True to 1 and False to 0\n",
      "  warn('%s is a boolean image: setting True to 1 and False to 0' % fname)\n",
      "/usr/local/lib/python3.7/site-packages/skimage/io/_io.py:142: UserWarning: ../../datasets/aurora/instagan/train/sampleA_seg/798_1.png is a boolean image: setting True to 1 and False to 0\n",
      "  warn('%s is a boolean image: setting True to 1 and False to 0' % fname)\n",
      "/usr/local/lib/python3.7/site-packages/skimage/io/_io.py:142: UserWarning: ../../datasets/aurora/instagan/train/sampleA_seg/798_2.png is a boolean image: setting True to 1 and False to 0\n",
      "  warn('%s is a boolean image: setting True to 1 and False to 0' % fname)\n"
     ]
    },
    {
     "name": "stdout",
     "output_type": "stream",
     "text": [
      "Processing image ../../datasets/cityscapes-dataset/leftImg8bit_trainvaltest/leftImg8bit/train/aachen/aachen_000156_000019_leftImg8bit.png\n"
     ]
    },
    {
     "name": "stderr",
     "output_type": "stream",
     "text": [
      "/usr/local/lib/python3.7/site-packages/skimage/io/_io.py:140: UserWarning: ../../datasets/aurora/instagan/train/sampleA_seg/799_0.png is a low contrast image\n",
      "  warn('%s is a low contrast image' % fname)\n",
      "/usr/local/lib/python3.7/site-packages/skimage/io/_io.py:142: UserWarning: ../../datasets/aurora/instagan/train/sampleA_seg/799_0.png is a boolean image: setting True to 1 and False to 0\n",
      "  warn('%s is a boolean image: setting True to 1 and False to 0' % fname)\n"
     ]
    },
    {
     "name": "stdout",
     "output_type": "stream",
     "text": [
      "Processing image ../../datasets/cityscapes-dataset/leftImg8bit_trainvaltest/leftImg8bit/train/aachen/aachen_000091_000019_leftImg8bit.png\n"
     ]
    },
    {
     "name": "stderr",
     "output_type": "stream",
     "text": [
      "/usr/local/lib/python3.7/site-packages/skimage/io/_io.py:142: UserWarning: ../../datasets/aurora/instagan/train/sampleA_seg/800_0.png is a boolean image: setting True to 1 and False to 0\n",
      "  warn('%s is a boolean image: setting True to 1 and False to 0' % fname)\n"
     ]
    },
    {
     "name": "stdout",
     "output_type": "stream",
     "text": [
      "Processing image ../../datasets/cityscapes-dataset/leftImg8bit_trainvaltest/leftImg8bit/train/aachen/aachen_000050_000019_leftImg8bit.png\n"
     ]
    },
    {
     "name": "stderr",
     "output_type": "stream",
     "text": [
      "/usr/local/lib/python3.7/site-packages/skimage/io/_io.py:142: UserWarning: ../../datasets/aurora/instagan/train/sampleA_seg/801_0.png is a boolean image: setting True to 1 and False to 0\n",
      "  warn('%s is a boolean image: setting True to 1 and False to 0' % fname)\n",
      "/usr/local/lib/python3.7/site-packages/skimage/io/_io.py:142: UserWarning: ../../datasets/aurora/instagan/train/sampleA_seg/801_1.png is a boolean image: setting True to 1 and False to 0\n",
      "  warn('%s is a boolean image: setting True to 1 and False to 0' % fname)\n",
      "/usr/local/lib/python3.7/site-packages/skimage/io/_io.py:140: UserWarning: ../../datasets/aurora/instagan/train/sampleA_seg/801_2.png is a low contrast image\n",
      "  warn('%s is a low contrast image' % fname)\n",
      "/usr/local/lib/python3.7/site-packages/skimage/io/_io.py:142: UserWarning: ../../datasets/aurora/instagan/train/sampleA_seg/801_2.png is a boolean image: setting True to 1 and False to 0\n",
      "  warn('%s is a boolean image: setting True to 1 and False to 0' % fname)\n"
     ]
    },
    {
     "name": "stdout",
     "output_type": "stream",
     "text": [
      "Processing image ../../datasets/cityscapes-dataset/leftImg8bit_trainvaltest/leftImg8bit/train/aachen/aachen_000123_000019_leftImg8bit.png\n"
     ]
    },
    {
     "name": "stderr",
     "output_type": "stream",
     "text": [
      "/usr/local/lib/python3.7/site-packages/skimage/io/_io.py:142: UserWarning: ../../datasets/aurora/instagan/train/sampleA_seg/802_0.png is a boolean image: setting True to 1 and False to 0\n",
      "  warn('%s is a boolean image: setting True to 1 and False to 0' % fname)\n"
     ]
    },
    {
     "name": "stdout",
     "output_type": "stream",
     "text": [
      "Processing image ../../datasets/cityscapes-dataset/leftImg8bit_trainvaltest/leftImg8bit/train/tubingen/tubingen_000001_000019_leftImg8bit.png\n"
     ]
    },
    {
     "name": "stderr",
     "output_type": "stream",
     "text": [
      "/usr/local/lib/python3.7/site-packages/skimage/io/_io.py:142: UserWarning: ../../datasets/aurora/instagan/train/sampleA_seg/803_0.png is a boolean image: setting True to 1 and False to 0\n",
      "  warn('%s is a boolean image: setting True to 1 and False to 0' % fname)\n",
      "/usr/local/lib/python3.7/site-packages/skimage/io/_io.py:140: UserWarning: ../../datasets/aurora/instagan/train/sampleA_seg/803_1.png is a low contrast image\n",
      "  warn('%s is a low contrast image' % fname)\n",
      "/usr/local/lib/python3.7/site-packages/skimage/io/_io.py:142: UserWarning: ../../datasets/aurora/instagan/train/sampleA_seg/803_1.png is a boolean image: setting True to 1 and False to 0\n",
      "  warn('%s is a boolean image: setting True to 1 and False to 0' % fname)\n",
      "/usr/local/lib/python3.7/site-packages/skimage/io/_io.py:142: UserWarning: ../../datasets/aurora/instagan/train/sampleA_seg/803_2.png is a boolean image: setting True to 1 and False to 0\n",
      "  warn('%s is a boolean image: setting True to 1 and False to 0' % fname)\n"
     ]
    },
    {
     "name": "stdout",
     "output_type": "stream",
     "text": [
      "Processing image ../../datasets/cityscapes-dataset/leftImg8bit_trainvaltest/leftImg8bit/train/tubingen/tubingen_000074_000019_leftImg8bit.png\n"
     ]
    },
    {
     "name": "stderr",
     "output_type": "stream",
     "text": [
      "/usr/local/lib/python3.7/site-packages/skimage/io/_io.py:140: UserWarning: ../../datasets/aurora/instagan/train/sampleA_seg/804_0.png is a low contrast image\n",
      "  warn('%s is a low contrast image' % fname)\n",
      "/usr/local/lib/python3.7/site-packages/skimage/io/_io.py:142: UserWarning: ../../datasets/aurora/instagan/train/sampleA_seg/804_0.png is a boolean image: setting True to 1 and False to 0\n",
      "  warn('%s is a boolean image: setting True to 1 and False to 0' % fname)\n",
      "/usr/local/lib/python3.7/site-packages/skimage/io/_io.py:140: UserWarning: ../../datasets/aurora/instagan/train/sampleA_seg/804_1.png is a low contrast image\n",
      "  warn('%s is a low contrast image' % fname)\n",
      "/usr/local/lib/python3.7/site-packages/skimage/io/_io.py:142: UserWarning: ../../datasets/aurora/instagan/train/sampleA_seg/804_1.png is a boolean image: setting True to 1 and False to 0\n",
      "  warn('%s is a boolean image: setting True to 1 and False to 0' % fname)\n",
      "/usr/local/lib/python3.7/site-packages/skimage/io/_io.py:142: UserWarning: ../../datasets/aurora/instagan/train/sampleA_seg/804_2.png is a boolean image: setting True to 1 and False to 0\n",
      "  warn('%s is a boolean image: setting True to 1 and False to 0' % fname)\n"
     ]
    },
    {
     "name": "stdout",
     "output_type": "stream",
     "text": [
      "Processing image ../../datasets/cityscapes-dataset/leftImg8bit_trainvaltest/leftImg8bit/train/tubingen/tubingen_000107_000019_leftImg8bit.png\n"
     ]
    },
    {
     "name": "stderr",
     "output_type": "stream",
     "text": [
      "/usr/local/lib/python3.7/site-packages/skimage/io/_io.py:142: UserWarning: ../../datasets/aurora/instagan/train/sampleA_seg/805_0.png is a boolean image: setting True to 1 and False to 0\n",
      "  warn('%s is a boolean image: setting True to 1 and False to 0' % fname)\n"
     ]
    },
    {
     "name": "stdout",
     "output_type": "stream",
     "text": [
      "Processing image ../../datasets/cityscapes-dataset/leftImg8bit_trainvaltest/leftImg8bit/train/tubingen/tubingen_000045_000019_leftImg8bit.png\n",
      "Processing image ../../datasets/cityscapes-dataset/leftImg8bit_trainvaltest/leftImg8bit/train/tubingen/tubingen_000136_000019_leftImg8bit.png\n",
      "Processing image ../../datasets/cityscapes-dataset/leftImg8bit_trainvaltest/leftImg8bit/train/tubingen/tubingen_000084_000019_leftImg8bit.png\n"
     ]
    },
    {
     "name": "stderr",
     "output_type": "stream",
     "text": [
      "/usr/local/lib/python3.7/site-packages/skimage/io/_io.py:142: UserWarning: ../../datasets/aurora/instagan/train/sampleA_seg/808_0.png is a boolean image: setting True to 1 and False to 0\n",
      "  warn('%s is a boolean image: setting True to 1 and False to 0' % fname)\n",
      "/usr/local/lib/python3.7/site-packages/skimage/io/_io.py:142: UserWarning: ../../datasets/aurora/instagan/train/sampleA_seg/808_1.png is a boolean image: setting True to 1 and False to 0\n",
      "  warn('%s is a boolean image: setting True to 1 and False to 0' % fname)\n",
      "/usr/local/lib/python3.7/site-packages/skimage/io/_io.py:142: UserWarning: ../../datasets/aurora/instagan/train/sampleA_seg/808_2.png is a boolean image: setting True to 1 and False to 0\n",
      "  warn('%s is a boolean image: setting True to 1 and False to 0' % fname)\n"
     ]
    },
    {
     "name": "stdout",
     "output_type": "stream",
     "text": [
      "Processing image ../../datasets/cityscapes-dataset/leftImg8bit_trainvaltest/leftImg8bit/train/tubingen/tubingen_000030_000019_leftImg8bit.png\n"
     ]
    },
    {
     "name": "stderr",
     "output_type": "stream",
     "text": [
      "/usr/local/lib/python3.7/site-packages/skimage/io/_io.py:142: UserWarning: ../../datasets/aurora/instagan/train/sampleA_seg/809_0.png is a boolean image: setting True to 1 and False to 0\n",
      "  warn('%s is a boolean image: setting True to 1 and False to 0' % fname)\n",
      "/usr/local/lib/python3.7/site-packages/skimage/io/_io.py:142: UserWarning: ../../datasets/aurora/instagan/train/sampleA_seg/809_1.png is a boolean image: setting True to 1 and False to 0\n",
      "  warn('%s is a boolean image: setting True to 1 and False to 0' % fname)\n",
      "/usr/local/lib/python3.7/site-packages/skimage/io/_io.py:140: UserWarning: ../../datasets/aurora/instagan/train/sampleA_seg/809_2.png is a low contrast image\n",
      "  warn('%s is a low contrast image' % fname)\n",
      "/usr/local/lib/python3.7/site-packages/skimage/io/_io.py:142: UserWarning: ../../datasets/aurora/instagan/train/sampleA_seg/809_2.png is a boolean image: setting True to 1 and False to 0\n",
      "  warn('%s is a boolean image: setting True to 1 and False to 0' % fname)\n",
      "/usr/local/lib/python3.7/site-packages/skimage/io/_io.py:142: UserWarning: ../../datasets/aurora/instagan/train/sampleA_seg/809_3.png is a boolean image: setting True to 1 and False to 0\n",
      "  warn('%s is a boolean image: setting True to 1 and False to 0' % fname)\n"
     ]
    },
    {
     "name": "stdout",
     "output_type": "stream",
     "text": [
      "Processing image ../../datasets/cityscapes-dataset/leftImg8bit_trainvaltest/leftImg8bit/train/tubingen/tubingen_000143_000019_leftImg8bit.png\n"
     ]
    },
    {
     "name": "stderr",
     "output_type": "stream",
     "text": [
      "/usr/local/lib/python3.7/site-packages/skimage/io/_io.py:140: UserWarning: ../../datasets/aurora/instagan/train/sampleA_seg/810_0.png is a low contrast image\n",
      "  warn('%s is a low contrast image' % fname)\n",
      "/usr/local/lib/python3.7/site-packages/skimage/io/_io.py:142: UserWarning: ../../datasets/aurora/instagan/train/sampleA_seg/810_0.png is a boolean image: setting True to 1 and False to 0\n",
      "  warn('%s is a boolean image: setting True to 1 and False to 0' % fname)\n",
      "/usr/local/lib/python3.7/site-packages/skimage/io/_io.py:142: UserWarning: ../../datasets/aurora/instagan/train/sampleA_seg/810_1.png is a boolean image: setting True to 1 and False to 0\n",
      "  warn('%s is a boolean image: setting True to 1 and False to 0' % fname)\n",
      "/usr/local/lib/python3.7/site-packages/skimage/io/_io.py:142: UserWarning: ../../datasets/aurora/instagan/train/sampleA_seg/810_2.png is a boolean image: setting True to 1 and False to 0\n",
      "  warn('%s is a boolean image: setting True to 1 and False to 0' % fname)\n",
      "/usr/local/lib/python3.7/site-packages/skimage/io/_io.py:142: UserWarning: ../../datasets/aurora/instagan/train/sampleA_seg/810_3.png is a boolean image: setting True to 1 and False to 0\n",
      "  warn('%s is a boolean image: setting True to 1 and False to 0' % fname)\n",
      "/usr/local/lib/python3.7/site-packages/skimage/io/_io.py:142: UserWarning: ../../datasets/aurora/instagan/train/sampleA_seg/810_4.png is a boolean image: setting True to 1 and False to 0\n",
      "  warn('%s is a boolean image: setting True to 1 and False to 0' % fname)\n",
      "/usr/local/lib/python3.7/site-packages/skimage/io/_io.py:140: UserWarning: ../../datasets/aurora/instagan/train/sampleA_seg/810_5.png is a low contrast image\n",
      "  warn('%s is a low contrast image' % fname)\n",
      "/usr/local/lib/python3.7/site-packages/skimage/io/_io.py:142: UserWarning: ../../datasets/aurora/instagan/train/sampleA_seg/810_5.png is a boolean image: setting True to 1 and False to 0\n",
      "  warn('%s is a boolean image: setting True to 1 and False to 0' % fname)\n",
      "/usr/local/lib/python3.7/site-packages/skimage/io/_io.py:140: UserWarning: ../../datasets/aurora/instagan/train/sampleA_seg/810_6.png is a low contrast image\n",
      "  warn('%s is a low contrast image' % fname)\n",
      "/usr/local/lib/python3.7/site-packages/skimage/io/_io.py:142: UserWarning: ../../datasets/aurora/instagan/train/sampleA_seg/810_6.png is a boolean image: setting True to 1 and False to 0\n",
      "  warn('%s is a boolean image: setting True to 1 and False to 0' % fname)\n"
     ]
    },
    {
     "name": "stdout",
     "output_type": "stream",
     "text": [
      "Processing image ../../datasets/cityscapes-dataset/leftImg8bit_trainvaltest/leftImg8bit/train/tubingen/tubingen_000006_000019_leftImg8bit.png\n",
      "Processing image ../../datasets/cityscapes-dataset/leftImg8bit_trainvaltest/leftImg8bit/train/tubingen/tubingen_000073_000019_leftImg8bit.png\n"
     ]
    },
    {
     "name": "stderr",
     "output_type": "stream",
     "text": [
      "/usr/local/lib/python3.7/site-packages/skimage/io/_io.py:142: UserWarning: ../../datasets/aurora/instagan/train/sampleA_seg/812_0.png is a boolean image: setting True to 1 and False to 0\n",
      "  warn('%s is a boolean image: setting True to 1 and False to 0' % fname)\n",
      "/usr/local/lib/python3.7/site-packages/skimage/io/_io.py:142: UserWarning: ../../datasets/aurora/instagan/train/sampleA_seg/812_1.png is a boolean image: setting True to 1 and False to 0\n",
      "  warn('%s is a boolean image: setting True to 1 and False to 0' % fname)\n",
      "/usr/local/lib/python3.7/site-packages/skimage/io/_io.py:142: UserWarning: ../../datasets/aurora/instagan/train/sampleA_seg/812_2.png is a boolean image: setting True to 1 and False to 0\n",
      "  warn('%s is a boolean image: setting True to 1 and False to 0' % fname)\n"
     ]
    },
    {
     "name": "stdout",
     "output_type": "stream",
     "text": [
      "Processing image ../../datasets/cityscapes-dataset/leftImg8bit_trainvaltest/leftImg8bit/train/tubingen/tubingen_000100_000019_leftImg8bit.png\n"
     ]
    },
    {
     "name": "stderr",
     "output_type": "stream",
     "text": [
      "/usr/local/lib/python3.7/site-packages/skimage/io/_io.py:140: UserWarning: ../../datasets/aurora/instagan/train/sampleA_seg/813_0.png is a low contrast image\n",
      "  warn('%s is a low contrast image' % fname)\n",
      "/usr/local/lib/python3.7/site-packages/skimage/io/_io.py:142: UserWarning: ../../datasets/aurora/instagan/train/sampleA_seg/813_0.png is a boolean image: setting True to 1 and False to 0\n",
      "  warn('%s is a boolean image: setting True to 1 and False to 0' % fname)\n",
      "/usr/local/lib/python3.7/site-packages/skimage/io/_io.py:142: UserWarning: ../../datasets/aurora/instagan/train/sampleA_seg/813_1.png is a boolean image: setting True to 1 and False to 0\n",
      "  warn('%s is a boolean image: setting True to 1 and False to 0' % fname)\n",
      "/usr/local/lib/python3.7/site-packages/skimage/io/_io.py:140: UserWarning: ../../datasets/aurora/instagan/train/sampleA_seg/813_2.png is a low contrast image\n",
      "  warn('%s is a low contrast image' % fname)\n",
      "/usr/local/lib/python3.7/site-packages/skimage/io/_io.py:142: UserWarning: ../../datasets/aurora/instagan/train/sampleA_seg/813_2.png is a boolean image: setting True to 1 and False to 0\n",
      "  warn('%s is a boolean image: setting True to 1 and False to 0' % fname)\n",
      "/usr/local/lib/python3.7/site-packages/skimage/io/_io.py:142: UserWarning: ../../datasets/aurora/instagan/train/sampleA_seg/813_3.png is a boolean image: setting True to 1 and False to 0\n",
      "  warn('%s is a boolean image: setting True to 1 and False to 0' % fname)\n",
      "/usr/local/lib/python3.7/site-packages/skimage/io/_io.py:140: UserWarning: ../../datasets/aurora/instagan/train/sampleA_seg/813_4.png is a low contrast image\n",
      "  warn('%s is a low contrast image' % fname)\n",
      "/usr/local/lib/python3.7/site-packages/skimage/io/_io.py:142: UserWarning: ../../datasets/aurora/instagan/train/sampleA_seg/813_4.png is a boolean image: setting True to 1 and False to 0\n",
      "  warn('%s is a boolean image: setting True to 1 and False to 0' % fname)\n",
      "/usr/local/lib/python3.7/site-packages/skimage/io/_io.py:140: UserWarning: ../../datasets/aurora/instagan/train/sampleA_seg/813_5.png is a low contrast image\n",
      "  warn('%s is a low contrast image' % fname)\n",
      "/usr/local/lib/python3.7/site-packages/skimage/io/_io.py:142: UserWarning: ../../datasets/aurora/instagan/train/sampleA_seg/813_5.png is a boolean image: setting True to 1 and False to 0\n",
      "  warn('%s is a boolean image: setting True to 1 and False to 0' % fname)\n",
      "/usr/local/lib/python3.7/site-packages/skimage/io/_io.py:142: UserWarning: ../../datasets/aurora/instagan/train/sampleA_seg/813_6.png is a boolean image: setting True to 1 and False to 0\n",
      "  warn('%s is a boolean image: setting True to 1 and False to 0' % fname)\n",
      "/usr/local/lib/python3.7/site-packages/skimage/io/_io.py:142: UserWarning: ../../datasets/aurora/instagan/train/sampleA_seg/813_7.png is a boolean image: setting True to 1 and False to 0\n",
      "  warn('%s is a boolean image: setting True to 1 and False to 0' % fname)\n"
     ]
    },
    {
     "name": "stdout",
     "output_type": "stream",
     "text": [
      "Processing image ../../datasets/cityscapes-dataset/leftImg8bit_trainvaltest/leftImg8bit/train/tubingen/tubingen_000079_000019_leftImg8bit.png\n"
     ]
    },
    {
     "name": "stderr",
     "output_type": "stream",
     "text": [
      "/usr/local/lib/python3.7/site-packages/skimage/io/_io.py:142: UserWarning: ../../datasets/aurora/instagan/train/sampleA_seg/814_0.png is a boolean image: setting True to 1 and False to 0\n",
      "  warn('%s is a boolean image: setting True to 1 and False to 0' % fname)\n",
      "/usr/local/lib/python3.7/site-packages/skimage/io/_io.py:142: UserWarning: ../../datasets/aurora/instagan/train/sampleA_seg/814_1.png is a boolean image: setting True to 1 and False to 0\n",
      "  warn('%s is a boolean image: setting True to 1 and False to 0' % fname)\n",
      "/usr/local/lib/python3.7/site-packages/skimage/io/_io.py:142: UserWarning: ../../datasets/aurora/instagan/train/sampleA_seg/814_2.png is a boolean image: setting True to 1 and False to 0\n",
      "  warn('%s is a boolean image: setting True to 1 and False to 0' % fname)\n",
      "/usr/local/lib/python3.7/site-packages/skimage/io/_io.py:142: UserWarning: ../../datasets/aurora/instagan/train/sampleA_seg/814_3.png is a boolean image: setting True to 1 and False to 0\n",
      "  warn('%s is a boolean image: setting True to 1 and False to 0' % fname)\n",
      "/usr/local/lib/python3.7/site-packages/skimage/io/_io.py:142: UserWarning: ../../datasets/aurora/instagan/train/sampleA_seg/814_4.png is a boolean image: setting True to 1 and False to 0\n",
      "  warn('%s is a boolean image: setting True to 1 and False to 0' % fname)\n"
     ]
    },
    {
     "name": "stdout",
     "output_type": "stream",
     "text": [
      "Processing image ../../datasets/cityscapes-dataset/leftImg8bit_trainvaltest/leftImg8bit/train/tubingen/tubingen_000048_000019_leftImg8bit.png\n"
     ]
    },
    {
     "name": "stderr",
     "output_type": "stream",
     "text": [
      "/usr/local/lib/python3.7/site-packages/skimage/io/_io.py:140: UserWarning: ../../datasets/aurora/instagan/train/sampleA_seg/815_0.png is a low contrast image\n",
      "  warn('%s is a low contrast image' % fname)\n",
      "/usr/local/lib/python3.7/site-packages/skimage/io/_io.py:142: UserWarning: ../../datasets/aurora/instagan/train/sampleA_seg/815_0.png is a boolean image: setting True to 1 and False to 0\n",
      "  warn('%s is a boolean image: setting True to 1 and False to 0' % fname)\n",
      "/usr/local/lib/python3.7/site-packages/skimage/io/_io.py:140: UserWarning: ../../datasets/aurora/instagan/train/sampleA_seg/815_1.png is a low contrast image\n",
      "  warn('%s is a low contrast image' % fname)\n",
      "/usr/local/lib/python3.7/site-packages/skimage/io/_io.py:142: UserWarning: ../../datasets/aurora/instagan/train/sampleA_seg/815_1.png is a boolean image: setting True to 1 and False to 0\n",
      "  warn('%s is a boolean image: setting True to 1 and False to 0' % fname)\n",
      "/usr/local/lib/python3.7/site-packages/skimage/io/_io.py:140: UserWarning: ../../datasets/aurora/instagan/train/sampleA_seg/815_2.png is a low contrast image\n",
      "  warn('%s is a low contrast image' % fname)\n",
      "/usr/local/lib/python3.7/site-packages/skimage/io/_io.py:142: UserWarning: ../../datasets/aurora/instagan/train/sampleA_seg/815_2.png is a boolean image: setting True to 1 and False to 0\n",
      "  warn('%s is a boolean image: setting True to 1 and False to 0' % fname)\n",
      "/usr/local/lib/python3.7/site-packages/skimage/io/_io.py:140: UserWarning: ../../datasets/aurora/instagan/train/sampleA_seg/815_3.png is a low contrast image\n",
      "  warn('%s is a low contrast image' % fname)\n",
      "/usr/local/lib/python3.7/site-packages/skimage/io/_io.py:142: UserWarning: ../../datasets/aurora/instagan/train/sampleA_seg/815_3.png is a boolean image: setting True to 1 and False to 0\n",
      "  warn('%s is a boolean image: setting True to 1 and False to 0' % fname)\n",
      "/usr/local/lib/python3.7/site-packages/skimage/io/_io.py:142: UserWarning: ../../datasets/aurora/instagan/train/sampleA_seg/815_4.png is a boolean image: setting True to 1 and False to 0\n",
      "  warn('%s is a boolean image: setting True to 1 and False to 0' % fname)\n",
      "/usr/local/lib/python3.7/site-packages/skimage/io/_io.py:142: UserWarning: ../../datasets/aurora/instagan/train/sampleA_seg/815_5.png is a boolean image: setting True to 1 and False to 0\n",
      "  warn('%s is a boolean image: setting True to 1 and False to 0' % fname)\n"
     ]
    },
    {
     "name": "stdout",
     "output_type": "stream",
     "text": [
      "Processing image ../../datasets/cityscapes-dataset/leftImg8bit_trainvaltest/leftImg8bit/train/tubingen/tubingen_000089_000019_leftImg8bit.png\n"
     ]
    },
    {
     "name": "stderr",
     "output_type": "stream",
     "text": [
      "/usr/local/lib/python3.7/site-packages/skimage/io/_io.py:142: UserWarning: ../../datasets/aurora/instagan/train/sampleA_seg/816_0.png is a boolean image: setting True to 1 and False to 0\n",
      "  warn('%s is a boolean image: setting True to 1 and False to 0' % fname)\n",
      "/usr/local/lib/python3.7/site-packages/skimage/io/_io.py:142: UserWarning: ../../datasets/aurora/instagan/train/sampleA_seg/816_1.png is a boolean image: setting True to 1 and False to 0\n",
      "  warn('%s is a boolean image: setting True to 1 and False to 0' % fname)\n",
      "/usr/local/lib/python3.7/site-packages/skimage/io/_io.py:142: UserWarning: ../../datasets/aurora/instagan/train/sampleA_seg/816_2.png is a boolean image: setting True to 1 and False to 0\n",
      "  warn('%s is a boolean image: setting True to 1 and False to 0' % fname)\n"
     ]
    },
    {
     "name": "stdout",
     "output_type": "stream",
     "text": [
      "Processing image ../../datasets/cityscapes-dataset/leftImg8bit_trainvaltest/leftImg8bit/train/tubingen/tubingen_000042_000019_leftImg8bit.png\n"
     ]
    },
    {
     "name": "stderr",
     "output_type": "stream",
     "text": [
      "/usr/local/lib/python3.7/site-packages/skimage/io/_io.py:142: UserWarning: ../../datasets/aurora/instagan/train/sampleA_seg/817_0.png is a boolean image: setting True to 1 and False to 0\n",
      "  warn('%s is a boolean image: setting True to 1 and False to 0' % fname)\n",
      "/usr/local/lib/python3.7/site-packages/skimage/io/_io.py:142: UserWarning: ../../datasets/aurora/instagan/train/sampleA_seg/817_1.png is a boolean image: setting True to 1 and False to 0\n",
      "  warn('%s is a boolean image: setting True to 1 and False to 0' % fname)\n",
      "/usr/local/lib/python3.7/site-packages/skimage/io/_io.py:142: UserWarning: ../../datasets/aurora/instagan/train/sampleA_seg/817_2.png is a boolean image: setting True to 1 and False to 0\n",
      "  warn('%s is a boolean image: setting True to 1 and False to 0' % fname)\n",
      "/usr/local/lib/python3.7/site-packages/skimage/io/_io.py:142: UserWarning: ../../datasets/aurora/instagan/train/sampleA_seg/817_3.png is a boolean image: setting True to 1 and False to 0\n",
      "  warn('%s is a boolean image: setting True to 1 and False to 0' % fname)\n",
      "/usr/local/lib/python3.7/site-packages/skimage/io/_io.py:142: UserWarning: ../../datasets/aurora/instagan/train/sampleA_seg/817_4.png is a boolean image: setting True to 1 and False to 0\n",
      "  warn('%s is a boolean image: setting True to 1 and False to 0' % fname)\n"
     ]
    },
    {
     "name": "stdout",
     "output_type": "stream",
     "text": [
      "Processing image ../../datasets/cityscapes-dataset/leftImg8bit_trainvaltest/leftImg8bit/train/tubingen/tubingen_000131_000019_leftImg8bit.png\n"
     ]
    },
    {
     "name": "stderr",
     "output_type": "stream",
     "text": [
      "/usr/local/lib/python3.7/site-packages/skimage/io/_io.py:140: UserWarning: ../../datasets/aurora/instagan/train/sampleA_seg/818_0.png is a low contrast image\n",
      "  warn('%s is a low contrast image' % fname)\n",
      "/usr/local/lib/python3.7/site-packages/skimage/io/_io.py:142: UserWarning: ../../datasets/aurora/instagan/train/sampleA_seg/818_0.png is a boolean image: setting True to 1 and False to 0\n",
      "  warn('%s is a boolean image: setting True to 1 and False to 0' % fname)\n",
      "/usr/local/lib/python3.7/site-packages/skimage/io/_io.py:142: UserWarning: ../../datasets/aurora/instagan/train/sampleA_seg/818_1.png is a boolean image: setting True to 1 and False to 0\n",
      "  warn('%s is a boolean image: setting True to 1 and False to 0' % fname)\n",
      "/usr/local/lib/python3.7/site-packages/skimage/io/_io.py:140: UserWarning: ../../datasets/aurora/instagan/train/sampleA_seg/818_2.png is a low contrast image\n",
      "  warn('%s is a low contrast image' % fname)\n",
      "/usr/local/lib/python3.7/site-packages/skimage/io/_io.py:142: UserWarning: ../../datasets/aurora/instagan/train/sampleA_seg/818_2.png is a boolean image: setting True to 1 and False to 0\n",
      "  warn('%s is a boolean image: setting True to 1 and False to 0' % fname)\n",
      "/usr/local/lib/python3.7/site-packages/skimage/io/_io.py:140: UserWarning: ../../datasets/aurora/instagan/train/sampleA_seg/818_3.png is a low contrast image\n",
      "  warn('%s is a low contrast image' % fname)\n",
      "/usr/local/lib/python3.7/site-packages/skimage/io/_io.py:142: UserWarning: ../../datasets/aurora/instagan/train/sampleA_seg/818_3.png is a boolean image: setting True to 1 and False to 0\n",
      "  warn('%s is a boolean image: setting True to 1 and False to 0' % fname)\n",
      "/usr/local/lib/python3.7/site-packages/skimage/io/_io.py:142: UserWarning: ../../datasets/aurora/instagan/train/sampleA_seg/818_4.png is a boolean image: setting True to 1 and False to 0\n",
      "  warn('%s is a boolean image: setting True to 1 and False to 0' % fname)\n",
      "/usr/local/lib/python3.7/site-packages/skimage/io/_io.py:142: UserWarning: ../../datasets/aurora/instagan/train/sampleA_seg/818_5.png is a boolean image: setting True to 1 and False to 0\n",
      "  warn('%s is a boolean image: setting True to 1 and False to 0' % fname)\n",
      "/usr/local/lib/python3.7/site-packages/skimage/io/_io.py:142: UserWarning: ../../datasets/aurora/instagan/train/sampleA_seg/818_6.png is a boolean image: setting True to 1 and False to 0\n",
      "  warn('%s is a boolean image: setting True to 1 and False to 0' % fname)\n"
     ]
    },
    {
     "name": "stdout",
     "output_type": "stream",
     "text": [
      "Processing image ../../datasets/cityscapes-dataset/leftImg8bit_trainvaltest/leftImg8bit/train/tubingen/tubingen_000083_000019_leftImg8bit.png\n"
     ]
    },
    {
     "name": "stderr",
     "output_type": "stream",
     "text": [
      "/usr/local/lib/python3.7/site-packages/skimage/io/_io.py:142: UserWarning: ../../datasets/aurora/instagan/train/sampleA_seg/819_0.png is a boolean image: setting True to 1 and False to 0\n",
      "  warn('%s is a boolean image: setting True to 1 and False to 0' % fname)\n",
      "/usr/local/lib/python3.7/site-packages/skimage/io/_io.py:142: UserWarning: ../../datasets/aurora/instagan/train/sampleA_seg/819_1.png is a boolean image: setting True to 1 and False to 0\n",
      "  warn('%s is a boolean image: setting True to 1 and False to 0' % fname)\n"
     ]
    },
    {
     "name": "stdout",
     "output_type": "stream",
     "text": [
      "Processing image ../../datasets/cityscapes-dataset/leftImg8bit_trainvaltest/leftImg8bit/train/tubingen/tubingen_000037_000019_leftImg8bit.png\n"
     ]
    },
    {
     "name": "stderr",
     "output_type": "stream",
     "text": [
      "/usr/local/lib/python3.7/site-packages/skimage/io/_io.py:142: UserWarning: ../../datasets/aurora/instagan/train/sampleA_seg/820_0.png is a boolean image: setting True to 1 and False to 0\n",
      "  warn('%s is a boolean image: setting True to 1 and False to 0' % fname)\n",
      "/usr/local/lib/python3.7/site-packages/skimage/io/_io.py:142: UserWarning: ../../datasets/aurora/instagan/train/sampleA_seg/820_1.png is a boolean image: setting True to 1 and False to 0\n",
      "  warn('%s is a boolean image: setting True to 1 and False to 0' % fname)\n",
      "/usr/local/lib/python3.7/site-packages/skimage/io/_io.py:142: UserWarning: ../../datasets/aurora/instagan/train/sampleA_seg/820_2.png is a boolean image: setting True to 1 and False to 0\n",
      "  warn('%s is a boolean image: setting True to 1 and False to 0' % fname)\n"
     ]
    },
    {
     "name": "stdout",
     "output_type": "stream",
     "text": [
      "Processing image ../../datasets/cityscapes-dataset/leftImg8bit_trainvaltest/leftImg8bit/train/tubingen/tubingen_000109_000019_leftImg8bit.png\n"
     ]
    },
    {
     "name": "stderr",
     "output_type": "stream",
     "text": [
      "/usr/local/lib/python3.7/site-packages/skimage/io/_io.py:140: UserWarning: ../../datasets/aurora/instagan/train/sampleA_seg/821_0.png is a low contrast image\n",
      "  warn('%s is a low contrast image' % fname)\n",
      "/usr/local/lib/python3.7/site-packages/skimage/io/_io.py:142: UserWarning: ../../datasets/aurora/instagan/train/sampleA_seg/821_0.png is a boolean image: setting True to 1 and False to 0\n",
      "  warn('%s is a boolean image: setting True to 1 and False to 0' % fname)\n",
      "/usr/local/lib/python3.7/site-packages/skimage/io/_io.py:142: UserWarning: ../../datasets/aurora/instagan/train/sampleA_seg/821_1.png is a boolean image: setting True to 1 and False to 0\n",
      "  warn('%s is a boolean image: setting True to 1 and False to 0' % fname)\n",
      "/usr/local/lib/python3.7/site-packages/skimage/io/_io.py:142: UserWarning: ../../datasets/aurora/instagan/train/sampleA_seg/821_2.png is a boolean image: setting True to 1 and False to 0\n",
      "  warn('%s is a boolean image: setting True to 1 and False to 0' % fname)\n"
     ]
    },
    {
     "name": "stdout",
     "output_type": "stream",
     "text": [
      "Processing image ../../datasets/cityscapes-dataset/leftImg8bit_trainvaltest/leftImg8bit/train/tubingen/tubingen_000103_000019_leftImg8bit.png\n"
     ]
    },
    {
     "name": "stderr",
     "output_type": "stream",
     "text": [
      "/usr/local/lib/python3.7/site-packages/skimage/io/_io.py:142: UserWarning: ../../datasets/aurora/instagan/train/sampleA_seg/822_0.png is a boolean image: setting True to 1 and False to 0\n",
      "  warn('%s is a boolean image: setting True to 1 and False to 0' % fname)\n",
      "/usr/local/lib/python3.7/site-packages/skimage/io/_io.py:140: UserWarning: ../../datasets/aurora/instagan/train/sampleA_seg/822_1.png is a low contrast image\n",
      "  warn('%s is a low contrast image' % fname)\n",
      "/usr/local/lib/python3.7/site-packages/skimage/io/_io.py:142: UserWarning: ../../datasets/aurora/instagan/train/sampleA_seg/822_1.png is a boolean image: setting True to 1 and False to 0\n",
      "  warn('%s is a boolean image: setting True to 1 and False to 0' % fname)\n",
      "/usr/local/lib/python3.7/site-packages/skimage/io/_io.py:140: UserWarning: ../../datasets/aurora/instagan/train/sampleA_seg/822_2.png is a low contrast image\n",
      "  warn('%s is a low contrast image' % fname)\n",
      "/usr/local/lib/python3.7/site-packages/skimage/io/_io.py:142: UserWarning: ../../datasets/aurora/instagan/train/sampleA_seg/822_2.png is a boolean image: setting True to 1 and False to 0\n",
      "  warn('%s is a boolean image: setting True to 1 and False to 0' % fname)\n"
     ]
    },
    {
     "name": "stdout",
     "output_type": "stream",
     "text": [
      "Processing image ../../datasets/cityscapes-dataset/leftImg8bit_trainvaltest/leftImg8bit/train/tubingen/tubingen_000070_000019_leftImg8bit.png\n"
     ]
    },
    {
     "name": "stderr",
     "output_type": "stream",
     "text": [
      "/usr/local/lib/python3.7/site-packages/skimage/io/_io.py:142: UserWarning: ../../datasets/aurora/instagan/train/sampleA_seg/823_0.png is a boolean image: setting True to 1 and False to 0\n",
      "  warn('%s is a boolean image: setting True to 1 and False to 0' % fname)\n",
      "/usr/local/lib/python3.7/site-packages/skimage/io/_io.py:142: UserWarning: ../../datasets/aurora/instagan/train/sampleA_seg/823_1.png is a boolean image: setting True to 1 and False to 0\n",
      "  warn('%s is a boolean image: setting True to 1 and False to 0' % fname)\n"
     ]
    },
    {
     "name": "stdout",
     "output_type": "stream",
     "text": [
      "Processing image ../../datasets/cityscapes-dataset/leftImg8bit_trainvaltest/leftImg8bit/train/tubingen/tubingen_000005_000019_leftImg8bit.png\n"
     ]
    },
    {
     "name": "stderr",
     "output_type": "stream",
     "text": [
      "/usr/local/lib/python3.7/site-packages/skimage/io/_io.py:142: UserWarning: ../../datasets/aurora/instagan/train/sampleA_seg/824_0.png is a boolean image: setting True to 1 and False to 0\n",
      "  warn('%s is a boolean image: setting True to 1 and False to 0' % fname)\n",
      "/usr/local/lib/python3.7/site-packages/skimage/io/_io.py:142: UserWarning: ../../datasets/aurora/instagan/train/sampleA_seg/824_1.png is a boolean image: setting True to 1 and False to 0\n",
      "  warn('%s is a boolean image: setting True to 1 and False to 0' % fname)\n"
     ]
    },
    {
     "name": "stdout",
     "output_type": "stream",
     "text": [
      "Processing image ../../datasets/cityscapes-dataset/leftImg8bit_trainvaltest/leftImg8bit/train/tubingen/tubingen_000034_000019_leftImg8bit.png\n"
     ]
    },
    {
     "name": "stderr",
     "output_type": "stream",
     "text": [
      "/usr/local/lib/python3.7/site-packages/skimage/io/_io.py:142: UserWarning: ../../datasets/aurora/instagan/train/sampleA_seg/825_0.png is a boolean image: setting True to 1 and False to 0\n",
      "  warn('%s is a boolean image: setting True to 1 and False to 0' % fname)\n",
      "/usr/local/lib/python3.7/site-packages/skimage/io/_io.py:142: UserWarning: ../../datasets/aurora/instagan/train/sampleA_seg/825_1.png is a boolean image: setting True to 1 and False to 0\n",
      "  warn('%s is a boolean image: setting True to 1 and False to 0' % fname)\n",
      "/usr/local/lib/python3.7/site-packages/skimage/io/_io.py:142: UserWarning: ../../datasets/aurora/instagan/train/sampleA_seg/825_2.png is a boolean image: setting True to 1 and False to 0\n",
      "  warn('%s is a boolean image: setting True to 1 and False to 0' % fname)\n"
     ]
    },
    {
     "name": "stdout",
     "output_type": "stream",
     "text": [
      "Processing image ../../datasets/cityscapes-dataset/leftImg8bit_trainvaltest/leftImg8bit/train/tubingen/tubingen_000132_000019_leftImg8bit.png\n"
     ]
    },
    {
     "name": "stderr",
     "output_type": "stream",
     "text": [
      "/usr/local/lib/python3.7/site-packages/skimage/io/_io.py:142: UserWarning: ../../datasets/aurora/instagan/train/sampleA_seg/826_0.png is a boolean image: setting True to 1 and False to 0\n",
      "  warn('%s is a boolean image: setting True to 1 and False to 0' % fname)\n",
      "/usr/local/lib/python3.7/site-packages/skimage/io/_io.py:142: UserWarning: ../../datasets/aurora/instagan/train/sampleA_seg/826_1.png is a boolean image: setting True to 1 and False to 0\n",
      "  warn('%s is a boolean image: setting True to 1 and False to 0' % fname)\n"
     ]
    },
    {
     "name": "stdout",
     "output_type": "stream",
     "text": [
      "Processing image ../../datasets/cityscapes-dataset/leftImg8bit_trainvaltest/leftImg8bit/train/tubingen/tubingen_000041_000019_leftImg8bit.png\n"
     ]
    },
    {
     "name": "stderr",
     "output_type": "stream",
     "text": [
      "/usr/local/lib/python3.7/site-packages/skimage/io/_io.py:142: UserWarning: ../../datasets/aurora/instagan/train/sampleA_seg/827_0.png is a boolean image: setting True to 1 and False to 0\n",
      "  warn('%s is a boolean image: setting True to 1 and False to 0' % fname)\n",
      "/usr/local/lib/python3.7/site-packages/skimage/io/_io.py:140: UserWarning: ../../datasets/aurora/instagan/train/sampleA_seg/827_1.png is a low contrast image\n",
      "  warn('%s is a low contrast image' % fname)\n",
      "/usr/local/lib/python3.7/site-packages/skimage/io/_io.py:142: UserWarning: ../../datasets/aurora/instagan/train/sampleA_seg/827_1.png is a boolean image: setting True to 1 and False to 0\n",
      "  warn('%s is a boolean image: setting True to 1 and False to 0' % fname)\n",
      "/usr/local/lib/python3.7/site-packages/skimage/io/_io.py:140: UserWarning: ../../datasets/aurora/instagan/train/sampleA_seg/827_2.png is a low contrast image\n",
      "  warn('%s is a low contrast image' % fname)\n",
      "/usr/local/lib/python3.7/site-packages/skimage/io/_io.py:142: UserWarning: ../../datasets/aurora/instagan/train/sampleA_seg/827_2.png is a boolean image: setting True to 1 and False to 0\n",
      "  warn('%s is a boolean image: setting True to 1 and False to 0' % fname)\n",
      "/usr/local/lib/python3.7/site-packages/skimage/io/_io.py:140: UserWarning: ../../datasets/aurora/instagan/train/sampleA_seg/827_3.png is a low contrast image\n",
      "  warn('%s is a low contrast image' % fname)\n",
      "/usr/local/lib/python3.7/site-packages/skimage/io/_io.py:142: UserWarning: ../../datasets/aurora/instagan/train/sampleA_seg/827_3.png is a boolean image: setting True to 1 and False to 0\n",
      "  warn('%s is a boolean image: setting True to 1 and False to 0' % fname)\n",
      "/usr/local/lib/python3.7/site-packages/skimage/io/_io.py:142: UserWarning: ../../datasets/aurora/instagan/train/sampleA_seg/827_4.png is a boolean image: setting True to 1 and False to 0\n",
      "  warn('%s is a boolean image: setting True to 1 and False to 0' % fname)\n",
      "/usr/local/lib/python3.7/site-packages/skimage/io/_io.py:140: UserWarning: ../../datasets/aurora/instagan/train/sampleA_seg/827_5.png is a low contrast image\n",
      "  warn('%s is a low contrast image' % fname)\n",
      "/usr/local/lib/python3.7/site-packages/skimage/io/_io.py:142: UserWarning: ../../datasets/aurora/instagan/train/sampleA_seg/827_5.png is a boolean image: setting True to 1 and False to 0\n",
      "  warn('%s is a boolean image: setting True to 1 and False to 0' % fname)\n"
     ]
    },
    {
     "name": "stdout",
     "output_type": "stream",
     "text": [
      "Processing image ../../datasets/cityscapes-dataset/leftImg8bit_trainvaltest/leftImg8bit/train/tubingen/tubingen_000080_000019_leftImg8bit.png\n"
     ]
    },
    {
     "name": "stderr",
     "output_type": "stream",
     "text": [
      "/usr/local/lib/python3.7/site-packages/skimage/io/_io.py:142: UserWarning: ../../datasets/aurora/instagan/train/sampleA_seg/828_0.png is a boolean image: setting True to 1 and False to 0\n",
      "  warn('%s is a boolean image: setting True to 1 and False to 0' % fname)\n",
      "/usr/local/lib/python3.7/site-packages/skimage/io/_io.py:142: UserWarning: ../../datasets/aurora/instagan/train/sampleA_seg/828_1.png is a boolean image: setting True to 1 and False to 0\n",
      "  warn('%s is a boolean image: setting True to 1 and False to 0' % fname)\n",
      "/usr/local/lib/python3.7/site-packages/skimage/io/_io.py:142: UserWarning: ../../datasets/aurora/instagan/train/sampleA_seg/828_2.png is a boolean image: setting True to 1 and False to 0\n",
      "  warn('%s is a boolean image: setting True to 1 and False to 0' % fname)\n"
     ]
    },
    {
     "name": "stdout",
     "output_type": "stream",
     "text": [
      "Processing image ../../datasets/cityscapes-dataset/leftImg8bit_trainvaltest/leftImg8bit/train/tubingen/tubingen_000138_000019_leftImg8bit.png\n"
     ]
    },
    {
     "name": "stderr",
     "output_type": "stream",
     "text": [
      "/usr/local/lib/python3.7/site-packages/skimage/io/_io.py:140: UserWarning: ../../datasets/aurora/instagan/train/sampleA_seg/829_0.png is a low contrast image\n",
      "  warn('%s is a low contrast image' % fname)\n",
      "/usr/local/lib/python3.7/site-packages/skimage/io/_io.py:142: UserWarning: ../../datasets/aurora/instagan/train/sampleA_seg/829_0.png is a boolean image: setting True to 1 and False to 0\n",
      "  warn('%s is a boolean image: setting True to 1 and False to 0' % fname)\n",
      "/usr/local/lib/python3.7/site-packages/skimage/io/_io.py:142: UserWarning: ../../datasets/aurora/instagan/train/sampleA_seg/829_1.png is a boolean image: setting True to 1 and False to 0\n",
      "  warn('%s is a boolean image: setting True to 1 and False to 0' % fname)\n"
     ]
    },
    {
     "name": "stdout",
     "output_type": "stream",
     "text": [
      "Processing image ../../datasets/cityscapes-dataset/leftImg8bit_trainvaltest/leftImg8bit/train/tubingen/tubingen_000008_000019_leftImg8bit.png\n"
     ]
    },
    {
     "name": "stderr",
     "output_type": "stream",
     "text": [
      "/usr/local/lib/python3.7/site-packages/skimage/io/_io.py:142: UserWarning: ../../datasets/aurora/instagan/train/sampleA_seg/830_0.png is a boolean image: setting True to 1 and False to 0\n",
      "  warn('%s is a boolean image: setting True to 1 and False to 0' % fname)\n",
      "/usr/local/lib/python3.7/site-packages/skimage/io/_io.py:142: UserWarning: ../../datasets/aurora/instagan/train/sampleA_seg/830_1.png is a boolean image: setting True to 1 and False to 0\n",
      "  warn('%s is a boolean image: setting True to 1 and False to 0' % fname)\n",
      "/usr/local/lib/python3.7/site-packages/skimage/io/_io.py:142: UserWarning: ../../datasets/aurora/instagan/train/sampleA_seg/830_2.png is a boolean image: setting True to 1 and False to 0\n",
      "  warn('%s is a boolean image: setting True to 1 and False to 0' % fname)\n",
      "/usr/local/lib/python3.7/site-packages/skimage/io/_io.py:142: UserWarning: ../../datasets/aurora/instagan/train/sampleA_seg/830_3.png is a boolean image: setting True to 1 and False to 0\n",
      "  warn('%s is a boolean image: setting True to 1 and False to 0' % fname)\n"
     ]
    },
    {
     "name": "stdout",
     "output_type": "stream",
     "text": [
      "Processing image ../../datasets/cityscapes-dataset/leftImg8bit_trainvaltest/leftImg8bit/train/tubingen/tubingen_000104_000019_leftImg8bit.png\n",
      "Processing image ../../datasets/cityscapes-dataset/leftImg8bit_trainvaltest/leftImg8bit/train/tubingen/tubingen_000077_000019_leftImg8bit.png\n"
     ]
    },
    {
     "name": "stderr",
     "output_type": "stream",
     "text": [
      "/usr/local/lib/python3.7/site-packages/skimage/io/_io.py:142: UserWarning: ../../datasets/aurora/instagan/train/sampleA_seg/832_0.png is a boolean image: setting True to 1 and False to 0\n",
      "  warn('%s is a boolean image: setting True to 1 and False to 0' % fname)\n"
     ]
    },
    {
     "name": "stdout",
     "output_type": "stream",
     "text": [
      "Processing image ../../datasets/cityscapes-dataset/leftImg8bit_trainvaltest/leftImg8bit/train/tubingen/tubingen_000002_000019_leftImg8bit.png\n"
     ]
    },
    {
     "name": "stderr",
     "output_type": "stream",
     "text": [
      "/usr/local/lib/python3.7/site-packages/skimage/io/_io.py:142: UserWarning: ../../datasets/aurora/instagan/train/sampleA_seg/833_0.png is a boolean image: setting True to 1 and False to 0\n",
      "  warn('%s is a boolean image: setting True to 1 and False to 0' % fname)\n",
      "/usr/local/lib/python3.7/site-packages/skimage/io/_io.py:142: UserWarning: ../../datasets/aurora/instagan/train/sampleA_seg/833_1.png is a boolean image: setting True to 1 and False to 0\n",
      "  warn('%s is a boolean image: setting True to 1 and False to 0' % fname)\n",
      "/usr/local/lib/python3.7/site-packages/skimage/io/_io.py:142: UserWarning: ../../datasets/aurora/instagan/train/sampleA_seg/833_2.png is a boolean image: setting True to 1 and False to 0\n",
      "  warn('%s is a boolean image: setting True to 1 and False to 0' % fname)\n"
     ]
    },
    {
     "name": "stdout",
     "output_type": "stream",
     "text": [
      "Processing image ../../datasets/cityscapes-dataset/leftImg8bit_trainvaltest/leftImg8bit/train/tubingen/tubingen_000140_000019_leftImg8bit.png\n"
     ]
    },
    {
     "name": "stderr",
     "output_type": "stream",
     "text": [
      "/usr/local/lib/python3.7/site-packages/skimage/io/_io.py:142: UserWarning: ../../datasets/aurora/instagan/train/sampleA_seg/834_0.png is a boolean image: setting True to 1 and False to 0\n",
      "  warn('%s is a boolean image: setting True to 1 and False to 0' % fname)\n",
      "/usr/local/lib/python3.7/site-packages/skimage/io/_io.py:142: UserWarning: ../../datasets/aurora/instagan/train/sampleA_seg/834_1.png is a boolean image: setting True to 1 and False to 0\n",
      "  warn('%s is a boolean image: setting True to 1 and False to 0' % fname)\n"
     ]
    },
    {
     "name": "stdout",
     "output_type": "stream",
     "text": [
      "Processing image ../../datasets/cityscapes-dataset/leftImg8bit_trainvaltest/leftImg8bit/train/tubingen/tubingen_000033_000019_leftImg8bit.png\n"
     ]
    },
    {
     "name": "stderr",
     "output_type": "stream",
     "text": [
      "/usr/local/lib/python3.7/site-packages/skimage/io/_io.py:142: UserWarning: ../../datasets/aurora/instagan/train/sampleA_seg/835_0.png is a boolean image: setting True to 1 and False to 0\n",
      "  warn('%s is a boolean image: setting True to 1 and False to 0' % fname)\n",
      "/usr/local/lib/python3.7/site-packages/skimage/io/_io.py:142: UserWarning: ../../datasets/aurora/instagan/train/sampleA_seg/835_1.png is a boolean image: setting True to 1 and False to 0\n",
      "  warn('%s is a boolean image: setting True to 1 and False to 0' % fname)\n",
      "/usr/local/lib/python3.7/site-packages/skimage/io/_io.py:142: UserWarning: ../../datasets/aurora/instagan/train/sampleA_seg/835_2.png is a boolean image: setting True to 1 and False to 0\n",
      "  warn('%s is a boolean image: setting True to 1 and False to 0' % fname)\n",
      "/usr/local/lib/python3.7/site-packages/skimage/io/_io.py:142: UserWarning: ../../datasets/aurora/instagan/train/sampleA_seg/835_3.png is a boolean image: setting True to 1 and False to 0\n",
      "  warn('%s is a boolean image: setting True to 1 and False to 0' % fname)\n"
     ]
    },
    {
     "name": "stdout",
     "output_type": "stream",
     "text": [
      "Processing image ../../datasets/cityscapes-dataset/leftImg8bit_trainvaltest/leftImg8bit/train/tubingen/tubingen_000135_000019_leftImg8bit.png\n"
     ]
    },
    {
     "name": "stderr",
     "output_type": "stream",
     "text": [
      "/usr/local/lib/python3.7/site-packages/skimage/io/_io.py:142: UserWarning: ../../datasets/aurora/instagan/train/sampleA_seg/836_0.png is a boolean image: setting True to 1 and False to 0\n",
      "  warn('%s is a boolean image: setting True to 1 and False to 0' % fname)\n",
      "/usr/local/lib/python3.7/site-packages/skimage/io/_io.py:142: UserWarning: ../../datasets/aurora/instagan/train/sampleA_seg/836_1.png is a boolean image: setting True to 1 and False to 0\n",
      "  warn('%s is a boolean image: setting True to 1 and False to 0' % fname)\n",
      "/usr/local/lib/python3.7/site-packages/skimage/io/_io.py:142: UserWarning: ../../datasets/aurora/instagan/train/sampleA_seg/836_2.png is a boolean image: setting True to 1 and False to 0\n",
      "  warn('%s is a boolean image: setting True to 1 and False to 0' % fname)\n",
      "/usr/local/lib/python3.7/site-packages/skimage/io/_io.py:140: UserWarning: ../../datasets/aurora/instagan/train/sampleA_seg/836_3.png is a low contrast image\n",
      "  warn('%s is a low contrast image' % fname)\n",
      "/usr/local/lib/python3.7/site-packages/skimage/io/_io.py:142: UserWarning: ../../datasets/aurora/instagan/train/sampleA_seg/836_3.png is a boolean image: setting True to 1 and False to 0\n",
      "  warn('%s is a boolean image: setting True to 1 and False to 0' % fname)\n"
     ]
    },
    {
     "name": "stdout",
     "output_type": "stream",
     "text": [
      "Processing image ../../datasets/cityscapes-dataset/leftImg8bit_trainvaltest/leftImg8bit/train/tubingen/tubingen_000046_000019_leftImg8bit.png\n"
     ]
    },
    {
     "name": "stderr",
     "output_type": "stream",
     "text": [
      "/usr/local/lib/python3.7/site-packages/skimage/io/_io.py:140: UserWarning: ../../datasets/aurora/instagan/train/sampleA_seg/837_0.png is a low contrast image\n",
      "  warn('%s is a low contrast image' % fname)\n",
      "/usr/local/lib/python3.7/site-packages/skimage/io/_io.py:142: UserWarning: ../../datasets/aurora/instagan/train/sampleA_seg/837_0.png is a boolean image: setting True to 1 and False to 0\n",
      "  warn('%s is a boolean image: setting True to 1 and False to 0' % fname)\n",
      "/usr/local/lib/python3.7/site-packages/skimage/io/_io.py:140: UserWarning: ../../datasets/aurora/instagan/train/sampleA_seg/837_1.png is a low contrast image\n",
      "  warn('%s is a low contrast image' % fname)\n",
      "/usr/local/lib/python3.7/site-packages/skimage/io/_io.py:142: UserWarning: ../../datasets/aurora/instagan/train/sampleA_seg/837_1.png is a boolean image: setting True to 1 and False to 0\n",
      "  warn('%s is a boolean image: setting True to 1 and False to 0' % fname)\n",
      "/usr/local/lib/python3.7/site-packages/skimage/io/_io.py:142: UserWarning: ../../datasets/aurora/instagan/train/sampleA_seg/837_2.png is a boolean image: setting True to 1 and False to 0\n",
      "  warn('%s is a boolean image: setting True to 1 and False to 0' % fname)\n",
      "/usr/local/lib/python3.7/site-packages/skimage/io/_io.py:142: UserWarning: ../../datasets/aurora/instagan/train/sampleA_seg/837_3.png is a boolean image: setting True to 1 and False to 0\n",
      "  warn('%s is a boolean image: setting True to 1 and False to 0' % fname)\n",
      "/usr/local/lib/python3.7/site-packages/skimage/io/_io.py:142: UserWarning: ../../datasets/aurora/instagan/train/sampleA_seg/837_4.png is a boolean image: setting True to 1 and False to 0\n",
      "  warn('%s is a boolean image: setting True to 1 and False to 0' % fname)\n"
     ]
    },
    {
     "name": "stdout",
     "output_type": "stream",
     "text": [
      "Processing image ../../datasets/cityscapes-dataset/leftImg8bit_trainvaltest/leftImg8bit/train/tubingen/tubingen_000087_000019_leftImg8bit.png\n"
     ]
    },
    {
     "name": "stderr",
     "output_type": "stream",
     "text": [
      "/usr/local/lib/python3.7/site-packages/skimage/io/_io.py:142: UserWarning: ../../datasets/aurora/instagan/train/sampleA_seg/838_0.png is a boolean image: setting True to 1 and False to 0\n",
      "  warn('%s is a boolean image: setting True to 1 and False to 0' % fname)\n",
      "/usr/local/lib/python3.7/site-packages/skimage/io/_io.py:142: UserWarning: ../../datasets/aurora/instagan/train/sampleA_seg/838_1.png is a boolean image: setting True to 1 and False to 0\n",
      "  warn('%s is a boolean image: setting True to 1 and False to 0' % fname)\n"
     ]
    },
    {
     "name": "stdout",
     "output_type": "stream",
     "text": [
      "Processing image ../../datasets/cityscapes-dataset/leftImg8bit_trainvaltest/leftImg8bit/train/tubingen/tubingen_000039_000019_leftImg8bit.png\n"
     ]
    },
    {
     "name": "stderr",
     "output_type": "stream",
     "text": [
      "/usr/local/lib/python3.7/site-packages/skimage/io/_io.py:140: UserWarning: ../../datasets/aurora/instagan/train/sampleA_seg/839_0.png is a low contrast image\n",
      "  warn('%s is a low contrast image' % fname)\n",
      "/usr/local/lib/python3.7/site-packages/skimage/io/_io.py:142: UserWarning: ../../datasets/aurora/instagan/train/sampleA_seg/839_0.png is a boolean image: setting True to 1 and False to 0\n",
      "  warn('%s is a boolean image: setting True to 1 and False to 0' % fname)\n",
      "/usr/local/lib/python3.7/site-packages/skimage/io/_io.py:142: UserWarning: ../../datasets/aurora/instagan/train/sampleA_seg/839_1.png is a boolean image: setting True to 1 and False to 0\n",
      "  warn('%s is a boolean image: setting True to 1 and False to 0' % fname)\n",
      "/usr/local/lib/python3.7/site-packages/skimage/io/_io.py:142: UserWarning: ../../datasets/aurora/instagan/train/sampleA_seg/839_2.png is a boolean image: setting True to 1 and False to 0\n",
      "  warn('%s is a boolean image: setting True to 1 and False to 0' % fname)\n",
      "/usr/local/lib/python3.7/site-packages/skimage/io/_io.py:142: UserWarning: ../../datasets/aurora/instagan/train/sampleA_seg/839_3.png is a boolean image: setting True to 1 and False to 0\n",
      "  warn('%s is a boolean image: setting True to 1 and False to 0' % fname)\n",
      "/usr/local/lib/python3.7/site-packages/skimage/io/_io.py:140: UserWarning: ../../datasets/aurora/instagan/train/sampleA_seg/839_4.png is a low contrast image\n",
      "  warn('%s is a low contrast image' % fname)\n",
      "/usr/local/lib/python3.7/site-packages/skimage/io/_io.py:142: UserWarning: ../../datasets/aurora/instagan/train/sampleA_seg/839_4.png is a boolean image: setting True to 1 and False to 0\n",
      "  warn('%s is a boolean image: setting True to 1 and False to 0' % fname)\n",
      "/usr/local/lib/python3.7/site-packages/skimage/io/_io.py:142: UserWarning: ../../datasets/aurora/instagan/train/sampleA_seg/839_5.png is a boolean image: setting True to 1 and False to 0\n",
      "  warn('%s is a boolean image: setting True to 1 and False to 0' % fname)\n"
     ]
    },
    {
     "name": "stdout",
     "output_type": "stream",
     "text": [
      "Processing image ../../datasets/cityscapes-dataset/leftImg8bit_trainvaltest/leftImg8bit/train/tubingen/tubingen_000038_000019_leftImg8bit.png\n"
     ]
    },
    {
     "name": "stderr",
     "output_type": "stream",
     "text": [
      "/usr/local/lib/python3.7/site-packages/skimage/io/_io.py:140: UserWarning: ../../datasets/aurora/instagan/train/sampleA_seg/840_0.png is a low contrast image\n",
      "  warn('%s is a low contrast image' % fname)\n",
      "/usr/local/lib/python3.7/site-packages/skimage/io/_io.py:142: UserWarning: ../../datasets/aurora/instagan/train/sampleA_seg/840_0.png is a boolean image: setting True to 1 and False to 0\n",
      "  warn('%s is a boolean image: setting True to 1 and False to 0' % fname)\n",
      "/usr/local/lib/python3.7/site-packages/skimage/io/_io.py:140: UserWarning: ../../datasets/aurora/instagan/train/sampleA_seg/840_1.png is a low contrast image\n",
      "  warn('%s is a low contrast image' % fname)\n",
      "/usr/local/lib/python3.7/site-packages/skimage/io/_io.py:142: UserWarning: ../../datasets/aurora/instagan/train/sampleA_seg/840_1.png is a boolean image: setting True to 1 and False to 0\n",
      "  warn('%s is a boolean image: setting True to 1 and False to 0' % fname)\n",
      "/usr/local/lib/python3.7/site-packages/skimage/io/_io.py:142: UserWarning: ../../datasets/aurora/instagan/train/sampleA_seg/840_2.png is a boolean image: setting True to 1 and False to 0\n",
      "  warn('%s is a boolean image: setting True to 1 and False to 0' % fname)\n",
      "/usr/local/lib/python3.7/site-packages/skimage/io/_io.py:142: UserWarning: ../../datasets/aurora/instagan/train/sampleA_seg/840_3.png is a boolean image: setting True to 1 and False to 0\n",
      "  warn('%s is a boolean image: setting True to 1 and False to 0' % fname)\n"
     ]
    },
    {
     "name": "stdout",
     "output_type": "stream",
     "text": [
      "Processing image ../../datasets/cityscapes-dataset/leftImg8bit_trainvaltest/leftImg8bit/train/tubingen/tubingen_000032_000019_leftImg8bit.png\n"
     ]
    },
    {
     "name": "stderr",
     "output_type": "stream",
     "text": [
      "/usr/local/lib/python3.7/site-packages/skimage/io/_io.py:142: UserWarning: ../../datasets/aurora/instagan/train/sampleA_seg/841_0.png is a boolean image: setting True to 1 and False to 0\n",
      "  warn('%s is a boolean image: setting True to 1 and False to 0' % fname)\n",
      "/usr/local/lib/python3.7/site-packages/skimage/io/_io.py:142: UserWarning: ../../datasets/aurora/instagan/train/sampleA_seg/841_1.png is a boolean image: setting True to 1 and False to 0\n",
      "  warn('%s is a boolean image: setting True to 1 and False to 0' % fname)\n"
     ]
    },
    {
     "name": "stdout",
     "output_type": "stream",
     "text": [
      "Processing image ../../datasets/cityscapes-dataset/leftImg8bit_trainvaltest/leftImg8bit/train/tubingen/tubingen_000141_000019_leftImg8bit.png\n"
     ]
    },
    {
     "name": "stderr",
     "output_type": "stream",
     "text": [
      "/usr/local/lib/python3.7/site-packages/skimage/io/_io.py:142: UserWarning: ../../datasets/aurora/instagan/train/sampleA_seg/842_0.png is a boolean image: setting True to 1 and False to 0\n",
      "  warn('%s is a boolean image: setting True to 1 and False to 0' % fname)\n",
      "/usr/local/lib/python3.7/site-packages/skimage/io/_io.py:142: UserWarning: ../../datasets/aurora/instagan/train/sampleA_seg/842_1.png is a boolean image: setting True to 1 and False to 0\n",
      "  warn('%s is a boolean image: setting True to 1 and False to 0' % fname)\n",
      "/usr/local/lib/python3.7/site-packages/skimage/io/_io.py:142: UserWarning: ../../datasets/aurora/instagan/train/sampleA_seg/842_2.png is a boolean image: setting True to 1 and False to 0\n",
      "  warn('%s is a boolean image: setting True to 1 and False to 0' % fname)\n",
      "/usr/local/lib/python3.7/site-packages/skimage/io/_io.py:140: UserWarning: ../../datasets/aurora/instagan/train/sampleA_seg/842_3.png is a low contrast image\n",
      "  warn('%s is a low contrast image' % fname)\n",
      "/usr/local/lib/python3.7/site-packages/skimage/io/_io.py:142: UserWarning: ../../datasets/aurora/instagan/train/sampleA_seg/842_3.png is a boolean image: setting True to 1 and False to 0\n",
      "  warn('%s is a boolean image: setting True to 1 and False to 0' % fname)\n"
     ]
    },
    {
     "name": "stdout",
     "output_type": "stream",
     "text": [
      "Processing image ../../datasets/cityscapes-dataset/leftImg8bit_trainvaltest/leftImg8bit/train/tubingen/tubingen_000086_000019_leftImg8bit.png\n"
     ]
    },
    {
     "name": "stderr",
     "output_type": "stream",
     "text": [
      "/usr/local/lib/python3.7/site-packages/skimage/io/_io.py:142: UserWarning: ../../datasets/aurora/instagan/train/sampleA_seg/843_0.png is a boolean image: setting True to 1 and False to 0\n",
      "  warn('%s is a boolean image: setting True to 1 and False to 0' % fname)\n",
      "/usr/local/lib/python3.7/site-packages/skimage/io/_io.py:142: UserWarning: ../../datasets/aurora/instagan/train/sampleA_seg/843_1.png is a boolean image: setting True to 1 and False to 0\n",
      "  warn('%s is a boolean image: setting True to 1 and False to 0' % fname)\n",
      "/usr/local/lib/python3.7/site-packages/skimage/io/_io.py:142: UserWarning: ../../datasets/aurora/instagan/train/sampleA_seg/843_2.png is a boolean image: setting True to 1 and False to 0\n",
      "  warn('%s is a boolean image: setting True to 1 and False to 0' % fname)\n"
     ]
    },
    {
     "name": "stdout",
     "output_type": "stream",
     "text": [
      "Processing image ../../datasets/cityscapes-dataset/leftImg8bit_trainvaltest/leftImg8bit/train/tubingen/tubingen_000047_000019_leftImg8bit.png\n"
     ]
    },
    {
     "name": "stderr",
     "output_type": "stream",
     "text": [
      "/usr/local/lib/python3.7/site-packages/skimage/io/_io.py:140: UserWarning: ../../datasets/aurora/instagan/train/sampleA_seg/844_0.png is a low contrast image\n",
      "  warn('%s is a low contrast image' % fname)\n",
      "/usr/local/lib/python3.7/site-packages/skimage/io/_io.py:142: UserWarning: ../../datasets/aurora/instagan/train/sampleA_seg/844_0.png is a boolean image: setting True to 1 and False to 0\n",
      "  warn('%s is a boolean image: setting True to 1 and False to 0' % fname)\n",
      "/usr/local/lib/python3.7/site-packages/skimage/io/_io.py:142: UserWarning: ../../datasets/aurora/instagan/train/sampleA_seg/844_1.png is a boolean image: setting True to 1 and False to 0\n",
      "  warn('%s is a boolean image: setting True to 1 and False to 0' % fname)\n",
      "/usr/local/lib/python3.7/site-packages/skimage/io/_io.py:142: UserWarning: ../../datasets/aurora/instagan/train/sampleA_seg/844_2.png is a boolean image: setting True to 1 and False to 0\n",
      "  warn('%s is a boolean image: setting True to 1 and False to 0' % fname)\n",
      "/usr/local/lib/python3.7/site-packages/skimage/io/_io.py:142: UserWarning: ../../datasets/aurora/instagan/train/sampleA_seg/844_3.png is a boolean image: setting True to 1 and False to 0\n",
      "  warn('%s is a boolean image: setting True to 1 and False to 0' % fname)\n"
     ]
    },
    {
     "name": "stdout",
     "output_type": "stream",
     "text": [
      "Processing image ../../datasets/cityscapes-dataset/leftImg8bit_trainvaltest/leftImg8bit/train/tubingen/tubingen_000134_000019_leftImg8bit.png\n"
     ]
    },
    {
     "name": "stderr",
     "output_type": "stream",
     "text": [
      "/usr/local/lib/python3.7/site-packages/skimage/io/_io.py:140: UserWarning: ../../datasets/aurora/instagan/train/sampleA_seg/845_0.png is a low contrast image\n",
      "  warn('%s is a low contrast image' % fname)\n",
      "/usr/local/lib/python3.7/site-packages/skimage/io/_io.py:142: UserWarning: ../../datasets/aurora/instagan/train/sampleA_seg/845_0.png is a boolean image: setting True to 1 and False to 0\n",
      "  warn('%s is a boolean image: setting True to 1 and False to 0' % fname)\n",
      "/usr/local/lib/python3.7/site-packages/skimage/io/_io.py:142: UserWarning: ../../datasets/aurora/instagan/train/sampleA_seg/845_1.png is a boolean image: setting True to 1 and False to 0\n",
      "  warn('%s is a boolean image: setting True to 1 and False to 0' % fname)\n",
      "/usr/local/lib/python3.7/site-packages/skimage/io/_io.py:142: UserWarning: ../../datasets/aurora/instagan/train/sampleA_seg/845_2.png is a boolean image: setting True to 1 and False to 0\n",
      "  warn('%s is a boolean image: setting True to 1 and False to 0' % fname)\n"
     ]
    },
    {
     "name": "stdout",
     "output_type": "stream",
     "text": [
      "Processing image ../../datasets/cityscapes-dataset/leftImg8bit_trainvaltest/leftImg8bit/train/tubingen/tubingen_000076_000019_leftImg8bit.png\n"
     ]
    },
    {
     "name": "stderr",
     "output_type": "stream",
     "text": [
      "/usr/local/lib/python3.7/site-packages/skimage/io/_io.py:142: UserWarning: ../../datasets/aurora/instagan/train/sampleA_seg/846_0.png is a boolean image: setting True to 1 and False to 0\n",
      "  warn('%s is a boolean image: setting True to 1 and False to 0' % fname)\n",
      "/usr/local/lib/python3.7/site-packages/skimage/io/_io.py:142: UserWarning: ../../datasets/aurora/instagan/train/sampleA_seg/846_1.png is a boolean image: setting True to 1 and False to 0\n",
      "  warn('%s is a boolean image: setting True to 1 and False to 0' % fname)\n"
     ]
    },
    {
     "name": "stdout",
     "output_type": "stream",
     "text": [
      "Processing image ../../datasets/cityscapes-dataset/leftImg8bit_trainvaltest/leftImg8bit/train/tubingen/tubingen_000105_000019_leftImg8bit.png\n"
     ]
    },
    {
     "name": "stderr",
     "output_type": "stream",
     "text": [
      "/usr/local/lib/python3.7/site-packages/skimage/io/_io.py:142: UserWarning: ../../datasets/aurora/instagan/train/sampleA_seg/847_0.png is a boolean image: setting True to 1 and False to 0\n",
      "  warn('%s is a boolean image: setting True to 1 and False to 0' % fname)\n"
     ]
    },
    {
     "name": "stdout",
     "output_type": "stream",
     "text": [
      "Processing image ../../datasets/cityscapes-dataset/leftImg8bit_trainvaltest/leftImg8bit/train/tubingen/tubingen_000003_000019_leftImg8bit.png\n"
     ]
    }
   ],
   "source": [
    "image_id = 0\n",
    "image_list = Path(CITYSCAPES_IMAGES).glob('**/*.png')\n",
    "for image_path in image_list:\n",
    "    city, image_file = str(image_path).split(os.sep)[-2:]\n",
    "    print('Processing image {}'.format(image_path))\n",
    "    image = load_image(image_path)\n",
    "    image_out_path = os.path.join(TRAIN_IMAGES_A, '{}.png'.format(image_id))\n",
    "    # print('Saving image as {}'.format(image_out_path))\n",
    "    skimage.io.imsave(image_out_path, image)\n",
    "    masks, class_ids = load_masks(CITYSCAPES_MASKS, city, image_file)    # Ignore class IDs    \n",
    "    # display_top_masks(image, masks, class_ids)    \n",
    "    # print('masks.shape={}'.format(masks.shape))\n",
    "    for mask_id in range(masks.shape[2]):\n",
    "        mask = masks[:, :, mask_id]\n",
    "        mask_out_path = os.path.join(TRAIN_MASKS_A, '{}_{}.png'.format(image_id, mask_id))\n",
    "        # print('Saving mask as {}'.format(mask_out_path))\n",
    "        skimage.io.imsave(mask_out_path, mask)  \n",
    "    image_id += 1"
   ]
  },
  {
   "cell_type": "code",
   "execution_count": null,
   "metadata": {},
   "outputs": [],
   "source": []
  },
  {
   "cell_type": "code",
   "execution_count": null,
   "metadata": {},
   "outputs": [],
   "source": []
  }
 ],
 "metadata": {
  "kernelspec": {
   "display_name": "Python 3",
   "language": "python",
   "name": "python3"
  },
  "language_info": {
   "codemirror_mode": {
    "name": "ipython",
    "version": 3
   },
   "file_extension": ".py",
   "mimetype": "text/x-python",
   "name": "python",
   "nbconvert_exporter": "python",
   "pygments_lexer": "ipython3",
   "version": "3.7.4"
  }
 },
 "nbformat": 4,
 "nbformat_minor": 2
}
